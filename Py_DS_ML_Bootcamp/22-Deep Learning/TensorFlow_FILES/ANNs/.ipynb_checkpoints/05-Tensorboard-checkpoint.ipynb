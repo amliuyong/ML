{
 "cells": [
  {
   "cell_type": "markdown",
   "metadata": {},
   "source": [
    "# Tensorboard\n",
    "\n",
    "---\n",
    "---\n",
    "\n",
    "**NOTE: You must watch the corresponding video to understand this lecture. This notebook can't serve as a full guide. Please watch the video BEFORE posting questions to the QA forum.**\n",
    "\n",
    "---\n",
    "---\n",
    "\n",
    "Let's explore the built in data visualization capabilities that come with Tensorboard.\n",
    "\n",
    "Full official tutorial available here: https://www.tensorflow.org/tensorboard/get_started\n",
    "\n",
    "## Data"
   ]
  },
  {
   "cell_type": "code",
   "execution_count": 24,
   "metadata": {},
   "outputs": [
    {
     "name": "stdout",
     "output_type": "stream",
     "text": [
      "The tensorboard extension is already loaded. To reload it, use:\n",
      "  %reload_ext tensorboard\n"
     ]
    }
   ],
   "source": [
    "import pandas as pd\n",
    "import numpy as np\n",
    "%load_ext tensorboard\n"
   ]
  },
  {
   "cell_type": "code",
   "execution_count": 25,
   "metadata": {},
   "outputs": [],
   "source": [
    "df = pd.read_csv('../DATA/cancer_classification.csv')"
   ]
  },
  {
   "cell_type": "markdown",
   "metadata": {},
   "source": [
    "### Train Test Split"
   ]
  },
  {
   "cell_type": "code",
   "execution_count": 26,
   "metadata": {},
   "outputs": [],
   "source": [
    "X = df.drop('benign_0__mal_1',axis=1).values\n",
    "y = df['benign_0__mal_1'].values"
   ]
  },
  {
   "cell_type": "code",
   "execution_count": 27,
   "metadata": {},
   "outputs": [],
   "source": [
    "from sklearn.model_selection import train_test_split"
   ]
  },
  {
   "cell_type": "code",
   "execution_count": 28,
   "metadata": {},
   "outputs": [],
   "source": [
    "X_train, X_test, y_train, y_test = train_test_split(X,y,test_size=0.25,random_state=101)"
   ]
  },
  {
   "cell_type": "markdown",
   "metadata": {},
   "source": [
    "\n",
    "### Scaling Data"
   ]
  },
  {
   "cell_type": "code",
   "execution_count": 29,
   "metadata": {},
   "outputs": [],
   "source": [
    "from sklearn.preprocessing import MinMaxScaler"
   ]
  },
  {
   "cell_type": "code",
   "execution_count": 30,
   "metadata": {},
   "outputs": [],
   "source": [
    "scaler = MinMaxScaler()"
   ]
  },
  {
   "cell_type": "code",
   "execution_count": 31,
   "metadata": {},
   "outputs": [
    {
     "data": {
      "text/plain": [
       "MinMaxScaler(copy=True, feature_range=(0, 1))"
      ]
     },
     "execution_count": 31,
     "metadata": {},
     "output_type": "execute_result"
    }
   ],
   "source": [
    "scaler.fit(X_train)"
   ]
  },
  {
   "cell_type": "code",
   "execution_count": 32,
   "metadata": {},
   "outputs": [],
   "source": [
    "X_train = scaler.transform(X_train)\n",
    "X_test = scaler.transform(X_test)"
   ]
  },
  {
   "cell_type": "markdown",
   "metadata": {},
   "source": [
    "## Creating the Model"
   ]
  },
  {
   "cell_type": "code",
   "execution_count": 33,
   "metadata": {},
   "outputs": [],
   "source": [
    "import tensorflow as tf\n",
    "from tensorflow.keras.models import Sequential\n",
    "from tensorflow.keras.layers import Dense, Activation,Dropout"
   ]
  },
  {
   "cell_type": "code",
   "execution_count": 34,
   "metadata": {},
   "outputs": [],
   "source": [
    "from tensorflow.keras.callbacks import EarlyStopping,TensorBoard"
   ]
  },
  {
   "cell_type": "code",
   "execution_count": 35,
   "metadata": {},
   "outputs": [],
   "source": [
    "early_stop = EarlyStopping(monitor='val_loss', mode='min', verbose=1, patience=25)"
   ]
  },
  {
   "cell_type": "code",
   "execution_count": 36,
   "metadata": {},
   "outputs": [
    {
     "data": {
      "text/plain": [
       "'/Users/yongliu/Desktop/train/ML/Py_DS_ML_Bootcamp/22-Deep Learning/TensorFlow_FILES/ANNs'"
      ]
     },
     "execution_count": 36,
     "metadata": {},
     "output_type": "execute_result"
    }
   ],
   "source": [
    "pwd"
   ]
  },
  {
   "cell_type": "markdown",
   "metadata": {},
   "source": [
    "## Creating the Tensorboard Callback\n",
    "\n",
    "TensorBoard is a visualization tool provided with TensorFlow.\n",
    "\n",
    "This callback logs events for TensorBoard, including:\n",
    "* Metrics summary plots\n",
    "* Training graph visualization\n",
    "* Activation histograms\n",
    "* Sampled profiling\n",
    "\n",
    "If you have installed TensorFlow with pip, you should be able\n",
    "to launch TensorBoard from the command line:\n",
    "\n",
    "```sh\n",
    "tensorboard --logdir=path_to_your_logs\n",
    "```\n",
    "\n",
    "You can find more information about TensorBoard\n",
    "[here](https://www.tensorflow.org/tensorboard/).\n",
    "\n",
    "    Arguments:\n",
    "        log_dir: the path of the directory where to save the log files to be\n",
    "          parsed by TensorBoard.\n",
    "        histogram_freq: frequency (in epochs) at which to compute activation and\n",
    "          weight histograms for the layers of the model. If set to 0, histograms\n",
    "          won't be computed. Validation data (or split) must be specified for\n",
    "          histogram visualizations.\n",
    "        write_graph: whether to visualize the graph in TensorBoard. The log file\n",
    "          can become quite large when write_graph is set to True.\n",
    "        write_images: whether to write model weights to visualize as image in\n",
    "          TensorBoard.\n",
    "        update_freq: `'batch'` or `'epoch'` or integer. When using `'batch'`,\n",
    "          writes the losses and metrics to TensorBoard after each batch. The same\n",
    "          applies for `'epoch'`. If using an integer, let's say `1000`, the\n",
    "          callback will write the metrics and losses to TensorBoard every 1000\n",
    "          samples. Note that writing too frequently to TensorBoard can slow down\n",
    "          your training.\n",
    "        profile_batch: Profile the batch to sample compute characteristics. By\n",
    "          default, it will profile the second batch. Set profile_batch=0 to\n",
    "          disable profiling. Must run in TensorFlow eager mode.\n",
    "        embeddings_freq: frequency (in epochs) at which embedding layers will\n",
    "          be visualized. If set to 0, embeddings won't be visualized.\n",
    "       "
   ]
  },
  {
   "cell_type": "code",
   "execution_count": 37,
   "metadata": {},
   "outputs": [],
   "source": [
    "from datetime import datetime"
   ]
  },
  {
   "cell_type": "code",
   "execution_count": 38,
   "metadata": {},
   "outputs": [
    {
     "data": {
      "text/plain": [
       "'2020-04-23--1833'"
      ]
     },
     "execution_count": 38,
     "metadata": {},
     "output_type": "execute_result"
    }
   ],
   "source": [
    "datetime.now().strftime(\"%Y-%m-%d--%H%M\")"
   ]
  },
  {
   "cell_type": "code",
   "execution_count": 39,
   "metadata": {},
   "outputs": [],
   "source": [
    "# WINDOWS: Use \"logs\\\\fit\"\n",
    "# MACOS/LINUX: Use \"logs\\fit\"\n",
    "\n",
    "log_directory = 'logs/fit'\n",
    "\n",
    "# OPTIONAL: ADD A TIMESTAMP FOR UNIQUE FOLDER\n",
    "# timestamp = datetime.now().strftime(\"%Y-%m-%d--%H%M\")\n",
    "# log_directory = log_directory + '\\\\' + timestamp\n",
    "\n",
    "\n",
    "board = TensorBoard(log_dir=log_directory,histogram_freq=1,\n",
    "    write_graph=True,\n",
    "    write_images=True,\n",
    "    update_freq='epoch',\n",
    "    profile_batch=2,\n",
    "    embeddings_freq=1)"
   ]
  },
  {
   "cell_type": "markdown",
   "metadata": {},
   "source": [
    "Now create the model layers:"
   ]
  },
  {
   "cell_type": "code",
   "execution_count": 40,
   "metadata": {},
   "outputs": [],
   "source": [
    "model = Sequential()\n",
    "model.add(Dense(units=30,activation='relu'))\n",
    "model.add(Dropout(0.5))\n",
    "model.add(Dense(units=15,activation='relu'))\n",
    "model.add(Dropout(0.5))\n",
    "model.add(Dense(units=1,activation='sigmoid'))\n",
    "model.compile(loss='binary_crossentropy', optimizer='adam')"
   ]
  },
  {
   "cell_type": "markdown",
   "metadata": {},
   "source": [
    "## Train the Model"
   ]
  },
  {
   "cell_type": "code",
   "execution_count": 41,
   "metadata": {},
   "outputs": [
    {
     "name": "stdout",
     "output_type": "stream",
     "text": [
      "Train on 426 samples, validate on 143 samples\n",
      "Epoch 1/600\n",
      "426/426 [==============================] - 2s 4ms/sample - loss: 0.6847 - val_loss: 0.6763\n",
      "Epoch 2/600\n",
      "426/426 [==============================] - 0s 349us/sample - loss: 0.6714 - val_loss: 0.6491\n",
      "Epoch 3/600\n",
      "426/426 [==============================] - 0s 334us/sample - loss: 0.6523 - val_loss: 0.6186\n",
      "Epoch 4/600\n",
      "426/426 [==============================] - 0s 323us/sample - loss: 0.6309 - val_loss: 0.5889\n",
      "Epoch 5/600\n",
      "426/426 [==============================] - 0s 350us/sample - loss: 0.6154 - val_loss: 0.5609\n",
      "Epoch 6/600\n",
      "426/426 [==============================] - 0s 344us/sample - loss: 0.6020 - val_loss: 0.5307\n",
      "Epoch 7/600\n",
      "426/426 [==============================] - 0s 332us/sample - loss: 0.5516 - val_loss: 0.4968\n",
      "Epoch 8/600\n",
      "426/426 [==============================] - 0s 348us/sample - loss: 0.5486 - val_loss: 0.4683\n",
      "Epoch 9/600\n",
      "426/426 [==============================] - 0s 325us/sample - loss: 0.5171 - val_loss: 0.4410\n",
      "Epoch 10/600\n",
      "426/426 [==============================] - 0s 343us/sample - loss: 0.4980 - val_loss: 0.4199\n",
      "Epoch 11/600\n",
      "426/426 [==============================] - 0s 328us/sample - loss: 0.4702 - val_loss: 0.4026\n",
      "Epoch 12/600\n",
      "426/426 [==============================] - 0s 332us/sample - loss: 0.4451 - val_loss: 0.3790\n",
      "Epoch 13/600\n",
      "426/426 [==============================] - 0s 387us/sample - loss: 0.4379 - val_loss: 0.3526\n",
      "Epoch 14/600\n",
      "426/426 [==============================] - 0s 331us/sample - loss: 0.4501 - val_loss: 0.3370\n",
      "Epoch 15/600\n",
      "426/426 [==============================] - 0s 413us/sample - loss: 0.4109 - val_loss: 0.3267\n",
      "Epoch 16/600\n",
      "426/426 [==============================] - 0s 393us/sample - loss: 0.4199 - val_loss: 0.3141\n",
      "Epoch 17/600\n",
      "426/426 [==============================] - 0s 400us/sample - loss: 0.3864 - val_loss: 0.3018\n",
      "Epoch 18/600\n",
      "426/426 [==============================] - 0s 402us/sample - loss: 0.3998 - val_loss: 0.2908\n",
      "Epoch 19/600\n",
      "426/426 [==============================] - 0s 542us/sample - loss: 0.3872 - val_loss: 0.2779\n",
      "Epoch 20/600\n",
      "426/426 [==============================] - 0s 473us/sample - loss: 0.3272 - val_loss: 0.2613\n",
      "Epoch 21/600\n",
      "426/426 [==============================] - 0s 324us/sample - loss: 0.3352 - val_loss: 0.2504\n",
      "Epoch 22/600\n",
      "426/426 [==============================] - 0s 336us/sample - loss: 0.3164 - val_loss: 0.2385\n",
      "Epoch 23/600\n",
      "426/426 [==============================] - 0s 355us/sample - loss: 0.3097 - val_loss: 0.2311\n",
      "Epoch 24/600\n",
      "426/426 [==============================] - 0s 397us/sample - loss: 0.3399 - val_loss: 0.2192\n",
      "Epoch 25/600\n",
      "426/426 [==============================] - 0s 338us/sample - loss: 0.3178 - val_loss: 0.2120\n",
      "Epoch 26/600\n",
      "426/426 [==============================] - 0s 335us/sample - loss: 0.3321 - val_loss: 0.2055\n",
      "Epoch 27/600\n",
      "426/426 [==============================] - 0s 323us/sample - loss: 0.2783 - val_loss: 0.2020\n",
      "Epoch 28/600\n",
      "426/426 [==============================] - 0s 318us/sample - loss: 0.2704 - val_loss: 0.1921\n",
      "Epoch 29/600\n",
      "426/426 [==============================] - 0s 322us/sample - loss: 0.3112 - val_loss: 0.1937\n",
      "Epoch 30/600\n",
      "426/426 [==============================] - 0s 332us/sample - loss: 0.2837 - val_loss: 0.1845\n",
      "Epoch 31/600\n",
      "426/426 [==============================] - 0s 332us/sample - loss: 0.3005 - val_loss: 0.1789\n",
      "Epoch 32/600\n",
      "426/426 [==============================] - 0s 329us/sample - loss: 0.2535 - val_loss: 0.1743\n",
      "Epoch 33/600\n",
      "426/426 [==============================] - 0s 405us/sample - loss: 0.2503 - val_loss: 0.1718\n",
      "Epoch 34/600\n",
      "426/426 [==============================] - 0s 420us/sample - loss: 0.2419 - val_loss: 0.1665\n",
      "Epoch 35/600\n",
      "426/426 [==============================] - 0s 390us/sample - loss: 0.2506 - val_loss: 0.1633\n",
      "Epoch 36/600\n",
      "426/426 [==============================] - 0s 375us/sample - loss: 0.2096 - val_loss: 0.1467\n",
      "Epoch 37/600\n",
      "426/426 [==============================] - 0s 389us/sample - loss: 0.2627 - val_loss: 0.1471\n",
      "Epoch 38/600\n",
      "426/426 [==============================] - 0s 363us/sample - loss: 0.2384 - val_loss: 0.1569\n",
      "Epoch 39/600\n",
      "426/426 [==============================] - 0s 347us/sample - loss: 0.2279 - val_loss: 0.1504\n",
      "Epoch 40/600\n",
      "426/426 [==============================] - 0s 332us/sample - loss: 0.2138 - val_loss: 0.1442\n",
      "Epoch 41/600\n",
      "426/426 [==============================] - 0s 321us/sample - loss: 0.2145 - val_loss: 0.1454\n",
      "Epoch 42/600\n",
      "426/426 [==============================] - 0s 348us/sample - loss: 0.2194 - val_loss: 0.1346\n",
      "Epoch 43/600\n",
      "426/426 [==============================] - 0s 361us/sample - loss: 0.2201 - val_loss: 0.1369\n",
      "Epoch 44/600\n",
      "426/426 [==============================] - 0s 345us/sample - loss: 0.2068 - val_loss: 0.1417\n",
      "Epoch 45/600\n",
      "426/426 [==============================] - 0s 333us/sample - loss: 0.2154 - val_loss: 0.1449\n",
      "Epoch 46/600\n",
      "426/426 [==============================] - 0s 409us/sample - loss: 0.2135 - val_loss: 0.1320\n",
      "Epoch 47/600\n",
      "426/426 [==============================] - 0s 368us/sample - loss: 0.1908 - val_loss: 0.1305\n",
      "Epoch 48/600\n",
      "426/426 [==============================] - 0s 358us/sample - loss: 0.1761 - val_loss: 0.1285\n",
      "Epoch 49/600\n",
      "426/426 [==============================] - 0s 359us/sample - loss: 0.2008 - val_loss: 0.1195\n",
      "Epoch 50/600\n",
      "426/426 [==============================] - 0s 384us/sample - loss: 0.1741 - val_loss: 0.1287\n",
      "Epoch 51/600\n",
      "426/426 [==============================] - 0s 387us/sample - loss: 0.1759 - val_loss: 0.1251\n",
      "Epoch 52/600\n",
      "426/426 [==============================] - 0s 387us/sample - loss: 0.1704 - val_loss: 0.1201\n",
      "Epoch 53/600\n",
      "426/426 [==============================] - 0s 340us/sample - loss: 0.1710 - val_loss: 0.1169\n",
      "Epoch 54/600\n",
      "426/426 [==============================] - 0s 335us/sample - loss: 0.1710 - val_loss: 0.1229\n",
      "Epoch 55/600\n",
      "426/426 [==============================] - 0s 308us/sample - loss: 0.1699 - val_loss: 0.1219\n",
      "Epoch 56/600\n",
      "426/426 [==============================] - 0s 344us/sample - loss: 0.1474 - val_loss: 0.1268\n",
      "Epoch 57/600\n",
      "426/426 [==============================] - 0s 360us/sample - loss: 0.1811 - val_loss: 0.1213\n",
      "Epoch 58/600\n",
      "426/426 [==============================] - 0s 319us/sample - loss: 0.1738 - val_loss: 0.1122\n",
      "Epoch 59/600\n",
      "426/426 [==============================] - 0s 337us/sample - loss: 0.1716 - val_loss: 0.1252\n",
      "Epoch 60/600\n",
      "426/426 [==============================] - 0s 340us/sample - loss: 0.1558 - val_loss: 0.1237\n",
      "Epoch 61/600\n",
      "426/426 [==============================] - 0s 327us/sample - loss: 0.1631 - val_loss: 0.1050\n",
      "Epoch 62/600\n",
      "426/426 [==============================] - 0s 333us/sample - loss: 0.1688 - val_loss: 0.1188\n",
      "Epoch 63/600\n",
      "426/426 [==============================] - 0s 328us/sample - loss: 0.1409 - val_loss: 0.1108\n",
      "Epoch 64/600\n",
      "426/426 [==============================] - 0s 402us/sample - loss: 0.1334 - val_loss: 0.1059\n",
      "Epoch 65/600\n",
      "426/426 [==============================] - 0s 339us/sample - loss: 0.1591 - val_loss: 0.1077\n",
      "Epoch 66/600\n",
      "426/426 [==============================] - 0s 318us/sample - loss: 0.1523 - val_loss: 0.1114\n",
      "Epoch 67/600\n",
      "426/426 [==============================] - 0s 325us/sample - loss: 0.1471 - val_loss: 0.1063\n",
      "Epoch 68/600\n",
      "426/426 [==============================] - 0s 378us/sample - loss: 0.1380 - val_loss: 0.1071\n",
      "Epoch 69/600\n",
      "426/426 [==============================] - 0s 314us/sample - loss: 0.1294 - val_loss: 0.1189\n",
      "Epoch 70/600\n",
      "426/426 [==============================] - 0s 343us/sample - loss: 0.1445 - val_loss: 0.1039\n",
      "Epoch 71/600\n",
      "426/426 [==============================] - 0s 323us/sample - loss: 0.1388 - val_loss: 0.1107\n",
      "Epoch 72/600\n",
      "426/426 [==============================] - 0s 317us/sample - loss: 0.1545 - val_loss: 0.1117\n",
      "Epoch 73/600\n",
      "426/426 [==============================] - 0s 328us/sample - loss: 0.1180 - val_loss: 0.1068\n",
      "Epoch 74/600\n",
      "426/426 [==============================] - 0s 316us/sample - loss: 0.1361 - val_loss: 0.1059\n",
      "Epoch 75/600\n",
      "426/426 [==============================] - 0s 317us/sample - loss: 0.1483 - val_loss: 0.1061\n",
      "Epoch 76/600\n",
      "426/426 [==============================] - 0s 323us/sample - loss: 0.1281 - val_loss: 0.1122\n",
      "Epoch 77/600\n",
      "426/426 [==============================] - 0s 318us/sample - loss: 0.1307 - val_loss: 0.1107\n"
     ]
    },
    {
     "name": "stdout",
     "output_type": "stream",
     "text": [
      "Epoch 78/600\n",
      "426/426 [==============================] - 0s 348us/sample - loss: 0.1297 - val_loss: 0.1067\n",
      "Epoch 79/600\n",
      "426/426 [==============================] - 0s 335us/sample - loss: 0.1428 - val_loss: 0.1045\n",
      "Epoch 80/600\n",
      "426/426 [==============================] - 0s 318us/sample - loss: 0.1098 - val_loss: 0.1145\n",
      "Epoch 81/600\n",
      "426/426 [==============================] - 0s 324us/sample - loss: 0.1409 - val_loss: 0.1031\n",
      "Epoch 82/600\n",
      "426/426 [==============================] - 0s 329us/sample - loss: 0.1313 - val_loss: 0.1001\n",
      "Epoch 83/600\n",
      "426/426 [==============================] - 0s 314us/sample - loss: 0.1179 - val_loss: 0.1143\n",
      "Epoch 84/600\n",
      "426/426 [==============================] - 0s 341us/sample - loss: 0.1294 - val_loss: 0.1132\n",
      "Epoch 85/600\n",
      "426/426 [==============================] - 0s 310us/sample - loss: 0.1154 - val_loss: 0.1002\n",
      "Epoch 86/600\n",
      "426/426 [==============================] - 0s 311us/sample - loss: 0.1345 - val_loss: 0.1023\n",
      "Epoch 87/600\n",
      "426/426 [==============================] - 0s 314us/sample - loss: 0.1045 - val_loss: 0.1062\n",
      "Epoch 88/600\n",
      "426/426 [==============================] - 0s 310us/sample - loss: 0.1234 - val_loss: 0.0999\n",
      "Epoch 89/600\n",
      "426/426 [==============================] - 0s 317us/sample - loss: 0.1213 - val_loss: 0.1129\n",
      "Epoch 90/600\n",
      "426/426 [==============================] - 0s 331us/sample - loss: 0.1226 - val_loss: 0.1029\n",
      "Epoch 91/600\n",
      "426/426 [==============================] - 0s 304us/sample - loss: 0.1012 - val_loss: 0.1008\n",
      "Epoch 92/600\n",
      "426/426 [==============================] - 0s 320us/sample - loss: 0.1214 - val_loss: 0.1047\n",
      "Epoch 93/600\n",
      "426/426 [==============================] - 0s 337us/sample - loss: 0.1020 - val_loss: 0.1022\n",
      "Epoch 94/600\n",
      "426/426 [==============================] - 0s 315us/sample - loss: 0.1084 - val_loss: 0.1029\n",
      "Epoch 95/600\n",
      "426/426 [==============================] - 0s 315us/sample - loss: 0.1259 - val_loss: 0.1009\n",
      "Epoch 96/600\n",
      "426/426 [==============================] - 0s 425us/sample - loss: 0.1064 - val_loss: 0.1099\n",
      "Epoch 97/600\n",
      "426/426 [==============================] - 0s 420us/sample - loss: 0.1113 - val_loss: 0.1218\n",
      "Epoch 98/600\n",
      "426/426 [==============================] - 0s 402us/sample - loss: 0.1308 - val_loss: 0.1071\n",
      "Epoch 99/600\n",
      "426/426 [==============================] - 0s 392us/sample - loss: 0.1239 - val_loss: 0.1053\n",
      "Epoch 100/600\n",
      "426/426 [==============================] - 0s 378us/sample - loss: 0.0921 - val_loss: 0.1103\n",
      "Epoch 101/600\n",
      "426/426 [==============================] - 0s 411us/sample - loss: 0.1151 - val_loss: 0.1028\n",
      "Epoch 102/600\n",
      "426/426 [==============================] - 0s 416us/sample - loss: 0.1190 - val_loss: 0.1270\n",
      "Epoch 103/600\n",
      "426/426 [==============================] - 0s 425us/sample - loss: 0.1037 - val_loss: 0.1125\n",
      "Epoch 104/600\n",
      "426/426 [==============================] - 0s 408us/sample - loss: 0.1026 - val_loss: 0.1055\n",
      "Epoch 105/600\n",
      "426/426 [==============================] - 0s 387us/sample - loss: 0.1026 - val_loss: 0.1106\n",
      "Epoch 106/600\n",
      "426/426 [==============================] - 0s 379us/sample - loss: 0.1082 - val_loss: 0.1080\n",
      "Epoch 107/600\n",
      "426/426 [==============================] - 0s 324us/sample - loss: 0.1000 - val_loss: 0.1013\n",
      "Epoch 108/600\n",
      "426/426 [==============================] - 0s 310us/sample - loss: 0.1165 - val_loss: 0.1130\n",
      "Epoch 109/600\n",
      "426/426 [==============================] - 0s 305us/sample - loss: 0.0997 - val_loss: 0.1060\n",
      "Epoch 110/600\n",
      "426/426 [==============================] - 0s 318us/sample - loss: 0.0950 - val_loss: 0.1067\n",
      "Epoch 111/600\n",
      "426/426 [==============================] - 0s 358us/sample - loss: 0.0941 - val_loss: 0.1144\n",
      "Epoch 112/600\n",
      "426/426 [==============================] - 0s 412us/sample - loss: 0.0989 - val_loss: 0.1007\n",
      "Epoch 113/600\n",
      "426/426 [==============================] - 0s 385us/sample - loss: 0.0960 - val_loss: 0.0985\n",
      "Epoch 114/600\n",
      "426/426 [==============================] - 0s 394us/sample - loss: 0.1046 - val_loss: 0.1172\n",
      "Epoch 115/600\n",
      "426/426 [==============================] - 0s 374us/sample - loss: 0.0818 - val_loss: 0.1163\n",
      "Epoch 116/600\n",
      "426/426 [==============================] - 0s 366us/sample - loss: 0.1186 - val_loss: 0.1039\n",
      "Epoch 117/600\n",
      "426/426 [==============================] - 0s 337us/sample - loss: 0.1150 - val_loss: 0.1080\n",
      "Epoch 118/600\n",
      "426/426 [==============================] - 0s 418us/sample - loss: 0.0839 - val_loss: 0.1065\n",
      "Epoch 119/600\n",
      "426/426 [==============================] - 0s 393us/sample - loss: 0.1130 - val_loss: 0.1144\n",
      "Epoch 120/600\n",
      "426/426 [==============================] - 0s 350us/sample - loss: 0.1073 - val_loss: 0.1071\n",
      "Epoch 121/600\n",
      "426/426 [==============================] - 0s 355us/sample - loss: 0.0912 - val_loss: 0.0995\n",
      "Epoch 122/600\n",
      "426/426 [==============================] - 0s 348us/sample - loss: 0.0987 - val_loss: 0.1131\n",
      "Epoch 123/600\n",
      "426/426 [==============================] - 0s 376us/sample - loss: 0.0997 - val_loss: 0.1100\n",
      "Epoch 124/600\n",
      "426/426 [==============================] - 0s 423us/sample - loss: 0.0946 - val_loss: 0.0969\n",
      "Epoch 125/600\n",
      "426/426 [==============================] - 0s 425us/sample - loss: 0.0846 - val_loss: 0.0966\n",
      "Epoch 126/600\n",
      "426/426 [==============================] - 0s 426us/sample - loss: 0.0832 - val_loss: 0.1077\n",
      "Epoch 127/600\n",
      "426/426 [==============================] - 0s 385us/sample - loss: 0.0886 - val_loss: 0.1060\n",
      "Epoch 128/600\n",
      "426/426 [==============================] - 0s 391us/sample - loss: 0.0951 - val_loss: 0.0974\n",
      "Epoch 129/600\n",
      "426/426 [==============================] - 0s 380us/sample - loss: 0.0919 - val_loss: 0.1277\n",
      "Epoch 130/600\n",
      "426/426 [==============================] - 0s 316us/sample - loss: 0.0984 - val_loss: 0.1173\n",
      "Epoch 131/600\n",
      "426/426 [==============================] - 0s 316us/sample - loss: 0.0867 - val_loss: 0.1072\n",
      "Epoch 132/600\n",
      "426/426 [==============================] - 0s 324us/sample - loss: 0.0705 - val_loss: 0.1073\n",
      "Epoch 133/600\n",
      "426/426 [==============================] - 0s 347us/sample - loss: 0.0837 - val_loss: 0.1101\n",
      "Epoch 134/600\n",
      "426/426 [==============================] - 0s 347us/sample - loss: 0.0759 - val_loss: 0.1238\n",
      "Epoch 135/600\n",
      "426/426 [==============================] - 0s 312us/sample - loss: 0.0895 - val_loss: 0.1203\n",
      "Epoch 136/600\n",
      "426/426 [==============================] - 0s 320us/sample - loss: 0.0712 - val_loss: 0.1266\n",
      "Epoch 137/600\n",
      "426/426 [==============================] - 0s 333us/sample - loss: 0.0886 - val_loss: 0.1055\n",
      "Epoch 138/600\n",
      "426/426 [==============================] - 0s 406us/sample - loss: 0.0977 - val_loss: 0.1084\n",
      "Epoch 139/600\n",
      "426/426 [==============================] - 0s 405us/sample - loss: 0.0736 - val_loss: 0.1106\n",
      "Epoch 140/600\n",
      "426/426 [==============================] - 0s 384us/sample - loss: 0.1049 - val_loss: 0.1071\n",
      "Epoch 141/600\n",
      "426/426 [==============================] - 0s 384us/sample - loss: 0.0897 - val_loss: 0.1151\n",
      "Epoch 142/600\n",
      "426/426 [==============================] - 0s 326us/sample - loss: 0.0914 - val_loss: 0.1089\n",
      "Epoch 143/600\n",
      "426/426 [==============================] - 0s 395us/sample - loss: 0.0868 - val_loss: 0.1084\n",
      "Epoch 144/600\n",
      "426/426 [==============================] - 0s 396us/sample - loss: 0.0873 - val_loss: 0.1326\n",
      "Epoch 145/600\n",
      "426/426 [==============================] - 0s 366us/sample - loss: 0.0967 - val_loss: 0.1305\n",
      "Epoch 146/600\n",
      "426/426 [==============================] - 0s 388us/sample - loss: 0.1035 - val_loss: 0.1103\n",
      "Epoch 147/600\n",
      "426/426 [==============================] - 0s 345us/sample - loss: 0.0894 - val_loss: 0.1093\n",
      "Epoch 148/600\n",
      "426/426 [==============================] - 0s 329us/sample - loss: 0.0873 - val_loss: 0.1034\n",
      "Epoch 149/600\n",
      "426/426 [==============================] - 0s 314us/sample - loss: 0.0765 - val_loss: 0.1011\n",
      "Epoch 150/600\n",
      "426/426 [==============================] - 0s 326us/sample - loss: 0.0784 - val_loss: 0.1209\n",
      "Epoch 00150: early stopping\n"
     ]
    },
    {
     "data": {
      "text/plain": [
       "<tensorflow.python.keras.callbacks.History at 0x1a4ba584d0>"
      ]
     },
     "execution_count": 41,
     "metadata": {},
     "output_type": "execute_result"
    }
   ],
   "source": [
    "model.fit(x=X_train, \n",
    "          y=y_train, \n",
    "          epochs=600,\n",
    "          validation_data=(X_test, y_test), verbose=1,\n",
    "          callbacks=[early_stop,board]\n",
    "          )"
   ]
  },
  {
   "cell_type": "markdown",
   "metadata": {},
   "source": [
    "# Running Tensorboard\n"
   ]
  },
  {
   "cell_type": "markdown",
   "metadata": {},
   "source": [
    "## Running through the Command Line\n",
    "\n",
    "**Watch video to see how to run Tensorboard through a command line call.**"
   ]
  },
  {
   "cell_type": "markdown",
   "metadata": {},
   "source": [
    "Tensorboard will run locally in your browser at [http://localhost:6006/](http://localhost:6006/)\n"
   ]
  },
  {
   "cell_type": "code",
   "execution_count": 42,
   "metadata": {},
   "outputs": [
    {
     "name": "stdout",
     "output_type": "stream",
     "text": [
      "logs/fit\n"
     ]
    }
   ],
   "source": [
    "print(log_directory)"
   ]
  },
  {
   "cell_type": "code",
   "execution_count": 43,
   "metadata": {},
   "outputs": [
    {
     "data": {
      "text/plain": [
       "'/Users/yongliu/Desktop/train/ML/Py_DS_ML_Bootcamp/22-Deep Learning/TensorFlow_FILES/ANNs'"
      ]
     },
     "execution_count": 43,
     "metadata": {},
     "output_type": "execute_result"
    }
   ],
   "source": [
    "pwd"
   ]
  },
  {
   "cell_type": "markdown",
   "metadata": {},
   "source": [
    "### Use cd at your command line to change directory to the file path reported back by pwd or your current .py file location.\n",
    "### Then run this code at your command line or terminal"
   ]
  },
  {
   "cell_type": "code",
   "execution_count": 45,
   "metadata": {},
   "outputs": [
    {
     "data": {
      "text/html": [
       "\n",
       "      <iframe id=\"tensorboard-frame-d4bebd38e5975024\" width=\"100%\" height=\"800\" frameborder=\"0\">\n",
       "      </iframe>\n",
       "      <script>\n",
       "        (function() {\n",
       "          const frame = document.getElementById(\"tensorboard-frame-d4bebd38e5975024\");\n",
       "          const url = new URL(\"/\", window.location);\n",
       "          url.port = 6007;\n",
       "          frame.src = url;\n",
       "        })();\n",
       "      </script>\n",
       "  "
      ],
      "text/plain": [
       "<IPython.core.display.HTML object>"
      ]
     },
     "metadata": {},
     "output_type": "display_data"
    }
   ],
   "source": [
    "%tensorboard --logdir logs/fit "
   ]
  },
  {
   "cell_type": "code",
   "execution_count": null,
   "metadata": {},
   "outputs": [],
   "source": []
  }
 ],
 "metadata": {
  "kernelspec": {
   "display_name": "Python 3",
   "language": "python",
   "name": "python3"
  },
  "language_info": {
   "codemirror_mode": {
    "name": "ipython",
    "version": 3
   },
   "file_extension": ".py",
   "mimetype": "text/x-python",
   "name": "python",
   "nbconvert_exporter": "python",
   "pygments_lexer": "ipython3",
   "version": "3.7.6"
  }
 },
 "nbformat": 4,
 "nbformat_minor": 2
}
