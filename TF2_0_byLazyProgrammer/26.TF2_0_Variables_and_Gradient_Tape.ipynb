{
 "cells": [
  {
   "cell_type": "markdown",
   "metadata": {
    "colab_type": "text",
    "id": "MOaH6G7DaFo5"
   },
   "source": [
    "# Tensorflow 2.0 Variables\n",
    "\n",
    "This notebook will teach you about variables and how to build a basic computation graph.\n",
    "\n",
    "We will perform gradient descent manually to optimize a simple function.\n",
    "\n",
    "If you're familiar with Tensorflow 1.x, you will find this useful as an example to demonstrate how we can do the same operations, but without sessions, initializers, etc."
   ]
  },
  {
   "cell_type": "code",
   "execution_count": 3,
   "metadata": {
    "colab": {
     "base_uri": "https://localhost:8080/",
     "height": 119
    },
    "colab_type": "code",
    "id": "gKeDt4VDaBgf",
    "outputId": "acb25b96-d838-4f25-945a-9df8a70dc35e"
   },
   "outputs": [
    {
     "name": "stdout",
     "output_type": "stream",
     "text": [
      "2.0.0\n"
     ]
    }
   ],
   "source": [
    "\n",
    "import tensorflow as tf\n",
    "print(tf.__version__)"
   ]
  },
  {
   "cell_type": "code",
   "execution_count": 4,
   "metadata": {
    "colab": {
     "base_uri": "https://localhost:8080/",
     "height": 181
    },
    "colab_type": "code",
    "id": "ldCtMHqAacLv",
    "outputId": "a32c315a-b2bd-43d4-a9d5-1632919b285d"
   },
   "outputs": [],
   "source": [
    "# First, what is the difference between mutable and immutable?\n",
    "\n",
    "# A tuple is immutable\n",
    "# This should result in an error\n",
    "a = (1,2,3)\n",
    "# a[0] = 5"
   ]
  },
  {
   "cell_type": "code",
   "execution_count": 5,
   "metadata": {
    "colab": {
     "base_uri": "https://localhost:8080/",
     "height": 34
    },
    "colab_type": "code",
    "id": "A1MsOufHbwX2",
    "outputId": "86644c8f-4f81-42c8-bbb1-9ebc4044819d"
   },
   "outputs": [
    {
     "name": "stdout",
     "output_type": "stream",
     "text": [
      "[5, 2, 3]\n"
     ]
    }
   ],
   "source": [
    "# A list is mutable\n",
    "a = [1,2,3]\n",
    "a[0] = 5\n",
    "print(a)"
   ]
  },
  {
   "cell_type": "code",
   "execution_count": 6,
   "metadata": {
    "colab": {
     "base_uri": "https://localhost:8080/",
     "height": 34
    },
    "colab_type": "code",
    "id": "bXKpscE2el_G",
    "outputId": "e61d3b08-834a-4f51-d71d-3951b134ae16"
   },
   "outputs": [
    {
     "name": "stdout",
     "output_type": "stream",
     "text": [
      "tf.Tensor(15.0, shape=(), dtype=float32)\n"
     ]
    }
   ],
   "source": [
    "# Now Tensorflow variables\n",
    "a = tf.Variable(5.)\n",
    "b = tf.Variable(3.)\n",
    "print(a * b)\n",
    "\n",
    "# Eager execution! No need for session.run() or variable initializer"
   ]
  },
  {
   "cell_type": "code",
   "execution_count": 7,
   "metadata": {
    "colab": {
     "base_uri": "https://localhost:8080/",
     "height": 34
    },
    "colab_type": "code",
    "id": "cGQMA3UsIQtd",
    "outputId": "fdbce4d6-57c5-4397-9573-268f0b0c88c0"
   },
   "outputs": [
    {
     "name": "stdout",
     "output_type": "stream",
     "text": [
      "tf.Tensor(6.0, shape=(), dtype=float32)\n"
     ]
    }
   ],
   "source": [
    "# Because it's a variable, it can be updated\n",
    "a = a + 1\n",
    "print(a)"
   ]
  },
  {
   "cell_type": "code",
   "execution_count": 8,
   "metadata": {
    "colab": {
     "base_uri": "https://localhost:8080/",
     "height": 34
    },
    "colab_type": "code",
    "id": "KzmBNHdjhSkw",
    "outputId": "b82242f1-d693-45ca-fcb6-f2006e44c177"
   },
   "outputs": [
    {
     "name": "stdout",
     "output_type": "stream",
     "text": [
      "tf.Tensor(22.0, shape=(), dtype=float32)\n"
     ]
    }
   ],
   "source": [
    "# Variables and constants\n",
    "c = tf.constant(4.)\n",
    "print(a * b + c)"
   ]
  },
  {
   "cell_type": "code",
   "execution_count": 9,
   "metadata": {
    "colab": {
     "base_uri": "https://localhost:8080/",
     "height": 105
    },
    "colab_type": "code",
    "id": "h2HSuSIYe-be",
    "outputId": "00fdf492-7dda-4b6f-d756-0f1dca2503c1"
   },
   "outputs": [],
   "source": [
    "# Let's demonstrate a simple optimization problem\n",
    "# L(w) = w**2\n",
    "\n",
    "w = tf.Variable(5.)\n",
    "\n",
    "# Now, let us define a loss function\n",
    "def get_loss(w):\n",
    "  return w ** 2\n",
    "\n",
    "# Use \"gradient tape\" to record the gradients\n",
    "def get_grad(w):\n",
    "  with tf.GradientTape() as tape:\n",
    "    L = get_loss(w)\n",
    "\n",
    "  # Get the gradient\n",
    "  g = tape.gradient(L, w)\n",
    "  return g\n",
    "  \n",
    "\n",
    "# Define an optimizer\n",
    "optimizer = tf.keras.optimizers.SGD(learning_rate=0.1)\n",
    "\n",
    "\n",
    "# Store the losses\n",
    "losses = []\n",
    "\n",
    "# Perform gradient descent\n",
    "for i in range(50):\n",
    "  g = get_grad(w)\n",
    "  optimizer.apply_gradients(zip([g], [w])) #   w.assign(w - 0.1 * 2 * w)\n",
    "\n",
    "  losses.append(get_loss(w))\n"
   ]
  },
  {
   "cell_type": "code",
   "execution_count": 10,
   "metadata": {
    "colab": {
     "base_uri": "https://localhost:8080/",
     "height": 286
    },
    "colab_type": "code",
    "id": "lpVANuzVgaFc",
    "outputId": "3ab02527-9bd2-427f-8478-0ac7e412bfaf"
   },
   "outputs": [
    {
     "name": "stdout",
     "output_type": "stream",
     "text": [
      "Final loss: 5.0925916816879635e-09\n"
     ]
    },
    {
     "data": {
      "image/png": "[encoded data removed]",
      "text/plain": [
       "<Figure size 432x288 with 1 Axes>"
      ]
     },
     "metadata": {
      "needs_background": "light"
     },
     "output_type": "display_data"
    }
   ],
   "source": [
    "import matplotlib.pyplot as plt\n",
    "plt.plot(losses)\n",
    "print(f\"Final loss: {get_loss(w)}\")"
   ]
  },
  {
   "cell_type": "code",
   "execution_count": 11,
   "metadata": {
    "colab": {},
    "colab_type": "code",
    "id": "kl0Qquh2Htqe"
   },
   "outputs": [],
   "source": [
    "# Let's do the same thing again, but manually\n",
    "\n",
    "w = tf.Variable(5.)\n",
    "\n",
    "# Store the losses\n",
    "losses2 = []\n",
    "\n",
    "# Perform gradient descent\n",
    "for i in range(50):\n",
    "  # This is doing: w = w - 0.1 * 2 * w\n",
    "  # But we don't want to create a new Tensor\n",
    "  w.assign(w - 0.1 * 2 * w)\n",
    "  losses2.append(w ** 2)"
   ]
  },
  {
   "cell_type": "code",
   "execution_count": 12,
   "metadata": {
    "colab": {
     "base_uri": "https://localhost:8080/",
     "height": 286
    },
    "colab_type": "code",
    "id": "-UvdPe0kIDVb",
    "outputId": "624add3b-33fa-4473-e053-961a67f914f8"
   },
   "outputs": [
    {
     "data": {
      "text/plain": [
       "<matplotlib.legend.Legend at 0x64c29be10>"
      ]
     },
     "execution_count": 12,
     "metadata": {},
     "output_type": "execute_result"
    },
    {
     "data": {
      "image/png": "[encoded data removed]",
      "text/plain": [
       "<Figure size 432x288 with 1 Axes>"
      ]
     },
     "metadata": {
      "needs_background": "light"
     },
     "output_type": "display_data"
    }
   ],
   "source": [
    "plt.plot(losses, label=\"losses tf\")\n",
    "plt.plot(losses2, label=\"losses manual\")\n",
    "plt.legend()"
   ]
  }
 ],
 "metadata": {
  "colab": {
   "name": "TF2.0 Variables and Gradient Tape.ipynb",
   "provenance": []
  },
  "kernelspec": {
   "display_name": "Python 3",
   "language": "python",
   "name": "python3"
  },
  "language_info": {
   "codemirror_mode": {
    "name": "ipython",
    "version": 3
   },
   "file_extension": ".py",
   "mimetype": "text/x-python",
   "name": "python",
   "nbconvert_exporter": "python",
   "pygments_lexer": "ipython3",
   "version": "3.7.6"
  }
 },
 "nbformat": 4,
 "nbformat_minor": 1
}
