{
 "cells": [
  {
   "cell_type": "code",
   "execution_count": 6,
   "metadata": {
    "colab": {
     "base_uri": "https://localhost:8080/",
     "height": 85
    },
    "colab_type": "code",
    "id": "M_nBXykm1bMx",
    "outputId": "7e98f781-e0c8-443d-ad25-5a7583ad7be4"
   },
   "outputs": [
    {
     "name": "stdout",
     "output_type": "stream",
     "text": [
      "2.0.0\n"
     ]
    }
   ],
   "source": [
    "import os\n",
    "os.environ['KMP_DUPLICATE_LIB_OK']='True'\n",
    "\n",
    "import tensorflow as tf\n",
    "print(tf.__version__)"
   ]
  },
  {
   "cell_type": "code",
   "execution_count": 7,
   "metadata": {
    "colab": {},
    "colab_type": "code",
    "id": "dEhAi3oo1p4A"
   },
   "outputs": [],
   "source": [
    "# More imports\n",
    "from tensorflow.keras.layers import Input, SimpleRNN, GRU, LSTM, Dense, Flatten\n",
    "from tensorflow.keras.models import Model\n",
    "from tensorflow.keras.optimizers import SGD, Adam\n",
    "\n",
    "import numpy as np\n",
    "import pandas as pd\n",
    "import matplotlib.pyplot as plt"
   ]
  },
  {
   "cell_type": "code",
   "execution_count": 8,
   "metadata": {
    "colab": {
     "base_uri": "https://localhost:8080/",
     "height": 88
    },
    "colab_type": "code",
    "id": "zFQRGnY61dwd",
    "outputId": "8f11a166-0bbe-4503-b7be-185a6487a6ab"
   },
   "outputs": [
    {
     "name": "stdout",
     "output_type": "stream",
     "text": [
      "x_train.shape: (60000, 28, 28)\n"
     ]
    }
   ],
   "source": [
    "# Load in the data\n",
    "mnist = tf.keras.datasets.mnist\n",
    "\n",
    "(x_train, y_train), (x_test, y_test) = mnist.load_data()\n",
    "x_train, x_test = x_train / 255.0, x_test / 255.0\n",
    "print(\"x_train.shape:\", x_train.shape)"
   ]
  },
  {
   "cell_type": "code",
   "execution_count": 9,
   "metadata": {
    "colab": {},
    "colab_type": "code",
    "id": "7r3tRUf21m4u"
   },
   "outputs": [],
   "source": [
    "# Build the model\n",
    "i = Input(shape=x_train[0].shape)\n",
    "x = LSTM(128)(i)\n",
    "x = Dense(10, activation='softmax')(x)\n",
    "\n",
    "model = Model(i, x)"
   ]
  },
  {
   "cell_type": "code",
   "execution_count": 10,
   "metadata": {
    "colab": {
     "base_uri": "https://localhost:8080/",
     "height": 462
    },
    "colab_type": "code",
    "id": "bLRqRzFv151b",
    "outputId": "503ad7c4-6c14-4a16-ddfc-ff801e4f31e4"
   },
   "outputs": [
    {
     "name": "stdout",
     "output_type": "stream",
     "text": [
      "Train on 60000 samples, validate on 10000 samples\n",
      "Epoch 1/10\n",
      "60000/60000 [==============================] - 143s 2ms/sample - loss: 0.3275 - accuracy: 0.8952 - val_loss: 0.1175 - val_accuracy: 0.9646\n",
      "Epoch 2/10\n",
      "60000/60000 [==============================] - 133s 2ms/sample - loss: 0.1028 - accuracy: 0.9694 - val_loss: 0.0827 - val_accuracy: 0.9754\n",
      "Epoch 3/10\n",
      "60000/60000 [==============================] - 133s 2ms/sample - loss: 0.0735 - accuracy: 0.9774 - val_loss: 0.0708 - val_accuracy: 0.9794\n",
      "Epoch 4/10\n",
      "60000/60000 [==============================] - 133s 2ms/sample - loss: 0.0541 - accuracy: 0.9838 - val_loss: 0.0619 - val_accuracy: 0.9821\n",
      "Epoch 5/10\n",
      "60000/60000 [==============================] - 138s 2ms/sample - loss: 0.0449 - accuracy: 0.9859 - val_loss: 0.0483 - val_accuracy: 0.9845\n",
      "Epoch 6/10\n",
      "60000/60000 [==============================] - 133s 2ms/sample - loss: 0.0365 - accuracy: 0.9885 - val_loss: 0.0502 - val_accuracy: 0.9856\n",
      "Epoch 7/10\n",
      "60000/60000 [==============================] - 132s 2ms/sample - loss: 0.0319 - accuracy: 0.9899 - val_loss: 0.0506 - val_accuracy: 0.9856\n",
      "Epoch 8/10\n",
      "60000/60000 [==============================] - 132s 2ms/sample - loss: 0.0263 - accuracy: 0.9917 - val_loss: 0.0431 - val_accuracy: 0.9864\n",
      "Epoch 9/10\n",
      "60000/60000 [==============================] - 132s 2ms/sample - loss: 0.0237 - accuracy: 0.9928 - val_loss: 0.0359 - val_accuracy: 0.9890\n",
      "Epoch 10/10\n",
      "60000/60000 [==============================] - 155s 3ms/sample - loss: 0.0210 - accuracy: 0.9934 - val_loss: 0.0411 - val_accuracy: 0.9885\n"
     ]
    }
   ],
   "source": [
    "# Compile and train\n",
    "model.compile(optimizer='adam',\n",
    "              loss='sparse_categorical_crossentropy',\n",
    "              metrics=['accuracy'])\n",
    "r = model.fit(x_train, y_train, validation_data=(x_test, y_test), epochs=10)"
   ]
  },
  {
   "cell_type": "code",
   "execution_count": 11,
   "metadata": {
    "colab": {
     "base_uri": "https://localhost:8080/",
     "height": 286
    },
    "colab_type": "code",
    "id": "I9wVJa3Q2CR7",
    "outputId": "ee3cd4fd-9ee8-4f6f-dfb7-fe95f70497d2"
   },
   "outputs": [
    {
     "data": {
      "text/plain": [
       "<matplotlib.legend.Legend at 0x676f1ce50>"
      ]
     },
     "execution_count": 11,
     "metadata": {},
     "output_type": "execute_result"
    },
    {
     "data": {
      "image/png": "[encoded data removed]",
      "text/plain": [
       "<Figure size 432x288 with 1 Axes>"
      ]
     },
     "metadata": {
      "needs_background": "light"
     },
     "output_type": "display_data"
    }
   ],
   "source": [
    "# Plot loss per iteration\n",
    "import matplotlib.pyplot as plt\n",
    "plt.plot(r.history['loss'], label='loss')\n",
    "plt.plot(r.history['val_loss'], label='val_loss')\n",
    "plt.legend()"
   ]
  },
  {
   "cell_type": "code",
   "execution_count": 12,
   "metadata": {
    "colab": {
     "base_uri": "https://localhost:8080/",
     "height": 286
    },
    "colab_type": "code",
    "id": "wxEEz8zJ2Eyy",
    "outputId": "6e111219-373b-4617-adb8-2885f1a28637"
   },
   "outputs": [
    {
     "data": {
      "text/plain": [
       "<matplotlib.legend.Legend at 0x677afe590>"
      ]
     },
     "execution_count": 12,
     "metadata": {},
     "output_type": "execute_result"
    },
    {
     "data": {
      "image/png": "[encoded data removed]",
      "text/plain": [
       "<Figure size 432x288 with 1 Axes>"
      ]
     },
     "metadata": {
      "needs_background": "light"
     },
     "output_type": "display_data"
    }
   ],
   "source": [
    "# Plot accuracy per iteration\n",
    "plt.plot(r.history['accuracy'], label='acc')\n",
    "plt.plot(r.history['val_accuracy'], label='val_acc')\n",
    "plt.legend()"
   ]
  },
  {
   "cell_type": "code",
   "execution_count": 13,
   "metadata": {
    "colab": {
     "base_uri": "https://localhost:8080/",
     "height": 498
    },
    "colab_type": "code",
    "id": "ficPkqT2bgvE",
    "outputId": "238e1ffb-afbb-4424-d680-7a99c7ff3183"
   },
   "outputs": [
    {
     "name": "stdout",
     "output_type": "stream",
     "text": [
      "Confusion matrix, without normalization\n",
      "[[ 974    0    2    0    1    1    0    2    0    0]\n",
      " [   0 1134    0    0    0    0    0    1    0    0]\n",
      " [   0    0 1027    1    0    0    1    3    0    0]\n",
      " [   0    0    4 1001    0    0    0    2    3    0]\n",
      " [   1    1    0    0  964    0    3    1    1   11]\n",
      " [   2    0    0    8    0  876    1    2    1    2]\n",
      " [   4    5    0    1    9    2  934    0    2    1]\n",
      " [   1    2    5    2    1    0    0 1017    0    0]\n",
      " [   0    2    2    0    0    4    0    4  962    0]\n",
      " [   0    0    0    1    3    1    1    3    4  996]]\n"
     ]
    },
    {
     "data": {
      "image/png": "[encoded data removed]",
      "text/plain": [
       "<Figure size 432x288 with 2 Axes>"
      ]
     },
     "metadata": {
      "needs_background": "light"
     },
     "output_type": "display_data"
    }
   ],
   "source": [
    "# Plot confusion matrix\n",
    "from sklearn.metrics import confusion_matrix\n",
    "import numpy as np\n",
    "import itertools\n",
    "\n",
    "def plot_confusion_matrix(cm, classes,\n",
    "                          normalize=False,\n",
    "                          title='Confusion matrix',\n",
    "                          cmap=plt.cm.Blues):\n",
    "  \"\"\"\n",
    "  This function prints and plots the confusion matrix.\n",
    "  Normalization can be applied by setting `normalize=True`.\n",
    "  \"\"\"\n",
    "  if normalize:\n",
    "      cm = cm.astype('float') / cm.sum(axis=1)[:, np.newaxis]\n",
    "      print(\"Normalized confusion matrix\")\n",
    "  else:\n",
    "      print('Confusion matrix, without normalization')\n",
    "\n",
    "  print(cm)\n",
    "\n",
    "  plt.imshow(cm, interpolation='nearest', cmap=cmap)\n",
    "  plt.title(title)\n",
    "  plt.colorbar()\n",
    "  tick_marks = np.arange(len(classes))\n",
    "  plt.xticks(tick_marks, classes, rotation=45)\n",
    "  plt.yticks(tick_marks, classes)\n",
    "\n",
    "  fmt = '.2f' if normalize else 'd'\n",
    "  thresh = cm.max() / 2.\n",
    "  for i, j in itertools.product(range(cm.shape[0]), range(cm.shape[1])):\n",
    "      plt.text(j, i, format(cm[i, j], fmt),\n",
    "               horizontalalignment=\"center\",\n",
    "               color=\"white\" if cm[i, j] > thresh else \"black\")\n",
    "\n",
    "  plt.tight_layout()\n",
    "  plt.ylabel('True label')\n",
    "  plt.xlabel('Predicted label')\n",
    "  plt.show()\n",
    "\n",
    "\n",
    "p_test = model.predict(x_test).argmax(axis=1)\n",
    "cm = confusion_matrix(y_test, p_test)\n",
    "plot_confusion_matrix(cm, list(range(10)))\n",
    "\n",
    "# Do these results make sense?\n",
    "# It's easy to confuse 9 <--> 4, 9 <--> 7, 2 <--> 7, etc. "
   ]
  },
  {
   "cell_type": "code",
   "execution_count": 14,
   "metadata": {
    "colab": {
     "base_uri": "https://localhost:8080/",
     "height": 281
    },
    "colab_type": "code",
    "id": "GBE3hkE9buKD",
    "outputId": "a1c4f972-9211-4915-dc6d-01413c3b4444"
   },
   "outputs": [
    {
     "data": {
      "image/png": "[encoded data removed]",
      "text/plain": [
       "<Figure size 432x288 with 1 Axes>"
      ]
     },
     "metadata": {
      "needs_background": "light"
     },
     "output_type": "display_data"
    }
   ],
   "source": [
    "# Show some misclassified examples\n",
    "misclassified_idx = np.where(p_test != y_test)[0]\n",
    "i = np.random.choice(misclassified_idx)\n",
    "plt.imshow(x_test[i], cmap='gray')\n",
    "plt.title(\"True label: %s Predicted: %s\" % (y_test[i], p_test[i]));"
   ]
  },
  {
   "cell_type": "code",
   "execution_count": null,
   "metadata": {},
   "outputs": [],
   "source": []
  }
 ],
 "metadata": {
  "accelerator": "GPU",
  "colab": {
   "collapsed_sections": [],
   "name": "TF2.0 RNN MNIST.ipynb",
   "provenance": []
  },
  "kernelspec": {
   "display_name": "Python 3",
   "language": "python",
   "name": "python3"
  },
  "language_info": {
   "codemirror_mode": {
    "name": "ipython",
    "version": 3
   },
   "file_extension": ".py",
   "mimetype": "text/x-python",
   "name": "python",
   "nbconvert_exporter": "python",
   "pygments_lexer": "ipython3",
   "version": "3.7.6"
  }
 },
 "nbformat": 4,
 "nbformat_minor": 1
}
