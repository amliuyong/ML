{
 "cells": [
  {
   "cell_type": "code",
   "execution_count": 2,
   "metadata": {
    "colab": {
     "base_uri": "https://localhost:8080/",
     "height": 34
    },
    "colab_type": "code",
    "id": "JkljvqYBN0Fa",
    "outputId": "a6d8423c-ad80-400d-91eb-19814d1395e2"
   },
   "outputs": [],
   "source": [
    "import os\n",
    "os.environ['KMP_DUPLICATE_LIB_OK']='True'\n",
    "\n",
    "import tensorflow as tf"
   ]
  },
  {
   "cell_type": "code",
   "execution_count": 3,
   "metadata": {
    "colab": {},
    "colab_type": "code",
    "id": "AJ1XDZAJNjNG"
   },
   "outputs": [],
   "source": [
    "# More imports\n",
    "from tensorflow.keras.layers import Input, LSTM, GRU, SimpleRNN, Dense, GlobalMaxPool1D\n",
    "from tensorflow.keras.models import Model\n",
    "from tensorflow.keras.optimizers import SGD, Adam\n",
    "\n",
    "import numpy as np\n",
    "import pandas as pd\n",
    "import matplotlib.pyplot as plt\n",
    "from sklearn.preprocessing import StandardScaler"
   ]
  },
  {
   "cell_type": "code",
   "execution_count": 4,
   "metadata": {
    "colab": {},
    "colab_type": "code",
    "id": "DhvsuKhcNq7t"
   },
   "outputs": [],
   "source": [
    "# yes, you can read dataframes from URLs!\n",
    "df = pd.read_csv('https://raw.githubusercontent.com/lazyprogrammer/machine_learning_examples/master/tf2.0/sbux.csv')"
   ]
  },
  {
   "cell_type": "code",
   "execution_count": 5,
   "metadata": {
    "colab": {
     "base_uri": "https://localhost:8080/",
     "height": 204
    },
    "colab_type": "code",
    "id": "vWSPFdncODH9",
    "outputId": "7f8feb17-5ac0-4ee0-d4de-701df94bd7ac"
   },
   "outputs": [
    {
     "data": {
      "text/html": [
       "<div>\n",
       "<style scoped>\n",
       "    .dataframe tbody tr th:only-of-type {\n",
       "        vertical-align: middle;\n",
       "    }\n",
       "\n",
       "    .dataframe tbody tr th {\n",
       "        vertical-align: top;\n",
       "    }\n",
       "\n",
       "    .dataframe thead th {\n",
       "        text-align: right;\n",
       "    }\n",
       "</style>\n",
       "<table border=\"1\" class=\"dataframe\">\n",
       "  <thead>\n",
       "    <tr style=\"text-align: right;\">\n",
       "      <th></th>\n",
       "      <th>date</th>\n",
       "      <th>open</th>\n",
       "      <th>high</th>\n",
       "      <th>low</th>\n",
       "      <th>close</th>\n",
       "      <th>volume</th>\n",
       "      <th>Name</th>\n",
       "    </tr>\n",
       "  </thead>\n",
       "  <tbody>\n",
       "    <tr>\n",
       "      <th>0</th>\n",
       "      <td>2013-02-08</td>\n",
       "      <td>27.920</td>\n",
       "      <td>28.325</td>\n",
       "      <td>27.920</td>\n",
       "      <td>28.185</td>\n",
       "      <td>7146296</td>\n",
       "      <td>SBUX</td>\n",
       "    </tr>\n",
       "    <tr>\n",
       "      <th>1</th>\n",
       "      <td>2013-02-11</td>\n",
       "      <td>28.260</td>\n",
       "      <td>28.260</td>\n",
       "      <td>27.930</td>\n",
       "      <td>28.070</td>\n",
       "      <td>5457354</td>\n",
       "      <td>SBUX</td>\n",
       "    </tr>\n",
       "    <tr>\n",
       "      <th>2</th>\n",
       "      <td>2013-02-12</td>\n",
       "      <td>28.000</td>\n",
       "      <td>28.275</td>\n",
       "      <td>27.975</td>\n",
       "      <td>28.130</td>\n",
       "      <td>8665592</td>\n",
       "      <td>SBUX</td>\n",
       "    </tr>\n",
       "    <tr>\n",
       "      <th>3</th>\n",
       "      <td>2013-02-13</td>\n",
       "      <td>28.230</td>\n",
       "      <td>28.230</td>\n",
       "      <td>27.750</td>\n",
       "      <td>27.915</td>\n",
       "      <td>7022056</td>\n",
       "      <td>SBUX</td>\n",
       "    </tr>\n",
       "    <tr>\n",
       "      <th>4</th>\n",
       "      <td>2013-02-14</td>\n",
       "      <td>27.765</td>\n",
       "      <td>27.905</td>\n",
       "      <td>27.675</td>\n",
       "      <td>27.775</td>\n",
       "      <td>8899188</td>\n",
       "      <td>SBUX</td>\n",
       "    </tr>\n",
       "  </tbody>\n",
       "</table>\n",
       "</div>"
      ],
      "text/plain": [
       "         date    open    high     low   close   volume  Name\n",
       "0  2013-02-08  27.920  28.325  27.920  28.185  7146296  SBUX\n",
       "1  2013-02-11  28.260  28.260  27.930  28.070  5457354  SBUX\n",
       "2  2013-02-12  28.000  28.275  27.975  28.130  8665592  SBUX\n",
       "3  2013-02-13  28.230  28.230  27.750  27.915  7022056  SBUX\n",
       "4  2013-02-14  27.765  27.905  27.675  27.775  8899188  SBUX"
      ]
     },
     "execution_count": 5,
     "metadata": {},
     "output_type": "execute_result"
    }
   ],
   "source": [
    "df.head()"
   ]
  },
  {
   "cell_type": "code",
   "execution_count": 6,
   "metadata": {
    "colab": {
     "base_uri": "https://localhost:8080/",
     "height": 204
    },
    "colab_type": "code",
    "id": "NLmweO2o-wgS",
    "outputId": "feaf8e29-1270-4fe9-dbd6-b85d9d7f3234"
   },
   "outputs": [
    {
     "data": {
      "text/html": [
       "<div>\n",
       "<style scoped>\n",
       "    .dataframe tbody tr th:only-of-type {\n",
       "        vertical-align: middle;\n",
       "    }\n",
       "\n",
       "    .dataframe tbody tr th {\n",
       "        vertical-align: top;\n",
       "    }\n",
       "\n",
       "    .dataframe thead th {\n",
       "        text-align: right;\n",
       "    }\n",
       "</style>\n",
       "<table border=\"1\" class=\"dataframe\">\n",
       "  <thead>\n",
       "    <tr style=\"text-align: right;\">\n",
       "      <th></th>\n",
       "      <th>date</th>\n",
       "      <th>open</th>\n",
       "      <th>high</th>\n",
       "      <th>low</th>\n",
       "      <th>close</th>\n",
       "      <th>volume</th>\n",
       "      <th>Name</th>\n",
       "    </tr>\n",
       "  </thead>\n",
       "  <tbody>\n",
       "    <tr>\n",
       "      <th>1254</th>\n",
       "      <td>2018-02-01</td>\n",
       "      <td>56.280</td>\n",
       "      <td>56.42</td>\n",
       "      <td>55.89</td>\n",
       "      <td>56.00</td>\n",
       "      <td>14690146</td>\n",
       "      <td>SBUX</td>\n",
       "    </tr>\n",
       "    <tr>\n",
       "      <th>1255</th>\n",
       "      <td>2018-02-02</td>\n",
       "      <td>55.900</td>\n",
       "      <td>56.32</td>\n",
       "      <td>55.70</td>\n",
       "      <td>55.77</td>\n",
       "      <td>15358909</td>\n",
       "      <td>SBUX</td>\n",
       "    </tr>\n",
       "    <tr>\n",
       "      <th>1256</th>\n",
       "      <td>2018-02-05</td>\n",
       "      <td>55.530</td>\n",
       "      <td>56.26</td>\n",
       "      <td>54.57</td>\n",
       "      <td>54.69</td>\n",
       "      <td>16059955</td>\n",
       "      <td>SBUX</td>\n",
       "    </tr>\n",
       "    <tr>\n",
       "      <th>1257</th>\n",
       "      <td>2018-02-06</td>\n",
       "      <td>53.685</td>\n",
       "      <td>56.06</td>\n",
       "      <td>53.56</td>\n",
       "      <td>55.61</td>\n",
       "      <td>17415065</td>\n",
       "      <td>SBUX</td>\n",
       "    </tr>\n",
       "    <tr>\n",
       "      <th>1258</th>\n",
       "      <td>2018-02-07</td>\n",
       "      <td>55.080</td>\n",
       "      <td>55.43</td>\n",
       "      <td>54.44</td>\n",
       "      <td>54.46</td>\n",
       "      <td>13927022</td>\n",
       "      <td>SBUX</td>\n",
       "    </tr>\n",
       "  </tbody>\n",
       "</table>\n",
       "</div>"
      ],
      "text/plain": [
       "            date    open   high    low  close    volume  Name\n",
       "1254  2018-02-01  56.280  56.42  55.89  56.00  14690146  SBUX\n",
       "1255  2018-02-02  55.900  56.32  55.70  55.77  15358909  SBUX\n",
       "1256  2018-02-05  55.530  56.26  54.57  54.69  16059955  SBUX\n",
       "1257  2018-02-06  53.685  56.06  53.56  55.61  17415065  SBUX\n",
       "1258  2018-02-07  55.080  55.43  54.44  54.46  13927022  SBUX"
      ]
     },
     "execution_count": 6,
     "metadata": {},
     "output_type": "execute_result"
    }
   ],
   "source": [
    "df.tail()"
   ]
  },
  {
   "cell_type": "code",
   "execution_count": 7,
   "metadata": {
    "colab": {},
    "colab_type": "code",
    "id": "qczc-TUNO0th"
   },
   "outputs": [],
   "source": [
    "# Start by doing the WRONG thing - trying to predict the price itself\n",
    "series = df['close'].values.reshape(-1, 1)"
   ]
  },
  {
   "cell_type": "code",
   "execution_count": 8,
   "metadata": {
    "colab": {},
    "colab_type": "code",
    "id": "X6lJwsOgPVaB"
   },
   "outputs": [],
   "source": [
    "# Normalize the data\n",
    "# Note: I didn't think about where the true boundary is, this is just approx.\n",
    "scaler = StandardScaler()\n",
    "scaler.fit(series[:len(series) // 2])\n",
    "series = scaler.transform(series).flatten()"
   ]
  },
  {
   "cell_type": "code",
   "execution_count": 9,
   "metadata": {
    "colab": {
     "base_uri": "https://localhost:8080/",
     "height": 34
    },
    "colab_type": "code",
    "id": "3j6Jk2pkPTjE",
    "outputId": "14f774c5-95f0-4acd-d023-7aff6c6c0e82"
   },
   "outputs": [
    {
     "name": "stdout",
     "output_type": "stream",
     "text": [
      "X.shape (1249, 10, 1) Y.shape (1249,)\n"
     ]
    }
   ],
   "source": [
    "### build the dataset\n",
    "# let's see if we can use T past values to predict the next value\n",
    "T = 10\n",
    "D = 1\n",
    "X = []\n",
    "Y = []\n",
    "for t in range(len(series) - T):\n",
    "  x = series[t:t+T]\n",
    "  X.append(x)\n",
    "  y = series[t+T]\n",
    "  Y.append(y)\n",
    "\n",
    "X = np.array(X).reshape(-1, T, 1) # Now the data should be N x T x D\n",
    "Y = np.array(Y)\n",
    "N = len(X)\n",
    "print(\"X.shape\", X.shape, \"Y.shape\", Y.shape)"
   ]
  },
  {
   "cell_type": "code",
   "execution_count": 10,
   "metadata": {
    "colab": {
     "base_uri": "https://localhost:8080/",
     "height": 1000
    },
    "colab_type": "code",
    "id": "R5uMLXonPEnZ",
    "outputId": "977911fa-8ed2-4663-a133-2f9c7190776d"
   },
   "outputs": [
    {
     "name": "stdout",
     "output_type": "stream",
     "text": [
      "Train on 624 samples, validate on 625 samples\n",
      "Epoch 1/80\n",
      "624/624 [==============================] - 4s 7ms/sample - loss: 0.1322 - val_loss: 0.0449\n",
      "Epoch 2/80\n",
      "624/624 [==============================] - 0s 624us/sample - loss: 0.0116 - val_loss: 0.0421\n",
      "Epoch 3/80\n",
      "624/624 [==============================] - 0s 619us/sample - loss: 0.0113 - val_loss: 0.0730\n",
      "Epoch 4/80\n",
      "624/624 [==============================] - 0s 618us/sample - loss: 0.0075 - val_loss: 0.0183\n",
      "Epoch 5/80\n",
      "624/624 [==============================] - 0s 617us/sample - loss: 0.0066 - val_loss: 0.0198\n",
      "Epoch 6/80\n",
      "624/624 [==============================] - 0s 614us/sample - loss: 0.0071 - val_loss: 0.0208\n",
      "Epoch 7/80\n",
      "624/624 [==============================] - 0s 624us/sample - loss: 0.0059 - val_loss: 0.0270\n",
      "Epoch 8/80\n",
      "624/624 [==============================] - 0s 621us/sample - loss: 0.0063 - val_loss: 0.0305\n",
      "Epoch 9/80\n",
      "624/624 [==============================] - 0s 693us/sample - loss: 0.0058 - val_loss: 0.0294\n",
      "Epoch 10/80\n",
      "624/624 [==============================] - 0s 636us/sample - loss: 0.0058 - val_loss: 0.0177\n",
      "Epoch 11/80\n",
      "624/624 [==============================] - 0s 638us/sample - loss: 0.0057 - val_loss: 0.0198\n",
      "Epoch 12/80\n",
      "624/624 [==============================] - 1s 806us/sample - loss: 0.0061 - val_loss: 0.0218\n",
      "Epoch 13/80\n",
      "624/624 [==============================] - 0s 623us/sample - loss: 0.0076 - val_loss: 0.0220\n",
      "Epoch 14/80\n",
      "624/624 [==============================] - 0s 627us/sample - loss: 0.0073 - val_loss: 0.0170\n",
      "Epoch 15/80\n",
      "624/624 [==============================] - 0s 623us/sample - loss: 0.0059 - val_loss: 0.0203\n",
      "Epoch 16/80\n",
      "624/624 [==============================] - 0s 726us/sample - loss: 0.0063 - val_loss: 0.0629\n",
      "Epoch 17/80\n",
      "624/624 [==============================] - 0s 750us/sample - loss: 0.0079 - val_loss: 0.0628\n",
      "Epoch 18/80\n",
      "624/624 [==============================] - 1s 848us/sample - loss: 0.0079 - val_loss: 0.0215\n",
      "Epoch 19/80\n",
      "624/624 [==============================] - 0s 723us/sample - loss: 0.0060 - val_loss: 0.0307\n",
      "Epoch 20/80\n",
      "624/624 [==============================] - 0s 683us/sample - loss: 0.0055 - val_loss: 0.0286\n",
      "Epoch 21/80\n",
      "624/624 [==============================] - 0s 633us/sample - loss: 0.0053 - val_loss: 0.0245\n",
      "Epoch 22/80\n",
      "624/624 [==============================] - 0s 674us/sample - loss: 0.0059 - val_loss: 0.0227\n",
      "Epoch 23/80\n",
      "624/624 [==============================] - 0s 706us/sample - loss: 0.0060 - val_loss: 0.0306\n",
      "Epoch 24/80\n",
      "624/624 [==============================] - 0s 632us/sample - loss: 0.0066 - val_loss: 0.0275\n",
      "Epoch 25/80\n",
      "624/624 [==============================] - 0s 639us/sample - loss: 0.0065 - val_loss: 0.0327\n",
      "Epoch 26/80\n",
      "624/624 [==============================] - 0s 648us/sample - loss: 0.0053 - val_loss: 0.0219\n",
      "Epoch 27/80\n",
      "624/624 [==============================] - 0s 651us/sample - loss: 0.0062 - val_loss: 0.0327\n",
      "Epoch 28/80\n",
      "624/624 [==============================] - 0s 640us/sample - loss: 0.0063 - val_loss: 0.0214\n",
      "Epoch 29/80\n",
      "624/624 [==============================] - 0s 615us/sample - loss: 0.0056 - val_loss: 0.0274\n",
      "Epoch 30/80\n",
      "624/624 [==============================] - 0s 610us/sample - loss: 0.0065 - val_loss: 0.0152\n",
      "Epoch 31/80\n",
      "624/624 [==============================] - 0s 623us/sample - loss: 0.0064 - val_loss: 0.0149\n",
      "Epoch 32/80\n",
      "624/624 [==============================] - 0s 632us/sample - loss: 0.0073 - val_loss: 0.0530\n",
      "Epoch 33/80\n",
      "624/624 [==============================] - 0s 627us/sample - loss: 0.0069 - val_loss: 0.0291\n",
      "Epoch 34/80\n",
      "624/624 [==============================] - 0s 625us/sample - loss: 0.0052 - val_loss: 0.0182\n",
      "Epoch 35/80\n",
      "624/624 [==============================] - 0s 622us/sample - loss: 0.0057 - val_loss: 0.0229\n",
      "Epoch 36/80\n",
      "624/624 [==============================] - 0s 626us/sample - loss: 0.0053 - val_loss: 0.0193\n",
      "Epoch 37/80\n",
      "624/624 [==============================] - 0s 627us/sample - loss: 0.0049 - val_loss: 0.0226\n",
      "Epoch 38/80\n",
      "624/624 [==============================] - 0s 617us/sample - loss: 0.0073 - val_loss: 0.0501\n",
      "Epoch 39/80\n",
      "624/624 [==============================] - 0s 616us/sample - loss: 0.0064 - val_loss: 0.0302\n",
      "Epoch 40/80\n",
      "624/624 [==============================] - 0s 621us/sample - loss: 0.0064 - val_loss: 0.0164\n",
      "Epoch 41/80\n",
      "624/624 [==============================] - 0s 658us/sample - loss: 0.0063 - val_loss: 0.0188\n",
      "Epoch 42/80\n",
      "624/624 [==============================] - 0s 684us/sample - loss: 0.0057 - val_loss: 0.0216\n",
      "Epoch 43/80\n",
      "624/624 [==============================] - 0s 738us/sample - loss: 0.0053 - val_loss: 0.0158\n",
      "Epoch 44/80\n",
      "624/624 [==============================] - 0s 630us/sample - loss: 0.0061 - val_loss: 0.0157\n",
      "Epoch 45/80\n",
      "624/624 [==============================] - 0s 629us/sample - loss: 0.0059 - val_loss: 0.0207\n",
      "Epoch 46/80\n",
      "624/624 [==============================] - 0s 693us/sample - loss: 0.0064 - val_loss: 0.0178\n",
      "Epoch 47/80\n",
      "624/624 [==============================] - 0s 689us/sample - loss: 0.0066 - val_loss: 0.0243\n",
      "Epoch 48/80\n",
      "624/624 [==============================] - 0s 640us/sample - loss: 0.0055 - val_loss: 0.0174\n",
      "Epoch 49/80\n",
      "624/624 [==============================] - 0s 655us/sample - loss: 0.0052 - val_loss: 0.0293\n",
      "Epoch 50/80\n",
      "624/624 [==============================] - 0s 623us/sample - loss: 0.0067 - val_loss: 0.0193\n",
      "Epoch 51/80\n",
      "624/624 [==============================] - 0s 629us/sample - loss: 0.0057 - val_loss: 0.0163\n",
      "Epoch 52/80\n",
      "624/624 [==============================] - 0s 626us/sample - loss: 0.0061 - val_loss: 0.0166\n",
      "Epoch 53/80\n",
      "624/624 [==============================] - 0s 634us/sample - loss: 0.0061 - val_loss: 0.0141\n",
      "Epoch 54/80\n",
      "624/624 [==============================] - 0s 621us/sample - loss: 0.0063 - val_loss: 0.1041\n",
      "Epoch 55/80\n",
      "624/624 [==============================] - 0s 632us/sample - loss: 0.0069 - val_loss: 0.0251\n",
      "Epoch 56/80\n",
      "624/624 [==============================] - 0s 633us/sample - loss: 0.0052 - val_loss: 0.0212\n",
      "Epoch 57/80\n",
      "624/624 [==============================] - 0s 630us/sample - loss: 0.0081 - val_loss: 0.0281\n",
      "Epoch 58/80\n",
      "624/624 [==============================] - 0s 635us/sample - loss: 0.0066 - val_loss: 0.0163\n",
      "Epoch 59/80\n",
      "624/624 [==============================] - 0s 635us/sample - loss: 0.0068 - val_loss: 0.0327\n",
      "Epoch 60/80\n",
      "624/624 [==============================] - 0s 638us/sample - loss: 0.0069 - val_loss: 0.0199\n",
      "Epoch 61/80\n",
      "624/624 [==============================] - 0s 649us/sample - loss: 0.0060 - val_loss: 0.0185\n",
      "Epoch 62/80\n",
      "624/624 [==============================] - 0s 646us/sample - loss: 0.0061 - val_loss: 0.0301\n",
      "Epoch 63/80\n",
      "624/624 [==============================] - 0s 643us/sample - loss: 0.0064 - val_loss: 0.0283\n",
      "Epoch 64/80\n",
      "624/624 [==============================] - 0s 633us/sample - loss: 0.0064 - val_loss: 0.0224\n",
      "Epoch 65/80\n",
      "624/624 [==============================] - 0s 641us/sample - loss: 0.0057 - val_loss: 0.0301\n",
      "Epoch 66/80\n",
      "624/624 [==============================] - 0s 645us/sample - loss: 0.0056 - val_loss: 0.0368\n",
      "Epoch 67/80\n",
      "624/624 [==============================] - 0s 633us/sample - loss: 0.0056 - val_loss: 0.0224\n",
      "Epoch 68/80\n",
      "624/624 [==============================] - 0s 642us/sample - loss: 0.0077 - val_loss: 0.0545\n",
      "Epoch 69/80\n",
      "624/624 [==============================] - 0s 651us/sample - loss: 0.0071 - val_loss: 0.0281\n",
      "Epoch 70/80\n",
      "624/624 [==============================] - 0s 642us/sample - loss: 0.0062 - val_loss: 0.0269\n",
      "Epoch 71/80\n",
      "624/624 [==============================] - 0s 641us/sample - loss: 0.0062 - val_loss: 0.0272\n",
      "Epoch 72/80\n",
      "624/624 [==============================] - 0s 637us/sample - loss: 0.0059 - val_loss: 0.0206\n",
      "Epoch 73/80\n",
      "624/624 [==============================] - 0s 640us/sample - loss: 0.0075 - val_loss: 0.0183\n",
      "Epoch 74/80\n",
      "624/624 [==============================] - 0s 640us/sample - loss: 0.0054 - val_loss: 0.0161\n",
      "Epoch 75/80\n",
      "624/624 [==============================] - 0s 655us/sample - loss: 0.0060 - val_loss: 0.0173\n",
      "Epoch 76/80\n",
      "624/624 [==============================] - 0s 640us/sample - loss: 0.0066 - val_loss: 0.0161\n",
      "Epoch 77/80\n",
      "624/624 [==============================] - 0s 659us/sample - loss: 0.0090 - val_loss: 0.0280\n",
      "Epoch 78/80\n"
     ]
    },
    {
     "name": "stdout",
     "output_type": "stream",
     "text": [
      "624/624 [==============================] - 0s 709us/sample - loss: 0.0059 - val_loss: 0.0274\n",
      "Epoch 79/80\n",
      "624/624 [==============================] - 0s 651us/sample - loss: 0.0054 - val_loss: 0.0210\n",
      "Epoch 80/80\n",
      "624/624 [==============================] - 0s 650us/sample - loss: 0.0061 - val_loss: 0.0171\n"
     ]
    }
   ],
   "source": [
    "### try autoregressive RNN model\n",
    "i = Input(shape=(T, 1))\n",
    "x = LSTM(5)(i)\n",
    "x = Dense(1)(x)\n",
    "model = Model(i, x)\n",
    "model.compile(\n",
    "  loss='mse',\n",
    "  optimizer=Adam(lr=0.1),\n",
    ")\n",
    "\n",
    "# train the RNN\n",
    "r = model.fit(\n",
    "  X[:-N//2], Y[:-N//2],\n",
    "  epochs=80,\n",
    "  validation_data=(X[-N//2:], Y[-N//2:]),\n",
    ")"
   ]
  },
  {
   "cell_type": "code",
   "execution_count": 11,
   "metadata": {
    "colab": {
     "base_uri": "https://localhost:8080/",
     "height": 286
    },
    "colab_type": "code",
    "id": "gNKGakDwP6I8",
    "outputId": "40313073-51b0-4b68-9299-397032ecb9df"
   },
   "outputs": [
    {
     "data": {
      "text/plain": [
       "<matplotlib.legend.Legend at 0x1a416c7510>"
      ]
     },
     "execution_count": 11,
     "metadata": {},
     "output_type": "execute_result"
    },
    {
     "data": {
      "image/png": "[encoded data removed]",
      "text/plain": [
       "<Figure size 432x288 with 1 Axes>"
      ]
     },
     "metadata": {
      "needs_background": "light"
     },
     "output_type": "display_data"
    }
   ],
   "source": [
    "# Plot loss per iteration\n",
    "import matplotlib.pyplot as plt\n",
    "plt.plot(r.history['loss'], label='loss')\n",
    "plt.plot(r.history['val_loss'], label='val_loss')\n",
    "plt.legend()"
   ]
  },
  {
   "cell_type": "code",
   "execution_count": 12,
   "metadata": {
    "colab": {
     "base_uri": "https://localhost:8080/",
     "height": 286
    },
    "colab_type": "code",
    "id": "SnonG_CKP-W2",
    "outputId": "d800b5e9-6626-4489-fba3-bcf004740930"
   },
   "outputs": [
    {
     "name": "stdout",
     "output_type": "stream",
     "text": [
      "(1249, 1)\n"
     ]
    },
    {
     "data": {
      "image/png": "[encoded data removed]",
      "text/plain": [
       "<Figure size 432x288 with 1 Axes>"
      ]
     },
     "metadata": {
      "needs_background": "light"
     },
     "output_type": "display_data"
    }
   ],
   "source": [
    "# One-step forecast using true targets\n",
    "outputs = model.predict(X)\n",
    "print(outputs.shape)\n",
    "predictions = outputs[:,0]\n",
    "\n",
    "plt.plot(Y, label='targets')\n",
    "plt.plot(predictions, label='predictions')\n",
    "plt.legend()\n",
    "plt.show()"
   ]
  },
  {
   "cell_type": "code",
   "execution_count": 13,
   "metadata": {
    "colab": {
     "base_uri": "https://localhost:8080/",
     "height": 286
    },
    "colab_type": "code",
    "id": "_lQrWPlHQJw_",
    "outputId": "37989c10-af24-4212-e717-af42d6f34b12"
   },
   "outputs": [
    {
     "data": {
      "text/plain": [
       "<matplotlib.legend.Legend at 0x1a4f743710>"
      ]
     },
     "execution_count": 13,
     "metadata": {},
     "output_type": "execute_result"
    },
    {
     "data": {
      "image/png": "[encoded data removed]",
      "text/plain": [
       "<Figure size 432x288 with 1 Axes>"
      ]
     },
     "metadata": {
      "needs_background": "light"
     },
     "output_type": "display_data"
    }
   ],
   "source": [
    "# Multi-step forecast\n",
    "validation_target = Y[-N//2:]\n",
    "validation_predictions = []\n",
    "\n",
    "# first validation input\n",
    "last_x = X[-N//2] # 1-D array of length T\n",
    "\n",
    "while len(validation_predictions) < len(validation_target):\n",
    "  p = model.predict(last_x.reshape(1, T, 1))[0,0] # 1x1 array -> scalar\n",
    "  \n",
    "  # update the predictions list\n",
    "  validation_predictions.append(p)\n",
    "  \n",
    "  # make the new input\n",
    "  last_x = np.roll(last_x, -1)\n",
    "  last_x[-1] = p\n",
    "\n",
    "plt.plot(validation_target, label='forecast target')\n",
    "plt.plot(validation_predictions, label='forecast prediction')\n",
    "plt.legend()"
   ]
  },
  {
   "cell_type": "code",
   "execution_count": 14,
   "metadata": {
    "colab": {},
    "colab_type": "code",
    "id": "HyqtntC7OGu0"
   },
   "outputs": [],
   "source": [
    "# calculate returns by first shifting the data\n",
    "df['PrevClose'] = df['close'].shift(1) # move everything up 1\n",
    "\n",
    "# so now it's like\n",
    "# close / prev close\n",
    "# x[2] x[1]\n",
    "# x[3] x[2]\n",
    "# x[4] x[3]\n",
    "# ...\n",
    "# x[t] x[t-1]"
   ]
  },
  {
   "cell_type": "code",
   "execution_count": 15,
   "metadata": {
    "colab": {
     "base_uri": "https://localhost:8080/",
     "height": 204
    },
    "colab_type": "code",
    "id": "K4HG4nDUOPHK",
    "outputId": "5ae5536c-b6c9-4e0a-a806-d33cc10262e4"
   },
   "outputs": [
    {
     "data": {
      "text/html": [
       "<div>\n",
       "<style scoped>\n",
       "    .dataframe tbody tr th:only-of-type {\n",
       "        vertical-align: middle;\n",
       "    }\n",
       "\n",
       "    .dataframe tbody tr th {\n",
       "        vertical-align: top;\n",
       "    }\n",
       "\n",
       "    .dataframe thead th {\n",
       "        text-align: right;\n",
       "    }\n",
       "</style>\n",
       "<table border=\"1\" class=\"dataframe\">\n",
       "  <thead>\n",
       "    <tr style=\"text-align: right;\">\n",
       "      <th></th>\n",
       "      <th>date</th>\n",
       "      <th>open</th>\n",
       "      <th>high</th>\n",
       "      <th>low</th>\n",
       "      <th>close</th>\n",
       "      <th>volume</th>\n",
       "      <th>Name</th>\n",
       "      <th>PrevClose</th>\n",
       "    </tr>\n",
       "  </thead>\n",
       "  <tbody>\n",
       "    <tr>\n",
       "      <th>0</th>\n",
       "      <td>2013-02-08</td>\n",
       "      <td>27.920</td>\n",
       "      <td>28.325</td>\n",
       "      <td>27.920</td>\n",
       "      <td>28.185</td>\n",
       "      <td>7146296</td>\n",
       "      <td>SBUX</td>\n",
       "      <td>NaN</td>\n",
       "    </tr>\n",
       "    <tr>\n",
       "      <th>1</th>\n",
       "      <td>2013-02-11</td>\n",
       "      <td>28.260</td>\n",
       "      <td>28.260</td>\n",
       "      <td>27.930</td>\n",
       "      <td>28.070</td>\n",
       "      <td>5457354</td>\n",
       "      <td>SBUX</td>\n",
       "      <td>28.185</td>\n",
       "    </tr>\n",
       "    <tr>\n",
       "      <th>2</th>\n",
       "      <td>2013-02-12</td>\n",
       "      <td>28.000</td>\n",
       "      <td>28.275</td>\n",
       "      <td>27.975</td>\n",
       "      <td>28.130</td>\n",
       "      <td>8665592</td>\n",
       "      <td>SBUX</td>\n",
       "      <td>28.070</td>\n",
       "    </tr>\n",
       "    <tr>\n",
       "      <th>3</th>\n",
       "      <td>2013-02-13</td>\n",
       "      <td>28.230</td>\n",
       "      <td>28.230</td>\n",
       "      <td>27.750</td>\n",
       "      <td>27.915</td>\n",
       "      <td>7022056</td>\n",
       "      <td>SBUX</td>\n",
       "      <td>28.130</td>\n",
       "    </tr>\n",
       "    <tr>\n",
       "      <th>4</th>\n",
       "      <td>2013-02-14</td>\n",
       "      <td>27.765</td>\n",
       "      <td>27.905</td>\n",
       "      <td>27.675</td>\n",
       "      <td>27.775</td>\n",
       "      <td>8899188</td>\n",
       "      <td>SBUX</td>\n",
       "      <td>27.915</td>\n",
       "    </tr>\n",
       "  </tbody>\n",
       "</table>\n",
       "</div>"
      ],
      "text/plain": [
       "         date    open    high     low   close   volume  Name  PrevClose\n",
       "0  2013-02-08  27.920  28.325  27.920  28.185  7146296  SBUX        NaN\n",
       "1  2013-02-11  28.260  28.260  27.930  28.070  5457354  SBUX     28.185\n",
       "2  2013-02-12  28.000  28.275  27.975  28.130  8665592  SBUX     28.070\n",
       "3  2013-02-13  28.230  28.230  27.750  27.915  7022056  SBUX     28.130\n",
       "4  2013-02-14  27.765  27.905  27.675  27.775  8899188  SBUX     27.915"
      ]
     },
     "execution_count": 15,
     "metadata": {},
     "output_type": "execute_result"
    }
   ],
   "source": [
    "df.head()"
   ]
  },
  {
   "cell_type": "code",
   "execution_count": 16,
   "metadata": {
    "colab": {},
    "colab_type": "code",
    "id": "8NozObuNORn4"
   },
   "outputs": [],
   "source": [
    "# then the return is\n",
    "# (x[t] - x[t-1]) / x[t-1]\n",
    "df['Return'] = (df['close'] - df['PrevClose']) / df['PrevClose']"
   ]
  },
  {
   "cell_type": "code",
   "execution_count": 17,
   "metadata": {
    "colab": {
     "base_uri": "https://localhost:8080/",
     "height": 204
    },
    "colab_type": "code",
    "id": "1o0ynO0aOVWu",
    "outputId": "27396836-f73d-4c6c-adad-a7d55c01dbd7"
   },
   "outputs": [
    {
     "data": {
      "text/html": [
       "<div>\n",
       "<style scoped>\n",
       "    .dataframe tbody tr th:only-of-type {\n",
       "        vertical-align: middle;\n",
       "    }\n",
       "\n",
       "    .dataframe tbody tr th {\n",
       "        vertical-align: top;\n",
       "    }\n",
       "\n",
       "    .dataframe thead th {\n",
       "        text-align: right;\n",
       "    }\n",
       "</style>\n",
       "<table border=\"1\" class=\"dataframe\">\n",
       "  <thead>\n",
       "    <tr style=\"text-align: right;\">\n",
       "      <th></th>\n",
       "      <th>date</th>\n",
       "      <th>open</th>\n",
       "      <th>high</th>\n",
       "      <th>low</th>\n",
       "      <th>close</th>\n",
       "      <th>volume</th>\n",
       "      <th>Name</th>\n",
       "      <th>PrevClose</th>\n",
       "      <th>Return</th>\n",
       "    </tr>\n",
       "  </thead>\n",
       "  <tbody>\n",
       "    <tr>\n",
       "      <th>0</th>\n",
       "      <td>2013-02-08</td>\n",
       "      <td>27.920</td>\n",
       "      <td>28.325</td>\n",
       "      <td>27.920</td>\n",
       "      <td>28.185</td>\n",
       "      <td>7146296</td>\n",
       "      <td>SBUX</td>\n",
       "      <td>NaN</td>\n",
       "      <td>NaN</td>\n",
       "    </tr>\n",
       "    <tr>\n",
       "      <th>1</th>\n",
       "      <td>2013-02-11</td>\n",
       "      <td>28.260</td>\n",
       "      <td>28.260</td>\n",
       "      <td>27.930</td>\n",
       "      <td>28.070</td>\n",
       "      <td>5457354</td>\n",
       "      <td>SBUX</td>\n",
       "      <td>28.185</td>\n",
       "      <td>-0.004080</td>\n",
       "    </tr>\n",
       "    <tr>\n",
       "      <th>2</th>\n",
       "      <td>2013-02-12</td>\n",
       "      <td>28.000</td>\n",
       "      <td>28.275</td>\n",
       "      <td>27.975</td>\n",
       "      <td>28.130</td>\n",
       "      <td>8665592</td>\n",
       "      <td>SBUX</td>\n",
       "      <td>28.070</td>\n",
       "      <td>0.002138</td>\n",
       "    </tr>\n",
       "    <tr>\n",
       "      <th>3</th>\n",
       "      <td>2013-02-13</td>\n",
       "      <td>28.230</td>\n",
       "      <td>28.230</td>\n",
       "      <td>27.750</td>\n",
       "      <td>27.915</td>\n",
       "      <td>7022056</td>\n",
       "      <td>SBUX</td>\n",
       "      <td>28.130</td>\n",
       "      <td>-0.007643</td>\n",
       "    </tr>\n",
       "    <tr>\n",
       "      <th>4</th>\n",
       "      <td>2013-02-14</td>\n",
       "      <td>27.765</td>\n",
       "      <td>27.905</td>\n",
       "      <td>27.675</td>\n",
       "      <td>27.775</td>\n",
       "      <td>8899188</td>\n",
       "      <td>SBUX</td>\n",
       "      <td>27.915</td>\n",
       "      <td>-0.005015</td>\n",
       "    </tr>\n",
       "  </tbody>\n",
       "</table>\n",
       "</div>"
      ],
      "text/plain": [
       "         date    open    high     low   close   volume  Name  PrevClose  \\\n",
       "0  2013-02-08  27.920  28.325  27.920  28.185  7146296  SBUX        NaN   \n",
       "1  2013-02-11  28.260  28.260  27.930  28.070  5457354  SBUX     28.185   \n",
       "2  2013-02-12  28.000  28.275  27.975  28.130  8665592  SBUX     28.070   \n",
       "3  2013-02-13  28.230  28.230  27.750  27.915  7022056  SBUX     28.130   \n",
       "4  2013-02-14  27.765  27.905  27.675  27.775  8899188  SBUX     27.915   \n",
       "\n",
       "     Return  \n",
       "0       NaN  \n",
       "1 -0.004080  \n",
       "2  0.002138  \n",
       "3 -0.007643  \n",
       "4 -0.005015  "
      ]
     },
     "execution_count": 17,
     "metadata": {},
     "output_type": "execute_result"
    }
   ],
   "source": [
    "df.head()"
   ]
  },
  {
   "cell_type": "code",
   "execution_count": 18,
   "metadata": {
    "colab": {
     "base_uri": "https://localhost:8080/",
     "height": 286
    },
    "colab_type": "code",
    "id": "2caEww0GXddl",
    "outputId": "3b27b78a-f57d-429c-b0bf-c46cece021da"
   },
   "outputs": [
    {
     "data": {
      "text/plain": [
       "<matplotlib.axes._subplots.AxesSubplot at 0x1a4f8bb850>"
      ]
     },
     "execution_count": 18,
     "metadata": {},
     "output_type": "execute_result"
    },
    {
     "data": {
      "image/png": "[encoded data removed]",
      "text/plain": [
       "<Figure size 432x288 with 1 Axes>"
      ]
     },
     "metadata": {
      "needs_background": "light"
     },
     "output_type": "display_data"
    }
   ],
   "source": [
    "# Now let's try an LSTM to predict returns\n",
    "df['Return'].hist()"
   ]
  },
  {
   "cell_type": "code",
   "execution_count": 19,
   "metadata": {
    "colab": {},
    "colab_type": "code",
    "id": "t0xUTZvFXoHc"
   },
   "outputs": [],
   "source": [
    "series = df['Return'].values[1:].reshape(-1, 1)\n",
    "\n",
    "# Normalize the data\n",
    "# Note: I didn't think about where the true boundary is, this is just approx.\n",
    "scaler = StandardScaler()\n",
    "scaler.fit(series[:len(series) // 2])\n",
    "series = scaler.transform(series).flatten()"
   ]
  },
  {
   "cell_type": "code",
   "execution_count": 20,
   "metadata": {
    "colab": {
     "base_uri": "https://localhost:8080/",
     "height": 34
    },
    "colab_type": "code",
    "id": "PLNwOWOWX1m9",
    "outputId": "9500d410-468d-4bbf-8747-0db0e105c106"
   },
   "outputs": [
    {
     "name": "stdout",
     "output_type": "stream",
     "text": [
      "X.shape (1248, 10, 1) Y.shape (1248,)\n"
     ]
    }
   ],
   "source": [
    "### build the dataset\n",
    "# let's see if we can use T past values to predict the next value\n",
    "T = 10\n",
    "D = 1\n",
    "X = []\n",
    "Y = []\n",
    "for t in range(len(series) - T):\n",
    "  x = series[t:t+T]\n",
    "  X.append(x)\n",
    "  y = series[t+T]\n",
    "  Y.append(y)\n",
    "\n",
    "X = np.array(X).reshape(-1, T, 1) # Now the data should be N x T x D\n",
    "Y = np.array(Y)\n",
    "N = len(X)\n",
    "print(\"X.shape\", X.shape, \"Y.shape\", Y.shape)"
   ]
  },
  {
   "cell_type": "code",
   "execution_count": 21,
   "metadata": {
    "colab": {
     "base_uri": "https://localhost:8080/",
     "height": 1000
    },
    "colab_type": "code",
    "id": "F_fhQMaOYAxR",
    "outputId": "9c3f632e-f886-4d05-da4a-c3d00c2f1dca"
   },
   "outputs": [
    {
     "name": "stdout",
     "output_type": "stream",
     "text": [
      "Train on 624 samples, validate on 624 samples\n",
      "Epoch 1/80\n",
      "624/624 [==============================] - 4s 6ms/sample - loss: 0.9919 - val_loss: 1.1607\n",
      "Epoch 2/80\n",
      "624/624 [==============================] - 0s 638us/sample - loss: 0.9855 - val_loss: 1.1456\n",
      "Epoch 3/80\n",
      "624/624 [==============================] - 0s 629us/sample - loss: 0.9864 - val_loss: 1.1387\n",
      "Epoch 4/80\n",
      "624/624 [==============================] - 0s 626us/sample - loss: 0.9845 - val_loss: 1.1582\n",
      "Epoch 5/80\n",
      "624/624 [==============================] - 0s 637us/sample - loss: 0.9875 - val_loss: 1.1449\n",
      "Epoch 6/80\n",
      "624/624 [==============================] - 0s 637us/sample - loss: 0.9828 - val_loss: 1.1460\n",
      "Epoch 7/80\n",
      "624/624 [==============================] - 0s 629us/sample - loss: 0.9819 - val_loss: 1.1467\n",
      "Epoch 8/80\n",
      "624/624 [==============================] - 0s 631us/sample - loss: 0.9833 - val_loss: 1.1541\n",
      "Epoch 9/80\n",
      "624/624 [==============================] - 0s 646us/sample - loss: 0.9834 - val_loss: 1.1473\n",
      "Epoch 10/80\n",
      "624/624 [==============================] - 0s 618us/sample - loss: 0.9838 - val_loss: 1.1375\n",
      "Epoch 11/80\n",
      "624/624 [==============================] - 0s 631us/sample - loss: 0.9810 - val_loss: 1.1533\n",
      "Epoch 12/80\n",
      "624/624 [==============================] - 0s 631us/sample - loss: 0.9839 - val_loss: 1.1475\n",
      "Epoch 13/80\n",
      "624/624 [==============================] - 0s 631us/sample - loss: 0.9805 - val_loss: 1.1445\n",
      "Epoch 14/80\n",
      "624/624 [==============================] - 0s 624us/sample - loss: 0.9824 - val_loss: 1.1563\n",
      "Epoch 15/80\n",
      "624/624 [==============================] - 0s 630us/sample - loss: 0.9814 - val_loss: 1.1531\n",
      "Epoch 16/80\n",
      "624/624 [==============================] - 0s 635us/sample - loss: 0.9777 - val_loss: 1.1354\n",
      "Epoch 17/80\n",
      "624/624 [==============================] - 0s 624us/sample - loss: 0.9773 - val_loss: 1.1558\n",
      "Epoch 18/80\n",
      "624/624 [==============================] - 0s 636us/sample - loss: 0.9785 - val_loss: 1.1536\n",
      "Epoch 19/80\n",
      "624/624 [==============================] - 0s 618us/sample - loss: 0.9766 - val_loss: 1.1562\n",
      "Epoch 20/80\n",
      "624/624 [==============================] - 0s 630us/sample - loss: 0.9735 - val_loss: 1.1634\n",
      "Epoch 21/80\n",
      "624/624 [==============================] - 0s 643us/sample - loss: 0.9734 - val_loss: 1.1504\n",
      "Epoch 22/80\n",
      "624/624 [==============================] - 0s 656us/sample - loss: 0.9701 - val_loss: 1.1604\n",
      "Epoch 23/80\n",
      "624/624 [==============================] - 0s 656us/sample - loss: 0.9680 - val_loss: 1.1781\n",
      "Epoch 24/80\n",
      "624/624 [==============================] - 0s 643us/sample - loss: 0.9664 - val_loss: 1.1721\n",
      "Epoch 25/80\n",
      "624/624 [==============================] - 0s 622us/sample - loss: 0.9646 - val_loss: 1.1675\n",
      "Epoch 26/80\n",
      "624/624 [==============================] - 0s 633us/sample - loss: 0.9637 - val_loss: 1.1706\n",
      "Epoch 27/80\n",
      "624/624 [==============================] - 0s 632us/sample - loss: 0.9640 - val_loss: 1.1748\n",
      "Epoch 28/80\n",
      "624/624 [==============================] - 0s 710us/sample - loss: 0.9670 - val_loss: 1.1706\n",
      "Epoch 29/80\n",
      "624/624 [==============================] - 0s 631us/sample - loss: 0.9619 - val_loss: 1.1842\n",
      "Epoch 30/80\n",
      "624/624 [==============================] - 0s 622us/sample - loss: 0.9574 - val_loss: 1.1881\n",
      "Epoch 31/80\n",
      "624/624 [==============================] - 0s 649us/sample - loss: 0.9592 - val_loss: 1.1802\n",
      "Epoch 32/80\n",
      "624/624 [==============================] - 0s 631us/sample - loss: 0.9531 - val_loss: 1.1816\n",
      "Epoch 33/80\n",
      "624/624 [==============================] - 0s 649us/sample - loss: 0.9594 - val_loss: 1.1799\n",
      "Epoch 34/80\n",
      "624/624 [==============================] - 0s 624us/sample - loss: 0.9494 - val_loss: 1.1977\n",
      "Epoch 35/80\n",
      "624/624 [==============================] - 0s 638us/sample - loss: 0.9436 - val_loss: 1.1808\n",
      "Epoch 36/80\n",
      "624/624 [==============================] - 0s 636us/sample - loss: 0.9371 - val_loss: 1.1968\n",
      "Epoch 37/80\n",
      "624/624 [==============================] - 0s 630us/sample - loss: 0.9371 - val_loss: 1.1878\n",
      "Epoch 38/80\n",
      "624/624 [==============================] - 0s 649us/sample - loss: 0.9331 - val_loss: 1.2024\n",
      "Epoch 39/80\n",
      "624/624 [==============================] - 0s 640us/sample - loss: 0.9358 - val_loss: 1.2158\n",
      "Epoch 40/80\n",
      "624/624 [==============================] - 0s 631us/sample - loss: 0.9344 - val_loss: 1.1971\n",
      "Epoch 41/80\n",
      "624/624 [==============================] - 0s 645us/sample - loss: 0.9213 - val_loss: 1.2029\n",
      "Epoch 42/80\n",
      "624/624 [==============================] - 0s 634us/sample - loss: 0.9129 - val_loss: 1.2138\n",
      "Epoch 43/80\n",
      "624/624 [==============================] - 0s 659us/sample - loss: 0.9098 - val_loss: 1.2112\n",
      "Epoch 44/80\n",
      "624/624 [==============================] - 0s 643us/sample - loss: 0.9033 - val_loss: 1.2279\n",
      "Epoch 45/80\n",
      "624/624 [==============================] - 0s 634us/sample - loss: 0.9025 - val_loss: 1.2271\n",
      "Epoch 46/80\n",
      "624/624 [==============================] - 0s 643us/sample - loss: 0.8947 - val_loss: 1.2336\n",
      "Epoch 47/80\n",
      "624/624 [==============================] - 0s 638us/sample - loss: 0.8876 - val_loss: 1.2474\n",
      "Epoch 48/80\n",
      "624/624 [==============================] - 0s 652us/sample - loss: 0.9000 - val_loss: 1.2493\n",
      "Epoch 49/80\n",
      "624/624 [==============================] - 0s 645us/sample - loss: 0.8877 - val_loss: 1.2383\n",
      "Epoch 50/80\n",
      "624/624 [==============================] - 0s 659us/sample - loss: 0.8719 - val_loss: 1.2465\n",
      "Epoch 51/80\n",
      "624/624 [==============================] - 0s 654us/sample - loss: 0.8799 - val_loss: 1.2428\n",
      "Epoch 52/80\n",
      "624/624 [==============================] - 0s 642us/sample - loss: 0.8615 - val_loss: 1.2626\n",
      "Epoch 53/80\n",
      "624/624 [==============================] - 0s 651us/sample - loss: 0.8580 - val_loss: 1.2543\n",
      "Epoch 54/80\n",
      "624/624 [==============================] - 0s 641us/sample - loss: 0.8435 - val_loss: 1.2724\n",
      "Epoch 55/80\n",
      "624/624 [==============================] - 0s 646us/sample - loss: 0.8472 - val_loss: 1.2713\n",
      "Epoch 56/80\n",
      "624/624 [==============================] - 0s 659us/sample - loss: 0.8517 - val_loss: 1.2718\n",
      "Epoch 57/80\n",
      "624/624 [==============================] - 0s 657us/sample - loss: 0.8478 - val_loss: 1.2778\n",
      "Epoch 58/80\n",
      "624/624 [==============================] - 0s 641us/sample - loss: 0.8455 - val_loss: 1.2700\n",
      "Epoch 59/80\n",
      "624/624 [==============================] - 0s 651us/sample - loss: 0.8331 - val_loss: 1.2704\n",
      "Epoch 60/80\n",
      "624/624 [==============================] - 0s 639us/sample - loss: 0.8314 - val_loss: 1.2841\n",
      "Epoch 61/80\n",
      "624/624 [==============================] - 0s 644us/sample - loss: 0.8235 - val_loss: 1.2770\n",
      "Epoch 62/80\n",
      "624/624 [==============================] - 0s 650us/sample - loss: 0.8219 - val_loss: 1.2940\n",
      "Epoch 63/80\n",
      "624/624 [==============================] - 0s 642us/sample - loss: 0.8238 - val_loss: 1.2775\n",
      "Epoch 64/80\n",
      "624/624 [==============================] - 0s 655us/sample - loss: 0.8330 - val_loss: 1.2897\n",
      "Epoch 65/80\n",
      "624/624 [==============================] - 0s 637us/sample - loss: 0.8224 - val_loss: 1.2912\n",
      "Epoch 66/80\n",
      "624/624 [==============================] - 0s 651us/sample - loss: 0.8273 - val_loss: 1.2911\n",
      "Epoch 67/80\n",
      "624/624 [==============================] - 0s 647us/sample - loss: 0.8115 - val_loss: 1.2943\n",
      "Epoch 68/80\n",
      "624/624 [==============================] - 0s 679us/sample - loss: 0.8009 - val_loss: 1.3106\n",
      "Epoch 69/80\n",
      "624/624 [==============================] - 0s 657us/sample - loss: 0.8028 - val_loss: 1.2980\n",
      "Epoch 70/80\n",
      "624/624 [==============================] - 0s 772us/sample - loss: 0.8101 - val_loss: 1.3036\n",
      "Epoch 71/80\n",
      "624/624 [==============================] - 0s 631us/sample - loss: 0.8001 - val_loss: 1.3094\n",
      "Epoch 72/80\n",
      "624/624 [==============================] - 0s 650us/sample - loss: 0.8049 - val_loss: 1.3137\n",
      "Epoch 73/80\n",
      "624/624 [==============================] - 0s 647us/sample - loss: 0.8068 - val_loss: 1.3125\n",
      "Epoch 74/80\n",
      "624/624 [==============================] - 0s 639us/sample - loss: 0.8057 - val_loss: 1.3134\n",
      "Epoch 75/80\n",
      "624/624 [==============================] - 0s 645us/sample - loss: 0.7977 - val_loss: 1.3234\n",
      "Epoch 76/80\n",
      "624/624 [==============================] - 0s 640us/sample - loss: 0.7930 - val_loss: 1.3348\n",
      "Epoch 77/80\n",
      "624/624 [==============================] - 0s 657us/sample - loss: 0.7944 - val_loss: 1.3303\n",
      "Epoch 78/80\n"
     ]
    },
    {
     "name": "stdout",
     "output_type": "stream",
     "text": [
      "624/624 [==============================] - 0s 650us/sample - loss: 0.7792 - val_loss: 1.3210\n",
      "Epoch 79/80\n",
      "624/624 [==============================] - 0s 625us/sample - loss: 0.7819 - val_loss: 1.3640\n",
      "Epoch 80/80\n",
      "624/624 [==============================] - 0s 650us/sample - loss: 0.8000 - val_loss: 1.3406\n"
     ]
    }
   ],
   "source": [
    "### try autoregressive RNN model\n",
    "i = Input(shape=(T, 1))\n",
    "x = LSTM(5)(i)\n",
    "x = Dense(1)(x)\n",
    "model = Model(i, x)\n",
    "model.compile(\n",
    "  loss='mse',\n",
    "  optimizer=Adam(lr=0.01),\n",
    ")\n",
    "\n",
    "# train the RNN\n",
    "r = model.fit(\n",
    "  X[:-N//2], Y[:-N//2],\n",
    "  epochs=80,\n",
    "  validation_data=(X[-N//2:], Y[-N//2:]),\n",
    ")"
   ]
  },
  {
   "cell_type": "code",
   "execution_count": 22,
   "metadata": {
    "colab": {
     "base_uri": "https://localhost:8080/",
     "height": 286
    },
    "colab_type": "code",
    "id": "-RulDED_YFAQ",
    "outputId": "8eabd461-ff9c-4202-c655-279b0c9519a9"
   },
   "outputs": [
    {
     "data": {
      "text/plain": [
       "<matplotlib.legend.Legend at 0x1a51bfdf90>"
      ]
     },
     "execution_count": 22,
     "metadata": {},
     "output_type": "execute_result"
    },
    {
     "data": {
      "image/png": "[encoded data removed]",
      "text/plain": [
       "<Figure size 432x288 with 1 Axes>"
      ]
     },
     "metadata": {
      "needs_background": "light"
     },
     "output_type": "display_data"
    }
   ],
   "source": [
    "# Plot loss per iteration\n",
    "import matplotlib.pyplot as plt\n",
    "plt.plot(r.history['loss'], label='loss')\n",
    "plt.plot(r.history['val_loss'], label='val_loss')\n",
    "plt.legend()"
   ]
  },
  {
   "cell_type": "code",
   "execution_count": 23,
   "metadata": {
    "colab": {
     "base_uri": "https://localhost:8080/",
     "height": 286
    },
    "colab_type": "code",
    "id": "euWSVgj2YFXA",
    "outputId": "89bd5df2-8d9f-4076-c023-2e07500b518c"
   },
   "outputs": [
    {
     "name": "stdout",
     "output_type": "stream",
     "text": [
      "(1248, 1)\n"
     ]
    },
    {
     "data": {
      "image/png": "[encoded data removed]",
      "text/plain": [
       "<Figure size 432x288 with 1 Axes>"
      ]
     },
     "metadata": {
      "needs_background": "light"
     },
     "output_type": "display_data"
    }
   ],
   "source": [
    "# One-step forecast using true targets\n",
    "outputs = model.predict(X)\n",
    "print(outputs.shape)\n",
    "predictions = outputs[:,0]\n",
    "\n",
    "plt.plot(Y, label='targets')\n",
    "plt.plot(predictions, label='predictions')\n",
    "plt.legend()\n",
    "plt.show()"
   ]
  },
  {
   "cell_type": "code",
   "execution_count": 24,
   "metadata": {
    "colab": {
     "base_uri": "https://localhost:8080/",
     "height": 286
    },
    "colab_type": "code",
    "id": "Vqu6ScQrYIWV",
    "outputId": "d944717c-b87f-4f44-971f-9aa16134f885"
   },
   "outputs": [
    {
     "data": {
      "text/plain": [
       "<matplotlib.legend.Legend at 0x1a5e485350>"
      ]
     },
     "execution_count": 24,
     "metadata": {},
     "output_type": "execute_result"
    },
    {
     "data": {
      "image/png": "[encoded data removed]",
      "text/plain": [
       "<Figure size 432x288 with 1 Axes>"
      ]
     },
     "metadata": {
      "needs_background": "light"
     },
     "output_type": "display_data"
    }
   ],
   "source": [
    "# Multi-step forecast\n",
    "validation_target = Y[-N//2:]\n",
    "validation_predictions = []\n",
    "\n",
    "# first validation input\n",
    "last_x = X[-N//2] # 1-D array of length T\n",
    "\n",
    "while len(validation_predictions) < len(validation_target):\n",
    "  p = model.predict(last_x.reshape(1, T, 1))[0,0] # 1x1 array -> scalar\n",
    "  \n",
    "  # update the predictions list\n",
    "  validation_predictions.append(p)\n",
    "  \n",
    "  # make the new input\n",
    "  last_x = np.roll(last_x, -1)\n",
    "  last_x[-1] = p\n",
    "\n",
    "plt.plot(validation_target, label='forecast target')\n",
    "plt.plot(validation_predictions, label='forecast prediction')\n",
    "plt.legend()"
   ]
  },
  {
   "cell_type": "code",
   "execution_count": 25,
   "metadata": {
    "colab": {},
    "colab_type": "code",
    "id": "VwgGvQsDOZ5T"
   },
   "outputs": [],
   "source": [
    "# Now turn the full data into numpy arrays\n",
    "\n",
    "# Not yet in the final \"X\" format!\n",
    "input_data = df[['open', 'high', 'low', 'close', 'volume']].values\n",
    "targets = df['Return'].values"
   ]
  },
  {
   "cell_type": "code",
   "execution_count": 26,
   "metadata": {
    "colab": {},
    "colab_type": "code",
    "id": "-sdYhd7mObwI"
   },
   "outputs": [],
   "source": [
    "# Now make the actual data which will go into the neural network\n",
    "T = 10 # the number of time steps to look at to make a prediction for the next day\n",
    "D = input_data.shape[1]\n",
    "N = len(input_data) - T # (e.g. if T=10 and you have 11 data points then you'd only have 1 sample)"
   ]
  },
  {
   "cell_type": "code",
   "execution_count": 27,
   "metadata": {
    "colab": {},
    "colab_type": "code",
    "id": "79CkMlgHOejZ"
   },
   "outputs": [],
   "source": [
    "# normalize the inputs\n",
    "Ntrain = len(input_data) * 2 // 3\n",
    "scaler = StandardScaler()\n",
    "scaler.fit(input_data[:Ntrain + T - 1])\n",
    "input_data = scaler.transform(input_data)"
   ]
  },
  {
   "cell_type": "code",
   "execution_count": 28,
   "metadata": {
    "colab": {},
    "colab_type": "code",
    "id": "bfQcj1gpOme2"
   },
   "outputs": [],
   "source": [
    "# Setup X_train and Y_train\n",
    "X_train = np.zeros((Ntrain, T, D))\n",
    "Y_train = np.zeros(Ntrain)\n",
    "\n",
    "for t in range(Ntrain):\n",
    "  X_train[t, :, :] = input_data[t:t+T]\n",
    "  Y_train[t] = (targets[t+T] > 0)"
   ]
  },
  {
   "cell_type": "code",
   "execution_count": 29,
   "metadata": {
    "colab": {},
    "colab_type": "code",
    "id": "HhUo6COMOsZi"
   },
   "outputs": [],
   "source": [
    "# Setup X_test and Y_test\n",
    "X_test = np.zeros((N - Ntrain, T, D))\n",
    "Y_test = np.zeros(N - Ntrain)\n",
    "\n",
    "for u in range(N - Ntrain):\n",
    "  # u counts from 0...(N - Ntrain)\n",
    "  # t counts from Ntrain...N\n",
    "  t = u + Ntrain\n",
    "  X_test[u, :, :] = input_data[t:t+T]\n",
    "  Y_test[u] = (targets[t+T] > 0)"
   ]
  },
  {
   "cell_type": "code",
   "execution_count": 30,
   "metadata": {
    "colab": {},
    "colab_type": "code",
    "id": "7tBDk_1FRUFt"
   },
   "outputs": [],
   "source": [
    "# make the RNN\n",
    "i = Input(shape=(T, D))\n",
    "x = LSTM(50)(i)\n",
    "x = Dense(1, activation='sigmoid')(x)\n",
    "model = Model(i, x)\n",
    "model.compile(\n",
    "  loss='binary_crossentropy',\n",
    "  optimizer=Adam(lr=0.001),\n",
    "  metrics=['accuracy'],\n",
    ")"
   ]
  },
  {
   "cell_type": "code",
   "execution_count": 31,
   "metadata": {
    "colab": {
     "base_uri": "https://localhost:8080/",
     "height": 1000
    },
    "colab_type": "code",
    "id": "IQqNykvGRXGz",
    "outputId": "f7a11389-9562-466d-c136-cdc0909099f4"
   },
   "outputs": [
    {
     "name": "stdout",
     "output_type": "stream",
     "text": [
      "Train on 839 samples, validate on 410 samples\n",
      "Epoch 1/300\n",
      "839/839 [==============================] - 5s 6ms/sample - loss: 0.6949 - accuracy: 0.5149 - val_loss: 0.6973 - val_accuracy: 0.4707\n",
      "Epoch 2/300\n",
      "839/839 [==============================] - 1s 784us/sample - loss: 0.6923 - accuracy: 0.5197 - val_loss: 0.6943 - val_accuracy: 0.4976\n",
      "Epoch 3/300\n",
      "839/839 [==============================] - 1s 775us/sample - loss: 0.6933 - accuracy: 0.5411 - val_loss: 0.6947 - val_accuracy: 0.4829\n",
      "Epoch 4/300\n",
      "839/839 [==============================] - 1s 791us/sample - loss: 0.6931 - accuracy: 0.5244 - val_loss: 0.6939 - val_accuracy: 0.5073\n",
      "Epoch 5/300\n",
      "839/839 [==============================] - 1s 807us/sample - loss: 0.6910 - accuracy: 0.5292 - val_loss: 0.6961 - val_accuracy: 0.4902\n",
      "Epoch 6/300\n",
      "839/839 [==============================] - 1s 790us/sample - loss: 0.6909 - accuracy: 0.5161 - val_loss: 0.6919 - val_accuracy: 0.5268\n",
      "Epoch 7/300\n",
      "839/839 [==============================] - 1s 825us/sample - loss: 0.6908 - accuracy: 0.5364 - val_loss: 0.6967 - val_accuracy: 0.4902\n",
      "Epoch 8/300\n",
      "839/839 [==============================] - 1s 809us/sample - loss: 0.6904 - accuracy: 0.5364 - val_loss: 0.6955 - val_accuracy: 0.4951\n",
      "Epoch 9/300\n",
      "839/839 [==============================] - 1s 814us/sample - loss: 0.6904 - accuracy: 0.5089 - val_loss: 0.6923 - val_accuracy: 0.4951\n",
      "Epoch 10/300\n",
      "839/839 [==============================] - 1s 815us/sample - loss: 0.6890 - accuracy: 0.5340 - val_loss: 0.6911 - val_accuracy: 0.5439\n",
      "Epoch 11/300\n",
      "839/839 [==============================] - 1s 817us/sample - loss: 0.6913 - accuracy: 0.5483 - val_loss: 0.6943 - val_accuracy: 0.4878\n",
      "Epoch 12/300\n",
      "839/839 [==============================] - 1s 830us/sample - loss: 0.6894 - accuracy: 0.5340 - val_loss: 0.6958 - val_accuracy: 0.4927\n",
      "Epoch 13/300\n",
      "839/839 [==============================] - 1s 825us/sample - loss: 0.6888 - accuracy: 0.5387 - val_loss: 0.6957 - val_accuracy: 0.5000\n",
      "Epoch 14/300\n",
      "839/839 [==============================] - 1s 825us/sample - loss: 0.6900 - accuracy: 0.5197 - val_loss: 0.6911 - val_accuracy: 0.5195\n",
      "Epoch 15/300\n",
      "839/839 [==============================] - 1s 821us/sample - loss: 0.6890 - accuracy: 0.5328 - val_loss: 0.6944 - val_accuracy: 0.4829\n",
      "Epoch 16/300\n",
      "839/839 [==============================] - 1s 840us/sample - loss: 0.6890 - accuracy: 0.5280 - val_loss: 0.6976 - val_accuracy: 0.4902\n",
      "Epoch 17/300\n",
      "839/839 [==============================] - 1s 831us/sample - loss: 0.6869 - accuracy: 0.5471 - val_loss: 0.6932 - val_accuracy: 0.4951\n",
      "Epoch 18/300\n",
      "839/839 [==============================] - 1s 844us/sample - loss: 0.6871 - accuracy: 0.5518 - val_loss: 0.6933 - val_accuracy: 0.4902\n",
      "Epoch 19/300\n",
      "839/839 [==============================] - 1s 868us/sample - loss: 0.6868 - accuracy: 0.5411 - val_loss: 0.6938 - val_accuracy: 0.4854\n",
      "Epoch 20/300\n",
      "839/839 [==============================] - 1s 913us/sample - loss: 0.6860 - accuracy: 0.5471 - val_loss: 0.6948 - val_accuracy: 0.4976\n",
      "Epoch 21/300\n",
      "839/839 [==============================] - 1s 930us/sample - loss: 0.6879 - accuracy: 0.5209 - val_loss: 0.6994 - val_accuracy: 0.4976\n",
      "Epoch 22/300\n",
      "839/839 [==============================] - 1s 873us/sample - loss: 0.6862 - accuracy: 0.5530 - val_loss: 0.6945 - val_accuracy: 0.5000\n",
      "Epoch 23/300\n",
      "839/839 [==============================] - 1s 890us/sample - loss: 0.6852 - accuracy: 0.5423 - val_loss: 0.6950 - val_accuracy: 0.4854\n",
      "Epoch 24/300\n",
      "839/839 [==============================] - 1s 865us/sample - loss: 0.6872 - accuracy: 0.5554 - val_loss: 0.6955 - val_accuracy: 0.4951\n",
      "Epoch 25/300\n",
      "839/839 [==============================] - 1s 852us/sample - loss: 0.6861 - accuracy: 0.5280 - val_loss: 0.6928 - val_accuracy: 0.5122\n",
      "Epoch 26/300\n",
      "839/839 [==============================] - 1s 864us/sample - loss: 0.6875 - accuracy: 0.5375 - val_loss: 0.7024 - val_accuracy: 0.5024\n",
      "Epoch 27/300\n",
      "839/839 [==============================] - 1s 934us/sample - loss: 0.6845 - accuracy: 0.5530 - val_loss: 0.6961 - val_accuracy: 0.4976\n",
      "Epoch 28/300\n",
      "839/839 [==============================] - 1s 838us/sample - loss: 0.6842 - accuracy: 0.5435 - val_loss: 0.6927 - val_accuracy: 0.5390\n",
      "Epoch 29/300\n",
      "839/839 [==============================] - 1s 958us/sample - loss: 0.6838 - accuracy: 0.5590 - val_loss: 0.6929 - val_accuracy: 0.5390\n",
      "Epoch 30/300\n",
      "839/839 [==============================] - 1s 891us/sample - loss: 0.6830 - accuracy: 0.5614 - val_loss: 0.6990 - val_accuracy: 0.4902\n",
      "Epoch 31/300\n",
      "839/839 [==============================] - 1s 945us/sample - loss: 0.6841 - accuracy: 0.5685 - val_loss: 0.6948 - val_accuracy: 0.5293\n",
      "Epoch 32/300\n",
      "839/839 [==============================] - 1s 913us/sample - loss: 0.6823 - accuracy: 0.5769 - val_loss: 0.6940 - val_accuracy: 0.5268\n",
      "Epoch 33/300\n",
      "839/839 [==============================] - 1s 910us/sample - loss: 0.6818 - accuracy: 0.5781 - val_loss: 0.6997 - val_accuracy: 0.5024\n",
      "Epoch 34/300\n",
      "839/839 [==============================] - 1s 1ms/sample - loss: 0.6822 - accuracy: 0.5721 - val_loss: 0.7004 - val_accuracy: 0.4976\n",
      "Epoch 35/300\n",
      "839/839 [==============================] - 1s 964us/sample - loss: 0.6814 - accuracy: 0.5650 - val_loss: 0.6974 - val_accuracy: 0.5244\n",
      "Epoch 36/300\n",
      "839/839 [==============================] - 1s 945us/sample - loss: 0.6799 - accuracy: 0.5721 - val_loss: 0.6980 - val_accuracy: 0.5122\n",
      "Epoch 37/300\n",
      "839/839 [==============================] - 1s 951us/sample - loss: 0.6802 - accuracy: 0.5566 - val_loss: 0.6967 - val_accuracy: 0.5220\n",
      "Epoch 38/300\n",
      "839/839 [==============================] - 1s 891us/sample - loss: 0.6785 - accuracy: 0.5626 - val_loss: 0.6993 - val_accuracy: 0.5146\n",
      "Epoch 39/300\n",
      "839/839 [==============================] - 1s 1ms/sample - loss: 0.6793 - accuracy: 0.5662 - val_loss: 0.6978 - val_accuracy: 0.5146\n",
      "Epoch 40/300\n",
      "839/839 [==============================] - 1s 957us/sample - loss: 0.6789 - accuracy: 0.5578 - val_loss: 0.7048 - val_accuracy: 0.4878\n",
      "Epoch 41/300\n",
      "839/839 [==============================] - 1s 878us/sample - loss: 0.6774 - accuracy: 0.5697 - val_loss: 0.6964 - val_accuracy: 0.5244\n",
      "Epoch 42/300\n",
      "839/839 [==============================] - 1s 876us/sample - loss: 0.6758 - accuracy: 0.5733 - val_loss: 0.6977 - val_accuracy: 0.5220\n",
      "Epoch 43/300\n",
      "839/839 [==============================] - 1s 935us/sample - loss: 0.6767 - accuracy: 0.5673 - val_loss: 0.7011 - val_accuracy: 0.5122\n",
      "Epoch 44/300\n",
      "839/839 [==============================] - 1s 935us/sample - loss: 0.6752 - accuracy: 0.5721 - val_loss: 0.6979 - val_accuracy: 0.5220\n",
      "Epoch 45/300\n",
      "839/839 [==============================] - 1s 1ms/sample - loss: 0.6738 - accuracy: 0.5578 - val_loss: 0.7012 - val_accuracy: 0.5073\n",
      "Epoch 46/300\n",
      "839/839 [==============================] - 1s 988us/sample - loss: 0.6722 - accuracy: 0.5685 - val_loss: 0.6975 - val_accuracy: 0.5244\n",
      "Epoch 47/300\n",
      "839/839 [==============================] - 1s 975us/sample - loss: 0.6708 - accuracy: 0.5745 - val_loss: 0.7032 - val_accuracy: 0.5098\n",
      "Epoch 48/300\n",
      "839/839 [==============================] - 1s 953us/sample - loss: 0.6730 - accuracy: 0.5697 - val_loss: 0.7078 - val_accuracy: 0.4927\n",
      "Epoch 49/300\n",
      "839/839 [==============================] - 1s 999us/sample - loss: 0.6739 - accuracy: 0.5614 - val_loss: 0.7025 - val_accuracy: 0.5098\n",
      "Epoch 50/300\n",
      "839/839 [==============================] - 1s 993us/sample - loss: 0.6703 - accuracy: 0.5745 - val_loss: 0.7007 - val_accuracy: 0.5268\n",
      "Epoch 51/300\n",
      "839/839 [==============================] - 1s 912us/sample - loss: 0.6693 - accuracy: 0.5805 - val_loss: 0.7022 - val_accuracy: 0.5024\n",
      "Epoch 52/300\n",
      "839/839 [==============================] - 1s 916us/sample - loss: 0.6679 - accuracy: 0.5805 - val_loss: 0.7016 - val_accuracy: 0.5049\n",
      "Epoch 53/300\n",
      "839/839 [==============================] - 1s 859us/sample - loss: 0.6687 - accuracy: 0.5924 - val_loss: 0.7029 - val_accuracy: 0.5024\n",
      "Epoch 54/300\n",
      "839/839 [==============================] - 1s 911us/sample - loss: 0.6695 - accuracy: 0.5721 - val_loss: 0.7041 - val_accuracy: 0.5171\n",
      "Epoch 55/300\n",
      "839/839 [==============================] - 1s 932us/sample - loss: 0.6671 - accuracy: 0.5971 - val_loss: 0.7068 - val_accuracy: 0.5024\n",
      "Epoch 56/300\n"
     ]
    },
    {
     "name": "stdout",
     "output_type": "stream",
     "text": [
      "839/839 [==============================] - 1s 855us/sample - loss: 0.6658 - accuracy: 0.5852 - val_loss: 0.7014 - val_accuracy: 0.5146\n",
      "Epoch 57/300\n",
      "839/839 [==============================] - 1s 899us/sample - loss: 0.6647 - accuracy: 0.5828 - val_loss: 0.7054 - val_accuracy: 0.5049\n",
      "Epoch 58/300\n",
      "839/839 [==============================] - 1s 886us/sample - loss: 0.6639 - accuracy: 0.5876 - val_loss: 0.7039 - val_accuracy: 0.5073\n",
      "Epoch 59/300\n",
      "839/839 [==============================] - 1s 914us/sample - loss: 0.6634 - accuracy: 0.5876 - val_loss: 0.7054 - val_accuracy: 0.5000\n",
      "Epoch 60/300\n",
      "839/839 [==============================] - 1s 1ms/sample - loss: 0.6635 - accuracy: 0.5864 - val_loss: 0.7071 - val_accuracy: 0.5024\n",
      "Epoch 61/300\n",
      "839/839 [==============================] - 1s 1ms/sample - loss: 0.6626 - accuracy: 0.5912 - val_loss: 0.7067 - val_accuracy: 0.5049\n",
      "Epoch 62/300\n",
      "839/839 [==============================] - 1s 1ms/sample - loss: 0.6586 - accuracy: 0.5864 - val_loss: 0.6994 - val_accuracy: 0.4829\n",
      "Epoch 63/300\n",
      "839/839 [==============================] - 1s 930us/sample - loss: 0.6602 - accuracy: 0.5983 - val_loss: 0.7064 - val_accuracy: 0.5000\n",
      "Epoch 64/300\n",
      "839/839 [==============================] - 1s 999us/sample - loss: 0.6592 - accuracy: 0.5840 - val_loss: 0.7006 - val_accuracy: 0.5000\n",
      "Epoch 65/300\n",
      "839/839 [==============================] - 1s 926us/sample - loss: 0.6553 - accuracy: 0.5948 - val_loss: 0.7039 - val_accuracy: 0.5024\n",
      "Epoch 66/300\n",
      "839/839 [==============================] - 1s 909us/sample - loss: 0.6565 - accuracy: 0.6067 - val_loss: 0.7139 - val_accuracy: 0.4976\n",
      "Epoch 67/300\n",
      "839/839 [==============================] - 1s 1ms/sample - loss: 0.6565 - accuracy: 0.5995 - val_loss: 0.7114 - val_accuracy: 0.5000\n",
      "Epoch 68/300\n",
      "839/839 [==============================] - 1s 2ms/sample - loss: 0.6556 - accuracy: 0.5924 - val_loss: 0.7055 - val_accuracy: 0.4902\n",
      "Epoch 69/300\n",
      "839/839 [==============================] - 1s 1ms/sample - loss: 0.6540 - accuracy: 0.5936 - val_loss: 0.7100 - val_accuracy: 0.5049\n",
      "Epoch 70/300\n",
      "839/839 [==============================] - 1s 1ms/sample - loss: 0.6528 - accuracy: 0.6031 - val_loss: 0.7075 - val_accuracy: 0.4878\n",
      "Epoch 71/300\n",
      "839/839 [==============================] - 1s 1ms/sample - loss: 0.6497 - accuracy: 0.6103 - val_loss: 0.7157 - val_accuracy: 0.4902\n",
      "Epoch 72/300\n",
      "839/839 [==============================] - 1s 955us/sample - loss: 0.6452 - accuracy: 0.6186 - val_loss: 0.7183 - val_accuracy: 0.4829\n",
      "Epoch 73/300\n",
      "839/839 [==============================] - 1s 992us/sample - loss: 0.6451 - accuracy: 0.6150 - val_loss: 0.7086 - val_accuracy: 0.4927\n",
      "Epoch 74/300\n",
      "839/839 [==============================] - 1s 908us/sample - loss: 0.6466 - accuracy: 0.6043 - val_loss: 0.7169 - val_accuracy: 0.4805\n",
      "Epoch 75/300\n",
      "839/839 [==============================] - 1s 923us/sample - loss: 0.6451 - accuracy: 0.6103 - val_loss: 0.7183 - val_accuracy: 0.4756\n",
      "Epoch 76/300\n",
      "839/839 [==============================] - 1s 882us/sample - loss: 0.6452 - accuracy: 0.5936 - val_loss: 0.7127 - val_accuracy: 0.4854\n",
      "Epoch 77/300\n",
      "839/839 [==============================] - 1s 907us/sample - loss: 0.6429 - accuracy: 0.6126 - val_loss: 0.7182 - val_accuracy: 0.4780\n",
      "Epoch 78/300\n",
      "839/839 [==============================] - 1s 893us/sample - loss: 0.6411 - accuracy: 0.6234 - val_loss: 0.7277 - val_accuracy: 0.5000\n",
      "Epoch 79/300\n",
      "839/839 [==============================] - 1s 888us/sample - loss: 0.6394 - accuracy: 0.6174 - val_loss: 0.7175 - val_accuracy: 0.4537\n",
      "Epoch 80/300\n",
      "839/839 [==============================] - 1s 900us/sample - loss: 0.6364 - accuracy: 0.6126 - val_loss: 0.7250 - val_accuracy: 0.4634\n",
      "Epoch 81/300\n",
      "839/839 [==============================] - 1s 907us/sample - loss: 0.6411 - accuracy: 0.6055 - val_loss: 0.7261 - val_accuracy: 0.4634\n",
      "Epoch 82/300\n",
      "839/839 [==============================] - 1s 908us/sample - loss: 0.6398 - accuracy: 0.6293 - val_loss: 0.7287 - val_accuracy: 0.4634\n",
      "Epoch 83/300\n",
      "839/839 [==============================] - 1s 852us/sample - loss: 0.6297 - accuracy: 0.6281 - val_loss: 0.7378 - val_accuracy: 0.4585\n",
      "Epoch 84/300\n",
      "839/839 [==============================] - 1s 840us/sample - loss: 0.6329 - accuracy: 0.6293 - val_loss: 0.7274 - val_accuracy: 0.4610\n",
      "Epoch 85/300\n",
      "839/839 [==============================] - 1s 841us/sample - loss: 0.6284 - accuracy: 0.6317 - val_loss: 0.7355 - val_accuracy: 0.4512\n",
      "Epoch 86/300\n",
      "839/839 [==============================] - 1s 846us/sample - loss: 0.6246 - accuracy: 0.6174 - val_loss: 0.7404 - val_accuracy: 0.4659\n",
      "Epoch 87/300\n",
      "839/839 [==============================] - 1s 868us/sample - loss: 0.6226 - accuracy: 0.6353 - val_loss: 0.7334 - val_accuracy: 0.4463\n",
      "Epoch 88/300\n",
      "839/839 [==============================] - 1s 893us/sample - loss: 0.6218 - accuracy: 0.6424 - val_loss: 0.7415 - val_accuracy: 0.4561\n",
      "Epoch 89/300\n",
      "839/839 [==============================] - 1s 911us/sample - loss: 0.6205 - accuracy: 0.6317 - val_loss: 0.7381 - val_accuracy: 0.4610\n",
      "Epoch 90/300\n",
      "839/839 [==============================] - 1s 895us/sample - loss: 0.6135 - accuracy: 0.6460 - val_loss: 0.7438 - val_accuracy: 0.4659\n",
      "Epoch 91/300\n",
      "839/839 [==============================] - 1s 912us/sample - loss: 0.6116 - accuracy: 0.6472 - val_loss: 0.7473 - val_accuracy: 0.4463\n",
      "Epoch 92/300\n",
      "839/839 [==============================] - 1s 908us/sample - loss: 0.6094 - accuracy: 0.6544 - val_loss: 0.7489 - val_accuracy: 0.4512\n",
      "Epoch 93/300\n",
      "839/839 [==============================] - 1s 907us/sample - loss: 0.6078 - accuracy: 0.6460 - val_loss: 0.7445 - val_accuracy: 0.4683\n",
      "Epoch 94/300\n",
      "839/839 [==============================] - 1s 902us/sample - loss: 0.6117 - accuracy: 0.6520 - val_loss: 0.7524 - val_accuracy: 0.4659\n",
      "Epoch 95/300\n",
      "839/839 [==============================] - 1s 902us/sample - loss: 0.6065 - accuracy: 0.6544 - val_loss: 0.7528 - val_accuracy: 0.4683\n",
      "Epoch 96/300\n",
      "839/839 [==============================] - 1s 927us/sample - loss: 0.6039 - accuracy: 0.6663 - val_loss: 0.7605 - val_accuracy: 0.4805\n",
      "Epoch 97/300\n",
      "839/839 [==============================] - 1s 947us/sample - loss: 0.6078 - accuracy: 0.6472 - val_loss: 0.7516 - val_accuracy: 0.4780\n",
      "Epoch 98/300\n",
      "839/839 [==============================] - 1s 938us/sample - loss: 0.6052 - accuracy: 0.6424 - val_loss: 0.7588 - val_accuracy: 0.4512\n",
      "Epoch 99/300\n",
      "839/839 [==============================] - 1s 975us/sample - loss: 0.5999 - accuracy: 0.6639 - val_loss: 0.7538 - val_accuracy: 0.4659\n",
      "Epoch 100/300\n",
      "839/839 [==============================] - 1s 940us/sample - loss: 0.5912 - accuracy: 0.6555 - val_loss: 0.7552 - val_accuracy: 0.4707\n",
      "Epoch 101/300\n",
      "839/839 [==============================] - 1s 924us/sample - loss: 0.5884 - accuracy: 0.6698 - val_loss: 0.7646 - val_accuracy: 0.4610\n",
      "Epoch 102/300\n",
      "839/839 [==============================] - 1s 881us/sample - loss: 0.5809 - accuracy: 0.6663 - val_loss: 0.7658 - val_accuracy: 0.4732\n",
      "Epoch 103/300\n",
      "839/839 [==============================] - 1s 867us/sample - loss: 0.5796 - accuracy: 0.6770 - val_loss: 0.7682 - val_accuracy: 0.4780\n",
      "Epoch 104/300\n",
      "839/839 [==============================] - 1s 858us/sample - loss: 0.5803 - accuracy: 0.6591 - val_loss: 0.7671 - val_accuracy: 0.4707\n",
      "Epoch 105/300\n",
      "839/839 [==============================] - 1s 857us/sample - loss: 0.5763 - accuracy: 0.6746 - val_loss: 0.7754 - val_accuracy: 0.4854\n",
      "Epoch 106/300\n",
      "839/839 [==============================] - 1s 858us/sample - loss: 0.5720 - accuracy: 0.6770 - val_loss: 0.7773 - val_accuracy: 0.4805\n",
      "Epoch 107/300\n",
      "839/839 [==============================] - 1s 856us/sample - loss: 0.5712 - accuracy: 0.6865 - val_loss: 0.7718 - val_accuracy: 0.4634\n",
      "Epoch 108/300\n",
      "839/839 [==============================] - 1s 894us/sample - loss: 0.5680 - accuracy: 0.6806 - val_loss: 0.7760 - val_accuracy: 0.4780\n",
      "Epoch 109/300\n",
      "839/839 [==============================] - 1s 837us/sample - loss: 0.5673 - accuracy: 0.6830 - val_loss: 0.7913 - val_accuracy: 0.4659\n",
      "Epoch 110/300\n",
      "839/839 [==============================] - 1s 896us/sample - loss: 0.5716 - accuracy: 0.6663 - val_loss: 0.7732 - val_accuracy: 0.4756\n",
      "Epoch 111/300\n"
     ]
    },
    {
     "name": "stdout",
     "output_type": "stream",
     "text": [
      "839/839 [==============================] - 1s 865us/sample - loss: 0.5702 - accuracy: 0.6770 - val_loss: 0.7780 - val_accuracy: 0.4756\n",
      "Epoch 112/300\n",
      "839/839 [==============================] - 1s 977us/sample - loss: 0.5630 - accuracy: 0.6758 - val_loss: 0.7793 - val_accuracy: 0.4829\n",
      "Epoch 113/300\n",
      "839/839 [==============================] - 1s 1ms/sample - loss: 0.5556 - accuracy: 0.7032 - val_loss: 0.7766 - val_accuracy: 0.5000\n",
      "Epoch 114/300\n",
      "839/839 [==============================] - 1s 987us/sample - loss: 0.5570 - accuracy: 0.6996 - val_loss: 0.7843 - val_accuracy: 0.4805\n",
      "Epoch 115/300\n",
      "839/839 [==============================] - 1s 891us/sample - loss: 0.5555 - accuracy: 0.6782 - val_loss: 0.7808 - val_accuracy: 0.4780\n",
      "Epoch 116/300\n",
      "839/839 [==============================] - 1s 871us/sample - loss: 0.5520 - accuracy: 0.7092 - val_loss: 0.7887 - val_accuracy: 0.4854\n",
      "Epoch 117/300\n",
      "839/839 [==============================] - 1s 880us/sample - loss: 0.5479 - accuracy: 0.6901 - val_loss: 0.7856 - val_accuracy: 0.5073\n",
      "Epoch 118/300\n",
      "839/839 [==============================] - 1s 871us/sample - loss: 0.5454 - accuracy: 0.6913 - val_loss: 0.7888 - val_accuracy: 0.4829\n",
      "Epoch 119/300\n",
      "839/839 [==============================] - 1s 886us/sample - loss: 0.5381 - accuracy: 0.6901 - val_loss: 0.7955 - val_accuracy: 0.4805\n",
      "Epoch 120/300\n",
      "839/839 [==============================] - 1s 862us/sample - loss: 0.5353 - accuracy: 0.7080 - val_loss: 0.7864 - val_accuracy: 0.4878\n",
      "Epoch 121/300\n",
      "839/839 [==============================] - 1s 865us/sample - loss: 0.5334 - accuracy: 0.7068 - val_loss: 0.7859 - val_accuracy: 0.5024\n",
      "Epoch 122/300\n",
      "839/839 [==============================] - 1s 884us/sample - loss: 0.5363 - accuracy: 0.7032 - val_loss: 0.8026 - val_accuracy: 0.4854\n",
      "Epoch 123/300\n",
      "839/839 [==============================] - 1s 898us/sample - loss: 0.5362 - accuracy: 0.7128 - val_loss: 0.7904 - val_accuracy: 0.4854\n",
      "Epoch 124/300\n",
      "839/839 [==============================] - 1s 865us/sample - loss: 0.5319 - accuracy: 0.7068 - val_loss: 0.7958 - val_accuracy: 0.4976\n",
      "Epoch 125/300\n",
      "839/839 [==============================] - 1s 928us/sample - loss: 0.5398 - accuracy: 0.6901 - val_loss: 0.7942 - val_accuracy: 0.4902\n",
      "Epoch 126/300\n",
      "839/839 [==============================] - 1s 847us/sample - loss: 0.5236 - accuracy: 0.7211 - val_loss: 0.7995 - val_accuracy: 0.4951\n",
      "Epoch 127/300\n",
      "839/839 [==============================] - 1s 858us/sample - loss: 0.5195 - accuracy: 0.7116 - val_loss: 0.8092 - val_accuracy: 0.4878\n",
      "Epoch 128/300\n",
      "839/839 [==============================] - 1s 878us/sample - loss: 0.5207 - accuracy: 0.7032 - val_loss: 0.8121 - val_accuracy: 0.5098\n",
      "Epoch 129/300\n",
      "839/839 [==============================] - 1s 861us/sample - loss: 0.5258 - accuracy: 0.7163 - val_loss: 0.8068 - val_accuracy: 0.5000\n",
      "Epoch 130/300\n",
      "839/839 [==============================] - 1s 861us/sample - loss: 0.5150 - accuracy: 0.7259 - val_loss: 0.8163 - val_accuracy: 0.5024\n",
      "Epoch 131/300\n",
      "839/839 [==============================] - 1s 872us/sample - loss: 0.5075 - accuracy: 0.7306 - val_loss: 0.8092 - val_accuracy: 0.5024\n",
      "Epoch 132/300\n",
      "839/839 [==============================] - 1s 877us/sample - loss: 0.5034 - accuracy: 0.7271 - val_loss: 0.8135 - val_accuracy: 0.4927\n",
      "Epoch 133/300\n",
      "839/839 [==============================] - 1s 894us/sample - loss: 0.5077 - accuracy: 0.7139 - val_loss: 0.8143 - val_accuracy: 0.5000\n",
      "Epoch 134/300\n",
      "839/839 [==============================] - 1s 860us/sample - loss: 0.4952 - accuracy: 0.7378 - val_loss: 0.8207 - val_accuracy: 0.5024\n",
      "Epoch 135/300\n",
      "839/839 [==============================] - 1s 869us/sample - loss: 0.4943 - accuracy: 0.7247 - val_loss: 0.8132 - val_accuracy: 0.5171\n",
      "Epoch 136/300\n",
      "839/839 [==============================] - 1s 833us/sample - loss: 0.5065 - accuracy: 0.7306 - val_loss: 0.8151 - val_accuracy: 0.5146\n",
      "Epoch 137/300\n",
      "839/839 [==============================] - 1s 875us/sample - loss: 0.4949 - accuracy: 0.7330 - val_loss: 0.8186 - val_accuracy: 0.5146\n",
      "Epoch 138/300\n",
      "839/839 [==============================] - 1s 858us/sample - loss: 0.4886 - accuracy: 0.7390 - val_loss: 0.8176 - val_accuracy: 0.5122\n",
      "Epoch 139/300\n",
      "839/839 [==============================] - 1s 867us/sample - loss: 0.4847 - accuracy: 0.7437 - val_loss: 0.8293 - val_accuracy: 0.5000\n",
      "Epoch 140/300\n",
      "839/839 [==============================] - 1s 885us/sample - loss: 0.4818 - accuracy: 0.7414 - val_loss: 0.8358 - val_accuracy: 0.5171\n",
      "Epoch 141/300\n",
      "839/839 [==============================] - 1s 862us/sample - loss: 0.4960 - accuracy: 0.7402 - val_loss: 0.8350 - val_accuracy: 0.5073\n",
      "Epoch 142/300\n",
      "839/839 [==============================] - 1s 864us/sample - loss: 0.4798 - accuracy: 0.7461 - val_loss: 0.8597 - val_accuracy: 0.4854\n",
      "Epoch 143/300\n",
      "839/839 [==============================] - 1s 864us/sample - loss: 0.4737 - accuracy: 0.7580 - val_loss: 0.8256 - val_accuracy: 0.5146\n",
      "Epoch 144/300\n",
      "839/839 [==============================] - 1s 875us/sample - loss: 0.4801 - accuracy: 0.7378 - val_loss: 0.8504 - val_accuracy: 0.4976\n",
      "Epoch 145/300\n",
      "839/839 [==============================] - 1s 859us/sample - loss: 0.4694 - accuracy: 0.7485 - val_loss: 0.8356 - val_accuracy: 0.5195\n",
      "Epoch 146/300\n",
      "839/839 [==============================] - 1s 901us/sample - loss: 0.4690 - accuracy: 0.7414 - val_loss: 0.8292 - val_accuracy: 0.5073\n",
      "Epoch 147/300\n",
      "839/839 [==============================] - 1s 945us/sample - loss: 0.4651 - accuracy: 0.7580 - val_loss: 0.8573 - val_accuracy: 0.4902\n",
      "Epoch 148/300\n",
      "839/839 [==============================] - 1s 906us/sample - loss: 0.4652 - accuracy: 0.7390 - val_loss: 0.8546 - val_accuracy: 0.5024\n",
      "Epoch 149/300\n",
      "839/839 [==============================] - 1s 916us/sample - loss: 0.4700 - accuracy: 0.7473 - val_loss: 0.8477 - val_accuracy: 0.5268\n",
      "Epoch 150/300\n",
      "839/839 [==============================] - 1s 870us/sample - loss: 0.4701 - accuracy: 0.7437 - val_loss: 0.8494 - val_accuracy: 0.5024\n",
      "Epoch 151/300\n",
      "839/839 [==============================] - 1s 866us/sample - loss: 0.4557 - accuracy: 0.7628 - val_loss: 0.8426 - val_accuracy: 0.5195\n",
      "Epoch 152/300\n",
      "839/839 [==============================] - 1s 863us/sample - loss: 0.4558 - accuracy: 0.7414 - val_loss: 0.8404 - val_accuracy: 0.5244\n",
      "Epoch 153/300\n",
      "839/839 [==============================] - 1s 883us/sample - loss: 0.4568 - accuracy: 0.7580 - val_loss: 0.8433 - val_accuracy: 0.5195\n",
      "Epoch 154/300\n",
      "839/839 [==============================] - 1s 831us/sample - loss: 0.4432 - accuracy: 0.7640 - val_loss: 0.8480 - val_accuracy: 0.5195\n",
      "Epoch 155/300\n",
      "839/839 [==============================] - 1s 831us/sample - loss: 0.4405 - accuracy: 0.7652 - val_loss: 0.8500 - val_accuracy: 0.5098\n",
      "Epoch 156/300\n",
      "839/839 [==============================] - 1s 837us/sample - loss: 0.4453 - accuracy: 0.7700 - val_loss: 0.8633 - val_accuracy: 0.5146\n",
      "Epoch 157/300\n",
      "839/839 [==============================] - 1s 855us/sample - loss: 0.4310 - accuracy: 0.7712 - val_loss: 0.8617 - val_accuracy: 0.5146\n",
      "Epoch 158/300\n",
      "839/839 [==============================] - 1s 926us/sample - loss: 0.4326 - accuracy: 0.7747 - val_loss: 0.8601 - val_accuracy: 0.5122\n",
      "Epoch 159/300\n",
      "839/839 [==============================] - 1s 921us/sample - loss: 0.4306 - accuracy: 0.7735 - val_loss: 0.8659 - val_accuracy: 0.5171\n",
      "Epoch 160/300\n",
      "839/839 [==============================] - 1s 976us/sample - loss: 0.4270 - accuracy: 0.7855 - val_loss: 0.8744 - val_accuracy: 0.5098\n",
      "Epoch 161/300\n",
      "839/839 [==============================] - 1s 907us/sample - loss: 0.4306 - accuracy: 0.7735 - val_loss: 0.8570 - val_accuracy: 0.5171\n",
      "Epoch 162/300\n",
      "839/839 [==============================] - 1s 892us/sample - loss: 0.4292 - accuracy: 0.7807 - val_loss: 0.8604 - val_accuracy: 0.5220\n",
      "Epoch 163/300\n",
      "839/839 [==============================] - 1s 869us/sample - loss: 0.4188 - accuracy: 0.7819 - val_loss: 0.8758 - val_accuracy: 0.5195\n",
      "Epoch 164/300\n",
      "839/839 [==============================] - 1s 869us/sample - loss: 0.4542 - accuracy: 0.7580 - val_loss: 0.8470 - val_accuracy: 0.5268\n",
      "Epoch 165/300\n",
      "839/839 [==============================] - 1s 874us/sample - loss: 0.4310 - accuracy: 0.7783 - val_loss: 0.8909 - val_accuracy: 0.5098\n",
      "Epoch 166/300\n"
     ]
    },
    {
     "name": "stdout",
     "output_type": "stream",
     "text": [
      "839/839 [==============================] - 1s 883us/sample - loss: 0.4217 - accuracy: 0.7688 - val_loss: 0.8942 - val_accuracy: 0.5122\n",
      "Epoch 167/300\n",
      "839/839 [==============================] - 1s 895us/sample - loss: 0.4207 - accuracy: 0.7783 - val_loss: 0.8605 - val_accuracy: 0.5146\n",
      "Epoch 168/300\n",
      "839/839 [==============================] - 1s 855us/sample - loss: 0.4113 - accuracy: 0.7831 - val_loss: 0.8676 - val_accuracy: 0.5098\n",
      "Epoch 169/300\n",
      "839/839 [==============================] - 1s 853us/sample - loss: 0.4098 - accuracy: 0.7902 - val_loss: 0.8801 - val_accuracy: 0.5220\n",
      "Epoch 170/300\n",
      "839/839 [==============================] - 1s 859us/sample - loss: 0.4019 - accuracy: 0.7914 - val_loss: 0.8859 - val_accuracy: 0.5073\n",
      "Epoch 171/300\n",
      "839/839 [==============================] - 1s 837us/sample - loss: 0.3991 - accuracy: 0.7962 - val_loss: 0.8720 - val_accuracy: 0.5122\n",
      "Epoch 172/300\n",
      "839/839 [==============================] - 1s 870us/sample - loss: 0.3946 - accuracy: 0.8033 - val_loss: 0.8959 - val_accuracy: 0.5195\n",
      "Epoch 173/300\n",
      "839/839 [==============================] - 1s 874us/sample - loss: 0.4028 - accuracy: 0.7938 - val_loss: 0.8988 - val_accuracy: 0.5122\n",
      "Epoch 174/300\n",
      "839/839 [==============================] - 1s 866us/sample - loss: 0.3976 - accuracy: 0.7974 - val_loss: 0.8970 - val_accuracy: 0.5220\n",
      "Epoch 175/300\n",
      "839/839 [==============================] - 1s 862us/sample - loss: 0.3885 - accuracy: 0.8045 - val_loss: 0.8966 - val_accuracy: 0.5122\n",
      "Epoch 176/300\n",
      "839/839 [==============================] - 1s 864us/sample - loss: 0.3927 - accuracy: 0.8093 - val_loss: 0.9195 - val_accuracy: 0.5146\n",
      "Epoch 177/300\n",
      "839/839 [==============================] - 1s 859us/sample - loss: 0.3891 - accuracy: 0.7998 - val_loss: 0.9152 - val_accuracy: 0.5098\n",
      "Epoch 178/300\n",
      "839/839 [==============================] - 1s 915us/sample - loss: 0.3871 - accuracy: 0.7986 - val_loss: 0.9342 - val_accuracy: 0.5073\n",
      "Epoch 179/300\n",
      "839/839 [==============================] - 1s 869us/sample - loss: 0.3974 - accuracy: 0.7962 - val_loss: 0.8929 - val_accuracy: 0.5122\n",
      "Epoch 180/300\n",
      "839/839 [==============================] - 1s 860us/sample - loss: 0.3768 - accuracy: 0.8057 - val_loss: 0.9315 - val_accuracy: 0.5171\n",
      "Epoch 181/300\n",
      "839/839 [==============================] - 1s 858us/sample - loss: 0.3822 - accuracy: 0.8093 - val_loss: 0.9286 - val_accuracy: 0.4951\n",
      "Epoch 182/300\n",
      "839/839 [==============================] - 1s 881us/sample - loss: 0.3827 - accuracy: 0.7986 - val_loss: 0.9232 - val_accuracy: 0.5122\n",
      "Epoch 183/300\n",
      "839/839 [==============================] - 1s 849us/sample - loss: 0.3750 - accuracy: 0.8105 - val_loss: 0.9089 - val_accuracy: 0.5171\n",
      "Epoch 184/300\n",
      "839/839 [==============================] - 1s 860us/sample - loss: 0.3731 - accuracy: 0.8105 - val_loss: 0.9489 - val_accuracy: 0.5049\n",
      "Epoch 185/300\n",
      "839/839 [==============================] - 1s 833us/sample - loss: 0.3701 - accuracy: 0.8188 - val_loss: 0.9384 - val_accuracy: 0.5073\n",
      "Epoch 186/300\n",
      "839/839 [==============================] - 1s 879us/sample - loss: 0.3725 - accuracy: 0.8200 - val_loss: 0.9306 - val_accuracy: 0.5098\n",
      "Epoch 187/300\n",
      "839/839 [==============================] - 1s 876us/sample - loss: 0.3684 - accuracy: 0.8200 - val_loss: 0.9477 - val_accuracy: 0.5098\n",
      "Epoch 188/300\n",
      "839/839 [==============================] - 1s 855us/sample - loss: 0.3810 - accuracy: 0.8176 - val_loss: 0.9355 - val_accuracy: 0.5000\n",
      "Epoch 189/300\n",
      "839/839 [==============================] - 1s 924us/sample - loss: 0.3834 - accuracy: 0.8081 - val_loss: 0.9563 - val_accuracy: 0.5098\n",
      "Epoch 190/300\n",
      "839/839 [==============================] - 1s 888us/sample - loss: 0.3771 - accuracy: 0.8224 - val_loss: 0.9376 - val_accuracy: 0.4951\n",
      "Epoch 191/300\n",
      "839/839 [==============================] - 1s 892us/sample - loss: 0.3719 - accuracy: 0.8176 - val_loss: 0.9690 - val_accuracy: 0.4902\n",
      "Epoch 192/300\n",
      "839/839 [==============================] - 1s 860us/sample - loss: 0.3605 - accuracy: 0.8236 - val_loss: 0.9504 - val_accuracy: 0.4951\n",
      "Epoch 193/300\n",
      "839/839 [==============================] - 1s 874us/sample - loss: 0.3506 - accuracy: 0.8284 - val_loss: 0.9261 - val_accuracy: 0.5000\n",
      "Epoch 194/300\n",
      "839/839 [==============================] - 1s 833us/sample - loss: 0.3461 - accuracy: 0.8379 - val_loss: 0.9706 - val_accuracy: 0.4976\n",
      "Epoch 195/300\n",
      "839/839 [==============================] - 1s 835us/sample - loss: 0.3475 - accuracy: 0.8272 - val_loss: 0.9748 - val_accuracy: 0.5000\n",
      "Epoch 196/300\n",
      "839/839 [==============================] - 1s 854us/sample - loss: 0.3488 - accuracy: 0.8284 - val_loss: 0.9606 - val_accuracy: 0.5122\n",
      "Epoch 197/300\n",
      "839/839 [==============================] - 1s 881us/sample - loss: 0.3410 - accuracy: 0.8331 - val_loss: 0.9698 - val_accuracy: 0.5122\n",
      "Epoch 198/300\n",
      "839/839 [==============================] - 1s 907us/sample - loss: 0.3454 - accuracy: 0.8319 - val_loss: 0.9663 - val_accuracy: 0.5098\n",
      "Epoch 199/300\n",
      "839/839 [==============================] - 1s 872us/sample - loss: 0.3332 - accuracy: 0.8439 - val_loss: 1.0001 - val_accuracy: 0.5098\n",
      "Epoch 200/300\n",
      "839/839 [==============================] - 1s 885us/sample - loss: 0.3365 - accuracy: 0.8331 - val_loss: 0.9913 - val_accuracy: 0.5146\n",
      "Epoch 201/300\n",
      "839/839 [==============================] - 1s 863us/sample - loss: 0.3487 - accuracy: 0.8284 - val_loss: 0.9629 - val_accuracy: 0.5146\n",
      "Epoch 202/300\n",
      "839/839 [==============================] - 1s 862us/sample - loss: 0.3346 - accuracy: 0.8355 - val_loss: 1.0025 - val_accuracy: 0.5000\n",
      "Epoch 203/300\n",
      "839/839 [==============================] - 1s 867us/sample - loss: 0.3787 - accuracy: 0.8153 - val_loss: 1.0007 - val_accuracy: 0.5171\n",
      "Epoch 204/300\n",
      "839/839 [==============================] - 1s 878us/sample - loss: 0.3643 - accuracy: 0.8212 - val_loss: 0.9908 - val_accuracy: 0.5122\n",
      "Epoch 205/300\n",
      "839/839 [==============================] - 1s 856us/sample - loss: 0.3383 - accuracy: 0.8308 - val_loss: 0.9940 - val_accuracy: 0.5220\n",
      "Epoch 206/300\n",
      "839/839 [==============================] - 1s 856us/sample - loss: 0.3456 - accuracy: 0.8284 - val_loss: 1.0180 - val_accuracy: 0.5098\n",
      "Epoch 207/300\n",
      "839/839 [==============================] - 1s 857us/sample - loss: 0.3286 - accuracy: 0.8403 - val_loss: 0.9866 - val_accuracy: 0.5146\n",
      "Epoch 208/300\n",
      "839/839 [==============================] - 1s 835us/sample - loss: 0.3217 - accuracy: 0.8451 - val_loss: 1.0027 - val_accuracy: 0.5122\n",
      "Epoch 209/300\n",
      "839/839 [==============================] - 1s 839us/sample - loss: 0.3282 - accuracy: 0.8439 - val_loss: 1.0112 - val_accuracy: 0.4976\n",
      "Epoch 210/300\n",
      "839/839 [==============================] - 1s 991us/sample - loss: 0.3195 - accuracy: 0.8451 - val_loss: 1.0285 - val_accuracy: 0.5024\n",
      "Epoch 211/300\n",
      "839/839 [==============================] - 1s 874us/sample - loss: 0.3257 - accuracy: 0.8439 - val_loss: 1.0233 - val_accuracy: 0.5098\n",
      "Epoch 212/300\n",
      "839/839 [==============================] - 1s 859us/sample - loss: 0.3165 - accuracy: 0.8439 - val_loss: 1.0351 - val_accuracy: 0.4976\n",
      "Epoch 213/300\n",
      "839/839 [==============================] - 1s 894us/sample - loss: 0.3123 - accuracy: 0.8534 - val_loss: 1.0268 - val_accuracy: 0.5220\n",
      "Epoch 214/300\n",
      "839/839 [==============================] - 1s 873us/sample - loss: 0.3051 - accuracy: 0.8605 - val_loss: 1.0333 - val_accuracy: 0.5220\n",
      "Epoch 215/300\n",
      "839/839 [==============================] - 1s 898us/sample - loss: 0.3094 - accuracy: 0.8474 - val_loss: 1.0125 - val_accuracy: 0.5049\n",
      "Epoch 216/300\n",
      "839/839 [==============================] - 1s 859us/sample - loss: 0.2986 - accuracy: 0.8605 - val_loss: 1.0145 - val_accuracy: 0.5268\n",
      "Epoch 217/300\n",
      "839/839 [==============================] - 1s 870us/sample - loss: 0.2970 - accuracy: 0.8653 - val_loss: 1.0819 - val_accuracy: 0.4902\n",
      "Epoch 218/300\n",
      "839/839 [==============================] - 1s 863us/sample - loss: 0.2964 - accuracy: 0.8594 - val_loss: 1.0404 - val_accuracy: 0.5122\n",
      "Epoch 219/300\n",
      "839/839 [==============================] - 1s 860us/sample - loss: 0.2994 - accuracy: 0.8510 - val_loss: 1.0325 - val_accuracy: 0.5122\n",
      "Epoch 220/300\n",
      "839/839 [==============================] - 1s 840us/sample - loss: 0.2941 - accuracy: 0.8629 - val_loss: 1.0644 - val_accuracy: 0.5073\n",
      "Epoch 221/300\n"
     ]
    },
    {
     "name": "stdout",
     "output_type": "stream",
     "text": [
      "839/839 [==============================] - 1s 836us/sample - loss: 0.2929 - accuracy: 0.8498 - val_loss: 1.0808 - val_accuracy: 0.5146\n",
      "Epoch 222/300\n",
      "839/839 [==============================] - 1s 831us/sample - loss: 0.2890 - accuracy: 0.8617 - val_loss: 1.0505 - val_accuracy: 0.5171\n",
      "Epoch 223/300\n",
      "839/839 [==============================] - 1s 854us/sample - loss: 0.2923 - accuracy: 0.8546 - val_loss: 1.0351 - val_accuracy: 0.5341\n",
      "Epoch 224/300\n",
      "839/839 [==============================] - 1s 860us/sample - loss: 0.3020 - accuracy: 0.8510 - val_loss: 1.0816 - val_accuracy: 0.5098\n",
      "Epoch 225/300\n",
      "839/839 [==============================] - 1s 876us/sample - loss: 0.2897 - accuracy: 0.8546 - val_loss: 1.0752 - val_accuracy: 0.5146\n",
      "Epoch 226/300\n",
      "839/839 [==============================] - 1s 893us/sample - loss: 0.2827 - accuracy: 0.8605 - val_loss: 1.0767 - val_accuracy: 0.5000\n",
      "Epoch 227/300\n",
      "839/839 [==============================] - 1s 863us/sample - loss: 0.2885 - accuracy: 0.8617 - val_loss: 1.0930 - val_accuracy: 0.5171\n",
      "Epoch 228/300\n",
      "839/839 [==============================] - 1s 871us/sample - loss: 0.2876 - accuracy: 0.8689 - val_loss: 1.0685 - val_accuracy: 0.5171\n",
      "Epoch 229/300\n",
      "839/839 [==============================] - 1s 864us/sample - loss: 0.2789 - accuracy: 0.8617 - val_loss: 1.0781 - val_accuracy: 0.5024\n",
      "Epoch 230/300\n",
      "839/839 [==============================] - 1s 870us/sample - loss: 0.2995 - accuracy: 0.8570 - val_loss: 1.0847 - val_accuracy: 0.5000\n",
      "Epoch 231/300\n",
      "839/839 [==============================] - 1s 882us/sample - loss: 0.3096 - accuracy: 0.8522 - val_loss: 1.0805 - val_accuracy: 0.5073\n",
      "Epoch 232/300\n",
      "839/839 [==============================] - 1s 884us/sample - loss: 0.3012 - accuracy: 0.8558 - val_loss: 1.0597 - val_accuracy: 0.5171\n",
      "Epoch 233/300\n",
      "839/839 [==============================] - 1s 900us/sample - loss: 0.2736 - accuracy: 0.8725 - val_loss: 1.0698 - val_accuracy: 0.5122\n",
      "Epoch 234/300\n",
      "839/839 [==============================] - 1s 866us/sample - loss: 0.2902 - accuracy: 0.8594 - val_loss: 1.0704 - val_accuracy: 0.5000\n",
      "Epoch 235/300\n",
      "839/839 [==============================] - 1s 864us/sample - loss: 0.2704 - accuracy: 0.8784 - val_loss: 1.1114 - val_accuracy: 0.5122\n",
      "Epoch 236/300\n",
      "839/839 [==============================] - 1s 840us/sample - loss: 0.2705 - accuracy: 0.8665 - val_loss: 1.0882 - val_accuracy: 0.5049\n",
      "Epoch 237/300\n",
      "839/839 [==============================] - 1s 857us/sample - loss: 0.2636 - accuracy: 0.8737 - val_loss: 1.0992 - val_accuracy: 0.5268\n",
      "Epoch 238/300\n",
      "839/839 [==============================] - 1s 837us/sample - loss: 0.2588 - accuracy: 0.8784 - val_loss: 1.0979 - val_accuracy: 0.5171\n",
      "Epoch 239/300\n",
      "839/839 [==============================] - 1s 878us/sample - loss: 0.2621 - accuracy: 0.8749 - val_loss: 1.0864 - val_accuracy: 0.5317\n",
      "Epoch 240/300\n",
      "839/839 [==============================] - 1s 875us/sample - loss: 0.2554 - accuracy: 0.8892 - val_loss: 1.0986 - val_accuracy: 0.5317\n",
      "Epoch 241/300\n",
      "839/839 [==============================] - 1s 865us/sample - loss: 0.2646 - accuracy: 0.8808 - val_loss: 1.0906 - val_accuracy: 0.5122\n",
      "Epoch 242/300\n",
      "839/839 [==============================] - 1s 885us/sample - loss: 0.2547 - accuracy: 0.8749 - val_loss: 1.1133 - val_accuracy: 0.5293\n",
      "Epoch 243/300\n",
      "839/839 [==============================] - 1s 889us/sample - loss: 0.2550 - accuracy: 0.8737 - val_loss: 1.1313 - val_accuracy: 0.5122\n",
      "Epoch 244/300\n",
      "839/839 [==============================] - 1s 879us/sample - loss: 0.2597 - accuracy: 0.8713 - val_loss: 1.1104 - val_accuracy: 0.5195\n",
      "Epoch 245/300\n",
      "839/839 [==============================] - 1s 859us/sample - loss: 0.2483 - accuracy: 0.8832 - val_loss: 1.1013 - val_accuracy: 0.5220\n",
      "Epoch 246/300\n",
      "839/839 [==============================] - 1s 878us/sample - loss: 0.2601 - accuracy: 0.8784 - val_loss: 1.1278 - val_accuracy: 0.5098\n",
      "Epoch 247/300\n",
      "839/839 [==============================] - 1s 871us/sample - loss: 0.2632 - accuracy: 0.8713 - val_loss: 1.1804 - val_accuracy: 0.4976\n",
      "Epoch 248/300\n",
      "839/839 [==============================] - 1s 842us/sample - loss: 0.2447 - accuracy: 0.8915 - val_loss: 1.1138 - val_accuracy: 0.5146\n",
      "Epoch 249/300\n",
      "839/839 [==============================] - 1s 850us/sample - loss: 0.2394 - accuracy: 0.8987 - val_loss: 1.1093 - val_accuracy: 0.5244\n",
      "Epoch 250/300\n",
      "839/839 [==============================] - 1s 832us/sample - loss: 0.2415 - accuracy: 0.8880 - val_loss: 1.1718 - val_accuracy: 0.4951\n",
      "Epoch 251/300\n",
      "839/839 [==============================] - 1s 850us/sample - loss: 0.2439 - accuracy: 0.8927 - val_loss: 1.1348 - val_accuracy: 0.5244\n",
      "Epoch 252/300\n",
      "839/839 [==============================] - 1s 897us/sample - loss: 0.2337 - accuracy: 0.8939 - val_loss: 1.1808 - val_accuracy: 0.4878\n",
      "Epoch 253/300\n",
      "839/839 [==============================] - 1s 901us/sample - loss: 0.2380 - accuracy: 0.8784 - val_loss: 1.1405 - val_accuracy: 0.5220\n",
      "Epoch 254/300\n",
      "839/839 [==============================] - 1s 882us/sample - loss: 0.2340 - accuracy: 0.8796 - val_loss: 1.2067 - val_accuracy: 0.5000\n",
      "Epoch 255/300\n",
      "839/839 [==============================] - 1s 896us/sample - loss: 0.2381 - accuracy: 0.8880 - val_loss: 1.1405 - val_accuracy: 0.5220\n",
      "Epoch 256/300\n",
      "839/839 [==============================] - 1s 950us/sample - loss: 0.2378 - accuracy: 0.8892 - val_loss: 1.2303 - val_accuracy: 0.4756\n",
      "Epoch 257/300\n",
      "839/839 [==============================] - 1s 870us/sample - loss: 0.2271 - accuracy: 0.8892 - val_loss: 1.1698 - val_accuracy: 0.5146\n",
      "Epoch 258/300\n",
      "839/839 [==============================] - 1s 858us/sample - loss: 0.2247 - accuracy: 0.8963 - val_loss: 1.1779 - val_accuracy: 0.5024\n",
      "Epoch 259/300\n",
      "839/839 [==============================] - 1s 838us/sample - loss: 0.2264 - accuracy: 0.8975 - val_loss: 1.1803 - val_accuracy: 0.5220\n",
      "Epoch 260/300\n",
      "839/839 [==============================] - 1s 880us/sample - loss: 0.2251 - accuracy: 0.8844 - val_loss: 1.2075 - val_accuracy: 0.5317\n",
      "Epoch 261/300\n",
      "839/839 [==============================] - 1s 850us/sample - loss: 0.2243 - accuracy: 0.8999 - val_loss: 1.1777 - val_accuracy: 0.5098\n",
      "Epoch 262/300\n",
      "839/839 [==============================] - 1s 860us/sample - loss: 0.2279 - accuracy: 0.8975 - val_loss: 1.1811 - val_accuracy: 0.5146\n",
      "Epoch 263/300\n",
      "839/839 [==============================] - 1s 837us/sample - loss: 0.2224 - accuracy: 0.9023 - val_loss: 1.1873 - val_accuracy: 0.5073\n",
      "Epoch 264/300\n",
      "839/839 [==============================] - 1s 838us/sample - loss: 0.2177 - accuracy: 0.8999 - val_loss: 1.2009 - val_accuracy: 0.5073\n",
      "Epoch 265/300\n",
      "839/839 [==============================] - 1s 835us/sample - loss: 0.2178 - accuracy: 0.8939 - val_loss: 1.2088 - val_accuracy: 0.5366\n",
      "Epoch 266/300\n",
      "839/839 [==============================] - 1s 858us/sample - loss: 0.2242 - accuracy: 0.8987 - val_loss: 1.2273 - val_accuracy: 0.5122\n",
      "Epoch 267/300\n",
      "839/839 [==============================] - 1s 836us/sample - loss: 0.2187 - accuracy: 0.8927 - val_loss: 1.2405 - val_accuracy: 0.5220\n",
      "Epoch 268/300\n",
      "839/839 [==============================] - 1s 828us/sample - loss: 0.2151 - accuracy: 0.8951 - val_loss: 1.2271 - val_accuracy: 0.5122\n",
      "Epoch 269/300\n",
      "839/839 [==============================] - 1s 855us/sample - loss: 0.2459 - accuracy: 0.8808 - val_loss: 1.1867 - val_accuracy: 0.5146\n",
      "Epoch 270/300\n",
      "839/839 [==============================] - 1s 826us/sample - loss: 0.2286 - accuracy: 0.8892 - val_loss: 1.2137 - val_accuracy: 0.5098\n",
      "Epoch 271/300\n",
      "839/839 [==============================] - 1s 810us/sample - loss: 0.2084 - accuracy: 0.9058 - val_loss: 1.2027 - val_accuracy: 0.5122\n",
      "Epoch 272/300\n",
      "839/839 [==============================] - 1s 891us/sample - loss: 0.2026 - accuracy: 0.9118 - val_loss: 1.2081 - val_accuracy: 0.5220\n",
      "Epoch 273/300\n",
      "839/839 [==============================] - 1s 822us/sample - loss: 0.1969 - accuracy: 0.9106 - val_loss: 1.2196 - val_accuracy: 0.5366\n",
      "Epoch 274/300\n",
      "839/839 [==============================] - 1s 827us/sample - loss: 0.1979 - accuracy: 0.9058 - val_loss: 1.2519 - val_accuracy: 0.5049\n",
      "Epoch 275/300\n",
      "839/839 [==============================] - 1s 841us/sample - loss: 0.2150 - accuracy: 0.8975 - val_loss: 1.2254 - val_accuracy: 0.5293\n",
      "Epoch 276/300\n"
     ]
    },
    {
     "name": "stdout",
     "output_type": "stream",
     "text": [
      "839/839 [==============================] - 1s 838us/sample - loss: 0.2151 - accuracy: 0.8963 - val_loss: 1.2520 - val_accuracy: 0.5122\n",
      "Epoch 277/300\n",
      "839/839 [==============================] - 1s 834us/sample - loss: 0.1996 - accuracy: 0.9154 - val_loss: 1.2525 - val_accuracy: 0.5195\n",
      "Epoch 278/300\n",
      "839/839 [==============================] - 1s 834us/sample - loss: 0.2208 - accuracy: 0.8975 - val_loss: 1.2449 - val_accuracy: 0.5293\n",
      "Epoch 279/300\n",
      "839/839 [==============================] - 1s 833us/sample - loss: 0.2130 - accuracy: 0.8999 - val_loss: 1.2759 - val_accuracy: 0.5098\n",
      "Epoch 280/300\n",
      "839/839 [==============================] - 1s 850us/sample - loss: 0.2044 - accuracy: 0.9094 - val_loss: 1.2758 - val_accuracy: 0.5195\n",
      "Epoch 281/300\n",
      "839/839 [==============================] - 1s 856us/sample - loss: 0.1913 - accuracy: 0.9154 - val_loss: 1.2633 - val_accuracy: 0.5171\n",
      "Epoch 282/300\n",
      "839/839 [==============================] - 1s 808us/sample - loss: 0.1860 - accuracy: 0.9249 - val_loss: 1.2896 - val_accuracy: 0.5341\n",
      "Epoch 283/300\n",
      "839/839 [==============================] - 1s 809us/sample - loss: 0.1793 - accuracy: 0.9201 - val_loss: 1.2728 - val_accuracy: 0.5171\n",
      "Epoch 284/300\n",
      "839/839 [==============================] - 1s 843us/sample - loss: 0.1840 - accuracy: 0.9166 - val_loss: 1.2884 - val_accuracy: 0.5171\n",
      "Epoch 285/300\n",
      "839/839 [==============================] - 1s 809us/sample - loss: 0.1784 - accuracy: 0.9201 - val_loss: 1.2812 - val_accuracy: 0.5195\n",
      "Epoch 286/300\n",
      "839/839 [==============================] - 1s 822us/sample - loss: 0.1811 - accuracy: 0.9118 - val_loss: 1.3232 - val_accuracy: 0.5195\n",
      "Epoch 287/300\n",
      "839/839 [==============================] - 1s 842us/sample - loss: 0.1773 - accuracy: 0.9178 - val_loss: 1.2801 - val_accuracy: 0.5268\n",
      "Epoch 288/300\n",
      "839/839 [==============================] - 1s 836us/sample - loss: 0.1765 - accuracy: 0.9213 - val_loss: 1.3488 - val_accuracy: 0.5146\n",
      "Epoch 289/300\n",
      "839/839 [==============================] - 1s 849us/sample - loss: 0.1735 - accuracy: 0.9201 - val_loss: 1.3186 - val_accuracy: 0.5122\n",
      "Epoch 290/300\n",
      "839/839 [==============================] - 1s 837us/sample - loss: 0.1688 - accuracy: 0.9237 - val_loss: 1.3354 - val_accuracy: 0.5341\n",
      "Epoch 291/300\n",
      "839/839 [==============================] - 1s 832us/sample - loss: 0.1723 - accuracy: 0.9249 - val_loss: 1.3205 - val_accuracy: 0.5195\n",
      "Epoch 292/300\n",
      "839/839 [==============================] - 1s 828us/sample - loss: 0.1683 - accuracy: 0.9309 - val_loss: 1.3078 - val_accuracy: 0.5024\n",
      "Epoch 293/300\n",
      "839/839 [==============================] - 1s 808us/sample - loss: 0.1781 - accuracy: 0.9201 - val_loss: 1.2849 - val_accuracy: 0.5171\n",
      "Epoch 294/300\n",
      "839/839 [==============================] - 1s 842us/sample - loss: 0.1729 - accuracy: 0.9190 - val_loss: 1.3285 - val_accuracy: 0.5073\n",
      "Epoch 295/300\n",
      "839/839 [==============================] - 1s 832us/sample - loss: 0.1778 - accuracy: 0.9261 - val_loss: 1.3162 - val_accuracy: 0.5366\n",
      "Epoch 296/300\n",
      "839/839 [==============================] - 1s 823us/sample - loss: 0.1841 - accuracy: 0.9190 - val_loss: 1.3455 - val_accuracy: 0.5171\n",
      "Epoch 297/300\n",
      "839/839 [==============================] - 1s 923us/sample - loss: 0.2149 - accuracy: 0.9166 - val_loss: 1.3277 - val_accuracy: 0.5073\n",
      "Epoch 298/300\n",
      "839/839 [==============================] - 1s 838us/sample - loss: 0.2017 - accuracy: 0.9130 - val_loss: 1.3427 - val_accuracy: 0.5195\n",
      "Epoch 299/300\n",
      "839/839 [==============================] - 1s 837us/sample - loss: 0.2244 - accuracy: 0.9046 - val_loss: 1.3966 - val_accuracy: 0.5220\n",
      "Epoch 300/300\n",
      "839/839 [==============================] - 1s 839us/sample - loss: 0.2288 - accuracy: 0.9023 - val_loss: 1.3344 - val_accuracy: 0.5146\n"
     ]
    }
   ],
   "source": [
    "# train the RNN\n",
    "r = model.fit(\n",
    "  X_train, Y_train,\n",
    "  batch_size=32,\n",
    "  epochs=300,\n",
    "  validation_data=(X_test, Y_test),\n",
    ")"
   ]
  },
  {
   "cell_type": "code",
   "execution_count": 32,
   "metadata": {
    "colab": {
     "base_uri": "https://localhost:8080/",
     "height": 269
    },
    "colab_type": "code",
    "id": "erq--mqRRgfR",
    "outputId": "21ff0f1b-83bb-4c4b-e100-5b5b2a0e6cd5"
   },
   "outputs": [
    {
     "data": {
      "image/png": "[encoded data removed]",
      "text/plain": [
       "<Figure size 432x288 with 1 Axes>"
      ]
     },
     "metadata": {
      "needs_background": "light"
     },
     "output_type": "display_data"
    }
   ],
   "source": [
    "# plot the loss\n",
    "plt.plot(r.history['loss'], label='loss')\n",
    "plt.plot(r.history['val_loss'], label='val_loss')\n",
    "plt.legend()\n",
    "plt.show()"
   ]
  },
  {
   "cell_type": "code",
   "execution_count": 33,
   "metadata": {
    "colab": {
     "base_uri": "https://localhost:8080/",
     "height": 269
    },
    "colab_type": "code",
    "id": "D9ZzosDMRjBU",
    "outputId": "ce168bc1-9259-4c4a-fceb-a9832602bc1b"
   },
   "outputs": [
    {
     "data": {
      "image/png": "[encoded data removed]",
      "text/plain": [
       "<Figure size 432x288 with 1 Axes>"
      ]
     },
     "metadata": {
      "needs_background": "light"
     },
     "output_type": "display_data"
    }
   ],
   "source": [
    "# Plot accuracy per iteration\n",
    "plt.plot(r.history['accuracy'], label='accuracy')\n",
    "plt.plot(r.history['val_accuracy'], label='val_accuracy')\n",
    "plt.legend()\n",
    "plt.show()"
   ]
  }
 ],
 "metadata": {
  "accelerator": "GPU",
  "colab": {
   "collapsed_sections": [],
   "name": "TF2.0 Stock Returns.ipynb",
   "provenance": []
  },
  "kernelspec": {
   "display_name": "Python 3",
   "language": "python",
   "name": "python3"
  },
  "language_info": {
   "codemirror_mode": {
    "name": "ipython",
    "version": 3
   },
   "file_extension": ".py",
   "mimetype": "text/x-python",
   "name": "python",
   "nbconvert_exporter": "python",
   "pygments_lexer": "ipython3",
   "version": "3.7.6"
  }
 },
 "nbformat": 4,
 "nbformat_minor": 1
}
