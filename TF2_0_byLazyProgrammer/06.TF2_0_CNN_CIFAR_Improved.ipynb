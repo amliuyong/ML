{
 "cells": [
  {
   "cell_type": "code",
   "execution_count": 1,
   "metadata": {
    "colab": {
     "base_uri": "https://localhost:8080/",
     "height": 119
    },
    "colab_type": "code",
    "id": "pmNpq8GML1jW",
    "outputId": "a484d46c-58ab-418c-eb0c-da269907bbc4"
   },
   "outputs": [
    {
     "name": "stdout",
     "output_type": "stream",
     "text": [
      "2.0.0\n"
     ]
    }
   ],
   "source": [
    "import os\n",
    "os.environ['KMP_DUPLICATE_LIB_OK']='True'\n",
    "\n",
    "import tensorflow as tf\n",
    "print(tf.__version__)"
   ]
  },
  {
   "cell_type": "code",
   "execution_count": 2,
   "metadata": {
    "colab": {},
    "colab_type": "code",
    "id": "cBJh6ib6MEIW"
   },
   "outputs": [],
   "source": [
    "# additional imports\n",
    "\n",
    "import numpy as np\n",
    "import matplotlib.pyplot as plt\n",
    "from tensorflow.keras.layers import Input, Conv2D, Dense, Flatten, Dropout, GlobalMaxPooling2D, MaxPooling2D, BatchNormalization\n",
    "from tensorflow.keras.models import Model"
   ]
  },
  {
   "cell_type": "code",
   "execution_count": 3,
   "metadata": {
    "colab": {
     "base_uri": "https://localhost:8080/",
     "height": 85
    },
    "colab_type": "code",
    "id": "H_EGZv1TL4S_",
    "outputId": "986e69ab-ccff-462b-ac77-2b681f918b6b"
   },
   "outputs": [
    {
     "name": "stdout",
     "output_type": "stream",
     "text": [
      "A local file was found, but it seems to be incomplete or outdated because the auto file hash does not match the original value of 6d958be074577803d12ecdefd02955f39262c83c16fe9348329d7fe0b5c001ce so we will re-download the data.\n",
      "Downloading data from https://www.cs.toronto.edu/~kriz/cifar-10-python.tar.gz\n",
      "170500096/170498071 [==============================] - 102s 1us/step\n",
      "x_train.shape: (50000, 32, 32, 3)\n",
      "y_train.shape (50000,)\n"
     ]
    }
   ],
   "source": [
    "# Load in the data\n",
    "cifar10 = tf.keras.datasets.cifar10\n",
    "\n",
    "(x_train, y_train), (x_test, y_test) = cifar10.load_data()\n",
    "x_train, x_test = x_train / 255.0, x_test / 255.0\n",
    "y_train, y_test = y_train.flatten(), y_test.flatten()\n",
    "print(\"x_train.shape:\", x_train.shape)\n",
    "print(\"y_train.shape\", y_train.shape)"
   ]
  },
  {
   "cell_type": "code",
   "execution_count": 4,
   "metadata": {
    "colab": {
     "base_uri": "https://localhost:8080/",
     "height": 34
    },
    "colab_type": "code",
    "id": "1Wr15bYpMwbB",
    "outputId": "e1859dc7-acbd-4ff1-f330-383b24475948"
   },
   "outputs": [
    {
     "name": "stdout",
     "output_type": "stream",
     "text": [
      "number of classes: 10\n"
     ]
    }
   ],
   "source": [
    "# number of classes\n",
    "K = len(set(y_train))\n",
    "print(\"number of classes:\", K)"
   ]
  },
  {
   "cell_type": "code",
   "execution_count": 5,
   "metadata": {
    "colab": {},
    "colab_type": "code",
    "id": "Mmo66uQoMA1Q"
   },
   "outputs": [],
   "source": [
    "# Build the model using the functional API\n",
    "i = Input(shape=x_train[0].shape)\n",
    "# x = Conv2D(32, (3, 3), strides=2, activation='relu')(i)\n",
    "# x = Conv2D(64, (3, 3), strides=2, activation='relu')(x)\n",
    "# x = Conv2D(128, (3, 3), strides=2, activation='relu')(x)\n",
    "\n",
    "x = Conv2D(32, (3, 3), activation='relu', padding='same')(i)\n",
    "x = BatchNormalization()(x)\n",
    "x = Conv2D(32, (3, 3), activation='relu', padding='same')(x)\n",
    "x = BatchNormalization()(x)\n",
    "x = MaxPooling2D((2, 2))(x)\n",
    "# x = Dropout(0.2)(x)\n",
    "x = Conv2D(64, (3, 3), activation='relu', padding='same')(x)\n",
    "x = BatchNormalization()(x)\n",
    "x = Conv2D(64, (3, 3), activation='relu', padding='same')(x)\n",
    "x = BatchNormalization()(x)\n",
    "x = MaxPooling2D((2, 2))(x)\n",
    "# x = Dropout(0.2)(x)\n",
    "x = Conv2D(128, (3, 3), activation='relu', padding='same')(x)\n",
    "x = BatchNormalization()(x)\n",
    "x = Conv2D(128, (3, 3), activation='relu', padding='same')(x)\n",
    "x = BatchNormalization()(x)\n",
    "x = MaxPooling2D((2, 2))(x)\n",
    "# x = Dropout(0.2)(x)\n",
    "\n",
    "# x = GlobalMaxPooling2D()(x)\n",
    "x = Flatten()(x)\n",
    "x = Dropout(0.2)(x)\n",
    "x = Dense(1024, activation='relu')(x)\n",
    "x = Dropout(0.2)(x)\n",
    "x = Dense(K, activation='softmax')(x)\n",
    "\n",
    "model = Model(i, x)"
   ]
  },
  {
   "cell_type": "code",
   "execution_count": 6,
   "metadata": {
    "colab": {},
    "colab_type": "code",
    "id": "0zF9n0P7NcP-"
   },
   "outputs": [],
   "source": [
    "# Compile\n",
    "# Note: make sure you are using the GPU for this!\n",
    "model.compile(optimizer='adam',\n",
    "              loss='sparse_categorical_crossentropy',\n",
    "              metrics=['accuracy'])"
   ]
  },
  {
   "cell_type": "code",
   "execution_count": 7,
   "metadata": {
    "colab": {
     "base_uri": "https://localhost:8080/",
     "height": 341
    },
    "colab_type": "code",
    "id": "BBzAGEjOkvFz",
    "outputId": "9b4f642a-b49b-4354-de0c-03177e788807"
   },
   "outputs": [
    {
     "name": "stdout",
     "output_type": "stream",
     "text": [
      "Train on 50000 samples, validate on 10000 samples\n",
      "Epoch 1/50\n",
      "50000/50000 [==============================] - 287s 6ms/sample - loss: 1.3200 - accuracy: 0.5448 - val_loss: 1.0206 - val_accuracy: 0.6438\n",
      "Epoch 2/50\n",
      "50000/50000 [==============================] - 300s 6ms/sample - loss: 0.8329 - accuracy: 0.7117 - val_loss: 0.8578 - val_accuracy: 0.7060\n",
      "Epoch 3/50\n",
      "50000/50000 [==============================] - 269s 5ms/sample - loss: 0.6923 - accuracy: 0.7589 - val_loss: 0.8260 - val_accuracy: 0.7200\n",
      "Epoch 4/50\n",
      "50000/50000 [==============================] - 248s 5ms/sample - loss: 0.5855 - accuracy: 0.7981 - val_loss: 0.8939 - val_accuracy: 0.7122\n",
      "Epoch 5/50\n",
      "50000/50000 [==============================] - 247s 5ms/sample - loss: 0.4901 - accuracy: 0.8318 - val_loss: 0.5983 - val_accuracy: 0.8048\n",
      "Epoch 6/50\n",
      "50000/50000 [==============================] - 248s 5ms/sample - loss: 0.4228 - accuracy: 0.8539 - val_loss: 0.7036 - val_accuracy: 0.7789\n",
      "Epoch 7/50\n",
      "50000/50000 [==============================] - 248s 5ms/sample - loss: 0.3587 - accuracy: 0.8760 - val_loss: 0.6279 - val_accuracy: 0.8048\n",
      "Epoch 8/50\n",
      "50000/50000 [==============================] - 249s 5ms/sample - loss: 0.3054 - accuracy: 0.8953 - val_loss: 0.6300 - val_accuracy: 0.8144\n",
      "Epoch 9/50\n",
      "50000/50000 [==============================] - 243s 5ms/sample - loss: 0.2623 - accuracy: 0.9103 - val_loss: 0.7029 - val_accuracy: 0.8103\n",
      "Epoch 10/50\n",
      "50000/50000 [==============================] - 250s 5ms/sample - loss: 0.2192 - accuracy: 0.9235 - val_loss: 0.7824 - val_accuracy: 0.7865\n",
      "Epoch 11/50\n",
      "50000/50000 [==============================] - 247s 5ms/sample - loss: 0.1992 - accuracy: 0.9322 - val_loss: 0.6841 - val_accuracy: 0.8119\n",
      "Epoch 12/50\n",
      "50000/50000 [==============================] - 246s 5ms/sample - loss: 0.1789 - accuracy: 0.9395 - val_loss: 0.6845 - val_accuracy: 0.8296\n",
      "Epoch 13/50\n",
      "50000/50000 [==============================] - 246s 5ms/sample - loss: 0.1552 - accuracy: 0.9465 - val_loss: 0.6961 - val_accuracy: 0.8252\n",
      "Epoch 14/50\n",
      "50000/50000 [==============================] - 243s 5ms/sample - loss: 0.1488 - accuracy: 0.9496 - val_loss: 0.7080 - val_accuracy: 0.8312\n",
      "Epoch 15/50\n",
      "50000/50000 [==============================] - 229s 5ms/sample - loss: 0.1302 - accuracy: 0.9566 - val_loss: 0.6641 - val_accuracy: 0.8302\n",
      "Epoch 16/50\n",
      "50000/50000 [==============================] - 227s 5ms/sample - loss: 0.1275 - accuracy: 0.9569 - val_loss: 0.7049 - val_accuracy: 0.8261\n",
      "Epoch 17/50\n",
      "50000/50000 [==============================] - 227s 5ms/sample - loss: 0.1151 - accuracy: 0.9613 - val_loss: 0.7102 - val_accuracy: 0.8287\n",
      "Epoch 18/50\n",
      "50000/50000 [==============================] - 227s 5ms/sample - loss: 0.1109 - accuracy: 0.9631 - val_loss: 0.6693 - val_accuracy: 0.8329\n",
      "Epoch 19/50\n",
      "50000/50000 [==============================] - 227s 5ms/sample - loss: 0.1046 - accuracy: 0.9657 - val_loss: 0.6923 - val_accuracy: 0.8259\n",
      "Epoch 20/50\n",
      "50000/50000 [==============================] - 242s 5ms/sample - loss: 0.0994 - accuracy: 0.9671 - val_loss: 0.7253 - val_accuracy: 0.8359\n",
      "Epoch 21/50\n",
      "50000/50000 [==============================] - 242s 5ms/sample - loss: 0.0962 - accuracy: 0.9684 - val_loss: 0.8473 - val_accuracy: 0.8313\n",
      "Epoch 22/50\n",
      "50000/50000 [==============================] - 243s 5ms/sample - loss: 0.0858 - accuracy: 0.9722 - val_loss: 0.8305 - val_accuracy: 0.8364\n",
      "Epoch 23/50\n",
      "50000/50000 [==============================] - 243s 5ms/sample - loss: 0.0849 - accuracy: 0.9714 - val_loss: 0.8008 - val_accuracy: 0.8330\n",
      "Epoch 24/50\n",
      "50000/50000 [==============================] - 243s 5ms/sample - loss: 0.0792 - accuracy: 0.9743 - val_loss: 0.7805 - val_accuracy: 0.8314\n",
      "Epoch 25/50\n",
      "50000/50000 [==============================] - 242s 5ms/sample - loss: 0.0764 - accuracy: 0.9743 - val_loss: 0.7858 - val_accuracy: 0.8366\n",
      "Epoch 26/50\n",
      "50000/50000 [==============================] - 242s 5ms/sample - loss: 0.0757 - accuracy: 0.9756 - val_loss: 0.7816 - val_accuracy: 0.8356\n",
      "Epoch 27/50\n",
      "50000/50000 [==============================] - 243s 5ms/sample - loss: 0.0717 - accuracy: 0.9776 - val_loss: 0.8906 - val_accuracy: 0.8169\n",
      "Epoch 28/50\n",
      "50000/50000 [==============================] - 243s 5ms/sample - loss: 0.0686 - accuracy: 0.9772 - val_loss: 0.8370 - val_accuracy: 0.8303\n",
      "Epoch 29/50\n",
      "50000/50000 [==============================] - 243s 5ms/sample - loss: 0.0693 - accuracy: 0.9775 - val_loss: 0.7419 - val_accuracy: 0.8371\n",
      "Epoch 30/50\n",
      "50000/50000 [==============================] - 243s 5ms/sample - loss: 0.0607 - accuracy: 0.9799 - val_loss: 0.9019 - val_accuracy: 0.8282\n",
      "Epoch 31/50\n",
      "50000/50000 [==============================] - 243s 5ms/sample - loss: 0.0606 - accuracy: 0.9800 - val_loss: 0.7957 - val_accuracy: 0.8365\n",
      "Epoch 32/50\n",
      "50000/50000 [==============================] - 243s 5ms/sample - loss: 0.0564 - accuracy: 0.9820 - val_loss: 0.7962 - val_accuracy: 0.8389\n",
      "Epoch 33/50\n",
      "50000/50000 [==============================] - 243s 5ms/sample - loss: 0.0611 - accuracy: 0.9807 - val_loss: 0.7653 - val_accuracy: 0.8445\n",
      "Epoch 34/50\n",
      "50000/50000 [==============================] - 243s 5ms/sample - loss: 0.0579 - accuracy: 0.9811 - val_loss: 0.9261 - val_accuracy: 0.8290\n",
      "Epoch 35/50\n",
      "50000/50000 [==============================] - 243s 5ms/sample - loss: 0.0575 - accuracy: 0.9806 - val_loss: 0.8020 - val_accuracy: 0.8410\n",
      "Epoch 36/50\n",
      "50000/50000 [==============================] - 243s 5ms/sample - loss: 0.0498 - accuracy: 0.9834 - val_loss: 0.8192 - val_accuracy: 0.8394\n",
      "Epoch 37/50\n",
      "50000/50000 [==============================] - 243s 5ms/sample - loss: 0.0552 - accuracy: 0.9828 - val_loss: 0.7774 - val_accuracy: 0.8392\n",
      "Epoch 38/50\n",
      "50000/50000 [==============================] - 243s 5ms/sample - loss: 0.0517 - accuracy: 0.9829 - val_loss: 0.8154 - val_accuracy: 0.8386\n",
      "Epoch 39/50\n",
      "50000/50000 [==============================] - 243s 5ms/sample - loss: 0.0474 - accuracy: 0.9847 - val_loss: 0.8724 - val_accuracy: 0.8466\n",
      "Epoch 40/50\n",
      "50000/50000 [==============================] - 243s 5ms/sample - loss: 0.0526 - accuracy: 0.9829 - val_loss: 0.8668 - val_accuracy: 0.8290\n",
      "Epoch 41/50\n",
      "50000/50000 [==============================] - 243s 5ms/sample - loss: 0.0468 - accuracy: 0.9850 - val_loss: 0.7967 - val_accuracy: 0.8432\n",
      "Epoch 42/50\n",
      "50000/50000 [==============================] - 243s 5ms/sample - loss: 0.0465 - accuracy: 0.9843 - val_loss: 0.8369 - val_accuracy: 0.8386\n",
      "Epoch 43/50\n",
      "50000/50000 [==============================] - 243s 5ms/sample - loss: 0.0448 - accuracy: 0.9862 - val_loss: 1.0014 - val_accuracy: 0.8379\n",
      "Epoch 44/50\n",
      "50000/50000 [==============================] - 244s 5ms/sample - loss: 0.0442 - accuracy: 0.9864 - val_loss: 0.9251 - val_accuracy: 0.8370\n",
      "Epoch 45/50\n",
      "50000/50000 [==============================] - 243s 5ms/sample - loss: 0.0470 - accuracy: 0.9848 - val_loss: 0.8651 - val_accuracy: 0.8327\n",
      "Epoch 46/50\n",
      "50000/50000 [==============================] - 243s 5ms/sample - loss: 0.0410 - accuracy: 0.9863 - val_loss: 0.7506 - val_accuracy: 0.8381\n",
      "Epoch 47/50\n",
      "50000/50000 [==============================] - 243s 5ms/sample - loss: 0.0392 - accuracy: 0.9871 - val_loss: 0.9410 - val_accuracy: 0.8433\n",
      "Epoch 48/50\n",
      "50000/50000 [==============================] - 243s 5ms/sample - loss: 0.0450 - accuracy: 0.9857 - val_loss: 0.9002 - val_accuracy: 0.8323\n",
      "Epoch 49/50\n",
      "50000/50000 [==============================] - 243s 5ms/sample - loss: 0.0405 - accuracy: 0.9878 - val_loss: 0.8937 - val_accuracy: 0.8465\n",
      "Epoch 50/50\n",
      "50000/50000 [==============================] - 243s 5ms/sample - loss: 0.0417 - accuracy: 0.9866 - val_loss: 0.9398 - val_accuracy: 0.8451\n"
     ]
    }
   ],
   "source": [
    "# Fit\n",
    "r = model.fit(x_train, y_train, validation_data=(x_test, y_test), epochs=50)"
   ]
  },
  {
   "cell_type": "markdown",
   "metadata": {},
   "source": [
    "## Fit with data augmentation \n",
    "## ImageDataGenerator and train_generator"
   ]
  },
  {
   "cell_type": "code",
   "execution_count": null,
   "metadata": {},
   "outputs": [],
   "source": [
    "# Build the model using the functional API\n",
    "i = Input(shape=x_train[0].shape)\n",
    "# x = Conv2D(32, (3, 3), strides=2, activation='relu')(i)\n",
    "# x = Conv2D(64, (3, 3), strides=2, activation='relu')(x)\n",
    "# x = Conv2D(128, (3, 3), strides=2, activation='relu')(x)\n",
    "\n",
    "x = Conv2D(32, (3, 3), activation='relu', padding='same')(i)\n",
    "x = BatchNormalization()(x)\n",
    "x = Conv2D(32, (3, 3), activation='relu', padding='same')(x)\n",
    "x = BatchNormalization()(x)\n",
    "x = MaxPooling2D((2, 2))(x)\n",
    "# x = Dropout(0.2)(x)\n",
    "x = Conv2D(64, (3, 3), activation='relu', padding='same')(x)\n",
    "x = BatchNormalization()(x)\n",
    "x = Conv2D(64, (3, 3), activation='relu', padding='same')(x)\n",
    "x = BatchNormalization()(x)\n",
    "x = MaxPooling2D((2, 2))(x)\n",
    "# x = Dropout(0.2)(x)\n",
    "x = Conv2D(128, (3, 3), activation='relu', padding='same')(x)\n",
    "x = BatchNormalization()(x)\n",
    "x = Conv2D(128, (3, 3), activation='relu', padding='same')(x)\n",
    "x = BatchNormalization()(x)\n",
    "x = MaxPooling2D((2, 2))(x)\n",
    "# x = Dropout(0.2)(x)\n",
    "\n",
    "# x = GlobalMaxPooling2D()(x)\n",
    "x = Flatten()(x)\n",
    "x = Dropout(0.2)(x)\n",
    "x = Dense(1024, activation='relu')(x)\n",
    "x = Dropout(0.2)(x)\n",
    "x = Dense(K, activation='softmax')(x)\n",
    "\n",
    "model = Model(i, x)"
   ]
  },
  {
   "cell_type": "code",
   "execution_count": null,
   "metadata": {},
   "outputs": [],
   "source": [
    "model.compile(optimizer='adam',\n",
    "              loss='sparse_categorical_crossentropy',\n",
    "              metrics=['accuracy'])"
   ]
  },
  {
   "cell_type": "code",
   "execution_count": null,
   "metadata": {},
   "outputs": [],
   "source": []
  },
  {
   "cell_type": "code",
   "execution_count": null,
   "metadata": {
    "colab": {
     "base_uri": "https://localhost:8080/",
     "height": 1000
    },
    "colab_type": "code",
    "id": "af61hXUrYjsZ",
    "outputId": "af32c5ff-8e21-4ea7-a34b-f6072bb7f255"
   },
   "outputs": [
    {
     "name": "stdout",
     "output_type": "stream",
     "text": [
      "Train for 1562 steps, validate on 10000 samples\n",
      "Epoch 1/50\n",
      "1562/1562 [==============================] - 257s 164ms/step - loss: 0.5506 - accuracy: 0.8240 - val_loss: 0.5201 - val_accuracy: 0.8353\n",
      "Epoch 2/50\n",
      "1562/1562 [==============================] - 257s 165ms/step - loss: 0.4360 - accuracy: 0.8569 - val_loss: 0.4509 - val_accuracy: 0.8521\n",
      "Epoch 3/50\n",
      "1562/1562 [==============================] - 257s 164ms/step - loss: 0.4047 - accuracy: 0.8648 - val_loss: 0.4478 - val_accuracy: 0.8556\n",
      "Epoch 4/50\n",
      "1562/1562 [==============================] - 258s 165ms/step - loss: 0.3805 - accuracy: 0.8737 - val_loss: 0.4147 - val_accuracy: 0.8649\n",
      "Epoch 5/50\n",
      "1562/1562 [==============================] - 257s 165ms/step - loss: 0.3582 - accuracy: 0.8799 - val_loss: 0.4288 - val_accuracy: 0.8643\n",
      "Epoch 6/50\n",
      "1562/1562 [==============================] - 256s 164ms/step - loss: 0.3418 - accuracy: 0.8864 - val_loss: 0.4473 - val_accuracy: 0.8562\n",
      "Epoch 7/50\n",
      "1562/1562 [==============================] - 257s 164ms/step - loss: 0.3309 - accuracy: 0.8879 - val_loss: 0.4392 - val_accuracy: 0.8646\n",
      "Epoch 8/50\n",
      "1562/1562 [==============================] - 257s 164ms/step - loss: 0.3174 - accuracy: 0.8930 - val_loss: 0.4286 - val_accuracy: 0.8693\n",
      "Epoch 9/50\n",
      "1562/1562 [==============================] - 11713s 7s/step - loss: 0.3095 - accuracy: 0.8958 - val_loss: 0.5051 - val_accuracy: 0.8503\n",
      "Epoch 10/50\n",
      "1562/1562 [==============================] - 250s 160ms/step - loss: 0.2994 - accuracy: 0.8995 - val_loss: 0.4830 - val_accuracy: 0.8596\n",
      "Epoch 11/50\n",
      "1562/1562 [==============================] - 243s 155ms/step - loss: 0.2930 - accuracy: 0.9018 - val_loss: 0.4014 - val_accuracy: 0.8678\n",
      "Epoch 12/50\n",
      "1562/1562 [==============================] - 255s 163ms/step - loss: 0.2783 - accuracy: 0.9058 - val_loss: 0.4135 - val_accuracy: 0.8736\n",
      "Epoch 13/50\n",
      "1562/1562 [==============================] - 261s 167ms/step - loss: 0.2715 - accuracy: 0.9075 - val_loss: 0.4616 - val_accuracy: 0.8629\n",
      "Epoch 14/50\n",
      "1562/1562 [==============================] - 255s 164ms/step - loss: 0.2666 - accuracy: 0.9096 - val_loss: 0.4280 - val_accuracy: 0.8695\n",
      "Epoch 15/50\n",
      "1562/1562 [==============================] - 256s 164ms/step - loss: 0.2613 - accuracy: 0.9103 - val_loss: 0.4414 - val_accuracy: 0.8713\n",
      "Epoch 16/50\n",
      "1562/1562 [==============================] - 256s 164ms/step - loss: 0.2568 - accuracy: 0.9128 - val_loss: 0.4266 - val_accuracy: 0.8747\n",
      "Epoch 17/50\n",
      "1562/1562 [==============================] - 257s 165ms/step - loss: 0.2460 - accuracy: 0.9174 - val_loss: 0.4464 - val_accuracy: 0.8598\n",
      "Epoch 18/50\n",
      "1562/1562 [==============================] - 252s 161ms/step - loss: 0.2414 - accuracy: 0.9177 - val_loss: 0.3889 - val_accuracy: 0.8780\n",
      "Epoch 19/50\n",
      "1562/1562 [==============================] - 255s 163ms/step - loss: 0.2358 - accuracy: 0.9186 - val_loss: 0.4067 - val_accuracy: 0.8788\n",
      "Epoch 20/50\n",
      "1562/1562 [==============================] - 254s 163ms/step - loss: 0.2305 - accuracy: 0.9205 - val_loss: 0.4383 - val_accuracy: 0.8757\n",
      "Epoch 21/50\n",
      "1164/1562 [=====================>........] - ETA: 1:02 - loss: 0.2232 - accuracy: 0.9244"
     ]
    }
   ],
   "source": [
    "# Fit with data augmentation\n",
    "# Note: if you run this AFTER calling the previous model.fit(), it will CONTINUE training where it left off\n",
    "batch_size = 32\n",
    "data_generator = tf.keras.preprocessing.image.ImageDataGenerator(width_shift_range=0.1, height_shift_range=0.1, horizontal_flip=True)\n",
    "train_generator = data_generator.flow(x_train, y_train, batch_size)\n",
    "steps_per_epoch = x_train.shape[0] // batch_size\n",
    "r = model.fit(train_generator, validation_data=(x_test, y_test), steps_per_epoch=steps_per_epoch, epochs=50)"
   ]
  },
  {
   "cell_type": "code",
   "execution_count": null,
   "metadata": {
    "colab": {
     "base_uri": "https://localhost:8080/",
     "height": 282
    },
    "colab_type": "code",
    "id": "ML37hw4iOkBm",
    "outputId": "f7c81b80-422f-4bb8-f523-5bec1569c5c7"
   },
   "outputs": [],
   "source": [
    "# Plot loss per iteration\n",
    "import matplotlib.pyplot as plt\n",
    "plt.plot(r.history['loss'], label='loss')\n",
    "plt.plot(r.history['val_loss'], label='val_loss')\n",
    "plt.legend()"
   ]
  },
  {
   "cell_type": "code",
   "execution_count": null,
   "metadata": {
    "colab": {
     "base_uri": "https://localhost:8080/",
     "height": 284
    },
    "colab_type": "code",
    "id": "pemstSDIOpIb",
    "outputId": "d156a6a8-db85-4a75-9dff-1219a3abb23c"
   },
   "outputs": [],
   "source": [
    "# Plot accuracy per iteration\n",
    "plt.plot(r.history['accuracy'], label='acc')\n",
    "plt.plot(r.history['val_accuracy'], label='val_acc')\n",
    "plt.legend()"
   ]
  },
  {
   "cell_type": "code",
   "execution_count": null,
   "metadata": {
    "colab": {
     "base_uri": "https://localhost:8080/",
     "height": 498
    },
    "colab_type": "code",
    "id": "2LJTd4OiO6kL",
    "outputId": "f54d53b3-ea65-44bc-a887-221afe973b5c"
   },
   "outputs": [],
   "source": [
    "# Plot confusion matrix\n",
    "from sklearn.metrics import confusion_matrix\n",
    "import itertools\n",
    "\n",
    "def plot_confusion_matrix(cm, classes,\n",
    "                          normalize=False,\n",
    "                          title='Confusion matrix',\n",
    "                          cmap=plt.cm.Blues):\n",
    "  \"\"\"\n",
    "  This function prints and plots the confusion matrix.\n",
    "  Normalization can be applied by setting `normalize=True`.\n",
    "  \"\"\"\n",
    "  if normalize:\n",
    "      cm = cm.astype('float') / cm.sum(axis=1)[:, np.newaxis]\n",
    "      print(\"Normalized confusion matrix\")\n",
    "  else:\n",
    "      print('Confusion matrix, without normalization')\n",
    "\n",
    "  print(cm)\n",
    "\n",
    "  plt.imshow(cm, interpolation='nearest', cmap=cmap)\n",
    "  plt.title(title)\n",
    "  plt.colorbar()\n",
    "  tick_marks = np.arange(len(classes))\n",
    "  plt.xticks(tick_marks, classes, rotation=45)\n",
    "  plt.yticks(tick_marks, classes)\n",
    "\n",
    "  fmt = '.2f' if normalize else 'd'\n",
    "  thresh = cm.max() / 2.\n",
    "  for i, j in itertools.product(range(cm.shape[0]), range(cm.shape[1])):\n",
    "      plt.text(j, i, format(cm[i, j], fmt),\n",
    "               horizontalalignment=\"center\",\n",
    "               color=\"white\" if cm[i, j] > thresh else \"black\")\n",
    "\n",
    "  plt.tight_layout()\n",
    "  plt.ylabel('True label')\n",
    "  plt.xlabel('Predicted label')\n",
    "  plt.show()\n",
    "\n",
    "\n",
    "p_test = model.predict(x_test).argmax(axis=1)\n",
    "cm = confusion_matrix(y_test, p_test)\n",
    "plot_confusion_matrix(cm, list(range(10)))\n",
    "\n"
   ]
  },
  {
   "cell_type": "code",
   "execution_count": null,
   "metadata": {
    "colab": {},
    "colab_type": "code",
    "id": "AgQqQHXNXDgw"
   },
   "outputs": [],
   "source": [
    "# label mapping\n",
    "labels = '''airplane\n",
    "automobile\n",
    "bird\n",
    "cat\n",
    "deer\n",
    "dog\n",
    "frog\n",
    "horse\n",
    "ship\n",
    "truck'''.split()"
   ]
  },
  {
   "cell_type": "code",
   "execution_count": null,
   "metadata": {
    "colab": {
     "base_uri": "https://localhost:8080/",
     "height": 281
    },
    "colab_type": "code",
    "id": "jjmW4STFO-Ny",
    "outputId": "65f473d7-37df-4a24-9489-696c18fad77c"
   },
   "outputs": [],
   "source": [
    "# Show some misclassified examples\n",
    "misclassified_idx = np.where(p_test != y_test)[0]\n",
    "i = np.random.choice(misclassified_idx)\n",
    "plt.imshow(x_test[i], cmap='gray')\n",
    "plt.title(\"True label: %s Predicted: %s\" % (labels[y_test[i]], labels[p_test[i]]));"
   ]
  },
  {
   "cell_type": "code",
   "execution_count": null,
   "metadata": {
    "colab": {
     "base_uri": "https://localhost:8080/",
     "height": 867
    },
    "colab_type": "code",
    "id": "qNw6PmshWjoZ",
    "outputId": "2c6b2193-df37-4083-8f74-a22733ec65f3"
   },
   "outputs": [],
   "source": [
    "# Now that the model is so large, it's useful to summarize it\n",
    "model.summary()"
   ]
  }
 ],
 "metadata": {
  "accelerator": "GPU",
  "colab": {
   "collapsed_sections": [],
   "name": "TF2.0 CIFAR Improved.ipynb",
   "provenance": []
  },
  "kernelspec": {
   "display_name": "Python 3",
   "language": "python",
   "name": "python3"
  },
  "language_info": {
   "codemirror_mode": {
    "name": "ipython",
    "version": 3
   },
   "file_extension": ".py",
   "mimetype": "text/x-python",
   "name": "python",
   "nbconvert_exporter": "python",
   "pygments_lexer": "ipython3",
   "version": "3.7.6"
  }
 },
 "nbformat": 4,
 "nbformat_minor": 1
}
