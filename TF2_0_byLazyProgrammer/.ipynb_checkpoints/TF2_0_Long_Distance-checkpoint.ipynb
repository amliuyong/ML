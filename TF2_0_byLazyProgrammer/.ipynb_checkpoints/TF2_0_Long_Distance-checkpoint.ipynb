{
 "cells": [
  {
   "cell_type": "code",
   "execution_count": 1,
   "metadata": {
    "colab": {
     "base_uri": "https://localhost:8080/",
     "height": 119
    },
    "colab_type": "code",
    "id": "qUxka0gR1NHc",
    "outputId": "4ef1a5e2-084f-4e4a-cb59-a0611e92a829"
   },
   "outputs": [
    {
     "name": "stdout",
     "output_type": "stream",
     "text": [
      "2.0.0\n"
     ]
    }
   ],
   "source": [
    "import os\n",
    "os.environ['KMP_DUPLICATE_LIB_OK']='True'\n",
    "\n",
    "import tensorflow as tf\n",
    "print(tf.__version__)"
   ]
  },
  {
   "cell_type": "code",
   "execution_count": 2,
   "metadata": {
    "colab": {},
    "colab_type": "code",
    "id": "d0QfXUTi42W1"
   },
   "outputs": [],
   "source": [
    "# More imports\n",
    "from tensorflow.keras.layers import Input, SimpleRNN, GRU, LSTM, Dense, Flatten, GlobalMaxPool1D\n",
    "from tensorflow.keras.models import Model\n",
    "from tensorflow.keras.optimizers import SGD, Adam\n",
    "\n",
    "import numpy as np\n",
    "import pandas as pd\n",
    "import matplotlib.pyplot as plt"
   ]
  },
  {
   "cell_type": "code",
   "execution_count": 3,
   "metadata": {
    "colab": {},
    "colab_type": "code",
    "id": "_iAHEiAy5BOW"
   },
   "outputs": [],
   "source": [
    "### build the dataset\n",
    "# This is a nonlinear AND long-distance dataset\n",
    "# (Actually, we will test long-distance vs. short-distance patterns)\n",
    "\n",
    "# Start with a small T and increase it later\n",
    "T = 10\n",
    "D = 1\n",
    "X = []\n",
    "Y = []\n",
    "\n",
    "def get_label(x, i1, i2, i3):\n",
    "  # x = sequence\n",
    "  if x[i1] < 0 and x[i2] < 0 and x[i3] < 0:\n",
    "    return 1\n",
    "  if x[i1] < 0 and x[i2] > 0 and x[i3] > 0:\n",
    "    return 1\n",
    "  if x[i1] > 0 and x[i2] < 0 and x[i3] > 0:\n",
    "    return 1\n",
    "  if x[i1] > 0 and x[i2] > 0 and x[i3] < 0:\n",
    "    return 1\n",
    "  return 0\n",
    "\n",
    "for t in range(5000):\n",
    "  x = np.random.randn(T)\n",
    "  X.append(x)\n",
    "  y = get_label(x, -1, -2, -3) # short distance\n",
    "#   y = get_label(x, 0, 1, 2) # long distance\n",
    "  Y.append(y)\n",
    "\n",
    "X = np.array(X)\n",
    "Y = np.array(Y)\n",
    "N = len(X)"
   ]
  },
  {
   "cell_type": "code",
   "execution_count": 4,
   "metadata": {
    "colab": {
     "base_uri": "https://localhost:8080/",
     "height": 1000
    },
    "colab_type": "code",
    "id": "zbj37XGR5CIF",
    "outputId": "f921defd-681b-4fb0-88ee-c01c7d4038a8"
   },
   "outputs": [
    {
     "name": "stdout",
     "output_type": "stream",
     "text": [
      "Train on 2500 samples, validate on 2500 samples\n",
      "Epoch 1/100\n",
      "2500/2500 [==============================] - 1s 523us/sample - loss: 0.7733 - accuracy: 0.5160 - val_loss: 0.7138 - val_accuracy: 0.4980\n",
      "Epoch 2/100\n",
      "2500/2500 [==============================] - 0s 105us/sample - loss: 0.6969 - accuracy: 0.5196 - val_loss: 0.6989 - val_accuracy: 0.4984\n",
      "Epoch 3/100\n",
      "2500/2500 [==============================] - 0s 105us/sample - loss: 0.6948 - accuracy: 0.5036 - val_loss: 0.6989 - val_accuracy: 0.4896\n",
      "Epoch 4/100\n",
      "2500/2500 [==============================] - 0s 106us/sample - loss: 0.6939 - accuracy: 0.5220 - val_loss: 0.6968 - val_accuracy: 0.4996\n",
      "Epoch 5/100\n",
      "2500/2500 [==============================] - 0s 105us/sample - loss: 0.6934 - accuracy: 0.5196 - val_loss: 0.6993 - val_accuracy: 0.4844\n",
      "Epoch 6/100\n",
      "2500/2500 [==============================] - 0s 104us/sample - loss: 0.6938 - accuracy: 0.5224 - val_loss: 0.6971 - val_accuracy: 0.5048\n",
      "Epoch 7/100\n",
      "2500/2500 [==============================] - 0s 106us/sample - loss: 0.6932 - accuracy: 0.5144 - val_loss: 0.6987 - val_accuracy: 0.5020\n",
      "Epoch 8/100\n",
      "2500/2500 [==============================] - 0s 124us/sample - loss: 0.6938 - accuracy: 0.5192 - val_loss: 0.6975 - val_accuracy: 0.5060\n",
      "Epoch 9/100\n",
      "2500/2500 [==============================] - 0s 140us/sample - loss: 0.6938 - accuracy: 0.5092 - val_loss: 0.6962 - val_accuracy: 0.4944\n",
      "Epoch 10/100\n",
      "2500/2500 [==============================] - 0s 137us/sample - loss: 0.6939 - accuracy: 0.5080 - val_loss: 0.6969 - val_accuracy: 0.5040\n",
      "Epoch 11/100\n",
      "2500/2500 [==============================] - 0s 112us/sample - loss: 0.6935 - accuracy: 0.5204 - val_loss: 0.6977 - val_accuracy: 0.4920\n",
      "Epoch 12/100\n",
      "2500/2500 [==============================] - 0s 111us/sample - loss: 0.6933 - accuracy: 0.5196 - val_loss: 0.6949 - val_accuracy: 0.5096\n",
      "Epoch 13/100\n",
      "2500/2500 [==============================] - 0s 105us/sample - loss: 0.6941 - accuracy: 0.5192 - val_loss: 0.6962 - val_accuracy: 0.5072\n",
      "Epoch 14/100\n",
      "2500/2500 [==============================] - 0s 110us/sample - loss: 0.6942 - accuracy: 0.5208 - val_loss: 0.6973 - val_accuracy: 0.5068\n",
      "Epoch 15/100\n",
      "2500/2500 [==============================] - 0s 141us/sample - loss: 0.6935 - accuracy: 0.5132 - val_loss: 0.6957 - val_accuracy: 0.5108\n",
      "Epoch 16/100\n",
      "2500/2500 [==============================] - 0s 114us/sample - loss: 0.6943 - accuracy: 0.5220 - val_loss: 0.6967 - val_accuracy: 0.5004\n",
      "Epoch 17/100\n",
      "2500/2500 [==============================] - 0s 104us/sample - loss: 0.6939 - accuracy: 0.5048 - val_loss: 0.6971 - val_accuracy: 0.5000\n",
      "Epoch 18/100\n",
      "2500/2500 [==============================] - 0s 110us/sample - loss: 0.6935 - accuracy: 0.5132 - val_loss: 0.6970 - val_accuracy: 0.4992\n",
      "Epoch 19/100\n",
      "2500/2500 [==============================] - 0s 116us/sample - loss: 0.6935 - accuracy: 0.5172 - val_loss: 0.6963 - val_accuracy: 0.5084\n",
      "Epoch 20/100\n",
      "2500/2500 [==============================] - 0s 135us/sample - loss: 0.6938 - accuracy: 0.5128 - val_loss: 0.6970 - val_accuracy: 0.4988\n",
      "Epoch 21/100\n",
      "2500/2500 [==============================] - 0s 109us/sample - loss: 0.6941 - accuracy: 0.5052 - val_loss: 0.6972 - val_accuracy: 0.5048\n",
      "Epoch 22/100\n",
      "2500/2500 [==============================] - 0s 108us/sample - loss: 0.6932 - accuracy: 0.5184 - val_loss: 0.6973 - val_accuracy: 0.4932\n",
      "Epoch 23/100\n",
      "2500/2500 [==============================] - 0s 103us/sample - loss: 0.6935 - accuracy: 0.5184 - val_loss: 0.6951 - val_accuracy: 0.5096\n",
      "Epoch 24/100\n",
      "2500/2500 [==============================] - 0s 106us/sample - loss: 0.6938 - accuracy: 0.5168 - val_loss: 0.6970 - val_accuracy: 0.5012\n",
      "Epoch 25/100\n",
      "2500/2500 [==============================] - 0s 104us/sample - loss: 0.6946 - accuracy: 0.5216 - val_loss: 0.6971 - val_accuracy: 0.5032\n",
      "Epoch 26/100\n",
      "2500/2500 [==============================] - 0s 131us/sample - loss: 0.6931 - accuracy: 0.5160 - val_loss: 0.6955 - val_accuracy: 0.5104\n",
      "Epoch 27/100\n",
      "2500/2500 [==============================] - 0s 125us/sample - loss: 0.6935 - accuracy: 0.5140 - val_loss: 0.6963 - val_accuracy: 0.5036\n",
      "Epoch 28/100\n",
      "2500/2500 [==============================] - 0s 130us/sample - loss: 0.6937 - accuracy: 0.5124 - val_loss: 0.6973 - val_accuracy: 0.4948\n",
      "Epoch 29/100\n",
      "2500/2500 [==============================] - 0s 109us/sample - loss: 0.6939 - accuracy: 0.5164 - val_loss: 0.6976 - val_accuracy: 0.4940\n",
      "Epoch 30/100\n",
      "2500/2500 [==============================] - 0s 124us/sample - loss: 0.6933 - accuracy: 0.5152 - val_loss: 0.6964 - val_accuracy: 0.5052\n",
      "Epoch 31/100\n",
      "2500/2500 [==============================] - 0s 105us/sample - loss: 0.6944 - accuracy: 0.5124 - val_loss: 0.6964 - val_accuracy: 0.5040\n",
      "Epoch 32/100\n",
      "2500/2500 [==============================] - 0s 106us/sample - loss: 0.6938 - accuracy: 0.5068 - val_loss: 0.6981 - val_accuracy: 0.4912\n",
      "Epoch 33/100\n",
      "2500/2500 [==============================] - 0s 105us/sample - loss: 0.6945 - accuracy: 0.5172 - val_loss: 0.6975 - val_accuracy: 0.5020\n",
      "Epoch 34/100\n",
      "2500/2500 [==============================] - 0s 106us/sample - loss: 0.6938 - accuracy: 0.5120 - val_loss: 0.6970 - val_accuracy: 0.5056\n",
      "Epoch 35/100\n",
      "2500/2500 [==============================] - 0s 106us/sample - loss: 0.6938 - accuracy: 0.5132 - val_loss: 0.6964 - val_accuracy: 0.5012\n",
      "Epoch 36/100\n",
      "2500/2500 [==============================] - 0s 108us/sample - loss: 0.6944 - accuracy: 0.5172 - val_loss: 0.6962 - val_accuracy: 0.4992\n",
      "Epoch 37/100\n",
      "2500/2500 [==============================] - 0s 107us/sample - loss: 0.6940 - accuracy: 0.5236 - val_loss: 0.6961 - val_accuracy: 0.4984\n",
      "Epoch 38/100\n",
      "2500/2500 [==============================] - 0s 104us/sample - loss: 0.6932 - accuracy: 0.5236 - val_loss: 0.6971 - val_accuracy: 0.5044\n",
      "Epoch 39/100\n",
      "2500/2500 [==============================] - 0s 104us/sample - loss: 0.6938 - accuracy: 0.5136 - val_loss: 0.6969 - val_accuracy: 0.5088\n",
      "Epoch 40/100\n",
      "2500/2500 [==============================] - 0s 103us/sample - loss: 0.6935 - accuracy: 0.5104 - val_loss: 0.6958 - val_accuracy: 0.4988\n",
      "Epoch 41/100\n",
      "2500/2500 [==============================] - 0s 126us/sample - loss: 0.6938 - accuracy: 0.5132 - val_loss: 0.6970 - val_accuracy: 0.4940\n",
      "Epoch 42/100\n",
      "2500/2500 [==============================] - 0s 126us/sample - loss: 0.6928 - accuracy: 0.5256 - val_loss: 0.6969 - val_accuracy: 0.5028\n",
      "Epoch 43/100\n",
      "2500/2500 [==============================] - 0s 127us/sample - loss: 0.6938 - accuracy: 0.5140 - val_loss: 0.6959 - val_accuracy: 0.4968\n",
      "Epoch 44/100\n",
      "2500/2500 [==============================] - 0s 104us/sample - loss: 0.6944 - accuracy: 0.5272 - val_loss: 0.6960 - val_accuracy: 0.4884\n",
      "Epoch 45/100\n",
      "2500/2500 [==============================] - 0s 123us/sample - loss: 0.6938 - accuracy: 0.5040 - val_loss: 0.6986 - val_accuracy: 0.4928\n",
      "Epoch 46/100\n",
      "2500/2500 [==============================] - 0s 132us/sample - loss: 0.6940 - accuracy: 0.5048 - val_loss: 0.6958 - val_accuracy: 0.4976\n",
      "Epoch 47/100\n",
      "2500/2500 [==============================] - 0s 129us/sample - loss: 0.6929 - accuracy: 0.5196 - val_loss: 0.6957 - val_accuracy: 0.4976\n",
      "Epoch 48/100\n",
      "2500/2500 [==============================] - 0s 113us/sample - loss: 0.6938 - accuracy: 0.5116 - val_loss: 0.6955 - val_accuracy: 0.5048\n",
      "Epoch 49/100\n",
      "2500/2500 [==============================] - 0s 108us/sample - loss: 0.6934 - accuracy: 0.5200 - val_loss: 0.6964 - val_accuracy: 0.4952\n",
      "Epoch 50/100\n",
      "2500/2500 [==============================] - 0s 110us/sample - loss: 0.6940 - accuracy: 0.5052 - val_loss: 0.6965 - val_accuracy: 0.4936\n",
      "Epoch 51/100\n",
      "2500/2500 [==============================] - 0s 116us/sample - loss: 0.6937 - accuracy: 0.5184 - val_loss: 0.6978 - val_accuracy: 0.4980\n",
      "Epoch 52/100\n",
      "2500/2500 [==============================] - 0s 123us/sample - loss: 0.6933 - accuracy: 0.5056 - val_loss: 0.6983 - val_accuracy: 0.4992\n",
      "Epoch 53/100\n",
      "2500/2500 [==============================] - 0s 160us/sample - loss: 0.6938 - accuracy: 0.5204 - val_loss: 0.6953 - val_accuracy: 0.5036\n",
      "Epoch 54/100\n",
      "2500/2500 [==============================] - 0s 117us/sample - loss: 0.6936 - accuracy: 0.5060 - val_loss: 0.6967 - val_accuracy: 0.5032\n",
      "Epoch 55/100\n"
     ]
    },
    {
     "name": "stdout",
     "output_type": "stream",
     "text": [
      "2500/2500 [==============================] - 0s 108us/sample - loss: 0.6934 - accuracy: 0.5120 - val_loss: 0.6978 - val_accuracy: 0.4932\n",
      "Epoch 56/100\n",
      "2500/2500 [==============================] - 0s 137us/sample - loss: 0.6930 - accuracy: 0.5168 - val_loss: 0.6981 - val_accuracy: 0.5028\n",
      "Epoch 57/100\n",
      "2500/2500 [==============================] - 0s 123us/sample - loss: 0.6946 - accuracy: 0.5152 - val_loss: 0.6965 - val_accuracy: 0.4944\n",
      "Epoch 58/100\n",
      "2500/2500 [==============================] - 0s 109us/sample - loss: 0.6939 - accuracy: 0.5072 - val_loss: 0.6959 - val_accuracy: 0.4920\n",
      "Epoch 59/100\n",
      "2500/2500 [==============================] - 0s 106us/sample - loss: 0.6940 - accuracy: 0.5124 - val_loss: 0.6969 - val_accuracy: 0.4948\n",
      "Epoch 60/100\n",
      "2500/2500 [==============================] - 0s 106us/sample - loss: 0.6939 - accuracy: 0.5152 - val_loss: 0.6980 - val_accuracy: 0.5028\n",
      "Epoch 61/100\n",
      "2500/2500 [==============================] - 0s 105us/sample - loss: 0.6943 - accuracy: 0.5228 - val_loss: 0.6979 - val_accuracy: 0.4992\n",
      "Epoch 62/100\n",
      "2500/2500 [==============================] - 0s 104us/sample - loss: 0.6944 - accuracy: 0.5136 - val_loss: 0.6962 - val_accuracy: 0.4928\n",
      "Epoch 63/100\n",
      "2500/2500 [==============================] - 0s 105us/sample - loss: 0.6933 - accuracy: 0.5216 - val_loss: 0.6968 - val_accuracy: 0.5020\n",
      "Epoch 64/100\n",
      "2500/2500 [==============================] - 0s 108us/sample - loss: 0.6936 - accuracy: 0.5228 - val_loss: 0.6970 - val_accuracy: 0.5004\n",
      "Epoch 65/100\n",
      "2500/2500 [==============================] - 0s 104us/sample - loss: 0.6938 - accuracy: 0.5244 - val_loss: 0.6974 - val_accuracy: 0.4940\n",
      "Epoch 66/100\n",
      "2500/2500 [==============================] - 0s 103us/sample - loss: 0.6942 - accuracy: 0.5128 - val_loss: 0.6966 - val_accuracy: 0.4964\n",
      "Epoch 67/100\n",
      "2500/2500 [==============================] - 0s 103us/sample - loss: 0.6935 - accuracy: 0.5184 - val_loss: 0.6980 - val_accuracy: 0.4904\n",
      "Epoch 68/100\n",
      "2500/2500 [==============================] - 0s 104us/sample - loss: 0.6939 - accuracy: 0.5176 - val_loss: 0.6968 - val_accuracy: 0.4972\n",
      "Epoch 69/100\n",
      "2500/2500 [==============================] - 0s 103us/sample - loss: 0.6934 - accuracy: 0.5280 - val_loss: 0.6968 - val_accuracy: 0.5040\n",
      "Epoch 70/100\n",
      "2500/2500 [==============================] - 0s 104us/sample - loss: 0.6933 - accuracy: 0.5168 - val_loss: 0.6967 - val_accuracy: 0.4972\n",
      "Epoch 71/100\n",
      "2500/2500 [==============================] - 0s 104us/sample - loss: 0.6934 - accuracy: 0.5128 - val_loss: 0.6977 - val_accuracy: 0.4916\n",
      "Epoch 72/100\n",
      "2500/2500 [==============================] - 0s 103us/sample - loss: 0.6934 - accuracy: 0.5232 - val_loss: 0.6970 - val_accuracy: 0.4924\n",
      "Epoch 73/100\n",
      "2500/2500 [==============================] - 0s 103us/sample - loss: 0.6937 - accuracy: 0.5132 - val_loss: 0.6958 - val_accuracy: 0.4992\n",
      "Epoch 74/100\n",
      "2500/2500 [==============================] - 0s 105us/sample - loss: 0.6943 - accuracy: 0.5192 - val_loss: 0.6976 - val_accuracy: 0.4928\n",
      "Epoch 75/100\n",
      "2500/2500 [==============================] - 0s 143us/sample - loss: 0.6947 - accuracy: 0.5152 - val_loss: 0.6963 - val_accuracy: 0.5056\n",
      "Epoch 76/100\n",
      "2500/2500 [==============================] - 0s 118us/sample - loss: 0.6931 - accuracy: 0.5204 - val_loss: 0.6958 - val_accuracy: 0.4984\n",
      "Epoch 77/100\n",
      "2500/2500 [==============================] - 0s 103us/sample - loss: 0.6936 - accuracy: 0.5116 - val_loss: 0.6982 - val_accuracy: 0.4932\n",
      "Epoch 78/100\n",
      "2500/2500 [==============================] - 0s 112us/sample - loss: 0.6937 - accuracy: 0.5284 - val_loss: 0.6969 - val_accuracy: 0.4972\n",
      "Epoch 79/100\n",
      "2500/2500 [==============================] - 0s 142us/sample - loss: 0.6937 - accuracy: 0.4920 - val_loss: 0.6985 - val_accuracy: 0.4868\n",
      "Epoch 80/100\n",
      "2500/2500 [==============================] - 0s 110us/sample - loss: 0.6940 - accuracy: 0.5116 - val_loss: 0.6982 - val_accuracy: 0.4944\n",
      "Epoch 81/100\n",
      "2500/2500 [==============================] - 0s 114us/sample - loss: 0.6942 - accuracy: 0.5148 - val_loss: 0.6963 - val_accuracy: 0.4936\n",
      "Epoch 82/100\n",
      "2500/2500 [==============================] - 0s 108us/sample - loss: 0.6941 - accuracy: 0.5164 - val_loss: 0.6955 - val_accuracy: 0.5124\n",
      "Epoch 83/100\n",
      "2500/2500 [==============================] - 0s 129us/sample - loss: 0.6937 - accuracy: 0.5148 - val_loss: 0.6979 - val_accuracy: 0.5072\n",
      "Epoch 84/100\n",
      "2500/2500 [==============================] - 0s 119us/sample - loss: 0.6936 - accuracy: 0.5216 - val_loss: 0.6955 - val_accuracy: 0.5032\n",
      "Epoch 85/100\n",
      "2500/2500 [==============================] - 0s 115us/sample - loss: 0.6937 - accuracy: 0.5116 - val_loss: 0.6962 - val_accuracy: 0.5012\n",
      "Epoch 86/100\n",
      "2500/2500 [==============================] - 0s 101us/sample - loss: 0.6936 - accuracy: 0.5128 - val_loss: 0.6976 - val_accuracy: 0.4948\n",
      "Epoch 87/100\n",
      "2500/2500 [==============================] - 0s 103us/sample - loss: 0.6943 - accuracy: 0.5112 - val_loss: 0.6959 - val_accuracy: 0.5052\n",
      "Epoch 88/100\n",
      "2500/2500 [==============================] - 0s 108us/sample - loss: 0.6940 - accuracy: 0.5176 - val_loss: 0.6957 - val_accuracy: 0.5140\n",
      "Epoch 89/100\n",
      "2500/2500 [==============================] - 0s 112us/sample - loss: 0.6934 - accuracy: 0.5256 - val_loss: 0.6968 - val_accuracy: 0.5040\n",
      "Epoch 90/100\n",
      "2500/2500 [==============================] - 0s 124us/sample - loss: 0.6937 - accuracy: 0.5264 - val_loss: 0.6968 - val_accuracy: 0.5032\n",
      "Epoch 91/100\n",
      "2500/2500 [==============================] - 0s 113us/sample - loss: 0.6935 - accuracy: 0.5084 - val_loss: 0.6968 - val_accuracy: 0.4980\n",
      "Epoch 92/100\n",
      "2500/2500 [==============================] - 0s 106us/sample - loss: 0.6938 - accuracy: 0.5172 - val_loss: 0.6972 - val_accuracy: 0.4980\n",
      "Epoch 93/100\n",
      "2500/2500 [==============================] - 0s 103us/sample - loss: 0.6934 - accuracy: 0.5132 - val_loss: 0.6971 - val_accuracy: 0.4844\n",
      "Epoch 94/100\n",
      "2500/2500 [==============================] - 0s 103us/sample - loss: 0.6944 - accuracy: 0.5092 - val_loss: 0.6977 - val_accuracy: 0.4976\n",
      "Epoch 95/100\n",
      "2500/2500 [==============================] - 0s 104us/sample - loss: 0.6937 - accuracy: 0.5324 - val_loss: 0.6977 - val_accuracy: 0.4948\n",
      "Epoch 96/100\n",
      "2500/2500 [==============================] - 0s 101us/sample - loss: 0.6940 - accuracy: 0.5196 - val_loss: 0.6967 - val_accuracy: 0.5016\n",
      "Epoch 97/100\n",
      "2500/2500 [==============================] - 0s 104us/sample - loss: 0.6941 - accuracy: 0.5196 - val_loss: 0.6977 - val_accuracy: 0.4896\n",
      "Epoch 98/100\n",
      "2500/2500 [==============================] - 0s 102us/sample - loss: 0.6934 - accuracy: 0.5132 - val_loss: 0.6967 - val_accuracy: 0.5000\n",
      "Epoch 99/100\n",
      "2500/2500 [==============================] - 0s 104us/sample - loss: 0.6936 - accuracy: 0.5172 - val_loss: 0.6981 - val_accuracy: 0.4928\n",
      "Epoch 100/100\n",
      "2500/2500 [==============================] - 0s 105us/sample - loss: 0.6947 - accuracy: 0.5152 - val_loss: 0.6982 - val_accuracy: 0.4936\n"
     ]
    }
   ],
   "source": [
    "# Try a linear model first - note: it is classification now!\n",
    "i = Input(shape=(T,))\n",
    "x = Dense(1, activation='sigmoid')(i)\n",
    "model = Model(i, x)\n",
    "model.compile(\n",
    "  loss='binary_crossentropy',\n",
    "  optimizer=Adam(lr=0.01),\n",
    "  metrics=['accuracy'],\n",
    ")\n",
    "\n",
    "# train the network\n",
    "r = model.fit(\n",
    "  X, Y,\n",
    "  epochs=100,\n",
    "  validation_split=0.5,\n",
    ")"
   ]
  },
  {
   "cell_type": "code",
   "execution_count": 5,
   "metadata": {
    "colab": {
     "base_uri": "https://localhost:8080/",
     "height": 282
    },
    "colab_type": "code",
    "id": "U_jQE9jL52qR",
    "outputId": "003a741b-5814-4d20-a64a-2317cc0e3b11"
   },
   "outputs": [
    {
     "data": {
      "text/plain": [
       "<matplotlib.legend.Legend at 0x645a118d0>"
      ]
     },
     "execution_count": 5,
     "metadata": {},
     "output_type": "execute_result"
    },
    {
     "data": {
      "image/png": "[encoded data removed]",
      "text/plain": [
       "<Figure size 432x288 with 1 Axes>"
      ]
     },
     "metadata": {
      "needs_background": "light"
     },
     "output_type": "display_data"
    }
   ],
   "source": [
    "# Plot the loss\n",
    "plt.plot(r.history['loss'], label='loss')\n",
    "plt.plot(r.history['val_loss'], label='val_loss')\n",
    "plt.legend()"
   ]
  },
  {
   "cell_type": "code",
   "execution_count": 6,
   "metadata": {
    "colab": {
     "base_uri": "https://localhost:8080/",
     "height": 282
    },
    "colab_type": "code",
    "id": "c_Yfzj1H6Hbr",
    "outputId": "b81586a6-94cc-4c5a-c06e-fb1d589e5602"
   },
   "outputs": [
    {
     "data": {
      "text/plain": [
       "<matplotlib.legend.Legend at 0x64657ce90>"
      ]
     },
     "execution_count": 6,
     "metadata": {},
     "output_type": "execute_result"
    },
    {
     "data": {
      "image/png": "[encoded data removed]",
      "text/plain": [
       "<Figure size 432x288 with 1 Axes>"
      ]
     },
     "metadata": {
      "needs_background": "light"
     },
     "output_type": "display_data"
    }
   ],
   "source": [
    "# Plot the accuracy too - should be around 50%\n",
    "plt.plot(r.history['accuracy'], label='acc')\n",
    "plt.plot(r.history['val_accuracy'], label='val_acc')\n",
    "plt.legend()"
   ]
  },
  {
   "cell_type": "code",
   "execution_count": 7,
   "metadata": {
    "colab": {},
    "colab_type": "code",
    "id": "JRsanIXM6PLC"
   },
   "outputs": [],
   "source": [
    "# Now try a simple RNN\n",
    "inputs = np.expand_dims(X, -1)\n",
    "\n",
    "# make the RNN\n",
    "i = Input(shape=(T, D))\n",
    "\n",
    "# method 1\n",
    "# x = LSTM(5)(i)\n",
    "x = SimpleRNN(5)(i)\n",
    "# x = GRU(5)(i)\n",
    "\n",
    "# method 2\n",
    "# x = LSTM(5, return_sequences=True)(i)\n",
    "# x = GlobalMaxPool1D()(x)\n",
    "\n",
    "x = Dense(1, activation='sigmoid')(x)\n",
    "model = Model(i, x)\n",
    "model.compile(\n",
    "  loss='binary_crossentropy',\n",
    "  # optimizer='rmsprop',\n",
    "#   optimizer='adam',\n",
    "  optimizer=Adam(lr=0.01),\n",
    "  # optimizer=SGD(lr=0.1, momentum=0.9),\n",
    "  metrics=['accuracy'],\n",
    ")"
   ]
  },
  {
   "cell_type": "code",
   "execution_count": null,
   "metadata": {
    "colab": {
     "base_uri": "https://localhost:8080/",
     "height": 1000
    },
    "colab_type": "code",
    "id": "6fkLPGwn7hTH",
    "outputId": "40b8da05-ee36-4fe5-9574-65f867868936"
   },
   "outputs": [
    {
     "name": "stdout",
     "output_type": "stream",
     "text": [
      "Train on 2500 samples, validate on 2500 samples\n",
      "Epoch 1/200\n",
      "2500/2500 [==============================] - 3s 1ms/sample - loss: 0.6954 - accuracy: 0.5248 - val_loss: 0.6911 - val_accuracy: 0.5400\n",
      "Epoch 2/200\n",
      "2500/2500 [==============================] - 1s 347us/sample - loss: 0.6819 - accuracy: 0.5792 - val_loss: 0.6689 - val_accuracy: 0.6064\n",
      "Epoch 3/200\n",
      "2500/2500 [==============================] - 1s 376us/sample - loss: 0.6243 - accuracy: 0.7184 - val_loss: 0.5655 - val_accuracy: 0.7760\n",
      "Epoch 4/200\n",
      "2500/2500 [==============================] - 1s 389us/sample - loss: 0.4719 - accuracy: 0.8532 - val_loss: 0.3987 - val_accuracy: 0.8860\n",
      "Epoch 5/200\n",
      "2500/2500 [==============================] - 1s 349us/sample - loss: 0.3420 - accuracy: 0.8940 - val_loss: 0.3074 - val_accuracy: 0.9036\n",
      "Epoch 6/200\n",
      "2500/2500 [==============================] - 1s 357us/sample - loss: 0.2754 - accuracy: 0.9092 - val_loss: 0.2656 - val_accuracy: 0.9136\n",
      "Epoch 7/200\n",
      "2500/2500 [==============================] - 1s 352us/sample - loss: 0.2355 - accuracy: 0.9232 - val_loss: 0.2246 - val_accuracy: 0.9264\n",
      "Epoch 8/200\n",
      "2500/2500 [==============================] - 1s 350us/sample - loss: 0.2090 - accuracy: 0.9276 - val_loss: 0.1994 - val_accuracy: 0.9376\n",
      "Epoch 9/200\n",
      "2500/2500 [==============================] - 1s 353us/sample - loss: 0.1900 - accuracy: 0.9384 - val_loss: 0.1876 - val_accuracy: 0.9372\n",
      "Epoch 10/200\n",
      "2500/2500 [==============================] - 1s 355us/sample - loss: 0.1750 - accuracy: 0.9408 - val_loss: 0.1812 - val_accuracy: 0.9308\n",
      "Epoch 11/200\n",
      "2500/2500 [==============================] - 1s 352us/sample - loss: 0.1664 - accuracy: 0.9428 - val_loss: 0.1652 - val_accuracy: 0.9420\n",
      "Epoch 12/200\n",
      "2500/2500 [==============================] - 1s 367us/sample - loss: 0.1553 - accuracy: 0.9540 - val_loss: 0.1602 - val_accuracy: 0.9428\n",
      "Epoch 13/200\n",
      "2500/2500 [==============================] - 1s 359us/sample - loss: 0.1480 - accuracy: 0.9484 - val_loss: 0.1455 - val_accuracy: 0.9552\n",
      "Epoch 14/200\n",
      "2500/2500 [==============================] - 1s 354us/sample - loss: 0.1381 - accuracy: 0.9540 - val_loss: 0.1372 - val_accuracy: 0.9544\n",
      "Epoch 15/200\n",
      "2500/2500 [==============================] - 1s 357us/sample - loss: 0.1329 - accuracy: 0.9568 - val_loss: 0.1362 - val_accuracy: 0.9548\n",
      "Epoch 16/200\n",
      "2500/2500 [==============================] - 1s 360us/sample - loss: 0.1244 - accuracy: 0.9624 - val_loss: 0.1256 - val_accuracy: 0.9656\n",
      "Epoch 17/200\n",
      "2500/2500 [==============================] - 1s 401us/sample - loss: 0.1175 - accuracy: 0.9676 - val_loss: 0.1179 - val_accuracy: 0.9668\n",
      "Epoch 18/200\n",
      "2500/2500 [==============================] - 1s 379us/sample - loss: 0.1127 - accuracy: 0.9696 - val_loss: 0.1177 - val_accuracy: 0.9632\n",
      "Epoch 19/200\n",
      "2500/2500 [==============================] - 1s 476us/sample - loss: 0.1102 - accuracy: 0.9700 - val_loss: 0.1126 - val_accuracy: 0.9696\n",
      "Epoch 20/200\n",
      "2500/2500 [==============================] - 1s 356us/sample - loss: 0.1066 - accuracy: 0.9716 - val_loss: 0.1074 - val_accuracy: 0.9680\n",
      "Epoch 21/200\n",
      "2500/2500 [==============================] - 1s 362us/sample - loss: 0.0997 - accuracy: 0.9740 - val_loss: 0.1035 - val_accuracy: 0.9700\n",
      "Epoch 22/200\n",
      "2500/2500 [==============================] - 1s 361us/sample - loss: 0.0980 - accuracy: 0.9764 - val_loss: 0.1070 - val_accuracy: 0.9672\n",
      "Epoch 23/200\n",
      "2500/2500 [==============================] - 1s 359us/sample - loss: 0.0922 - accuracy: 0.9760 - val_loss: 0.1050 - val_accuracy: 0.9644\n",
      "Epoch 24/200\n",
      "2500/2500 [==============================] - 1s 401us/sample - loss: 0.0894 - accuracy: 0.9796 - val_loss: 0.0959 - val_accuracy: 0.9760\n",
      "Epoch 25/200\n",
      "2500/2500 [==============================] - 1s 408us/sample - loss: 0.0883 - accuracy: 0.9780 - val_loss: 0.0947 - val_accuracy: 0.9760\n",
      "Epoch 26/200\n",
      "2500/2500 [==============================] - 1s 395us/sample - loss: 0.0865 - accuracy: 0.9760 - val_loss: 0.0910 - val_accuracy: 0.9808\n",
      "Epoch 27/200\n",
      "2500/2500 [==============================] - 1s 382us/sample - loss: 0.0854 - accuracy: 0.9784 - val_loss: 0.0889 - val_accuracy: 0.9776\n",
      "Epoch 28/200\n",
      "2500/2500 [==============================] - 1s 422us/sample - loss: 0.0811 - accuracy: 0.9820 - val_loss: 0.0867 - val_accuracy: 0.9808\n",
      "Epoch 29/200\n",
      "2500/2500 [==============================] - 1s 424us/sample - loss: 0.0811 - accuracy: 0.9824 - val_loss: 0.0859 - val_accuracy: 0.9784\n",
      "Epoch 30/200\n",
      "2500/2500 [==============================] - 1s 373us/sample - loss: 0.0789 - accuracy: 0.9744 - val_loss: 0.0854 - val_accuracy: 0.9752\n",
      "Epoch 31/200\n",
      "2500/2500 [==============================] - 1s 368us/sample - loss: 0.0773 - accuracy: 0.9796 - val_loss: 0.0860 - val_accuracy: 0.9716\n",
      "Epoch 32/200\n",
      "2500/2500 [==============================] - 1s 362us/sample - loss: 0.0794 - accuracy: 0.9792 - val_loss: 0.0841 - val_accuracy: 0.9752\n",
      "Epoch 33/200\n",
      "2500/2500 [==============================] - 1s 415us/sample - loss: 0.0741 - accuracy: 0.9824 - val_loss: 0.0850 - val_accuracy: 0.9692\n",
      "Epoch 34/200\n",
      "2500/2500 [==============================] - 1s 370us/sample - loss: 0.0745 - accuracy: 0.9812 - val_loss: 0.0773 - val_accuracy: 0.9840\n",
      "Epoch 35/200\n",
      "2500/2500 [==============================] - 1s 377us/sample - loss: 0.0723 - accuracy: 0.9856 - val_loss: 0.0800 - val_accuracy: 0.9768\n",
      "Epoch 36/200\n",
      "2500/2500 [==============================] - 1s 427us/sample - loss: 0.0703 - accuracy: 0.9832 - val_loss: 0.0814 - val_accuracy: 0.9756\n",
      "Epoch 37/200\n",
      "2500/2500 [==============================] - 1s 427us/sample - loss: 0.0702 - accuracy: 0.9816 - val_loss: 0.0795 - val_accuracy: 0.9764\n",
      "Epoch 38/200\n",
      "2500/2500 [==============================] - 1s 396us/sample - loss: 0.0712 - accuracy: 0.9772 - val_loss: 0.0763 - val_accuracy: 0.9804\n",
      "Epoch 39/200\n",
      "2500/2500 [==============================] - 1s 399us/sample - loss: 0.0660 - accuracy: 0.9844 - val_loss: 0.0850 - val_accuracy: 0.9604\n",
      "Epoch 40/200\n",
      "2500/2500 [==============================] - 1s 396us/sample - loss: 0.0651 - accuracy: 0.9844 - val_loss: 0.0755 - val_accuracy: 0.9780\n",
      "Epoch 41/200\n",
      "2500/2500 [==============================] - 1s 404us/sample - loss: 0.0664 - accuracy: 0.9800 - val_loss: 0.0763 - val_accuracy: 0.9736\n",
      "Epoch 42/200\n",
      "2500/2500 [==============================] - 1s 368us/sample - loss: 0.0663 - accuracy: 0.9804 - val_loss: 0.0728 - val_accuracy: 0.9800\n",
      "Epoch 43/200\n",
      "2500/2500 [==============================] - 1s 368us/sample - loss: 0.0629 - accuracy: 0.9848 - val_loss: 0.0742 - val_accuracy: 0.9740\n",
      "Epoch 44/200\n",
      "2500/2500 [==============================] - 1s 395us/sample - loss: 0.0616 - accuracy: 0.9840 - val_loss: 0.0699 - val_accuracy: 0.9768\n",
      "Epoch 45/200\n",
      "2500/2500 [==============================] - 1s 397us/sample - loss: 0.0623 - accuracy: 0.9800 - val_loss: 0.0718 - val_accuracy: 0.9776\n",
      "Epoch 46/200\n",
      "2500/2500 [==============================] - 1s 418us/sample - loss: 0.0637 - accuracy: 0.9816 - val_loss: 0.0742 - val_accuracy: 0.9724\n",
      "Epoch 47/200\n",
      "2500/2500 [==============================] - 1s 376us/sample - loss: 0.0586 - accuracy: 0.9820 - val_loss: 0.0680 - val_accuracy: 0.9780\n",
      "Epoch 48/200\n",
      "2500/2500 [==============================] - 1s 365us/sample - loss: 0.0588 - accuracy: 0.9848 - val_loss: 0.0683 - val_accuracy: 0.9748\n",
      "Epoch 49/200\n",
      "2500/2500 [==============================] - 1s 364us/sample - loss: 0.0587 - accuracy: 0.9816 - val_loss: 0.0695 - val_accuracy: 0.9784\n",
      "Epoch 50/200\n",
      "2500/2500 [==============================] - 1s 362us/sample - loss: 0.0611 - accuracy: 0.9832 - val_loss: 0.0684 - val_accuracy: 0.9780\n",
      "Epoch 51/200\n",
      "2500/2500 [==============================] - 1s 362us/sample - loss: 0.0572 - accuracy: 0.9832 - val_loss: 0.0695 - val_accuracy: 0.9744\n",
      "Epoch 52/200\n",
      "2500/2500 [==============================] - 1s 367us/sample - loss: 0.0574 - accuracy: 0.9840 - val_loss: 0.0700 - val_accuracy: 0.9724\n",
      "Epoch 53/200\n",
      "2500/2500 [==============================] - 1s 360us/sample - loss: 0.0579 - accuracy: 0.9836 - val_loss: 0.0696 - val_accuracy: 0.9800\n",
      "Epoch 54/200\n",
      "2500/2500 [==============================] - 1s 393us/sample - loss: 0.0557 - accuracy: 0.9820 - val_loss: 0.0690 - val_accuracy: 0.9776\n",
      "Epoch 55/200\n"
     ]
    },
    {
     "name": "stdout",
     "output_type": "stream",
     "text": [
      "2500/2500 [==============================] - 1s 358us/sample - loss: 0.0538 - accuracy: 0.9868 - val_loss: 0.0660 - val_accuracy: 0.9812\n",
      "Epoch 56/200\n",
      "2500/2500 [==============================] - 1s 360us/sample - loss: 0.0526 - accuracy: 0.9876 - val_loss: 0.0644 - val_accuracy: 0.9764\n",
      "Epoch 57/200\n",
      "2500/2500 [==============================] - 1s 378us/sample - loss: 0.0548 - accuracy: 0.9824 - val_loss: 0.0634 - val_accuracy: 0.9820\n",
      "Epoch 58/200\n",
      "2500/2500 [==============================] - 1s 383us/sample - loss: 0.0517 - accuracy: 0.9856 - val_loss: 0.0647 - val_accuracy: 0.9772\n",
      "Epoch 59/200\n",
      "2500/2500 [==============================] - 1s 384us/sample - loss: 0.0530 - accuracy: 0.9828 - val_loss: 0.0626 - val_accuracy: 0.9808\n",
      "Epoch 60/200\n",
      "2500/2500 [==============================] - 1s 406us/sample - loss: 0.0510 - accuracy: 0.9848 - val_loss: 0.0613 - val_accuracy: 0.9800\n",
      "Epoch 61/200\n",
      "2500/2500 [==============================] - 1s 400us/sample - loss: 0.0503 - accuracy: 0.9856 - val_loss: 0.0614 - val_accuracy: 0.9812\n",
      "Epoch 62/200\n",
      "2500/2500 [==============================] - 1s 452us/sample - loss: 0.0498 - accuracy: 0.9852 - val_loss: 0.0650 - val_accuracy: 0.9756\n",
      "Epoch 63/200\n",
      "2500/2500 [==============================] - 1s 372us/sample - loss: 0.0508 - accuracy: 0.9860 - val_loss: 0.0623 - val_accuracy: 0.9800\n",
      "Epoch 64/200\n",
      "2500/2500 [==============================] - 1s 396us/sample - loss: 0.0494 - accuracy: 0.9856 - val_loss: 0.0605 - val_accuracy: 0.9784\n",
      "Epoch 65/200\n",
      "2500/2500 [==============================] - 1s 387us/sample - loss: 0.0478 - accuracy: 0.9876 - val_loss: 0.0603 - val_accuracy: 0.9812\n",
      "Epoch 66/200\n",
      "2500/2500 [==============================] - 1s 383us/sample - loss: 0.0487 - accuracy: 0.9840 - val_loss: 0.0686 - val_accuracy: 0.9708\n"
     ]
    }
   ],
   "source": [
    "# train the RNN\n",
    "r = model.fit(\n",
    "  inputs, Y,\n",
    "  epochs=200,\n",
    "  validation_split=0.5,\n",
    ")"
   ]
  },
  {
   "cell_type": "code",
   "execution_count": null,
   "metadata": {
    "colab": {
     "base_uri": "https://localhost:8080/",
     "height": 282
    },
    "colab_type": "code",
    "id": "iYa9T6em6Xgz",
    "outputId": "b3f19fb0-84ee-478b-b86d-137c213e7331"
   },
   "outputs": [],
   "source": [
    "# Plot the loss\n",
    "plt.plot(r.history['loss'], label='loss')\n",
    "plt.plot(r.history['val_loss'], label='val_loss')\n",
    "plt.legend()"
   ]
  },
  {
   "cell_type": "code",
   "execution_count": null,
   "metadata": {
    "colab": {
     "base_uri": "https://localhost:8080/",
     "height": 282
    },
    "colab_type": "code",
    "id": "A2oGGbqw6boT",
    "outputId": "7bd3d837-0258-4595-b7f4-45ff549ad56d"
   },
   "outputs": [],
   "source": [
    "# Plot the accuracy too\n",
    "plt.plot(r.history['accuracy'], label='acc')\n",
    "plt.plot(r.history['val_accuracy'], label='val_acc')\n",
    "plt.legend()"
   ]
  },
  {
   "cell_type": "code",
   "execution_count": null,
   "metadata": {
    "colab": {},
    "colab_type": "code",
    "id": "keqKuQtWvY4v"
   },
   "outputs": [],
   "source": [
    "# Now change to the long distance problem\n",
    "\n",
    "# Start with a small T and increase it later\n",
    "T = 10\n",
    "D = 1\n",
    "X = []\n",
    "Y = []\n",
    "\n",
    "for t in range(5000):\n",
    "  x = np.random.randn(T)\n",
    "  X.append(x)\n",
    "  y = get_label(x, 0, 1, 2) # long distance\n",
    "  Y.append(y)\n",
    "\n",
    "X = np.array(X)\n",
    "Y = np.array(Y)\n",
    "N = len(X)"
   ]
  },
  {
   "cell_type": "code",
   "execution_count": null,
   "metadata": {
    "colab": {
     "base_uri": "https://localhost:8080/",
     "height": 1000
    },
    "colab_type": "code",
    "id": "TlBzJjwtvhm1",
    "outputId": "0478d97d-9655-4d4a-aed9-ded95c52fe09"
   },
   "outputs": [],
   "source": [
    "# Now test our Simple RNN again\n",
    "inputs = np.expand_dims(X, -1)\n",
    "\n",
    "# make the RNN\n",
    "i = Input(shape=(T, D))\n",
    "\n",
    "# method 1\n",
    "x = SimpleRNN(5)(i)\n",
    "\n",
    "x = Dense(1, activation='sigmoid')(x)\n",
    "model = Model(i, x)\n",
    "model.compile(\n",
    "  loss='binary_crossentropy',\n",
    "  optimizer=Adam(lr=0.01),\n",
    "  metrics=['accuracy'],\n",
    ")\n",
    "\n",
    "# train the RNN\n",
    "r = model.fit(\n",
    "  inputs, Y,\n",
    "  epochs=200,\n",
    "  validation_split=0.5,\n",
    ")"
   ]
  },
  {
   "cell_type": "code",
   "execution_count": null,
   "metadata": {
    "colab": {
     "base_uri": "https://localhost:8080/",
     "height": 282
    },
    "colab_type": "code",
    "id": "tEXzf6gUwlqf",
    "outputId": "a1856e71-a66a-4ece-b16d-16167d6c872b"
   },
   "outputs": [],
   "source": [
    "# Plot the loss\n",
    "plt.plot(r.history['loss'], label='loss')\n",
    "plt.plot(r.history['val_loss'], label='val_loss')\n",
    "plt.legend()"
   ]
  },
  {
   "cell_type": "code",
   "execution_count": null,
   "metadata": {
    "colab": {
     "base_uri": "https://localhost:8080/",
     "height": 282
    },
    "colab_type": "code",
    "id": "b8-1DMiOwrG8",
    "outputId": "d4ad9104-0b4e-4eca-b964-81539653934b"
   },
   "outputs": [],
   "source": [
    "# Plot the accuracy too\n",
    "plt.plot(r.history['accuracy'], label='acc')\n",
    "plt.plot(r.history['val_accuracy'], label='val_acc')\n",
    "plt.legend()"
   ]
  },
  {
   "cell_type": "code",
   "execution_count": null,
   "metadata": {
    "colab": {
     "base_uri": "https://localhost:8080/",
     "height": 1000
    },
    "colab_type": "code",
    "id": "OU4NAYTOwsgb",
    "outputId": "58c8e503-2054-447c-e7d3-0730a02d6591"
   },
   "outputs": [],
   "source": [
    "# Now test our LSTM\n",
    "inputs = np.expand_dims(X, -1)\n",
    "\n",
    "# make the RNN\n",
    "i = Input(shape=(T, D))\n",
    "\n",
    "# method 1\n",
    "x = LSTM(5)(i)\n",
    "\n",
    "x = Dense(1, activation='sigmoid')(x)\n",
    "model = Model(i, x)\n",
    "model.compile(\n",
    "  loss='binary_crossentropy',\n",
    "  optimizer=Adam(lr=0.01),\n",
    "  metrics=['accuracy'],\n",
    ")\n",
    "\n",
    "# train the RNN\n",
    "r = model.fit(\n",
    "  inputs, Y,\n",
    "  epochs=200,\n",
    "  validation_split=0.5,\n",
    ")"
   ]
  },
  {
   "cell_type": "code",
   "execution_count": null,
   "metadata": {
    "colab": {
     "base_uri": "https://localhost:8080/",
     "height": 282
    },
    "colab_type": "code",
    "id": "goA0mGDQw0JK",
    "outputId": "5a74c0c6-ec7c-454b-c935-a8c36319e53a"
   },
   "outputs": [],
   "source": [
    "# Plot the loss\n",
    "plt.plot(r.history['loss'], label='loss')\n",
    "plt.plot(r.history['val_loss'], label='val_loss')\n",
    "plt.legend()"
   ]
  },
  {
   "cell_type": "code",
   "execution_count": null,
   "metadata": {
    "colab": {
     "base_uri": "https://localhost:8080/",
     "height": 282
    },
    "colab_type": "code",
    "id": "1QrdkXOgw1XK",
    "outputId": "223d5ebb-eef6-4201-e482-214f743336fe"
   },
   "outputs": [],
   "source": [
    "# Plot the accuracy too\n",
    "plt.plot(r.history['accuracy'], label='acc')\n",
    "plt.plot(r.history['val_accuracy'], label='val_acc')\n",
    "plt.legend()"
   ]
  },
  {
   "cell_type": "code",
   "execution_count": null,
   "metadata": {
    "colab": {},
    "colab_type": "code",
    "id": "d0v8XyFkyCfJ"
   },
   "outputs": [],
   "source": [
    "# Make the problem harder by making T larger\n",
    "T = 20\n",
    "D = 1\n",
    "X = []\n",
    "Y = []\n",
    "\n",
    "for t in range(5000):\n",
    "  x = np.random.randn(T)\n",
    "  X.append(x)\n",
    "  y = get_label(x, 0, 1, 2) # long distance\n",
    "  Y.append(y)\n",
    "\n",
    "X = np.array(X)\n",
    "Y = np.array(Y)\n",
    "N = len(X)"
   ]
  },
  {
   "cell_type": "code",
   "execution_count": null,
   "metadata": {
    "colab": {
     "base_uri": "https://localhost:8080/",
     "height": 1000
    },
    "colab_type": "code",
    "id": "04LVN48byKBb",
    "outputId": "e498f593-bd77-4139-9e50-ee7ab5d71ff3"
   },
   "outputs": [],
   "source": [
    "# Now test our Simple RNN again\n",
    "inputs = np.expand_dims(X, -1)\n",
    "\n",
    "# make the RNN\n",
    "i = Input(shape=(T, D))\n",
    "\n",
    "# method 1\n",
    "x = SimpleRNN(5)(i)\n",
    "\n",
    "x = Dense(1, activation='sigmoid')(x)\n",
    "model = Model(i, x)\n",
    "model.compile(\n",
    "  loss='binary_crossentropy',\n",
    "  optimizer=Adam(lr=0.01),\n",
    "  metrics=['accuracy'],\n",
    ")\n",
    "\n",
    "# train the RNN\n",
    "r = model.fit(\n",
    "  inputs, Y,\n",
    "  epochs=200,\n",
    "  validation_split=0.5,\n",
    ")"
   ]
  },
  {
   "cell_type": "code",
   "execution_count": null,
   "metadata": {
    "colab": {
     "base_uri": "https://localhost:8080/",
     "height": 282
    },
    "colab_type": "code",
    "id": "H4S7HjrFyk91",
    "outputId": "c95ca6be-3df5-4c04-af66-169a1b182711"
   },
   "outputs": [],
   "source": [
    "# Plot the loss\n",
    "plt.plot(r.history['loss'], label='loss')\n",
    "plt.plot(r.history['val_loss'], label='val_loss')\n",
    "plt.legend()"
   ]
  },
  {
   "cell_type": "code",
   "execution_count": null,
   "metadata": {
    "colab": {
     "base_uri": "https://localhost:8080/",
     "height": 282
    },
    "colab_type": "code",
    "id": "Z315O-e1ymtZ",
    "outputId": "9bad0b47-0229-4739-cef1-6c3874debfb4"
   },
   "outputs": [],
   "source": [
    "# Plot the accuracy too\n",
    "plt.plot(r.history['accuracy'], label='acc')\n",
    "plt.plot(r.history['val_accuracy'], label='val_acc')\n",
    "plt.legend()"
   ]
  },
  {
   "cell_type": "code",
   "execution_count": null,
   "metadata": {
    "colab": {
     "base_uri": "https://localhost:8080/",
     "height": 1000
    },
    "colab_type": "code",
    "id": "J4Xe-66O1Mje",
    "outputId": "9fd6e31d-0437-404a-8697-1861407983cb"
   },
   "outputs": [],
   "source": [
    "# Now test our LSTM\n",
    "inputs = np.expand_dims(X, -1)\n",
    "\n",
    "# make the RNN\n",
    "i = Input(shape=(T, D))\n",
    "\n",
    "# method 1\n",
    "x = LSTM(5)(i)\n",
    "\n",
    "x = Dense(1, activation='sigmoid')(x)\n",
    "model = Model(i, x)\n",
    "model.compile(\n",
    "  loss='binary_crossentropy',\n",
    "  optimizer=Adam(lr=0.01),\n",
    "  metrics=['accuracy'],\n",
    ")\n",
    "\n",
    "# train the RNN\n",
    "r = model.fit(\n",
    "  inputs, Y,\n",
    "  epochs=200,\n",
    "  validation_split=0.5,\n",
    ")"
   ]
  },
  {
   "cell_type": "code",
   "execution_count": null,
   "metadata": {
    "colab": {
     "base_uri": "https://localhost:8080/",
     "height": 282
    },
    "colab_type": "code",
    "id": "Lbv80HVK1RH4",
    "outputId": "60e9a456-829d-4387-a8a5-424c8c33f185"
   },
   "outputs": [],
   "source": [
    "# Plot the loss\n",
    "plt.plot(r.history['loss'], label='loss')\n",
    "plt.plot(r.history['val_loss'], label='val_loss')\n",
    "plt.legend()"
   ]
  },
  {
   "cell_type": "code",
   "execution_count": null,
   "metadata": {
    "colab": {
     "base_uri": "https://localhost:8080/",
     "height": 282
    },
    "colab_type": "code",
    "id": "IQcfJvlc1Sj1",
    "outputId": "bbdb598f-a060-4b33-b430-984ee5a52a14"
   },
   "outputs": [],
   "source": [
    "# Plot the accuracy too\n",
    "plt.plot(r.history['accuracy'], label='acc')\n",
    "plt.plot(r.history['val_accuracy'], label='val_acc')\n",
    "plt.legend()"
   ]
  },
  {
   "cell_type": "code",
   "execution_count": null,
   "metadata": {
    "colab": {
     "base_uri": "https://localhost:8080/",
     "height": 1000
    },
    "colab_type": "code",
    "id": "vdPcXG-K2JwN",
    "outputId": "e4d98dfc-7400-444b-b954-76996d32ef02"
   },
   "outputs": [],
   "source": [
    "# Now test our GRU\n",
    "inputs = np.expand_dims(X, -1)\n",
    "\n",
    "# make the RNN\n",
    "i = Input(shape=(T, D))\n",
    "\n",
    "# method 1\n",
    "x = GRU(5)(i)\n",
    "\n",
    "x = Dense(1, activation='sigmoid')(x)\n",
    "model = Model(i, x)\n",
    "model.compile(\n",
    "  loss='binary_crossentropy',\n",
    "  optimizer=Adam(lr=0.01),\n",
    "  metrics=['accuracy'],\n",
    ")\n",
    "\n",
    "# train the RNN\n",
    "r = model.fit(\n",
    "  inputs, Y,\n",
    "  epochs=400,\n",
    "  validation_split=0.5,\n",
    ")"
   ]
  },
  {
   "cell_type": "code",
   "execution_count": null,
   "metadata": {
    "colab": {
     "base_uri": "https://localhost:8080/",
     "height": 282
    },
    "colab_type": "code",
    "id": "yYmM1BVF2MdE",
    "outputId": "e47ff826-aae7-482b-c554-15e81763d457"
   },
   "outputs": [],
   "source": [
    "# Plot the loss\n",
    "plt.plot(r.history['loss'], label='loss')\n",
    "plt.plot(r.history['val_loss'], label='val_loss')\n",
    "plt.legend()"
   ]
  },
  {
   "cell_type": "code",
   "execution_count": null,
   "metadata": {
    "colab": {
     "base_uri": "https://localhost:8080/",
     "height": 282
    },
    "colab_type": "code",
    "id": "NW9PlXER2NkV",
    "outputId": "a11ea156-aff2-4999-fd91-11406d83479e"
   },
   "outputs": [],
   "source": [
    "# Plot the accuracy too\n",
    "plt.plot(r.history['accuracy'], label='acc')\n",
    "plt.plot(r.history['val_accuracy'], label='val_acc')\n",
    "plt.legend()"
   ]
  },
  {
   "cell_type": "code",
   "execution_count": null,
   "metadata": {
    "colab": {},
    "colab_type": "code",
    "id": "uAYkh9gz6vBP"
   },
   "outputs": [],
   "source": [
    "# Make the problem harder by making T larger\n",
    "T = 30\n",
    "D = 1\n",
    "X = []\n",
    "Y = []\n",
    "\n",
    "for t in range(5000):\n",
    "  x = np.random.randn(T)\n",
    "  X.append(x)\n",
    "  y = get_label(x, 0, 1, 2) # long distance\n",
    "  Y.append(y)\n",
    "\n",
    "X = np.array(X)\n",
    "Y = np.array(Y)\n",
    "N = len(X)"
   ]
  },
  {
   "cell_type": "code",
   "execution_count": null,
   "metadata": {
    "colab": {
     "base_uri": "https://localhost:8080/",
     "height": 1000
    },
    "colab_type": "code",
    "id": "bsvBHFIb62G0",
    "outputId": "13d71f68-2c3e-4fbe-c5b3-9d6fa94055ca"
   },
   "outputs": [],
   "source": [
    "# Now test our LSTM\n",
    "inputs = np.expand_dims(X, -1)\n",
    "\n",
    "# make the RNN\n",
    "i = Input(shape=(T, D))\n",
    "\n",
    "# method 1\n",
    "x = LSTM(15)(i)\n",
    "\n",
    "x = Dense(1, activation='sigmoid')(x)\n",
    "model = Model(i, x)\n",
    "model.compile(\n",
    "  loss='binary_crossentropy',\n",
    "  optimizer=Adam(lr=0.01),\n",
    "  metrics=['accuracy'],\n",
    ")\n",
    "\n",
    "# train the RNN\n",
    "r = model.fit(\n",
    "  inputs, Y,\n",
    "  epochs=400,\n",
    "  validation_split=0.5,\n",
    ")"
   ]
  },
  {
   "cell_type": "code",
   "execution_count": null,
   "metadata": {
    "colab": {
     "base_uri": "https://localhost:8080/",
     "height": 282
    },
    "colab_type": "code",
    "id": "KxjoPZ9062cJ",
    "outputId": "fb9dadc6-2604-4bb5-a027-6cebbda6f4bb"
   },
   "outputs": [],
   "source": [
    "# Plot the loss\n",
    "plt.plot(r.history['loss'], label='loss')\n",
    "plt.plot(r.history['val_loss'], label='val_loss')\n",
    "plt.legend()"
   ]
  },
  {
   "cell_type": "code",
   "execution_count": null,
   "metadata": {
    "colab": {
     "base_uri": "https://localhost:8080/",
     "height": 282
    },
    "colab_type": "code",
    "id": "wuzD2P7Y64z8",
    "outputId": "a41e9345-f809-43cf-8a3a-e893574e2ba3"
   },
   "outputs": [],
   "source": [
    "# Plot the accuracy too\n",
    "plt.plot(r.history['accuracy'], label='acc')\n",
    "plt.plot(r.history['val_accuracy'], label='val_acc')\n",
    "plt.legend()"
   ]
  },
  {
   "cell_type": "code",
   "execution_count": null,
   "metadata": {
    "colab": {
     "base_uri": "https://localhost:8080/",
     "height": 1000
    },
    "colab_type": "code",
    "id": "Oir0rISd-57-",
    "outputId": "3490c86c-bfd9-4b5a-ece5-da98a45a6d6e"
   },
   "outputs": [],
   "source": [
    "# Now try a LSTM with Global Max Pooling\n",
    "inputs = np.expand_dims(X, -1)\n",
    "\n",
    "# make the RNN\n",
    "i = Input(shape=(T, D))\n",
    "\n",
    "# method 2\n",
    "x = LSTM(5, return_sequences=True)(i)\n",
    "x = GlobalMaxPool1D()(x)\n",
    "\n",
    "x = Dense(1, activation='sigmoid')(x)\n",
    "model = Model(i, x)\n",
    "model.compile(\n",
    "  loss='binary_crossentropy',\n",
    "  optimizer=Adam(lr=0.01),\n",
    "  metrics=['accuracy'],\n",
    ")\n",
    "\n",
    "# train the RNN\n",
    "r = model.fit(\n",
    "  inputs, Y,\n",
    "  epochs=100,\n",
    "  validation_split=0.5,\n",
    ")"
   ]
  },
  {
   "cell_type": "code",
   "execution_count": null,
   "metadata": {
    "colab": {
     "base_uri": "https://localhost:8080/",
     "height": 282
    },
    "colab_type": "code",
    "id": "klOvXoWV_Flb",
    "outputId": "c61ae30f-5c99-43d4-e063-a3cb5f5451e9"
   },
   "outputs": [],
   "source": [
    "# Plot the loss\n",
    "plt.plot(r.history['loss'], label='loss')\n",
    "plt.plot(r.history['val_loss'], label='val_loss')\n",
    "plt.legend()"
   ]
  },
  {
   "cell_type": "code",
   "execution_count": null,
   "metadata": {
    "colab": {
     "base_uri": "https://localhost:8080/",
     "height": 282
    },
    "colab_type": "code",
    "id": "4--4js_b_HSN",
    "outputId": "6b92be4c-8569-46db-ae55-b650b192e4cd"
   },
   "outputs": [],
   "source": [
    "# Plot the accuracy too\n",
    "plt.plot(r.history['accuracy'], label='acc')\n",
    "plt.plot(r.history['val_accuracy'], label='val_acc')\n",
    "plt.legend()"
   ]
  }
 ],
 "metadata": {
  "accelerator": "GPU",
  "colab": {
   "collapsed_sections": [],
   "name": "TF2.0 Long Distance.ipynb",
   "provenance": []
  },
  "kernelspec": {
   "display_name": "Python 3",
   "language": "python",
   "name": "python3"
  },
  "language_info": {
   "codemirror_mode": {
    "name": "ipython",
    "version": 3
   },
   "file_extension": ".py",
   "mimetype": "text/x-python",
   "name": "python",
   "nbconvert_exporter": "python",
   "pygments_lexer": "ipython3",
   "version": "3.7.6"
  }
 },
 "nbformat": 4,
 "nbformat_minor": 1
}
