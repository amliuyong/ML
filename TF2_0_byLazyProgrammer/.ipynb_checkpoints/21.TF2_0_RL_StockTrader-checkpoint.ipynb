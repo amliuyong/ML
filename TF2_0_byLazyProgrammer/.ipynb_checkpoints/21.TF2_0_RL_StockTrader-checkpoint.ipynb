{
 "cells": [
  {
   "cell_type": "code",
   "execution_count": 75,
   "metadata": {},
   "outputs": [
    {
     "name": "stdout",
     "output_type": "stream",
     "text": [
      "2.0.0\n"
     ]
    }
   ],
   "source": [
    "import numpy as np\n",
    "import pandas as pd\n",
    "\n",
    "import tensorflow as tf\n",
    "print(tf.__version__)\n",
    "\n",
    "from tensorflow.keras.models import Model\n",
    "from tensorflow.keras.layers import Dense, Input\n",
    "from tensorflow.keras.optimizers import Adam\n",
    "\n",
    "from datetime import datetime\n",
    "import itertools\n",
    "import argparse\n",
    "import re\n",
    "import os\n",
    "import pickle\n",
    "\n",
    "from sklearn.preprocessing import StandardScaler\n"
   ]
  },
  {
   "cell_type": "code",
   "execution_count": 51,
   "metadata": {},
   "outputs": [],
   "source": [
    "\n",
    "# Let's use AAPL (Apple), MSI (Motorola), SBUX (Starbucks)\n",
    "def get_data():\n",
    "  # returns a T x 3 list of stock prices\n",
    "  # each row is a different stock\n",
    "  # 0 = AAPL\n",
    "  # 1 = MSI\n",
    "  # 2 = SBUX\n",
    "  df = pd.read_csv('aapl_msi_sbux.csv')\n",
    "  return df.values\n"
   ]
  },
  {
   "cell_type": "code",
   "execution_count": 52,
   "metadata": {},
   "outputs": [],
   "source": [
    "# !wget https://raw.githubusercontent.com/lazyprogrammer/machine_learning_examples/master/tf2.0/aapl_msi_sbux.csv"
   ]
  },
  {
   "cell_type": "code",
   "execution_count": 53,
   "metadata": {},
   "outputs": [],
   "source": [
    "df = pd.read_csv('aapl_msi_sbux.csv')"
   ]
  },
  {
   "cell_type": "code",
   "execution_count": 54,
   "metadata": {},
   "outputs": [
    {
     "data": {
      "text/html": [
       "<div>\n",
       "<style scoped>\n",
       "    .dataframe tbody tr th:only-of-type {\n",
       "        vertical-align: middle;\n",
       "    }\n",
       "\n",
       "    .dataframe tbody tr th {\n",
       "        vertical-align: top;\n",
       "    }\n",
       "\n",
       "    .dataframe thead th {\n",
       "        text-align: right;\n",
       "    }\n",
       "</style>\n",
       "<table border=\"1\" class=\"dataframe\">\n",
       "  <thead>\n",
       "    <tr style=\"text-align: right;\">\n",
       "      <th></th>\n",
       "      <th>AAPL</th>\n",
       "      <th>MSI</th>\n",
       "      <th>SBUX</th>\n",
       "    </tr>\n",
       "  </thead>\n",
       "  <tbody>\n",
       "    <tr>\n",
       "      <th>0</th>\n",
       "      <td>67.8542</td>\n",
       "      <td>60.30</td>\n",
       "      <td>28.185</td>\n",
       "    </tr>\n",
       "    <tr>\n",
       "      <th>1</th>\n",
       "      <td>68.5614</td>\n",
       "      <td>60.90</td>\n",
       "      <td>28.070</td>\n",
       "    </tr>\n",
       "    <tr>\n",
       "      <th>2</th>\n",
       "      <td>66.8428</td>\n",
       "      <td>60.83</td>\n",
       "      <td>28.130</td>\n",
       "    </tr>\n",
       "    <tr>\n",
       "      <th>3</th>\n",
       "      <td>66.7156</td>\n",
       "      <td>60.81</td>\n",
       "      <td>27.915</td>\n",
       "    </tr>\n",
       "    <tr>\n",
       "      <th>4</th>\n",
       "      <td>66.6556</td>\n",
       "      <td>61.12</td>\n",
       "      <td>27.775</td>\n",
       "    </tr>\n",
       "    <tr>\n",
       "      <th>...</th>\n",
       "      <td>...</td>\n",
       "      <td>...</td>\n",
       "      <td>...</td>\n",
       "    </tr>\n",
       "    <tr>\n",
       "      <th>1254</th>\n",
       "      <td>167.7800</td>\n",
       "      <td>99.12</td>\n",
       "      <td>56.000</td>\n",
       "    </tr>\n",
       "    <tr>\n",
       "      <th>1255</th>\n",
       "      <td>160.5000</td>\n",
       "      <td>103.87</td>\n",
       "      <td>55.770</td>\n",
       "    </tr>\n",
       "    <tr>\n",
       "      <th>1256</th>\n",
       "      <td>156.4900</td>\n",
       "      <td>101.06</td>\n",
       "      <td>54.690</td>\n",
       "    </tr>\n",
       "    <tr>\n",
       "      <th>1257</th>\n",
       "      <td>163.0300</td>\n",
       "      <td>102.76</td>\n",
       "      <td>55.610</td>\n",
       "    </tr>\n",
       "    <tr>\n",
       "      <th>1258</th>\n",
       "      <td>159.5400</td>\n",
       "      <td>102.63</td>\n",
       "      <td>54.460</td>\n",
       "    </tr>\n",
       "  </tbody>\n",
       "</table>\n",
       "<p>1259 rows × 3 columns</p>\n",
       "</div>"
      ],
      "text/plain": [
       "          AAPL     MSI    SBUX\n",
       "0      67.8542   60.30  28.185\n",
       "1      68.5614   60.90  28.070\n",
       "2      66.8428   60.83  28.130\n",
       "3      66.7156   60.81  27.915\n",
       "4      66.6556   61.12  27.775\n",
       "...        ...     ...     ...\n",
       "1254  167.7800   99.12  56.000\n",
       "1255  160.5000  103.87  55.770\n",
       "1256  156.4900  101.06  54.690\n",
       "1257  163.0300  102.76  55.610\n",
       "1258  159.5400  102.63  54.460\n",
       "\n",
       "[1259 rows x 3 columns]"
      ]
     },
     "execution_count": 54,
     "metadata": {},
     "output_type": "execute_result"
    }
   ],
   "source": [
    "df"
   ]
  },
  {
   "cell_type": "code",
   "execution_count": 74,
   "metadata": {},
   "outputs": [
    {
     "data": {
      "text/plain": [
       "<matplotlib.axes._subplots.AxesSubplot at 0x1ba09630d0>"
      ]
     },
     "execution_count": 74,
     "metadata": {},
     "output_type": "execute_result"
    },
    {
     "data": {
      "image/png": "[encoded data removed]",
      "text/plain": [
       "<Figure size 432x288 with 1 Axes>"
      ]
     },
     "metadata": {
      "needs_background": "light"
     },
     "output_type": "display_data"
    }
   ],
   "source": [
    "df.plot()"
   ]
  },
  {
   "cell_type": "code",
   "execution_count": 55,
   "metadata": {},
   "outputs": [
    {
     "data": {
      "text/plain": [
       "(1259, 3)"
      ]
     },
     "execution_count": 55,
     "metadata": {},
     "output_type": "execute_result"
    }
   ],
   "source": [
    "df.shape"
   ]
  },
  {
   "cell_type": "code",
   "execution_count": 56,
   "metadata": {},
   "outputs": [],
   "source": [
    "\n",
    "### The experience replay memory ###\n",
    "class ReplayBuffer:\n",
    "  def __init__(self, obs_dim, act_dim, size):\n",
    "    self.obs1_buf = np.zeros([size, obs_dim], dtype=np.float32) # state\n",
    "    self.obs2_buf = np.zeros([size, obs_dim], dtype=np.float32) # next state\n",
    "    self.acts_buf = np.zeros(size, dtype=np.uint8) # action\n",
    "    self.rews_buf = np.zeros(size, dtype=np.float32)  # reward\n",
    "    self.done_buf = np.zeros(size, dtype=np.uint8) # done flag\n",
    "    self.ptr = 0\n",
    "    self.size = 0\n",
    "    self.max_size = size\n",
    "\n",
    "  def store(self, obs, act, rew, next_obs, done): # state, action, reward, next state, done\n",
    "    self.obs1_buf[self.ptr] = obs\n",
    "    self.obs2_buf[self.ptr] = next_obs\n",
    "    self.acts_buf[self.ptr] = act\n",
    "    self.rews_buf[self.ptr] = rew\n",
    "    self.done_buf[self.ptr] = done\n",
    "    self.ptr = (self.ptr+1) % self.max_size\n",
    "    self.size = min(self.size+1, self.max_size)\n",
    "\n",
    "  def sample_batch(self, batch_size=32):\n",
    "    idxs = np.random.randint(0, self.size, size=batch_size)\n",
    "    return dict(s=self.obs1_buf[idxs],\n",
    "                s2=self.obs2_buf[idxs],\n",
    "                a=self.acts_buf[idxs],\n",
    "                r=self.rews_buf[idxs],\n",
    "                d=self.done_buf[idxs])\n",
    "\n",
    "\n",
    "\n"
   ]
  },
  {
   "cell_type": "code",
   "execution_count": 57,
   "metadata": {},
   "outputs": [],
   "source": [
    "\n",
    "\n",
    "\n",
    "def get_scaler(env):\n",
    "  # return scikit-learn scaler object to scale the states\n",
    "  # Note: you could also populate the replay buffer here\n",
    "\n",
    "  states = []\n",
    "  for _ in range(env.n_step):\n",
    "    action = np.random.choice(env.action_space)\n",
    "    state, reward, done, info = env.step(action)\n",
    "    states.append(state)\n",
    "    if done:\n",
    "      break\n",
    "\n",
    "  scaler = StandardScaler()\n",
    "  scaler.fit(states)\n",
    "  return scaler\n",
    "\n"
   ]
  },
  {
   "cell_type": "code",
   "execution_count": 58,
   "metadata": {},
   "outputs": [],
   "source": [
    "\n",
    "\n",
    "def maybe_make_dir(directory):\n",
    "  if not os.path.exists(directory):\n",
    "    os.makedirs(directory)\n",
    "\n",
    "\n"
   ]
  },
  {
   "cell_type": "code",
   "execution_count": 59,
   "metadata": {},
   "outputs": [],
   "source": [
    "\n",
    "def mlp(input_dim, n_action, n_hidden_layers=1, hidden_dim=32):\n",
    "  \"\"\" A multi-layer perceptron \"\"\"\n",
    "\n",
    "  # input layer\n",
    "  i = Input(shape=(input_dim,))\n",
    "  x = i\n",
    "\n",
    "  # hidden layers\n",
    "  for _ in range(n_hidden_layers):\n",
    "    x = Dense(hidden_dim, activation='relu')(x)\n",
    "  \n",
    "  # final layer\n",
    "  x = Dense(n_action)(x)\n",
    "\n",
    "  # make the model\n",
    "  model = Model(i, x)\n",
    "\n",
    "  model.compile(loss='mse', optimizer='adam')\n",
    "  print((model.summary()))\n",
    "  return model\n",
    "\n"
   ]
  },
  {
   "cell_type": "code",
   "execution_count": 60,
   "metadata": {},
   "outputs": [
    {
     "data": {
      "text/plain": [
       "[[0, 0, 0],\n",
       " [0, 0, 1],\n",
       " [0, 0, 2],\n",
       " [0, 1, 0],\n",
       " [0, 1, 1],\n",
       " [0, 1, 2],\n",
       " [0, 2, 0],\n",
       " [0, 2, 1],\n",
       " [0, 2, 2],\n",
       " [1, 0, 0],\n",
       " [1, 0, 1],\n",
       " [1, 0, 2],\n",
       " [1, 1, 0],\n",
       " [1, 1, 1],\n",
       " [1, 1, 2],\n",
       " [1, 2, 0],\n",
       " [1, 2, 1],\n",
       " [1, 2, 2],\n",
       " [2, 0, 0],\n",
       " [2, 0, 1],\n",
       " [2, 0, 2],\n",
       " [2, 1, 0],\n",
       " [2, 1, 1],\n",
       " [2, 1, 2],\n",
       " [2, 2, 0],\n",
       " [2, 2, 1],\n",
       " [2, 2, 2]]"
      ]
     },
     "execution_count": 60,
     "metadata": {},
     "output_type": "execute_result"
    }
   ],
   "source": [
    "# action_list\n",
    "list(map(list, itertools.product([0, 1, 2], repeat=3)))"
   ]
  },
  {
   "cell_type": "code",
   "execution_count": 61,
   "metadata": {},
   "outputs": [],
   "source": [
    " \n",
    "class MultiStockEnv:\n",
    "  \"\"\"\n",
    "  A 3-stock trading environment.\n",
    "  State: vector of size 7 (n_stock * 2 + 1)\n",
    "    - # shares of stock 1 owned\n",
    "    - # shares of stock 2 owned\n",
    "    - # shares of stock 3 owned\n",
    "    - price of stock 1 (using daily close price)\n",
    "    - price of stock 2\n",
    "    - price of stock 3\n",
    "    - cash owned (can be used to purchase more stocks)\n",
    "  Action: categorical variable with 27 (3^3) possibilities\n",
    "    - for each stock, you can:\n",
    "    - 0 = sell\n",
    "    - 1 = hold\n",
    "    - 2 = buy\n",
    "  \"\"\"\n",
    "  def __init__(self, data, initial_investment=20000):\n",
    "    # data\n",
    "    self.stock_price_history = data\n",
    "    self.n_step, self.n_stock = self.stock_price_history.shape\n",
    "\n",
    "    # instance attributes\n",
    "    self.initial_investment = initial_investment\n",
    "    self.cur_step = None\n",
    "    self.stock_owned = None\n",
    "    self.stock_price = None\n",
    "    self.cash_in_hand = None\n",
    "\n",
    "    self.action_space = np.arange(3**self.n_stock)\n",
    "\n",
    "    # action permutations\n",
    "    # returns a nested list with elements like:\n",
    "    # [0,0,0]\n",
    "    # [0,0,1]\n",
    "    # [0,0,2]\n",
    "    # [0,1,0]\n",
    "    # [0,1,1]\n",
    "    # etc.\n",
    "    # 0 = sell\n",
    "    # 1 = hold\n",
    "    # 2 = buy\n",
    "    self.action_list = list(map(list, itertools.product([0, 1, 2], repeat=self.n_stock)))\n",
    "\n",
    "    # calculate size of state\n",
    "    # [ stock1, stock2, stock2, price1, price2, price3, cashInHand ]\n",
    "    self.state_dim = self.n_stock * 2 + 1\n",
    "\n",
    "    self.reset()\n",
    "\n",
    "\n",
    "  def reset(self):\n",
    "    self.cur_step = 0\n",
    "    self.stock_owned = np.zeros(self.n_stock)\n",
    "    self.stock_price = self.stock_price_history[self.cur_step]\n",
    "    self.cash_in_hand = self.initial_investment\n",
    "    return self._get_obs()\n",
    "\n",
    "\n",
    "  def step(self, action):\n",
    "    # action is index of action list\n",
    "    assert action in self.action_space\n",
    "\n",
    "    # get current value before performing the action\n",
    "    prev_val = self._get_val()\n",
    "\n",
    "    # update price, i.e. go to the next day\n",
    "    self.cur_step += 1\n",
    "    self.stock_price = self.stock_price_history[self.cur_step]\n",
    "\n",
    "    # perform the trade\n",
    "    self._trade(action)\n",
    "\n",
    "    # get the new value after taking the action\n",
    "    cur_val = self._get_val()\n",
    "\n",
    "    # reward is the increase in porfolio value\n",
    "    reward = cur_val - prev_val\n",
    "\n",
    "    # done if we have run out of data\n",
    "    done = self.cur_step == self.n_step - 1\n",
    "\n",
    "    # store the current value of the portfolio here\n",
    "    info = {'cur_val': cur_val}\n",
    "\n",
    "    # conform to the Gym API\n",
    "    return self._get_obs(), reward, done, info # next state, r, d, info\n",
    "\n",
    "\n",
    "  # get state\n",
    "  # [ stock1, stock2, stock2, price1, price2, price3, cashInHand ]\n",
    "  def _get_obs(self): \n",
    "    obs = np.empty(self.state_dim)\n",
    "    obs[:self.n_stock] = self.stock_owned\n",
    "    obs[self.n_stock: 2*self.n_stock] = self.stock_price\n",
    "    obs[-1] = self.cash_in_hand\n",
    "    return obs\n",
    "    \n",
    "\n",
    "\n",
    "  def _get_val(self):\n",
    "    return self.stock_owned.dot(self.stock_price) + self.cash_in_hand\n",
    "\n",
    "\n",
    "  def _trade(self, action):\n",
    "    # index the action we want to perform\n",
    "    # 0 = sell\n",
    "    # 1 = hold\n",
    "    # 2 = buy\n",
    "    # e.g. [2,1,0] means:\n",
    "    # buy first stock\n",
    "    # hold second stock\n",
    "    # sell third stock\n",
    "    action_vec = self.action_list[action]\n",
    "\n",
    "    # determine which stocks to buy or sell\n",
    "    sell_index = [] # stores index of stocks we want to sell\n",
    "    buy_index = [] # stores index of stocks we want to buy\n",
    "    for i, a in enumerate(action_vec):\n",
    "      if a == 0:\n",
    "        sell_index.append(i)\n",
    "      elif a == 2:\n",
    "        buy_index.append(i)\n",
    "\n",
    "    # sell any stocks we want to sell\n",
    "    # then buy any stocks we want to buy\n",
    "    if sell_index:\n",
    "      # NOTE: to simplify the problem, when we sell, we will sell ALL shares of that stock\n",
    "      for i in sell_index:\n",
    "        self.cash_in_hand += self.stock_price[i] * self.stock_owned[i]\n",
    "        self.stock_owned[i] = 0\n",
    "    if buy_index:\n",
    "      # NOTE: when buying, we will loop through each stock we want to buy,\n",
    "      #       and buy one share at a time until we run out of cash\n",
    "      can_buy = True\n",
    "      while can_buy:\n",
    "        for i in buy_index:\n",
    "          if self.cash_in_hand > self.stock_price[i]:\n",
    "            self.stock_owned[i] += 1 # buy one share\n",
    "            self.cash_in_hand -= self.stock_price[i]\n",
    "          else:\n",
    "            can_buy = False\n",
    "\n"
   ]
  },
  {
   "cell_type": "code",
   "execution_count": 62,
   "metadata": {},
   "outputs": [
    {
     "data": {
      "text/plain": [
       "array([ 3, 13, 23])"
      ]
     },
     "execution_count": 62,
     "metadata": {},
     "output_type": "execute_result"
    }
   ],
   "source": [
    " np.amax([[1,2,3],\n",
    "          [11,12,13],\n",
    "          [21,22,23]\n",
    "         ], axis=1)\n",
    "    "
   ]
  },
  {
   "cell_type": "code",
   "execution_count": 63,
   "metadata": {},
   "outputs": [
    {
     "data": {
      "text/plain": [
       "array([ 3, 13, 23])"
      ]
     },
     "execution_count": 63,
     "metadata": {},
     "output_type": "execute_result"
    }
   ],
   "source": [
    "np.max([[1,2,3],\n",
    "          [11,12,13],\n",
    "          [21,22,23]\n",
    "         ], axis=1)"
   ]
  },
  {
   "cell_type": "code",
   "execution_count": 64,
   "metadata": {},
   "outputs": [],
   "source": [
    "\n",
    "class DQNAgent(object):\n",
    "  def __init__(self, state_size, action_size):\n",
    "    self.state_size = state_size\n",
    "    self.action_size = action_size\n",
    "    self.memory = ReplayBuffer(state_size, action_size, size=500) # obs_dim, act_dim, size\n",
    "    self.gamma = 0.95  # discount rate\n",
    "    self.epsilon = 1.0  # exploration rate\n",
    "    self.epsilon_min = 0.01\n",
    "    self.epsilon_decay = 0.995\n",
    "    self.model = mlp(state_size, action_size) # mlp(input_dim, n_action)\n",
    "\n",
    "\n",
    "  def update_replay_memory(self, state, action, reward, next_state, done):\n",
    "    self.memory.store(state, action, reward, next_state, done)\n",
    "\n",
    "\n",
    "  def act(self, state):\n",
    "    if np.random.rand() <= self.epsilon:\n",
    "      return np.random.choice(self.action_size)\n",
    "    act_values = self.model.predict(state)\n",
    "    return np.argmax(act_values[0])  # returns action\n",
    "\n",
    "\n",
    "  def replay(self, batch_size=32):\n",
    "    # first check if replay buffer contains enough data\n",
    "    if self.memory.size < batch_size:\n",
    "      return\n",
    "\n",
    "    # sample a batch of data from the replay memory\n",
    "    minibatch = self.memory.sample_batch(batch_size)\n",
    "    states = minibatch['s']\n",
    "    actions = minibatch['a']\n",
    "    rewards = minibatch['r']\n",
    "    next_states = minibatch['s2']\n",
    "    done = minibatch['d']\n",
    "\n",
    "    # Calculate the tentative target: Q(s',a)\n",
    "    target = rewards + (1 - done) * self.gamma * np.amax(self.model.predict(next_states), axis=1)\n",
    "\n",
    "    # With the Keras API, the target (usually) must have the same\n",
    "    # shape as the predictions.\n",
    "    # However, we only need to update the network for the actions\n",
    "    # which were actually taken.\n",
    "    # We can accomplish this by setting the target to be equal to\n",
    "    # the prediction for all values.\n",
    "    # Then, only change the targets for the actions taken.\n",
    "    # Q(s,a)\n",
    "    target_full = self.model.predict(states)\n",
    "    target_full[np.arange(batch_size), actions] = target\n",
    "\n",
    "    # Run one training step\n",
    "    self.model.train_on_batch(states, target_full)\n",
    "\n",
    "    if self.epsilon > self.epsilon_min:\n",
    "      self.epsilon *= self.epsilon_decay\n",
    "\n",
    "\n",
    "  def load(self, name):\n",
    "    self.model.load_weights(name)\n",
    "\n",
    "\n",
    "  def save(self, name):\n",
    "    self.model.save_weights(name)\n"
   ]
  },
  {
   "cell_type": "code",
   "execution_count": 65,
   "metadata": {},
   "outputs": [],
   "source": [
    "\n",
    "def play_one_episode(agent, env, is_train):\n",
    "  # note: after transforming states are already 1xD\n",
    "  state = env.reset()\n",
    "  state = scaler.transform([state])\n",
    "  done = False\n",
    "\n",
    "  while not done:\n",
    "    action = agent.act(state)\n",
    "    next_state, reward, done, info = env.step(action)\n",
    "    next_state = scaler.transform([next_state])\n",
    "    if is_train == 'train':\n",
    "      agent.update_replay_memory(state, action, reward, next_state, done)\n",
    "      agent.replay(batch_size)\n",
    "    state = next_state\n",
    "\n",
    "  return info['cur_val']\n",
    "\n"
   ]
  },
  {
   "cell_type": "code",
   "execution_count": 71,
   "metadata": {},
   "outputs": [
    {
     "name": "stdout",
     "output_type": "stream",
     "text": [
      "Model: \"model_5\"\n",
      "_________________________________________________________________\n",
      "Layer (type)                 Output Shape              Param #   \n",
      "=================================================================\n",
      "input_6 (InputLayer)         [(None, 7)]               0         \n",
      "_________________________________________________________________\n",
      "dense_10 (Dense)             (None, 32)                256       \n",
      "_________________________________________________________________\n",
      "dense_11 (Dense)             (None, 27)                891       \n",
      "=================================================================\n",
      "Total params: 1,147\n",
      "Trainable params: 1,147\n",
      "Non-trainable params: 0\n",
      "_________________________________________________________________\n",
      "None\n",
      "episode: 1/5, episode end value: 27444.64, duration: 0:00:37.206882\n",
      "episode: 2/5, episode end value: 25133.64, duration: 0:00:35.078977\n",
      "episode: 3/5, episode end value: 26934.29, duration: 0:00:35.024508\n",
      "episode: 4/5, episode end value: 28889.18, duration: 0:00:35.166626\n",
      "episode: 5/5, episode end value: 18947.56, duration: 0:00:57.189841\n",
      "rl_trader_rewards/test.npy\n",
      "[27444.63999999988, 25133.639999999716, 26934.289999999455, 28889.18000000009, 18947.56000000005]\n"
     ]
    }
   ],
   "source": [
    "# Main\n",
    "\n",
    "# config\n",
    "models_folder = 'rl_trader_models'\n",
    "rewards_folder = 'rl_trader_rewards'\n",
    "#num_episodes = 2000\n",
    "num_episodes = 5\n",
    "batch_size = 32\n",
    "initial_investment = 20000\n",
    "\n",
    "# parser = argparse.ArgumentParser()\n",
    "# parser.add_argument('-m', '--mode', type=str, required=True,\n",
    "#                     help='either \"train\" or \"test\"')\n",
    "# args = parser.parse_args()\n",
    "\n",
    "mode = \"train\"\n",
    "\n",
    "maybe_make_dir(models_folder)\n",
    "maybe_make_dir(rewards_folder)\n",
    "\n",
    "data = get_data()\n",
    "n_timesteps, n_stocks = data.shape\n",
    "\n",
    "n_train = n_timesteps // 2\n",
    "\n",
    "train_data = data[:n_train]\n",
    "test_data = data[n_train:]\n",
    "\n",
    "env = MultiStockEnv(train_data, initial_investment)\n",
    "state_size = env.state_dim\n",
    "action_size = len(env.action_space)\n",
    "agent = DQNAgent(state_size, action_size)\n",
    "scaler = get_scaler(env)\n",
    "\n",
    "# store the final value of the portfolio (end of episode)\n",
    "portfolio_value = []\n",
    "\n",
    "if mode == 'test':\n",
    "    # then load the previous scaler\n",
    "    with open(f'{models_folder}/scaler.pkl', 'rb') as f:\n",
    "        scaler = pickle.load(f)\n",
    "\n",
    "    # remake the env with test data\n",
    "    env = MultiStockEnv(test_data, initial_investment)\n",
    "\n",
    "    # make sure epsilon is not 1!\n",
    "    # no need to run multiple episodes if epsilon = 0, it's deterministic\n",
    "    agent.epsilon = 0.01\n",
    "\n",
    "    # load trained weights\n",
    "    agent.load(f'{models_folder}/dqn.h5')\n",
    "\n",
    "    \n",
    "# play the game num_episodes times\n",
    "for e in range(num_episodes):\n",
    "    t0 = datetime.now()\n",
    "    val = play_one_episode(agent, env, mode)\n",
    "    dt = datetime.now() - t0\n",
    "    print(f\"{mode} - episode: {e + 1}/{num_episodes}, episode end value: {val:.2f}, duration: {dt}\")\n",
    "    portfolio_value.append(val)  # append episode end portfolio value\n",
    "\n",
    "# save the weights when we are done\n",
    "if mode == 'train':\n",
    "    # save the DQN\n",
    "    agent.save(f'{models_folder}/dqn.h5')\n",
    "\n",
    "    # save the scaler\n",
    "    with open(f'{models_folder}/scaler.pkl', 'wb') as f:\n",
    "        pickle.dump(scaler, f)\n",
    "\n",
    "# save portfolio value for each episode\n",
    "np.save(f'{rewards_folder}/{mode}.npy', portfolio_value)\n",
    "\n",
    "print(f'{rewards_folder}/{mode}.npy')\n",
    "print(portfolio_value)\n"
   ]
  },
  {
   "cell_type": "code",
   "execution_count": 72,
   "metadata": {},
   "outputs": [
    {
     "name": "stdout",
     "output_type": "stream",
     "text": [
      "average reward: 25469.86, min: 18947.56, max: 28889.18\n"
     ]
    }
   ],
   "source": [
    "a = np.load(f'{rewards_folder}/{mode}.npy')\n",
    "print(f\"average reward: {a.mean():.2f}, min: {a.min():.2f}, max: {a.max():.2f}\")\n"
   ]
  },
  {
   "cell_type": "code",
   "execution_count": 73,
   "metadata": {},
   "outputs": [
    {
     "data": {
      "image/png": "[encoded data removed]",
      "text/plain": [
       "<Figure size 432x288 with 1 Axes>"
      ]
     },
     "metadata": {
      "needs_background": "light"
     },
     "output_type": "display_data"
    }
   ],
   "source": [
    "\n",
    "import matplotlib.pyplot as plt\n",
    "\n",
    "plt.hist(a, bins=20)\n",
    "plt.title(mode)\n",
    "plt.show()"
   ]
  },
  {
   "cell_type": "code",
   "execution_count": null,
   "metadata": {},
   "outputs": [],
   "source": []
  }
 ],
 "metadata": {
  "kernelspec": {
   "display_name": "Python 3.7.6 64-bit",
   "language": "python",
   "name": "python37664bit8b78b21e03604df0aa48c77a4bbfb687"
  },
  "language_info": {
   "codemirror_mode": {
    "name": "ipython",
    "version": 3
   },
   "file_extension": ".py",
   "mimetype": "text/x-python",
   "name": "python",
   "nbconvert_exporter": "python",
   "pygments_lexer": "ipython3",
   "version": "3.7.6"
  }
 },
 "nbformat": 4,
 "nbformat_minor": 4
}
