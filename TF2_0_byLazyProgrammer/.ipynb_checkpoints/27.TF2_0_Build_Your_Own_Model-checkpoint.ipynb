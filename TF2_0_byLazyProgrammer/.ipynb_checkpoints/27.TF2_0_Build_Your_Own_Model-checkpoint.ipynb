{
 "cells": [
  {
   "cell_type": "markdown",
   "metadata": {
    "colab_type": "text",
    "id": "pfvtXtJVarsG"
   },
   "source": [
    "# Build your own model in Tensorflow 2.0\n",
    "\n",
    "This notebook will teach you how to build your own custom model, where you define your own variables and how to compute predictions."
   ]
  },
  {
   "cell_type": "code",
   "execution_count": 1,
   "metadata": {
    "colab": {
     "base_uri": "https://localhost:8080/",
     "height": 119
    },
    "colab_type": "code",
    "id": "LKhYuwdCanEY",
    "outputId": "5acede2a-9a48-4b03-b050-117b977fcb26"
   },
   "outputs": [
    {
     "name": "stdout",
     "output_type": "stream",
     "text": [
      "2.0.0\n"
     ]
    }
   ],
   "source": [
    "import tensorflow as tf\n",
    "print(tf.__version__)\n"
   ]
  },
  {
   "cell_type": "code",
   "execution_count": 2,
   "metadata": {
    "colab": {},
    "colab_type": "code",
    "id": "pzwnqIl8k0lb"
   },
   "outputs": [],
   "source": [
    "# Other imports\n",
    "import numpy as np\n",
    "import matplotlib.pyplot as plt"
   ]
  },
  {
   "cell_type": "code",
   "execution_count": 3,
   "metadata": {
    "colab": {},
    "colab_type": "code",
    "id": "wuLnnBVjiiH7"
   },
   "outputs": [],
   "source": [
    "# Define linear regression model\n",
    "\n",
    "class LinearRegression(tf.keras.Model):\n",
    "  def __init__(self, num_inputs, num_outputs):\n",
    "    super(LinearRegression, self).__init__()\n",
    "    self.W = tf.Variable(\n",
    "        tf.random_normal_initializer()((num_inputs, num_outputs)))\n",
    "    self.b = tf.Variable(tf.zeros(num_outputs))\n",
    "    self.params = [self.W, self.b]\n",
    "\n",
    "  def call(self, inputs):\n",
    "    return tf.matmul(inputs, self.W) + self.b"
   ]
  },
  {
   "cell_type": "code",
   "execution_count": 4,
   "metadata": {
    "colab": {},
    "colab_type": "code",
    "id": "2bu7AKLEkO13"
   },
   "outputs": [],
   "source": [
    "# Create a dataset\n",
    "N = 100\n",
    "D = 1\n",
    "K = 1\n",
    "X = np.random.random((N, D)) * 2 - 1\n",
    "w = np.random.randn(D, K)\n",
    "b = np.random.randn()\n",
    "Y = X.dot(w) + b + np.random.randn(N, 1) * 0.1"
   ]
  },
  {
   "cell_type": "code",
   "execution_count": 5,
   "metadata": {
    "colab": {
     "base_uri": "https://localhost:8080/",
     "height": 286
    },
    "colab_type": "code",
    "id": "kMnTFfrOtq1G",
    "outputId": "14df991b-1bd1-4310-88c2-cf52c2e37193"
   },
   "outputs": [
    {
     "data": {
      "text/plain": [
       "<matplotlib.collections.PathCollection at 0x643347210>"
      ]
     },
     "execution_count": 5,
     "metadata": {},
     "output_type": "execute_result"
    },
    {
     "data": {
      "image/png": "[encoded data removed]",
      "text/plain": [
       "<Figure size 432x288 with 1 Axes>"
      ]
     },
     "metadata": {
      "needs_background": "light"
     },
     "output_type": "display_data"
    }
   ],
   "source": [
    "plt.scatter(X, Y)"
   ]
  },
  {
   "cell_type": "code",
   "execution_count": 6,
   "metadata": {
    "colab": {},
    "colab_type": "code",
    "id": "B_LRhAvRsWcR"
   },
   "outputs": [],
   "source": [
    "# Cast type, otherwise Tensorflow will complain\n",
    "\n",
    "X = X.astype(np.float32)\n",
    "Y = Y.astype(np.float32)"
   ]
  },
  {
   "cell_type": "code",
   "execution_count": 7,
   "metadata": {
    "colab": {},
    "colab_type": "code",
    "id": "3BIdu0lJk7mM"
   },
   "outputs": [],
   "source": [
    "# Define the loss\n",
    "\n",
    "def get_loss(model, inputs, targets):\n",
    "  predictions = model(inputs)\n",
    "  error = targets - predictions\n",
    "  return tf.reduce_mean(tf.square(error))"
   ]
  },
  {
   "cell_type": "code",
   "execution_count": 8,
   "metadata": {
    "colab": {},
    "colab_type": "code",
    "id": "2nkLv-njlRYm"
   },
   "outputs": [],
   "source": [
    "# Gradient function\n",
    "def get_grad(model, inputs, targets):\n",
    "  with tf.GradientTape() as tape:\n",
    "    # calculate the loss\n",
    "    loss_value = get_loss(model, inputs, targets)\n",
    "  \n",
    "  # return gradient\n",
    "  return tape.gradient(loss_value, model.params)\n",
    "  "
   ]
  },
  {
   "cell_type": "code",
   "execution_count": 9,
   "metadata": {
    "colab": {
     "base_uri": "https://localhost:8080/",
     "height": 68
    },
    "colab_type": "code",
    "id": "_hszHmmauaCO",
    "outputId": "a42b7714-b0aa-4ada-f817-04ff90ffc8d3"
   },
   "outputs": [
    {
     "name": "stdout",
     "output_type": "stream",
     "text": [
      "Initial params:\n",
      "<tf.Variable 'Variable:0' shape=(1, 1) dtype=float32, numpy=array([[0.0042661]], dtype=float32)>\n",
      "<tf.Variable 'Variable:0' shape=(1,) dtype=float32, numpy=array([0.], dtype=float32)>\n"
     ]
    }
   ],
   "source": [
    "# Create and train the model\n",
    "model = LinearRegression(D, K)\n",
    "\n",
    "# Print the params before training\n",
    "print(\"Initial params:\")\n",
    "print(model.W)\n",
    "print(model.b)"
   ]
  },
  {
   "cell_type": "code",
   "execution_count": 10,
   "metadata": {
    "colab": {},
    "colab_type": "code",
    "id": "hVqFi4gIl8Qj"
   },
   "outputs": [],
   "source": [
    "# Store the losses here\n",
    "losses = []\n",
    "\n",
    "# Create an optimizer\n",
    "optimizer = tf.keras.optimizers.SGD(learning_rate=0.2)\n",
    "\n",
    "# Run the training loop\n",
    "for i in range(100):\n",
    "  # Get gradients\n",
    "  grads = get_grad(model, X, Y)\n",
    "  \n",
    "  # Do one step of gradient descent: param <- param - learning_rate * grad\n",
    "  optimizer.apply_gradients(zip(grads, model.params))\n",
    "  \n",
    "  # Store the loss\n",
    "  loss = get_loss(model, X, Y)\n",
    "  losses.append(loss)"
   ]
  },
  {
   "cell_type": "code",
   "execution_count": 11,
   "metadata": {
    "colab": {
     "base_uri": "https://localhost:8080/",
     "height": 286
    },
    "colab_type": "code",
    "id": "Q8qQPAhlnRTq",
    "outputId": "24855d61-3dd7-46a4-e242-3d2b99b8815c"
   },
   "outputs": [
    {
     "data": {
      "text/plain": [
       "[<matplotlib.lines.Line2D at 0x643f83590>]"
      ]
     },
     "execution_count": 11,
     "metadata": {},
     "output_type": "execute_result"
    },
    {
     "data": {
      "image/png": "[encoded data removed]",
      "text/plain": [
       "<Figure size 432x288 with 1 Axes>"
      ]
     },
     "metadata": {
      "needs_background": "light"
     },
     "output_type": "display_data"
    }
   ],
   "source": [
    "plt.plot(losses)"
   ]
  },
  {
   "cell_type": "code",
   "execution_count": 12,
   "metadata": {
    "colab": {
     "base_uri": "https://localhost:8080/",
     "height": 286
    },
    "colab_type": "code",
    "id": "tL97eSaws83l",
    "outputId": "61f93b57-95ab-4eee-8620-8f54f55e432a"
   },
   "outputs": [
    {
     "data": {
      "text/plain": [
       "[<matplotlib.lines.Line2D at 0x64319d050>]"
      ]
     },
     "execution_count": 12,
     "metadata": {},
     "output_type": "execute_result"
    },
    {
     "data": {
      "image/png": "[encoded data removed]",
      "text/plain": [
       "<Figure size 432x288 with 1 Axes>"
      ]
     },
     "metadata": {
      "needs_background": "light"
     },
     "output_type": "display_data"
    }
   ],
   "source": [
    "x_axis = np.linspace(X.min(), X.max(), 100)\n",
    "y_axis = model.predict(x_axis.reshape(-1, 1)).flatten()\n",
    "\n",
    "plt.scatter(X, Y)\n",
    "plt.plot(x_axis, y_axis)\n",
    "\n"
   ]
  },
  {
   "cell_type": "code",
   "execution_count": 13,
   "metadata": {
    "colab": {
     "base_uri": "https://localhost:8080/",
     "height": 68
    },
    "colab_type": "code",
    "id": "Oe2amevDtcpM",
    "outputId": "e692fa06-e5ba-4a9e-ae66-e82cebdcc13e"
   },
   "outputs": [
    {
     "name": "stdout",
     "output_type": "stream",
     "text": [
      "Predicted params:\n",
      "<tf.Variable 'Variable:0' shape=(1, 1) dtype=float32, numpy=array([[0.74582106]], dtype=float32)>\n",
      "<tf.Variable 'Variable:0' shape=(1,) dtype=float32, numpy=array([1.083349], dtype=float32)>\n"
     ]
    }
   ],
   "source": [
    "print(\"Predicted params:\")\n",
    "print(model.W)\n",
    "print(model.b)"
   ]
  },
  {
   "cell_type": "code",
   "execution_count": 14,
   "metadata": {
    "colab": {
     "base_uri": "https://localhost:8080/",
     "height": 51
    },
    "colab_type": "code",
    "id": "vOD5cZ4ruUCD",
    "outputId": "daf099d5-2596-4d54-fd11-f9e4be3a4404"
   },
   "outputs": [
    {
     "name": "stdout",
     "output_type": "stream",
     "text": [
      "True params:\n"
     ]
    },
    {
     "data": {
      "text/plain": [
       "(array([[0.73815241]]), 1.0821802850940918)"
      ]
     },
     "execution_count": 14,
     "metadata": {},
     "output_type": "execute_result"
    }
   ],
   "source": [
    "print(\"True params:\")\n",
    "w, b"
   ]
  }
 ],
 "metadata": {
  "colab": {
   "name": "TF2.0 Build Your Own Model.ipynb",
   "provenance": []
  },
  "kernelspec": {
   "display_name": "Python 3",
   "language": "python",
   "name": "python3"
  },
  "language_info": {
   "codemirror_mode": {
    "name": "ipython",
    "version": 3
   },
   "file_extension": ".py",
   "mimetype": "text/x-python",
   "name": "python",
   "nbconvert_exporter": "python",
   "pygments_lexer": "ipython3",
   "version": "3.7.6"
  }
 },
 "nbformat": 4,
 "nbformat_minor": 1
}
