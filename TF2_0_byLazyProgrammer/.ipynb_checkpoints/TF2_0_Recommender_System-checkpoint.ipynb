{
 "cells": [
  {
   "cell_type": "code",
   "execution_count": 1,
   "metadata": {
    "colab": {
     "base_uri": "https://localhost:8080/",
     "height": 119
    },
    "colab_type": "code",
    "id": "G-yELAWj7ZTQ",
    "outputId": "fc715861-4d10-41d7-f9a9-8acf9f9840b2"
   },
   "outputs": [],
   "source": [
    "import os\n",
    "os.environ['KMP_DUPLICATE_LIB_OK']='True'\n",
    "\n",
    "import tensorflow as tf"
   ]
  },
  {
   "cell_type": "code",
   "execution_count": 2,
   "metadata": {
    "colab": {},
    "colab_type": "code",
    "id": "KmO5csZi7cdr"
   },
   "outputs": [],
   "source": [
    "# More imports\n",
    "from tensorflow.keras.layers import Input, Dense, Embedding, Flatten, \\\n",
    "  Concatenate\n",
    "from tensorflow.keras.models import Model\n",
    "from tensorflow.keras.optimizers import SGD, Adam\n",
    "\n",
    "from sklearn.utils import shuffle\n",
    "\n",
    "import numpy as np\n",
    "import pandas as pd\n",
    "import matplotlib.pyplot as plt"
   ]
  },
  {
   "cell_type": "code",
   "execution_count": 3,
   "metadata": {
    "colab": {
     "base_uri": "https://localhost:8080/",
     "height": 224
    },
    "colab_type": "code",
    "id": "iXueA5t37Vgp",
    "outputId": "934fcebf-c47a-432b-d0cb-b78152ec3d4c"
   },
   "outputs": [],
   "source": [
    "# data is from: https://grouplens.org/datasets/movielens/\n",
    "# in case the link changes in the future\n",
    "\n",
    "# !wget -nc http://files.grouplens.org/datasets/movielens/ml-20m.zip"
   ]
  },
  {
   "cell_type": "code",
   "execution_count": 4,
   "metadata": {
    "colab": {
     "base_uri": "https://localhost:8080/",
     "height": 170
    },
    "colab_type": "code",
    "id": "X0VRDPux7hhb",
    "outputId": "b59973ce-405d-425b-8b6b-1021cea186be"
   },
   "outputs": [],
   "source": [
    "# !unzip -n ml-20m.zip"
   ]
  },
  {
   "cell_type": "code",
   "execution_count": 5,
   "metadata": {
    "colab": {
     "base_uri": "https://localhost:8080/",
     "height": 34
    },
    "colab_type": "code",
    "id": "j3si9Qnw_Rnh",
    "outputId": "a107db7d-437d-4fe2-cc7c-64a5136bd644"
   },
   "outputs": [
    {
     "name": "stdout",
     "output_type": "stream",
     "text": [
      "01.TF2.0 Intro.ipynb                    13.TF2_0_RNN_Stock_Returns.ipynb\r\n",
      "02.TF2_0_ANN_MNIST.ipynb                14.TF2_0_NLP_Text_Preprocessing.ipynb\r\n",
      "03.TF2_0_ANN_Regression.ipynb           15.TF2_0_NLP_Spam_Detection_RNN.ipynb\r\n",
      "04.TF2_0_CNN_CIFAR.ipynb                16.TF2_0_NLP_Spam_Detection_CNN.ipynb\r\n",
      "05.TF2_0_CNN_Fashion_MNIST.ipynb        17.TF2_0_Recommender_System.ipynb\r\n",
      "06.TF2_0_CNN_CIFAR_Improved.ipynb       TF2_0_Recommender_System.ipynb\r\n",
      "07.TF2_0_RNN_Autoregressive_Model.ipynb arrhythmia.data\r\n",
      "08.TF2_0_RNN_SimpleRNN_Sine.ipynb       \u001b[34mmachine_learning_examples\u001b[m\u001b[m\r\n",
      "09.TF2_0_RNN_Shapes.ipynb               \u001b[34mml-20m\u001b[m\u001b[m\r\n",
      "10.TF2_0_RNN_LSTM_Nonlinear.ipynb       ml-20m.zip\r\n",
      "11.TF2_0_RNN_Long_Distance.ipynb        spam.csv\r\n",
      "12.TF2_0_RNN_MNIST.ipynb\r\n"
     ]
    }
   ],
   "source": [
    "!ls"
   ]
  },
  {
   "cell_type": "code",
   "execution_count": 6,
   "metadata": {
    "colab": {
     "base_uri": "https://localhost:8080/",
     "height": 204
    },
    "colab_type": "code",
    "id": "A6h0pEt_7lZC",
    "outputId": "4a410b48-1608-4ea0-b7d5-5bcf12ea065a"
   },
   "outputs": [
    {
     "data": {
      "text/html": [
       "<div>\n",
       "<style scoped>\n",
       "    .dataframe tbody tr th:only-of-type {\n",
       "        vertical-align: middle;\n",
       "    }\n",
       "\n",
       "    .dataframe tbody tr th {\n",
       "        vertical-align: top;\n",
       "    }\n",
       "\n",
       "    .dataframe thead th {\n",
       "        text-align: right;\n",
       "    }\n",
       "</style>\n",
       "<table border=\"1\" class=\"dataframe\">\n",
       "  <thead>\n",
       "    <tr style=\"text-align: right;\">\n",
       "      <th></th>\n",
       "      <th>userId</th>\n",
       "      <th>movieId</th>\n",
       "      <th>rating</th>\n",
       "      <th>timestamp</th>\n",
       "    </tr>\n",
       "  </thead>\n",
       "  <tbody>\n",
       "    <tr>\n",
       "      <th>0</th>\n",
       "      <td>1</td>\n",
       "      <td>2</td>\n",
       "      <td>3.5</td>\n",
       "      <td>1112486027</td>\n",
       "    </tr>\n",
       "    <tr>\n",
       "      <th>1</th>\n",
       "      <td>1</td>\n",
       "      <td>29</td>\n",
       "      <td>3.5</td>\n",
       "      <td>1112484676</td>\n",
       "    </tr>\n",
       "    <tr>\n",
       "      <th>2</th>\n",
       "      <td>1</td>\n",
       "      <td>32</td>\n",
       "      <td>3.5</td>\n",
       "      <td>1112484819</td>\n",
       "    </tr>\n",
       "    <tr>\n",
       "      <th>3</th>\n",
       "      <td>1</td>\n",
       "      <td>47</td>\n",
       "      <td>3.5</td>\n",
       "      <td>1112484727</td>\n",
       "    </tr>\n",
       "    <tr>\n",
       "      <th>4</th>\n",
       "      <td>1</td>\n",
       "      <td>50</td>\n",
       "      <td>3.5</td>\n",
       "      <td>1112484580</td>\n",
       "    </tr>\n",
       "  </tbody>\n",
       "</table>\n",
       "</div>"
      ],
      "text/plain": [
       "   userId  movieId  rating   timestamp\n",
       "0       1        2     3.5  1112486027\n",
       "1       1       29     3.5  1112484676\n",
       "2       1       32     3.5  1112484819\n",
       "3       1       47     3.5  1112484727\n",
       "4       1       50     3.5  1112484580"
      ]
     },
     "execution_count": 6,
     "metadata": {},
     "output_type": "execute_result"
    }
   ],
   "source": [
    "df = pd.read_csv('ml-20m/ratings.csv')\n",
    "df.head()"
   ]
  },
  {
   "cell_type": "code",
   "execution_count": 7,
   "metadata": {
    "colab": {},
    "colab_type": "code",
    "id": "XbcWAxwa-ZBO"
   },
   "outputs": [],
   "source": [
    "# We can't trust the userId and movieId to be numbered 0...N-1\n",
    "# Let's just set our own ids\n",
    "\n",
    "# current_user_id = 0\n",
    "# custom_user_map = {} # old user id > new user id\n",
    "# def map_user_id(row):\n",
    "#   global current_user_id, custom_user_map\n",
    "#   old_user_id = row['userId']\n",
    "#   if old_user_id not in custom_user_map:\n",
    "#     custom_user_map[old_user_id] = current_user_id\n",
    "#     current_user_id += 1\n",
    "#   return custom_user_map[old_user_id]\n",
    "\n",
    "# df['new_user_id'] = df.apply(map_user_id, axis=1)\n",
    "\n",
    "df.userId = pd.Categorical(df.userId)\n",
    "df['new_user_id'] = df.userId.cat.codes"
   ]
  },
  {
   "cell_type": "code",
   "execution_count": 8,
   "metadata": {},
   "outputs": [
    {
     "data": {
      "text/plain": [
       "0                0\n",
       "1                0\n",
       "2                0\n",
       "3                0\n",
       "4                0\n",
       "             ...  \n",
       "20000258    138492\n",
       "20000259    138492\n",
       "20000260    138492\n",
       "20000261    138492\n",
       "20000262    138492\n",
       "Name: new_user_id, Length: 20000263, dtype: int32"
      ]
     },
     "execution_count": 8,
     "metadata": {},
     "output_type": "execute_result"
    }
   ],
   "source": [
    "df['new_user_id']"
   ]
  },
  {
   "cell_type": "code",
   "execution_count": 9,
   "metadata": {
    "colab": {},
    "colab_type": "code",
    "id": "xqeRbNRN_g7h"
   },
   "outputs": [],
   "source": [
    "# Now do the same thing for movie ids\n",
    "# current_movie_id = 0\n",
    "# custom_movie_map = {} # old movie id > new movie id\n",
    "# def map_movie_id(row):\n",
    "#   global current_movie_id, custom_movie_map\n",
    "#   old_movie_id = row['movieId']\n",
    "#   if old_movie_id not in custom_movie_map:\n",
    "#     custom_movie_map[old_movie_id] = current_movie_id\n",
    "#     current_movie_id += 1\n",
    "#   return custom_movie_map[old_movie_id]\n",
    "\n",
    "# df['new_movie_id'] = df.apply(map_movie_id, axis=1)\n",
    "\n",
    "df.movieId = pd.Categorical(df.movieId)\n",
    "df['new_movie_id'] = df.movieId.cat.codes"
   ]
  },
  {
   "cell_type": "code",
   "execution_count": 10,
   "metadata": {},
   "outputs": [
    {
     "data": {
      "text/html": [
       "<div>\n",
       "<style scoped>\n",
       "    .dataframe tbody tr th:only-of-type {\n",
       "        vertical-align: middle;\n",
       "    }\n",
       "\n",
       "    .dataframe tbody tr th {\n",
       "        vertical-align: top;\n",
       "    }\n",
       "\n",
       "    .dataframe thead th {\n",
       "        text-align: right;\n",
       "    }\n",
       "</style>\n",
       "<table border=\"1\" class=\"dataframe\">\n",
       "  <thead>\n",
       "    <tr style=\"text-align: right;\">\n",
       "      <th></th>\n",
       "      <th>userId</th>\n",
       "      <th>movieId</th>\n",
       "      <th>rating</th>\n",
       "      <th>timestamp</th>\n",
       "      <th>new_user_id</th>\n",
       "      <th>new_movie_id</th>\n",
       "    </tr>\n",
       "  </thead>\n",
       "  <tbody>\n",
       "    <tr>\n",
       "      <th>0</th>\n",
       "      <td>1</td>\n",
       "      <td>2</td>\n",
       "      <td>3.5</td>\n",
       "      <td>1112486027</td>\n",
       "      <td>0</td>\n",
       "      <td>1</td>\n",
       "    </tr>\n",
       "    <tr>\n",
       "      <th>1</th>\n",
       "      <td>1</td>\n",
       "      <td>29</td>\n",
       "      <td>3.5</td>\n",
       "      <td>1112484676</td>\n",
       "      <td>0</td>\n",
       "      <td>28</td>\n",
       "    </tr>\n",
       "    <tr>\n",
       "      <th>2</th>\n",
       "      <td>1</td>\n",
       "      <td>32</td>\n",
       "      <td>3.5</td>\n",
       "      <td>1112484819</td>\n",
       "      <td>0</td>\n",
       "      <td>31</td>\n",
       "    </tr>\n",
       "    <tr>\n",
       "      <th>3</th>\n",
       "      <td>1</td>\n",
       "      <td>47</td>\n",
       "      <td>3.5</td>\n",
       "      <td>1112484727</td>\n",
       "      <td>0</td>\n",
       "      <td>46</td>\n",
       "    </tr>\n",
       "    <tr>\n",
       "      <th>4</th>\n",
       "      <td>1</td>\n",
       "      <td>50</td>\n",
       "      <td>3.5</td>\n",
       "      <td>1112484580</td>\n",
       "      <td>0</td>\n",
       "      <td>49</td>\n",
       "    </tr>\n",
       "  </tbody>\n",
       "</table>\n",
       "</div>"
      ],
      "text/plain": [
       "  userId movieId  rating   timestamp  new_user_id  new_movie_id\n",
       "0      1       2     3.5  1112486027            0             1\n",
       "1      1      29     3.5  1112484676            0            28\n",
       "2      1      32     3.5  1112484819            0            31\n",
       "3      1      47     3.5  1112484727            0            46\n",
       "4      1      50     3.5  1112484580            0            49"
      ]
     },
     "execution_count": 10,
     "metadata": {},
     "output_type": "execute_result"
    }
   ],
   "source": [
    "df.head()"
   ]
  },
  {
   "cell_type": "code",
   "execution_count": 11,
   "metadata": {
    "colab": {},
    "colab_type": "code",
    "id": "fGaLyZpf7zD3"
   },
   "outputs": [],
   "source": [
    "# Get user IDs, movie IDs, and ratings as separate arrays\n",
    "user_ids = df['new_user_id'].values\n",
    "movie_ids = df['new_movie_id'].values\n",
    "ratings = df['rating'].values"
   ]
  },
  {
   "cell_type": "code",
   "execution_count": 12,
   "metadata": {
    "colab": {},
    "colab_type": "code",
    "id": "BGX7sQp48hG5"
   },
   "outputs": [],
   "source": [
    "# Get number of users and number of movies\n",
    "N = len(set(user_ids))\n",
    "M = len(set(movie_ids))\n",
    "\n",
    "# Set embedding dimension\n",
    "K = 10"
   ]
  },
  {
   "cell_type": "code",
   "execution_count": 13,
   "metadata": {
    "colab": {},
    "colab_type": "code",
    "id": "BnF0FH4u7_qg"
   },
   "outputs": [],
   "source": [
    "# Make a neural network\n",
    "\n",
    "# User input\n",
    "u = Input(shape=(1,))\n",
    "\n",
    "# Movie input\n",
    "m = Input(shape=(1,))\n",
    "\n",
    "# User embedding\n",
    "u_emb = Embedding(N, K)(u) # output is (num_samples, 1, K)\n",
    "\n",
    "# Movie embedding\n",
    "m_emb = Embedding(M, K)(m) # output is (num_samples, 1, K)\n",
    "\n",
    "# Flatten both embeddings\n",
    "u_emb = Flatten()(u_emb) # now it's (num_samples, K)\n",
    "m_emb = Flatten()(m_emb) # now it's (num_samples, K)\n",
    "\n",
    "# Concatenate user-movie embeddings into a feature vector\n",
    "x = Concatenate()([u_emb, m_emb]) # now it's (num_samples, 2K)\n",
    "\n",
    "# Now that we have a feature vector, it's just a regular ANN\n",
    "x = Dense(1024, activation='relu')(x)\n",
    "# x = Dense(400, activation='relu')(x)\n",
    "# x = Dense(400, activation='relu')(x)\n",
    "x = Dense(1)(x)"
   ]
  },
  {
   "cell_type": "code",
   "execution_count": 14,
   "metadata": {
    "colab": {},
    "colab_type": "code",
    "id": "U8WZjAWF9fx6"
   },
   "outputs": [],
   "source": [
    "# Build the model and compile\n",
    "model = Model(inputs=[u, m], outputs=x)\n",
    "model.compile(\n",
    "  loss='mse',\n",
    "  optimizer=SGD(lr=0.08, momentum=0.9),\n",
    ")"
   ]
  },
  {
   "cell_type": "code",
   "execution_count": 15,
   "metadata": {
    "colab": {},
    "colab_type": "code",
    "id": "eYJtZTjz9soz"
   },
   "outputs": [],
   "source": [
    "# split the data\n",
    "user_ids, movie_ids, ratings = shuffle(user_ids, movie_ids, ratings)\n",
    "Ntrain = int(0.8 * len(ratings))\n",
    "train_user = user_ids[:Ntrain]\n",
    "train_movie = movie_ids[:Ntrain]\n",
    "train_ratings = ratings[:Ntrain]\n",
    "\n",
    "test_user = user_ids[Ntrain:]\n",
    "test_movie = movie_ids[Ntrain:]\n",
    "test_ratings = ratings[Ntrain:]\n",
    "\n",
    "# center the ratings\n",
    "avg_rating = train_ratings.mean()\n",
    "train_ratings = train_ratings - avg_rating\n",
    "test_ratings = test_ratings - avg_rating"
   ]
  },
  {
   "cell_type": "code",
   "execution_count": 16,
   "metadata": {
    "colab": {
     "base_uri": "https://localhost:8080/",
     "height": 938
    },
    "colab_type": "code",
    "id": "C0bY_dCD9k_f",
    "outputId": "c5c32937-d437-4574-f482-a2de39fc76e7",
    "scrolled": true
   },
   "outputs": [
    {
     "name": "stdout",
     "output_type": "stream",
     "text": [
      "Train on 16000210 samples, validate on 4000053 samples\n",
      "Epoch 1/25\n",
      "16000210/16000210 - 210s - loss: 0.7766 - val_loss: 0.7199\n",
      "Epoch 2/25\n",
      "16000210/16000210 - 211s - loss: 0.7009 - val_loss: 0.6976\n",
      "Epoch 3/25\n",
      "16000210/16000210 - 208s - loss: 0.6779 - val_loss: 0.6840\n",
      "Epoch 4/25\n",
      "16000210/16000210 - 205s - loss: 0.6627 - val_loss: 0.6750\n",
      "Epoch 5/25\n",
      "16000210/16000210 - 204s - loss: 0.6510 - val_loss: 0.6683\n",
      "Epoch 6/25\n",
      "16000210/16000210 - 204s - loss: 0.6386 - val_loss: 0.6607\n",
      "Epoch 7/25\n",
      "16000210/16000210 - 204s - loss: 0.6257 - val_loss: 0.6504\n",
      "Epoch 8/25\n",
      "16000210/16000210 - 204s - loss: 0.6115 - val_loss: 0.6434\n",
      "Epoch 9/25\n",
      "16000210/16000210 - 209s - loss: 0.6000 - val_loss: 0.6393\n",
      "Epoch 10/25\n",
      "16000210/16000210 - 207s - loss: 0.5908 - val_loss: 0.6372\n",
      "Epoch 11/25\n",
      "16000210/16000210 - 207s - loss: 0.5829 - val_loss: 0.6356\n",
      "Epoch 12/25\n",
      "16000210/16000210 - 212s - loss: 0.5756 - val_loss: 0.6316\n",
      "Epoch 13/25\n",
      "16000210/16000210 - 202s - loss: 0.5694 - val_loss: 0.6342\n",
      "Epoch 14/25\n",
      "16000210/16000210 - 194s - loss: 0.5638 - val_loss: 0.6299\n",
      "Epoch 15/25\n",
      "16000210/16000210 - 194s - loss: 0.5591 - val_loss: 0.6311\n",
      "Epoch 16/25\n",
      "16000210/16000210 - 194s - loss: 0.5548 - val_loss: 0.6310\n",
      "Epoch 17/25\n",
      "16000210/16000210 - 193s - loss: 0.5510 - val_loss: 0.6279\n",
      "Epoch 18/25\n",
      "16000210/16000210 - 193s - loss: 0.5477 - val_loss: 0.6274\n",
      "Epoch 19/25\n",
      "16000210/16000210 - 213s - loss: 0.5446 - val_loss: 0.6263\n",
      "Epoch 20/25\n",
      "16000210/16000210 - 224s - loss: 0.5419 - val_loss: 0.6258\n",
      "Epoch 21/25\n",
      "16000210/16000210 - 225s - loss: 0.5396 - val_loss: 0.6275\n",
      "Epoch 22/25\n",
      "16000210/16000210 - 225s - loss: 0.5375 - val_loss: 0.6272\n",
      "Epoch 23/25\n",
      "16000210/16000210 - 225s - loss: 0.5355 - val_loss: 0.6260\n",
      "Epoch 24/25\n",
      "16000210/16000210 - 224s - loss: 0.5338 - val_loss: 0.6265\n",
      "Epoch 25/25\n",
      "16000210/16000210 - 224s - loss: 0.5323 - val_loss: 0.6274\n"
     ]
    }
   ],
   "source": [
    "r = model.fit(\n",
    "  x=[train_user, train_movie],\n",
    "  y=train_ratings,\n",
    "  epochs=25,\n",
    "  batch_size=1024,\n",
    "  verbose=2, # goes a little faster when you don't print the progress bar\n",
    "  validation_data=([test_user, test_movie], test_ratings),\n",
    ")"
   ]
  },
  {
   "cell_type": "code",
   "execution_count": 17,
   "metadata": {
    "colab": {
     "base_uri": "https://localhost:8080/",
     "height": 269
    },
    "colab_type": "code",
    "id": "806T1XIoEyxM",
    "outputId": "50c6d4d3-accf-4710-915f-5c0927caa9ae"
   },
   "outputs": [
    {
     "data": {
      "image/png": "[encoded data removed]",
      "text/plain": [
       "<Figure size 432x288 with 1 Axes>"
      ]
     },
     "metadata": {
      "needs_background": "light"
     },
     "output_type": "display_data"
    }
   ],
   "source": [
    "# plot losses\n",
    "plt.plot(r.history['loss'], label=\"train loss\")\n",
    "plt.plot(r.history['val_loss'], label=\"val loss\")\n",
    "plt.legend()\n",
    "plt.show()"
   ]
  },
  {
   "cell_type": "code",
   "execution_count": 18,
   "metadata": {
    "colab": {
     "base_uri": "https://localhost:8080/",
     "height": 34
    },
    "colab_type": "code",
    "id": "VlGdCKsveyY6",
    "outputId": "9f65ff4e-95e6-455a-cd2a-5f2d9a355906"
   },
   "outputs": [
    {
     "data": {
      "text/plain": [
       "0.7911384202527394"
      ]
     },
     "execution_count": 18,
     "metadata": {},
     "output_type": "execute_result"
    }
   ],
   "source": [
    "# is this on par with other approaches?\n",
    "# https://datascience.stackexchange.com/questions/29740/benchmark-result-for-movielens-dataset\n",
    "np.sqrt(0.6259)"
   ]
  }
 ],
 "metadata": {
  "accelerator": "GPU",
  "colab": {
   "name": "TF2.0 Recommender System.ipynb",
   "provenance": []
  },
  "kernelspec": {
   "display_name": "Python 3",
   "language": "python",
   "name": "python3"
  },
  "language_info": {
   "codemirror_mode": {
    "name": "ipython",
    "version": 3
   },
   "file_extension": ".py",
   "mimetype": "text/x-python",
   "name": "python",
   "nbconvert_exporter": "python",
   "pygments_lexer": "ipython3",
   "version": "3.7.6"
  }
 },
 "nbformat": 4,
 "nbformat_minor": 1
}
