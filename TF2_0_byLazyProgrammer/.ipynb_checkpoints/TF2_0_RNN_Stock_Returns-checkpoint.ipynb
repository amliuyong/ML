{
 "cells": [
  {
   "cell_type": "code",
   "execution_count": 2,
   "metadata": {
    "colab": {
     "base_uri": "https://localhost:8080/",
     "height": 34
    },
    "colab_type": "code",
    "id": "JkljvqYBN0Fa",
    "outputId": "a6d8423c-ad80-400d-91eb-19814d1395e2"
   },
   "outputs": [],
   "source": [
    "import os\n",
    "os.environ['KMP_DUPLICATE_LIB_OK']='True'\n",
    "\n",
    "import tensorflow as tf"
   ]
  },
  {
   "cell_type": "code",
   "execution_count": 3,
   "metadata": {
    "colab": {},
    "colab_type": "code",
    "id": "AJ1XDZAJNjNG"
   },
   "outputs": [],
   "source": [
    "# More imports\n",
    "from tensorflow.keras.layers import Input, LSTM, GRU, SimpleRNN, Dense, GlobalMaxPool1D\n",
    "from tensorflow.keras.models import Model\n",
    "from tensorflow.keras.optimizers import SGD, Adam\n",
    "\n",
    "import numpy as np\n",
    "import pandas as pd\n",
    "import matplotlib.pyplot as plt\n",
    "from sklearn.preprocessing import StandardScaler"
   ]
  },
  {
   "cell_type": "code",
   "execution_count": 4,
   "metadata": {
    "colab": {},
    "colab_type": "code",
    "id": "DhvsuKhcNq7t"
   },
   "outputs": [],
   "source": [
    "# yes, you can read dataframes from URLs!\n",
    "df = pd.read_csv('https://raw.githubusercontent.com/lazyprogrammer/machine_learning_examples/master/tf2.0/sbux.csv')"
   ]
  },
  {
   "cell_type": "code",
   "execution_count": 5,
   "metadata": {
    "colab": {
     "base_uri": "https://localhost:8080/",
     "height": 204
    },
    "colab_type": "code",
    "id": "vWSPFdncODH9",
    "outputId": "7f8feb17-5ac0-4ee0-d4de-701df94bd7ac"
   },
   "outputs": [
    {
     "data": {
      "text/html": [
       "<div>\n",
       "<style scoped>\n",
       "    .dataframe tbody tr th:only-of-type {\n",
       "        vertical-align: middle;\n",
       "    }\n",
       "\n",
       "    .dataframe tbody tr th {\n",
       "        vertical-align: top;\n",
       "    }\n",
       "\n",
       "    .dataframe thead th {\n",
       "        text-align: right;\n",
       "    }\n",
       "</style>\n",
       "<table border=\"1\" class=\"dataframe\">\n",
       "  <thead>\n",
       "    <tr style=\"text-align: right;\">\n",
       "      <th></th>\n",
       "      <th>date</th>\n",
       "      <th>open</th>\n",
       "      <th>high</th>\n",
       "      <th>low</th>\n",
       "      <th>close</th>\n",
       "      <th>volume</th>\n",
       "      <th>Name</th>\n",
       "    </tr>\n",
       "  </thead>\n",
       "  <tbody>\n",
       "    <tr>\n",
       "      <th>0</th>\n",
       "      <td>2013-02-08</td>\n",
       "      <td>27.920</td>\n",
       "      <td>28.325</td>\n",
       "      <td>27.920</td>\n",
       "      <td>28.185</td>\n",
       "      <td>7146296</td>\n",
       "      <td>SBUX</td>\n",
       "    </tr>\n",
       "    <tr>\n",
       "      <th>1</th>\n",
       "      <td>2013-02-11</td>\n",
       "      <td>28.260</td>\n",
       "      <td>28.260</td>\n",
       "      <td>27.930</td>\n",
       "      <td>28.070</td>\n",
       "      <td>5457354</td>\n",
       "      <td>SBUX</td>\n",
       "    </tr>\n",
       "    <tr>\n",
       "      <th>2</th>\n",
       "      <td>2013-02-12</td>\n",
       "      <td>28.000</td>\n",
       "      <td>28.275</td>\n",
       "      <td>27.975</td>\n",
       "      <td>28.130</td>\n",
       "      <td>8665592</td>\n",
       "      <td>SBUX</td>\n",
       "    </tr>\n",
       "    <tr>\n",
       "      <th>3</th>\n",
       "      <td>2013-02-13</td>\n",
       "      <td>28.230</td>\n",
       "      <td>28.230</td>\n",
       "      <td>27.750</td>\n",
       "      <td>27.915</td>\n",
       "      <td>7022056</td>\n",
       "      <td>SBUX</td>\n",
       "    </tr>\n",
       "    <tr>\n",
       "      <th>4</th>\n",
       "      <td>2013-02-14</td>\n",
       "      <td>27.765</td>\n",
       "      <td>27.905</td>\n",
       "      <td>27.675</td>\n",
       "      <td>27.775</td>\n",
       "      <td>8899188</td>\n",
       "      <td>SBUX</td>\n",
       "    </tr>\n",
       "  </tbody>\n",
       "</table>\n",
       "</div>"
      ],
      "text/plain": [
       "         date    open    high     low   close   volume  Name\n",
       "0  2013-02-08  27.920  28.325  27.920  28.185  7146296  SBUX\n",
       "1  2013-02-11  28.260  28.260  27.930  28.070  5457354  SBUX\n",
       "2  2013-02-12  28.000  28.275  27.975  28.130  8665592  SBUX\n",
       "3  2013-02-13  28.230  28.230  27.750  27.915  7022056  SBUX\n",
       "4  2013-02-14  27.765  27.905  27.675  27.775  8899188  SBUX"
      ]
     },
     "execution_count": 5,
     "metadata": {},
     "output_type": "execute_result"
    }
   ],
   "source": [
    "df.head()"
   ]
  },
  {
   "cell_type": "code",
   "execution_count": 6,
   "metadata": {
    "colab": {
     "base_uri": "https://localhost:8080/",
     "height": 204
    },
    "colab_type": "code",
    "id": "NLmweO2o-wgS",
    "outputId": "feaf8e29-1270-4fe9-dbd6-b85d9d7f3234"
   },
   "outputs": [
    {
     "data": {
      "text/html": [
       "<div>\n",
       "<style scoped>\n",
       "    .dataframe tbody tr th:only-of-type {\n",
       "        vertical-align: middle;\n",
       "    }\n",
       "\n",
       "    .dataframe tbody tr th {\n",
       "        vertical-align: top;\n",
       "    }\n",
       "\n",
       "    .dataframe thead th {\n",
       "        text-align: right;\n",
       "    }\n",
       "</style>\n",
       "<table border=\"1\" class=\"dataframe\">\n",
       "  <thead>\n",
       "    <tr style=\"text-align: right;\">\n",
       "      <th></th>\n",
       "      <th>date</th>\n",
       "      <th>open</th>\n",
       "      <th>high</th>\n",
       "      <th>low</th>\n",
       "      <th>close</th>\n",
       "      <th>volume</th>\n",
       "      <th>Name</th>\n",
       "    </tr>\n",
       "  </thead>\n",
       "  <tbody>\n",
       "    <tr>\n",
       "      <th>1254</th>\n",
       "      <td>2018-02-01</td>\n",
       "      <td>56.280</td>\n",
       "      <td>56.42</td>\n",
       "      <td>55.89</td>\n",
       "      <td>56.00</td>\n",
       "      <td>14690146</td>\n",
       "      <td>SBUX</td>\n",
       "    </tr>\n",
       "    <tr>\n",
       "      <th>1255</th>\n",
       "      <td>2018-02-02</td>\n",
       "      <td>55.900</td>\n",
       "      <td>56.32</td>\n",
       "      <td>55.70</td>\n",
       "      <td>55.77</td>\n",
       "      <td>15358909</td>\n",
       "      <td>SBUX</td>\n",
       "    </tr>\n",
       "    <tr>\n",
       "      <th>1256</th>\n",
       "      <td>2018-02-05</td>\n",
       "      <td>55.530</td>\n",
       "      <td>56.26</td>\n",
       "      <td>54.57</td>\n",
       "      <td>54.69</td>\n",
       "      <td>16059955</td>\n",
       "      <td>SBUX</td>\n",
       "    </tr>\n",
       "    <tr>\n",
       "      <th>1257</th>\n",
       "      <td>2018-02-06</td>\n",
       "      <td>53.685</td>\n",
       "      <td>56.06</td>\n",
       "      <td>53.56</td>\n",
       "      <td>55.61</td>\n",
       "      <td>17415065</td>\n",
       "      <td>SBUX</td>\n",
       "    </tr>\n",
       "    <tr>\n",
       "      <th>1258</th>\n",
       "      <td>2018-02-07</td>\n",
       "      <td>55.080</td>\n",
       "      <td>55.43</td>\n",
       "      <td>54.44</td>\n",
       "      <td>54.46</td>\n",
       "      <td>13927022</td>\n",
       "      <td>SBUX</td>\n",
       "    </tr>\n",
       "  </tbody>\n",
       "</table>\n",
       "</div>"
      ],
      "text/plain": [
       "            date    open   high    low  close    volume  Name\n",
       "1254  2018-02-01  56.280  56.42  55.89  56.00  14690146  SBUX\n",
       "1255  2018-02-02  55.900  56.32  55.70  55.77  15358909  SBUX\n",
       "1256  2018-02-05  55.530  56.26  54.57  54.69  16059955  SBUX\n",
       "1257  2018-02-06  53.685  56.06  53.56  55.61  17415065  SBUX\n",
       "1258  2018-02-07  55.080  55.43  54.44  54.46  13927022  SBUX"
      ]
     },
     "execution_count": 6,
     "metadata": {},
     "output_type": "execute_result"
    }
   ],
   "source": [
    "df.tail()"
   ]
  },
  {
   "cell_type": "code",
   "execution_count": 7,
   "metadata": {
    "colab": {},
    "colab_type": "code",
    "id": "qczc-TUNO0th"
   },
   "outputs": [],
   "source": [
    "# Start by doing the WRONG thing - trying to predict the price itself\n",
    "series = df['close'].values.reshape(-1, 1)"
   ]
  },
  {
   "cell_type": "code",
   "execution_count": 8,
   "metadata": {
    "colab": {},
    "colab_type": "code",
    "id": "X6lJwsOgPVaB"
   },
   "outputs": [],
   "source": [
    "# Normalize the data\n",
    "# Note: I didn't think about where the true boundary is, this is just approx.\n",
    "scaler = StandardScaler()\n",
    "scaler.fit(series[:len(series) // 2])\n",
    "series = scaler.transform(series).flatten()"
   ]
  },
  {
   "cell_type": "code",
   "execution_count": 9,
   "metadata": {
    "colab": {
     "base_uri": "https://localhost:8080/",
     "height": 34
    },
    "colab_type": "code",
    "id": "3j6Jk2pkPTjE",
    "outputId": "14f774c5-95f0-4acd-d023-7aff6c6c0e82"
   },
   "outputs": [
    {
     "name": "stdout",
     "output_type": "stream",
     "text": [
      "X.shape (1249, 10, 1) Y.shape (1249,)\n"
     ]
    }
   ],
   "source": [
    "### build the dataset\n",
    "# let's see if we can use T past values to predict the next value\n",
    "T = 10\n",
    "D = 1\n",
    "X = []\n",
    "Y = []\n",
    "for t in range(len(series) - T):\n",
    "  x = series[t:t+T]\n",
    "  X.append(x)\n",
    "  y = series[t+T]\n",
    "  Y.append(y)\n",
    "\n",
    "X = np.array(X).reshape(-1, T, 1) # Now the data should be N x T x D\n",
    "Y = np.array(Y)\n",
    "N = len(X)\n",
    "print(\"X.shape\", X.shape, \"Y.shape\", Y.shape)"
   ]
  },
  {
   "cell_type": "code",
   "execution_count": 10,
   "metadata": {
    "colab": {
     "base_uri": "https://localhost:8080/",
     "height": 1000
    },
    "colab_type": "code",
    "id": "R5uMLXonPEnZ",
    "outputId": "977911fa-8ed2-4663-a133-2f9c7190776d"
   },
   "outputs": [
    {
     "name": "stdout",
     "output_type": "stream",
     "text": [
      "Train on 624 samples, validate on 625 samples\n",
      "Epoch 1/80\n",
      "624/624 [==============================] - 4s 7ms/sample - loss: 0.1322 - val_loss: 0.0449\n",
      "Epoch 2/80\n",
      "624/624 [==============================] - 0s 624us/sample - loss: 0.0116 - val_loss: 0.0421\n",
      "Epoch 3/80\n",
      "624/624 [==============================] - 0s 619us/sample - loss: 0.0113 - val_loss: 0.0730\n",
      "Epoch 4/80\n",
      "624/624 [==============================] - 0s 618us/sample - loss: 0.0075 - val_loss: 0.0183\n",
      "Epoch 5/80\n",
      "624/624 [==============================] - 0s 617us/sample - loss: 0.0066 - val_loss: 0.0198\n",
      "Epoch 6/80\n",
      "624/624 [==============================] - 0s 614us/sample - loss: 0.0071 - val_loss: 0.0208\n",
      "Epoch 7/80\n",
      "624/624 [==============================] - 0s 624us/sample - loss: 0.0059 - val_loss: 0.0270\n",
      "Epoch 8/80\n",
      "624/624 [==============================] - 0s 621us/sample - loss: 0.0063 - val_loss: 0.0305\n",
      "Epoch 9/80\n",
      "624/624 [==============================] - 0s 693us/sample - loss: 0.0058 - val_loss: 0.0294\n",
      "Epoch 10/80\n",
      "624/624 [==============================] - 0s 636us/sample - loss: 0.0058 - val_loss: 0.0177\n",
      "Epoch 11/80\n",
      "624/624 [==============================] - 0s 638us/sample - loss: 0.0057 - val_loss: 0.0198\n",
      "Epoch 12/80\n",
      "624/624 [==============================] - 1s 806us/sample - loss: 0.0061 - val_loss: 0.0218\n",
      "Epoch 13/80\n",
      "624/624 [==============================] - 0s 623us/sample - loss: 0.0076 - val_loss: 0.0220\n",
      "Epoch 14/80\n",
      "624/624 [==============================] - 0s 627us/sample - loss: 0.0073 - val_loss: 0.0170\n",
      "Epoch 15/80\n",
      "624/624 [==============================] - 0s 623us/sample - loss: 0.0059 - val_loss: 0.0203\n",
      "Epoch 16/80\n",
      "624/624 [==============================] - 0s 726us/sample - loss: 0.0063 - val_loss: 0.0629\n",
      "Epoch 17/80\n",
      "624/624 [==============================] - 0s 750us/sample - loss: 0.0079 - val_loss: 0.0628\n",
      "Epoch 18/80\n",
      "624/624 [==============================] - 1s 848us/sample - loss: 0.0079 - val_loss: 0.0215\n",
      "Epoch 19/80\n",
      "624/624 [==============================] - 0s 723us/sample - loss: 0.0060 - val_loss: 0.0307\n",
      "Epoch 20/80\n",
      "624/624 [==============================] - 0s 683us/sample - loss: 0.0055 - val_loss: 0.0286\n",
      "Epoch 21/80\n",
      "624/624 [==============================] - 0s 633us/sample - loss: 0.0053 - val_loss: 0.0245\n",
      "Epoch 22/80\n",
      "624/624 [==============================] - 0s 674us/sample - loss: 0.0059 - val_loss: 0.0227\n",
      "Epoch 23/80\n",
      "624/624 [==============================] - 0s 706us/sample - loss: 0.0060 - val_loss: 0.0306\n",
      "Epoch 24/80\n",
      "624/624 [==============================] - 0s 632us/sample - loss: 0.0066 - val_loss: 0.0275\n",
      "Epoch 25/80\n",
      "624/624 [==============================] - 0s 639us/sample - loss: 0.0065 - val_loss: 0.0327\n",
      "Epoch 26/80\n",
      "624/624 [==============================] - 0s 648us/sample - loss: 0.0053 - val_loss: 0.0219\n",
      "Epoch 27/80\n",
      "624/624 [==============================] - 0s 651us/sample - loss: 0.0062 - val_loss: 0.0327\n",
      "Epoch 28/80\n",
      "624/624 [==============================] - 0s 640us/sample - loss: 0.0063 - val_loss: 0.0214\n",
      "Epoch 29/80\n",
      "624/624 [==============================] - 0s 615us/sample - loss: 0.0056 - val_loss: 0.0274\n",
      "Epoch 30/80\n",
      "624/624 [==============================] - 0s 610us/sample - loss: 0.0065 - val_loss: 0.0152\n",
      "Epoch 31/80\n",
      "624/624 [==============================] - 0s 623us/sample - loss: 0.0064 - val_loss: 0.0149\n",
      "Epoch 32/80\n",
      "624/624 [==============================] - 0s 632us/sample - loss: 0.0073 - val_loss: 0.0530\n",
      "Epoch 33/80\n",
      "624/624 [==============================] - 0s 627us/sample - loss: 0.0069 - val_loss: 0.0291\n",
      "Epoch 34/80\n",
      "624/624 [==============================] - 0s 625us/sample - loss: 0.0052 - val_loss: 0.0182\n",
      "Epoch 35/80\n",
      "624/624 [==============================] - 0s 622us/sample - loss: 0.0057 - val_loss: 0.0229\n",
      "Epoch 36/80\n",
      "624/624 [==============================] - 0s 626us/sample - loss: 0.0053 - val_loss: 0.0193\n",
      "Epoch 37/80\n",
      "624/624 [==============================] - 0s 627us/sample - loss: 0.0049 - val_loss: 0.0226\n",
      "Epoch 38/80\n",
      "624/624 [==============================] - 0s 617us/sample - loss: 0.0073 - val_loss: 0.0501\n",
      "Epoch 39/80\n",
      "624/624 [==============================] - 0s 616us/sample - loss: 0.0064 - val_loss: 0.0302\n",
      "Epoch 40/80\n",
      "624/624 [==============================] - 0s 621us/sample - loss: 0.0064 - val_loss: 0.0164\n",
      "Epoch 41/80\n",
      "624/624 [==============================] - 0s 658us/sample - loss: 0.0063 - val_loss: 0.0188\n",
      "Epoch 42/80\n",
      "624/624 [==============================] - 0s 684us/sample - loss: 0.0057 - val_loss: 0.0216\n",
      "Epoch 43/80\n",
      "624/624 [==============================] - 0s 738us/sample - loss: 0.0053 - val_loss: 0.0158\n",
      "Epoch 44/80\n",
      "624/624 [==============================] - 0s 630us/sample - loss: 0.0061 - val_loss: 0.0157\n",
      "Epoch 45/80\n",
      "624/624 [==============================] - 0s 629us/sample - loss: 0.0059 - val_loss: 0.0207\n",
      "Epoch 46/80\n",
      "624/624 [==============================] - 0s 693us/sample - loss: 0.0064 - val_loss: 0.0178\n",
      "Epoch 47/80\n",
      "624/624 [==============================] - 0s 689us/sample - loss: 0.0066 - val_loss: 0.0243\n",
      "Epoch 48/80\n",
      "624/624 [==============================] - 0s 640us/sample - loss: 0.0055 - val_loss: 0.0174\n",
      "Epoch 49/80\n",
      "624/624 [==============================] - 0s 655us/sample - loss: 0.0052 - val_loss: 0.0293\n",
      "Epoch 50/80\n",
      "624/624 [==============================] - 0s 623us/sample - loss: 0.0067 - val_loss: 0.0193\n",
      "Epoch 51/80\n",
      "624/624 [==============================] - 0s 629us/sample - loss: 0.0057 - val_loss: 0.0163\n",
      "Epoch 52/80\n",
      "624/624 [==============================] - 0s 626us/sample - loss: 0.0061 - val_loss: 0.0166\n",
      "Epoch 53/80\n",
      "624/624 [==============================] - 0s 634us/sample - loss: 0.0061 - val_loss: 0.0141\n",
      "Epoch 54/80\n",
      "624/624 [==============================] - 0s 621us/sample - loss: 0.0063 - val_loss: 0.1041\n",
      "Epoch 55/80\n",
      "624/624 [==============================] - 0s 632us/sample - loss: 0.0069 - val_loss: 0.0251\n",
      "Epoch 56/80\n",
      "624/624 [==============================] - 0s 633us/sample - loss: 0.0052 - val_loss: 0.0212\n",
      "Epoch 57/80\n",
      "624/624 [==============================] - 0s 630us/sample - loss: 0.0081 - val_loss: 0.0281\n",
      "Epoch 58/80\n",
      "624/624 [==============================] - 0s 635us/sample - loss: 0.0066 - val_loss: 0.0163\n",
      "Epoch 59/80\n",
      "624/624 [==============================] - 0s 635us/sample - loss: 0.0068 - val_loss: 0.0327\n",
      "Epoch 60/80\n",
      "624/624 [==============================] - 0s 638us/sample - loss: 0.0069 - val_loss: 0.0199\n",
      "Epoch 61/80\n",
      "624/624 [==============================] - 0s 649us/sample - loss: 0.0060 - val_loss: 0.0185\n",
      "Epoch 62/80\n",
      "624/624 [==============================] - 0s 646us/sample - loss: 0.0061 - val_loss: 0.0301\n",
      "Epoch 63/80\n",
      "624/624 [==============================] - 0s 643us/sample - loss: 0.0064 - val_loss: 0.0283\n",
      "Epoch 64/80\n",
      "624/624 [==============================] - 0s 633us/sample - loss: 0.0064 - val_loss: 0.0224\n",
      "Epoch 65/80\n",
      "624/624 [==============================] - 0s 641us/sample - loss: 0.0057 - val_loss: 0.0301\n",
      "Epoch 66/80\n",
      "624/624 [==============================] - 0s 645us/sample - loss: 0.0056 - val_loss: 0.0368\n",
      "Epoch 67/80\n",
      "624/624 [==============================] - 0s 633us/sample - loss: 0.0056 - val_loss: 0.0224\n",
      "Epoch 68/80\n",
      "624/624 [==============================] - 0s 642us/sample - loss: 0.0077 - val_loss: 0.0545\n",
      "Epoch 69/80\n",
      "624/624 [==============================] - 0s 651us/sample - loss: 0.0071 - val_loss: 0.0281\n",
      "Epoch 70/80\n",
      "624/624 [==============================] - 0s 642us/sample - loss: 0.0062 - val_loss: 0.0269\n",
      "Epoch 71/80\n",
      "624/624 [==============================] - 0s 641us/sample - loss: 0.0062 - val_loss: 0.0272\n",
      "Epoch 72/80\n",
      "624/624 [==============================] - 0s 637us/sample - loss: 0.0059 - val_loss: 0.0206\n",
      "Epoch 73/80\n",
      "624/624 [==============================] - 0s 640us/sample - loss: 0.0075 - val_loss: 0.0183\n",
      "Epoch 74/80\n",
      "624/624 [==============================] - 0s 640us/sample - loss: 0.0054 - val_loss: 0.0161\n",
      "Epoch 75/80\n",
      "624/624 [==============================] - 0s 655us/sample - loss: 0.0060 - val_loss: 0.0173\n",
      "Epoch 76/80\n",
      "624/624 [==============================] - 0s 640us/sample - loss: 0.0066 - val_loss: 0.0161\n",
      "Epoch 77/80\n",
      "624/624 [==============================] - 0s 659us/sample - loss: 0.0090 - val_loss: 0.0280\n",
      "Epoch 78/80\n"
     ]
    },
    {
     "name": "stdout",
     "output_type": "stream",
     "text": [
      "624/624 [==============================] - 0s 709us/sample - loss: 0.0059 - val_loss: 0.0274\n",
      "Epoch 79/80\n",
      "624/624 [==============================] - 0s 651us/sample - loss: 0.0054 - val_loss: 0.0210\n",
      "Epoch 80/80\n",
      "624/624 [==============================] - 0s 650us/sample - loss: 0.0061 - val_loss: 0.0171\n"
     ]
    }
   ],
   "source": [
    "### try autoregressive RNN model\n",
    "i = Input(shape=(T, 1))\n",
    "x = LSTM(5)(i)\n",
    "x = Dense(1)(x)\n",
    "model = Model(i, x)\n",
    "model.compile(\n",
    "  loss='mse',\n",
    "  optimizer=Adam(lr=0.1),\n",
    ")\n",
    "\n",
    "# train the RNN\n",
    "r = model.fit(\n",
    "  X[:-N//2], Y[:-N//2],\n",
    "  epochs=80,\n",
    "  validation_data=(X[-N//2:], Y[-N//2:]),\n",
    ")"
   ]
  },
  {
   "cell_type": "code",
   "execution_count": 11,
   "metadata": {
    "colab": {
     "base_uri": "https://localhost:8080/",
     "height": 286
    },
    "colab_type": "code",
    "id": "gNKGakDwP6I8",
    "outputId": "40313073-51b0-4b68-9299-397032ecb9df"
   },
   "outputs": [
    {
     "data": {
      "text/plain": [
       "<matplotlib.legend.Legend at 0x1a416c7510>"
      ]
     },
     "execution_count": 11,
     "metadata": {},
     "output_type": "execute_result"
    },
    {
     "data": {
      "image/png": "[encoded data removed]",
      "text/plain": [
       "<Figure size 432x288 with 1 Axes>"
      ]
     },
     "metadata": {
      "needs_background": "light"
     },
     "output_type": "display_data"
    }
   ],
   "source": [
    "# Plot loss per iteration\n",
    "import matplotlib.pyplot as plt\n",
    "plt.plot(r.history['loss'], label='loss')\n",
    "plt.plot(r.history['val_loss'], label='val_loss')\n",
    "plt.legend()"
   ]
  },
  {
   "cell_type": "code",
   "execution_count": 12,
   "metadata": {
    "colab": {
     "base_uri": "https://localhost:8080/",
     "height": 286
    },
    "colab_type": "code",
    "id": "SnonG_CKP-W2",
    "outputId": "d800b5e9-6626-4489-fba3-bcf004740930"
   },
   "outputs": [
    {
     "name": "stdout",
     "output_type": "stream",
     "text": [
      "(1249, 1)\n"
     ]
    },
    {
     "data": {
      "image/png": "[encoded data removed]",
      "text/plain": [
       "<Figure size 432x288 with 1 Axes>"
      ]
     },
     "metadata": {
      "needs_background": "light"
     },
     "output_type": "display_data"
    }
   ],
   "source": [
    "# One-step forecast using true targets\n",
    "outputs = model.predict(X)\n",
    "print(outputs.shape)\n",
    "predictions = outputs[:,0]\n",
    "\n",
    "plt.plot(Y, label='targets')\n",
    "plt.plot(predictions, label='predictions')\n",
    "plt.legend()\n",
    "plt.show()"
   ]
  },
  {
   "cell_type": "code",
   "execution_count": 13,
   "metadata": {
    "colab": {
     "base_uri": "https://localhost:8080/",
     "height": 286
    },
    "colab_type": "code",
    "id": "_lQrWPlHQJw_",
    "outputId": "37989c10-af24-4212-e717-af42d6f34b12"
   },
   "outputs": [
    {
     "data": {
      "text/plain": [
       "<matplotlib.legend.Legend at 0x1a4f743710>"
      ]
     },
     "execution_count": 13,
     "metadata": {},
     "output_type": "execute_result"
    },
    {
     "data": {
      "image/png": "[encoded data removed]",
      "text/plain": [
       "<Figure size 432x288 with 1 Axes>"
      ]
     },
     "metadata": {
      "needs_background": "light"
     },
     "output_type": "display_data"
    }
   ],
   "source": [
    "# Multi-step forecast\n",
    "validation_target = Y[-N//2:]\n",
    "validation_predictions = []\n",
    "\n",
    "# first validation input\n",
    "last_x = X[-N//2] # 1-D array of length T\n",
    "\n",
    "while len(validation_predictions) < len(validation_target):\n",
    "  p = model.predict(last_x.reshape(1, T, 1))[0,0] # 1x1 array -> scalar\n",
    "  \n",
    "  # update the predictions list\n",
    "  validation_predictions.append(p)\n",
    "  \n",
    "  # make the new input\n",
    "  last_x = np.roll(last_x, -1)\n",
    "  last_x[-1] = p\n",
    "\n",
    "plt.plot(validation_target, label='forecast target')\n",
    "plt.plot(validation_predictions, label='forecast prediction')\n",
    "plt.legend()"
   ]
  },
  {
   "cell_type": "code",
   "execution_count": 14,
   "metadata": {
    "colab": {},
    "colab_type": "code",
    "id": "HyqtntC7OGu0"
   },
   "outputs": [],
   "source": [
    "# calculate returns by first shifting the data\n",
    "df['PrevClose'] = df['close'].shift(1) # move everything up 1\n",
    "\n",
    "# so now it's like\n",
    "# close / prev close\n",
    "# x[2] x[1]\n",
    "# x[3] x[2]\n",
    "# x[4] x[3]\n",
    "# ...\n",
    "# x[t] x[t-1]"
   ]
  },
  {
   "cell_type": "code",
   "execution_count": 15,
   "metadata": {
    "colab": {
     "base_uri": "https://localhost:8080/",
     "height": 204
    },
    "colab_type": "code",
    "id": "K4HG4nDUOPHK",
    "outputId": "5ae5536c-b6c9-4e0a-a806-d33cc10262e4"
   },
   "outputs": [
    {
     "data": {
      "text/html": [
       "<div>\n",
       "<style scoped>\n",
       "    .dataframe tbody tr th:only-of-type {\n",
       "        vertical-align: middle;\n",
       "    }\n",
       "\n",
       "    .dataframe tbody tr th {\n",
       "        vertical-align: top;\n",
       "    }\n",
       "\n",
       "    .dataframe thead th {\n",
       "        text-align: right;\n",
       "    }\n",
       "</style>\n",
       "<table border=\"1\" class=\"dataframe\">\n",
       "  <thead>\n",
       "    <tr style=\"text-align: right;\">\n",
       "      <th></th>\n",
       "      <th>date</th>\n",
       "      <th>open</th>\n",
       "      <th>high</th>\n",
       "      <th>low</th>\n",
       "      <th>close</th>\n",
       "      <th>volume</th>\n",
       "      <th>Name</th>\n",
       "      <th>PrevClose</th>\n",
       "    </tr>\n",
       "  </thead>\n",
       "  <tbody>\n",
       "    <tr>\n",
       "      <th>0</th>\n",
       "      <td>2013-02-08</td>\n",
       "      <td>27.920</td>\n",
       "      <td>28.325</td>\n",
       "      <td>27.920</td>\n",
       "      <td>28.185</td>\n",
       "      <td>7146296</td>\n",
       "      <td>SBUX</td>\n",
       "      <td>NaN</td>\n",
       "    </tr>\n",
       "    <tr>\n",
       "      <th>1</th>\n",
       "      <td>2013-02-11</td>\n",
       "      <td>28.260</td>\n",
       "      <td>28.260</td>\n",
       "      <td>27.930</td>\n",
       "      <td>28.070</td>\n",
       "      <td>5457354</td>\n",
       "      <td>SBUX</td>\n",
       "      <td>28.185</td>\n",
       "    </tr>\n",
       "    <tr>\n",
       "      <th>2</th>\n",
       "      <td>2013-02-12</td>\n",
       "      <td>28.000</td>\n",
       "      <td>28.275</td>\n",
       "      <td>27.975</td>\n",
       "      <td>28.130</td>\n",
       "      <td>8665592</td>\n",
       "      <td>SBUX</td>\n",
       "      <td>28.070</td>\n",
       "    </tr>\n",
       "    <tr>\n",
       "      <th>3</th>\n",
       "      <td>2013-02-13</td>\n",
       "      <td>28.230</td>\n",
       "      <td>28.230</td>\n",
       "      <td>27.750</td>\n",
       "      <td>27.915</td>\n",
       "      <td>7022056</td>\n",
       "      <td>SBUX</td>\n",
       "      <td>28.130</td>\n",
       "    </tr>\n",
       "    <tr>\n",
       "      <th>4</th>\n",
       "      <td>2013-02-14</td>\n",
       "      <td>27.765</td>\n",
       "      <td>27.905</td>\n",
       "      <td>27.675</td>\n",
       "      <td>27.775</td>\n",
       "      <td>8899188</td>\n",
       "      <td>SBUX</td>\n",
       "      <td>27.915</td>\n",
       "    </tr>\n",
       "  </tbody>\n",
       "</table>\n",
       "</div>"
      ],
      "text/plain": [
       "         date    open    high     low   close   volume  Name  PrevClose\n",
       "0  2013-02-08  27.920  28.325  27.920  28.185  7146296  SBUX        NaN\n",
       "1  2013-02-11  28.260  28.260  27.930  28.070  5457354  SBUX     28.185\n",
       "2  2013-02-12  28.000  28.275  27.975  28.130  8665592  SBUX     28.070\n",
       "3  2013-02-13  28.230  28.230  27.750  27.915  7022056  SBUX     28.130\n",
       "4  2013-02-14  27.765  27.905  27.675  27.775  8899188  SBUX     27.915"
      ]
     },
     "execution_count": 15,
     "metadata": {},
     "output_type": "execute_result"
    }
   ],
   "source": [
    "df.head()"
   ]
  },
  {
   "cell_type": "code",
   "execution_count": 16,
   "metadata": {
    "colab": {},
    "colab_type": "code",
    "id": "8NozObuNORn4"
   },
   "outputs": [],
   "source": [
    "# then the return is\n",
    "# (x[t] - x[t-1]) / x[t-1]\n",
    "df['Return'] = (df['close'] - df['PrevClose']) / df['PrevClose']"
   ]
  },
  {
   "cell_type": "code",
   "execution_count": 17,
   "metadata": {
    "colab": {
     "base_uri": "https://localhost:8080/",
     "height": 204
    },
    "colab_type": "code",
    "id": "1o0ynO0aOVWu",
    "outputId": "27396836-f73d-4c6c-adad-a7d55c01dbd7"
   },
   "outputs": [
    {
     "data": {
      "text/html": [
       "<div>\n",
       "<style scoped>\n",
       "    .dataframe tbody tr th:only-of-type {\n",
       "        vertical-align: middle;\n",
       "    }\n",
       "\n",
       "    .dataframe tbody tr th {\n",
       "        vertical-align: top;\n",
       "    }\n",
       "\n",
       "    .dataframe thead th {\n",
       "        text-align: right;\n",
       "    }\n",
       "</style>\n",
       "<table border=\"1\" class=\"dataframe\">\n",
       "  <thead>\n",
       "    <tr style=\"text-align: right;\">\n",
       "      <th></th>\n",
       "      <th>date</th>\n",
       "      <th>open</th>\n",
       "      <th>high</th>\n",
       "      <th>low</th>\n",
       "      <th>close</th>\n",
       "      <th>volume</th>\n",
       "      <th>Name</th>\n",
       "      <th>PrevClose</th>\n",
       "      <th>Return</th>\n",
       "    </tr>\n",
       "  </thead>\n",
       "  <tbody>\n",
       "    <tr>\n",
       "      <th>0</th>\n",
       "      <td>2013-02-08</td>\n",
       "      <td>27.920</td>\n",
       "      <td>28.325</td>\n",
       "      <td>27.920</td>\n",
       "      <td>28.185</td>\n",
       "      <td>7146296</td>\n",
       "      <td>SBUX</td>\n",
       "      <td>NaN</td>\n",
       "      <td>NaN</td>\n",
       "    </tr>\n",
       "    <tr>\n",
       "      <th>1</th>\n",
       "      <td>2013-02-11</td>\n",
       "      <td>28.260</td>\n",
       "      <td>28.260</td>\n",
       "      <td>27.930</td>\n",
       "      <td>28.070</td>\n",
       "      <td>5457354</td>\n",
       "      <td>SBUX</td>\n",
       "      <td>28.185</td>\n",
       "      <td>-0.004080</td>\n",
       "    </tr>\n",
       "    <tr>\n",
       "      <th>2</th>\n",
       "      <td>2013-02-12</td>\n",
       "      <td>28.000</td>\n",
       "      <td>28.275</td>\n",
       "      <td>27.975</td>\n",
       "      <td>28.130</td>\n",
       "      <td>8665592</td>\n",
       "      <td>SBUX</td>\n",
       "      <td>28.070</td>\n",
       "      <td>0.002138</td>\n",
       "    </tr>\n",
       "    <tr>\n",
       "      <th>3</th>\n",
       "      <td>2013-02-13</td>\n",
       "      <td>28.230</td>\n",
       "      <td>28.230</td>\n",
       "      <td>27.750</td>\n",
       "      <td>27.915</td>\n",
       "      <td>7022056</td>\n",
       "      <td>SBUX</td>\n",
       "      <td>28.130</td>\n",
       "      <td>-0.007643</td>\n",
       "    </tr>\n",
       "    <tr>\n",
       "      <th>4</th>\n",
       "      <td>2013-02-14</td>\n",
       "      <td>27.765</td>\n",
       "      <td>27.905</td>\n",
       "      <td>27.675</td>\n",
       "      <td>27.775</td>\n",
       "      <td>8899188</td>\n",
       "      <td>SBUX</td>\n",
       "      <td>27.915</td>\n",
       "      <td>-0.005015</td>\n",
       "    </tr>\n",
       "  </tbody>\n",
       "</table>\n",
       "</div>"
      ],
      "text/plain": [
       "         date    open    high     low   close   volume  Name  PrevClose  \\\n",
       "0  2013-02-08  27.920  28.325  27.920  28.185  7146296  SBUX        NaN   \n",
       "1  2013-02-11  28.260  28.260  27.930  28.070  5457354  SBUX     28.185   \n",
       "2  2013-02-12  28.000  28.275  27.975  28.130  8665592  SBUX     28.070   \n",
       "3  2013-02-13  28.230  28.230  27.750  27.915  7022056  SBUX     28.130   \n",
       "4  2013-02-14  27.765  27.905  27.675  27.775  8899188  SBUX     27.915   \n",
       "\n",
       "     Return  \n",
       "0       NaN  \n",
       "1 -0.004080  \n",
       "2  0.002138  \n",
       "3 -0.007643  \n",
       "4 -0.005015  "
      ]
     },
     "execution_count": 17,
     "metadata": {},
     "output_type": "execute_result"
    }
   ],
   "source": [
    "df.head()"
   ]
  },
  {
   "cell_type": "code",
   "execution_count": 18,
   "metadata": {
    "colab": {
     "base_uri": "https://localhost:8080/",
     "height": 286
    },
    "colab_type": "code",
    "id": "2caEww0GXddl",
    "outputId": "3b27b78a-f57d-429c-b0bf-c46cece021da"
   },
   "outputs": [
    {
     "data": {
      "text/plain": [
       "<matplotlib.axes._subplots.AxesSubplot at 0x1a4f8bb850>"
      ]
     },
     "execution_count": 18,
     "metadata": {},
     "output_type": "execute_result"
    },
    {
     "data": {
      "image/png": "[encoded data removed]",
      "text/plain": [
       "<Figure size 432x288 with 1 Axes>"
      ]
     },
     "metadata": {
      "needs_background": "light"
     },
     "output_type": "display_data"
    }
   ],
   "source": [
    "# Now let's try an LSTM to predict returns\n",
    "df['Return'].hist()"
   ]
  },
  {
   "cell_type": "code",
   "execution_count": 19,
   "metadata": {
    "colab": {},
    "colab_type": "code",
    "id": "t0xUTZvFXoHc"
   },
   "outputs": [],
   "source": [
    "series = df['Return'].values[1:].reshape(-1, 1)\n",
    "\n",
    "# Normalize the data\n",
    "# Note: I didn't think about where the true boundary is, this is just approx.\n",
    "scaler = StandardScaler()\n",
    "scaler.fit(series[:len(series) // 2])\n",
    "series = scaler.transform(series).flatten()"
   ]
  },
  {
   "cell_type": "code",
   "execution_count": 20,
   "metadata": {
    "colab": {
     "base_uri": "https://localhost:8080/",
     "height": 34
    },
    "colab_type": "code",
    "id": "PLNwOWOWX1m9",
    "outputId": "9500d410-468d-4bbf-8747-0db0e105c106"
   },
   "outputs": [
    {
     "name": "stdout",
     "output_type": "stream",
     "text": [
      "X.shape (1248, 10, 1) Y.shape (1248,)\n"
     ]
    }
   ],
   "source": [
    "### build the dataset\n",
    "# let's see if we can use T past values to predict the next value\n",
    "T = 10\n",
    "D = 1\n",
    "X = []\n",
    "Y = []\n",
    "for t in range(len(series) - T):\n",
    "  x = series[t:t+T]\n",
    "  X.append(x)\n",
    "  y = series[t+T]\n",
    "  Y.append(y)\n",
    "\n",
    "X = np.array(X).reshape(-1, T, 1) # Now the data should be N x T x D\n",
    "Y = np.array(Y)\n",
    "N = len(X)\n",
    "print(\"X.shape\", X.shape, \"Y.shape\", Y.shape)"
   ]
  },
  {
   "cell_type": "code",
   "execution_count": null,
   "metadata": {
    "colab": {
     "base_uri": "https://localhost:8080/",
     "height": 1000
    },
    "colab_type": "code",
    "id": "F_fhQMaOYAxR",
    "outputId": "9c3f632e-f886-4d05-da4a-c3d00c2f1dca"
   },
   "outputs": [
    {
     "name": "stdout",
     "output_type": "stream",
     "text": [
      "Train on 624 samples, validate on 624 samples\n",
      "Epoch 1/80\n",
      "624/624 [==============================] - 4s 6ms/sample - loss: 0.9919 - val_loss: 1.1607\n",
      "Epoch 2/80\n",
      "624/624 [==============================] - 0s 638us/sample - loss: 0.9855 - val_loss: 1.1456\n",
      "Epoch 3/80\n",
      "624/624 [==============================] - 0s 629us/sample - loss: 0.9864 - val_loss: 1.1387\n",
      "Epoch 4/80\n",
      "624/624 [==============================] - 0s 626us/sample - loss: 0.9845 - val_loss: 1.1582\n",
      "Epoch 5/80\n",
      "624/624 [==============================] - 0s 637us/sample - loss: 0.9875 - val_loss: 1.1449\n",
      "Epoch 6/80\n",
      "624/624 [==============================] - 0s 637us/sample - loss: 0.9828 - val_loss: 1.1460\n",
      "Epoch 7/80\n",
      "624/624 [==============================] - 0s 629us/sample - loss: 0.9819 - val_loss: 1.1467\n",
      "Epoch 8/80\n",
      "624/624 [==============================] - 0s 631us/sample - loss: 0.9833 - val_loss: 1.1541\n",
      "Epoch 9/80\n",
      "624/624 [==============================] - 0s 646us/sample - loss: 0.9834 - val_loss: 1.1473\n",
      "Epoch 10/80\n",
      "624/624 [==============================] - 0s 618us/sample - loss: 0.9838 - val_loss: 1.1375\n",
      "Epoch 11/80\n",
      "624/624 [==============================] - 0s 631us/sample - loss: 0.9810 - val_loss: 1.1533\n",
      "Epoch 12/80\n",
      "624/624 [==============================] - 0s 631us/sample - loss: 0.9839 - val_loss: 1.1475\n",
      "Epoch 13/80\n",
      "624/624 [==============================] - 0s 631us/sample - loss: 0.9805 - val_loss: 1.1445\n",
      "Epoch 14/80\n",
      "624/624 [==============================] - 0s 624us/sample - loss: 0.9824 - val_loss: 1.1563\n",
      "Epoch 15/80\n",
      "624/624 [==============================] - 0s 630us/sample - loss: 0.9814 - val_loss: 1.1531\n",
      "Epoch 16/80\n",
      "624/624 [==============================] - 0s 635us/sample - loss: 0.9777 - val_loss: 1.1354\n",
      "Epoch 17/80\n",
      "624/624 [==============================] - 0s 624us/sample - loss: 0.9773 - val_loss: 1.1558\n",
      "Epoch 18/80\n",
      "624/624 [==============================] - 0s 636us/sample - loss: 0.9785 - val_loss: 1.1536\n",
      "Epoch 19/80\n",
      "624/624 [==============================] - 0s 618us/sample - loss: 0.9766 - val_loss: 1.1562\n",
      "Epoch 20/80\n",
      "624/624 [==============================] - 0s 630us/sample - loss: 0.9735 - val_loss: 1.1634\n",
      "Epoch 21/80\n",
      "624/624 [==============================] - 0s 643us/sample - loss: 0.9734 - val_loss: 1.1504\n",
      "Epoch 22/80\n",
      "624/624 [==============================] - 0s 656us/sample - loss: 0.9701 - val_loss: 1.1604\n",
      "Epoch 23/80\n",
      "624/624 [==============================] - 0s 656us/sample - loss: 0.9680 - val_loss: 1.1781\n",
      "Epoch 24/80\n",
      "624/624 [==============================] - 0s 643us/sample - loss: 0.9664 - val_loss: 1.1721\n",
      "Epoch 25/80\n",
      "624/624 [==============================] - 0s 622us/sample - loss: 0.9646 - val_loss: 1.1675\n",
      "Epoch 26/80\n",
      "624/624 [==============================] - 0s 633us/sample - loss: 0.9637 - val_loss: 1.1706\n",
      "Epoch 27/80\n",
      "624/624 [==============================] - 0s 632us/sample - loss: 0.9640 - val_loss: 1.1748\n"
     ]
    }
   ],
   "source": [
    "### try autoregressive RNN model\n",
    "i = Input(shape=(T, 1))\n",
    "x = LSTM(5)(i)\n",
    "x = Dense(1)(x)\n",
    "model = Model(i, x)\n",
    "model.compile(\n",
    "  loss='mse',\n",
    "  optimizer=Adam(lr=0.01),\n",
    ")\n",
    "\n",
    "# train the RNN\n",
    "r = model.fit(\n",
    "  X[:-N//2], Y[:-N//2],\n",
    "  epochs=80,\n",
    "  validation_data=(X[-N//2:], Y[-N//2:]),\n",
    ")"
   ]
  },
  {
   "cell_type": "code",
   "execution_count": null,
   "metadata": {
    "colab": {
     "base_uri": "https://localhost:8080/",
     "height": 286
    },
    "colab_type": "code",
    "id": "-RulDED_YFAQ",
    "outputId": "8eabd461-ff9c-4202-c655-279b0c9519a9"
   },
   "outputs": [],
   "source": [
    "# Plot loss per iteration\n",
    "import matplotlib.pyplot as plt\n",
    "plt.plot(r.history['loss'], label='loss')\n",
    "plt.plot(r.history['val_loss'], label='val_loss')\n",
    "plt.legend()"
   ]
  },
  {
   "cell_type": "code",
   "execution_count": null,
   "metadata": {
    "colab": {
     "base_uri": "https://localhost:8080/",
     "height": 286
    },
    "colab_type": "code",
    "id": "euWSVgj2YFXA",
    "outputId": "89bd5df2-8d9f-4076-c023-2e07500b518c"
   },
   "outputs": [],
   "source": [
    "# One-step forecast using true targets\n",
    "outputs = model.predict(X)\n",
    "print(outputs.shape)\n",
    "predictions = outputs[:,0]\n",
    "\n",
    "plt.plot(Y, label='targets')\n",
    "plt.plot(predictions, label='predictions')\n",
    "plt.legend()\n",
    "plt.show()"
   ]
  },
  {
   "cell_type": "code",
   "execution_count": null,
   "metadata": {
    "colab": {
     "base_uri": "https://localhost:8080/",
     "height": 286
    },
    "colab_type": "code",
    "id": "Vqu6ScQrYIWV",
    "outputId": "d944717c-b87f-4f44-971f-9aa16134f885"
   },
   "outputs": [],
   "source": [
    "# Multi-step forecast\n",
    "validation_target = Y[-N//2:]\n",
    "validation_predictions = []\n",
    "\n",
    "# first validation input\n",
    "last_x = X[-N//2] # 1-D array of length T\n",
    "\n",
    "while len(validation_predictions) < len(validation_target):\n",
    "  p = model.predict(last_x.reshape(1, T, 1))[0,0] # 1x1 array -> scalar\n",
    "  \n",
    "  # update the predictions list\n",
    "  validation_predictions.append(p)\n",
    "  \n",
    "  # make the new input\n",
    "  last_x = np.roll(last_x, -1)\n",
    "  last_x[-1] = p\n",
    "\n",
    "plt.plot(validation_target, label='forecast target')\n",
    "plt.plot(validation_predictions, label='forecast prediction')\n",
    "plt.legend()"
   ]
  },
  {
   "cell_type": "code",
   "execution_count": null,
   "metadata": {
    "colab": {},
    "colab_type": "code",
    "id": "VwgGvQsDOZ5T"
   },
   "outputs": [],
   "source": [
    "# Now turn the full data into numpy arrays\n",
    "\n",
    "# Not yet in the final \"X\" format!\n",
    "input_data = df[['open', 'high', 'low', 'close', 'volume']].values\n",
    "targets = df['Return'].values"
   ]
  },
  {
   "cell_type": "code",
   "execution_count": null,
   "metadata": {
    "colab": {},
    "colab_type": "code",
    "id": "-sdYhd7mObwI"
   },
   "outputs": [],
   "source": [
    "# Now make the actual data which will go into the neural network\n",
    "T = 10 # the number of time steps to look at to make a prediction for the next day\n",
    "D = input_data.shape[1]\n",
    "N = len(input_data) - T # (e.g. if T=10 and you have 11 data points then you'd only have 1 sample)"
   ]
  },
  {
   "cell_type": "code",
   "execution_count": null,
   "metadata": {
    "colab": {},
    "colab_type": "code",
    "id": "79CkMlgHOejZ"
   },
   "outputs": [],
   "source": [
    "# normalize the inputs\n",
    "Ntrain = len(input_data) * 2 // 3\n",
    "scaler = StandardScaler()\n",
    "scaler.fit(input_data[:Ntrain + T - 1])\n",
    "input_data = scaler.transform(input_data)"
   ]
  },
  {
   "cell_type": "code",
   "execution_count": null,
   "metadata": {
    "colab": {},
    "colab_type": "code",
    "id": "bfQcj1gpOme2"
   },
   "outputs": [],
   "source": [
    "# Setup X_train and Y_train\n",
    "X_train = np.zeros((Ntrain, T, D))\n",
    "Y_train = np.zeros(Ntrain)\n",
    "\n",
    "for t in range(Ntrain):\n",
    "  X_train[t, :, :] = input_data[t:t+T]\n",
    "  Y_train[t] = (targets[t+T] > 0)"
   ]
  },
  {
   "cell_type": "code",
   "execution_count": null,
   "metadata": {
    "colab": {},
    "colab_type": "code",
    "id": "HhUo6COMOsZi"
   },
   "outputs": [],
   "source": [
    "# Setup X_test and Y_test\n",
    "X_test = np.zeros((N - Ntrain, T, D))\n",
    "Y_test = np.zeros(N - Ntrain)\n",
    "\n",
    "for u in range(N - Ntrain):\n",
    "  # u counts from 0...(N - Ntrain)\n",
    "  # t counts from Ntrain...N\n",
    "  t = u + Ntrain\n",
    "  X_test[u, :, :] = input_data[t:t+T]\n",
    "  Y_test[u] = (targets[t+T] > 0)"
   ]
  },
  {
   "cell_type": "code",
   "execution_count": null,
   "metadata": {
    "colab": {},
    "colab_type": "code",
    "id": "7tBDk_1FRUFt"
   },
   "outputs": [],
   "source": [
    "# make the RNN\n",
    "i = Input(shape=(T, D))\n",
    "x = LSTM(50)(i)\n",
    "x = Dense(1, activation='sigmoid')(x)\n",
    "model = Model(i, x)\n",
    "model.compile(\n",
    "  loss='binary_crossentropy',\n",
    "  optimizer=Adam(lr=0.001),\n",
    "  metrics=['accuracy'],\n",
    ")"
   ]
  },
  {
   "cell_type": "code",
   "execution_count": null,
   "metadata": {
    "colab": {
     "base_uri": "https://localhost:8080/",
     "height": 1000
    },
    "colab_type": "code",
    "id": "IQqNykvGRXGz",
    "outputId": "f7a11389-9562-466d-c136-cdc0909099f4"
   },
   "outputs": [],
   "source": [
    "# train the RNN\n",
    "r = model.fit(\n",
    "  X_train, Y_train,\n",
    "  batch_size=32,\n",
    "  epochs=300,\n",
    "  validation_data=(X_test, Y_test),\n",
    ")"
   ]
  },
  {
   "cell_type": "code",
   "execution_count": null,
   "metadata": {
    "colab": {
     "base_uri": "https://localhost:8080/",
     "height": 269
    },
    "colab_type": "code",
    "id": "erq--mqRRgfR",
    "outputId": "21ff0f1b-83bb-4c4b-e100-5b5b2a0e6cd5"
   },
   "outputs": [],
   "source": [
    "# plot the loss\n",
    "plt.plot(r.history['loss'], label='loss')\n",
    "plt.plot(r.history['val_loss'], label='val_loss')\n",
    "plt.legend()\n",
    "plt.show()"
   ]
  },
  {
   "cell_type": "code",
   "execution_count": null,
   "metadata": {
    "colab": {
     "base_uri": "https://localhost:8080/",
     "height": 269
    },
    "colab_type": "code",
    "id": "D9ZzosDMRjBU",
    "outputId": "ce168bc1-9259-4c4a-fceb-a9832602bc1b"
   },
   "outputs": [],
   "source": [
    "# Plot accuracy per iteration\n",
    "plt.plot(r.history['accuracy'], label='accuracy')\n",
    "plt.plot(r.history['val_accuracy'], label='val_accuracy')\n",
    "plt.legend()\n",
    "plt.show()"
   ]
  }
 ],
 "metadata": {
  "accelerator": "GPU",
  "colab": {
   "collapsed_sections": [],
   "name": "TF2.0 Stock Returns.ipynb",
   "provenance": []
  },
  "kernelspec": {
   "display_name": "Python 3",
   "language": "python",
   "name": "python3"
  },
  "language_info": {
   "codemirror_mode": {
    "name": "ipython",
    "version": 3
   },
   "file_extension": ".py",
   "mimetype": "text/x-python",
   "name": "python",
   "nbconvert_exporter": "python",
   "pygments_lexer": "ipython3",
   "version": "3.7.6"
  }
 },
 "nbformat": 4,
 "nbformat_minor": 1
}
