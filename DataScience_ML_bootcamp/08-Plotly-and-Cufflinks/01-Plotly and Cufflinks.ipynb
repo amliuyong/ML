{
 "cells": [
  {
   "cell_type": "markdown",
   "metadata": {},
   "source": [
    "Plotly is a library that allows you to create interactive plots that you can use in dashboards or websites (you can save them as html files or static images).\n",
    "\n",
    "## Installation\n",
    "\n",
    "In order for this all to work, you'll need to install plotly and cufflinks to call plots directly off of a pandas dataframe. These libraries are not currently available through **conda** but are available through **pip**. Install the libraries at your command line/terminal using:\n",
    "\n",
    "    pip install plotly\n",
    "    pip install cufflinks\n",
    "\n",
    "** NOTE: Make sure you only have one installation of Python on your computer when you do this, otherwise the installation may not work. **\n",
    "\n",
    "## Imports and Set-up"
   ]
  },
  {
   "cell_type": "code",
   "execution_count": 18,
   "metadata": {},
   "outputs": [],
   "source": [
    "import pandas as pd\n",
    "import numpy as np\n",
    "%matplotlib inline"
   ]
  },
  {
   "cell_type": "code",
   "execution_count": 19,
   "metadata": {},
   "outputs": [
    {
     "name": "stdout",
     "output_type": "stream",
     "text": [
      "4.6.0\n"
     ]
    }
   ],
   "source": [
    "from plotly import __version__\n",
    "from plotly.offline import download_plotlyjs, init_notebook_mode, plot, iplot\n",
    "\n",
    "print(__version__) # requires version >= 1.9.0"
   ]
  },
  {
   "cell_type": "code",
   "execution_count": 20,
   "metadata": {},
   "outputs": [],
   "source": [
    "import cufflinks as cf"
   ]
  },
  {
   "cell_type": "code",
   "execution_count": 21,
   "metadata": {},
   "outputs": [
    {
     "data": {
      "text/html": [
       "        <script type=\"text/javascript\">\n",
       "        window.PlotlyConfig = {MathJaxConfig: 'local'};\n",
       "        if (window.MathJax) {MathJax.Hub.Config({SVG: {font: \"STIX-Web\"}});}\n",
       "        if (typeof require !== 'undefined') {\n",
       "        require.undef(\"plotly\");\n",
       "        requirejs.config({\n",
       "            paths: {\n",
       "                'plotly': ['https://cdn.plot.ly/plotly-latest.min']\n",
       "            }\n",
       "        });\n",
       "        require(['plotly'], function(Plotly) {\n",
       "            window._Plotly = Plotly;\n",
       "        });\n",
       "        }\n",
       "        </script>\n",
       "        "
      ]
     },
     "metadata": {},
     "output_type": "display_data"
    }
   ],
   "source": [
    "# For Notebooks\n",
    "init_notebook_mode(connected=True)"
   ]
  },
  {
   "cell_type": "code",
   "execution_count": 22,
   "metadata": {},
   "outputs": [
    {
     "data": {
      "text/html": [
       "        <script type=\"text/javascript\">\n",
       "        window.PlotlyConfig = {MathJaxConfig: 'local'};\n",
       "        if (window.MathJax) {MathJax.Hub.Config({SVG: {font: \"STIX-Web\"}});}\n",
       "        if (typeof require !== 'undefined') {\n",
       "        require.undef(\"plotly\");\n",
       "        requirejs.config({\n",
       "            paths: {\n",
       "                'plotly': ['https://cdn.plot.ly/plotly-latest.min']\n",
       "            }\n",
       "        });\n",
       "        require(['plotly'], function(Plotly) {\n",
       "            window._Plotly = Plotly;\n",
       "        });\n",
       "        }\n",
       "        </script>\n",
       "        "
      ]
     },
     "metadata": {},
     "output_type": "display_data"
    }
   ],
   "source": [
    "# For offline use\n",
    "cf.go_offline()"
   ]
  },
  {
   "cell_type": "markdown",
   "metadata": {},
   "source": [
    "### Fake Data"
   ]
  },
  {
   "cell_type": "code",
   "execution_count": 23,
   "metadata": {},
   "outputs": [],
   "source": [
    "df = pd.DataFrame(np.random.randn(100,4),columns='A B C D'.split())"
   ]
  },
  {
   "cell_type": "code",
   "execution_count": 24,
   "metadata": {},
   "outputs": [
    {
     "data": {
      "text/html": [
       "<div>\n",
       "<style scoped>\n",
       "    .dataframe tbody tr th:only-of-type {\n",
       "        vertical-align: middle;\n",
       "    }\n",
       "\n",
       "    .dataframe tbody tr th {\n",
       "        vertical-align: top;\n",
       "    }\n",
       "\n",
       "    .dataframe thead th {\n",
       "        text-align: right;\n",
       "    }\n",
       "</style>\n",
       "<table border=\"1\" class=\"dataframe\">\n",
       "  <thead>\n",
       "    <tr style=\"text-align: right;\">\n",
       "      <th></th>\n",
       "      <th>A</th>\n",
       "      <th>B</th>\n",
       "      <th>C</th>\n",
       "      <th>D</th>\n",
       "    </tr>\n",
       "  </thead>\n",
       "  <tbody>\n",
       "    <tr>\n",
       "      <th>0</th>\n",
       "      <td>-0.909305</td>\n",
       "      <td>1.971441</td>\n",
       "      <td>0.728067</td>\n",
       "      <td>-0.059700</td>\n",
       "    </tr>\n",
       "    <tr>\n",
       "      <th>1</th>\n",
       "      <td>0.604083</td>\n",
       "      <td>-0.168480</td>\n",
       "      <td>0.848824</td>\n",
       "      <td>-0.727095</td>\n",
       "    </tr>\n",
       "    <tr>\n",
       "      <th>2</th>\n",
       "      <td>-2.410271</td>\n",
       "      <td>1.020152</td>\n",
       "      <td>0.290987</td>\n",
       "      <td>0.103867</td>\n",
       "    </tr>\n",
       "    <tr>\n",
       "      <th>3</th>\n",
       "      <td>0.165884</td>\n",
       "      <td>-0.474646</td>\n",
       "      <td>0.072896</td>\n",
       "      <td>0.882327</td>\n",
       "    </tr>\n",
       "    <tr>\n",
       "      <th>4</th>\n",
       "      <td>1.085219</td>\n",
       "      <td>-0.252234</td>\n",
       "      <td>1.571294</td>\n",
       "      <td>1.123941</td>\n",
       "    </tr>\n",
       "  </tbody>\n",
       "</table>\n",
       "</div>"
      ],
      "text/plain": [
       "          A         B         C         D\n",
       "0 -0.909305  1.971441  0.728067 -0.059700\n",
       "1  0.604083 -0.168480  0.848824 -0.727095\n",
       "2 -2.410271  1.020152  0.290987  0.103867\n",
       "3  0.165884 -0.474646  0.072896  0.882327\n",
       "4  1.085219 -0.252234  1.571294  1.123941"
      ]
     },
     "execution_count": 24,
     "metadata": {},
     "output_type": "execute_result"
    }
   ],
   "source": [
    "df.head()"
   ]
  },
  {
   "cell_type": "code",
   "execution_count": 25,
   "metadata": {},
   "outputs": [],
   "source": [
    "df2 = pd.DataFrame({'Category':['A','B','C'],'Values':[32,43,50]})"
   ]
  },
  {
   "cell_type": "code",
   "execution_count": 26,
   "metadata": {},
   "outputs": [
    {
     "data": {
      "text/html": [
       "<div>\n",
       "<style scoped>\n",
       "    .dataframe tbody tr th:only-of-type {\n",
       "        vertical-align: middle;\n",
       "    }\n",
       "\n",
       "    .dataframe tbody tr th {\n",
       "        vertical-align: top;\n",
       "    }\n",
       "\n",
       "    .dataframe thead th {\n",
       "        text-align: right;\n",
       "    }\n",
       "</style>\n",
       "<table border=\"1\" class=\"dataframe\">\n",
       "  <thead>\n",
       "    <tr style=\"text-align: right;\">\n",
       "      <th></th>\n",
       "      <th>Category</th>\n",
       "      <th>Values</th>\n",
       "    </tr>\n",
       "  </thead>\n",
       "  <tbody>\n",
       "    <tr>\n",
       "      <th>0</th>\n",
       "      <td>A</td>\n",
       "      <td>32</td>\n",
       "    </tr>\n",
       "    <tr>\n",
       "      <th>1</th>\n",
       "      <td>B</td>\n",
       "      <td>43</td>\n",
       "    </tr>\n",
       "    <tr>\n",
       "      <th>2</th>\n",
       "      <td>C</td>\n",
       "      <td>50</td>\n",
       "    </tr>\n",
       "  </tbody>\n",
       "</table>\n",
       "</div>"
      ],
      "text/plain": [
       "  Category  Values\n",
       "0        A      32\n",
       "1        B      43\n",
       "2        C      50"
      ]
     },
     "execution_count": 26,
     "metadata": {},
     "output_type": "execute_result"
    }
   ],
   "source": [
    "df2.head()"
   ]
  },
  {
   "cell_type": "markdown",
   "metadata": {},
   "source": [
    "## Using Cufflinks and iplot()\n",
    "\n",
    "* scatter\n",
    "* bar\n",
    "* box\n",
    "* spread\n",
    "* ratio\n",
    "* heatmap\n",
    "* surface\n",
    "* histogram\n",
    "* bubble"
   ]
  },
  {
   "cell_type": "markdown",
   "metadata": {},
   "source": [
    "## Scatter"
   ]
  },
  {
   "cell_type": "code",
   "execution_count": 27,
   "metadata": {},
   "outputs": [
    {
     "data": {
      "application/vnd.plotly.v1+json": {
       "config": {
        "linkText": "Export to plot.ly",
        "plotlyServerURL": "https://plot.ly",
        "showLink": true
       },
       "data": [
        {
         "line": {
          "color": "rgba(255, 153, 51, 1.0)",
          "dash": "solid",
          "shape": "linear",
          "width": 1.3
         },
         "marker": {
          "size": 10,
          "symbol": "circle"
         },
         "mode": "markers",
         "name": "B",
         "text": "",
         "type": "scatter",
         "x": [
          -0.9093054841012843,
          0.6040832399960773,
          -2.410271137195946,
          0.16588443929009308,
          1.0852191490067407,
          0.6250277127932178,
          -0.9246067333548268,
          1.0805265305902243,
          1.5725408394539233,
          0.5305774112893745,
          -1.0968365092075085,
          0.358422463579597,
          -0.23415335588614208,
          0.15470064036229597,
          -1.2258341941415993,
          0.2593542310596669,
          1.5207292232801048,
          0.6937829889514853,
          -1.064285675230406,
          -0.44560982863137766,
          -1.0906263710804303,
          1.9665199437015592,
          -0.3168671019465515,
          1.0662884587350903,
          0.52274830772359,
          -0.36628016461133656,
          -0.8474582771956716,
          1.1502604717661162,
          1.9461342218110398,
          -0.4650443159355485,
          -0.8168701770762032,
          -1.6513676718383128,
          0.03763777500553534,
          -0.8930695726250423,
          0.9944707976208484,
          -1.0317371061968406,
          -0.08534728128681522,
          -0.11154374643876049,
          -0.41021037304330565,
          -0.6932234768278271,
          0.46269386705795046,
          -1.2691305767830017,
          0.3914823573992438,
          -0.3325552370346851,
          0.4505119668619261,
          0.26267163704247304,
          0.6146339373666935,
          -0.00019986832009890844,
          -0.3562942496957231,
          1.1106410349742948,
          -0.4333466685561677,
          -0.6433360131302692,
          -0.8874917160851796,
          -0.8513536562439611,
          -0.05277980507992831,
          0.9196787192380568,
          -1.8824712139707094,
          -0.0027461866850745902,
          -0.02857973666903494,
          -0.6041682943303771,
          0.5017654389406031,
          -1.9697355871042415,
          0.6538225862413563,
          0.7165951809469918,
          0.05677784382488556,
          -1.141078681176908,
          1.3054036850528037,
          0.8351305395606717,
          -0.5254041188527706,
          -0.4577834507066193,
          -0.8005206812905147,
          1.6411028852562852,
          -1.0179121109648015,
          -1.100307719569913,
          0.24578712452507961,
          -0.8471375107617793,
          -0.3786013986846745,
          -0.7832461028994342,
          -0.24609091475376293,
          2.110724741197031,
          0.5651851649423003,
          -1.6974921370855955,
          -3.052601304677243,
          -0.9328402706436525,
          0.9777294759588954,
          -1.3736356963160077,
          -0.2568197552540412,
          -0.14252924846144352,
          -0.23946981078682242,
          -0.058466871907325725,
          -0.597456559381562,
          -2.1389872634159057,
          1.402282041961766,
          0.5274283741136507,
          -1.2594196492030272,
          -0.491214492828783,
          -1.3984069642976626,
          -2.4488941051712687,
          0.6371774376560045,
          -1.2528580901560282
         ],
         "y": [
          1.971440509710332,
          -0.16847988892318877,
          1.0201516777693376,
          -0.4746460566381103,
          -0.252233811330853,
          -0.812181070653521,
          0.08607180636893513,
          -0.02022449530412015,
          -0.1099275343296199,
          0.38663004425284286,
          -0.526558562979596,
          1.8595393195972616,
          -0.2554254965801771,
          -0.9141127018210553,
          0.06456255996214603,
          0.09207005623359946,
          -0.47783575200149025,
          0.09276314732860896,
          -1.531698896254452,
          -1.9987393236806141,
          -0.6049054502346282,
          0.8385800455756265,
          2.4409277500049287,
          -0.2651686762903576,
          -0.07027781766020814,
          1.4460735333923849,
          0.4062558151378958,
          2.9924417578949596,
          -0.6725291814251461,
          0.058275087784900724,
          -0.7180357045425773,
          -1.4032200530204344,
          -0.3150288706370873,
          0.47758875464697453,
          -0.8269771217614604,
          0.48172496799817244,
          -0.7453485529280233,
          2.2103985684031424,
          -0.6512343240750648,
          -1.0761589643558305,
          -0.3126827200482146,
          -0.7707723938441469,
          0.03761157401678399,
          0.38218995607893624,
          1.6232168368871616,
          -0.891991061325372,
          0.3081052691599786,
          -1.6742745874233398,
          -1.060786505394401,
          -1.224894225568253,
          -1.1418576917418655,
          0.7776014073963039,
          -2.0722908928193076,
          0.6269795454914691,
          -0.07363912387427204,
          1.0337073250918112,
          -0.8724424338268957,
          0.2944326120520341,
          1.1007166889351714,
          -1.0368444257918097,
          0.40581918123186206,
          1.3247223197113267,
          -0.5028529312192868,
          0.12826431985038722,
          -0.41298476969240855,
          -0.5122594907994159,
          -0.3767939408544858,
          -0.5483495771102112,
          0.23937351232956053,
          -0.1237189545660604,
          -1.6086158300274889,
          0.13255921177958058,
          0.6236563150256992,
          -1.7629134825954333,
          0.3965543697462627,
          -0.015246469369710672,
          0.6224378394650877,
          1.273204770270868,
          0.16522803860713273,
          0.21631887975698336,
          0.49296727355124675,
          -0.856555842632183,
          1.285461938030501,
          -1.5108562066320856,
          -0.5654639130801999,
          -0.2988083381094179,
          0.4455217374847133,
          0.47958439154709376,
          0.7371979486246891,
          0.4676197412857697,
          0.37248117726012064,
          -0.06150360692356444,
          0.011862471019332303,
          1.5119522400199887,
          -1.542085684981008,
          0.45531041190984595,
          -0.19489834876868772,
          0.30160750277151505,
          -0.04051459233187058,
          1.8329947771102855
         ]
        }
       ],
       "layout": {
        "legend": {
         "bgcolor": "#F5F6F9",
         "font": {
          "color": "#4D5663"
         }
        },
        "paper_bgcolor": "#F5F6F9",
        "plot_bgcolor": "#F5F6F9",
        "template": {
         "data": {
          "bar": [
           {
            "error_x": {
             "color": "#2a3f5f"
            },
            "error_y": {
             "color": "#2a3f5f"
            },
            "marker": {
             "line": {
              "color": "#E5ECF6",
              "width": 0.5
             }
            },
            "type": "bar"
           }
          ],
          "barpolar": [
           {
            "marker": {
             "line": {
              "color": "#E5ECF6",
              "width": 0.5
             }
            },
            "type": "barpolar"
           }
          ],
          "carpet": [
           {
            "aaxis": {
             "endlinecolor": "#2a3f5f",
             "gridcolor": "white",
             "linecolor": "white",
             "minorgridcolor": "white",
             "startlinecolor": "#2a3f5f"
            },
            "baxis": {
             "endlinecolor": "#2a3f5f",
             "gridcolor": "white",
             "linecolor": "white",
             "minorgridcolor": "white",
             "startlinecolor": "#2a3f5f"
            },
            "type": "carpet"
           }
          ],
          "choropleth": [
           {
            "colorbar": {
             "outlinewidth": 0,
             "ticks": ""
            },
            "type": "choropleth"
           }
          ],
          "contour": [
           {
            "colorbar": {
             "outlinewidth": 0,
             "ticks": ""
            },
            "colorscale": [
             [
              0,
              "#0d0887"
             ],
             [
              0.1111111111111111,
              "#46039f"
             ],
             [
              0.2222222222222222,
              "#7201a8"
             ],
             [
              0.3333333333333333,
              "#9c179e"
             ],
             [
              0.4444444444444444,
              "#bd3786"
             ],
             [
              0.5555555555555556,
              "#d8576b"
             ],
             [
              0.6666666666666666,
              "#ed7953"
             ],
             [
              0.7777777777777778,
              "#fb9f3a"
             ],
             [
              0.8888888888888888,
              "#fdca26"
             ],
             [
              1,
              "#f0f921"
             ]
            ],
            "type": "contour"
           }
          ],
          "contourcarpet": [
           {
            "colorbar": {
             "outlinewidth": 0,
             "ticks": ""
            },
            "type": "contourcarpet"
           }
          ],
          "heatmap": [
           {
            "colorbar": {
             "outlinewidth": 0,
             "ticks": ""
            },
            "colorscale": [
             [
              0,
              "#0d0887"
             ],
             [
              0.1111111111111111,
              "#46039f"
             ],
             [
              0.2222222222222222,
              "#7201a8"
             ],
             [
              0.3333333333333333,
              "#9c179e"
             ],
             [
              0.4444444444444444,
              "#bd3786"
             ],
             [
              0.5555555555555556,
              "#d8576b"
             ],
             [
              0.6666666666666666,
              "#ed7953"
             ],
             [
              0.7777777777777778,
              "#fb9f3a"
             ],
             [
              0.8888888888888888,
              "#fdca26"
             ],
             [
              1,
              "#f0f921"
             ]
            ],
            "type": "heatmap"
           }
          ],
          "heatmapgl": [
           {
            "colorbar": {
             "outlinewidth": 0,
             "ticks": ""
            },
            "colorscale": [
             [
              0,
              "#0d0887"
             ],
             [
              0.1111111111111111,
              "#46039f"
             ],
             [
              0.2222222222222222,
              "#7201a8"
             ],
             [
              0.3333333333333333,
              "#9c179e"
             ],
             [
              0.4444444444444444,
              "#bd3786"
             ],
             [
              0.5555555555555556,
              "#d8576b"
             ],
             [
              0.6666666666666666,
              "#ed7953"
             ],
             [
              0.7777777777777778,
              "#fb9f3a"
             ],
             [
              0.8888888888888888,
              "#fdca26"
             ],
             [
              1,
              "#f0f921"
             ]
            ],
            "type": "heatmapgl"
           }
          ],
          "histogram": [
           {
            "marker": {
             "colorbar": {
              "outlinewidth": 0,
              "ticks": ""
             }
            },
            "type": "histogram"
           }
          ],
          "histogram2d": [
           {
            "colorbar": {
             "outlinewidth": 0,
             "ticks": ""
            },
            "colorscale": [
             [
              0,
              "#0d0887"
             ],
             [
              0.1111111111111111,
              "#46039f"
             ],
             [
              0.2222222222222222,
              "#7201a8"
             ],
             [
              0.3333333333333333,
              "#9c179e"
             ],
             [
              0.4444444444444444,
              "#bd3786"
             ],
             [
              0.5555555555555556,
              "#d8576b"
             ],
             [
              0.6666666666666666,
              "#ed7953"
             ],
             [
              0.7777777777777778,
              "#fb9f3a"
             ],
             [
              0.8888888888888888,
              "#fdca26"
             ],
             [
              1,
              "#f0f921"
             ]
            ],
            "type": "histogram2d"
           }
          ],
          "histogram2dcontour": [
           {
            "colorbar": {
             "outlinewidth": 0,
             "ticks": ""
            },
            "colorscale": [
             [
              0,
              "#0d0887"
             ],
             [
              0.1111111111111111,
              "#46039f"
             ],
             [
              0.2222222222222222,
              "#7201a8"
             ],
             [
              0.3333333333333333,
              "#9c179e"
             ],
             [
              0.4444444444444444,
              "#bd3786"
             ],
             [
              0.5555555555555556,
              "#d8576b"
             ],
             [
              0.6666666666666666,
              "#ed7953"
             ],
             [
              0.7777777777777778,
              "#fb9f3a"
             ],
             [
              0.8888888888888888,
              "#fdca26"
             ],
             [
              1,
              "#f0f921"
             ]
            ],
            "type": "histogram2dcontour"
           }
          ],
          "mesh3d": [
           {
            "colorbar": {
             "outlinewidth": 0,
             "ticks": ""
            },
            "type": "mesh3d"
           }
          ],
          "parcoords": [
           {
            "line": {
             "colorbar": {
              "outlinewidth": 0,
              "ticks": ""
             }
            },
            "type": "parcoords"
           }
          ],
          "pie": [
           {
            "automargin": true,
            "type": "pie"
           }
          ],
          "scatter": [
           {
            "marker": {
             "colorbar": {
              "outlinewidth": 0,
              "ticks": ""
             }
            },
            "type": "scatter"
           }
          ],
          "scatter3d": [
           {
            "line": {
             "colorbar": {
              "outlinewidth": 0,
              "ticks": ""
             }
            },
            "marker": {
             "colorbar": {
              "outlinewidth": 0,
              "ticks": ""
             }
            },
            "type": "scatter3d"
           }
          ],
          "scattercarpet": [
           {
            "marker": {
             "colorbar": {
              "outlinewidth": 0,
              "ticks": ""
             }
            },
            "type": "scattercarpet"
           }
          ],
          "scattergeo": [
           {
            "marker": {
             "colorbar": {
              "outlinewidth": 0,
              "ticks": ""
             }
            },
            "type": "scattergeo"
           }
          ],
          "scattergl": [
           {
            "marker": {
             "colorbar": {
              "outlinewidth": 0,
              "ticks": ""
             }
            },
            "type": "scattergl"
           }
          ],
          "scattermapbox": [
           {
            "marker": {
             "colorbar": {
              "outlinewidth": 0,
              "ticks": ""
             }
            },
            "type": "scattermapbox"
           }
          ],
          "scatterpolar": [
           {
            "marker": {
             "colorbar": {
              "outlinewidth": 0,
              "ticks": ""
             }
            },
            "type": "scatterpolar"
           }
          ],
          "scatterpolargl": [
           {
            "marker": {
             "colorbar": {
              "outlinewidth": 0,
              "ticks": ""
             }
            },
            "type": "scatterpolargl"
           }
          ],
          "scatterternary": [
           {
            "marker": {
             "colorbar": {
              "outlinewidth": 0,
              "ticks": ""
             }
            },
            "type": "scatterternary"
           }
          ],
          "surface": [
           {
            "colorbar": {
             "outlinewidth": 0,
             "ticks": ""
            },
            "colorscale": [
             [
              0,
              "#0d0887"
             ],
             [
              0.1111111111111111,
              "#46039f"
             ],
             [
              0.2222222222222222,
              "#7201a8"
             ],
             [
              0.3333333333333333,
              "#9c179e"
             ],
             [
              0.4444444444444444,
              "#bd3786"
             ],
             [
              0.5555555555555556,
              "#d8576b"
             ],
             [
              0.6666666666666666,
              "#ed7953"
             ],
             [
              0.7777777777777778,
              "#fb9f3a"
             ],
             [
              0.8888888888888888,
              "#fdca26"
             ],
             [
              1,
              "#f0f921"
             ]
            ],
            "type": "surface"
           }
          ],
          "table": [
           {
            "cells": {
             "fill": {
              "color": "#EBF0F8"
             },
             "line": {
              "color": "white"
             }
            },
            "header": {
             "fill": {
              "color": "#C8D4E3"
             },
             "line": {
              "color": "white"
             }
            },
            "type": "table"
           }
          ]
         },
         "layout": {
          "annotationdefaults": {
           "arrowcolor": "#2a3f5f",
           "arrowhead": 0,
           "arrowwidth": 1
          },
          "coloraxis": {
           "colorbar": {
            "outlinewidth": 0,
            "ticks": ""
           }
          },
          "colorscale": {
           "diverging": [
            [
             0,
             "#8e0152"
            ],
            [
             0.1,
             "#c51b7d"
            ],
            [
             0.2,
             "#de77ae"
            ],
            [
             0.3,
             "#f1b6da"
            ],
            [
             0.4,
             "#fde0ef"
            ],
            [
             0.5,
             "#f7f7f7"
            ],
            [
             0.6,
             "#e6f5d0"
            ],
            [
             0.7,
             "#b8e186"
            ],
            [
             0.8,
             "#7fbc41"
            ],
            [
             0.9,
             "#4d9221"
            ],
            [
             1,
             "#276419"
            ]
           ],
           "sequential": [
            [
             0,
             "#0d0887"
            ],
            [
             0.1111111111111111,
             "#46039f"
            ],
            [
             0.2222222222222222,
             "#7201a8"
            ],
            [
             0.3333333333333333,
             "#9c179e"
            ],
            [
             0.4444444444444444,
             "#bd3786"
            ],
            [
             0.5555555555555556,
             "#d8576b"
            ],
            [
             0.6666666666666666,
             "#ed7953"
            ],
            [
             0.7777777777777778,
             "#fb9f3a"
            ],
            [
             0.8888888888888888,
             "#fdca26"
            ],
            [
             1,
             "#f0f921"
            ]
           ],
           "sequentialminus": [
            [
             0,
             "#0d0887"
            ],
            [
             0.1111111111111111,
             "#46039f"
            ],
            [
             0.2222222222222222,
             "#7201a8"
            ],
            [
             0.3333333333333333,
             "#9c179e"
            ],
            [
             0.4444444444444444,
             "#bd3786"
            ],
            [
             0.5555555555555556,
             "#d8576b"
            ],
            [
             0.6666666666666666,
             "#ed7953"
            ],
            [
             0.7777777777777778,
             "#fb9f3a"
            ],
            [
             0.8888888888888888,
             "#fdca26"
            ],
            [
             1,
             "#f0f921"
            ]
           ]
          },
          "colorway": [
           "#636efa",
           "#EF553B",
           "#00cc96",
           "#ab63fa",
           "#FFA15A",
           "#19d3f3",
           "#FF6692",
           "#B6E880",
           "#FF97FF",
           "#FECB52"
          ],
          "font": {
           "color": "#2a3f5f"
          },
          "geo": {
           "bgcolor": "white",
           "lakecolor": "white",
           "landcolor": "#E5ECF6",
           "showlakes": true,
           "showland": true,
           "subunitcolor": "white"
          },
          "hoverlabel": {
           "align": "left"
          },
          "hovermode": "closest",
          "mapbox": {
           "style": "light"
          },
          "paper_bgcolor": "white",
          "plot_bgcolor": "#E5ECF6",
          "polar": {
           "angularaxis": {
            "gridcolor": "white",
            "linecolor": "white",
            "ticks": ""
           },
           "bgcolor": "#E5ECF6",
           "radialaxis": {
            "gridcolor": "white",
            "linecolor": "white",
            "ticks": ""
           }
          },
          "scene": {
           "xaxis": {
            "backgroundcolor": "#E5ECF6",
            "gridcolor": "white",
            "gridwidth": 2,
            "linecolor": "white",
            "showbackground": true,
            "ticks": "",
            "zerolinecolor": "white"
           },
           "yaxis": {
            "backgroundcolor": "#E5ECF6",
            "gridcolor": "white",
            "gridwidth": 2,
            "linecolor": "white",
            "showbackground": true,
            "ticks": "",
            "zerolinecolor": "white"
           },
           "zaxis": {
            "backgroundcolor": "#E5ECF6",
            "gridcolor": "white",
            "gridwidth": 2,
            "linecolor": "white",
            "showbackground": true,
            "ticks": "",
            "zerolinecolor": "white"
           }
          },
          "shapedefaults": {
           "line": {
            "color": "#2a3f5f"
           }
          },
          "ternary": {
           "aaxis": {
            "gridcolor": "white",
            "linecolor": "white",
            "ticks": ""
           },
           "baxis": {
            "gridcolor": "white",
            "linecolor": "white",
            "ticks": ""
           },
           "bgcolor": "#E5ECF6",
           "caxis": {
            "gridcolor": "white",
            "linecolor": "white",
            "ticks": ""
           }
          },
          "title": {
           "x": 0.05
          },
          "xaxis": {
           "automargin": true,
           "gridcolor": "white",
           "linecolor": "white",
           "ticks": "",
           "title": {
            "standoff": 15
           },
           "zerolinecolor": "white",
           "zerolinewidth": 2
          },
          "yaxis": {
           "automargin": true,
           "gridcolor": "white",
           "linecolor": "white",
           "ticks": "",
           "title": {
            "standoff": 15
           },
           "zerolinecolor": "white",
           "zerolinewidth": 2
          }
         }
        },
        "title": {
         "font": {
          "color": "#4D5663"
         }
        },
        "xaxis": {
         "gridcolor": "#E1E5ED",
         "showgrid": true,
         "tickfont": {
          "color": "#4D5663"
         },
         "title": {
          "font": {
           "color": "#4D5663"
          },
          "text": ""
         },
         "zerolinecolor": "#E1E5ED"
        },
        "yaxis": {
         "gridcolor": "#E1E5ED",
         "showgrid": true,
         "tickfont": {
          "color": "#4D5663"
         },
         "title": {
          "font": {
           "color": "#4D5663"
          },
          "text": ""
         },
         "zerolinecolor": "#E1E5ED"
        }
       }
      },
      "text/html": [
       "<div>\n",
       "        \n",
       "        \n",
       "            <div id=\"4111bad1-46b1-4289-b6ad-01f62200d0bc\" class=\"plotly-graph-div\" style=\"height:525px; width:100%;\"></div>\n",
       "            <script type=\"text/javascript\">\n",
       "                require([\"plotly\"], function(Plotly) {\n",
       "                    window.PLOTLYENV=window.PLOTLYENV || {};\n",
       "                    window.PLOTLYENV.BASE_URL='https://plot.ly';\n",
       "                    \n",
       "                if (document.getElementById(\"4111bad1-46b1-4289-b6ad-01f62200d0bc\")) {\n",
       "                    Plotly.newPlot(\n",
       "                        '4111bad1-46b1-4289-b6ad-01f62200d0bc',\n",
       "                        [{\"line\": {\"color\": \"rgba(255, 153, 51, 1.0)\", \"dash\": \"solid\", \"shape\": \"linear\", \"width\": 1.3}, \"marker\": {\"size\": 10, \"symbol\": \"circle\"}, \"mode\": \"markers\", \"name\": \"B\", \"text\": \"\", \"type\": \"scatter\", \"x\": [-0.9093054841012843, 0.6040832399960773, -2.410271137195946, 0.16588443929009308, 1.0852191490067407, 0.6250277127932178, -0.9246067333548268, 1.0805265305902243, 1.5725408394539233, 0.5305774112893745, -1.0968365092075085, 0.358422463579597, -0.23415335588614208, 0.15470064036229597, -1.2258341941415993, 0.2593542310596669, 1.5207292232801048, 0.6937829889514853, -1.064285675230406, -0.44560982863137766, -1.0906263710804303, 1.9665199437015592, -0.3168671019465515, 1.0662884587350903, 0.52274830772359, -0.36628016461133656, -0.8474582771956716, 1.1502604717661162, 1.9461342218110398, -0.4650443159355485, -0.8168701770762032, -1.6513676718383128, 0.03763777500553534, -0.8930695726250423, 0.9944707976208484, -1.0317371061968406, -0.08534728128681522, -0.11154374643876049, -0.41021037304330565, -0.6932234768278271, 0.46269386705795046, -1.2691305767830017, 0.3914823573992438, -0.3325552370346851, 0.4505119668619261, 0.26267163704247304, 0.6146339373666935, -0.00019986832009890844, -0.3562942496957231, 1.1106410349742948, -0.4333466685561677, -0.6433360131302692, -0.8874917160851796, -0.8513536562439611, -0.05277980507992831, 0.9196787192380568, -1.8824712139707094, -0.0027461866850745902, -0.02857973666903494, -0.6041682943303771, 0.5017654389406031, -1.9697355871042415, 0.6538225862413563, 0.7165951809469918, 0.05677784382488556, -1.141078681176908, 1.3054036850528037, 0.8351305395606717, -0.5254041188527706, -0.4577834507066193, -0.8005206812905147, 1.6411028852562852, -1.0179121109648015, -1.100307719569913, 0.24578712452507961, -0.8471375107617793, -0.3786013986846745, -0.7832461028994342, -0.24609091475376293, 2.110724741197031, 0.5651851649423003, -1.6974921370855955, -3.052601304677243, -0.9328402706436525, 0.9777294759588954, -1.3736356963160077, -0.2568197552540412, -0.14252924846144352, -0.23946981078682242, -0.058466871907325725, -0.597456559381562, -2.1389872634159057, 1.402282041961766, 0.5274283741136507, -1.2594196492030272, -0.491214492828783, -1.3984069642976626, -2.4488941051712687, 0.6371774376560045, -1.2528580901560282], \"y\": [1.971440509710332, -0.16847988892318877, 1.0201516777693376, -0.4746460566381103, -0.252233811330853, -0.812181070653521, 0.08607180636893513, -0.02022449530412015, -0.1099275343296199, 0.38663004425284286, -0.526558562979596, 1.8595393195972616, -0.2554254965801771, -0.9141127018210553, 0.06456255996214603, 0.09207005623359946, -0.47783575200149025, 0.09276314732860896, -1.531698896254452, -1.9987393236806141, -0.6049054502346282, 0.8385800455756265, 2.4409277500049287, -0.2651686762903576, -0.07027781766020814, 1.4460735333923849, 0.4062558151378958, 2.9924417578949596, -0.6725291814251461, 0.058275087784900724, -0.7180357045425773, -1.4032200530204344, -0.3150288706370873, 0.47758875464697453, -0.8269771217614604, 0.48172496799817244, -0.7453485529280233, 2.2103985684031424, -0.6512343240750648, -1.0761589643558305, -0.3126827200482146, -0.7707723938441469, 0.03761157401678399, 0.38218995607893624, 1.6232168368871616, -0.891991061325372, 0.3081052691599786, -1.6742745874233398, -1.060786505394401, -1.224894225568253, -1.1418576917418655, 0.7776014073963039, -2.0722908928193076, 0.6269795454914691, -0.07363912387427204, 1.0337073250918112, -0.8724424338268957, 0.2944326120520341, 1.1007166889351714, -1.0368444257918097, 0.40581918123186206, 1.3247223197113267, -0.5028529312192868, 0.12826431985038722, -0.41298476969240855, -0.5122594907994159, -0.3767939408544858, -0.5483495771102112, 0.23937351232956053, -0.1237189545660604, -1.6086158300274889, 0.13255921177958058, 0.6236563150256992, -1.7629134825954333, 0.3965543697462627, -0.015246469369710672, 0.6224378394650877, 1.273204770270868, 0.16522803860713273, 0.21631887975698336, 0.49296727355124675, -0.856555842632183, 1.285461938030501, -1.5108562066320856, -0.5654639130801999, -0.2988083381094179, 0.4455217374847133, 0.47958439154709376, 0.7371979486246891, 0.4676197412857697, 0.37248117726012064, -0.06150360692356444, 0.011862471019332303, 1.5119522400199887, -1.542085684981008, 0.45531041190984595, -0.19489834876868772, 0.30160750277151505, -0.04051459233187058, 1.8329947771102855]}],\n",
       "                        {\"legend\": {\"bgcolor\": \"#F5F6F9\", \"font\": {\"color\": \"#4D5663\"}}, \"paper_bgcolor\": \"#F5F6F9\", \"plot_bgcolor\": \"#F5F6F9\", \"template\": {\"data\": {\"bar\": [{\"error_x\": {\"color\": \"#2a3f5f\"}, \"error_y\": {\"color\": \"#2a3f5f\"}, \"marker\": {\"line\": {\"color\": \"#E5ECF6\", \"width\": 0.5}}, \"type\": \"bar\"}], \"barpolar\": [{\"marker\": {\"line\": {\"color\": \"#E5ECF6\", \"width\": 0.5}}, \"type\": \"barpolar\"}], \"carpet\": [{\"aaxis\": {\"endlinecolor\": \"#2a3f5f\", \"gridcolor\": \"white\", \"linecolor\": \"white\", \"minorgridcolor\": \"white\", \"startlinecolor\": \"#2a3f5f\"}, \"baxis\": {\"endlinecolor\": \"#2a3f5f\", \"gridcolor\": \"white\", \"linecolor\": \"white\", \"minorgridcolor\": \"white\", \"startlinecolor\": \"#2a3f5f\"}, \"type\": \"carpet\"}], \"choropleth\": [{\"colorbar\": {\"outlinewidth\": 0, \"ticks\": \"\"}, \"type\": \"choropleth\"}], \"contour\": [{\"colorbar\": {\"outlinewidth\": 0, \"ticks\": \"\"}, \"colorscale\": [[0.0, \"#0d0887\"], [0.1111111111111111, \"#46039f\"], [0.2222222222222222, \"#7201a8\"], [0.3333333333333333, \"#9c179e\"], [0.4444444444444444, \"#bd3786\"], [0.5555555555555556, \"#d8576b\"], [0.6666666666666666, \"#ed7953\"], [0.7777777777777778, \"#fb9f3a\"], [0.8888888888888888, \"#fdca26\"], [1.0, \"#f0f921\"]], \"type\": \"contour\"}], \"contourcarpet\": [{\"colorbar\": {\"outlinewidth\": 0, \"ticks\": \"\"}, \"type\": \"contourcarpet\"}], \"heatmap\": [{\"colorbar\": {\"outlinewidth\": 0, \"ticks\": \"\"}, \"colorscale\": [[0.0, \"#0d0887\"], [0.1111111111111111, \"#46039f\"], [0.2222222222222222, \"#7201a8\"], [0.3333333333333333, \"#9c179e\"], [0.4444444444444444, \"#bd3786\"], [0.5555555555555556, \"#d8576b\"], [0.6666666666666666, \"#ed7953\"], [0.7777777777777778, \"#fb9f3a\"], [0.8888888888888888, \"#fdca26\"], [1.0, \"#f0f921\"]], \"type\": \"heatmap\"}], \"heatmapgl\": [{\"colorbar\": {\"outlinewidth\": 0, \"ticks\": \"\"}, \"colorscale\": [[0.0, \"#0d0887\"], [0.1111111111111111, \"#46039f\"], [0.2222222222222222, \"#7201a8\"], [0.3333333333333333, \"#9c179e\"], [0.4444444444444444, \"#bd3786\"], [0.5555555555555556, \"#d8576b\"], [0.6666666666666666, \"#ed7953\"], [0.7777777777777778, \"#fb9f3a\"], [0.8888888888888888, \"#fdca26\"], [1.0, \"#f0f921\"]], \"type\": \"heatmapgl\"}], \"histogram\": [{\"marker\": {\"colorbar\": {\"outlinewidth\": 0, \"ticks\": \"\"}}, \"type\": \"histogram\"}], \"histogram2d\": [{\"colorbar\": {\"outlinewidth\": 0, \"ticks\": \"\"}, \"colorscale\": [[0.0, \"#0d0887\"], [0.1111111111111111, \"#46039f\"], [0.2222222222222222, \"#7201a8\"], [0.3333333333333333, \"#9c179e\"], [0.4444444444444444, \"#bd3786\"], [0.5555555555555556, \"#d8576b\"], [0.6666666666666666, \"#ed7953\"], [0.7777777777777778, \"#fb9f3a\"], [0.8888888888888888, \"#fdca26\"], [1.0, \"#f0f921\"]], \"type\": \"histogram2d\"}], \"histogram2dcontour\": [{\"colorbar\": {\"outlinewidth\": 0, \"ticks\": \"\"}, \"colorscale\": [[0.0, \"#0d0887\"], [0.1111111111111111, \"#46039f\"], [0.2222222222222222, \"#7201a8\"], [0.3333333333333333, \"#9c179e\"], [0.4444444444444444, \"#bd3786\"], [0.5555555555555556, \"#d8576b\"], [0.6666666666666666, \"#ed7953\"], [0.7777777777777778, \"#fb9f3a\"], [0.8888888888888888, \"#fdca26\"], [1.0, \"#f0f921\"]], \"type\": \"histogram2dcontour\"}], \"mesh3d\": [{\"colorbar\": {\"outlinewidth\": 0, \"ticks\": \"\"}, \"type\": \"mesh3d\"}], \"parcoords\": [{\"line\": {\"colorbar\": {\"outlinewidth\": 0, \"ticks\": \"\"}}, \"type\": \"parcoords\"}], \"pie\": [{\"automargin\": true, \"type\": \"pie\"}], \"scatter\": [{\"marker\": {\"colorbar\": {\"outlinewidth\": 0, \"ticks\": \"\"}}, \"type\": \"scatter\"}], \"scatter3d\": [{\"line\": {\"colorbar\": {\"outlinewidth\": 0, \"ticks\": \"\"}}, \"marker\": {\"colorbar\": {\"outlinewidth\": 0, \"ticks\": \"\"}}, \"type\": \"scatter3d\"}], \"scattercarpet\": [{\"marker\": {\"colorbar\": {\"outlinewidth\": 0, \"ticks\": \"\"}}, \"type\": \"scattercarpet\"}], \"scattergeo\": [{\"marker\": {\"colorbar\": {\"outlinewidth\": 0, \"ticks\": \"\"}}, \"type\": \"scattergeo\"}], \"scattergl\": [{\"marker\": {\"colorbar\": {\"outlinewidth\": 0, \"ticks\": \"\"}}, \"type\": \"scattergl\"}], \"scattermapbox\": [{\"marker\": {\"colorbar\": {\"outlinewidth\": 0, \"ticks\": \"\"}}, \"type\": \"scattermapbox\"}], \"scatterpolar\": [{\"marker\": {\"colorbar\": {\"outlinewidth\": 0, \"ticks\": \"\"}}, \"type\": \"scatterpolar\"}], \"scatterpolargl\": [{\"marker\": {\"colorbar\": {\"outlinewidth\": 0, \"ticks\": \"\"}}, \"type\": \"scatterpolargl\"}], \"scatterternary\": [{\"marker\": {\"colorbar\": {\"outlinewidth\": 0, \"ticks\": \"\"}}, \"type\": \"scatterternary\"}], \"surface\": [{\"colorbar\": {\"outlinewidth\": 0, \"ticks\": \"\"}, \"colorscale\": [[0.0, \"#0d0887\"], [0.1111111111111111, \"#46039f\"], [0.2222222222222222, \"#7201a8\"], [0.3333333333333333, \"#9c179e\"], [0.4444444444444444, \"#bd3786\"], [0.5555555555555556, \"#d8576b\"], [0.6666666666666666, \"#ed7953\"], [0.7777777777777778, \"#fb9f3a\"], [0.8888888888888888, \"#fdca26\"], [1.0, \"#f0f921\"]], \"type\": \"surface\"}], \"table\": [{\"cells\": {\"fill\": {\"color\": \"#EBF0F8\"}, \"line\": {\"color\": \"white\"}}, \"header\": {\"fill\": {\"color\": \"#C8D4E3\"}, \"line\": {\"color\": \"white\"}}, \"type\": \"table\"}]}, \"layout\": {\"annotationdefaults\": {\"arrowcolor\": \"#2a3f5f\", \"arrowhead\": 0, \"arrowwidth\": 1}, \"coloraxis\": {\"colorbar\": {\"outlinewidth\": 0, \"ticks\": \"\"}}, \"colorscale\": {\"diverging\": [[0, \"#8e0152\"], [0.1, \"#c51b7d\"], [0.2, \"#de77ae\"], [0.3, \"#f1b6da\"], [0.4, \"#fde0ef\"], [0.5, \"#f7f7f7\"], [0.6, \"#e6f5d0\"], [0.7, \"#b8e186\"], [0.8, \"#7fbc41\"], [0.9, \"#4d9221\"], [1, \"#276419\"]], \"sequential\": [[0.0, \"#0d0887\"], [0.1111111111111111, \"#46039f\"], [0.2222222222222222, \"#7201a8\"], [0.3333333333333333, \"#9c179e\"], [0.4444444444444444, \"#bd3786\"], [0.5555555555555556, \"#d8576b\"], [0.6666666666666666, \"#ed7953\"], [0.7777777777777778, \"#fb9f3a\"], [0.8888888888888888, \"#fdca26\"], [1.0, \"#f0f921\"]], \"sequentialminus\": [[0.0, \"#0d0887\"], [0.1111111111111111, \"#46039f\"], [0.2222222222222222, \"#7201a8\"], [0.3333333333333333, \"#9c179e\"], [0.4444444444444444, \"#bd3786\"], [0.5555555555555556, \"#d8576b\"], [0.6666666666666666, \"#ed7953\"], [0.7777777777777778, \"#fb9f3a\"], [0.8888888888888888, \"#fdca26\"], [1.0, \"#f0f921\"]]}, \"colorway\": [\"#636efa\", \"#EF553B\", \"#00cc96\", \"#ab63fa\", \"#FFA15A\", \"#19d3f3\", \"#FF6692\", \"#B6E880\", \"#FF97FF\", \"#FECB52\"], \"font\": {\"color\": \"#2a3f5f\"}, \"geo\": {\"bgcolor\": \"white\", \"lakecolor\": \"white\", \"landcolor\": \"#E5ECF6\", \"showlakes\": true, \"showland\": true, \"subunitcolor\": \"white\"}, \"hoverlabel\": {\"align\": \"left\"}, \"hovermode\": \"closest\", \"mapbox\": {\"style\": \"light\"}, \"paper_bgcolor\": \"white\", \"plot_bgcolor\": \"#E5ECF6\", \"polar\": {\"angularaxis\": {\"gridcolor\": \"white\", \"linecolor\": \"white\", \"ticks\": \"\"}, \"bgcolor\": \"#E5ECF6\", \"radialaxis\": {\"gridcolor\": \"white\", \"linecolor\": \"white\", \"ticks\": \"\"}}, \"scene\": {\"xaxis\": {\"backgroundcolor\": \"#E5ECF6\", \"gridcolor\": \"white\", \"gridwidth\": 2, \"linecolor\": \"white\", \"showbackground\": true, \"ticks\": \"\", \"zerolinecolor\": \"white\"}, \"yaxis\": {\"backgroundcolor\": \"#E5ECF6\", \"gridcolor\": \"white\", \"gridwidth\": 2, \"linecolor\": \"white\", \"showbackground\": true, \"ticks\": \"\", \"zerolinecolor\": \"white\"}, \"zaxis\": {\"backgroundcolor\": \"#E5ECF6\", \"gridcolor\": \"white\", \"gridwidth\": 2, \"linecolor\": \"white\", \"showbackground\": true, \"ticks\": \"\", \"zerolinecolor\": \"white\"}}, \"shapedefaults\": {\"line\": {\"color\": \"#2a3f5f\"}}, \"ternary\": {\"aaxis\": {\"gridcolor\": \"white\", \"linecolor\": \"white\", \"ticks\": \"\"}, \"baxis\": {\"gridcolor\": \"white\", \"linecolor\": \"white\", \"ticks\": \"\"}, \"bgcolor\": \"#E5ECF6\", \"caxis\": {\"gridcolor\": \"white\", \"linecolor\": \"white\", \"ticks\": \"\"}}, \"title\": {\"x\": 0.05}, \"xaxis\": {\"automargin\": true, \"gridcolor\": \"white\", \"linecolor\": \"white\", \"ticks\": \"\", \"title\": {\"standoff\": 15}, \"zerolinecolor\": \"white\", \"zerolinewidth\": 2}, \"yaxis\": {\"automargin\": true, \"gridcolor\": \"white\", \"linecolor\": \"white\", \"ticks\": \"\", \"title\": {\"standoff\": 15}, \"zerolinecolor\": \"white\", \"zerolinewidth\": 2}}}, \"title\": {\"font\": {\"color\": \"#4D5663\"}}, \"xaxis\": {\"gridcolor\": \"#E1E5ED\", \"showgrid\": true, \"tickfont\": {\"color\": \"#4D5663\"}, \"title\": {\"font\": {\"color\": \"#4D5663\"}, \"text\": \"\"}, \"zerolinecolor\": \"#E1E5ED\"}, \"yaxis\": {\"gridcolor\": \"#E1E5ED\", \"showgrid\": true, \"tickfont\": {\"color\": \"#4D5663\"}, \"title\": {\"font\": {\"color\": \"#4D5663\"}, \"text\": \"\"}, \"zerolinecolor\": \"#E1E5ED\"}},\n",
       "                        {\"showLink\": true, \"linkText\": \"Export to plot.ly\", \"plotlyServerURL\": \"https://plot.ly\", \"responsive\": true}\n",
       "                    ).then(function(){\n",
       "                            \n",
       "var gd = document.getElementById('4111bad1-46b1-4289-b6ad-01f62200d0bc');\n",
       "var x = new MutationObserver(function (mutations, observer) {{\n",
       "        var display = window.getComputedStyle(gd).display;\n",
       "        if (!display || display === 'none') {{\n",
       "            console.log([gd, 'removed!']);\n",
       "            Plotly.purge(gd);\n",
       "            observer.disconnect();\n",
       "        }}\n",
       "}});\n",
       "\n",
       "// Listen for the removal of the full notebook cells\n",
       "var notebookContainer = gd.closest('#notebook-container');\n",
       "if (notebookContainer) {{\n",
       "    x.observe(notebookContainer, {childList: true});\n",
       "}}\n",
       "\n",
       "// Listen for the clearing of the current output cell\n",
       "var outputEl = gd.closest('.output');\n",
       "if (outputEl) {{\n",
       "    x.observe(outputEl, {childList: true});\n",
       "}}\n",
       "\n",
       "                        })\n",
       "                };\n",
       "                });\n",
       "            </script>\n",
       "        </div>"
      ]
     },
     "metadata": {},
     "output_type": "display_data"
    }
   ],
   "source": [
    "df.iplot(kind='scatter',x='A',y='B',mode='markers',size=10)"
   ]
  },
  {
   "cell_type": "code",
   "execution_count": 36,
   "metadata": {},
   "outputs": [
    {
     "data": {
      "application/vnd.plotly.v1+json": {
       "config": {
        "linkText": "Export to plot.ly",
        "plotlyServerURL": "https://plot.ly",
        "showLink": true
       },
       "data": [
        {
         "line": {
          "color": "rgba(255, 153, 51, 1.0)",
          "dash": "solid",
          "shape": "linear",
          "width": 1.3
         },
         "mode": "lines",
         "name": "A",
         "text": "",
         "type": "scatter",
         "x": [
          0,
          1,
          2,
          3,
          4,
          5,
          6,
          7,
          8,
          9,
          10,
          11,
          12,
          13,
          14,
          15,
          16,
          17,
          18,
          19,
          20,
          21,
          22,
          23,
          24,
          25,
          26,
          27,
          28,
          29,
          30,
          31,
          32,
          33,
          34,
          35,
          36,
          37,
          38,
          39,
          40,
          41,
          42,
          43,
          44,
          45,
          46,
          47,
          48,
          49,
          50,
          51,
          52,
          53,
          54,
          55,
          56,
          57,
          58,
          59,
          60,
          61,
          62,
          63,
          64,
          65,
          66,
          67,
          68,
          69,
          70,
          71,
          72,
          73,
          74,
          75,
          76,
          77,
          78,
          79,
          80,
          81,
          82,
          83,
          84,
          85,
          86,
          87,
          88,
          89,
          90,
          91,
          92,
          93,
          94,
          95,
          96,
          97,
          98,
          99
         ],
         "y": [
          -0.9093054841012843,
          0.6040832399960773,
          -2.410271137195946,
          0.16588443929009308,
          1.0852191490067407,
          0.6250277127932178,
          -0.9246067333548268,
          1.0805265305902243,
          1.5725408394539233,
          0.5305774112893745,
          -1.0968365092075085,
          0.358422463579597,
          -0.23415335588614208,
          0.15470064036229597,
          -1.2258341941415993,
          0.2593542310596669,
          1.5207292232801048,
          0.6937829889514853,
          -1.064285675230406,
          -0.44560982863137766,
          -1.0906263710804303,
          1.9665199437015592,
          -0.3168671019465515,
          1.0662884587350903,
          0.52274830772359,
          -0.36628016461133656,
          -0.8474582771956716,
          1.1502604717661162,
          1.9461342218110398,
          -0.4650443159355485,
          -0.8168701770762032,
          -1.6513676718383128,
          0.03763777500553534,
          -0.8930695726250423,
          0.9944707976208484,
          -1.0317371061968406,
          -0.08534728128681522,
          -0.11154374643876049,
          -0.41021037304330565,
          -0.6932234768278271,
          0.46269386705795046,
          -1.2691305767830017,
          0.3914823573992438,
          -0.3325552370346851,
          0.4505119668619261,
          0.26267163704247304,
          0.6146339373666935,
          -0.00019986832009890844,
          -0.3562942496957231,
          1.1106410349742948,
          -0.4333466685561677,
          -0.6433360131302692,
          -0.8874917160851796,
          -0.8513536562439611,
          -0.05277980507992831,
          0.9196787192380568,
          -1.8824712139707094,
          -0.0027461866850745902,
          -0.02857973666903494,
          -0.6041682943303771,
          0.5017654389406031,
          -1.9697355871042415,
          0.6538225862413563,
          0.7165951809469918,
          0.05677784382488556,
          -1.141078681176908,
          1.3054036850528037,
          0.8351305395606717,
          -0.5254041188527706,
          -0.4577834507066193,
          -0.8005206812905147,
          1.6411028852562852,
          -1.0179121109648015,
          -1.100307719569913,
          0.24578712452507961,
          -0.8471375107617793,
          -0.3786013986846745,
          -0.7832461028994342,
          -0.24609091475376293,
          2.110724741197031,
          0.5651851649423003,
          -1.6974921370855955,
          -3.052601304677243,
          -0.9328402706436525,
          0.9777294759588954,
          -1.3736356963160077,
          -0.2568197552540412,
          -0.14252924846144352,
          -0.23946981078682242,
          -0.058466871907325725,
          -0.597456559381562,
          -2.1389872634159057,
          1.402282041961766,
          0.5274283741136507,
          -1.2594196492030272,
          -0.491214492828783,
          -1.3984069642976626,
          -2.4488941051712687,
          0.6371774376560045,
          -1.2528580901560282
         ]
        },
        {
         "line": {
          "color": "rgba(55, 128, 191, 1.0)",
          "dash": "solid",
          "shape": "linear",
          "width": 1.3
         },
         "mode": "lines",
         "name": "B",
         "text": "",
         "type": "scatter",
         "x": [
          0,
          1,
          2,
          3,
          4,
          5,
          6,
          7,
          8,
          9,
          10,
          11,
          12,
          13,
          14,
          15,
          16,
          17,
          18,
          19,
          20,
          21,
          22,
          23,
          24,
          25,
          26,
          27,
          28,
          29,
          30,
          31,
          32,
          33,
          34,
          35,
          36,
          37,
          38,
          39,
          40,
          41,
          42,
          43,
          44,
          45,
          46,
          47,
          48,
          49,
          50,
          51,
          52,
          53,
          54,
          55,
          56,
          57,
          58,
          59,
          60,
          61,
          62,
          63,
          64,
          65,
          66,
          67,
          68,
          69,
          70,
          71,
          72,
          73,
          74,
          75,
          76,
          77,
          78,
          79,
          80,
          81,
          82,
          83,
          84,
          85,
          86,
          87,
          88,
          89,
          90,
          91,
          92,
          93,
          94,
          95,
          96,
          97,
          98,
          99
         ],
         "y": [
          1.971440509710332,
          -0.16847988892318877,
          1.0201516777693376,
          -0.4746460566381103,
          -0.252233811330853,
          -0.812181070653521,
          0.08607180636893513,
          -0.02022449530412015,
          -0.1099275343296199,
          0.38663004425284286,
          -0.526558562979596,
          1.8595393195972616,
          -0.2554254965801771,
          -0.9141127018210553,
          0.06456255996214603,
          0.09207005623359946,
          -0.47783575200149025,
          0.09276314732860896,
          -1.531698896254452,
          -1.9987393236806141,
          -0.6049054502346282,
          0.8385800455756265,
          2.4409277500049287,
          -0.2651686762903576,
          -0.07027781766020814,
          1.4460735333923849,
          0.4062558151378958,
          2.9924417578949596,
          -0.6725291814251461,
          0.058275087784900724,
          -0.7180357045425773,
          -1.4032200530204344,
          -0.3150288706370873,
          0.47758875464697453,
          -0.8269771217614604,
          0.48172496799817244,
          -0.7453485529280233,
          2.2103985684031424,
          -0.6512343240750648,
          -1.0761589643558305,
          -0.3126827200482146,
          -0.7707723938441469,
          0.03761157401678399,
          0.38218995607893624,
          1.6232168368871616,
          -0.891991061325372,
          0.3081052691599786,
          -1.6742745874233398,
          -1.060786505394401,
          -1.224894225568253,
          -1.1418576917418655,
          0.7776014073963039,
          -2.0722908928193076,
          0.6269795454914691,
          -0.07363912387427204,
          1.0337073250918112,
          -0.8724424338268957,
          0.2944326120520341,
          1.1007166889351714,
          -1.0368444257918097,
          0.40581918123186206,
          1.3247223197113267,
          -0.5028529312192868,
          0.12826431985038722,
          -0.41298476969240855,
          -0.5122594907994159,
          -0.3767939408544858,
          -0.5483495771102112,
          0.23937351232956053,
          -0.1237189545660604,
          -1.6086158300274889,
          0.13255921177958058,
          0.6236563150256992,
          -1.7629134825954333,
          0.3965543697462627,
          -0.015246469369710672,
          0.6224378394650877,
          1.273204770270868,
          0.16522803860713273,
          0.21631887975698336,
          0.49296727355124675,
          -0.856555842632183,
          1.285461938030501,
          -1.5108562066320856,
          -0.5654639130801999,
          -0.2988083381094179,
          0.4455217374847133,
          0.47958439154709376,
          0.7371979486246891,
          0.4676197412857697,
          0.37248117726012064,
          -0.06150360692356444,
          0.011862471019332303,
          1.5119522400199887,
          -1.542085684981008,
          0.45531041190984595,
          -0.19489834876868772,
          0.30160750277151505,
          -0.04051459233187058,
          1.8329947771102855
         ]
        },
        {
         "line": {
          "color": "rgba(50, 171, 96, 1.0)",
          "dash": "solid",
          "shape": "linear",
          "width": 1.3
         },
         "mode": "lines",
         "name": "C",
         "text": "",
         "type": "scatter",
         "x": [
          0,
          1,
          2,
          3,
          4,
          5,
          6,
          7,
          8,
          9,
          10,
          11,
          12,
          13,
          14,
          15,
          16,
          17,
          18,
          19,
          20,
          21,
          22,
          23,
          24,
          25,
          26,
          27,
          28,
          29,
          30,
          31,
          32,
          33,
          34,
          35,
          36,
          37,
          38,
          39,
          40,
          41,
          42,
          43,
          44,
          45,
          46,
          47,
          48,
          49,
          50,
          51,
          52,
          53,
          54,
          55,
          56,
          57,
          58,
          59,
          60,
          61,
          62,
          63,
          64,
          65,
          66,
          67,
          68,
          69,
          70,
          71,
          72,
          73,
          74,
          75,
          76,
          77,
          78,
          79,
          80,
          81,
          82,
          83,
          84,
          85,
          86,
          87,
          88,
          89,
          90,
          91,
          92,
          93,
          94,
          95,
          96,
          97,
          98,
          99
         ],
         "y": [
          0.7280667652885545,
          0.8488235899553379,
          0.290987080721703,
          0.07289592702509784,
          1.5712941840611465,
          -0.3503445574341853,
          -0.20906465827915915,
          1.7246981848259362,
          0.47910031798336217,
          0.3859055420108177,
          1.1478919327821941,
          -0.6469019399252434,
          -0.8298435552798016,
          0.6069560798978525,
          -0.6716513170056069,
          -0.44099377084482927,
          -1.1253008953103194,
          0.5181015240074431,
          1.0474795855982406,
          1.5483010108942044,
          0.2766643544476635,
          0.5446276910346245,
          -0.9328439764575173,
          0.7568845978769322,
          0.42254305624882876,
          -0.4378245539651729,
          -1.2086606440341157,
          -1.3156063815688934,
          -0.01846642609983113,
          0.10970827397166491,
          -0.09880585856931799,
          2.3760283971453875,
          -0.716049356152018,
          0.438821511552451,
          0.2338878272126851,
          -0.3154223616652488,
          1.1012203344621132,
          0.349326026393338,
          0.6294033557838192,
          0.24618417293232878,
          -0.1330148585330617,
          -1.0848140949875746,
          -1.0126800068690232,
          -0.9718899662289104,
          0.9544063653537571,
          0.9996722923494628,
          -1.5069089607758692,
          -0.9943443964352677,
          -0.5713285023268356,
          -0.18574285455520928,
          0.9036015588357612,
          0.5294493589722387,
          -0.01474184717698523,
          -0.2599128263966185,
          1.1326800728542001,
          1.260384329503193,
          0.7616637751038151,
          0.5977839325818189,
          1.6513463268850124,
          0.8316537330619864,
          0.11144277773083576,
          0.12112918817911539,
          -0.16953916251036222,
          1.403377118588521,
          0.5276874167214146,
          -1.194826773694459,
          0.08166109182933724,
          0.6202384660207138,
          -0.4970253894088577,
          0.2679870307472513,
          0.2874848816773004,
          -0.9227426553868162,
          -1.2492553769358716,
          0.992746313853953,
          1.1303403711640536,
          2.7161095361645087,
          1.0860151601273755,
          1.096875481725637,
          -0.7496336676945539,
          -0.15863602841746954,
          0.3619174044979912,
          -1.06233723024928,
          -0.10401865778638529,
          0.9666267014317605,
          -0.9648981151836775,
          0.999324014455443,
          -1.551455891751039,
          -1.8417957326728502,
          -2.6510712352965853,
          1.6803324810008309,
          1.1843713170062444,
          0.006932625023387141,
          0.31840781918665645,
          0.2289488826055793,
          -0.24107096166904154,
          -0.027679255150120166,
          1.0397827616934225,
          -1.271033272555595,
          -0.8627298187498355,
          1.4875724471837792
         ]
        },
        {
         "line": {
          "color": "rgba(128, 0, 128, 1.0)",
          "dash": "solid",
          "shape": "linear",
          "width": 1.3
         },
         "mode": "lines",
         "name": "D",
         "text": "",
         "type": "scatter",
         "x": [
          0,
          1,
          2,
          3,
          4,
          5,
          6,
          7,
          8,
          9,
          10,
          11,
          12,
          13,
          14,
          15,
          16,
          17,
          18,
          19,
          20,
          21,
          22,
          23,
          24,
          25,
          26,
          27,
          28,
          29,
          30,
          31,
          32,
          33,
          34,
          35,
          36,
          37,
          38,
          39,
          40,
          41,
          42,
          43,
          44,
          45,
          46,
          47,
          48,
          49,
          50,
          51,
          52,
          53,
          54,
          55,
          56,
          57,
          58,
          59,
          60,
          61,
          62,
          63,
          64,
          65,
          66,
          67,
          68,
          69,
          70,
          71,
          72,
          73,
          74,
          75,
          76,
          77,
          78,
          79,
          80,
          81,
          82,
          83,
          84,
          85,
          86,
          87,
          88,
          89,
          90,
          91,
          92,
          93,
          94,
          95,
          96,
          97,
          98,
          99
         ],
         "y": [
          -0.0597004332272165,
          -0.7270948232657004,
          0.10386741108535118,
          0.8823267315107225,
          1.1239413366995417,
          -0.09000979019462164,
          -0.34064270136513775,
          0.9015586963809795,
          -1.2199166672554982,
          -0.10474960609253045,
          -0.5047368023338258,
          0.9120026789167751,
          0.674039325645774,
          1.0977812334020363,
          0.49075617307552466,
          -0.1825714349285571,
          1.1908785579639265,
          0.9435400510505514,
          -1.1228061375683676,
          -0.4550236033163609,
          0.5103141348300834,
          -0.08371828187615925,
          0.5961862717691772,
          1.4777926677579054,
          1.1662395280911697,
          -0.549894066420653,
          -0.9373220197978973,
          0.26822804305139314,
          1.3441507375524713,
          1.278239178065697,
          0.039557656709048275,
          0.5933236707937817,
          -0.6646795753141186,
          -2.297062643389993,
          -0.534969822905361,
          -1.488671223214322,
          -0.8189963439403524,
          1.7241068058340498,
          -0.7596556222103996,
          -1.9502115782962415,
          0.9831761742342704,
          -0.8345090640057391,
          0.23245482978715487,
          -0.48900878119890073,
          -0.8097729295451747,
          -1.8959697910487932,
          -0.4561478615680612,
          0.4539567661489525,
          0.07085461835479741,
          0.8403631191974654,
          0.9976130864215411,
          0.8285767573404479,
          -0.3449556066740045,
          1.7734608469596895,
          -0.5956584589272034,
          -0.5656892432795249,
          -1.634948108337012,
          -0.9636407636851575,
          1.764519171208656,
          -0.1662788794018256,
          -1.8941894694726702,
          -1.5486643210692401,
          0.13022893710572384,
          1.0301698732465645,
          1.0835499292960724,
          0.9896724958809934,
          -0.3622673939898819,
          -0.3060135868618649,
          -1.1279486634108724,
          -1.0451283293811087,
          1.0098144867890588,
          -1.4443662319195205,
          1.1915349467981744,
          -1.6408370964075916,
          -0.7984635014901174,
          1.1290041958226926,
          -1.0505794139895748,
          -1.435890720587731,
          -1.5483688140960696,
          -1.5841534124611472,
          0.3082967039657568,
          0.19819953977361968,
          -0.5565885705624065,
          1.4520060725936632,
          0.8106534843091644,
          -0.806790992501957,
          -0.5001359388406705,
          -0.9253951481709741,
          0.7573615775820923,
          -0.19743506936780397,
          -1.1159609113830533,
          1.527455572958231,
          0.8126592777281217,
          -0.2823311711029549,
          -1.0244300290041477,
          1.3358593559436946,
          -1.217200545405278,
          -0.2538940489662926,
          -2.180838977190818,
          0.9613927729990254
         ]
        }
       ],
       "layout": {
        "legend": {
         "bgcolor": "#F5F6F9",
         "font": {
          "color": "#4D5663"
         }
        },
        "paper_bgcolor": "#F5F6F9",
        "plot_bgcolor": "#F5F6F9",
        "template": {
         "data": {
          "bar": [
           {
            "error_x": {
             "color": "#2a3f5f"
            },
            "error_y": {
             "color": "#2a3f5f"
            },
            "marker": {
             "line": {
              "color": "#E5ECF6",
              "width": 0.5
             }
            },
            "type": "bar"
           }
          ],
          "barpolar": [
           {
            "marker": {
             "line": {
              "color": "#E5ECF6",
              "width": 0.5
             }
            },
            "type": "barpolar"
           }
          ],
          "carpet": [
           {
            "aaxis": {
             "endlinecolor": "#2a3f5f",
             "gridcolor": "white",
             "linecolor": "white",
             "minorgridcolor": "white",
             "startlinecolor": "#2a3f5f"
            },
            "baxis": {
             "endlinecolor": "#2a3f5f",
             "gridcolor": "white",
             "linecolor": "white",
             "minorgridcolor": "white",
             "startlinecolor": "#2a3f5f"
            },
            "type": "carpet"
           }
          ],
          "choropleth": [
           {
            "colorbar": {
             "outlinewidth": 0,
             "ticks": ""
            },
            "type": "choropleth"
           }
          ],
          "contour": [
           {
            "colorbar": {
             "outlinewidth": 0,
             "ticks": ""
            },
            "colorscale": [
             [
              0,
              "#0d0887"
             ],
             [
              0.1111111111111111,
              "#46039f"
             ],
             [
              0.2222222222222222,
              "#7201a8"
             ],
             [
              0.3333333333333333,
              "#9c179e"
             ],
             [
              0.4444444444444444,
              "#bd3786"
             ],
             [
              0.5555555555555556,
              "#d8576b"
             ],
             [
              0.6666666666666666,
              "#ed7953"
             ],
             [
              0.7777777777777778,
              "#fb9f3a"
             ],
             [
              0.8888888888888888,
              "#fdca26"
             ],
             [
              1,
              "#f0f921"
             ]
            ],
            "type": "contour"
           }
          ],
          "contourcarpet": [
           {
            "colorbar": {
             "outlinewidth": 0,
             "ticks": ""
            },
            "type": "contourcarpet"
           }
          ],
          "heatmap": [
           {
            "colorbar": {
             "outlinewidth": 0,
             "ticks": ""
            },
            "colorscale": [
             [
              0,
              "#0d0887"
             ],
             [
              0.1111111111111111,
              "#46039f"
             ],
             [
              0.2222222222222222,
              "#7201a8"
             ],
             [
              0.3333333333333333,
              "#9c179e"
             ],
             [
              0.4444444444444444,
              "#bd3786"
             ],
             [
              0.5555555555555556,
              "#d8576b"
             ],
             [
              0.6666666666666666,
              "#ed7953"
             ],
             [
              0.7777777777777778,
              "#fb9f3a"
             ],
             [
              0.8888888888888888,
              "#fdca26"
             ],
             [
              1,
              "#f0f921"
             ]
            ],
            "type": "heatmap"
           }
          ],
          "heatmapgl": [
           {
            "colorbar": {
             "outlinewidth": 0,
             "ticks": ""
            },
            "colorscale": [
             [
              0,
              "#0d0887"
             ],
             [
              0.1111111111111111,
              "#46039f"
             ],
             [
              0.2222222222222222,
              "#7201a8"
             ],
             [
              0.3333333333333333,
              "#9c179e"
             ],
             [
              0.4444444444444444,
              "#bd3786"
             ],
             [
              0.5555555555555556,
              "#d8576b"
             ],
             [
              0.6666666666666666,
              "#ed7953"
             ],
             [
              0.7777777777777778,
              "#fb9f3a"
             ],
             [
              0.8888888888888888,
              "#fdca26"
             ],
             [
              1,
              "#f0f921"
             ]
            ],
            "type": "heatmapgl"
           }
          ],
          "histogram": [
           {
            "marker": {
             "colorbar": {
              "outlinewidth": 0,
              "ticks": ""
             }
            },
            "type": "histogram"
           }
          ],
          "histogram2d": [
           {
            "colorbar": {
             "outlinewidth": 0,
             "ticks": ""
            },
            "colorscale": [
             [
              0,
              "#0d0887"
             ],
             [
              0.1111111111111111,
              "#46039f"
             ],
             [
              0.2222222222222222,
              "#7201a8"
             ],
             [
              0.3333333333333333,
              "#9c179e"
             ],
             [
              0.4444444444444444,
              "#bd3786"
             ],
             [
              0.5555555555555556,
              "#d8576b"
             ],
             [
              0.6666666666666666,
              "#ed7953"
             ],
             [
              0.7777777777777778,
              "#fb9f3a"
             ],
             [
              0.8888888888888888,
              "#fdca26"
             ],
             [
              1,
              "#f0f921"
             ]
            ],
            "type": "histogram2d"
           }
          ],
          "histogram2dcontour": [
           {
            "colorbar": {
             "outlinewidth": 0,
             "ticks": ""
            },
            "colorscale": [
             [
              0,
              "#0d0887"
             ],
             [
              0.1111111111111111,
              "#46039f"
             ],
             [
              0.2222222222222222,
              "#7201a8"
             ],
             [
              0.3333333333333333,
              "#9c179e"
             ],
             [
              0.4444444444444444,
              "#bd3786"
             ],
             [
              0.5555555555555556,
              "#d8576b"
             ],
             [
              0.6666666666666666,
              "#ed7953"
             ],
             [
              0.7777777777777778,
              "#fb9f3a"
             ],
             [
              0.8888888888888888,
              "#fdca26"
             ],
             [
              1,
              "#f0f921"
             ]
            ],
            "type": "histogram2dcontour"
           }
          ],
          "mesh3d": [
           {
            "colorbar": {
             "outlinewidth": 0,
             "ticks": ""
            },
            "type": "mesh3d"
           }
          ],
          "parcoords": [
           {
            "line": {
             "colorbar": {
              "outlinewidth": 0,
              "ticks": ""
             }
            },
            "type": "parcoords"
           }
          ],
          "pie": [
           {
            "automargin": true,
            "type": "pie"
           }
          ],
          "scatter": [
           {
            "marker": {
             "colorbar": {
              "outlinewidth": 0,
              "ticks": ""
             }
            },
            "type": "scatter"
           }
          ],
          "scatter3d": [
           {
            "line": {
             "colorbar": {
              "outlinewidth": 0,
              "ticks": ""
             }
            },
            "marker": {
             "colorbar": {
              "outlinewidth": 0,
              "ticks": ""
             }
            },
            "type": "scatter3d"
           }
          ],
          "scattercarpet": [
           {
            "marker": {
             "colorbar": {
              "outlinewidth": 0,
              "ticks": ""
             }
            },
            "type": "scattercarpet"
           }
          ],
          "scattergeo": [
           {
            "marker": {
             "colorbar": {
              "outlinewidth": 0,
              "ticks": ""
             }
            },
            "type": "scattergeo"
           }
          ],
          "scattergl": [
           {
            "marker": {
             "colorbar": {
              "outlinewidth": 0,
              "ticks": ""
             }
            },
            "type": "scattergl"
           }
          ],
          "scattermapbox": [
           {
            "marker": {
             "colorbar": {
              "outlinewidth": 0,
              "ticks": ""
             }
            },
            "type": "scattermapbox"
           }
          ],
          "scatterpolar": [
           {
            "marker": {
             "colorbar": {
              "outlinewidth": 0,
              "ticks": ""
             }
            },
            "type": "scatterpolar"
           }
          ],
          "scatterpolargl": [
           {
            "marker": {
             "colorbar": {
              "outlinewidth": 0,
              "ticks": ""
             }
            },
            "type": "scatterpolargl"
           }
          ],
          "scatterternary": [
           {
            "marker": {
             "colorbar": {
              "outlinewidth": 0,
              "ticks": ""
             }
            },
            "type": "scatterternary"
           }
          ],
          "surface": [
           {
            "colorbar": {
             "outlinewidth": 0,
             "ticks": ""
            },
            "colorscale": [
             [
              0,
              "#0d0887"
             ],
             [
              0.1111111111111111,
              "#46039f"
             ],
             [
              0.2222222222222222,
              "#7201a8"
             ],
             [
              0.3333333333333333,
              "#9c179e"
             ],
             [
              0.4444444444444444,
              "#bd3786"
             ],
             [
              0.5555555555555556,
              "#d8576b"
             ],
             [
              0.6666666666666666,
              "#ed7953"
             ],
             [
              0.7777777777777778,
              "#fb9f3a"
             ],
             [
              0.8888888888888888,
              "#fdca26"
             ],
             [
              1,
              "#f0f921"
             ]
            ],
            "type": "surface"
           }
          ],
          "table": [
           {
            "cells": {
             "fill": {
              "color": "#EBF0F8"
             },
             "line": {
              "color": "white"
             }
            },
            "header": {
             "fill": {
              "color": "#C8D4E3"
             },
             "line": {
              "color": "white"
             }
            },
            "type": "table"
           }
          ]
         },
         "layout": {
          "annotationdefaults": {
           "arrowcolor": "#2a3f5f",
           "arrowhead": 0,
           "arrowwidth": 1
          },
          "coloraxis": {
           "colorbar": {
            "outlinewidth": 0,
            "ticks": ""
           }
          },
          "colorscale": {
           "diverging": [
            [
             0,
             "#8e0152"
            ],
            [
             0.1,
             "#c51b7d"
            ],
            [
             0.2,
             "#de77ae"
            ],
            [
             0.3,
             "#f1b6da"
            ],
            [
             0.4,
             "#fde0ef"
            ],
            [
             0.5,
             "#f7f7f7"
            ],
            [
             0.6,
             "#e6f5d0"
            ],
            [
             0.7,
             "#b8e186"
            ],
            [
             0.8,
             "#7fbc41"
            ],
            [
             0.9,
             "#4d9221"
            ],
            [
             1,
             "#276419"
            ]
           ],
           "sequential": [
            [
             0,
             "#0d0887"
            ],
            [
             0.1111111111111111,
             "#46039f"
            ],
            [
             0.2222222222222222,
             "#7201a8"
            ],
            [
             0.3333333333333333,
             "#9c179e"
            ],
            [
             0.4444444444444444,
             "#bd3786"
            ],
            [
             0.5555555555555556,
             "#d8576b"
            ],
            [
             0.6666666666666666,
             "#ed7953"
            ],
            [
             0.7777777777777778,
             "#fb9f3a"
            ],
            [
             0.8888888888888888,
             "#fdca26"
            ],
            [
             1,
             "#f0f921"
            ]
           ],
           "sequentialminus": [
            [
             0,
             "#0d0887"
            ],
            [
             0.1111111111111111,
             "#46039f"
            ],
            [
             0.2222222222222222,
             "#7201a8"
            ],
            [
             0.3333333333333333,
             "#9c179e"
            ],
            [
             0.4444444444444444,
             "#bd3786"
            ],
            [
             0.5555555555555556,
             "#d8576b"
            ],
            [
             0.6666666666666666,
             "#ed7953"
            ],
            [
             0.7777777777777778,
             "#fb9f3a"
            ],
            [
             0.8888888888888888,
             "#fdca26"
            ],
            [
             1,
             "#f0f921"
            ]
           ]
          },
          "colorway": [
           "#636efa",
           "#EF553B",
           "#00cc96",
           "#ab63fa",
           "#FFA15A",
           "#19d3f3",
           "#FF6692",
           "#B6E880",
           "#FF97FF",
           "#FECB52"
          ],
          "font": {
           "color": "#2a3f5f"
          },
          "geo": {
           "bgcolor": "white",
           "lakecolor": "white",
           "landcolor": "#E5ECF6",
           "showlakes": true,
           "showland": true,
           "subunitcolor": "white"
          },
          "hoverlabel": {
           "align": "left"
          },
          "hovermode": "closest",
          "mapbox": {
           "style": "light"
          },
          "paper_bgcolor": "white",
          "plot_bgcolor": "#E5ECF6",
          "polar": {
           "angularaxis": {
            "gridcolor": "white",
            "linecolor": "white",
            "ticks": ""
           },
           "bgcolor": "#E5ECF6",
           "radialaxis": {
            "gridcolor": "white",
            "linecolor": "white",
            "ticks": ""
           }
          },
          "scene": {
           "xaxis": {
            "backgroundcolor": "#E5ECF6",
            "gridcolor": "white",
            "gridwidth": 2,
            "linecolor": "white",
            "showbackground": true,
            "ticks": "",
            "zerolinecolor": "white"
           },
           "yaxis": {
            "backgroundcolor": "#E5ECF6",
            "gridcolor": "white",
            "gridwidth": 2,
            "linecolor": "white",
            "showbackground": true,
            "ticks": "",
            "zerolinecolor": "white"
           },
           "zaxis": {
            "backgroundcolor": "#E5ECF6",
            "gridcolor": "white",
            "gridwidth": 2,
            "linecolor": "white",
            "showbackground": true,
            "ticks": "",
            "zerolinecolor": "white"
           }
          },
          "shapedefaults": {
           "line": {
            "color": "#2a3f5f"
           }
          },
          "ternary": {
           "aaxis": {
            "gridcolor": "white",
            "linecolor": "white",
            "ticks": ""
           },
           "baxis": {
            "gridcolor": "white",
            "linecolor": "white",
            "ticks": ""
           },
           "bgcolor": "#E5ECF6",
           "caxis": {
            "gridcolor": "white",
            "linecolor": "white",
            "ticks": ""
           }
          },
          "title": {
           "x": 0.05
          },
          "xaxis": {
           "automargin": true,
           "gridcolor": "white",
           "linecolor": "white",
           "ticks": "",
           "title": {
            "standoff": 15
           },
           "zerolinecolor": "white",
           "zerolinewidth": 2
          },
          "yaxis": {
           "automargin": true,
           "gridcolor": "white",
           "linecolor": "white",
           "ticks": "",
           "title": {
            "standoff": 15
           },
           "zerolinecolor": "white",
           "zerolinewidth": 2
          }
         }
        },
        "title": {
         "font": {
          "color": "#4D5663"
         }
        },
        "xaxis": {
         "gridcolor": "#E1E5ED",
         "showgrid": true,
         "tickfont": {
          "color": "#4D5663"
         },
         "title": {
          "font": {
           "color": "#4D5663"
          },
          "text": ""
         },
         "zerolinecolor": "#E1E5ED"
        },
        "yaxis": {
         "gridcolor": "#E1E5ED",
         "showgrid": true,
         "tickfont": {
          "color": "#4D5663"
         },
         "title": {
          "font": {
           "color": "#4D5663"
          },
          "text": ""
         },
         "zerolinecolor": "#E1E5ED"
        }
       }
      },
      "text/html": [
       "<div>\n",
       "        \n",
       "        \n",
       "            <div id=\"2c799e9e-b24d-4ceb-aef1-3534e8093741\" class=\"plotly-graph-div\" style=\"height:525px; width:100%;\"></div>\n",
       "            <script type=\"text/javascript\">\n",
       "                require([\"plotly\"], function(Plotly) {\n",
       "                    window.PLOTLYENV=window.PLOTLYENV || {};\n",
       "                    window.PLOTLYENV.BASE_URL='https://plot.ly';\n",
       "                    \n",
       "                if (document.getElementById(\"2c799e9e-b24d-4ceb-aef1-3534e8093741\")) {\n",
       "                    Plotly.newPlot(\n",
       "                        '2c799e9e-b24d-4ceb-aef1-3534e8093741',\n",
       "                        [{\"line\": {\"color\": \"rgba(255, 153, 51, 1.0)\", \"dash\": \"solid\", \"shape\": \"linear\", \"width\": 1.3}, \"mode\": \"lines\", \"name\": \"A\", \"text\": \"\", \"type\": \"scatter\", \"x\": [0, 1, 2, 3, 4, 5, 6, 7, 8, 9, 10, 11, 12, 13, 14, 15, 16, 17, 18, 19, 20, 21, 22, 23, 24, 25, 26, 27, 28, 29, 30, 31, 32, 33, 34, 35, 36, 37, 38, 39, 40, 41, 42, 43, 44, 45, 46, 47, 48, 49, 50, 51, 52, 53, 54, 55, 56, 57, 58, 59, 60, 61, 62, 63, 64, 65, 66, 67, 68, 69, 70, 71, 72, 73, 74, 75, 76, 77, 78, 79, 80, 81, 82, 83, 84, 85, 86, 87, 88, 89, 90, 91, 92, 93, 94, 95, 96, 97, 98, 99], \"y\": [-0.9093054841012843, 0.6040832399960773, -2.410271137195946, 0.16588443929009308, 1.0852191490067407, 0.6250277127932178, -0.9246067333548268, 1.0805265305902243, 1.5725408394539233, 0.5305774112893745, -1.0968365092075085, 0.358422463579597, -0.23415335588614208, 0.15470064036229597, -1.2258341941415993, 0.2593542310596669, 1.5207292232801048, 0.6937829889514853, -1.064285675230406, -0.44560982863137766, -1.0906263710804303, 1.9665199437015592, -0.3168671019465515, 1.0662884587350903, 0.52274830772359, -0.36628016461133656, -0.8474582771956716, 1.1502604717661162, 1.9461342218110398, -0.4650443159355485, -0.8168701770762032, -1.6513676718383128, 0.03763777500553534, -0.8930695726250423, 0.9944707976208484, -1.0317371061968406, -0.08534728128681522, -0.11154374643876049, -0.41021037304330565, -0.6932234768278271, 0.46269386705795046, -1.2691305767830017, 0.3914823573992438, -0.3325552370346851, 0.4505119668619261, 0.26267163704247304, 0.6146339373666935, -0.00019986832009890844, -0.3562942496957231, 1.1106410349742948, -0.4333466685561677, -0.6433360131302692, -0.8874917160851796, -0.8513536562439611, -0.05277980507992831, 0.9196787192380568, -1.8824712139707094, -0.0027461866850745902, -0.02857973666903494, -0.6041682943303771, 0.5017654389406031, -1.9697355871042415, 0.6538225862413563, 0.7165951809469918, 0.05677784382488556, -1.141078681176908, 1.3054036850528037, 0.8351305395606717, -0.5254041188527706, -0.4577834507066193, -0.8005206812905147, 1.6411028852562852, -1.0179121109648015, -1.100307719569913, 0.24578712452507961, -0.8471375107617793, -0.3786013986846745, -0.7832461028994342, -0.24609091475376293, 2.110724741197031, 0.5651851649423003, -1.6974921370855955, -3.052601304677243, -0.9328402706436525, 0.9777294759588954, -1.3736356963160077, -0.2568197552540412, -0.14252924846144352, -0.23946981078682242, -0.058466871907325725, -0.597456559381562, -2.1389872634159057, 1.402282041961766, 0.5274283741136507, -1.2594196492030272, -0.491214492828783, -1.3984069642976626, -2.4488941051712687, 0.6371774376560045, -1.2528580901560282]}, {\"line\": {\"color\": \"rgba(55, 128, 191, 1.0)\", \"dash\": \"solid\", \"shape\": \"linear\", \"width\": 1.3}, \"mode\": \"lines\", \"name\": \"B\", \"text\": \"\", \"type\": \"scatter\", \"x\": [0, 1, 2, 3, 4, 5, 6, 7, 8, 9, 10, 11, 12, 13, 14, 15, 16, 17, 18, 19, 20, 21, 22, 23, 24, 25, 26, 27, 28, 29, 30, 31, 32, 33, 34, 35, 36, 37, 38, 39, 40, 41, 42, 43, 44, 45, 46, 47, 48, 49, 50, 51, 52, 53, 54, 55, 56, 57, 58, 59, 60, 61, 62, 63, 64, 65, 66, 67, 68, 69, 70, 71, 72, 73, 74, 75, 76, 77, 78, 79, 80, 81, 82, 83, 84, 85, 86, 87, 88, 89, 90, 91, 92, 93, 94, 95, 96, 97, 98, 99], \"y\": [1.971440509710332, -0.16847988892318877, 1.0201516777693376, -0.4746460566381103, -0.252233811330853, -0.812181070653521, 0.08607180636893513, -0.02022449530412015, -0.1099275343296199, 0.38663004425284286, -0.526558562979596, 1.8595393195972616, -0.2554254965801771, -0.9141127018210553, 0.06456255996214603, 0.09207005623359946, -0.47783575200149025, 0.09276314732860896, -1.531698896254452, -1.9987393236806141, -0.6049054502346282, 0.8385800455756265, 2.4409277500049287, -0.2651686762903576, -0.07027781766020814, 1.4460735333923849, 0.4062558151378958, 2.9924417578949596, -0.6725291814251461, 0.058275087784900724, -0.7180357045425773, -1.4032200530204344, -0.3150288706370873, 0.47758875464697453, -0.8269771217614604, 0.48172496799817244, -0.7453485529280233, 2.2103985684031424, -0.6512343240750648, -1.0761589643558305, -0.3126827200482146, -0.7707723938441469, 0.03761157401678399, 0.38218995607893624, 1.6232168368871616, -0.891991061325372, 0.3081052691599786, -1.6742745874233398, -1.060786505394401, -1.224894225568253, -1.1418576917418655, 0.7776014073963039, -2.0722908928193076, 0.6269795454914691, -0.07363912387427204, 1.0337073250918112, -0.8724424338268957, 0.2944326120520341, 1.1007166889351714, -1.0368444257918097, 0.40581918123186206, 1.3247223197113267, -0.5028529312192868, 0.12826431985038722, -0.41298476969240855, -0.5122594907994159, -0.3767939408544858, -0.5483495771102112, 0.23937351232956053, -0.1237189545660604, -1.6086158300274889, 0.13255921177958058, 0.6236563150256992, -1.7629134825954333, 0.3965543697462627, -0.015246469369710672, 0.6224378394650877, 1.273204770270868, 0.16522803860713273, 0.21631887975698336, 0.49296727355124675, -0.856555842632183, 1.285461938030501, -1.5108562066320856, -0.5654639130801999, -0.2988083381094179, 0.4455217374847133, 0.47958439154709376, 0.7371979486246891, 0.4676197412857697, 0.37248117726012064, -0.06150360692356444, 0.011862471019332303, 1.5119522400199887, -1.542085684981008, 0.45531041190984595, -0.19489834876868772, 0.30160750277151505, -0.04051459233187058, 1.8329947771102855]}, {\"line\": {\"color\": \"rgba(50, 171, 96, 1.0)\", \"dash\": \"solid\", \"shape\": \"linear\", \"width\": 1.3}, \"mode\": \"lines\", \"name\": \"C\", \"text\": \"\", \"type\": \"scatter\", \"x\": [0, 1, 2, 3, 4, 5, 6, 7, 8, 9, 10, 11, 12, 13, 14, 15, 16, 17, 18, 19, 20, 21, 22, 23, 24, 25, 26, 27, 28, 29, 30, 31, 32, 33, 34, 35, 36, 37, 38, 39, 40, 41, 42, 43, 44, 45, 46, 47, 48, 49, 50, 51, 52, 53, 54, 55, 56, 57, 58, 59, 60, 61, 62, 63, 64, 65, 66, 67, 68, 69, 70, 71, 72, 73, 74, 75, 76, 77, 78, 79, 80, 81, 82, 83, 84, 85, 86, 87, 88, 89, 90, 91, 92, 93, 94, 95, 96, 97, 98, 99], \"y\": [0.7280667652885545, 0.8488235899553379, 0.290987080721703, 0.07289592702509784, 1.5712941840611465, -0.3503445574341853, -0.20906465827915915, 1.7246981848259362, 0.47910031798336217, 0.3859055420108177, 1.1478919327821941, -0.6469019399252434, -0.8298435552798016, 0.6069560798978525, -0.6716513170056069, -0.44099377084482927, -1.1253008953103194, 0.5181015240074431, 1.0474795855982406, 1.5483010108942044, 0.2766643544476635, 0.5446276910346245, -0.9328439764575173, 0.7568845978769322, 0.42254305624882876, -0.4378245539651729, -1.2086606440341157, -1.3156063815688934, -0.01846642609983113, 0.10970827397166491, -0.09880585856931799, 2.3760283971453875, -0.716049356152018, 0.438821511552451, 0.2338878272126851, -0.3154223616652488, 1.1012203344621132, 0.349326026393338, 0.6294033557838192, 0.24618417293232878, -0.1330148585330617, -1.0848140949875746, -1.0126800068690232, -0.9718899662289104, 0.9544063653537571, 0.9996722923494628, -1.5069089607758692, -0.9943443964352677, -0.5713285023268356, -0.18574285455520928, 0.9036015588357612, 0.5294493589722387, -0.01474184717698523, -0.2599128263966185, 1.1326800728542001, 1.260384329503193, 0.7616637751038151, 0.5977839325818189, 1.6513463268850124, 0.8316537330619864, 0.11144277773083576, 0.12112918817911539, -0.16953916251036222, 1.403377118588521, 0.5276874167214146, -1.194826773694459, 0.08166109182933724, 0.6202384660207138, -0.4970253894088577, 0.2679870307472513, 0.2874848816773004, -0.9227426553868162, -1.2492553769358716, 0.992746313853953, 1.1303403711640536, 2.7161095361645087, 1.0860151601273755, 1.096875481725637, -0.7496336676945539, -0.15863602841746954, 0.3619174044979912, -1.06233723024928, -0.10401865778638529, 0.9666267014317605, -0.9648981151836775, 0.999324014455443, -1.551455891751039, -1.8417957326728502, -2.6510712352965853, 1.6803324810008309, 1.1843713170062444, 0.006932625023387141, 0.31840781918665645, 0.2289488826055793, -0.24107096166904154, -0.027679255150120166, 1.0397827616934225, -1.271033272555595, -0.8627298187498355, 1.4875724471837792]}, {\"line\": {\"color\": \"rgba(128, 0, 128, 1.0)\", \"dash\": \"solid\", \"shape\": \"linear\", \"width\": 1.3}, \"mode\": \"lines\", \"name\": \"D\", \"text\": \"\", \"type\": \"scatter\", \"x\": [0, 1, 2, 3, 4, 5, 6, 7, 8, 9, 10, 11, 12, 13, 14, 15, 16, 17, 18, 19, 20, 21, 22, 23, 24, 25, 26, 27, 28, 29, 30, 31, 32, 33, 34, 35, 36, 37, 38, 39, 40, 41, 42, 43, 44, 45, 46, 47, 48, 49, 50, 51, 52, 53, 54, 55, 56, 57, 58, 59, 60, 61, 62, 63, 64, 65, 66, 67, 68, 69, 70, 71, 72, 73, 74, 75, 76, 77, 78, 79, 80, 81, 82, 83, 84, 85, 86, 87, 88, 89, 90, 91, 92, 93, 94, 95, 96, 97, 98, 99], \"y\": [-0.0597004332272165, -0.7270948232657004, 0.10386741108535118, 0.8823267315107225, 1.1239413366995417, -0.09000979019462164, -0.34064270136513775, 0.9015586963809795, -1.2199166672554982, -0.10474960609253045, -0.5047368023338258, 0.9120026789167751, 0.674039325645774, 1.0977812334020363, 0.49075617307552466, -0.1825714349285571, 1.1908785579639265, 0.9435400510505514, -1.1228061375683676, -0.4550236033163609, 0.5103141348300834, -0.08371828187615925, 0.5961862717691772, 1.4777926677579054, 1.1662395280911697, -0.549894066420653, -0.9373220197978973, 0.26822804305139314, 1.3441507375524713, 1.278239178065697, 0.039557656709048275, 0.5933236707937817, -0.6646795753141186, -2.297062643389993, -0.534969822905361, -1.488671223214322, -0.8189963439403524, 1.7241068058340498, -0.7596556222103996, -1.9502115782962415, 0.9831761742342704, -0.8345090640057391, 0.23245482978715487, -0.48900878119890073, -0.8097729295451747, -1.8959697910487932, -0.4561478615680612, 0.4539567661489525, 0.07085461835479741, 0.8403631191974654, 0.9976130864215411, 0.8285767573404479, -0.3449556066740045, 1.7734608469596895, -0.5956584589272034, -0.5656892432795249, -1.634948108337012, -0.9636407636851575, 1.764519171208656, -0.1662788794018256, -1.8941894694726702, -1.5486643210692401, 0.13022893710572384, 1.0301698732465645, 1.0835499292960724, 0.9896724958809934, -0.3622673939898819, -0.3060135868618649, -1.1279486634108724, -1.0451283293811087, 1.0098144867890588, -1.4443662319195205, 1.1915349467981744, -1.6408370964075916, -0.7984635014901174, 1.1290041958226926, -1.0505794139895748, -1.435890720587731, -1.5483688140960696, -1.5841534124611472, 0.3082967039657568, 0.19819953977361968, -0.5565885705624065, 1.4520060725936632, 0.8106534843091644, -0.806790992501957, -0.5001359388406705, -0.9253951481709741, 0.7573615775820923, -0.19743506936780397, -1.1159609113830533, 1.527455572958231, 0.8126592777281217, -0.2823311711029549, -1.0244300290041477, 1.3358593559436946, -1.217200545405278, -0.2538940489662926, -2.180838977190818, 0.9613927729990254]}],\n",
       "                        {\"legend\": {\"bgcolor\": \"#F5F6F9\", \"font\": {\"color\": \"#4D5663\"}}, \"paper_bgcolor\": \"#F5F6F9\", \"plot_bgcolor\": \"#F5F6F9\", \"template\": {\"data\": {\"bar\": [{\"error_x\": {\"color\": \"#2a3f5f\"}, \"error_y\": {\"color\": \"#2a3f5f\"}, \"marker\": {\"line\": {\"color\": \"#E5ECF6\", \"width\": 0.5}}, \"type\": \"bar\"}], \"barpolar\": [{\"marker\": {\"line\": {\"color\": \"#E5ECF6\", \"width\": 0.5}}, \"type\": \"barpolar\"}], \"carpet\": [{\"aaxis\": {\"endlinecolor\": \"#2a3f5f\", \"gridcolor\": \"white\", \"linecolor\": \"white\", \"minorgridcolor\": \"white\", \"startlinecolor\": \"#2a3f5f\"}, \"baxis\": {\"endlinecolor\": \"#2a3f5f\", \"gridcolor\": \"white\", \"linecolor\": \"white\", \"minorgridcolor\": \"white\", \"startlinecolor\": \"#2a3f5f\"}, \"type\": \"carpet\"}], \"choropleth\": [{\"colorbar\": {\"outlinewidth\": 0, \"ticks\": \"\"}, \"type\": \"choropleth\"}], \"contour\": [{\"colorbar\": {\"outlinewidth\": 0, \"ticks\": \"\"}, \"colorscale\": [[0.0, \"#0d0887\"], [0.1111111111111111, \"#46039f\"], [0.2222222222222222, \"#7201a8\"], [0.3333333333333333, \"#9c179e\"], [0.4444444444444444, \"#bd3786\"], [0.5555555555555556, \"#d8576b\"], [0.6666666666666666, \"#ed7953\"], [0.7777777777777778, \"#fb9f3a\"], [0.8888888888888888, \"#fdca26\"], [1.0, \"#f0f921\"]], \"type\": \"contour\"}], \"contourcarpet\": [{\"colorbar\": {\"outlinewidth\": 0, \"ticks\": \"\"}, \"type\": \"contourcarpet\"}], \"heatmap\": [{\"colorbar\": {\"outlinewidth\": 0, \"ticks\": \"\"}, \"colorscale\": [[0.0, \"#0d0887\"], [0.1111111111111111, \"#46039f\"], [0.2222222222222222, \"#7201a8\"], [0.3333333333333333, \"#9c179e\"], [0.4444444444444444, \"#bd3786\"], [0.5555555555555556, \"#d8576b\"], [0.6666666666666666, \"#ed7953\"], [0.7777777777777778, \"#fb9f3a\"], [0.8888888888888888, \"#fdca26\"], [1.0, \"#f0f921\"]], \"type\": \"heatmap\"}], \"heatmapgl\": [{\"colorbar\": {\"outlinewidth\": 0, \"ticks\": \"\"}, \"colorscale\": [[0.0, \"#0d0887\"], [0.1111111111111111, \"#46039f\"], [0.2222222222222222, \"#7201a8\"], [0.3333333333333333, \"#9c179e\"], [0.4444444444444444, \"#bd3786\"], [0.5555555555555556, \"#d8576b\"], [0.6666666666666666, \"#ed7953\"], [0.7777777777777778, \"#fb9f3a\"], [0.8888888888888888, \"#fdca26\"], [1.0, \"#f0f921\"]], \"type\": \"heatmapgl\"}], \"histogram\": [{\"marker\": {\"colorbar\": {\"outlinewidth\": 0, \"ticks\": \"\"}}, \"type\": \"histogram\"}], \"histogram2d\": [{\"colorbar\": {\"outlinewidth\": 0, \"ticks\": \"\"}, \"colorscale\": [[0.0, \"#0d0887\"], [0.1111111111111111, \"#46039f\"], [0.2222222222222222, \"#7201a8\"], [0.3333333333333333, \"#9c179e\"], [0.4444444444444444, \"#bd3786\"], [0.5555555555555556, \"#d8576b\"], [0.6666666666666666, \"#ed7953\"], [0.7777777777777778, \"#fb9f3a\"], [0.8888888888888888, \"#fdca26\"], [1.0, \"#f0f921\"]], \"type\": \"histogram2d\"}], \"histogram2dcontour\": [{\"colorbar\": {\"outlinewidth\": 0, \"ticks\": \"\"}, \"colorscale\": [[0.0, \"#0d0887\"], [0.1111111111111111, \"#46039f\"], [0.2222222222222222, \"#7201a8\"], [0.3333333333333333, \"#9c179e\"], [0.4444444444444444, \"#bd3786\"], [0.5555555555555556, \"#d8576b\"], [0.6666666666666666, \"#ed7953\"], [0.7777777777777778, \"#fb9f3a\"], [0.8888888888888888, \"#fdca26\"], [1.0, \"#f0f921\"]], \"type\": \"histogram2dcontour\"}], \"mesh3d\": [{\"colorbar\": {\"outlinewidth\": 0, \"ticks\": \"\"}, \"type\": \"mesh3d\"}], \"parcoords\": [{\"line\": {\"colorbar\": {\"outlinewidth\": 0, \"ticks\": \"\"}}, \"type\": \"parcoords\"}], \"pie\": [{\"automargin\": true, \"type\": \"pie\"}], \"scatter\": [{\"marker\": {\"colorbar\": {\"outlinewidth\": 0, \"ticks\": \"\"}}, \"type\": \"scatter\"}], \"scatter3d\": [{\"line\": {\"colorbar\": {\"outlinewidth\": 0, \"ticks\": \"\"}}, \"marker\": {\"colorbar\": {\"outlinewidth\": 0, \"ticks\": \"\"}}, \"type\": \"scatter3d\"}], \"scattercarpet\": [{\"marker\": {\"colorbar\": {\"outlinewidth\": 0, \"ticks\": \"\"}}, \"type\": \"scattercarpet\"}], \"scattergeo\": [{\"marker\": {\"colorbar\": {\"outlinewidth\": 0, \"ticks\": \"\"}}, \"type\": \"scattergeo\"}], \"scattergl\": [{\"marker\": {\"colorbar\": {\"outlinewidth\": 0, \"ticks\": \"\"}}, \"type\": \"scattergl\"}], \"scattermapbox\": [{\"marker\": {\"colorbar\": {\"outlinewidth\": 0, \"ticks\": \"\"}}, \"type\": \"scattermapbox\"}], \"scatterpolar\": [{\"marker\": {\"colorbar\": {\"outlinewidth\": 0, \"ticks\": \"\"}}, \"type\": \"scatterpolar\"}], \"scatterpolargl\": [{\"marker\": {\"colorbar\": {\"outlinewidth\": 0, \"ticks\": \"\"}}, \"type\": \"scatterpolargl\"}], \"scatterternary\": [{\"marker\": {\"colorbar\": {\"outlinewidth\": 0, \"ticks\": \"\"}}, \"type\": \"scatterternary\"}], \"surface\": [{\"colorbar\": {\"outlinewidth\": 0, \"ticks\": \"\"}, \"colorscale\": [[0.0, \"#0d0887\"], [0.1111111111111111, \"#46039f\"], [0.2222222222222222, \"#7201a8\"], [0.3333333333333333, \"#9c179e\"], [0.4444444444444444, \"#bd3786\"], [0.5555555555555556, \"#d8576b\"], [0.6666666666666666, \"#ed7953\"], [0.7777777777777778, \"#fb9f3a\"], [0.8888888888888888, \"#fdca26\"], [1.0, \"#f0f921\"]], \"type\": \"surface\"}], \"table\": [{\"cells\": {\"fill\": {\"color\": \"#EBF0F8\"}, \"line\": {\"color\": \"white\"}}, \"header\": {\"fill\": {\"color\": \"#C8D4E3\"}, \"line\": {\"color\": \"white\"}}, \"type\": \"table\"}]}, \"layout\": {\"annotationdefaults\": {\"arrowcolor\": \"#2a3f5f\", \"arrowhead\": 0, \"arrowwidth\": 1}, \"coloraxis\": {\"colorbar\": {\"outlinewidth\": 0, \"ticks\": \"\"}}, \"colorscale\": {\"diverging\": [[0, \"#8e0152\"], [0.1, \"#c51b7d\"], [0.2, \"#de77ae\"], [0.3, \"#f1b6da\"], [0.4, \"#fde0ef\"], [0.5, \"#f7f7f7\"], [0.6, \"#e6f5d0\"], [0.7, \"#b8e186\"], [0.8, \"#7fbc41\"], [0.9, \"#4d9221\"], [1, \"#276419\"]], \"sequential\": [[0.0, \"#0d0887\"], [0.1111111111111111, \"#46039f\"], [0.2222222222222222, \"#7201a8\"], [0.3333333333333333, \"#9c179e\"], [0.4444444444444444, \"#bd3786\"], [0.5555555555555556, \"#d8576b\"], [0.6666666666666666, \"#ed7953\"], [0.7777777777777778, \"#fb9f3a\"], [0.8888888888888888, \"#fdca26\"], [1.0, \"#f0f921\"]], \"sequentialminus\": [[0.0, \"#0d0887\"], [0.1111111111111111, \"#46039f\"], [0.2222222222222222, \"#7201a8\"], [0.3333333333333333, \"#9c179e\"], [0.4444444444444444, \"#bd3786\"], [0.5555555555555556, \"#d8576b\"], [0.6666666666666666, \"#ed7953\"], [0.7777777777777778, \"#fb9f3a\"], [0.8888888888888888, \"#fdca26\"], [1.0, \"#f0f921\"]]}, \"colorway\": [\"#636efa\", \"#EF553B\", \"#00cc96\", \"#ab63fa\", \"#FFA15A\", \"#19d3f3\", \"#FF6692\", \"#B6E880\", \"#FF97FF\", \"#FECB52\"], \"font\": {\"color\": \"#2a3f5f\"}, \"geo\": {\"bgcolor\": \"white\", \"lakecolor\": \"white\", \"landcolor\": \"#E5ECF6\", \"showlakes\": true, \"showland\": true, \"subunitcolor\": \"white\"}, \"hoverlabel\": {\"align\": \"left\"}, \"hovermode\": \"closest\", \"mapbox\": {\"style\": \"light\"}, \"paper_bgcolor\": \"white\", \"plot_bgcolor\": \"#E5ECF6\", \"polar\": {\"angularaxis\": {\"gridcolor\": \"white\", \"linecolor\": \"white\", \"ticks\": \"\"}, \"bgcolor\": \"#E5ECF6\", \"radialaxis\": {\"gridcolor\": \"white\", \"linecolor\": \"white\", \"ticks\": \"\"}}, \"scene\": {\"xaxis\": {\"backgroundcolor\": \"#E5ECF6\", \"gridcolor\": \"white\", \"gridwidth\": 2, \"linecolor\": \"white\", \"showbackground\": true, \"ticks\": \"\", \"zerolinecolor\": \"white\"}, \"yaxis\": {\"backgroundcolor\": \"#E5ECF6\", \"gridcolor\": \"white\", \"gridwidth\": 2, \"linecolor\": \"white\", \"showbackground\": true, \"ticks\": \"\", \"zerolinecolor\": \"white\"}, \"zaxis\": {\"backgroundcolor\": \"#E5ECF6\", \"gridcolor\": \"white\", \"gridwidth\": 2, \"linecolor\": \"white\", \"showbackground\": true, \"ticks\": \"\", \"zerolinecolor\": \"white\"}}, \"shapedefaults\": {\"line\": {\"color\": \"#2a3f5f\"}}, \"ternary\": {\"aaxis\": {\"gridcolor\": \"white\", \"linecolor\": \"white\", \"ticks\": \"\"}, \"baxis\": {\"gridcolor\": \"white\", \"linecolor\": \"white\", \"ticks\": \"\"}, \"bgcolor\": \"#E5ECF6\", \"caxis\": {\"gridcolor\": \"white\", \"linecolor\": \"white\", \"ticks\": \"\"}}, \"title\": {\"x\": 0.05}, \"xaxis\": {\"automargin\": true, \"gridcolor\": \"white\", \"linecolor\": \"white\", \"ticks\": \"\", \"title\": {\"standoff\": 15}, \"zerolinecolor\": \"white\", \"zerolinewidth\": 2}, \"yaxis\": {\"automargin\": true, \"gridcolor\": \"white\", \"linecolor\": \"white\", \"ticks\": \"\", \"title\": {\"standoff\": 15}, \"zerolinecolor\": \"white\", \"zerolinewidth\": 2}}}, \"title\": {\"font\": {\"color\": \"#4D5663\"}}, \"xaxis\": {\"gridcolor\": \"#E1E5ED\", \"showgrid\": true, \"tickfont\": {\"color\": \"#4D5663\"}, \"title\": {\"font\": {\"color\": \"#4D5663\"}, \"text\": \"\"}, \"zerolinecolor\": \"#E1E5ED\"}, \"yaxis\": {\"gridcolor\": \"#E1E5ED\", \"showgrid\": true, \"tickfont\": {\"color\": \"#4D5663\"}, \"title\": {\"font\": {\"color\": \"#4D5663\"}, \"text\": \"\"}, \"zerolinecolor\": \"#E1E5ED\"}},\n",
       "                        {\"showLink\": true, \"linkText\": \"Export to plot.ly\", \"plotlyServerURL\": \"https://plot.ly\", \"responsive\": true}\n",
       "                    ).then(function(){\n",
       "                            \n",
       "var gd = document.getElementById('2c799e9e-b24d-4ceb-aef1-3534e8093741');\n",
       "var x = new MutationObserver(function (mutations, observer) {{\n",
       "        var display = window.getComputedStyle(gd).display;\n",
       "        if (!display || display === 'none') {{\n",
       "            console.log([gd, 'removed!']);\n",
       "            Plotly.purge(gd);\n",
       "            observer.disconnect();\n",
       "        }}\n",
       "}});\n",
       "\n",
       "// Listen for the removal of the full notebook cells\n",
       "var notebookContainer = gd.closest('#notebook-container');\n",
       "if (notebookContainer) {{\n",
       "    x.observe(notebookContainer, {childList: true});\n",
       "}}\n",
       "\n",
       "// Listen for the clearing of the current output cell\n",
       "var outputEl = gd.closest('.output');\n",
       "if (outputEl) {{\n",
       "    x.observe(outputEl, {childList: true});\n",
       "}}\n",
       "\n",
       "                        })\n",
       "                };\n",
       "                });\n",
       "            </script>\n",
       "        </div>"
      ]
     },
     "metadata": {},
     "output_type": "display_data"
    }
   ],
   "source": [
    "df.iplot()"
   ]
  },
  {
   "cell_type": "markdown",
   "metadata": {},
   "source": [
    "## Bar Plots"
   ]
  },
  {
   "cell_type": "code",
   "execution_count": 28,
   "metadata": {},
   "outputs": [
    {
     "data": {
      "application/vnd.plotly.v1+json": {
       "config": {
        "linkText": "Export to plot.ly",
        "plotlyServerURL": "https://plot.ly",
        "showLink": true
       },
       "data": [
        {
         "marker": {
          "color": "rgba(255, 153, 51, 0.6)",
          "line": {
           "color": "rgba(255, 153, 51, 1.0)",
           "width": 1
          }
         },
         "name": "Values",
         "orientation": "v",
         "text": "",
         "type": "bar",
         "x": [
          "A",
          "B",
          "C"
         ],
         "y": [
          32,
          43,
          50
         ]
        }
       ],
       "layout": {
        "legend": {
         "bgcolor": "#F5F6F9",
         "font": {
          "color": "#4D5663"
         }
        },
        "paper_bgcolor": "#F5F6F9",
        "plot_bgcolor": "#F5F6F9",
        "template": {
         "data": {
          "bar": [
           {
            "error_x": {
             "color": "#2a3f5f"
            },
            "error_y": {
             "color": "#2a3f5f"
            },
            "marker": {
             "line": {
              "color": "#E5ECF6",
              "width": 0.5
             }
            },
            "type": "bar"
           }
          ],
          "barpolar": [
           {
            "marker": {
             "line": {
              "color": "#E5ECF6",
              "width": 0.5
             }
            },
            "type": "barpolar"
           }
          ],
          "carpet": [
           {
            "aaxis": {
             "endlinecolor": "#2a3f5f",
             "gridcolor": "white",
             "linecolor": "white",
             "minorgridcolor": "white",
             "startlinecolor": "#2a3f5f"
            },
            "baxis": {
             "endlinecolor": "#2a3f5f",
             "gridcolor": "white",
             "linecolor": "white",
             "minorgridcolor": "white",
             "startlinecolor": "#2a3f5f"
            },
            "type": "carpet"
           }
          ],
          "choropleth": [
           {
            "colorbar": {
             "outlinewidth": 0,
             "ticks": ""
            },
            "type": "choropleth"
           }
          ],
          "contour": [
           {
            "colorbar": {
             "outlinewidth": 0,
             "ticks": ""
            },
            "colorscale": [
             [
              0,
              "#0d0887"
             ],
             [
              0.1111111111111111,
              "#46039f"
             ],
             [
              0.2222222222222222,
              "#7201a8"
             ],
             [
              0.3333333333333333,
              "#9c179e"
             ],
             [
              0.4444444444444444,
              "#bd3786"
             ],
             [
              0.5555555555555556,
              "#d8576b"
             ],
             [
              0.6666666666666666,
              "#ed7953"
             ],
             [
              0.7777777777777778,
              "#fb9f3a"
             ],
             [
              0.8888888888888888,
              "#fdca26"
             ],
             [
              1,
              "#f0f921"
             ]
            ],
            "type": "contour"
           }
          ],
          "contourcarpet": [
           {
            "colorbar": {
             "outlinewidth": 0,
             "ticks": ""
            },
            "type": "contourcarpet"
           }
          ],
          "heatmap": [
           {
            "colorbar": {
             "outlinewidth": 0,
             "ticks": ""
            },
            "colorscale": [
             [
              0,
              "#0d0887"
             ],
             [
              0.1111111111111111,
              "#46039f"
             ],
             [
              0.2222222222222222,
              "#7201a8"
             ],
             [
              0.3333333333333333,
              "#9c179e"
             ],
             [
              0.4444444444444444,
              "#bd3786"
             ],
             [
              0.5555555555555556,
              "#d8576b"
             ],
             [
              0.6666666666666666,
              "#ed7953"
             ],
             [
              0.7777777777777778,
              "#fb9f3a"
             ],
             [
              0.8888888888888888,
              "#fdca26"
             ],
             [
              1,
              "#f0f921"
             ]
            ],
            "type": "heatmap"
           }
          ],
          "heatmapgl": [
           {
            "colorbar": {
             "outlinewidth": 0,
             "ticks": ""
            },
            "colorscale": [
             [
              0,
              "#0d0887"
             ],
             [
              0.1111111111111111,
              "#46039f"
             ],
             [
              0.2222222222222222,
              "#7201a8"
             ],
             [
              0.3333333333333333,
              "#9c179e"
             ],
             [
              0.4444444444444444,
              "#bd3786"
             ],
             [
              0.5555555555555556,
              "#d8576b"
             ],
             [
              0.6666666666666666,
              "#ed7953"
             ],
             [
              0.7777777777777778,
              "#fb9f3a"
             ],
             [
              0.8888888888888888,
              "#fdca26"
             ],
             [
              1,
              "#f0f921"
             ]
            ],
            "type": "heatmapgl"
           }
          ],
          "histogram": [
           {
            "marker": {
             "colorbar": {
              "outlinewidth": 0,
              "ticks": ""
             }
            },
            "type": "histogram"
           }
          ],
          "histogram2d": [
           {
            "colorbar": {
             "outlinewidth": 0,
             "ticks": ""
            },
            "colorscale": [
             [
              0,
              "#0d0887"
             ],
             [
              0.1111111111111111,
              "#46039f"
             ],
             [
              0.2222222222222222,
              "#7201a8"
             ],
             [
              0.3333333333333333,
              "#9c179e"
             ],
             [
              0.4444444444444444,
              "#bd3786"
             ],
             [
              0.5555555555555556,
              "#d8576b"
             ],
             [
              0.6666666666666666,
              "#ed7953"
             ],
             [
              0.7777777777777778,
              "#fb9f3a"
             ],
             [
              0.8888888888888888,
              "#fdca26"
             ],
             [
              1,
              "#f0f921"
             ]
            ],
            "type": "histogram2d"
           }
          ],
          "histogram2dcontour": [
           {
            "colorbar": {
             "outlinewidth": 0,
             "ticks": ""
            },
            "colorscale": [
             [
              0,
              "#0d0887"
             ],
             [
              0.1111111111111111,
              "#46039f"
             ],
             [
              0.2222222222222222,
              "#7201a8"
             ],
             [
              0.3333333333333333,
              "#9c179e"
             ],
             [
              0.4444444444444444,
              "#bd3786"
             ],
             [
              0.5555555555555556,
              "#d8576b"
             ],
             [
              0.6666666666666666,
              "#ed7953"
             ],
             [
              0.7777777777777778,
              "#fb9f3a"
             ],
             [
              0.8888888888888888,
              "#fdca26"
             ],
             [
              1,
              "#f0f921"
             ]
            ],
            "type": "histogram2dcontour"
           }
          ],
          "mesh3d": [
           {
            "colorbar": {
             "outlinewidth": 0,
             "ticks": ""
            },
            "type": "mesh3d"
           }
          ],
          "parcoords": [
           {
            "line": {
             "colorbar": {
              "outlinewidth": 0,
              "ticks": ""
             }
            },
            "type": "parcoords"
           }
          ],
          "pie": [
           {
            "automargin": true,
            "type": "pie"
           }
          ],
          "scatter": [
           {
            "marker": {
             "colorbar": {
              "outlinewidth": 0,
              "ticks": ""
             }
            },
            "type": "scatter"
           }
          ],
          "scatter3d": [
           {
            "line": {
             "colorbar": {
              "outlinewidth": 0,
              "ticks": ""
             }
            },
            "marker": {
             "colorbar": {
              "outlinewidth": 0,
              "ticks": ""
             }
            },
            "type": "scatter3d"
           }
          ],
          "scattercarpet": [
           {
            "marker": {
             "colorbar": {
              "outlinewidth": 0,
              "ticks": ""
             }
            },
            "type": "scattercarpet"
           }
          ],
          "scattergeo": [
           {
            "marker": {
             "colorbar": {
              "outlinewidth": 0,
              "ticks": ""
             }
            },
            "type": "scattergeo"
           }
          ],
          "scattergl": [
           {
            "marker": {
             "colorbar": {
              "outlinewidth": 0,
              "ticks": ""
             }
            },
            "type": "scattergl"
           }
          ],
          "scattermapbox": [
           {
            "marker": {
             "colorbar": {
              "outlinewidth": 0,
              "ticks": ""
             }
            },
            "type": "scattermapbox"
           }
          ],
          "scatterpolar": [
           {
            "marker": {
             "colorbar": {
              "outlinewidth": 0,
              "ticks": ""
             }
            },
            "type": "scatterpolar"
           }
          ],
          "scatterpolargl": [
           {
            "marker": {
             "colorbar": {
              "outlinewidth": 0,
              "ticks": ""
             }
            },
            "type": "scatterpolargl"
           }
          ],
          "scatterternary": [
           {
            "marker": {
             "colorbar": {
              "outlinewidth": 0,
              "ticks": ""
             }
            },
            "type": "scatterternary"
           }
          ],
          "surface": [
           {
            "colorbar": {
             "outlinewidth": 0,
             "ticks": ""
            },
            "colorscale": [
             [
              0,
              "#0d0887"
             ],
             [
              0.1111111111111111,
              "#46039f"
             ],
             [
              0.2222222222222222,
              "#7201a8"
             ],
             [
              0.3333333333333333,
              "#9c179e"
             ],
             [
              0.4444444444444444,
              "#bd3786"
             ],
             [
              0.5555555555555556,
              "#d8576b"
             ],
             [
              0.6666666666666666,
              "#ed7953"
             ],
             [
              0.7777777777777778,
              "#fb9f3a"
             ],
             [
              0.8888888888888888,
              "#fdca26"
             ],
             [
              1,
              "#f0f921"
             ]
            ],
            "type": "surface"
           }
          ],
          "table": [
           {
            "cells": {
             "fill": {
              "color": "#EBF0F8"
             },
             "line": {
              "color": "white"
             }
            },
            "header": {
             "fill": {
              "color": "#C8D4E3"
             },
             "line": {
              "color": "white"
             }
            },
            "type": "table"
           }
          ]
         },
         "layout": {
          "annotationdefaults": {
           "arrowcolor": "#2a3f5f",
           "arrowhead": 0,
           "arrowwidth": 1
          },
          "coloraxis": {
           "colorbar": {
            "outlinewidth": 0,
            "ticks": ""
           }
          },
          "colorscale": {
           "diverging": [
            [
             0,
             "#8e0152"
            ],
            [
             0.1,
             "#c51b7d"
            ],
            [
             0.2,
             "#de77ae"
            ],
            [
             0.3,
             "#f1b6da"
            ],
            [
             0.4,
             "#fde0ef"
            ],
            [
             0.5,
             "#f7f7f7"
            ],
            [
             0.6,
             "#e6f5d0"
            ],
            [
             0.7,
             "#b8e186"
            ],
            [
             0.8,
             "#7fbc41"
            ],
            [
             0.9,
             "#4d9221"
            ],
            [
             1,
             "#276419"
            ]
           ],
           "sequential": [
            [
             0,
             "#0d0887"
            ],
            [
             0.1111111111111111,
             "#46039f"
            ],
            [
             0.2222222222222222,
             "#7201a8"
            ],
            [
             0.3333333333333333,
             "#9c179e"
            ],
            [
             0.4444444444444444,
             "#bd3786"
            ],
            [
             0.5555555555555556,
             "#d8576b"
            ],
            [
             0.6666666666666666,
             "#ed7953"
            ],
            [
             0.7777777777777778,
             "#fb9f3a"
            ],
            [
             0.8888888888888888,
             "#fdca26"
            ],
            [
             1,
             "#f0f921"
            ]
           ],
           "sequentialminus": [
            [
             0,
             "#0d0887"
            ],
            [
             0.1111111111111111,
             "#46039f"
            ],
            [
             0.2222222222222222,
             "#7201a8"
            ],
            [
             0.3333333333333333,
             "#9c179e"
            ],
            [
             0.4444444444444444,
             "#bd3786"
            ],
            [
             0.5555555555555556,
             "#d8576b"
            ],
            [
             0.6666666666666666,
             "#ed7953"
            ],
            [
             0.7777777777777778,
             "#fb9f3a"
            ],
            [
             0.8888888888888888,
             "#fdca26"
            ],
            [
             1,
             "#f0f921"
            ]
           ]
          },
          "colorway": [
           "#636efa",
           "#EF553B",
           "#00cc96",
           "#ab63fa",
           "#FFA15A",
           "#19d3f3",
           "#FF6692",
           "#B6E880",
           "#FF97FF",
           "#FECB52"
          ],
          "font": {
           "color": "#2a3f5f"
          },
          "geo": {
           "bgcolor": "white",
           "lakecolor": "white",
           "landcolor": "#E5ECF6",
           "showlakes": true,
           "showland": true,
           "subunitcolor": "white"
          },
          "hoverlabel": {
           "align": "left"
          },
          "hovermode": "closest",
          "mapbox": {
           "style": "light"
          },
          "paper_bgcolor": "white",
          "plot_bgcolor": "#E5ECF6",
          "polar": {
           "angularaxis": {
            "gridcolor": "white",
            "linecolor": "white",
            "ticks": ""
           },
           "bgcolor": "#E5ECF6",
           "radialaxis": {
            "gridcolor": "white",
            "linecolor": "white",
            "ticks": ""
           }
          },
          "scene": {
           "xaxis": {
            "backgroundcolor": "#E5ECF6",
            "gridcolor": "white",
            "gridwidth": 2,
            "linecolor": "white",
            "showbackground": true,
            "ticks": "",
            "zerolinecolor": "white"
           },
           "yaxis": {
            "backgroundcolor": "#E5ECF6",
            "gridcolor": "white",
            "gridwidth": 2,
            "linecolor": "white",
            "showbackground": true,
            "ticks": "",
            "zerolinecolor": "white"
           },
           "zaxis": {
            "backgroundcolor": "#E5ECF6",
            "gridcolor": "white",
            "gridwidth": 2,
            "linecolor": "white",
            "showbackground": true,
            "ticks": "",
            "zerolinecolor": "white"
           }
          },
          "shapedefaults": {
           "line": {
            "color": "#2a3f5f"
           }
          },
          "ternary": {
           "aaxis": {
            "gridcolor": "white",
            "linecolor": "white",
            "ticks": ""
           },
           "baxis": {
            "gridcolor": "white",
            "linecolor": "white",
            "ticks": ""
           },
           "bgcolor": "#E5ECF6",
           "caxis": {
            "gridcolor": "white",
            "linecolor": "white",
            "ticks": ""
           }
          },
          "title": {
           "x": 0.05
          },
          "xaxis": {
           "automargin": true,
           "gridcolor": "white",
           "linecolor": "white",
           "ticks": "",
           "title": {
            "standoff": 15
           },
           "zerolinecolor": "white",
           "zerolinewidth": 2
          },
          "yaxis": {
           "automargin": true,
           "gridcolor": "white",
           "linecolor": "white",
           "ticks": "",
           "title": {
            "standoff": 15
           },
           "zerolinecolor": "white",
           "zerolinewidth": 2
          }
         }
        },
        "title": {
         "font": {
          "color": "#4D5663"
         }
        },
        "xaxis": {
         "gridcolor": "#E1E5ED",
         "showgrid": true,
         "tickfont": {
          "color": "#4D5663"
         },
         "title": {
          "font": {
           "color": "#4D5663"
          },
          "text": ""
         },
         "zerolinecolor": "#E1E5ED"
        },
        "yaxis": {
         "gridcolor": "#E1E5ED",
         "showgrid": true,
         "tickfont": {
          "color": "#4D5663"
         },
         "title": {
          "font": {
           "color": "#4D5663"
          },
          "text": ""
         },
         "zerolinecolor": "#E1E5ED"
        }
       }
      },
      "text/html": [
       "<div>\n",
       "        \n",
       "        \n",
       "            <div id=\"7874d0a1-9159-4699-9285-41cc3e9de5e3\" class=\"plotly-graph-div\" style=\"height:525px; width:100%;\"></div>\n",
       "            <script type=\"text/javascript\">\n",
       "                require([\"plotly\"], function(Plotly) {\n",
       "                    window.PLOTLYENV=window.PLOTLYENV || {};\n",
       "                    window.PLOTLYENV.BASE_URL='https://plot.ly';\n",
       "                    \n",
       "                if (document.getElementById(\"7874d0a1-9159-4699-9285-41cc3e9de5e3\")) {\n",
       "                    Plotly.newPlot(\n",
       "                        '7874d0a1-9159-4699-9285-41cc3e9de5e3',\n",
       "                        [{\"marker\": {\"color\": \"rgba(255, 153, 51, 0.6)\", \"line\": {\"color\": \"rgba(255, 153, 51, 1.0)\", \"width\": 1}}, \"name\": \"Values\", \"orientation\": \"v\", \"text\": \"\", \"type\": \"bar\", \"x\": [\"A\", \"B\", \"C\"], \"y\": [32, 43, 50]}],\n",
       "                        {\"legend\": {\"bgcolor\": \"#F5F6F9\", \"font\": {\"color\": \"#4D5663\"}}, \"paper_bgcolor\": \"#F5F6F9\", \"plot_bgcolor\": \"#F5F6F9\", \"template\": {\"data\": {\"bar\": [{\"error_x\": {\"color\": \"#2a3f5f\"}, \"error_y\": {\"color\": \"#2a3f5f\"}, \"marker\": {\"line\": {\"color\": \"#E5ECF6\", \"width\": 0.5}}, \"type\": \"bar\"}], \"barpolar\": [{\"marker\": {\"line\": {\"color\": \"#E5ECF6\", \"width\": 0.5}}, \"type\": \"barpolar\"}], \"carpet\": [{\"aaxis\": {\"endlinecolor\": \"#2a3f5f\", \"gridcolor\": \"white\", \"linecolor\": \"white\", \"minorgridcolor\": \"white\", \"startlinecolor\": \"#2a3f5f\"}, \"baxis\": {\"endlinecolor\": \"#2a3f5f\", \"gridcolor\": \"white\", \"linecolor\": \"white\", \"minorgridcolor\": \"white\", \"startlinecolor\": \"#2a3f5f\"}, \"type\": \"carpet\"}], \"choropleth\": [{\"colorbar\": {\"outlinewidth\": 0, \"ticks\": \"\"}, \"type\": \"choropleth\"}], \"contour\": [{\"colorbar\": {\"outlinewidth\": 0, \"ticks\": \"\"}, \"colorscale\": [[0.0, \"#0d0887\"], [0.1111111111111111, \"#46039f\"], [0.2222222222222222, \"#7201a8\"], [0.3333333333333333, \"#9c179e\"], [0.4444444444444444, \"#bd3786\"], [0.5555555555555556, \"#d8576b\"], [0.6666666666666666, \"#ed7953\"], [0.7777777777777778, \"#fb9f3a\"], [0.8888888888888888, \"#fdca26\"], [1.0, \"#f0f921\"]], \"type\": \"contour\"}], \"contourcarpet\": [{\"colorbar\": {\"outlinewidth\": 0, \"ticks\": \"\"}, \"type\": \"contourcarpet\"}], \"heatmap\": [{\"colorbar\": {\"outlinewidth\": 0, \"ticks\": \"\"}, \"colorscale\": [[0.0, \"#0d0887\"], [0.1111111111111111, \"#46039f\"], [0.2222222222222222, \"#7201a8\"], [0.3333333333333333, \"#9c179e\"], [0.4444444444444444, \"#bd3786\"], [0.5555555555555556, \"#d8576b\"], [0.6666666666666666, \"#ed7953\"], [0.7777777777777778, \"#fb9f3a\"], [0.8888888888888888, \"#fdca26\"], [1.0, \"#f0f921\"]], \"type\": \"heatmap\"}], \"heatmapgl\": [{\"colorbar\": {\"outlinewidth\": 0, \"ticks\": \"\"}, \"colorscale\": [[0.0, \"#0d0887\"], [0.1111111111111111, \"#46039f\"], [0.2222222222222222, \"#7201a8\"], [0.3333333333333333, \"#9c179e\"], [0.4444444444444444, \"#bd3786\"], [0.5555555555555556, \"#d8576b\"], [0.6666666666666666, \"#ed7953\"], [0.7777777777777778, \"#fb9f3a\"], [0.8888888888888888, \"#fdca26\"], [1.0, \"#f0f921\"]], \"type\": \"heatmapgl\"}], \"histogram\": [{\"marker\": {\"colorbar\": {\"outlinewidth\": 0, \"ticks\": \"\"}}, \"type\": \"histogram\"}], \"histogram2d\": [{\"colorbar\": {\"outlinewidth\": 0, \"ticks\": \"\"}, \"colorscale\": [[0.0, \"#0d0887\"], [0.1111111111111111, \"#46039f\"], [0.2222222222222222, \"#7201a8\"], [0.3333333333333333, \"#9c179e\"], [0.4444444444444444, \"#bd3786\"], [0.5555555555555556, \"#d8576b\"], [0.6666666666666666, \"#ed7953\"], [0.7777777777777778, \"#fb9f3a\"], [0.8888888888888888, \"#fdca26\"], [1.0, \"#f0f921\"]], \"type\": \"histogram2d\"}], \"histogram2dcontour\": [{\"colorbar\": {\"outlinewidth\": 0, \"ticks\": \"\"}, \"colorscale\": [[0.0, \"#0d0887\"], [0.1111111111111111, \"#46039f\"], [0.2222222222222222, \"#7201a8\"], [0.3333333333333333, \"#9c179e\"], [0.4444444444444444, \"#bd3786\"], [0.5555555555555556, \"#d8576b\"], [0.6666666666666666, \"#ed7953\"], [0.7777777777777778, \"#fb9f3a\"], [0.8888888888888888, \"#fdca26\"], [1.0, \"#f0f921\"]], \"type\": \"histogram2dcontour\"}], \"mesh3d\": [{\"colorbar\": {\"outlinewidth\": 0, \"ticks\": \"\"}, \"type\": \"mesh3d\"}], \"parcoords\": [{\"line\": {\"colorbar\": {\"outlinewidth\": 0, \"ticks\": \"\"}}, \"type\": \"parcoords\"}], \"pie\": [{\"automargin\": true, \"type\": \"pie\"}], \"scatter\": [{\"marker\": {\"colorbar\": {\"outlinewidth\": 0, \"ticks\": \"\"}}, \"type\": \"scatter\"}], \"scatter3d\": [{\"line\": {\"colorbar\": {\"outlinewidth\": 0, \"ticks\": \"\"}}, \"marker\": {\"colorbar\": {\"outlinewidth\": 0, \"ticks\": \"\"}}, \"type\": \"scatter3d\"}], \"scattercarpet\": [{\"marker\": {\"colorbar\": {\"outlinewidth\": 0, \"ticks\": \"\"}}, \"type\": \"scattercarpet\"}], \"scattergeo\": [{\"marker\": {\"colorbar\": {\"outlinewidth\": 0, \"ticks\": \"\"}}, \"type\": \"scattergeo\"}], \"scattergl\": [{\"marker\": {\"colorbar\": {\"outlinewidth\": 0, \"ticks\": \"\"}}, \"type\": \"scattergl\"}], \"scattermapbox\": [{\"marker\": {\"colorbar\": {\"outlinewidth\": 0, \"ticks\": \"\"}}, \"type\": \"scattermapbox\"}], \"scatterpolar\": [{\"marker\": {\"colorbar\": {\"outlinewidth\": 0, \"ticks\": \"\"}}, \"type\": \"scatterpolar\"}], \"scatterpolargl\": [{\"marker\": {\"colorbar\": {\"outlinewidth\": 0, \"ticks\": \"\"}}, \"type\": \"scatterpolargl\"}], \"scatterternary\": [{\"marker\": {\"colorbar\": {\"outlinewidth\": 0, \"ticks\": \"\"}}, \"type\": \"scatterternary\"}], \"surface\": [{\"colorbar\": {\"outlinewidth\": 0, \"ticks\": \"\"}, \"colorscale\": [[0.0, \"#0d0887\"], [0.1111111111111111, \"#46039f\"], [0.2222222222222222, \"#7201a8\"], [0.3333333333333333, \"#9c179e\"], [0.4444444444444444, \"#bd3786\"], [0.5555555555555556, \"#d8576b\"], [0.6666666666666666, \"#ed7953\"], [0.7777777777777778, \"#fb9f3a\"], [0.8888888888888888, \"#fdca26\"], [1.0, \"#f0f921\"]], \"type\": \"surface\"}], \"table\": [{\"cells\": {\"fill\": {\"color\": \"#EBF0F8\"}, \"line\": {\"color\": \"white\"}}, \"header\": {\"fill\": {\"color\": \"#C8D4E3\"}, \"line\": {\"color\": \"white\"}}, \"type\": \"table\"}]}, \"layout\": {\"annotationdefaults\": {\"arrowcolor\": \"#2a3f5f\", \"arrowhead\": 0, \"arrowwidth\": 1}, \"coloraxis\": {\"colorbar\": {\"outlinewidth\": 0, \"ticks\": \"\"}}, \"colorscale\": {\"diverging\": [[0, \"#8e0152\"], [0.1, \"#c51b7d\"], [0.2, \"#de77ae\"], [0.3, \"#f1b6da\"], [0.4, \"#fde0ef\"], [0.5, \"#f7f7f7\"], [0.6, \"#e6f5d0\"], [0.7, \"#b8e186\"], [0.8, \"#7fbc41\"], [0.9, \"#4d9221\"], [1, \"#276419\"]], \"sequential\": [[0.0, \"#0d0887\"], [0.1111111111111111, \"#46039f\"], [0.2222222222222222, \"#7201a8\"], [0.3333333333333333, \"#9c179e\"], [0.4444444444444444, \"#bd3786\"], [0.5555555555555556, \"#d8576b\"], [0.6666666666666666, \"#ed7953\"], [0.7777777777777778, \"#fb9f3a\"], [0.8888888888888888, \"#fdca26\"], [1.0, \"#f0f921\"]], \"sequentialminus\": [[0.0, \"#0d0887\"], [0.1111111111111111, \"#46039f\"], [0.2222222222222222, \"#7201a8\"], [0.3333333333333333, \"#9c179e\"], [0.4444444444444444, \"#bd3786\"], [0.5555555555555556, \"#d8576b\"], [0.6666666666666666, \"#ed7953\"], [0.7777777777777778, \"#fb9f3a\"], [0.8888888888888888, \"#fdca26\"], [1.0, \"#f0f921\"]]}, \"colorway\": [\"#636efa\", \"#EF553B\", \"#00cc96\", \"#ab63fa\", \"#FFA15A\", \"#19d3f3\", \"#FF6692\", \"#B6E880\", \"#FF97FF\", \"#FECB52\"], \"font\": {\"color\": \"#2a3f5f\"}, \"geo\": {\"bgcolor\": \"white\", \"lakecolor\": \"white\", \"landcolor\": \"#E5ECF6\", \"showlakes\": true, \"showland\": true, \"subunitcolor\": \"white\"}, \"hoverlabel\": {\"align\": \"left\"}, \"hovermode\": \"closest\", \"mapbox\": {\"style\": \"light\"}, \"paper_bgcolor\": \"white\", \"plot_bgcolor\": \"#E5ECF6\", \"polar\": {\"angularaxis\": {\"gridcolor\": \"white\", \"linecolor\": \"white\", \"ticks\": \"\"}, \"bgcolor\": \"#E5ECF6\", \"radialaxis\": {\"gridcolor\": \"white\", \"linecolor\": \"white\", \"ticks\": \"\"}}, \"scene\": {\"xaxis\": {\"backgroundcolor\": \"#E5ECF6\", \"gridcolor\": \"white\", \"gridwidth\": 2, \"linecolor\": \"white\", \"showbackground\": true, \"ticks\": \"\", \"zerolinecolor\": \"white\"}, \"yaxis\": {\"backgroundcolor\": \"#E5ECF6\", \"gridcolor\": \"white\", \"gridwidth\": 2, \"linecolor\": \"white\", \"showbackground\": true, \"ticks\": \"\", \"zerolinecolor\": \"white\"}, \"zaxis\": {\"backgroundcolor\": \"#E5ECF6\", \"gridcolor\": \"white\", \"gridwidth\": 2, \"linecolor\": \"white\", \"showbackground\": true, \"ticks\": \"\", \"zerolinecolor\": \"white\"}}, \"shapedefaults\": {\"line\": {\"color\": \"#2a3f5f\"}}, \"ternary\": {\"aaxis\": {\"gridcolor\": \"white\", \"linecolor\": \"white\", \"ticks\": \"\"}, \"baxis\": {\"gridcolor\": \"white\", \"linecolor\": \"white\", \"ticks\": \"\"}, \"bgcolor\": \"#E5ECF6\", \"caxis\": {\"gridcolor\": \"white\", \"linecolor\": \"white\", \"ticks\": \"\"}}, \"title\": {\"x\": 0.05}, \"xaxis\": {\"automargin\": true, \"gridcolor\": \"white\", \"linecolor\": \"white\", \"ticks\": \"\", \"title\": {\"standoff\": 15}, \"zerolinecolor\": \"white\", \"zerolinewidth\": 2}, \"yaxis\": {\"automargin\": true, \"gridcolor\": \"white\", \"linecolor\": \"white\", \"ticks\": \"\", \"title\": {\"standoff\": 15}, \"zerolinecolor\": \"white\", \"zerolinewidth\": 2}}}, \"title\": {\"font\": {\"color\": \"#4D5663\"}}, \"xaxis\": {\"gridcolor\": \"#E1E5ED\", \"showgrid\": true, \"tickfont\": {\"color\": \"#4D5663\"}, \"title\": {\"font\": {\"color\": \"#4D5663\"}, \"text\": \"\"}, \"zerolinecolor\": \"#E1E5ED\"}, \"yaxis\": {\"gridcolor\": \"#E1E5ED\", \"showgrid\": true, \"tickfont\": {\"color\": \"#4D5663\"}, \"title\": {\"font\": {\"color\": \"#4D5663\"}, \"text\": \"\"}, \"zerolinecolor\": \"#E1E5ED\"}},\n",
       "                        {\"showLink\": true, \"linkText\": \"Export to plot.ly\", \"plotlyServerURL\": \"https://plot.ly\", \"responsive\": true}\n",
       "                    ).then(function(){\n",
       "                            \n",
       "var gd = document.getElementById('7874d0a1-9159-4699-9285-41cc3e9de5e3');\n",
       "var x = new MutationObserver(function (mutations, observer) {{\n",
       "        var display = window.getComputedStyle(gd).display;\n",
       "        if (!display || display === 'none') {{\n",
       "            console.log([gd, 'removed!']);\n",
       "            Plotly.purge(gd);\n",
       "            observer.disconnect();\n",
       "        }}\n",
       "}});\n",
       "\n",
       "// Listen for the removal of the full notebook cells\n",
       "var notebookContainer = gd.closest('#notebook-container');\n",
       "if (notebookContainer) {{\n",
       "    x.observe(notebookContainer, {childList: true});\n",
       "}}\n",
       "\n",
       "// Listen for the clearing of the current output cell\n",
       "var outputEl = gd.closest('.output');\n",
       "if (outputEl) {{\n",
       "    x.observe(outputEl, {childList: true});\n",
       "}}\n",
       "\n",
       "                        })\n",
       "                };\n",
       "                });\n",
       "            </script>\n",
       "        </div>"
      ]
     },
     "metadata": {},
     "output_type": "display_data"
    }
   ],
   "source": [
    "df2.iplot(kind='bar',x='Category',y='Values')"
   ]
  },
  {
   "cell_type": "code",
   "execution_count": 37,
   "metadata": {},
   "outputs": [
    {
     "data": {
      "application/vnd.plotly.v1+json": {
       "config": {
        "linkText": "Export to plot.ly",
        "plotlyServerURL": "https://plot.ly",
        "showLink": true
       },
       "data": [
        {
         "marker": {
          "color": "rgba(255, 153, 51, 0.6)",
          "line": {
           "color": "rgba(255, 153, 51, 1.0)",
           "width": 1
          }
         },
         "name": "None",
         "orientation": "v",
         "text": "",
         "type": "bar",
         "x": [
          "A",
          "B",
          "C",
          "D"
         ],
         "y": [
          -18.319777386652195,
          0.07491063678254006,
          15.222846566240671,
          -8.505219539586875
         ]
        }
       ],
       "layout": {
        "legend": {
         "bgcolor": "#F5F6F9",
         "font": {
          "color": "#4D5663"
         }
        },
        "paper_bgcolor": "#F5F6F9",
        "plot_bgcolor": "#F5F6F9",
        "template": {
         "data": {
          "bar": [
           {
            "error_x": {
             "color": "#2a3f5f"
            },
            "error_y": {
             "color": "#2a3f5f"
            },
            "marker": {
             "line": {
              "color": "#E5ECF6",
              "width": 0.5
             }
            },
            "type": "bar"
           }
          ],
          "barpolar": [
           {
            "marker": {
             "line": {
              "color": "#E5ECF6",
              "width": 0.5
             }
            },
            "type": "barpolar"
           }
          ],
          "carpet": [
           {
            "aaxis": {
             "endlinecolor": "#2a3f5f",
             "gridcolor": "white",
             "linecolor": "white",
             "minorgridcolor": "white",
             "startlinecolor": "#2a3f5f"
            },
            "baxis": {
             "endlinecolor": "#2a3f5f",
             "gridcolor": "white",
             "linecolor": "white",
             "minorgridcolor": "white",
             "startlinecolor": "#2a3f5f"
            },
            "type": "carpet"
           }
          ],
          "choropleth": [
           {
            "colorbar": {
             "outlinewidth": 0,
             "ticks": ""
            },
            "type": "choropleth"
           }
          ],
          "contour": [
           {
            "colorbar": {
             "outlinewidth": 0,
             "ticks": ""
            },
            "colorscale": [
             [
              0,
              "#0d0887"
             ],
             [
              0.1111111111111111,
              "#46039f"
             ],
             [
              0.2222222222222222,
              "#7201a8"
             ],
             [
              0.3333333333333333,
              "#9c179e"
             ],
             [
              0.4444444444444444,
              "#bd3786"
             ],
             [
              0.5555555555555556,
              "#d8576b"
             ],
             [
              0.6666666666666666,
              "#ed7953"
             ],
             [
              0.7777777777777778,
              "#fb9f3a"
             ],
             [
              0.8888888888888888,
              "#fdca26"
             ],
             [
              1,
              "#f0f921"
             ]
            ],
            "type": "contour"
           }
          ],
          "contourcarpet": [
           {
            "colorbar": {
             "outlinewidth": 0,
             "ticks": ""
            },
            "type": "contourcarpet"
           }
          ],
          "heatmap": [
           {
            "colorbar": {
             "outlinewidth": 0,
             "ticks": ""
            },
            "colorscale": [
             [
              0,
              "#0d0887"
             ],
             [
              0.1111111111111111,
              "#46039f"
             ],
             [
              0.2222222222222222,
              "#7201a8"
             ],
             [
              0.3333333333333333,
              "#9c179e"
             ],
             [
              0.4444444444444444,
              "#bd3786"
             ],
             [
              0.5555555555555556,
              "#d8576b"
             ],
             [
              0.6666666666666666,
              "#ed7953"
             ],
             [
              0.7777777777777778,
              "#fb9f3a"
             ],
             [
              0.8888888888888888,
              "#fdca26"
             ],
             [
              1,
              "#f0f921"
             ]
            ],
            "type": "heatmap"
           }
          ],
          "heatmapgl": [
           {
            "colorbar": {
             "outlinewidth": 0,
             "ticks": ""
            },
            "colorscale": [
             [
              0,
              "#0d0887"
             ],
             [
              0.1111111111111111,
              "#46039f"
             ],
             [
              0.2222222222222222,
              "#7201a8"
             ],
             [
              0.3333333333333333,
              "#9c179e"
             ],
             [
              0.4444444444444444,
              "#bd3786"
             ],
             [
              0.5555555555555556,
              "#d8576b"
             ],
             [
              0.6666666666666666,
              "#ed7953"
             ],
             [
              0.7777777777777778,
              "#fb9f3a"
             ],
             [
              0.8888888888888888,
              "#fdca26"
             ],
             [
              1,
              "#f0f921"
             ]
            ],
            "type": "heatmapgl"
           }
          ],
          "histogram": [
           {
            "marker": {
             "colorbar": {
              "outlinewidth": 0,
              "ticks": ""
             }
            },
            "type": "histogram"
           }
          ],
          "histogram2d": [
           {
            "colorbar": {
             "outlinewidth": 0,
             "ticks": ""
            },
            "colorscale": [
             [
              0,
              "#0d0887"
             ],
             [
              0.1111111111111111,
              "#46039f"
             ],
             [
              0.2222222222222222,
              "#7201a8"
             ],
             [
              0.3333333333333333,
              "#9c179e"
             ],
             [
              0.4444444444444444,
              "#bd3786"
             ],
             [
              0.5555555555555556,
              "#d8576b"
             ],
             [
              0.6666666666666666,
              "#ed7953"
             ],
             [
              0.7777777777777778,
              "#fb9f3a"
             ],
             [
              0.8888888888888888,
              "#fdca26"
             ],
             [
              1,
              "#f0f921"
             ]
            ],
            "type": "histogram2d"
           }
          ],
          "histogram2dcontour": [
           {
            "colorbar": {
             "outlinewidth": 0,
             "ticks": ""
            },
            "colorscale": [
             [
              0,
              "#0d0887"
             ],
             [
              0.1111111111111111,
              "#46039f"
             ],
             [
              0.2222222222222222,
              "#7201a8"
             ],
             [
              0.3333333333333333,
              "#9c179e"
             ],
             [
              0.4444444444444444,
              "#bd3786"
             ],
             [
              0.5555555555555556,
              "#d8576b"
             ],
             [
              0.6666666666666666,
              "#ed7953"
             ],
             [
              0.7777777777777778,
              "#fb9f3a"
             ],
             [
              0.8888888888888888,
              "#fdca26"
             ],
             [
              1,
              "#f0f921"
             ]
            ],
            "type": "histogram2dcontour"
           }
          ],
          "mesh3d": [
           {
            "colorbar": {
             "outlinewidth": 0,
             "ticks": ""
            },
            "type": "mesh3d"
           }
          ],
          "parcoords": [
           {
            "line": {
             "colorbar": {
              "outlinewidth": 0,
              "ticks": ""
             }
            },
            "type": "parcoords"
           }
          ],
          "pie": [
           {
            "automargin": true,
            "type": "pie"
           }
          ],
          "scatter": [
           {
            "marker": {
             "colorbar": {
              "outlinewidth": 0,
              "ticks": ""
             }
            },
            "type": "scatter"
           }
          ],
          "scatter3d": [
           {
            "line": {
             "colorbar": {
              "outlinewidth": 0,
              "ticks": ""
             }
            },
            "marker": {
             "colorbar": {
              "outlinewidth": 0,
              "ticks": ""
             }
            },
            "type": "scatter3d"
           }
          ],
          "scattercarpet": [
           {
            "marker": {
             "colorbar": {
              "outlinewidth": 0,
              "ticks": ""
             }
            },
            "type": "scattercarpet"
           }
          ],
          "scattergeo": [
           {
            "marker": {
             "colorbar": {
              "outlinewidth": 0,
              "ticks": ""
             }
            },
            "type": "scattergeo"
           }
          ],
          "scattergl": [
           {
            "marker": {
             "colorbar": {
              "outlinewidth": 0,
              "ticks": ""
             }
            },
            "type": "scattergl"
           }
          ],
          "scattermapbox": [
           {
            "marker": {
             "colorbar": {
              "outlinewidth": 0,
              "ticks": ""
             }
            },
            "type": "scattermapbox"
           }
          ],
          "scatterpolar": [
           {
            "marker": {
             "colorbar": {
              "outlinewidth": 0,
              "ticks": ""
             }
            },
            "type": "scatterpolar"
           }
          ],
          "scatterpolargl": [
           {
            "marker": {
             "colorbar": {
              "outlinewidth": 0,
              "ticks": ""
             }
            },
            "type": "scatterpolargl"
           }
          ],
          "scatterternary": [
           {
            "marker": {
             "colorbar": {
              "outlinewidth": 0,
              "ticks": ""
             }
            },
            "type": "scatterternary"
           }
          ],
          "surface": [
           {
            "colorbar": {
             "outlinewidth": 0,
             "ticks": ""
            },
            "colorscale": [
             [
              0,
              "#0d0887"
             ],
             [
              0.1111111111111111,
              "#46039f"
             ],
             [
              0.2222222222222222,
              "#7201a8"
             ],
             [
              0.3333333333333333,
              "#9c179e"
             ],
             [
              0.4444444444444444,
              "#bd3786"
             ],
             [
              0.5555555555555556,
              "#d8576b"
             ],
             [
              0.6666666666666666,
              "#ed7953"
             ],
             [
              0.7777777777777778,
              "#fb9f3a"
             ],
             [
              0.8888888888888888,
              "#fdca26"
             ],
             [
              1,
              "#f0f921"
             ]
            ],
            "type": "surface"
           }
          ],
          "table": [
           {
            "cells": {
             "fill": {
              "color": "#EBF0F8"
             },
             "line": {
              "color": "white"
             }
            },
            "header": {
             "fill": {
              "color": "#C8D4E3"
             },
             "line": {
              "color": "white"
             }
            },
            "type": "table"
           }
          ]
         },
         "layout": {
          "annotationdefaults": {
           "arrowcolor": "#2a3f5f",
           "arrowhead": 0,
           "arrowwidth": 1
          },
          "coloraxis": {
           "colorbar": {
            "outlinewidth": 0,
            "ticks": ""
           }
          },
          "colorscale": {
           "diverging": [
            [
             0,
             "#8e0152"
            ],
            [
             0.1,
             "#c51b7d"
            ],
            [
             0.2,
             "#de77ae"
            ],
            [
             0.3,
             "#f1b6da"
            ],
            [
             0.4,
             "#fde0ef"
            ],
            [
             0.5,
             "#f7f7f7"
            ],
            [
             0.6,
             "#e6f5d0"
            ],
            [
             0.7,
             "#b8e186"
            ],
            [
             0.8,
             "#7fbc41"
            ],
            [
             0.9,
             "#4d9221"
            ],
            [
             1,
             "#276419"
            ]
           ],
           "sequential": [
            [
             0,
             "#0d0887"
            ],
            [
             0.1111111111111111,
             "#46039f"
            ],
            [
             0.2222222222222222,
             "#7201a8"
            ],
            [
             0.3333333333333333,
             "#9c179e"
            ],
            [
             0.4444444444444444,
             "#bd3786"
            ],
            [
             0.5555555555555556,
             "#d8576b"
            ],
            [
             0.6666666666666666,
             "#ed7953"
            ],
            [
             0.7777777777777778,
             "#fb9f3a"
            ],
            [
             0.8888888888888888,
             "#fdca26"
            ],
            [
             1,
             "#f0f921"
            ]
           ],
           "sequentialminus": [
            [
             0,
             "#0d0887"
            ],
            [
             0.1111111111111111,
             "#46039f"
            ],
            [
             0.2222222222222222,
             "#7201a8"
            ],
            [
             0.3333333333333333,
             "#9c179e"
            ],
            [
             0.4444444444444444,
             "#bd3786"
            ],
            [
             0.5555555555555556,
             "#d8576b"
            ],
            [
             0.6666666666666666,
             "#ed7953"
            ],
            [
             0.7777777777777778,
             "#fb9f3a"
            ],
            [
             0.8888888888888888,
             "#fdca26"
            ],
            [
             1,
             "#f0f921"
            ]
           ]
          },
          "colorway": [
           "#636efa",
           "#EF553B",
           "#00cc96",
           "#ab63fa",
           "#FFA15A",
           "#19d3f3",
           "#FF6692",
           "#B6E880",
           "#FF97FF",
           "#FECB52"
          ],
          "font": {
           "color": "#2a3f5f"
          },
          "geo": {
           "bgcolor": "white",
           "lakecolor": "white",
           "landcolor": "#E5ECF6",
           "showlakes": true,
           "showland": true,
           "subunitcolor": "white"
          },
          "hoverlabel": {
           "align": "left"
          },
          "hovermode": "closest",
          "mapbox": {
           "style": "light"
          },
          "paper_bgcolor": "white",
          "plot_bgcolor": "#E5ECF6",
          "polar": {
           "angularaxis": {
            "gridcolor": "white",
            "linecolor": "white",
            "ticks": ""
           },
           "bgcolor": "#E5ECF6",
           "radialaxis": {
            "gridcolor": "white",
            "linecolor": "white",
            "ticks": ""
           }
          },
          "scene": {
           "xaxis": {
            "backgroundcolor": "#E5ECF6",
            "gridcolor": "white",
            "gridwidth": 2,
            "linecolor": "white",
            "showbackground": true,
            "ticks": "",
            "zerolinecolor": "white"
           },
           "yaxis": {
            "backgroundcolor": "#E5ECF6",
            "gridcolor": "white",
            "gridwidth": 2,
            "linecolor": "white",
            "showbackground": true,
            "ticks": "",
            "zerolinecolor": "white"
           },
           "zaxis": {
            "backgroundcolor": "#E5ECF6",
            "gridcolor": "white",
            "gridwidth": 2,
            "linecolor": "white",
            "showbackground": true,
            "ticks": "",
            "zerolinecolor": "white"
           }
          },
          "shapedefaults": {
           "line": {
            "color": "#2a3f5f"
           }
          },
          "ternary": {
           "aaxis": {
            "gridcolor": "white",
            "linecolor": "white",
            "ticks": ""
           },
           "baxis": {
            "gridcolor": "white",
            "linecolor": "white",
            "ticks": ""
           },
           "bgcolor": "#E5ECF6",
           "caxis": {
            "gridcolor": "white",
            "linecolor": "white",
            "ticks": ""
           }
          },
          "title": {
           "x": 0.05
          },
          "xaxis": {
           "automargin": true,
           "gridcolor": "white",
           "linecolor": "white",
           "ticks": "",
           "title": {
            "standoff": 15
           },
           "zerolinecolor": "white",
           "zerolinewidth": 2
          },
          "yaxis": {
           "automargin": true,
           "gridcolor": "white",
           "linecolor": "white",
           "ticks": "",
           "title": {
            "standoff": 15
           },
           "zerolinecolor": "white",
           "zerolinewidth": 2
          }
         }
        },
        "title": {
         "font": {
          "color": "#4D5663"
         }
        },
        "xaxis": {
         "gridcolor": "#E1E5ED",
         "showgrid": true,
         "tickfont": {
          "color": "#4D5663"
         },
         "title": {
          "font": {
           "color": "#4D5663"
          },
          "text": ""
         },
         "zerolinecolor": "#E1E5ED"
        },
        "yaxis": {
         "gridcolor": "#E1E5ED",
         "showgrid": true,
         "tickfont": {
          "color": "#4D5663"
         },
         "title": {
          "font": {
           "color": "#4D5663"
          },
          "text": ""
         },
         "zerolinecolor": "#E1E5ED"
        }
       }
      },
      "text/html": [
       "<div>\n",
       "        \n",
       "        \n",
       "            <div id=\"2e9b9e6f-4b6d-4f7e-8a23-4ff153a7c1d8\" class=\"plotly-graph-div\" style=\"height:525px; width:100%;\"></div>\n",
       "            <script type=\"text/javascript\">\n",
       "                require([\"plotly\"], function(Plotly) {\n",
       "                    window.PLOTLYENV=window.PLOTLYENV || {};\n",
       "                    window.PLOTLYENV.BASE_URL='https://plot.ly';\n",
       "                    \n",
       "                if (document.getElementById(\"2e9b9e6f-4b6d-4f7e-8a23-4ff153a7c1d8\")) {\n",
       "                    Plotly.newPlot(\n",
       "                        '2e9b9e6f-4b6d-4f7e-8a23-4ff153a7c1d8',\n",
       "                        [{\"marker\": {\"color\": \"rgba(255, 153, 51, 0.6)\", \"line\": {\"color\": \"rgba(255, 153, 51, 1.0)\", \"width\": 1}}, \"name\": \"None\", \"orientation\": \"v\", \"text\": \"\", \"type\": \"bar\", \"x\": [\"A\", \"B\", \"C\", \"D\"], \"y\": [-18.319777386652195, 0.07491063678254006, 15.222846566240671, -8.505219539586875]}],\n",
       "                        {\"legend\": {\"bgcolor\": \"#F5F6F9\", \"font\": {\"color\": \"#4D5663\"}}, \"paper_bgcolor\": \"#F5F6F9\", \"plot_bgcolor\": \"#F5F6F9\", \"template\": {\"data\": {\"bar\": [{\"error_x\": {\"color\": \"#2a3f5f\"}, \"error_y\": {\"color\": \"#2a3f5f\"}, \"marker\": {\"line\": {\"color\": \"#E5ECF6\", \"width\": 0.5}}, \"type\": \"bar\"}], \"barpolar\": [{\"marker\": {\"line\": {\"color\": \"#E5ECF6\", \"width\": 0.5}}, \"type\": \"barpolar\"}], \"carpet\": [{\"aaxis\": {\"endlinecolor\": \"#2a3f5f\", \"gridcolor\": \"white\", \"linecolor\": \"white\", \"minorgridcolor\": \"white\", \"startlinecolor\": \"#2a3f5f\"}, \"baxis\": {\"endlinecolor\": \"#2a3f5f\", \"gridcolor\": \"white\", \"linecolor\": \"white\", \"minorgridcolor\": \"white\", \"startlinecolor\": \"#2a3f5f\"}, \"type\": \"carpet\"}], \"choropleth\": [{\"colorbar\": {\"outlinewidth\": 0, \"ticks\": \"\"}, \"type\": \"choropleth\"}], \"contour\": [{\"colorbar\": {\"outlinewidth\": 0, \"ticks\": \"\"}, \"colorscale\": [[0.0, \"#0d0887\"], [0.1111111111111111, \"#46039f\"], [0.2222222222222222, \"#7201a8\"], [0.3333333333333333, \"#9c179e\"], [0.4444444444444444, \"#bd3786\"], [0.5555555555555556, \"#d8576b\"], [0.6666666666666666, \"#ed7953\"], [0.7777777777777778, \"#fb9f3a\"], [0.8888888888888888, \"#fdca26\"], [1.0, \"#f0f921\"]], \"type\": \"contour\"}], \"contourcarpet\": [{\"colorbar\": {\"outlinewidth\": 0, \"ticks\": \"\"}, \"type\": \"contourcarpet\"}], \"heatmap\": [{\"colorbar\": {\"outlinewidth\": 0, \"ticks\": \"\"}, \"colorscale\": [[0.0, \"#0d0887\"], [0.1111111111111111, \"#46039f\"], [0.2222222222222222, \"#7201a8\"], [0.3333333333333333, \"#9c179e\"], [0.4444444444444444, \"#bd3786\"], [0.5555555555555556, \"#d8576b\"], [0.6666666666666666, \"#ed7953\"], [0.7777777777777778, \"#fb9f3a\"], [0.8888888888888888, \"#fdca26\"], [1.0, \"#f0f921\"]], \"type\": \"heatmap\"}], \"heatmapgl\": [{\"colorbar\": {\"outlinewidth\": 0, \"ticks\": \"\"}, \"colorscale\": [[0.0, \"#0d0887\"], [0.1111111111111111, \"#46039f\"], [0.2222222222222222, \"#7201a8\"], [0.3333333333333333, \"#9c179e\"], [0.4444444444444444, \"#bd3786\"], [0.5555555555555556, \"#d8576b\"], [0.6666666666666666, \"#ed7953\"], [0.7777777777777778, \"#fb9f3a\"], [0.8888888888888888, \"#fdca26\"], [1.0, \"#f0f921\"]], \"type\": \"heatmapgl\"}], \"histogram\": [{\"marker\": {\"colorbar\": {\"outlinewidth\": 0, \"ticks\": \"\"}}, \"type\": \"histogram\"}], \"histogram2d\": [{\"colorbar\": {\"outlinewidth\": 0, \"ticks\": \"\"}, \"colorscale\": [[0.0, \"#0d0887\"], [0.1111111111111111, \"#46039f\"], [0.2222222222222222, \"#7201a8\"], [0.3333333333333333, \"#9c179e\"], [0.4444444444444444, \"#bd3786\"], [0.5555555555555556, \"#d8576b\"], [0.6666666666666666, \"#ed7953\"], [0.7777777777777778, \"#fb9f3a\"], [0.8888888888888888, \"#fdca26\"], [1.0, \"#f0f921\"]], \"type\": \"histogram2d\"}], \"histogram2dcontour\": [{\"colorbar\": {\"outlinewidth\": 0, \"ticks\": \"\"}, \"colorscale\": [[0.0, \"#0d0887\"], [0.1111111111111111, \"#46039f\"], [0.2222222222222222, \"#7201a8\"], [0.3333333333333333, \"#9c179e\"], [0.4444444444444444, \"#bd3786\"], [0.5555555555555556, \"#d8576b\"], [0.6666666666666666, \"#ed7953\"], [0.7777777777777778, \"#fb9f3a\"], [0.8888888888888888, \"#fdca26\"], [1.0, \"#f0f921\"]], \"type\": \"histogram2dcontour\"}], \"mesh3d\": [{\"colorbar\": {\"outlinewidth\": 0, \"ticks\": \"\"}, \"type\": \"mesh3d\"}], \"parcoords\": [{\"line\": {\"colorbar\": {\"outlinewidth\": 0, \"ticks\": \"\"}}, \"type\": \"parcoords\"}], \"pie\": [{\"automargin\": true, \"type\": \"pie\"}], \"scatter\": [{\"marker\": {\"colorbar\": {\"outlinewidth\": 0, \"ticks\": \"\"}}, \"type\": \"scatter\"}], \"scatter3d\": [{\"line\": {\"colorbar\": {\"outlinewidth\": 0, \"ticks\": \"\"}}, \"marker\": {\"colorbar\": {\"outlinewidth\": 0, \"ticks\": \"\"}}, \"type\": \"scatter3d\"}], \"scattercarpet\": [{\"marker\": {\"colorbar\": {\"outlinewidth\": 0, \"ticks\": \"\"}}, \"type\": \"scattercarpet\"}], \"scattergeo\": [{\"marker\": {\"colorbar\": {\"outlinewidth\": 0, \"ticks\": \"\"}}, \"type\": \"scattergeo\"}], \"scattergl\": [{\"marker\": {\"colorbar\": {\"outlinewidth\": 0, \"ticks\": \"\"}}, \"type\": \"scattergl\"}], \"scattermapbox\": [{\"marker\": {\"colorbar\": {\"outlinewidth\": 0, \"ticks\": \"\"}}, \"type\": \"scattermapbox\"}], \"scatterpolar\": [{\"marker\": {\"colorbar\": {\"outlinewidth\": 0, \"ticks\": \"\"}}, \"type\": \"scatterpolar\"}], \"scatterpolargl\": [{\"marker\": {\"colorbar\": {\"outlinewidth\": 0, \"ticks\": \"\"}}, \"type\": \"scatterpolargl\"}], \"scatterternary\": [{\"marker\": {\"colorbar\": {\"outlinewidth\": 0, \"ticks\": \"\"}}, \"type\": \"scatterternary\"}], \"surface\": [{\"colorbar\": {\"outlinewidth\": 0, \"ticks\": \"\"}, \"colorscale\": [[0.0, \"#0d0887\"], [0.1111111111111111, \"#46039f\"], [0.2222222222222222, \"#7201a8\"], [0.3333333333333333, \"#9c179e\"], [0.4444444444444444, \"#bd3786\"], [0.5555555555555556, \"#d8576b\"], [0.6666666666666666, \"#ed7953\"], [0.7777777777777778, \"#fb9f3a\"], [0.8888888888888888, \"#fdca26\"], [1.0, \"#f0f921\"]], \"type\": \"surface\"}], \"table\": [{\"cells\": {\"fill\": {\"color\": \"#EBF0F8\"}, \"line\": {\"color\": \"white\"}}, \"header\": {\"fill\": {\"color\": \"#C8D4E3\"}, \"line\": {\"color\": \"white\"}}, \"type\": \"table\"}]}, \"layout\": {\"annotationdefaults\": {\"arrowcolor\": \"#2a3f5f\", \"arrowhead\": 0, \"arrowwidth\": 1}, \"coloraxis\": {\"colorbar\": {\"outlinewidth\": 0, \"ticks\": \"\"}}, \"colorscale\": {\"diverging\": [[0, \"#8e0152\"], [0.1, \"#c51b7d\"], [0.2, \"#de77ae\"], [0.3, \"#f1b6da\"], [0.4, \"#fde0ef\"], [0.5, \"#f7f7f7\"], [0.6, \"#e6f5d0\"], [0.7, \"#b8e186\"], [0.8, \"#7fbc41\"], [0.9, \"#4d9221\"], [1, \"#276419\"]], \"sequential\": [[0.0, \"#0d0887\"], [0.1111111111111111, \"#46039f\"], [0.2222222222222222, \"#7201a8\"], [0.3333333333333333, \"#9c179e\"], [0.4444444444444444, \"#bd3786\"], [0.5555555555555556, \"#d8576b\"], [0.6666666666666666, \"#ed7953\"], [0.7777777777777778, \"#fb9f3a\"], [0.8888888888888888, \"#fdca26\"], [1.0, \"#f0f921\"]], \"sequentialminus\": [[0.0, \"#0d0887\"], [0.1111111111111111, \"#46039f\"], [0.2222222222222222, \"#7201a8\"], [0.3333333333333333, \"#9c179e\"], [0.4444444444444444, \"#bd3786\"], [0.5555555555555556, \"#d8576b\"], [0.6666666666666666, \"#ed7953\"], [0.7777777777777778, \"#fb9f3a\"], [0.8888888888888888, \"#fdca26\"], [1.0, \"#f0f921\"]]}, \"colorway\": [\"#636efa\", \"#EF553B\", \"#00cc96\", \"#ab63fa\", \"#FFA15A\", \"#19d3f3\", \"#FF6692\", \"#B6E880\", \"#FF97FF\", \"#FECB52\"], \"font\": {\"color\": \"#2a3f5f\"}, \"geo\": {\"bgcolor\": \"white\", \"lakecolor\": \"white\", \"landcolor\": \"#E5ECF6\", \"showlakes\": true, \"showland\": true, \"subunitcolor\": \"white\"}, \"hoverlabel\": {\"align\": \"left\"}, \"hovermode\": \"closest\", \"mapbox\": {\"style\": \"light\"}, \"paper_bgcolor\": \"white\", \"plot_bgcolor\": \"#E5ECF6\", \"polar\": {\"angularaxis\": {\"gridcolor\": \"white\", \"linecolor\": \"white\", \"ticks\": \"\"}, \"bgcolor\": \"#E5ECF6\", \"radialaxis\": {\"gridcolor\": \"white\", \"linecolor\": \"white\", \"ticks\": \"\"}}, \"scene\": {\"xaxis\": {\"backgroundcolor\": \"#E5ECF6\", \"gridcolor\": \"white\", \"gridwidth\": 2, \"linecolor\": \"white\", \"showbackground\": true, \"ticks\": \"\", \"zerolinecolor\": \"white\"}, \"yaxis\": {\"backgroundcolor\": \"#E5ECF6\", \"gridcolor\": \"white\", \"gridwidth\": 2, \"linecolor\": \"white\", \"showbackground\": true, \"ticks\": \"\", \"zerolinecolor\": \"white\"}, \"zaxis\": {\"backgroundcolor\": \"#E5ECF6\", \"gridcolor\": \"white\", \"gridwidth\": 2, \"linecolor\": \"white\", \"showbackground\": true, \"ticks\": \"\", \"zerolinecolor\": \"white\"}}, \"shapedefaults\": {\"line\": {\"color\": \"#2a3f5f\"}}, \"ternary\": {\"aaxis\": {\"gridcolor\": \"white\", \"linecolor\": \"white\", \"ticks\": \"\"}, \"baxis\": {\"gridcolor\": \"white\", \"linecolor\": \"white\", \"ticks\": \"\"}, \"bgcolor\": \"#E5ECF6\", \"caxis\": {\"gridcolor\": \"white\", \"linecolor\": \"white\", \"ticks\": \"\"}}, \"title\": {\"x\": 0.05}, \"xaxis\": {\"automargin\": true, \"gridcolor\": \"white\", \"linecolor\": \"white\", \"ticks\": \"\", \"title\": {\"standoff\": 15}, \"zerolinecolor\": \"white\", \"zerolinewidth\": 2}, \"yaxis\": {\"automargin\": true, \"gridcolor\": \"white\", \"linecolor\": \"white\", \"ticks\": \"\", \"title\": {\"standoff\": 15}, \"zerolinecolor\": \"white\", \"zerolinewidth\": 2}}}, \"title\": {\"font\": {\"color\": \"#4D5663\"}}, \"xaxis\": {\"gridcolor\": \"#E1E5ED\", \"showgrid\": true, \"tickfont\": {\"color\": \"#4D5663\"}, \"title\": {\"font\": {\"color\": \"#4D5663\"}, \"text\": \"\"}, \"zerolinecolor\": \"#E1E5ED\"}, \"yaxis\": {\"gridcolor\": \"#E1E5ED\", \"showgrid\": true, \"tickfont\": {\"color\": \"#4D5663\"}, \"title\": {\"font\": {\"color\": \"#4D5663\"}, \"text\": \"\"}, \"zerolinecolor\": \"#E1E5ED\"}},\n",
       "                        {\"showLink\": true, \"linkText\": \"Export to plot.ly\", \"plotlyServerURL\": \"https://plot.ly\", \"responsive\": true}\n",
       "                    ).then(function(){\n",
       "                            \n",
       "var gd = document.getElementById('2e9b9e6f-4b6d-4f7e-8a23-4ff153a7c1d8');\n",
       "var x = new MutationObserver(function (mutations, observer) {{\n",
       "        var display = window.getComputedStyle(gd).display;\n",
       "        if (!display || display === 'none') {{\n",
       "            console.log([gd, 'removed!']);\n",
       "            Plotly.purge(gd);\n",
       "            observer.disconnect();\n",
       "        }}\n",
       "}});\n",
       "\n",
       "// Listen for the removal of the full notebook cells\n",
       "var notebookContainer = gd.closest('#notebook-container');\n",
       "if (notebookContainer) {{\n",
       "    x.observe(notebookContainer, {childList: true});\n",
       "}}\n",
       "\n",
       "// Listen for the clearing of the current output cell\n",
       "var outputEl = gd.closest('.output');\n",
       "if (outputEl) {{\n",
       "    x.observe(outputEl, {childList: true});\n",
       "}}\n",
       "\n",
       "                        })\n",
       "                };\n",
       "                });\n",
       "            </script>\n",
       "        </div>"
      ]
     },
     "metadata": {},
     "output_type": "display_data"
    }
   ],
   "source": [
    "df.sum().iplot(kind='bar')"
   ]
  },
  {
   "cell_type": "markdown",
   "metadata": {},
   "source": [
    "## Boxplots"
   ]
  },
  {
   "cell_type": "code",
   "execution_count": 30,
   "metadata": {
    "scrolled": true
   },
   "outputs": [
    {
     "data": {
      "application/vnd.plotly.v1+json": {
       "config": {
        "linkText": "Export to plot.ly",
        "plotlyServerURL": "https://plot.ly",
        "showLink": true
       },
       "data": [
        {
         "boxpoints": false,
         "line": {
          "width": 1.3
         },
         "marker": {
          "color": "rgba(255, 153, 51, 1.0)"
         },
         "name": "A",
         "orientation": "v",
         "type": "box",
         "y": [
          -0.9093054841012843,
          0.6040832399960773,
          -2.410271137195946,
          0.16588443929009308,
          1.0852191490067407,
          0.6250277127932178,
          -0.9246067333548268,
          1.0805265305902243,
          1.5725408394539233,
          0.5305774112893745,
          -1.0968365092075085,
          0.358422463579597,
          -0.23415335588614208,
          0.15470064036229597,
          -1.2258341941415993,
          0.2593542310596669,
          1.5207292232801048,
          0.6937829889514853,
          -1.064285675230406,
          -0.44560982863137766,
          -1.0906263710804303,
          1.9665199437015592,
          -0.3168671019465515,
          1.0662884587350903,
          0.52274830772359,
          -0.36628016461133656,
          -0.8474582771956716,
          1.1502604717661162,
          1.9461342218110398,
          -0.4650443159355485,
          -0.8168701770762032,
          -1.6513676718383128,
          0.03763777500553534,
          -0.8930695726250423,
          0.9944707976208484,
          -1.0317371061968406,
          -0.08534728128681522,
          -0.11154374643876049,
          -0.41021037304330565,
          -0.6932234768278271,
          0.46269386705795046,
          -1.2691305767830017,
          0.3914823573992438,
          -0.3325552370346851,
          0.4505119668619261,
          0.26267163704247304,
          0.6146339373666935,
          -0.00019986832009890844,
          -0.3562942496957231,
          1.1106410349742948,
          -0.4333466685561677,
          -0.6433360131302692,
          -0.8874917160851796,
          -0.8513536562439611,
          -0.05277980507992831,
          0.9196787192380568,
          -1.8824712139707094,
          -0.0027461866850745902,
          -0.02857973666903494,
          -0.6041682943303771,
          0.5017654389406031,
          -1.9697355871042415,
          0.6538225862413563,
          0.7165951809469918,
          0.05677784382488556,
          -1.141078681176908,
          1.3054036850528037,
          0.8351305395606717,
          -0.5254041188527706,
          -0.4577834507066193,
          -0.8005206812905147,
          1.6411028852562852,
          -1.0179121109648015,
          -1.100307719569913,
          0.24578712452507961,
          -0.8471375107617793,
          -0.3786013986846745,
          -0.7832461028994342,
          -0.24609091475376293,
          2.110724741197031,
          0.5651851649423003,
          -1.6974921370855955,
          -3.052601304677243,
          -0.9328402706436525,
          0.9777294759588954,
          -1.3736356963160077,
          -0.2568197552540412,
          -0.14252924846144352,
          -0.23946981078682242,
          -0.058466871907325725,
          -0.597456559381562,
          -2.1389872634159057,
          1.402282041961766,
          0.5274283741136507,
          -1.2594196492030272,
          -0.491214492828783,
          -1.3984069642976626,
          -2.4488941051712687,
          0.6371774376560045,
          -1.2528580901560282
         ]
        },
        {
         "boxpoints": false,
         "line": {
          "width": 1.3
         },
         "marker": {
          "color": "rgba(55, 128, 191, 1.0)"
         },
         "name": "B",
         "orientation": "v",
         "type": "box",
         "y": [
          1.971440509710332,
          -0.16847988892318877,
          1.0201516777693376,
          -0.4746460566381103,
          -0.252233811330853,
          -0.812181070653521,
          0.08607180636893513,
          -0.02022449530412015,
          -0.1099275343296199,
          0.38663004425284286,
          -0.526558562979596,
          1.8595393195972616,
          -0.2554254965801771,
          -0.9141127018210553,
          0.06456255996214603,
          0.09207005623359946,
          -0.47783575200149025,
          0.09276314732860896,
          -1.531698896254452,
          -1.9987393236806141,
          -0.6049054502346282,
          0.8385800455756265,
          2.4409277500049287,
          -0.2651686762903576,
          -0.07027781766020814,
          1.4460735333923849,
          0.4062558151378958,
          2.9924417578949596,
          -0.6725291814251461,
          0.058275087784900724,
          -0.7180357045425773,
          -1.4032200530204344,
          -0.3150288706370873,
          0.47758875464697453,
          -0.8269771217614604,
          0.48172496799817244,
          -0.7453485529280233,
          2.2103985684031424,
          -0.6512343240750648,
          -1.0761589643558305,
          -0.3126827200482146,
          -0.7707723938441469,
          0.03761157401678399,
          0.38218995607893624,
          1.6232168368871616,
          -0.891991061325372,
          0.3081052691599786,
          -1.6742745874233398,
          -1.060786505394401,
          -1.224894225568253,
          -1.1418576917418655,
          0.7776014073963039,
          -2.0722908928193076,
          0.6269795454914691,
          -0.07363912387427204,
          1.0337073250918112,
          -0.8724424338268957,
          0.2944326120520341,
          1.1007166889351714,
          -1.0368444257918097,
          0.40581918123186206,
          1.3247223197113267,
          -0.5028529312192868,
          0.12826431985038722,
          -0.41298476969240855,
          -0.5122594907994159,
          -0.3767939408544858,
          -0.5483495771102112,
          0.23937351232956053,
          -0.1237189545660604,
          -1.6086158300274889,
          0.13255921177958058,
          0.6236563150256992,
          -1.7629134825954333,
          0.3965543697462627,
          -0.015246469369710672,
          0.6224378394650877,
          1.273204770270868,
          0.16522803860713273,
          0.21631887975698336,
          0.49296727355124675,
          -0.856555842632183,
          1.285461938030501,
          -1.5108562066320856,
          -0.5654639130801999,
          -0.2988083381094179,
          0.4455217374847133,
          0.47958439154709376,
          0.7371979486246891,
          0.4676197412857697,
          0.37248117726012064,
          -0.06150360692356444,
          0.011862471019332303,
          1.5119522400199887,
          -1.542085684981008,
          0.45531041190984595,
          -0.19489834876868772,
          0.30160750277151505,
          -0.04051459233187058,
          1.8329947771102855
         ]
        },
        {
         "boxpoints": false,
         "line": {
          "width": 1.3
         },
         "marker": {
          "color": "rgba(50, 171, 96, 1.0)"
         },
         "name": "C",
         "orientation": "v",
         "type": "box",
         "y": [
          0.7280667652885545,
          0.8488235899553379,
          0.290987080721703,
          0.07289592702509784,
          1.5712941840611465,
          -0.3503445574341853,
          -0.20906465827915915,
          1.7246981848259362,
          0.47910031798336217,
          0.3859055420108177,
          1.1478919327821941,
          -0.6469019399252434,
          -0.8298435552798016,
          0.6069560798978525,
          -0.6716513170056069,
          -0.44099377084482927,
          -1.1253008953103194,
          0.5181015240074431,
          1.0474795855982406,
          1.5483010108942044,
          0.2766643544476635,
          0.5446276910346245,
          -0.9328439764575173,
          0.7568845978769322,
          0.42254305624882876,
          -0.4378245539651729,
          -1.2086606440341157,
          -1.3156063815688934,
          -0.01846642609983113,
          0.10970827397166491,
          -0.09880585856931799,
          2.3760283971453875,
          -0.716049356152018,
          0.438821511552451,
          0.2338878272126851,
          -0.3154223616652488,
          1.1012203344621132,
          0.349326026393338,
          0.6294033557838192,
          0.24618417293232878,
          -0.1330148585330617,
          -1.0848140949875746,
          -1.0126800068690232,
          -0.9718899662289104,
          0.9544063653537571,
          0.9996722923494628,
          -1.5069089607758692,
          -0.9943443964352677,
          -0.5713285023268356,
          -0.18574285455520928,
          0.9036015588357612,
          0.5294493589722387,
          -0.01474184717698523,
          -0.2599128263966185,
          1.1326800728542001,
          1.260384329503193,
          0.7616637751038151,
          0.5977839325818189,
          1.6513463268850124,
          0.8316537330619864,
          0.11144277773083576,
          0.12112918817911539,
          -0.16953916251036222,
          1.403377118588521,
          0.5276874167214146,
          -1.194826773694459,
          0.08166109182933724,
          0.6202384660207138,
          -0.4970253894088577,
          0.2679870307472513,
          0.2874848816773004,
          -0.9227426553868162,
          -1.2492553769358716,
          0.992746313853953,
          1.1303403711640536,
          2.7161095361645087,
          1.0860151601273755,
          1.096875481725637,
          -0.7496336676945539,
          -0.15863602841746954,
          0.3619174044979912,
          -1.06233723024928,
          -0.10401865778638529,
          0.9666267014317605,
          -0.9648981151836775,
          0.999324014455443,
          -1.551455891751039,
          -1.8417957326728502,
          -2.6510712352965853,
          1.6803324810008309,
          1.1843713170062444,
          0.006932625023387141,
          0.31840781918665645,
          0.2289488826055793,
          -0.24107096166904154,
          -0.027679255150120166,
          1.0397827616934225,
          -1.271033272555595,
          -0.8627298187498355,
          1.4875724471837792
         ]
        },
        {
         "boxpoints": false,
         "line": {
          "width": 1.3
         },
         "marker": {
          "color": "rgba(128, 0, 128, 1.0)"
         },
         "name": "D",
         "orientation": "v",
         "type": "box",
         "y": [
          -0.0597004332272165,
          -0.7270948232657004,
          0.10386741108535118,
          0.8823267315107225,
          1.1239413366995417,
          -0.09000979019462164,
          -0.34064270136513775,
          0.9015586963809795,
          -1.2199166672554982,
          -0.10474960609253045,
          -0.5047368023338258,
          0.9120026789167751,
          0.674039325645774,
          1.0977812334020363,
          0.49075617307552466,
          -0.1825714349285571,
          1.1908785579639265,
          0.9435400510505514,
          -1.1228061375683676,
          -0.4550236033163609,
          0.5103141348300834,
          -0.08371828187615925,
          0.5961862717691772,
          1.4777926677579054,
          1.1662395280911697,
          -0.549894066420653,
          -0.9373220197978973,
          0.26822804305139314,
          1.3441507375524713,
          1.278239178065697,
          0.039557656709048275,
          0.5933236707937817,
          -0.6646795753141186,
          -2.297062643389993,
          -0.534969822905361,
          -1.488671223214322,
          -0.8189963439403524,
          1.7241068058340498,
          -0.7596556222103996,
          -1.9502115782962415,
          0.9831761742342704,
          -0.8345090640057391,
          0.23245482978715487,
          -0.48900878119890073,
          -0.8097729295451747,
          -1.8959697910487932,
          -0.4561478615680612,
          0.4539567661489525,
          0.07085461835479741,
          0.8403631191974654,
          0.9976130864215411,
          0.8285767573404479,
          -0.3449556066740045,
          1.7734608469596895,
          -0.5956584589272034,
          -0.5656892432795249,
          -1.634948108337012,
          -0.9636407636851575,
          1.764519171208656,
          -0.1662788794018256,
          -1.8941894694726702,
          -1.5486643210692401,
          0.13022893710572384,
          1.0301698732465645,
          1.0835499292960724,
          0.9896724958809934,
          -0.3622673939898819,
          -0.3060135868618649,
          -1.1279486634108724,
          -1.0451283293811087,
          1.0098144867890588,
          -1.4443662319195205,
          1.1915349467981744,
          -1.6408370964075916,
          -0.7984635014901174,
          1.1290041958226926,
          -1.0505794139895748,
          -1.435890720587731,
          -1.5483688140960696,
          -1.5841534124611472,
          0.3082967039657568,
          0.19819953977361968,
          -0.5565885705624065,
          1.4520060725936632,
          0.8106534843091644,
          -0.806790992501957,
          -0.5001359388406705,
          -0.9253951481709741,
          0.7573615775820923,
          -0.19743506936780397,
          -1.1159609113830533,
          1.527455572958231,
          0.8126592777281217,
          -0.2823311711029549,
          -1.0244300290041477,
          1.3358593559436946,
          -1.217200545405278,
          -0.2538940489662926,
          -2.180838977190818,
          0.9613927729990254
         ]
        }
       ],
       "layout": {
        "legend": {
         "bgcolor": "#F5F6F9",
         "font": {
          "color": "#4D5663"
         }
        },
        "paper_bgcolor": "#F5F6F9",
        "plot_bgcolor": "#F5F6F9",
        "template": {
         "data": {
          "bar": [
           {
            "error_x": {
             "color": "#2a3f5f"
            },
            "error_y": {
             "color": "#2a3f5f"
            },
            "marker": {
             "line": {
              "color": "#E5ECF6",
              "width": 0.5
             }
            },
            "type": "bar"
           }
          ],
          "barpolar": [
           {
            "marker": {
             "line": {
              "color": "#E5ECF6",
              "width": 0.5
             }
            },
            "type": "barpolar"
           }
          ],
          "carpet": [
           {
            "aaxis": {
             "endlinecolor": "#2a3f5f",
             "gridcolor": "white",
             "linecolor": "white",
             "minorgridcolor": "white",
             "startlinecolor": "#2a3f5f"
            },
            "baxis": {
             "endlinecolor": "#2a3f5f",
             "gridcolor": "white",
             "linecolor": "white",
             "minorgridcolor": "white",
             "startlinecolor": "#2a3f5f"
            },
            "type": "carpet"
           }
          ],
          "choropleth": [
           {
            "colorbar": {
             "outlinewidth": 0,
             "ticks": ""
            },
            "type": "choropleth"
           }
          ],
          "contour": [
           {
            "colorbar": {
             "outlinewidth": 0,
             "ticks": ""
            },
            "colorscale": [
             [
              0,
              "#0d0887"
             ],
             [
              0.1111111111111111,
              "#46039f"
             ],
             [
              0.2222222222222222,
              "#7201a8"
             ],
             [
              0.3333333333333333,
              "#9c179e"
             ],
             [
              0.4444444444444444,
              "#bd3786"
             ],
             [
              0.5555555555555556,
              "#d8576b"
             ],
             [
              0.6666666666666666,
              "#ed7953"
             ],
             [
              0.7777777777777778,
              "#fb9f3a"
             ],
             [
              0.8888888888888888,
              "#fdca26"
             ],
             [
              1,
              "#f0f921"
             ]
            ],
            "type": "contour"
           }
          ],
          "contourcarpet": [
           {
            "colorbar": {
             "outlinewidth": 0,
             "ticks": ""
            },
            "type": "contourcarpet"
           }
          ],
          "heatmap": [
           {
            "colorbar": {
             "outlinewidth": 0,
             "ticks": ""
            },
            "colorscale": [
             [
              0,
              "#0d0887"
             ],
             [
              0.1111111111111111,
              "#46039f"
             ],
             [
              0.2222222222222222,
              "#7201a8"
             ],
             [
              0.3333333333333333,
              "#9c179e"
             ],
             [
              0.4444444444444444,
              "#bd3786"
             ],
             [
              0.5555555555555556,
              "#d8576b"
             ],
             [
              0.6666666666666666,
              "#ed7953"
             ],
             [
              0.7777777777777778,
              "#fb9f3a"
             ],
             [
              0.8888888888888888,
              "#fdca26"
             ],
             [
              1,
              "#f0f921"
             ]
            ],
            "type": "heatmap"
           }
          ],
          "heatmapgl": [
           {
            "colorbar": {
             "outlinewidth": 0,
             "ticks": ""
            },
            "colorscale": [
             [
              0,
              "#0d0887"
             ],
             [
              0.1111111111111111,
              "#46039f"
             ],
             [
              0.2222222222222222,
              "#7201a8"
             ],
             [
              0.3333333333333333,
              "#9c179e"
             ],
             [
              0.4444444444444444,
              "#bd3786"
             ],
             [
              0.5555555555555556,
              "#d8576b"
             ],
             [
              0.6666666666666666,
              "#ed7953"
             ],
             [
              0.7777777777777778,
              "#fb9f3a"
             ],
             [
              0.8888888888888888,
              "#fdca26"
             ],
             [
              1,
              "#f0f921"
             ]
            ],
            "type": "heatmapgl"
           }
          ],
          "histogram": [
           {
            "marker": {
             "colorbar": {
              "outlinewidth": 0,
              "ticks": ""
             }
            },
            "type": "histogram"
           }
          ],
          "histogram2d": [
           {
            "colorbar": {
             "outlinewidth": 0,
             "ticks": ""
            },
            "colorscale": [
             [
              0,
              "#0d0887"
             ],
             [
              0.1111111111111111,
              "#46039f"
             ],
             [
              0.2222222222222222,
              "#7201a8"
             ],
             [
              0.3333333333333333,
              "#9c179e"
             ],
             [
              0.4444444444444444,
              "#bd3786"
             ],
             [
              0.5555555555555556,
              "#d8576b"
             ],
             [
              0.6666666666666666,
              "#ed7953"
             ],
             [
              0.7777777777777778,
              "#fb9f3a"
             ],
             [
              0.8888888888888888,
              "#fdca26"
             ],
             [
              1,
              "#f0f921"
             ]
            ],
            "type": "histogram2d"
           }
          ],
          "histogram2dcontour": [
           {
            "colorbar": {
             "outlinewidth": 0,
             "ticks": ""
            },
            "colorscale": [
             [
              0,
              "#0d0887"
             ],
             [
              0.1111111111111111,
              "#46039f"
             ],
             [
              0.2222222222222222,
              "#7201a8"
             ],
             [
              0.3333333333333333,
              "#9c179e"
             ],
             [
              0.4444444444444444,
              "#bd3786"
             ],
             [
              0.5555555555555556,
              "#d8576b"
             ],
             [
              0.6666666666666666,
              "#ed7953"
             ],
             [
              0.7777777777777778,
              "#fb9f3a"
             ],
             [
              0.8888888888888888,
              "#fdca26"
             ],
             [
              1,
              "#f0f921"
             ]
            ],
            "type": "histogram2dcontour"
           }
          ],
          "mesh3d": [
           {
            "colorbar": {
             "outlinewidth": 0,
             "ticks": ""
            },
            "type": "mesh3d"
           }
          ],
          "parcoords": [
           {
            "line": {
             "colorbar": {
              "outlinewidth": 0,
              "ticks": ""
             }
            },
            "type": "parcoords"
           }
          ],
          "pie": [
           {
            "automargin": true,
            "type": "pie"
           }
          ],
          "scatter": [
           {
            "marker": {
             "colorbar": {
              "outlinewidth": 0,
              "ticks": ""
             }
            },
            "type": "scatter"
           }
          ],
          "scatter3d": [
           {
            "line": {
             "colorbar": {
              "outlinewidth": 0,
              "ticks": ""
             }
            },
            "marker": {
             "colorbar": {
              "outlinewidth": 0,
              "ticks": ""
             }
            },
            "type": "scatter3d"
           }
          ],
          "scattercarpet": [
           {
            "marker": {
             "colorbar": {
              "outlinewidth": 0,
              "ticks": ""
             }
            },
            "type": "scattercarpet"
           }
          ],
          "scattergeo": [
           {
            "marker": {
             "colorbar": {
              "outlinewidth": 0,
              "ticks": ""
             }
            },
            "type": "scattergeo"
           }
          ],
          "scattergl": [
           {
            "marker": {
             "colorbar": {
              "outlinewidth": 0,
              "ticks": ""
             }
            },
            "type": "scattergl"
           }
          ],
          "scattermapbox": [
           {
            "marker": {
             "colorbar": {
              "outlinewidth": 0,
              "ticks": ""
             }
            },
            "type": "scattermapbox"
           }
          ],
          "scatterpolar": [
           {
            "marker": {
             "colorbar": {
              "outlinewidth": 0,
              "ticks": ""
             }
            },
            "type": "scatterpolar"
           }
          ],
          "scatterpolargl": [
           {
            "marker": {
             "colorbar": {
              "outlinewidth": 0,
              "ticks": ""
             }
            },
            "type": "scatterpolargl"
           }
          ],
          "scatterternary": [
           {
            "marker": {
             "colorbar": {
              "outlinewidth": 0,
              "ticks": ""
             }
            },
            "type": "scatterternary"
           }
          ],
          "surface": [
           {
            "colorbar": {
             "outlinewidth": 0,
             "ticks": ""
            },
            "colorscale": [
             [
              0,
              "#0d0887"
             ],
             [
              0.1111111111111111,
              "#46039f"
             ],
             [
              0.2222222222222222,
              "#7201a8"
             ],
             [
              0.3333333333333333,
              "#9c179e"
             ],
             [
              0.4444444444444444,
              "#bd3786"
             ],
             [
              0.5555555555555556,
              "#d8576b"
             ],
             [
              0.6666666666666666,
              "#ed7953"
             ],
             [
              0.7777777777777778,
              "#fb9f3a"
             ],
             [
              0.8888888888888888,
              "#fdca26"
             ],
             [
              1,
              "#f0f921"
             ]
            ],
            "type": "surface"
           }
          ],
          "table": [
           {
            "cells": {
             "fill": {
              "color": "#EBF0F8"
             },
             "line": {
              "color": "white"
             }
            },
            "header": {
             "fill": {
              "color": "#C8D4E3"
             },
             "line": {
              "color": "white"
             }
            },
            "type": "table"
           }
          ]
         },
         "layout": {
          "annotationdefaults": {
           "arrowcolor": "#2a3f5f",
           "arrowhead": 0,
           "arrowwidth": 1
          },
          "coloraxis": {
           "colorbar": {
            "outlinewidth": 0,
            "ticks": ""
           }
          },
          "colorscale": {
           "diverging": [
            [
             0,
             "#8e0152"
            ],
            [
             0.1,
             "#c51b7d"
            ],
            [
             0.2,
             "#de77ae"
            ],
            [
             0.3,
             "#f1b6da"
            ],
            [
             0.4,
             "#fde0ef"
            ],
            [
             0.5,
             "#f7f7f7"
            ],
            [
             0.6,
             "#e6f5d0"
            ],
            [
             0.7,
             "#b8e186"
            ],
            [
             0.8,
             "#7fbc41"
            ],
            [
             0.9,
             "#4d9221"
            ],
            [
             1,
             "#276419"
            ]
           ],
           "sequential": [
            [
             0,
             "#0d0887"
            ],
            [
             0.1111111111111111,
             "#46039f"
            ],
            [
             0.2222222222222222,
             "#7201a8"
            ],
            [
             0.3333333333333333,
             "#9c179e"
            ],
            [
             0.4444444444444444,
             "#bd3786"
            ],
            [
             0.5555555555555556,
             "#d8576b"
            ],
            [
             0.6666666666666666,
             "#ed7953"
            ],
            [
             0.7777777777777778,
             "#fb9f3a"
            ],
            [
             0.8888888888888888,
             "#fdca26"
            ],
            [
             1,
             "#f0f921"
            ]
           ],
           "sequentialminus": [
            [
             0,
             "#0d0887"
            ],
            [
             0.1111111111111111,
             "#46039f"
            ],
            [
             0.2222222222222222,
             "#7201a8"
            ],
            [
             0.3333333333333333,
             "#9c179e"
            ],
            [
             0.4444444444444444,
             "#bd3786"
            ],
            [
             0.5555555555555556,
             "#d8576b"
            ],
            [
             0.6666666666666666,
             "#ed7953"
            ],
            [
             0.7777777777777778,
             "#fb9f3a"
            ],
            [
             0.8888888888888888,
             "#fdca26"
            ],
            [
             1,
             "#f0f921"
            ]
           ]
          },
          "colorway": [
           "#636efa",
           "#EF553B",
           "#00cc96",
           "#ab63fa",
           "#FFA15A",
           "#19d3f3",
           "#FF6692",
           "#B6E880",
           "#FF97FF",
           "#FECB52"
          ],
          "font": {
           "color": "#2a3f5f"
          },
          "geo": {
           "bgcolor": "white",
           "lakecolor": "white",
           "landcolor": "#E5ECF6",
           "showlakes": true,
           "showland": true,
           "subunitcolor": "white"
          },
          "hoverlabel": {
           "align": "left"
          },
          "hovermode": "closest",
          "mapbox": {
           "style": "light"
          },
          "paper_bgcolor": "white",
          "plot_bgcolor": "#E5ECF6",
          "polar": {
           "angularaxis": {
            "gridcolor": "white",
            "linecolor": "white",
            "ticks": ""
           },
           "bgcolor": "#E5ECF6",
           "radialaxis": {
            "gridcolor": "white",
            "linecolor": "white",
            "ticks": ""
           }
          },
          "scene": {
           "xaxis": {
            "backgroundcolor": "#E5ECF6",
            "gridcolor": "white",
            "gridwidth": 2,
            "linecolor": "white",
            "showbackground": true,
            "ticks": "",
            "zerolinecolor": "white"
           },
           "yaxis": {
            "backgroundcolor": "#E5ECF6",
            "gridcolor": "white",
            "gridwidth": 2,
            "linecolor": "white",
            "showbackground": true,
            "ticks": "",
            "zerolinecolor": "white"
           },
           "zaxis": {
            "backgroundcolor": "#E5ECF6",
            "gridcolor": "white",
            "gridwidth": 2,
            "linecolor": "white",
            "showbackground": true,
            "ticks": "",
            "zerolinecolor": "white"
           }
          },
          "shapedefaults": {
           "line": {
            "color": "#2a3f5f"
           }
          },
          "ternary": {
           "aaxis": {
            "gridcolor": "white",
            "linecolor": "white",
            "ticks": ""
           },
           "baxis": {
            "gridcolor": "white",
            "linecolor": "white",
            "ticks": ""
           },
           "bgcolor": "#E5ECF6",
           "caxis": {
            "gridcolor": "white",
            "linecolor": "white",
            "ticks": ""
           }
          },
          "title": {
           "x": 0.05
          },
          "xaxis": {
           "automargin": true,
           "gridcolor": "white",
           "linecolor": "white",
           "ticks": "",
           "title": {
            "standoff": 15
           },
           "zerolinecolor": "white",
           "zerolinewidth": 2
          },
          "yaxis": {
           "automargin": true,
           "gridcolor": "white",
           "linecolor": "white",
           "ticks": "",
           "title": {
            "standoff": 15
           },
           "zerolinecolor": "white",
           "zerolinewidth": 2
          }
         }
        },
        "title": {
         "font": {
          "color": "#4D5663"
         }
        },
        "xaxis": {
         "gridcolor": "#E1E5ED",
         "showgrid": true,
         "tickfont": {
          "color": "#4D5663"
         },
         "title": {
          "font": {
           "color": "#4D5663"
          },
          "text": ""
         },
         "zerolinecolor": "#E1E5ED"
        },
        "yaxis": {
         "gridcolor": "#E1E5ED",
         "showgrid": true,
         "tickfont": {
          "color": "#4D5663"
         },
         "title": {
          "font": {
           "color": "#4D5663"
          },
          "text": ""
         },
         "zerolinecolor": "#E1E5ED"
        }
       }
      },
      "text/html": [
       "<div>\n",
       "        \n",
       "        \n",
       "            <div id=\"fe8443c8-6206-414f-a679-a295ec68e06e\" class=\"plotly-graph-div\" style=\"height:525px; width:100%;\"></div>\n",
       "            <script type=\"text/javascript\">\n",
       "                require([\"plotly\"], function(Plotly) {\n",
       "                    window.PLOTLYENV=window.PLOTLYENV || {};\n",
       "                    window.PLOTLYENV.BASE_URL='https://plot.ly';\n",
       "                    \n",
       "                if (document.getElementById(\"fe8443c8-6206-414f-a679-a295ec68e06e\")) {\n",
       "                    Plotly.newPlot(\n",
       "                        'fe8443c8-6206-414f-a679-a295ec68e06e',\n",
       "                        [{\"boxpoints\": false, \"line\": {\"width\": 1.3}, \"marker\": {\"color\": \"rgba(255, 153, 51, 1.0)\"}, \"name\": \"A\", \"orientation\": \"v\", \"type\": \"box\", \"y\": [-0.9093054841012843, 0.6040832399960773, -2.410271137195946, 0.16588443929009308, 1.0852191490067407, 0.6250277127932178, -0.9246067333548268, 1.0805265305902243, 1.5725408394539233, 0.5305774112893745, -1.0968365092075085, 0.358422463579597, -0.23415335588614208, 0.15470064036229597, -1.2258341941415993, 0.2593542310596669, 1.5207292232801048, 0.6937829889514853, -1.064285675230406, -0.44560982863137766, -1.0906263710804303, 1.9665199437015592, -0.3168671019465515, 1.0662884587350903, 0.52274830772359, -0.36628016461133656, -0.8474582771956716, 1.1502604717661162, 1.9461342218110398, -0.4650443159355485, -0.8168701770762032, -1.6513676718383128, 0.03763777500553534, -0.8930695726250423, 0.9944707976208484, -1.0317371061968406, -0.08534728128681522, -0.11154374643876049, -0.41021037304330565, -0.6932234768278271, 0.46269386705795046, -1.2691305767830017, 0.3914823573992438, -0.3325552370346851, 0.4505119668619261, 0.26267163704247304, 0.6146339373666935, -0.00019986832009890844, -0.3562942496957231, 1.1106410349742948, -0.4333466685561677, -0.6433360131302692, -0.8874917160851796, -0.8513536562439611, -0.05277980507992831, 0.9196787192380568, -1.8824712139707094, -0.0027461866850745902, -0.02857973666903494, -0.6041682943303771, 0.5017654389406031, -1.9697355871042415, 0.6538225862413563, 0.7165951809469918, 0.05677784382488556, -1.141078681176908, 1.3054036850528037, 0.8351305395606717, -0.5254041188527706, -0.4577834507066193, -0.8005206812905147, 1.6411028852562852, -1.0179121109648015, -1.100307719569913, 0.24578712452507961, -0.8471375107617793, -0.3786013986846745, -0.7832461028994342, -0.24609091475376293, 2.110724741197031, 0.5651851649423003, -1.6974921370855955, -3.052601304677243, -0.9328402706436525, 0.9777294759588954, -1.3736356963160077, -0.2568197552540412, -0.14252924846144352, -0.23946981078682242, -0.058466871907325725, -0.597456559381562, -2.1389872634159057, 1.402282041961766, 0.5274283741136507, -1.2594196492030272, -0.491214492828783, -1.3984069642976626, -2.4488941051712687, 0.6371774376560045, -1.2528580901560282]}, {\"boxpoints\": false, \"line\": {\"width\": 1.3}, \"marker\": {\"color\": \"rgba(55, 128, 191, 1.0)\"}, \"name\": \"B\", \"orientation\": \"v\", \"type\": \"box\", \"y\": [1.971440509710332, -0.16847988892318877, 1.0201516777693376, -0.4746460566381103, -0.252233811330853, -0.812181070653521, 0.08607180636893513, -0.02022449530412015, -0.1099275343296199, 0.38663004425284286, -0.526558562979596, 1.8595393195972616, -0.2554254965801771, -0.9141127018210553, 0.06456255996214603, 0.09207005623359946, -0.47783575200149025, 0.09276314732860896, -1.531698896254452, -1.9987393236806141, -0.6049054502346282, 0.8385800455756265, 2.4409277500049287, -0.2651686762903576, -0.07027781766020814, 1.4460735333923849, 0.4062558151378958, 2.9924417578949596, -0.6725291814251461, 0.058275087784900724, -0.7180357045425773, -1.4032200530204344, -0.3150288706370873, 0.47758875464697453, -0.8269771217614604, 0.48172496799817244, -0.7453485529280233, 2.2103985684031424, -0.6512343240750648, -1.0761589643558305, -0.3126827200482146, -0.7707723938441469, 0.03761157401678399, 0.38218995607893624, 1.6232168368871616, -0.891991061325372, 0.3081052691599786, -1.6742745874233398, -1.060786505394401, -1.224894225568253, -1.1418576917418655, 0.7776014073963039, -2.0722908928193076, 0.6269795454914691, -0.07363912387427204, 1.0337073250918112, -0.8724424338268957, 0.2944326120520341, 1.1007166889351714, -1.0368444257918097, 0.40581918123186206, 1.3247223197113267, -0.5028529312192868, 0.12826431985038722, -0.41298476969240855, -0.5122594907994159, -0.3767939408544858, -0.5483495771102112, 0.23937351232956053, -0.1237189545660604, -1.6086158300274889, 0.13255921177958058, 0.6236563150256992, -1.7629134825954333, 0.3965543697462627, -0.015246469369710672, 0.6224378394650877, 1.273204770270868, 0.16522803860713273, 0.21631887975698336, 0.49296727355124675, -0.856555842632183, 1.285461938030501, -1.5108562066320856, -0.5654639130801999, -0.2988083381094179, 0.4455217374847133, 0.47958439154709376, 0.7371979486246891, 0.4676197412857697, 0.37248117726012064, -0.06150360692356444, 0.011862471019332303, 1.5119522400199887, -1.542085684981008, 0.45531041190984595, -0.19489834876868772, 0.30160750277151505, -0.04051459233187058, 1.8329947771102855]}, {\"boxpoints\": false, \"line\": {\"width\": 1.3}, \"marker\": {\"color\": \"rgba(50, 171, 96, 1.0)\"}, \"name\": \"C\", \"orientation\": \"v\", \"type\": \"box\", \"y\": [0.7280667652885545, 0.8488235899553379, 0.290987080721703, 0.07289592702509784, 1.5712941840611465, -0.3503445574341853, -0.20906465827915915, 1.7246981848259362, 0.47910031798336217, 0.3859055420108177, 1.1478919327821941, -0.6469019399252434, -0.8298435552798016, 0.6069560798978525, -0.6716513170056069, -0.44099377084482927, -1.1253008953103194, 0.5181015240074431, 1.0474795855982406, 1.5483010108942044, 0.2766643544476635, 0.5446276910346245, -0.9328439764575173, 0.7568845978769322, 0.42254305624882876, -0.4378245539651729, -1.2086606440341157, -1.3156063815688934, -0.01846642609983113, 0.10970827397166491, -0.09880585856931799, 2.3760283971453875, -0.716049356152018, 0.438821511552451, 0.2338878272126851, -0.3154223616652488, 1.1012203344621132, 0.349326026393338, 0.6294033557838192, 0.24618417293232878, -0.1330148585330617, -1.0848140949875746, -1.0126800068690232, -0.9718899662289104, 0.9544063653537571, 0.9996722923494628, -1.5069089607758692, -0.9943443964352677, -0.5713285023268356, -0.18574285455520928, 0.9036015588357612, 0.5294493589722387, -0.01474184717698523, -0.2599128263966185, 1.1326800728542001, 1.260384329503193, 0.7616637751038151, 0.5977839325818189, 1.6513463268850124, 0.8316537330619864, 0.11144277773083576, 0.12112918817911539, -0.16953916251036222, 1.403377118588521, 0.5276874167214146, -1.194826773694459, 0.08166109182933724, 0.6202384660207138, -0.4970253894088577, 0.2679870307472513, 0.2874848816773004, -0.9227426553868162, -1.2492553769358716, 0.992746313853953, 1.1303403711640536, 2.7161095361645087, 1.0860151601273755, 1.096875481725637, -0.7496336676945539, -0.15863602841746954, 0.3619174044979912, -1.06233723024928, -0.10401865778638529, 0.9666267014317605, -0.9648981151836775, 0.999324014455443, -1.551455891751039, -1.8417957326728502, -2.6510712352965853, 1.6803324810008309, 1.1843713170062444, 0.006932625023387141, 0.31840781918665645, 0.2289488826055793, -0.24107096166904154, -0.027679255150120166, 1.0397827616934225, -1.271033272555595, -0.8627298187498355, 1.4875724471837792]}, {\"boxpoints\": false, \"line\": {\"width\": 1.3}, \"marker\": {\"color\": \"rgba(128, 0, 128, 1.0)\"}, \"name\": \"D\", \"orientation\": \"v\", \"type\": \"box\", \"y\": [-0.0597004332272165, -0.7270948232657004, 0.10386741108535118, 0.8823267315107225, 1.1239413366995417, -0.09000979019462164, -0.34064270136513775, 0.9015586963809795, -1.2199166672554982, -0.10474960609253045, -0.5047368023338258, 0.9120026789167751, 0.674039325645774, 1.0977812334020363, 0.49075617307552466, -0.1825714349285571, 1.1908785579639265, 0.9435400510505514, -1.1228061375683676, -0.4550236033163609, 0.5103141348300834, -0.08371828187615925, 0.5961862717691772, 1.4777926677579054, 1.1662395280911697, -0.549894066420653, -0.9373220197978973, 0.26822804305139314, 1.3441507375524713, 1.278239178065697, 0.039557656709048275, 0.5933236707937817, -0.6646795753141186, -2.297062643389993, -0.534969822905361, -1.488671223214322, -0.8189963439403524, 1.7241068058340498, -0.7596556222103996, -1.9502115782962415, 0.9831761742342704, -0.8345090640057391, 0.23245482978715487, -0.48900878119890073, -0.8097729295451747, -1.8959697910487932, -0.4561478615680612, 0.4539567661489525, 0.07085461835479741, 0.8403631191974654, 0.9976130864215411, 0.8285767573404479, -0.3449556066740045, 1.7734608469596895, -0.5956584589272034, -0.5656892432795249, -1.634948108337012, -0.9636407636851575, 1.764519171208656, -0.1662788794018256, -1.8941894694726702, -1.5486643210692401, 0.13022893710572384, 1.0301698732465645, 1.0835499292960724, 0.9896724958809934, -0.3622673939898819, -0.3060135868618649, -1.1279486634108724, -1.0451283293811087, 1.0098144867890588, -1.4443662319195205, 1.1915349467981744, -1.6408370964075916, -0.7984635014901174, 1.1290041958226926, -1.0505794139895748, -1.435890720587731, -1.5483688140960696, -1.5841534124611472, 0.3082967039657568, 0.19819953977361968, -0.5565885705624065, 1.4520060725936632, 0.8106534843091644, -0.806790992501957, -0.5001359388406705, -0.9253951481709741, 0.7573615775820923, -0.19743506936780397, -1.1159609113830533, 1.527455572958231, 0.8126592777281217, -0.2823311711029549, -1.0244300290041477, 1.3358593559436946, -1.217200545405278, -0.2538940489662926, -2.180838977190818, 0.9613927729990254]}],\n",
       "                        {\"legend\": {\"bgcolor\": \"#F5F6F9\", \"font\": {\"color\": \"#4D5663\"}}, \"paper_bgcolor\": \"#F5F6F9\", \"plot_bgcolor\": \"#F5F6F9\", \"template\": {\"data\": {\"bar\": [{\"error_x\": {\"color\": \"#2a3f5f\"}, \"error_y\": {\"color\": \"#2a3f5f\"}, \"marker\": {\"line\": {\"color\": \"#E5ECF6\", \"width\": 0.5}}, \"type\": \"bar\"}], \"barpolar\": [{\"marker\": {\"line\": {\"color\": \"#E5ECF6\", \"width\": 0.5}}, \"type\": \"barpolar\"}], \"carpet\": [{\"aaxis\": {\"endlinecolor\": \"#2a3f5f\", \"gridcolor\": \"white\", \"linecolor\": \"white\", \"minorgridcolor\": \"white\", \"startlinecolor\": \"#2a3f5f\"}, \"baxis\": {\"endlinecolor\": \"#2a3f5f\", \"gridcolor\": \"white\", \"linecolor\": \"white\", \"minorgridcolor\": \"white\", \"startlinecolor\": \"#2a3f5f\"}, \"type\": \"carpet\"}], \"choropleth\": [{\"colorbar\": {\"outlinewidth\": 0, \"ticks\": \"\"}, \"type\": \"choropleth\"}], \"contour\": [{\"colorbar\": {\"outlinewidth\": 0, \"ticks\": \"\"}, \"colorscale\": [[0.0, \"#0d0887\"], [0.1111111111111111, \"#46039f\"], [0.2222222222222222, \"#7201a8\"], [0.3333333333333333, \"#9c179e\"], [0.4444444444444444, \"#bd3786\"], [0.5555555555555556, \"#d8576b\"], [0.6666666666666666, \"#ed7953\"], [0.7777777777777778, \"#fb9f3a\"], [0.8888888888888888, \"#fdca26\"], [1.0, \"#f0f921\"]], \"type\": \"contour\"}], \"contourcarpet\": [{\"colorbar\": {\"outlinewidth\": 0, \"ticks\": \"\"}, \"type\": \"contourcarpet\"}], \"heatmap\": [{\"colorbar\": {\"outlinewidth\": 0, \"ticks\": \"\"}, \"colorscale\": [[0.0, \"#0d0887\"], [0.1111111111111111, \"#46039f\"], [0.2222222222222222, \"#7201a8\"], [0.3333333333333333, \"#9c179e\"], [0.4444444444444444, \"#bd3786\"], [0.5555555555555556, \"#d8576b\"], [0.6666666666666666, \"#ed7953\"], [0.7777777777777778, \"#fb9f3a\"], [0.8888888888888888, \"#fdca26\"], [1.0, \"#f0f921\"]], \"type\": \"heatmap\"}], \"heatmapgl\": [{\"colorbar\": {\"outlinewidth\": 0, \"ticks\": \"\"}, \"colorscale\": [[0.0, \"#0d0887\"], [0.1111111111111111, \"#46039f\"], [0.2222222222222222, \"#7201a8\"], [0.3333333333333333, \"#9c179e\"], [0.4444444444444444, \"#bd3786\"], [0.5555555555555556, \"#d8576b\"], [0.6666666666666666, \"#ed7953\"], [0.7777777777777778, \"#fb9f3a\"], [0.8888888888888888, \"#fdca26\"], [1.0, \"#f0f921\"]], \"type\": \"heatmapgl\"}], \"histogram\": [{\"marker\": {\"colorbar\": {\"outlinewidth\": 0, \"ticks\": \"\"}}, \"type\": \"histogram\"}], \"histogram2d\": [{\"colorbar\": {\"outlinewidth\": 0, \"ticks\": \"\"}, \"colorscale\": [[0.0, \"#0d0887\"], [0.1111111111111111, \"#46039f\"], [0.2222222222222222, \"#7201a8\"], [0.3333333333333333, \"#9c179e\"], [0.4444444444444444, \"#bd3786\"], [0.5555555555555556, \"#d8576b\"], [0.6666666666666666, \"#ed7953\"], [0.7777777777777778, \"#fb9f3a\"], [0.8888888888888888, \"#fdca26\"], [1.0, \"#f0f921\"]], \"type\": \"histogram2d\"}], \"histogram2dcontour\": [{\"colorbar\": {\"outlinewidth\": 0, \"ticks\": \"\"}, \"colorscale\": [[0.0, \"#0d0887\"], [0.1111111111111111, \"#46039f\"], [0.2222222222222222, \"#7201a8\"], [0.3333333333333333, \"#9c179e\"], [0.4444444444444444, \"#bd3786\"], [0.5555555555555556, \"#d8576b\"], [0.6666666666666666, \"#ed7953\"], [0.7777777777777778, \"#fb9f3a\"], [0.8888888888888888, \"#fdca26\"], [1.0, \"#f0f921\"]], \"type\": \"histogram2dcontour\"}], \"mesh3d\": [{\"colorbar\": {\"outlinewidth\": 0, \"ticks\": \"\"}, \"type\": \"mesh3d\"}], \"parcoords\": [{\"line\": {\"colorbar\": {\"outlinewidth\": 0, \"ticks\": \"\"}}, \"type\": \"parcoords\"}], \"pie\": [{\"automargin\": true, \"type\": \"pie\"}], \"scatter\": [{\"marker\": {\"colorbar\": {\"outlinewidth\": 0, \"ticks\": \"\"}}, \"type\": \"scatter\"}], \"scatter3d\": [{\"line\": {\"colorbar\": {\"outlinewidth\": 0, \"ticks\": \"\"}}, \"marker\": {\"colorbar\": {\"outlinewidth\": 0, \"ticks\": \"\"}}, \"type\": \"scatter3d\"}], \"scattercarpet\": [{\"marker\": {\"colorbar\": {\"outlinewidth\": 0, \"ticks\": \"\"}}, \"type\": \"scattercarpet\"}], \"scattergeo\": [{\"marker\": {\"colorbar\": {\"outlinewidth\": 0, \"ticks\": \"\"}}, \"type\": \"scattergeo\"}], \"scattergl\": [{\"marker\": {\"colorbar\": {\"outlinewidth\": 0, \"ticks\": \"\"}}, \"type\": \"scattergl\"}], \"scattermapbox\": [{\"marker\": {\"colorbar\": {\"outlinewidth\": 0, \"ticks\": \"\"}}, \"type\": \"scattermapbox\"}], \"scatterpolar\": [{\"marker\": {\"colorbar\": {\"outlinewidth\": 0, \"ticks\": \"\"}}, \"type\": \"scatterpolar\"}], \"scatterpolargl\": [{\"marker\": {\"colorbar\": {\"outlinewidth\": 0, \"ticks\": \"\"}}, \"type\": \"scatterpolargl\"}], \"scatterternary\": [{\"marker\": {\"colorbar\": {\"outlinewidth\": 0, \"ticks\": \"\"}}, \"type\": \"scatterternary\"}], \"surface\": [{\"colorbar\": {\"outlinewidth\": 0, \"ticks\": \"\"}, \"colorscale\": [[0.0, \"#0d0887\"], [0.1111111111111111, \"#46039f\"], [0.2222222222222222, \"#7201a8\"], [0.3333333333333333, \"#9c179e\"], [0.4444444444444444, \"#bd3786\"], [0.5555555555555556, \"#d8576b\"], [0.6666666666666666, \"#ed7953\"], [0.7777777777777778, \"#fb9f3a\"], [0.8888888888888888, \"#fdca26\"], [1.0, \"#f0f921\"]], \"type\": \"surface\"}], \"table\": [{\"cells\": {\"fill\": {\"color\": \"#EBF0F8\"}, \"line\": {\"color\": \"white\"}}, \"header\": {\"fill\": {\"color\": \"#C8D4E3\"}, \"line\": {\"color\": \"white\"}}, \"type\": \"table\"}]}, \"layout\": {\"annotationdefaults\": {\"arrowcolor\": \"#2a3f5f\", \"arrowhead\": 0, \"arrowwidth\": 1}, \"coloraxis\": {\"colorbar\": {\"outlinewidth\": 0, \"ticks\": \"\"}}, \"colorscale\": {\"diverging\": [[0, \"#8e0152\"], [0.1, \"#c51b7d\"], [0.2, \"#de77ae\"], [0.3, \"#f1b6da\"], [0.4, \"#fde0ef\"], [0.5, \"#f7f7f7\"], [0.6, \"#e6f5d0\"], [0.7, \"#b8e186\"], [0.8, \"#7fbc41\"], [0.9, \"#4d9221\"], [1, \"#276419\"]], \"sequential\": [[0.0, \"#0d0887\"], [0.1111111111111111, \"#46039f\"], [0.2222222222222222, \"#7201a8\"], [0.3333333333333333, \"#9c179e\"], [0.4444444444444444, \"#bd3786\"], [0.5555555555555556, \"#d8576b\"], [0.6666666666666666, \"#ed7953\"], [0.7777777777777778, \"#fb9f3a\"], [0.8888888888888888, \"#fdca26\"], [1.0, \"#f0f921\"]], \"sequentialminus\": [[0.0, \"#0d0887\"], [0.1111111111111111, \"#46039f\"], [0.2222222222222222, \"#7201a8\"], [0.3333333333333333, \"#9c179e\"], [0.4444444444444444, \"#bd3786\"], [0.5555555555555556, \"#d8576b\"], [0.6666666666666666, \"#ed7953\"], [0.7777777777777778, \"#fb9f3a\"], [0.8888888888888888, \"#fdca26\"], [1.0, \"#f0f921\"]]}, \"colorway\": [\"#636efa\", \"#EF553B\", \"#00cc96\", \"#ab63fa\", \"#FFA15A\", \"#19d3f3\", \"#FF6692\", \"#B6E880\", \"#FF97FF\", \"#FECB52\"], \"font\": {\"color\": \"#2a3f5f\"}, \"geo\": {\"bgcolor\": \"white\", \"lakecolor\": \"white\", \"landcolor\": \"#E5ECF6\", \"showlakes\": true, \"showland\": true, \"subunitcolor\": \"white\"}, \"hoverlabel\": {\"align\": \"left\"}, \"hovermode\": \"closest\", \"mapbox\": {\"style\": \"light\"}, \"paper_bgcolor\": \"white\", \"plot_bgcolor\": \"#E5ECF6\", \"polar\": {\"angularaxis\": {\"gridcolor\": \"white\", \"linecolor\": \"white\", \"ticks\": \"\"}, \"bgcolor\": \"#E5ECF6\", \"radialaxis\": {\"gridcolor\": \"white\", \"linecolor\": \"white\", \"ticks\": \"\"}}, \"scene\": {\"xaxis\": {\"backgroundcolor\": \"#E5ECF6\", \"gridcolor\": \"white\", \"gridwidth\": 2, \"linecolor\": \"white\", \"showbackground\": true, \"ticks\": \"\", \"zerolinecolor\": \"white\"}, \"yaxis\": {\"backgroundcolor\": \"#E5ECF6\", \"gridcolor\": \"white\", \"gridwidth\": 2, \"linecolor\": \"white\", \"showbackground\": true, \"ticks\": \"\", \"zerolinecolor\": \"white\"}, \"zaxis\": {\"backgroundcolor\": \"#E5ECF6\", \"gridcolor\": \"white\", \"gridwidth\": 2, \"linecolor\": \"white\", \"showbackground\": true, \"ticks\": \"\", \"zerolinecolor\": \"white\"}}, \"shapedefaults\": {\"line\": {\"color\": \"#2a3f5f\"}}, \"ternary\": {\"aaxis\": {\"gridcolor\": \"white\", \"linecolor\": \"white\", \"ticks\": \"\"}, \"baxis\": {\"gridcolor\": \"white\", \"linecolor\": \"white\", \"ticks\": \"\"}, \"bgcolor\": \"#E5ECF6\", \"caxis\": {\"gridcolor\": \"white\", \"linecolor\": \"white\", \"ticks\": \"\"}}, \"title\": {\"x\": 0.05}, \"xaxis\": {\"automargin\": true, \"gridcolor\": \"white\", \"linecolor\": \"white\", \"ticks\": \"\", \"title\": {\"standoff\": 15}, \"zerolinecolor\": \"white\", \"zerolinewidth\": 2}, \"yaxis\": {\"automargin\": true, \"gridcolor\": \"white\", \"linecolor\": \"white\", \"ticks\": \"\", \"title\": {\"standoff\": 15}, \"zerolinecolor\": \"white\", \"zerolinewidth\": 2}}}, \"title\": {\"font\": {\"color\": \"#4D5663\"}}, \"xaxis\": {\"gridcolor\": \"#E1E5ED\", \"showgrid\": true, \"tickfont\": {\"color\": \"#4D5663\"}, \"title\": {\"font\": {\"color\": \"#4D5663\"}, \"text\": \"\"}, \"zerolinecolor\": \"#E1E5ED\"}, \"yaxis\": {\"gridcolor\": \"#E1E5ED\", \"showgrid\": true, \"tickfont\": {\"color\": \"#4D5663\"}, \"title\": {\"font\": {\"color\": \"#4D5663\"}, \"text\": \"\"}, \"zerolinecolor\": \"#E1E5ED\"}},\n",
       "                        {\"showLink\": true, \"linkText\": \"Export to plot.ly\", \"plotlyServerURL\": \"https://plot.ly\", \"responsive\": true}\n",
       "                    ).then(function(){\n",
       "                            \n",
       "var gd = document.getElementById('fe8443c8-6206-414f-a679-a295ec68e06e');\n",
       "var x = new MutationObserver(function (mutations, observer) {{\n",
       "        var display = window.getComputedStyle(gd).display;\n",
       "        if (!display || display === 'none') {{\n",
       "            console.log([gd, 'removed!']);\n",
       "            Plotly.purge(gd);\n",
       "            observer.disconnect();\n",
       "        }}\n",
       "}});\n",
       "\n",
       "// Listen for the removal of the full notebook cells\n",
       "var notebookContainer = gd.closest('#notebook-container');\n",
       "if (notebookContainer) {{\n",
       "    x.observe(notebookContainer, {childList: true});\n",
       "}}\n",
       "\n",
       "// Listen for the clearing of the current output cell\n",
       "var outputEl = gd.closest('.output');\n",
       "if (outputEl) {{\n",
       "    x.observe(outputEl, {childList: true});\n",
       "}}\n",
       "\n",
       "                        })\n",
       "                };\n",
       "                });\n",
       "            </script>\n",
       "        </div>"
      ]
     },
     "metadata": {},
     "output_type": "display_data"
    }
   ],
   "source": [
    "df.iplot(kind='box')"
   ]
  },
  {
   "cell_type": "markdown",
   "metadata": {},
   "source": [
    "## 3d Surface"
   ]
  },
  {
   "cell_type": "code",
   "execution_count": 38,
   "metadata": {
    "scrolled": true
   },
   "outputs": [
    {
     "data": {
      "application/vnd.plotly.v1+json": {
       "config": {
        "linkText": "Export to plot.ly",
        "plotlyServerURL": "https://plot.ly",
        "showLink": true
       },
       "data": [
        {
         "colorscale": [
          [
           0,
           "rgb(165,0,38)"
          ],
          [
           0.1,
           "rgb(215,48,39)"
          ],
          [
           0.2,
           "rgb(244,109,67)"
          ],
          [
           0.3,
           "rgb(253,174,97)"
          ],
          [
           0.4,
           "rgb(254,224,144)"
          ],
          [
           0.5,
           "rgb(255,255,191)"
          ],
          [
           0.6,
           "rgb(224,243,248)"
          ],
          [
           0.7,
           "rgb(171,217,233)"
          ],
          [
           0.8,
           "rgb(116,173,209)"
          ],
          [
           0.9,
           "rgb(69,117,180)"
          ],
          [
           1,
           "rgb(49,54,149)"
          ]
         ],
         "type": "surface",
         "x": [
          0,
          1,
          2,
          3,
          4
         ],
         "y": [
          "x",
          "y",
          "z"
         ],
         "z": [
          [
           1,
           2,
           3,
           4,
           5
          ],
          [
           10,
           20,
           30,
           20,
           10
          ],
          [
           5,
           4,
           3,
           2,
           1
          ]
         ]
        }
       ],
       "layout": {
        "legend": {
         "bgcolor": "#F5F6F9",
         "font": {
          "color": "#4D5663"
         }
        },
        "paper_bgcolor": "#F5F6F9",
        "plot_bgcolor": "#F5F6F9",
        "template": {
         "data": {
          "bar": [
           {
            "error_x": {
             "color": "#2a3f5f"
            },
            "error_y": {
             "color": "#2a3f5f"
            },
            "marker": {
             "line": {
              "color": "#E5ECF6",
              "width": 0.5
             }
            },
            "type": "bar"
           }
          ],
          "barpolar": [
           {
            "marker": {
             "line": {
              "color": "#E5ECF6",
              "width": 0.5
             }
            },
            "type": "barpolar"
           }
          ],
          "carpet": [
           {
            "aaxis": {
             "endlinecolor": "#2a3f5f",
             "gridcolor": "white",
             "linecolor": "white",
             "minorgridcolor": "white",
             "startlinecolor": "#2a3f5f"
            },
            "baxis": {
             "endlinecolor": "#2a3f5f",
             "gridcolor": "white",
             "linecolor": "white",
             "minorgridcolor": "white",
             "startlinecolor": "#2a3f5f"
            },
            "type": "carpet"
           }
          ],
          "choropleth": [
           {
            "colorbar": {
             "outlinewidth": 0,
             "ticks": ""
            },
            "type": "choropleth"
           }
          ],
          "contour": [
           {
            "colorbar": {
             "outlinewidth": 0,
             "ticks": ""
            },
            "colorscale": [
             [
              0,
              "#0d0887"
             ],
             [
              0.1111111111111111,
              "#46039f"
             ],
             [
              0.2222222222222222,
              "#7201a8"
             ],
             [
              0.3333333333333333,
              "#9c179e"
             ],
             [
              0.4444444444444444,
              "#bd3786"
             ],
             [
              0.5555555555555556,
              "#d8576b"
             ],
             [
              0.6666666666666666,
              "#ed7953"
             ],
             [
              0.7777777777777778,
              "#fb9f3a"
             ],
             [
              0.8888888888888888,
              "#fdca26"
             ],
             [
              1,
              "#f0f921"
             ]
            ],
            "type": "contour"
           }
          ],
          "contourcarpet": [
           {
            "colorbar": {
             "outlinewidth": 0,
             "ticks": ""
            },
            "type": "contourcarpet"
           }
          ],
          "heatmap": [
           {
            "colorbar": {
             "outlinewidth": 0,
             "ticks": ""
            },
            "colorscale": [
             [
              0,
              "#0d0887"
             ],
             [
              0.1111111111111111,
              "#46039f"
             ],
             [
              0.2222222222222222,
              "#7201a8"
             ],
             [
              0.3333333333333333,
              "#9c179e"
             ],
             [
              0.4444444444444444,
              "#bd3786"
             ],
             [
              0.5555555555555556,
              "#d8576b"
             ],
             [
              0.6666666666666666,
              "#ed7953"
             ],
             [
              0.7777777777777778,
              "#fb9f3a"
             ],
             [
              0.8888888888888888,
              "#fdca26"
             ],
             [
              1,
              "#f0f921"
             ]
            ],
            "type": "heatmap"
           }
          ],
          "heatmapgl": [
           {
            "colorbar": {
             "outlinewidth": 0,
             "ticks": ""
            },
            "colorscale": [
             [
              0,
              "#0d0887"
             ],
             [
              0.1111111111111111,
              "#46039f"
             ],
             [
              0.2222222222222222,
              "#7201a8"
             ],
             [
              0.3333333333333333,
              "#9c179e"
             ],
             [
              0.4444444444444444,
              "#bd3786"
             ],
             [
              0.5555555555555556,
              "#d8576b"
             ],
             [
              0.6666666666666666,
              "#ed7953"
             ],
             [
              0.7777777777777778,
              "#fb9f3a"
             ],
             [
              0.8888888888888888,
              "#fdca26"
             ],
             [
              1,
              "#f0f921"
             ]
            ],
            "type": "heatmapgl"
           }
          ],
          "histogram": [
           {
            "marker": {
             "colorbar": {
              "outlinewidth": 0,
              "ticks": ""
             }
            },
            "type": "histogram"
           }
          ],
          "histogram2d": [
           {
            "colorbar": {
             "outlinewidth": 0,
             "ticks": ""
            },
            "colorscale": [
             [
              0,
              "#0d0887"
             ],
             [
              0.1111111111111111,
              "#46039f"
             ],
             [
              0.2222222222222222,
              "#7201a8"
             ],
             [
              0.3333333333333333,
              "#9c179e"
             ],
             [
              0.4444444444444444,
              "#bd3786"
             ],
             [
              0.5555555555555556,
              "#d8576b"
             ],
             [
              0.6666666666666666,
              "#ed7953"
             ],
             [
              0.7777777777777778,
              "#fb9f3a"
             ],
             [
              0.8888888888888888,
              "#fdca26"
             ],
             [
              1,
              "#f0f921"
             ]
            ],
            "type": "histogram2d"
           }
          ],
          "histogram2dcontour": [
           {
            "colorbar": {
             "outlinewidth": 0,
             "ticks": ""
            },
            "colorscale": [
             [
              0,
              "#0d0887"
             ],
             [
              0.1111111111111111,
              "#46039f"
             ],
             [
              0.2222222222222222,
              "#7201a8"
             ],
             [
              0.3333333333333333,
              "#9c179e"
             ],
             [
              0.4444444444444444,
              "#bd3786"
             ],
             [
              0.5555555555555556,
              "#d8576b"
             ],
             [
              0.6666666666666666,
              "#ed7953"
             ],
             [
              0.7777777777777778,
              "#fb9f3a"
             ],
             [
              0.8888888888888888,
              "#fdca26"
             ],
             [
              1,
              "#f0f921"
             ]
            ],
            "type": "histogram2dcontour"
           }
          ],
          "mesh3d": [
           {
            "colorbar": {
             "outlinewidth": 0,
             "ticks": ""
            },
            "type": "mesh3d"
           }
          ],
          "parcoords": [
           {
            "line": {
             "colorbar": {
              "outlinewidth": 0,
              "ticks": ""
             }
            },
            "type": "parcoords"
           }
          ],
          "pie": [
           {
            "automargin": true,
            "type": "pie"
           }
          ],
          "scatter": [
           {
            "marker": {
             "colorbar": {
              "outlinewidth": 0,
              "ticks": ""
             }
            },
            "type": "scatter"
           }
          ],
          "scatter3d": [
           {
            "line": {
             "colorbar": {
              "outlinewidth": 0,
              "ticks": ""
             }
            },
            "marker": {
             "colorbar": {
              "outlinewidth": 0,
              "ticks": ""
             }
            },
            "type": "scatter3d"
           }
          ],
          "scattercarpet": [
           {
            "marker": {
             "colorbar": {
              "outlinewidth": 0,
              "ticks": ""
             }
            },
            "type": "scattercarpet"
           }
          ],
          "scattergeo": [
           {
            "marker": {
             "colorbar": {
              "outlinewidth": 0,
              "ticks": ""
             }
            },
            "type": "scattergeo"
           }
          ],
          "scattergl": [
           {
            "marker": {
             "colorbar": {
              "outlinewidth": 0,
              "ticks": ""
             }
            },
            "type": "scattergl"
           }
          ],
          "scattermapbox": [
           {
            "marker": {
             "colorbar": {
              "outlinewidth": 0,
              "ticks": ""
             }
            },
            "type": "scattermapbox"
           }
          ],
          "scatterpolar": [
           {
            "marker": {
             "colorbar": {
              "outlinewidth": 0,
              "ticks": ""
             }
            },
            "type": "scatterpolar"
           }
          ],
          "scatterpolargl": [
           {
            "marker": {
             "colorbar": {
              "outlinewidth": 0,
              "ticks": ""
             }
            },
            "type": "scatterpolargl"
           }
          ],
          "scatterternary": [
           {
            "marker": {
             "colorbar": {
              "outlinewidth": 0,
              "ticks": ""
             }
            },
            "type": "scatterternary"
           }
          ],
          "surface": [
           {
            "colorbar": {
             "outlinewidth": 0,
             "ticks": ""
            },
            "colorscale": [
             [
              0,
              "#0d0887"
             ],
             [
              0.1111111111111111,
              "#46039f"
             ],
             [
              0.2222222222222222,
              "#7201a8"
             ],
             [
              0.3333333333333333,
              "#9c179e"
             ],
             [
              0.4444444444444444,
              "#bd3786"
             ],
             [
              0.5555555555555556,
              "#d8576b"
             ],
             [
              0.6666666666666666,
              "#ed7953"
             ],
             [
              0.7777777777777778,
              "#fb9f3a"
             ],
             [
              0.8888888888888888,
              "#fdca26"
             ],
             [
              1,
              "#f0f921"
             ]
            ],
            "type": "surface"
           }
          ],
          "table": [
           {
            "cells": {
             "fill": {
              "color": "#EBF0F8"
             },
             "line": {
              "color": "white"
             }
            },
            "header": {
             "fill": {
              "color": "#C8D4E3"
             },
             "line": {
              "color": "white"
             }
            },
            "type": "table"
           }
          ]
         },
         "layout": {
          "annotationdefaults": {
           "arrowcolor": "#2a3f5f",
           "arrowhead": 0,
           "arrowwidth": 1
          },
          "coloraxis": {
           "colorbar": {
            "outlinewidth": 0,
            "ticks": ""
           }
          },
          "colorscale": {
           "diverging": [
            [
             0,
             "#8e0152"
            ],
            [
             0.1,
             "#c51b7d"
            ],
            [
             0.2,
             "#de77ae"
            ],
            [
             0.3,
             "#f1b6da"
            ],
            [
             0.4,
             "#fde0ef"
            ],
            [
             0.5,
             "#f7f7f7"
            ],
            [
             0.6,
             "#e6f5d0"
            ],
            [
             0.7,
             "#b8e186"
            ],
            [
             0.8,
             "#7fbc41"
            ],
            [
             0.9,
             "#4d9221"
            ],
            [
             1,
             "#276419"
            ]
           ],
           "sequential": [
            [
             0,
             "#0d0887"
            ],
            [
             0.1111111111111111,
             "#46039f"
            ],
            [
             0.2222222222222222,
             "#7201a8"
            ],
            [
             0.3333333333333333,
             "#9c179e"
            ],
            [
             0.4444444444444444,
             "#bd3786"
            ],
            [
             0.5555555555555556,
             "#d8576b"
            ],
            [
             0.6666666666666666,
             "#ed7953"
            ],
            [
             0.7777777777777778,
             "#fb9f3a"
            ],
            [
             0.8888888888888888,
             "#fdca26"
            ],
            [
             1,
             "#f0f921"
            ]
           ],
           "sequentialminus": [
            [
             0,
             "#0d0887"
            ],
            [
             0.1111111111111111,
             "#46039f"
            ],
            [
             0.2222222222222222,
             "#7201a8"
            ],
            [
             0.3333333333333333,
             "#9c179e"
            ],
            [
             0.4444444444444444,
             "#bd3786"
            ],
            [
             0.5555555555555556,
             "#d8576b"
            ],
            [
             0.6666666666666666,
             "#ed7953"
            ],
            [
             0.7777777777777778,
             "#fb9f3a"
            ],
            [
             0.8888888888888888,
             "#fdca26"
            ],
            [
             1,
             "#f0f921"
            ]
           ]
          },
          "colorway": [
           "#636efa",
           "#EF553B",
           "#00cc96",
           "#ab63fa",
           "#FFA15A",
           "#19d3f3",
           "#FF6692",
           "#B6E880",
           "#FF97FF",
           "#FECB52"
          ],
          "font": {
           "color": "#2a3f5f"
          },
          "geo": {
           "bgcolor": "white",
           "lakecolor": "white",
           "landcolor": "#E5ECF6",
           "showlakes": true,
           "showland": true,
           "subunitcolor": "white"
          },
          "hoverlabel": {
           "align": "left"
          },
          "hovermode": "closest",
          "mapbox": {
           "style": "light"
          },
          "paper_bgcolor": "white",
          "plot_bgcolor": "#E5ECF6",
          "polar": {
           "angularaxis": {
            "gridcolor": "white",
            "linecolor": "white",
            "ticks": ""
           },
           "bgcolor": "#E5ECF6",
           "radialaxis": {
            "gridcolor": "white",
            "linecolor": "white",
            "ticks": ""
           }
          },
          "scene": {
           "xaxis": {
            "backgroundcolor": "#E5ECF6",
            "gridcolor": "white",
            "gridwidth": 2,
            "linecolor": "white",
            "showbackground": true,
            "ticks": "",
            "zerolinecolor": "white"
           },
           "yaxis": {
            "backgroundcolor": "#E5ECF6",
            "gridcolor": "white",
            "gridwidth": 2,
            "linecolor": "white",
            "showbackground": true,
            "ticks": "",
            "zerolinecolor": "white"
           },
           "zaxis": {
            "backgroundcolor": "#E5ECF6",
            "gridcolor": "white",
            "gridwidth": 2,
            "linecolor": "white",
            "showbackground": true,
            "ticks": "",
            "zerolinecolor": "white"
           }
          },
          "shapedefaults": {
           "line": {
            "color": "#2a3f5f"
           }
          },
          "ternary": {
           "aaxis": {
            "gridcolor": "white",
            "linecolor": "white",
            "ticks": ""
           },
           "baxis": {
            "gridcolor": "white",
            "linecolor": "white",
            "ticks": ""
           },
           "bgcolor": "#E5ECF6",
           "caxis": {
            "gridcolor": "white",
            "linecolor": "white",
            "ticks": ""
           }
          },
          "title": {
           "x": 0.05
          },
          "xaxis": {
           "automargin": true,
           "gridcolor": "white",
           "linecolor": "white",
           "ticks": "",
           "title": {
            "standoff": 15
           },
           "zerolinecolor": "white",
           "zerolinewidth": 2
          },
          "yaxis": {
           "automargin": true,
           "gridcolor": "white",
           "linecolor": "white",
           "ticks": "",
           "title": {
            "standoff": 15
           },
           "zerolinecolor": "white",
           "zerolinewidth": 2
          }
         }
        },
        "title": {
         "font": {
          "color": "#4D5663"
         }
        },
        "xaxis": {
         "gridcolor": "#E1E5ED",
         "showgrid": true,
         "tickfont": {
          "color": "#4D5663"
         },
         "title": {
          "font": {
           "color": "#4D5663"
          },
          "text": ""
         },
         "zerolinecolor": "#E1E5ED"
        },
        "yaxis": {
         "gridcolor": "#E1E5ED",
         "showgrid": true,
         "tickfont": {
          "color": "#4D5663"
         },
         "title": {
          "font": {
           "color": "#4D5663"
          },
          "text": ""
         },
         "zerolinecolor": "#E1E5ED"
        }
       }
      },
      "text/html": [
       "<div>\n",
       "        \n",
       "        \n",
       "            <div id=\"dd9d60f7-49ed-4925-8675-54cb69f9c1d0\" class=\"plotly-graph-div\" style=\"height:525px; width:100%;\"></div>\n",
       "            <script type=\"text/javascript\">\n",
       "                require([\"plotly\"], function(Plotly) {\n",
       "                    window.PLOTLYENV=window.PLOTLYENV || {};\n",
       "                    window.PLOTLYENV.BASE_URL='https://plot.ly';\n",
       "                    \n",
       "                if (document.getElementById(\"dd9d60f7-49ed-4925-8675-54cb69f9c1d0\")) {\n",
       "                    Plotly.newPlot(\n",
       "                        'dd9d60f7-49ed-4925-8675-54cb69f9c1d0',\n",
       "                        [{\"colorscale\": [[0.0, \"rgb(165,0,38)\"], [0.1, \"rgb(215,48,39)\"], [0.2, \"rgb(244,109,67)\"], [0.3, \"rgb(253,174,97)\"], [0.4, \"rgb(254,224,144)\"], [0.5, \"rgb(255,255,191)\"], [0.6, \"rgb(224,243,248)\"], [0.7, \"rgb(171,217,233)\"], [0.8, \"rgb(116,173,209)\"], [0.9, \"rgb(69,117,180)\"], [1.0, \"rgb(49,54,149)\"]], \"type\": \"surface\", \"x\": [0, 1, 2, 3, 4], \"y\": [\"x\", \"y\", \"z\"], \"z\": [[1, 2, 3, 4, 5], [10, 20, 30, 20, 10], [5, 4, 3, 2, 1]]}],\n",
       "                        {\"legend\": {\"bgcolor\": \"#F5F6F9\", \"font\": {\"color\": \"#4D5663\"}}, \"paper_bgcolor\": \"#F5F6F9\", \"plot_bgcolor\": \"#F5F6F9\", \"template\": {\"data\": {\"bar\": [{\"error_x\": {\"color\": \"#2a3f5f\"}, \"error_y\": {\"color\": \"#2a3f5f\"}, \"marker\": {\"line\": {\"color\": \"#E5ECF6\", \"width\": 0.5}}, \"type\": \"bar\"}], \"barpolar\": [{\"marker\": {\"line\": {\"color\": \"#E5ECF6\", \"width\": 0.5}}, \"type\": \"barpolar\"}], \"carpet\": [{\"aaxis\": {\"endlinecolor\": \"#2a3f5f\", \"gridcolor\": \"white\", \"linecolor\": \"white\", \"minorgridcolor\": \"white\", \"startlinecolor\": \"#2a3f5f\"}, \"baxis\": {\"endlinecolor\": \"#2a3f5f\", \"gridcolor\": \"white\", \"linecolor\": \"white\", \"minorgridcolor\": \"white\", \"startlinecolor\": \"#2a3f5f\"}, \"type\": \"carpet\"}], \"choropleth\": [{\"colorbar\": {\"outlinewidth\": 0, \"ticks\": \"\"}, \"type\": \"choropleth\"}], \"contour\": [{\"colorbar\": {\"outlinewidth\": 0, \"ticks\": \"\"}, \"colorscale\": [[0.0, \"#0d0887\"], [0.1111111111111111, \"#46039f\"], [0.2222222222222222, \"#7201a8\"], [0.3333333333333333, \"#9c179e\"], [0.4444444444444444, \"#bd3786\"], [0.5555555555555556, \"#d8576b\"], [0.6666666666666666, \"#ed7953\"], [0.7777777777777778, \"#fb9f3a\"], [0.8888888888888888, \"#fdca26\"], [1.0, \"#f0f921\"]], \"type\": \"contour\"}], \"contourcarpet\": [{\"colorbar\": {\"outlinewidth\": 0, \"ticks\": \"\"}, \"type\": \"contourcarpet\"}], \"heatmap\": [{\"colorbar\": {\"outlinewidth\": 0, \"ticks\": \"\"}, \"colorscale\": [[0.0, \"#0d0887\"], [0.1111111111111111, \"#46039f\"], [0.2222222222222222, \"#7201a8\"], [0.3333333333333333, \"#9c179e\"], [0.4444444444444444, \"#bd3786\"], [0.5555555555555556, \"#d8576b\"], [0.6666666666666666, \"#ed7953\"], [0.7777777777777778, \"#fb9f3a\"], [0.8888888888888888, \"#fdca26\"], [1.0, \"#f0f921\"]], \"type\": \"heatmap\"}], \"heatmapgl\": [{\"colorbar\": {\"outlinewidth\": 0, \"ticks\": \"\"}, \"colorscale\": [[0.0, \"#0d0887\"], [0.1111111111111111, \"#46039f\"], [0.2222222222222222, \"#7201a8\"], [0.3333333333333333, \"#9c179e\"], [0.4444444444444444, \"#bd3786\"], [0.5555555555555556, \"#d8576b\"], [0.6666666666666666, \"#ed7953\"], [0.7777777777777778, \"#fb9f3a\"], [0.8888888888888888, \"#fdca26\"], [1.0, \"#f0f921\"]], \"type\": \"heatmapgl\"}], \"histogram\": [{\"marker\": {\"colorbar\": {\"outlinewidth\": 0, \"ticks\": \"\"}}, \"type\": \"histogram\"}], \"histogram2d\": [{\"colorbar\": {\"outlinewidth\": 0, \"ticks\": \"\"}, \"colorscale\": [[0.0, \"#0d0887\"], [0.1111111111111111, \"#46039f\"], [0.2222222222222222, \"#7201a8\"], [0.3333333333333333, \"#9c179e\"], [0.4444444444444444, \"#bd3786\"], [0.5555555555555556, \"#d8576b\"], [0.6666666666666666, \"#ed7953\"], [0.7777777777777778, \"#fb9f3a\"], [0.8888888888888888, \"#fdca26\"], [1.0, \"#f0f921\"]], \"type\": \"histogram2d\"}], \"histogram2dcontour\": [{\"colorbar\": {\"outlinewidth\": 0, \"ticks\": \"\"}, \"colorscale\": [[0.0, \"#0d0887\"], [0.1111111111111111, \"#46039f\"], [0.2222222222222222, \"#7201a8\"], [0.3333333333333333, \"#9c179e\"], [0.4444444444444444, \"#bd3786\"], [0.5555555555555556, \"#d8576b\"], [0.6666666666666666, \"#ed7953\"], [0.7777777777777778, \"#fb9f3a\"], [0.8888888888888888, \"#fdca26\"], [1.0, \"#f0f921\"]], \"type\": \"histogram2dcontour\"}], \"mesh3d\": [{\"colorbar\": {\"outlinewidth\": 0, \"ticks\": \"\"}, \"type\": \"mesh3d\"}], \"parcoords\": [{\"line\": {\"colorbar\": {\"outlinewidth\": 0, \"ticks\": \"\"}}, \"type\": \"parcoords\"}], \"pie\": [{\"automargin\": true, \"type\": \"pie\"}], \"scatter\": [{\"marker\": {\"colorbar\": {\"outlinewidth\": 0, \"ticks\": \"\"}}, \"type\": \"scatter\"}], \"scatter3d\": [{\"line\": {\"colorbar\": {\"outlinewidth\": 0, \"ticks\": \"\"}}, \"marker\": {\"colorbar\": {\"outlinewidth\": 0, \"ticks\": \"\"}}, \"type\": \"scatter3d\"}], \"scattercarpet\": [{\"marker\": {\"colorbar\": {\"outlinewidth\": 0, \"ticks\": \"\"}}, \"type\": \"scattercarpet\"}], \"scattergeo\": [{\"marker\": {\"colorbar\": {\"outlinewidth\": 0, \"ticks\": \"\"}}, \"type\": \"scattergeo\"}], \"scattergl\": [{\"marker\": {\"colorbar\": {\"outlinewidth\": 0, \"ticks\": \"\"}}, \"type\": \"scattergl\"}], \"scattermapbox\": [{\"marker\": {\"colorbar\": {\"outlinewidth\": 0, \"ticks\": \"\"}}, \"type\": \"scattermapbox\"}], \"scatterpolar\": [{\"marker\": {\"colorbar\": {\"outlinewidth\": 0, \"ticks\": \"\"}}, \"type\": \"scatterpolar\"}], \"scatterpolargl\": [{\"marker\": {\"colorbar\": {\"outlinewidth\": 0, \"ticks\": \"\"}}, \"type\": \"scatterpolargl\"}], \"scatterternary\": [{\"marker\": {\"colorbar\": {\"outlinewidth\": 0, \"ticks\": \"\"}}, \"type\": \"scatterternary\"}], \"surface\": [{\"colorbar\": {\"outlinewidth\": 0, \"ticks\": \"\"}, \"colorscale\": [[0.0, \"#0d0887\"], [0.1111111111111111, \"#46039f\"], [0.2222222222222222, \"#7201a8\"], [0.3333333333333333, \"#9c179e\"], [0.4444444444444444, \"#bd3786\"], [0.5555555555555556, \"#d8576b\"], [0.6666666666666666, \"#ed7953\"], [0.7777777777777778, \"#fb9f3a\"], [0.8888888888888888, \"#fdca26\"], [1.0, \"#f0f921\"]], \"type\": \"surface\"}], \"table\": [{\"cells\": {\"fill\": {\"color\": \"#EBF0F8\"}, \"line\": {\"color\": \"white\"}}, \"header\": {\"fill\": {\"color\": \"#C8D4E3\"}, \"line\": {\"color\": \"white\"}}, \"type\": \"table\"}]}, \"layout\": {\"annotationdefaults\": {\"arrowcolor\": \"#2a3f5f\", \"arrowhead\": 0, \"arrowwidth\": 1}, \"coloraxis\": {\"colorbar\": {\"outlinewidth\": 0, \"ticks\": \"\"}}, \"colorscale\": {\"diverging\": [[0, \"#8e0152\"], [0.1, \"#c51b7d\"], [0.2, \"#de77ae\"], [0.3, \"#f1b6da\"], [0.4, \"#fde0ef\"], [0.5, \"#f7f7f7\"], [0.6, \"#e6f5d0\"], [0.7, \"#b8e186\"], [0.8, \"#7fbc41\"], [0.9, \"#4d9221\"], [1, \"#276419\"]], \"sequential\": [[0.0, \"#0d0887\"], [0.1111111111111111, \"#46039f\"], [0.2222222222222222, \"#7201a8\"], [0.3333333333333333, \"#9c179e\"], [0.4444444444444444, \"#bd3786\"], [0.5555555555555556, \"#d8576b\"], [0.6666666666666666, \"#ed7953\"], [0.7777777777777778, \"#fb9f3a\"], [0.8888888888888888, \"#fdca26\"], [1.0, \"#f0f921\"]], \"sequentialminus\": [[0.0, \"#0d0887\"], [0.1111111111111111, \"#46039f\"], [0.2222222222222222, \"#7201a8\"], [0.3333333333333333, \"#9c179e\"], [0.4444444444444444, \"#bd3786\"], [0.5555555555555556, \"#d8576b\"], [0.6666666666666666, \"#ed7953\"], [0.7777777777777778, \"#fb9f3a\"], [0.8888888888888888, \"#fdca26\"], [1.0, \"#f0f921\"]]}, \"colorway\": [\"#636efa\", \"#EF553B\", \"#00cc96\", \"#ab63fa\", \"#FFA15A\", \"#19d3f3\", \"#FF6692\", \"#B6E880\", \"#FF97FF\", \"#FECB52\"], \"font\": {\"color\": \"#2a3f5f\"}, \"geo\": {\"bgcolor\": \"white\", \"lakecolor\": \"white\", \"landcolor\": \"#E5ECF6\", \"showlakes\": true, \"showland\": true, \"subunitcolor\": \"white\"}, \"hoverlabel\": {\"align\": \"left\"}, \"hovermode\": \"closest\", \"mapbox\": {\"style\": \"light\"}, \"paper_bgcolor\": \"white\", \"plot_bgcolor\": \"#E5ECF6\", \"polar\": {\"angularaxis\": {\"gridcolor\": \"white\", \"linecolor\": \"white\", \"ticks\": \"\"}, \"bgcolor\": \"#E5ECF6\", \"radialaxis\": {\"gridcolor\": \"white\", \"linecolor\": \"white\", \"ticks\": \"\"}}, \"scene\": {\"xaxis\": {\"backgroundcolor\": \"#E5ECF6\", \"gridcolor\": \"white\", \"gridwidth\": 2, \"linecolor\": \"white\", \"showbackground\": true, \"ticks\": \"\", \"zerolinecolor\": \"white\"}, \"yaxis\": {\"backgroundcolor\": \"#E5ECF6\", \"gridcolor\": \"white\", \"gridwidth\": 2, \"linecolor\": \"white\", \"showbackground\": true, \"ticks\": \"\", \"zerolinecolor\": \"white\"}, \"zaxis\": {\"backgroundcolor\": \"#E5ECF6\", \"gridcolor\": \"white\", \"gridwidth\": 2, \"linecolor\": \"white\", \"showbackground\": true, \"ticks\": \"\", \"zerolinecolor\": \"white\"}}, \"shapedefaults\": {\"line\": {\"color\": \"#2a3f5f\"}}, \"ternary\": {\"aaxis\": {\"gridcolor\": \"white\", \"linecolor\": \"white\", \"ticks\": \"\"}, \"baxis\": {\"gridcolor\": \"white\", \"linecolor\": \"white\", \"ticks\": \"\"}, \"bgcolor\": \"#E5ECF6\", \"caxis\": {\"gridcolor\": \"white\", \"linecolor\": \"white\", \"ticks\": \"\"}}, \"title\": {\"x\": 0.05}, \"xaxis\": {\"automargin\": true, \"gridcolor\": \"white\", \"linecolor\": \"white\", \"ticks\": \"\", \"title\": {\"standoff\": 15}, \"zerolinecolor\": \"white\", \"zerolinewidth\": 2}, \"yaxis\": {\"automargin\": true, \"gridcolor\": \"white\", \"linecolor\": \"white\", \"ticks\": \"\", \"title\": {\"standoff\": 15}, \"zerolinecolor\": \"white\", \"zerolinewidth\": 2}}}, \"title\": {\"font\": {\"color\": \"#4D5663\"}}, \"xaxis\": {\"gridcolor\": \"#E1E5ED\", \"showgrid\": true, \"tickfont\": {\"color\": \"#4D5663\"}, \"title\": {\"font\": {\"color\": \"#4D5663\"}, \"text\": \"\"}, \"zerolinecolor\": \"#E1E5ED\"}, \"yaxis\": {\"gridcolor\": \"#E1E5ED\", \"showgrid\": true, \"tickfont\": {\"color\": \"#4D5663\"}, \"title\": {\"font\": {\"color\": \"#4D5663\"}, \"text\": \"\"}, \"zerolinecolor\": \"#E1E5ED\"}},\n",
       "                        {\"showLink\": true, \"linkText\": \"Export to plot.ly\", \"plotlyServerURL\": \"https://plot.ly\", \"responsive\": true}\n",
       "                    ).then(function(){\n",
       "                            \n",
       "var gd = document.getElementById('dd9d60f7-49ed-4925-8675-54cb69f9c1d0');\n",
       "var x = new MutationObserver(function (mutations, observer) {{\n",
       "        var display = window.getComputedStyle(gd).display;\n",
       "        if (!display || display === 'none') {{\n",
       "            console.log([gd, 'removed!']);\n",
       "            Plotly.purge(gd);\n",
       "            observer.disconnect();\n",
       "        }}\n",
       "}});\n",
       "\n",
       "// Listen for the removal of the full notebook cells\n",
       "var notebookContainer = gd.closest('#notebook-container');\n",
       "if (notebookContainer) {{\n",
       "    x.observe(notebookContainer, {childList: true});\n",
       "}}\n",
       "\n",
       "// Listen for the clearing of the current output cell\n",
       "var outputEl = gd.closest('.output');\n",
       "if (outputEl) {{\n",
       "    x.observe(outputEl, {childList: true});\n",
       "}}\n",
       "\n",
       "                        })\n",
       "                };\n",
       "                });\n",
       "            </script>\n",
       "        </div>"
      ]
     },
     "metadata": {},
     "output_type": "display_data"
    }
   ],
   "source": [
    "df3 = pd.DataFrame({'x':[1,2,3,4,5],'y':[10,20,30,20,10],'z':[5,4,3,2,1]})\n",
    "df3.iplot(kind='surface',colorscale='rdylbu')"
   ]
  },
  {
   "cell_type": "markdown",
   "metadata": {},
   "source": [
    "## Spread"
   ]
  },
  {
   "cell_type": "code",
   "execution_count": 32,
   "metadata": {},
   "outputs": [
    {
     "name": "stderr",
     "output_type": "stream",
     "text": [
      "/Users/yongliu/opt/anaconda3/lib/python3.7/site-packages/cufflinks/plotlytools.py:849: FutureWarning:\n",
      "\n",
      "The pandas.np module is deprecated and will be removed from pandas in a future version. Import numpy directly instead\n",
      "\n",
      "/Users/yongliu/opt/anaconda3/lib/python3.7/site-packages/cufflinks/plotlytools.py:850: FutureWarning:\n",
      "\n",
      "The pandas.np module is deprecated and will be removed from pandas in a future version. Import numpy directly instead\n",
      "\n"
     ]
    },
    {
     "data": {
      "application/vnd.plotly.v1+json": {
       "config": {
        "linkText": "Export to plot.ly",
        "plotlyServerURL": "https://plot.ly",
        "showLink": true
       },
       "data": [
        {
         "line": {
          "color": "rgba(255, 153, 51, 1.0)",
          "dash": "solid",
          "shape": "linear",
          "width": 1.3
         },
         "mode": "lines",
         "name": "A",
         "text": "",
         "type": "scatter",
         "x": [
          0,
          1,
          2,
          3,
          4,
          5,
          6,
          7,
          8,
          9,
          10,
          11,
          12,
          13,
          14,
          15,
          16,
          17,
          18,
          19,
          20,
          21,
          22,
          23,
          24,
          25,
          26,
          27,
          28,
          29,
          30,
          31,
          32,
          33,
          34,
          35,
          36,
          37,
          38,
          39,
          40,
          41,
          42,
          43,
          44,
          45,
          46,
          47,
          48,
          49,
          50,
          51,
          52,
          53,
          54,
          55,
          56,
          57,
          58,
          59,
          60,
          61,
          62,
          63,
          64,
          65,
          66,
          67,
          68,
          69,
          70,
          71,
          72,
          73,
          74,
          75,
          76,
          77,
          78,
          79,
          80,
          81,
          82,
          83,
          84,
          85,
          86,
          87,
          88,
          89,
          90,
          91,
          92,
          93,
          94,
          95,
          96,
          97,
          98,
          99
         ],
         "y": [
          -0.9093054841012843,
          0.6040832399960773,
          -2.410271137195946,
          0.16588443929009308,
          1.0852191490067407,
          0.6250277127932178,
          -0.9246067333548268,
          1.0805265305902243,
          1.5725408394539233,
          0.5305774112893745,
          -1.0968365092075085,
          0.358422463579597,
          -0.23415335588614208,
          0.15470064036229597,
          -1.2258341941415993,
          0.2593542310596669,
          1.5207292232801048,
          0.6937829889514853,
          -1.064285675230406,
          -0.44560982863137766,
          -1.0906263710804303,
          1.9665199437015592,
          -0.3168671019465515,
          1.0662884587350903,
          0.52274830772359,
          -0.36628016461133656,
          -0.8474582771956716,
          1.1502604717661162,
          1.9461342218110398,
          -0.4650443159355485,
          -0.8168701770762032,
          -1.6513676718383128,
          0.03763777500553534,
          -0.8930695726250423,
          0.9944707976208484,
          -1.0317371061968406,
          -0.08534728128681522,
          -0.11154374643876049,
          -0.41021037304330565,
          -0.6932234768278271,
          0.46269386705795046,
          -1.2691305767830017,
          0.3914823573992438,
          -0.3325552370346851,
          0.4505119668619261,
          0.26267163704247304,
          0.6146339373666935,
          -0.00019986832009890844,
          -0.3562942496957231,
          1.1106410349742948,
          -0.4333466685561677,
          -0.6433360131302692,
          -0.8874917160851796,
          -0.8513536562439611,
          -0.05277980507992831,
          0.9196787192380568,
          -1.8824712139707094,
          -0.0027461866850745902,
          -0.02857973666903494,
          -0.6041682943303771,
          0.5017654389406031,
          -1.9697355871042415,
          0.6538225862413563,
          0.7165951809469918,
          0.05677784382488556,
          -1.141078681176908,
          1.3054036850528037,
          0.8351305395606717,
          -0.5254041188527706,
          -0.4577834507066193,
          -0.8005206812905147,
          1.6411028852562852,
          -1.0179121109648015,
          -1.100307719569913,
          0.24578712452507961,
          -0.8471375107617793,
          -0.3786013986846745,
          -0.7832461028994342,
          -0.24609091475376293,
          2.110724741197031,
          0.5651851649423003,
          -1.6974921370855955,
          -3.052601304677243,
          -0.9328402706436525,
          0.9777294759588954,
          -1.3736356963160077,
          -0.2568197552540412,
          -0.14252924846144352,
          -0.23946981078682242,
          -0.058466871907325725,
          -0.597456559381562,
          -2.1389872634159057,
          1.402282041961766,
          0.5274283741136507,
          -1.2594196492030272,
          -0.491214492828783,
          -1.3984069642976626,
          -2.4488941051712687,
          0.6371774376560045,
          -1.2528580901560282
         ]
        },
        {
         "line": {
          "color": "rgba(55, 128, 191, 1.0)",
          "dash": "solid",
          "shape": "linear",
          "width": 1.3
         },
         "mode": "lines",
         "name": "B",
         "text": "",
         "type": "scatter",
         "x": [
          0,
          1,
          2,
          3,
          4,
          5,
          6,
          7,
          8,
          9,
          10,
          11,
          12,
          13,
          14,
          15,
          16,
          17,
          18,
          19,
          20,
          21,
          22,
          23,
          24,
          25,
          26,
          27,
          28,
          29,
          30,
          31,
          32,
          33,
          34,
          35,
          36,
          37,
          38,
          39,
          40,
          41,
          42,
          43,
          44,
          45,
          46,
          47,
          48,
          49,
          50,
          51,
          52,
          53,
          54,
          55,
          56,
          57,
          58,
          59,
          60,
          61,
          62,
          63,
          64,
          65,
          66,
          67,
          68,
          69,
          70,
          71,
          72,
          73,
          74,
          75,
          76,
          77,
          78,
          79,
          80,
          81,
          82,
          83,
          84,
          85,
          86,
          87,
          88,
          89,
          90,
          91,
          92,
          93,
          94,
          95,
          96,
          97,
          98,
          99
         ],
         "y": [
          1.971440509710332,
          -0.16847988892318877,
          1.0201516777693376,
          -0.4746460566381103,
          -0.252233811330853,
          -0.812181070653521,
          0.08607180636893513,
          -0.02022449530412015,
          -0.1099275343296199,
          0.38663004425284286,
          -0.526558562979596,
          1.8595393195972616,
          -0.2554254965801771,
          -0.9141127018210553,
          0.06456255996214603,
          0.09207005623359946,
          -0.47783575200149025,
          0.09276314732860896,
          -1.531698896254452,
          -1.9987393236806141,
          -0.6049054502346282,
          0.8385800455756265,
          2.4409277500049287,
          -0.2651686762903576,
          -0.07027781766020814,
          1.4460735333923849,
          0.4062558151378958,
          2.9924417578949596,
          -0.6725291814251461,
          0.058275087784900724,
          -0.7180357045425773,
          -1.4032200530204344,
          -0.3150288706370873,
          0.47758875464697453,
          -0.8269771217614604,
          0.48172496799817244,
          -0.7453485529280233,
          2.2103985684031424,
          -0.6512343240750648,
          -1.0761589643558305,
          -0.3126827200482146,
          -0.7707723938441469,
          0.03761157401678399,
          0.38218995607893624,
          1.6232168368871616,
          -0.891991061325372,
          0.3081052691599786,
          -1.6742745874233398,
          -1.060786505394401,
          -1.224894225568253,
          -1.1418576917418655,
          0.7776014073963039,
          -2.0722908928193076,
          0.6269795454914691,
          -0.07363912387427204,
          1.0337073250918112,
          -0.8724424338268957,
          0.2944326120520341,
          1.1007166889351714,
          -1.0368444257918097,
          0.40581918123186206,
          1.3247223197113267,
          -0.5028529312192868,
          0.12826431985038722,
          -0.41298476969240855,
          -0.5122594907994159,
          -0.3767939408544858,
          -0.5483495771102112,
          0.23937351232956053,
          -0.1237189545660604,
          -1.6086158300274889,
          0.13255921177958058,
          0.6236563150256992,
          -1.7629134825954333,
          0.3965543697462627,
          -0.015246469369710672,
          0.6224378394650877,
          1.273204770270868,
          0.16522803860713273,
          0.21631887975698336,
          0.49296727355124675,
          -0.856555842632183,
          1.285461938030501,
          -1.5108562066320856,
          -0.5654639130801999,
          -0.2988083381094179,
          0.4455217374847133,
          0.47958439154709376,
          0.7371979486246891,
          0.4676197412857697,
          0.37248117726012064,
          -0.06150360692356444,
          0.011862471019332303,
          1.5119522400199887,
          -1.542085684981008,
          0.45531041190984595,
          -0.19489834876868772,
          0.30160750277151505,
          -0.04051459233187058,
          1.8329947771102855
         ]
        },
        {
         "connectgaps": false,
         "fill": "tozeroy",
         "line": {
          "color": "green",
          "dash": "solid",
          "shape": "linear",
          "width": 0.5
         },
         "mode": "lines",
         "name": "Spread",
         "showlegend": false,
         "type": "scatter",
         "x": [
          0,
          1,
          2,
          3,
          4,
          5,
          6,
          7,
          8,
          9,
          10,
          11,
          12,
          13,
          14,
          15,
          16,
          17,
          18,
          19,
          20,
          21,
          22,
          23,
          24,
          25,
          26,
          27,
          28,
          29,
          30,
          31,
          32,
          33,
          34,
          35,
          36,
          37,
          38,
          39,
          40,
          41,
          42,
          43,
          44,
          45,
          46,
          47,
          48,
          49,
          50,
          51,
          52,
          53,
          54,
          55,
          56,
          57,
          58,
          59,
          60,
          61,
          62,
          63,
          64,
          65,
          66,
          67,
          68,
          69,
          70,
          71,
          72,
          73,
          74,
          75,
          76,
          77,
          78,
          79,
          80,
          81,
          82,
          83,
          84,
          85,
          86,
          87,
          88,
          89,
          90,
          91,
          92,
          93,
          94,
          95,
          96,
          97,
          98,
          99
         ],
         "xaxis": "x2",
         "y": [
          "",
          0.772563128919266,
          "",
          0.6405304959282034,
          1.3374529603375938,
          1.4372087834467386,
          "",
          1.1007510258943445,
          1.6824683737835433,
          0.14394736703653166,
          "",
          "",
          0.02127214069403502,
          1.0688133421833512,
          "",
          0.16728417482606742,
          1.998564975281595,
          0.6010198416228762,
          0.46741322102404603,
          1.5531294950492365,
          "",
          1.1279398981259328,
          "",
          1.3314571350254478,
          0.5930261253837982,
          "",
          "",
          "",
          2.618663403236186,
          "",
          "",
          "",
          0.3526666456426226,
          "",
          1.821447919382309,
          "",
          0.660001271641208,
          "",
          0.2410239510317591,
          0.3829354875280033,
          0.7753765871061651,
          "",
          0.3538707833824598,
          "",
          "",
          1.154662698367845,
          0.30652866820671487,
          1.6740747191032408,
          0.7044922556986779,
          2.3355352605425477,
          0.7085110231856977,
          "",
          1.184799176734128,
          "",
          0.02085931879434373,
          "",
          "",
          "",
          "",
          0.4326761314614326,
          0.09594625770874105,
          "",
          1.1566755174606431,
          0.5883308610966046,
          0.4697626135172941,
          "",
          1.6821976259072895,
          1.3834801166708828,
          "",
          "",
          0.8080951487369742,
          1.5085436734767046,
          "",
          0.6626057630255204,
          "",
          "",
          "",
          "",
          "",
          1.8944058614400479,
          0.07221789139105356,
          "",
          "",
          0.5780159359884331,
          1.5431933890390952,
          "",
          "",
          "",
          "",
          "",
          "",
          "",
          1.3904195709424338,
          "",
          0.2826660357779809,
          "",
          "",
          "",
          0.6776920299878751,
          ""
         ],
         "yaxis": "y2"
        },
        {
         "connectgaps": false,
         "fill": "tozeroy",
         "line": {
          "color": "red",
          "dash": "solid",
          "shape": "linear",
          "width": 0.5
         },
         "mode": "lines",
         "name": "Spread",
         "showlegend": false,
         "type": "scatter",
         "x": [
          0,
          1,
          2,
          3,
          4,
          5,
          6,
          7,
          8,
          9,
          10,
          11,
          12,
          13,
          14,
          15,
          16,
          17,
          18,
          19,
          20,
          21,
          22,
          23,
          24,
          25,
          26,
          27,
          28,
          29,
          30,
          31,
          32,
          33,
          34,
          35,
          36,
          37,
          38,
          39,
          40,
          41,
          42,
          43,
          44,
          45,
          46,
          47,
          48,
          49,
          50,
          51,
          52,
          53,
          54,
          55,
          56,
          57,
          58,
          59,
          60,
          61,
          62,
          63,
          64,
          65,
          66,
          67,
          68,
          69,
          70,
          71,
          72,
          73,
          74,
          75,
          76,
          77,
          78,
          79,
          80,
          81,
          82,
          83,
          84,
          85,
          86,
          87,
          88,
          89,
          90,
          91,
          92,
          93,
          94,
          95,
          96,
          97,
          98,
          99
         ],
         "xaxis": "x2",
         "y": [
          -2.8807459938116162,
          "",
          -3.430422814965284,
          "",
          "",
          "",
          -1.0106785397237619,
          "",
          "",
          "",
          -0.5702779462279125,
          -1.5011168560176646,
          "",
          "",
          -1.2903967541037453,
          "",
          "",
          "",
          "",
          "",
          -0.4857209208458021,
          "",
          -2.75779485195148,
          "",
          "",
          -1.8123536980037214,
          -1.2537140923335675,
          -1.8421812861288434,
          "",
          -0.5233194037204493,
          -0.09883447253362598,
          -0.2481476188178784,
          "",
          -1.3706583272720168,
          "",
          -1.5134620741950129,
          "",
          -2.3219423148419027,
          "",
          "",
          "",
          -0.4983581829388548,
          "",
          -0.7147451931136213,
          -1.1727048700252354,
          "",
          "",
          "",
          "",
          "",
          "",
          -1.420937420526573,
          "",
          -1.4783332017354303,
          "",
          -0.1140286058537544,
          -1.0100287801438137,
          -0.2971787987371087,
          -1.1292964256042064,
          "",
          "",
          -3.294457906815568,
          "",
          "",
          "",
          -0.6288191903774921,
          "",
          "",
          -0.7647776311823311,
          -0.3340644961405589,
          "",
          "",
          -1.6415684259905006,
          "",
          -0.15076724522118307,
          -0.8318910413920687,
          -1.0010392381497621,
          -2.056450873170302,
          -0.41131895336089563,
          "",
          "",
          -0.8409362944534126,
          -4.338063242707744,
          "",
          "",
          -1.0748273582065897,
          -0.7023414927387546,
          -0.6221136400085373,
          -0.9766677594115115,
          -0.5260866131930955,
          -0.9699377366416826,
          -2.0774836564923413,
          "",
          -0.984523865906338,
          "",
          -0.9465249047386289,
          -1.203508615528975,
          -2.750501607942784,
          "",
          -3.085852867266314
         ],
         "yaxis": "y2"
        }
       ],
       "layout": {
        "hovermode": "x",
        "legend": {
         "bgcolor": "#F5F6F9",
         "font": {
          "color": "#4D5663"
         }
        },
        "paper_bgcolor": "#F5F6F9",
        "plot_bgcolor": "#F5F6F9",
        "template": {
         "data": {
          "bar": [
           {
            "error_x": {
             "color": "#2a3f5f"
            },
            "error_y": {
             "color": "#2a3f5f"
            },
            "marker": {
             "line": {
              "color": "#E5ECF6",
              "width": 0.5
             }
            },
            "type": "bar"
           }
          ],
          "barpolar": [
           {
            "marker": {
             "line": {
              "color": "#E5ECF6",
              "width": 0.5
             }
            },
            "type": "barpolar"
           }
          ],
          "carpet": [
           {
            "aaxis": {
             "endlinecolor": "#2a3f5f",
             "gridcolor": "white",
             "linecolor": "white",
             "minorgridcolor": "white",
             "startlinecolor": "#2a3f5f"
            },
            "baxis": {
             "endlinecolor": "#2a3f5f",
             "gridcolor": "white",
             "linecolor": "white",
             "minorgridcolor": "white",
             "startlinecolor": "#2a3f5f"
            },
            "type": "carpet"
           }
          ],
          "choropleth": [
           {
            "colorbar": {
             "outlinewidth": 0,
             "ticks": ""
            },
            "type": "choropleth"
           }
          ],
          "contour": [
           {
            "colorbar": {
             "outlinewidth": 0,
             "ticks": ""
            },
            "colorscale": [
             [
              0,
              "#0d0887"
             ],
             [
              0.1111111111111111,
              "#46039f"
             ],
             [
              0.2222222222222222,
              "#7201a8"
             ],
             [
              0.3333333333333333,
              "#9c179e"
             ],
             [
              0.4444444444444444,
              "#bd3786"
             ],
             [
              0.5555555555555556,
              "#d8576b"
             ],
             [
              0.6666666666666666,
              "#ed7953"
             ],
             [
              0.7777777777777778,
              "#fb9f3a"
             ],
             [
              0.8888888888888888,
              "#fdca26"
             ],
             [
              1,
              "#f0f921"
             ]
            ],
            "type": "contour"
           }
          ],
          "contourcarpet": [
           {
            "colorbar": {
             "outlinewidth": 0,
             "ticks": ""
            },
            "type": "contourcarpet"
           }
          ],
          "heatmap": [
           {
            "colorbar": {
             "outlinewidth": 0,
             "ticks": ""
            },
            "colorscale": [
             [
              0,
              "#0d0887"
             ],
             [
              0.1111111111111111,
              "#46039f"
             ],
             [
              0.2222222222222222,
              "#7201a8"
             ],
             [
              0.3333333333333333,
              "#9c179e"
             ],
             [
              0.4444444444444444,
              "#bd3786"
             ],
             [
              0.5555555555555556,
              "#d8576b"
             ],
             [
              0.6666666666666666,
              "#ed7953"
             ],
             [
              0.7777777777777778,
              "#fb9f3a"
             ],
             [
              0.8888888888888888,
              "#fdca26"
             ],
             [
              1,
              "#f0f921"
             ]
            ],
            "type": "heatmap"
           }
          ],
          "heatmapgl": [
           {
            "colorbar": {
             "outlinewidth": 0,
             "ticks": ""
            },
            "colorscale": [
             [
              0,
              "#0d0887"
             ],
             [
              0.1111111111111111,
              "#46039f"
             ],
             [
              0.2222222222222222,
              "#7201a8"
             ],
             [
              0.3333333333333333,
              "#9c179e"
             ],
             [
              0.4444444444444444,
              "#bd3786"
             ],
             [
              0.5555555555555556,
              "#d8576b"
             ],
             [
              0.6666666666666666,
              "#ed7953"
             ],
             [
              0.7777777777777778,
              "#fb9f3a"
             ],
             [
              0.8888888888888888,
              "#fdca26"
             ],
             [
              1,
              "#f0f921"
             ]
            ],
            "type": "heatmapgl"
           }
          ],
          "histogram": [
           {
            "marker": {
             "colorbar": {
              "outlinewidth": 0,
              "ticks": ""
             }
            },
            "type": "histogram"
           }
          ],
          "histogram2d": [
           {
            "colorbar": {
             "outlinewidth": 0,
             "ticks": ""
            },
            "colorscale": [
             [
              0,
              "#0d0887"
             ],
             [
              0.1111111111111111,
              "#46039f"
             ],
             [
              0.2222222222222222,
              "#7201a8"
             ],
             [
              0.3333333333333333,
              "#9c179e"
             ],
             [
              0.4444444444444444,
              "#bd3786"
             ],
             [
              0.5555555555555556,
              "#d8576b"
             ],
             [
              0.6666666666666666,
              "#ed7953"
             ],
             [
              0.7777777777777778,
              "#fb9f3a"
             ],
             [
              0.8888888888888888,
              "#fdca26"
             ],
             [
              1,
              "#f0f921"
             ]
            ],
            "type": "histogram2d"
           }
          ],
          "histogram2dcontour": [
           {
            "colorbar": {
             "outlinewidth": 0,
             "ticks": ""
            },
            "colorscale": [
             [
              0,
              "#0d0887"
             ],
             [
              0.1111111111111111,
              "#46039f"
             ],
             [
              0.2222222222222222,
              "#7201a8"
             ],
             [
              0.3333333333333333,
              "#9c179e"
             ],
             [
              0.4444444444444444,
              "#bd3786"
             ],
             [
              0.5555555555555556,
              "#d8576b"
             ],
             [
              0.6666666666666666,
              "#ed7953"
             ],
             [
              0.7777777777777778,
              "#fb9f3a"
             ],
             [
              0.8888888888888888,
              "#fdca26"
             ],
             [
              1,
              "#f0f921"
             ]
            ],
            "type": "histogram2dcontour"
           }
          ],
          "mesh3d": [
           {
            "colorbar": {
             "outlinewidth": 0,
             "ticks": ""
            },
            "type": "mesh3d"
           }
          ],
          "parcoords": [
           {
            "line": {
             "colorbar": {
              "outlinewidth": 0,
              "ticks": ""
             }
            },
            "type": "parcoords"
           }
          ],
          "pie": [
           {
            "automargin": true,
            "type": "pie"
           }
          ],
          "scatter": [
           {
            "marker": {
             "colorbar": {
              "outlinewidth": 0,
              "ticks": ""
             }
            },
            "type": "scatter"
           }
          ],
          "scatter3d": [
           {
            "line": {
             "colorbar": {
              "outlinewidth": 0,
              "ticks": ""
             }
            },
            "marker": {
             "colorbar": {
              "outlinewidth": 0,
              "ticks": ""
             }
            },
            "type": "scatter3d"
           }
          ],
          "scattercarpet": [
           {
            "marker": {
             "colorbar": {
              "outlinewidth": 0,
              "ticks": ""
             }
            },
            "type": "scattercarpet"
           }
          ],
          "scattergeo": [
           {
            "marker": {
             "colorbar": {
              "outlinewidth": 0,
              "ticks": ""
             }
            },
            "type": "scattergeo"
           }
          ],
          "scattergl": [
           {
            "marker": {
             "colorbar": {
              "outlinewidth": 0,
              "ticks": ""
             }
            },
            "type": "scattergl"
           }
          ],
          "scattermapbox": [
           {
            "marker": {
             "colorbar": {
              "outlinewidth": 0,
              "ticks": ""
             }
            },
            "type": "scattermapbox"
           }
          ],
          "scatterpolar": [
           {
            "marker": {
             "colorbar": {
              "outlinewidth": 0,
              "ticks": ""
             }
            },
            "type": "scatterpolar"
           }
          ],
          "scatterpolargl": [
           {
            "marker": {
             "colorbar": {
              "outlinewidth": 0,
              "ticks": ""
             }
            },
            "type": "scatterpolargl"
           }
          ],
          "scatterternary": [
           {
            "marker": {
             "colorbar": {
              "outlinewidth": 0,
              "ticks": ""
             }
            },
            "type": "scatterternary"
           }
          ],
          "surface": [
           {
            "colorbar": {
             "outlinewidth": 0,
             "ticks": ""
            },
            "colorscale": [
             [
              0,
              "#0d0887"
             ],
             [
              0.1111111111111111,
              "#46039f"
             ],
             [
              0.2222222222222222,
              "#7201a8"
             ],
             [
              0.3333333333333333,
              "#9c179e"
             ],
             [
              0.4444444444444444,
              "#bd3786"
             ],
             [
              0.5555555555555556,
              "#d8576b"
             ],
             [
              0.6666666666666666,
              "#ed7953"
             ],
             [
              0.7777777777777778,
              "#fb9f3a"
             ],
             [
              0.8888888888888888,
              "#fdca26"
             ],
             [
              1,
              "#f0f921"
             ]
            ],
            "type": "surface"
           }
          ],
          "table": [
           {
            "cells": {
             "fill": {
              "color": "#EBF0F8"
             },
             "line": {
              "color": "white"
             }
            },
            "header": {
             "fill": {
              "color": "#C8D4E3"
             },
             "line": {
              "color": "white"
             }
            },
            "type": "table"
           }
          ]
         },
         "layout": {
          "annotationdefaults": {
           "arrowcolor": "#2a3f5f",
           "arrowhead": 0,
           "arrowwidth": 1
          },
          "coloraxis": {
           "colorbar": {
            "outlinewidth": 0,
            "ticks": ""
           }
          },
          "colorscale": {
           "diverging": [
            [
             0,
             "#8e0152"
            ],
            [
             0.1,
             "#c51b7d"
            ],
            [
             0.2,
             "#de77ae"
            ],
            [
             0.3,
             "#f1b6da"
            ],
            [
             0.4,
             "#fde0ef"
            ],
            [
             0.5,
             "#f7f7f7"
            ],
            [
             0.6,
             "#e6f5d0"
            ],
            [
             0.7,
             "#b8e186"
            ],
            [
             0.8,
             "#7fbc41"
            ],
            [
             0.9,
             "#4d9221"
            ],
            [
             1,
             "#276419"
            ]
           ],
           "sequential": [
            [
             0,
             "#0d0887"
            ],
            [
             0.1111111111111111,
             "#46039f"
            ],
            [
             0.2222222222222222,
             "#7201a8"
            ],
            [
             0.3333333333333333,
             "#9c179e"
            ],
            [
             0.4444444444444444,
             "#bd3786"
            ],
            [
             0.5555555555555556,
             "#d8576b"
            ],
            [
             0.6666666666666666,
             "#ed7953"
            ],
            [
             0.7777777777777778,
             "#fb9f3a"
            ],
            [
             0.8888888888888888,
             "#fdca26"
            ],
            [
             1,
             "#f0f921"
            ]
           ],
           "sequentialminus": [
            [
             0,
             "#0d0887"
            ],
            [
             0.1111111111111111,
             "#46039f"
            ],
            [
             0.2222222222222222,
             "#7201a8"
            ],
            [
             0.3333333333333333,
             "#9c179e"
            ],
            [
             0.4444444444444444,
             "#bd3786"
            ],
            [
             0.5555555555555556,
             "#d8576b"
            ],
            [
             0.6666666666666666,
             "#ed7953"
            ],
            [
             0.7777777777777778,
             "#fb9f3a"
            ],
            [
             0.8888888888888888,
             "#fdca26"
            ],
            [
             1,
             "#f0f921"
            ]
           ]
          },
          "colorway": [
           "#636efa",
           "#EF553B",
           "#00cc96",
           "#ab63fa",
           "#FFA15A",
           "#19d3f3",
           "#FF6692",
           "#B6E880",
           "#FF97FF",
           "#FECB52"
          ],
          "font": {
           "color": "#2a3f5f"
          },
          "geo": {
           "bgcolor": "white",
           "lakecolor": "white",
           "landcolor": "#E5ECF6",
           "showlakes": true,
           "showland": true,
           "subunitcolor": "white"
          },
          "hoverlabel": {
           "align": "left"
          },
          "hovermode": "closest",
          "mapbox": {
           "style": "light"
          },
          "paper_bgcolor": "white",
          "plot_bgcolor": "#E5ECF6",
          "polar": {
           "angularaxis": {
            "gridcolor": "white",
            "linecolor": "white",
            "ticks": ""
           },
           "bgcolor": "#E5ECF6",
           "radialaxis": {
            "gridcolor": "white",
            "linecolor": "white",
            "ticks": ""
           }
          },
          "scene": {
           "xaxis": {
            "backgroundcolor": "#E5ECF6",
            "gridcolor": "white",
            "gridwidth": 2,
            "linecolor": "white",
            "showbackground": true,
            "ticks": "",
            "zerolinecolor": "white"
           },
           "yaxis": {
            "backgroundcolor": "#E5ECF6",
            "gridcolor": "white",
            "gridwidth": 2,
            "linecolor": "white",
            "showbackground": true,
            "ticks": "",
            "zerolinecolor": "white"
           },
           "zaxis": {
            "backgroundcolor": "#E5ECF6",
            "gridcolor": "white",
            "gridwidth": 2,
            "linecolor": "white",
            "showbackground": true,
            "ticks": "",
            "zerolinecolor": "white"
           }
          },
          "shapedefaults": {
           "line": {
            "color": "#2a3f5f"
           }
          },
          "ternary": {
           "aaxis": {
            "gridcolor": "white",
            "linecolor": "white",
            "ticks": ""
           },
           "baxis": {
            "gridcolor": "white",
            "linecolor": "white",
            "ticks": ""
           },
           "bgcolor": "#E5ECF6",
           "caxis": {
            "gridcolor": "white",
            "linecolor": "white",
            "ticks": ""
           }
          },
          "title": {
           "x": 0.05
          },
          "xaxis": {
           "automargin": true,
           "gridcolor": "white",
           "linecolor": "white",
           "ticks": "",
           "title": {
            "standoff": 15
           },
           "zerolinecolor": "white",
           "zerolinewidth": 2
          },
          "yaxis": {
           "automargin": true,
           "gridcolor": "white",
           "linecolor": "white",
           "ticks": "",
           "title": {
            "standoff": 15
           },
           "zerolinecolor": "white",
           "zerolinewidth": 2
          }
         }
        },
        "title": {
         "font": {
          "color": "#4D5663"
         }
        },
        "xaxis": {
         "gridcolor": "#E1E5ED",
         "showgrid": true,
         "tickfont": {
          "color": "#4D5663"
         },
         "title": {
          "font": {
           "color": "#4D5663"
          },
          "text": ""
         },
         "zerolinecolor": "#E1E5ED"
        },
        "xaxis2": {
         "anchor": "y2",
         "gridcolor": "#E1E5ED",
         "showgrid": true,
         "showticklabels": false,
         "tickfont": {
          "color": "#4D5663"
         },
         "title": {
          "font": {
           "color": "#4D5663"
          },
          "text": ""
         },
         "zerolinecolor": "#E1E5ED"
        },
        "yaxis": {
         "domain": [
          0.3,
          1
         ],
         "gridcolor": "#E1E5ED",
         "showgrid": true,
         "tickfont": {
          "color": "#4D5663"
         },
         "title": {
          "font": {
           "color": "#4D5663"
          },
          "text": ""
         },
         "zerolinecolor": "#E1E5ED"
        },
        "yaxis2": {
         "domain": [
          0,
          0.25
         ],
         "gridcolor": "#E1E5ED",
         "showgrid": true,
         "tickfont": {
          "color": "#4D5663"
         },
         "title": {
          "font": {
           "color": "#4D5663"
          },
          "text": "Spread"
         },
         "zerolinecolor": "#E1E5ED"
        }
       }
      },
      "text/html": [
       "<div>\n",
       "        \n",
       "        \n",
       "            <div id=\"b2d3660f-7d27-40a8-ae63-0bde8d7340aa\" class=\"plotly-graph-div\" style=\"height:525px; width:100%;\"></div>\n",
       "            <script type=\"text/javascript\">\n",
       "                require([\"plotly\"], function(Plotly) {\n",
       "                    window.PLOTLYENV=window.PLOTLYENV || {};\n",
       "                    window.PLOTLYENV.BASE_URL='https://plot.ly';\n",
       "                    \n",
       "                if (document.getElementById(\"b2d3660f-7d27-40a8-ae63-0bde8d7340aa\")) {\n",
       "                    Plotly.newPlot(\n",
       "                        'b2d3660f-7d27-40a8-ae63-0bde8d7340aa',\n",
       "                        [{\"line\": {\"color\": \"rgba(255, 153, 51, 1.0)\", \"dash\": \"solid\", \"shape\": \"linear\", \"width\": 1.3}, \"mode\": \"lines\", \"name\": \"A\", \"text\": \"\", \"type\": \"scatter\", \"x\": [0, 1, 2, 3, 4, 5, 6, 7, 8, 9, 10, 11, 12, 13, 14, 15, 16, 17, 18, 19, 20, 21, 22, 23, 24, 25, 26, 27, 28, 29, 30, 31, 32, 33, 34, 35, 36, 37, 38, 39, 40, 41, 42, 43, 44, 45, 46, 47, 48, 49, 50, 51, 52, 53, 54, 55, 56, 57, 58, 59, 60, 61, 62, 63, 64, 65, 66, 67, 68, 69, 70, 71, 72, 73, 74, 75, 76, 77, 78, 79, 80, 81, 82, 83, 84, 85, 86, 87, 88, 89, 90, 91, 92, 93, 94, 95, 96, 97, 98, 99], \"y\": [-0.9093054841012843, 0.6040832399960773, -2.410271137195946, 0.16588443929009308, 1.0852191490067407, 0.6250277127932178, -0.9246067333548268, 1.0805265305902243, 1.5725408394539233, 0.5305774112893745, -1.0968365092075085, 0.358422463579597, -0.23415335588614208, 0.15470064036229597, -1.2258341941415993, 0.2593542310596669, 1.5207292232801048, 0.6937829889514853, -1.064285675230406, -0.44560982863137766, -1.0906263710804303, 1.9665199437015592, -0.3168671019465515, 1.0662884587350903, 0.52274830772359, -0.36628016461133656, -0.8474582771956716, 1.1502604717661162, 1.9461342218110398, -0.4650443159355485, -0.8168701770762032, -1.6513676718383128, 0.03763777500553534, -0.8930695726250423, 0.9944707976208484, -1.0317371061968406, -0.08534728128681522, -0.11154374643876049, -0.41021037304330565, -0.6932234768278271, 0.46269386705795046, -1.2691305767830017, 0.3914823573992438, -0.3325552370346851, 0.4505119668619261, 0.26267163704247304, 0.6146339373666935, -0.00019986832009890844, -0.3562942496957231, 1.1106410349742948, -0.4333466685561677, -0.6433360131302692, -0.8874917160851796, -0.8513536562439611, -0.05277980507992831, 0.9196787192380568, -1.8824712139707094, -0.0027461866850745902, -0.02857973666903494, -0.6041682943303771, 0.5017654389406031, -1.9697355871042415, 0.6538225862413563, 0.7165951809469918, 0.05677784382488556, -1.141078681176908, 1.3054036850528037, 0.8351305395606717, -0.5254041188527706, -0.4577834507066193, -0.8005206812905147, 1.6411028852562852, -1.0179121109648015, -1.100307719569913, 0.24578712452507961, -0.8471375107617793, -0.3786013986846745, -0.7832461028994342, -0.24609091475376293, 2.110724741197031, 0.5651851649423003, -1.6974921370855955, -3.052601304677243, -0.9328402706436525, 0.9777294759588954, -1.3736356963160077, -0.2568197552540412, -0.14252924846144352, -0.23946981078682242, -0.058466871907325725, -0.597456559381562, -2.1389872634159057, 1.402282041961766, 0.5274283741136507, -1.2594196492030272, -0.491214492828783, -1.3984069642976626, -2.4488941051712687, 0.6371774376560045, -1.2528580901560282]}, {\"line\": {\"color\": \"rgba(55, 128, 191, 1.0)\", \"dash\": \"solid\", \"shape\": \"linear\", \"width\": 1.3}, \"mode\": \"lines\", \"name\": \"B\", \"text\": \"\", \"type\": \"scatter\", \"x\": [0, 1, 2, 3, 4, 5, 6, 7, 8, 9, 10, 11, 12, 13, 14, 15, 16, 17, 18, 19, 20, 21, 22, 23, 24, 25, 26, 27, 28, 29, 30, 31, 32, 33, 34, 35, 36, 37, 38, 39, 40, 41, 42, 43, 44, 45, 46, 47, 48, 49, 50, 51, 52, 53, 54, 55, 56, 57, 58, 59, 60, 61, 62, 63, 64, 65, 66, 67, 68, 69, 70, 71, 72, 73, 74, 75, 76, 77, 78, 79, 80, 81, 82, 83, 84, 85, 86, 87, 88, 89, 90, 91, 92, 93, 94, 95, 96, 97, 98, 99], \"y\": [1.971440509710332, -0.16847988892318877, 1.0201516777693376, -0.4746460566381103, -0.252233811330853, -0.812181070653521, 0.08607180636893513, -0.02022449530412015, -0.1099275343296199, 0.38663004425284286, -0.526558562979596, 1.8595393195972616, -0.2554254965801771, -0.9141127018210553, 0.06456255996214603, 0.09207005623359946, -0.47783575200149025, 0.09276314732860896, -1.531698896254452, -1.9987393236806141, -0.6049054502346282, 0.8385800455756265, 2.4409277500049287, -0.2651686762903576, -0.07027781766020814, 1.4460735333923849, 0.4062558151378958, 2.9924417578949596, -0.6725291814251461, 0.058275087784900724, -0.7180357045425773, -1.4032200530204344, -0.3150288706370873, 0.47758875464697453, -0.8269771217614604, 0.48172496799817244, -0.7453485529280233, 2.2103985684031424, -0.6512343240750648, -1.0761589643558305, -0.3126827200482146, -0.7707723938441469, 0.03761157401678399, 0.38218995607893624, 1.6232168368871616, -0.891991061325372, 0.3081052691599786, -1.6742745874233398, -1.060786505394401, -1.224894225568253, -1.1418576917418655, 0.7776014073963039, -2.0722908928193076, 0.6269795454914691, -0.07363912387427204, 1.0337073250918112, -0.8724424338268957, 0.2944326120520341, 1.1007166889351714, -1.0368444257918097, 0.40581918123186206, 1.3247223197113267, -0.5028529312192868, 0.12826431985038722, -0.41298476969240855, -0.5122594907994159, -0.3767939408544858, -0.5483495771102112, 0.23937351232956053, -0.1237189545660604, -1.6086158300274889, 0.13255921177958058, 0.6236563150256992, -1.7629134825954333, 0.3965543697462627, -0.015246469369710672, 0.6224378394650877, 1.273204770270868, 0.16522803860713273, 0.21631887975698336, 0.49296727355124675, -0.856555842632183, 1.285461938030501, -1.5108562066320856, -0.5654639130801999, -0.2988083381094179, 0.4455217374847133, 0.47958439154709376, 0.7371979486246891, 0.4676197412857697, 0.37248117726012064, -0.06150360692356444, 0.011862471019332303, 1.5119522400199887, -1.542085684981008, 0.45531041190984595, -0.19489834876868772, 0.30160750277151505, -0.04051459233187058, 1.8329947771102855]}, {\"connectgaps\": false, \"fill\": \"tozeroy\", \"line\": {\"color\": \"green\", \"dash\": \"solid\", \"shape\": \"linear\", \"width\": 0.5}, \"mode\": \"lines\", \"name\": \"Spread\", \"showlegend\": false, \"type\": \"scatter\", \"x\": [0, 1, 2, 3, 4, 5, 6, 7, 8, 9, 10, 11, 12, 13, 14, 15, 16, 17, 18, 19, 20, 21, 22, 23, 24, 25, 26, 27, 28, 29, 30, 31, 32, 33, 34, 35, 36, 37, 38, 39, 40, 41, 42, 43, 44, 45, 46, 47, 48, 49, 50, 51, 52, 53, 54, 55, 56, 57, 58, 59, 60, 61, 62, 63, 64, 65, 66, 67, 68, 69, 70, 71, 72, 73, 74, 75, 76, 77, 78, 79, 80, 81, 82, 83, 84, 85, 86, 87, 88, 89, 90, 91, 92, 93, 94, 95, 96, 97, 98, 99], \"xaxis\": \"x2\", \"y\": [\"\", 0.772563128919266, \"\", 0.6405304959282034, 1.3374529603375938, 1.4372087834467386, \"\", 1.1007510258943445, 1.6824683737835433, 0.14394736703653166, \"\", \"\", 0.02127214069403502, 1.0688133421833512, \"\", 0.16728417482606742, 1.998564975281595, 0.6010198416228762, 0.46741322102404603, 1.5531294950492365, \"\", 1.1279398981259328, \"\", 1.3314571350254478, 0.5930261253837982, \"\", \"\", \"\", 2.618663403236186, \"\", \"\", \"\", 0.3526666456426226, \"\", 1.821447919382309, \"\", 0.660001271641208, \"\", 0.2410239510317591, 0.3829354875280033, 0.7753765871061651, \"\", 0.3538707833824598, \"\", \"\", 1.154662698367845, 0.30652866820671487, 1.6740747191032408, 0.7044922556986779, 2.3355352605425477, 0.7085110231856977, \"\", 1.184799176734128, \"\", 0.02085931879434373, \"\", \"\", \"\", \"\", 0.4326761314614326, 0.09594625770874105, \"\", 1.1566755174606431, 0.5883308610966046, 0.4697626135172941, \"\", 1.6821976259072895, 1.3834801166708828, \"\", \"\", 0.8080951487369742, 1.5085436734767046, \"\", 0.6626057630255204, \"\", \"\", \"\", \"\", \"\", 1.8944058614400479, 0.07221789139105356, \"\", \"\", 0.5780159359884331, 1.5431933890390952, \"\", \"\", \"\", \"\", \"\", \"\", \"\", 1.3904195709424338, \"\", 0.2826660357779809, \"\", \"\", \"\", 0.6776920299878751, \"\"], \"yaxis\": \"y2\"}, {\"connectgaps\": false, \"fill\": \"tozeroy\", \"line\": {\"color\": \"red\", \"dash\": \"solid\", \"shape\": \"linear\", \"width\": 0.5}, \"mode\": \"lines\", \"name\": \"Spread\", \"showlegend\": false, \"type\": \"scatter\", \"x\": [0, 1, 2, 3, 4, 5, 6, 7, 8, 9, 10, 11, 12, 13, 14, 15, 16, 17, 18, 19, 20, 21, 22, 23, 24, 25, 26, 27, 28, 29, 30, 31, 32, 33, 34, 35, 36, 37, 38, 39, 40, 41, 42, 43, 44, 45, 46, 47, 48, 49, 50, 51, 52, 53, 54, 55, 56, 57, 58, 59, 60, 61, 62, 63, 64, 65, 66, 67, 68, 69, 70, 71, 72, 73, 74, 75, 76, 77, 78, 79, 80, 81, 82, 83, 84, 85, 86, 87, 88, 89, 90, 91, 92, 93, 94, 95, 96, 97, 98, 99], \"xaxis\": \"x2\", \"y\": [-2.8807459938116162, \"\", -3.430422814965284, \"\", \"\", \"\", -1.0106785397237619, \"\", \"\", \"\", -0.5702779462279125, -1.5011168560176646, \"\", \"\", -1.2903967541037453, \"\", \"\", \"\", \"\", \"\", -0.4857209208458021, \"\", -2.75779485195148, \"\", \"\", -1.8123536980037214, -1.2537140923335675, -1.8421812861288434, \"\", -0.5233194037204493, -0.09883447253362598, -0.2481476188178784, \"\", -1.3706583272720168, \"\", -1.5134620741950129, \"\", -2.3219423148419027, \"\", \"\", \"\", -0.4983581829388548, \"\", -0.7147451931136213, -1.1727048700252354, \"\", \"\", \"\", \"\", \"\", \"\", -1.420937420526573, \"\", -1.4783332017354303, \"\", -0.1140286058537544, -1.0100287801438137, -0.2971787987371087, -1.1292964256042064, \"\", \"\", -3.294457906815568, \"\", \"\", \"\", -0.6288191903774921, \"\", \"\", -0.7647776311823311, -0.3340644961405589, \"\", \"\", -1.6415684259905006, \"\", -0.15076724522118307, -0.8318910413920687, -1.0010392381497621, -2.056450873170302, -0.41131895336089563, \"\", \"\", -0.8409362944534126, -4.338063242707744, \"\", \"\", -1.0748273582065897, -0.7023414927387546, -0.6221136400085373, -0.9766677594115115, -0.5260866131930955, -0.9699377366416826, -2.0774836564923413, \"\", -0.984523865906338, \"\", -0.9465249047386289, -1.203508615528975, -2.750501607942784, \"\", -3.085852867266314], \"yaxis\": \"y2\"}],\n",
       "                        {\"hovermode\": \"x\", \"legend\": {\"bgcolor\": \"#F5F6F9\", \"font\": {\"color\": \"#4D5663\"}}, \"paper_bgcolor\": \"#F5F6F9\", \"plot_bgcolor\": \"#F5F6F9\", \"template\": {\"data\": {\"bar\": [{\"error_x\": {\"color\": \"#2a3f5f\"}, \"error_y\": {\"color\": \"#2a3f5f\"}, \"marker\": {\"line\": {\"color\": \"#E5ECF6\", \"width\": 0.5}}, \"type\": \"bar\"}], \"barpolar\": [{\"marker\": {\"line\": {\"color\": \"#E5ECF6\", \"width\": 0.5}}, \"type\": \"barpolar\"}], \"carpet\": [{\"aaxis\": {\"endlinecolor\": \"#2a3f5f\", \"gridcolor\": \"white\", \"linecolor\": \"white\", \"minorgridcolor\": \"white\", \"startlinecolor\": \"#2a3f5f\"}, \"baxis\": {\"endlinecolor\": \"#2a3f5f\", \"gridcolor\": \"white\", \"linecolor\": \"white\", \"minorgridcolor\": \"white\", \"startlinecolor\": \"#2a3f5f\"}, \"type\": \"carpet\"}], \"choropleth\": [{\"colorbar\": {\"outlinewidth\": 0, \"ticks\": \"\"}, \"type\": \"choropleth\"}], \"contour\": [{\"colorbar\": {\"outlinewidth\": 0, \"ticks\": \"\"}, \"colorscale\": [[0.0, \"#0d0887\"], [0.1111111111111111, \"#46039f\"], [0.2222222222222222, \"#7201a8\"], [0.3333333333333333, \"#9c179e\"], [0.4444444444444444, \"#bd3786\"], [0.5555555555555556, \"#d8576b\"], [0.6666666666666666, \"#ed7953\"], [0.7777777777777778, \"#fb9f3a\"], [0.8888888888888888, \"#fdca26\"], [1.0, \"#f0f921\"]], \"type\": \"contour\"}], \"contourcarpet\": [{\"colorbar\": {\"outlinewidth\": 0, \"ticks\": \"\"}, \"type\": \"contourcarpet\"}], \"heatmap\": [{\"colorbar\": {\"outlinewidth\": 0, \"ticks\": \"\"}, \"colorscale\": [[0.0, \"#0d0887\"], [0.1111111111111111, \"#46039f\"], [0.2222222222222222, \"#7201a8\"], [0.3333333333333333, \"#9c179e\"], [0.4444444444444444, \"#bd3786\"], [0.5555555555555556, \"#d8576b\"], [0.6666666666666666, \"#ed7953\"], [0.7777777777777778, \"#fb9f3a\"], [0.8888888888888888, \"#fdca26\"], [1.0, \"#f0f921\"]], \"type\": \"heatmap\"}], \"heatmapgl\": [{\"colorbar\": {\"outlinewidth\": 0, \"ticks\": \"\"}, \"colorscale\": [[0.0, \"#0d0887\"], [0.1111111111111111, \"#46039f\"], [0.2222222222222222, \"#7201a8\"], [0.3333333333333333, \"#9c179e\"], [0.4444444444444444, \"#bd3786\"], [0.5555555555555556, \"#d8576b\"], [0.6666666666666666, \"#ed7953\"], [0.7777777777777778, \"#fb9f3a\"], [0.8888888888888888, \"#fdca26\"], [1.0, \"#f0f921\"]], \"type\": \"heatmapgl\"}], \"histogram\": [{\"marker\": {\"colorbar\": {\"outlinewidth\": 0, \"ticks\": \"\"}}, \"type\": \"histogram\"}], \"histogram2d\": [{\"colorbar\": {\"outlinewidth\": 0, \"ticks\": \"\"}, \"colorscale\": [[0.0, \"#0d0887\"], [0.1111111111111111, \"#46039f\"], [0.2222222222222222, \"#7201a8\"], [0.3333333333333333, \"#9c179e\"], [0.4444444444444444, \"#bd3786\"], [0.5555555555555556, \"#d8576b\"], [0.6666666666666666, \"#ed7953\"], [0.7777777777777778, \"#fb9f3a\"], [0.8888888888888888, \"#fdca26\"], [1.0, \"#f0f921\"]], \"type\": \"histogram2d\"}], \"histogram2dcontour\": [{\"colorbar\": {\"outlinewidth\": 0, \"ticks\": \"\"}, \"colorscale\": [[0.0, \"#0d0887\"], [0.1111111111111111, \"#46039f\"], [0.2222222222222222, \"#7201a8\"], [0.3333333333333333, \"#9c179e\"], [0.4444444444444444, \"#bd3786\"], [0.5555555555555556, \"#d8576b\"], [0.6666666666666666, \"#ed7953\"], [0.7777777777777778, \"#fb9f3a\"], [0.8888888888888888, \"#fdca26\"], [1.0, \"#f0f921\"]], \"type\": \"histogram2dcontour\"}], \"mesh3d\": [{\"colorbar\": {\"outlinewidth\": 0, \"ticks\": \"\"}, \"type\": \"mesh3d\"}], \"parcoords\": [{\"line\": {\"colorbar\": {\"outlinewidth\": 0, \"ticks\": \"\"}}, \"type\": \"parcoords\"}], \"pie\": [{\"automargin\": true, \"type\": \"pie\"}], \"scatter\": [{\"marker\": {\"colorbar\": {\"outlinewidth\": 0, \"ticks\": \"\"}}, \"type\": \"scatter\"}], \"scatter3d\": [{\"line\": {\"colorbar\": {\"outlinewidth\": 0, \"ticks\": \"\"}}, \"marker\": {\"colorbar\": {\"outlinewidth\": 0, \"ticks\": \"\"}}, \"type\": \"scatter3d\"}], \"scattercarpet\": [{\"marker\": {\"colorbar\": {\"outlinewidth\": 0, \"ticks\": \"\"}}, \"type\": \"scattercarpet\"}], \"scattergeo\": [{\"marker\": {\"colorbar\": {\"outlinewidth\": 0, \"ticks\": \"\"}}, \"type\": \"scattergeo\"}], \"scattergl\": [{\"marker\": {\"colorbar\": {\"outlinewidth\": 0, \"ticks\": \"\"}}, \"type\": \"scattergl\"}], \"scattermapbox\": [{\"marker\": {\"colorbar\": {\"outlinewidth\": 0, \"ticks\": \"\"}}, \"type\": \"scattermapbox\"}], \"scatterpolar\": [{\"marker\": {\"colorbar\": {\"outlinewidth\": 0, \"ticks\": \"\"}}, \"type\": \"scatterpolar\"}], \"scatterpolargl\": [{\"marker\": {\"colorbar\": {\"outlinewidth\": 0, \"ticks\": \"\"}}, \"type\": \"scatterpolargl\"}], \"scatterternary\": [{\"marker\": {\"colorbar\": {\"outlinewidth\": 0, \"ticks\": \"\"}}, \"type\": \"scatterternary\"}], \"surface\": [{\"colorbar\": {\"outlinewidth\": 0, \"ticks\": \"\"}, \"colorscale\": [[0.0, \"#0d0887\"], [0.1111111111111111, \"#46039f\"], [0.2222222222222222, \"#7201a8\"], [0.3333333333333333, \"#9c179e\"], [0.4444444444444444, \"#bd3786\"], [0.5555555555555556, \"#d8576b\"], [0.6666666666666666, \"#ed7953\"], [0.7777777777777778, \"#fb9f3a\"], [0.8888888888888888, \"#fdca26\"], [1.0, \"#f0f921\"]], \"type\": \"surface\"}], \"table\": [{\"cells\": {\"fill\": {\"color\": \"#EBF0F8\"}, \"line\": {\"color\": \"white\"}}, \"header\": {\"fill\": {\"color\": \"#C8D4E3\"}, \"line\": {\"color\": \"white\"}}, \"type\": \"table\"}]}, \"layout\": {\"annotationdefaults\": {\"arrowcolor\": \"#2a3f5f\", \"arrowhead\": 0, \"arrowwidth\": 1}, \"coloraxis\": {\"colorbar\": {\"outlinewidth\": 0, \"ticks\": \"\"}}, \"colorscale\": {\"diverging\": [[0, \"#8e0152\"], [0.1, \"#c51b7d\"], [0.2, \"#de77ae\"], [0.3, \"#f1b6da\"], [0.4, \"#fde0ef\"], [0.5, \"#f7f7f7\"], [0.6, \"#e6f5d0\"], [0.7, \"#b8e186\"], [0.8, \"#7fbc41\"], [0.9, \"#4d9221\"], [1, \"#276419\"]], \"sequential\": [[0.0, \"#0d0887\"], [0.1111111111111111, \"#46039f\"], [0.2222222222222222, \"#7201a8\"], [0.3333333333333333, \"#9c179e\"], [0.4444444444444444, \"#bd3786\"], [0.5555555555555556, \"#d8576b\"], [0.6666666666666666, \"#ed7953\"], [0.7777777777777778, \"#fb9f3a\"], [0.8888888888888888, \"#fdca26\"], [1.0, \"#f0f921\"]], \"sequentialminus\": [[0.0, \"#0d0887\"], [0.1111111111111111, \"#46039f\"], [0.2222222222222222, \"#7201a8\"], [0.3333333333333333, \"#9c179e\"], [0.4444444444444444, \"#bd3786\"], [0.5555555555555556, \"#d8576b\"], [0.6666666666666666, \"#ed7953\"], [0.7777777777777778, \"#fb9f3a\"], [0.8888888888888888, \"#fdca26\"], [1.0, \"#f0f921\"]]}, \"colorway\": [\"#636efa\", \"#EF553B\", \"#00cc96\", \"#ab63fa\", \"#FFA15A\", \"#19d3f3\", \"#FF6692\", \"#B6E880\", \"#FF97FF\", \"#FECB52\"], \"font\": {\"color\": \"#2a3f5f\"}, \"geo\": {\"bgcolor\": \"white\", \"lakecolor\": \"white\", \"landcolor\": \"#E5ECF6\", \"showlakes\": true, \"showland\": true, \"subunitcolor\": \"white\"}, \"hoverlabel\": {\"align\": \"left\"}, \"hovermode\": \"closest\", \"mapbox\": {\"style\": \"light\"}, \"paper_bgcolor\": \"white\", \"plot_bgcolor\": \"#E5ECF6\", \"polar\": {\"angularaxis\": {\"gridcolor\": \"white\", \"linecolor\": \"white\", \"ticks\": \"\"}, \"bgcolor\": \"#E5ECF6\", \"radialaxis\": {\"gridcolor\": \"white\", \"linecolor\": \"white\", \"ticks\": \"\"}}, \"scene\": {\"xaxis\": {\"backgroundcolor\": \"#E5ECF6\", \"gridcolor\": \"white\", \"gridwidth\": 2, \"linecolor\": \"white\", \"showbackground\": true, \"ticks\": \"\", \"zerolinecolor\": \"white\"}, \"yaxis\": {\"backgroundcolor\": \"#E5ECF6\", \"gridcolor\": \"white\", \"gridwidth\": 2, \"linecolor\": \"white\", \"showbackground\": true, \"ticks\": \"\", \"zerolinecolor\": \"white\"}, \"zaxis\": {\"backgroundcolor\": \"#E5ECF6\", \"gridcolor\": \"white\", \"gridwidth\": 2, \"linecolor\": \"white\", \"showbackground\": true, \"ticks\": \"\", \"zerolinecolor\": \"white\"}}, \"shapedefaults\": {\"line\": {\"color\": \"#2a3f5f\"}}, \"ternary\": {\"aaxis\": {\"gridcolor\": \"white\", \"linecolor\": \"white\", \"ticks\": \"\"}, \"baxis\": {\"gridcolor\": \"white\", \"linecolor\": \"white\", \"ticks\": \"\"}, \"bgcolor\": \"#E5ECF6\", \"caxis\": {\"gridcolor\": \"white\", \"linecolor\": \"white\", \"ticks\": \"\"}}, \"title\": {\"x\": 0.05}, \"xaxis\": {\"automargin\": true, \"gridcolor\": \"white\", \"linecolor\": \"white\", \"ticks\": \"\", \"title\": {\"standoff\": 15}, \"zerolinecolor\": \"white\", \"zerolinewidth\": 2}, \"yaxis\": {\"automargin\": true, \"gridcolor\": \"white\", \"linecolor\": \"white\", \"ticks\": \"\", \"title\": {\"standoff\": 15}, \"zerolinecolor\": \"white\", \"zerolinewidth\": 2}}}, \"title\": {\"font\": {\"color\": \"#4D5663\"}}, \"xaxis\": {\"gridcolor\": \"#E1E5ED\", \"showgrid\": true, \"tickfont\": {\"color\": \"#4D5663\"}, \"title\": {\"font\": {\"color\": \"#4D5663\"}, \"text\": \"\"}, \"zerolinecolor\": \"#E1E5ED\"}, \"xaxis2\": {\"anchor\": \"y2\", \"gridcolor\": \"#E1E5ED\", \"showgrid\": true, \"showticklabels\": false, \"tickfont\": {\"color\": \"#4D5663\"}, \"title\": {\"font\": {\"color\": \"#4D5663\"}, \"text\": \"\"}, \"zerolinecolor\": \"#E1E5ED\"}, \"yaxis\": {\"domain\": [0.3, 1], \"gridcolor\": \"#E1E5ED\", \"showgrid\": true, \"tickfont\": {\"color\": \"#4D5663\"}, \"title\": {\"font\": {\"color\": \"#4D5663\"}, \"text\": \"\"}, \"zerolinecolor\": \"#E1E5ED\"}, \"yaxis2\": {\"domain\": [0, 0.25], \"gridcolor\": \"#E1E5ED\", \"showgrid\": true, \"tickfont\": {\"color\": \"#4D5663\"}, \"title\": {\"font\": {\"color\": \"#4D5663\"}, \"text\": \"Spread\"}, \"zerolinecolor\": \"#E1E5ED\"}},\n",
       "                        {\"showLink\": true, \"linkText\": \"Export to plot.ly\", \"plotlyServerURL\": \"https://plot.ly\", \"responsive\": true}\n",
       "                    ).then(function(){\n",
       "                            \n",
       "var gd = document.getElementById('b2d3660f-7d27-40a8-ae63-0bde8d7340aa');\n",
       "var x = new MutationObserver(function (mutations, observer) {{\n",
       "        var display = window.getComputedStyle(gd).display;\n",
       "        if (!display || display === 'none') {{\n",
       "            console.log([gd, 'removed!']);\n",
       "            Plotly.purge(gd);\n",
       "            observer.disconnect();\n",
       "        }}\n",
       "}});\n",
       "\n",
       "// Listen for the removal of the full notebook cells\n",
       "var notebookContainer = gd.closest('#notebook-container');\n",
       "if (notebookContainer) {{\n",
       "    x.observe(notebookContainer, {childList: true});\n",
       "}}\n",
       "\n",
       "// Listen for the clearing of the current output cell\n",
       "var outputEl = gd.closest('.output');\n",
       "if (outputEl) {{\n",
       "    x.observe(outputEl, {childList: true});\n",
       "}}\n",
       "\n",
       "                        })\n",
       "                };\n",
       "                });\n",
       "            </script>\n",
       "        </div>"
      ]
     },
     "metadata": {},
     "output_type": "display_data"
    }
   ],
   "source": [
    "df[['A','B']].iplot(kind='spread')"
   ]
  },
  {
   "cell_type": "markdown",
   "metadata": {},
   "source": [
    "## histogram"
   ]
  },
  {
   "cell_type": "code",
   "execution_count": 40,
   "metadata": {},
   "outputs": [
    {
     "data": {
      "application/vnd.plotly.v1+json": {
       "config": {
        "linkText": "Export to plot.ly",
        "plotlyServerURL": "https://plot.ly",
        "showLink": true
       },
       "data": [
        {
         "histfunc": "count",
         "histnorm": "",
         "marker": {
          "color": "rgba(255, 153, 51, 1.0)",
          "line": {
           "color": "#4D5663",
           "width": 1.3
          }
         },
         "name": "A",
         "nbinsx": 25,
         "opacity": 0.8,
         "orientation": "v",
         "type": "histogram",
         "x": [
          -0.9093054841012843,
          0.6040832399960773,
          -2.410271137195946,
          0.16588443929009308,
          1.0852191490067407,
          0.6250277127932178,
          -0.9246067333548268,
          1.0805265305902243,
          1.5725408394539233,
          0.5305774112893745,
          -1.0968365092075085,
          0.358422463579597,
          -0.23415335588614208,
          0.15470064036229597,
          -1.2258341941415993,
          0.2593542310596669,
          1.5207292232801048,
          0.6937829889514853,
          -1.064285675230406,
          -0.44560982863137766,
          -1.0906263710804303,
          1.9665199437015592,
          -0.3168671019465515,
          1.0662884587350903,
          0.52274830772359,
          -0.36628016461133656,
          -0.8474582771956716,
          1.1502604717661162,
          1.9461342218110398,
          -0.4650443159355485,
          -0.8168701770762032,
          -1.6513676718383128,
          0.03763777500553534,
          -0.8930695726250423,
          0.9944707976208484,
          -1.0317371061968406,
          -0.08534728128681522,
          -0.11154374643876049,
          -0.41021037304330565,
          -0.6932234768278271,
          0.46269386705795046,
          -1.2691305767830017,
          0.3914823573992438,
          -0.3325552370346851,
          0.4505119668619261,
          0.26267163704247304,
          0.6146339373666935,
          -0.00019986832009890844,
          -0.3562942496957231,
          1.1106410349742948,
          -0.4333466685561677,
          -0.6433360131302692,
          -0.8874917160851796,
          -0.8513536562439611,
          -0.05277980507992831,
          0.9196787192380568,
          -1.8824712139707094,
          -0.0027461866850745902,
          -0.02857973666903494,
          -0.6041682943303771,
          0.5017654389406031,
          -1.9697355871042415,
          0.6538225862413563,
          0.7165951809469918,
          0.05677784382488556,
          -1.141078681176908,
          1.3054036850528037,
          0.8351305395606717,
          -0.5254041188527706,
          -0.4577834507066193,
          -0.8005206812905147,
          1.6411028852562852,
          -1.0179121109648015,
          -1.100307719569913,
          0.24578712452507961,
          -0.8471375107617793,
          -0.3786013986846745,
          -0.7832461028994342,
          -0.24609091475376293,
          2.110724741197031,
          0.5651851649423003,
          -1.6974921370855955,
          -3.052601304677243,
          -0.9328402706436525,
          0.9777294759588954,
          -1.3736356963160077,
          -0.2568197552540412,
          -0.14252924846144352,
          -0.23946981078682242,
          -0.058466871907325725,
          -0.597456559381562,
          -2.1389872634159057,
          1.402282041961766,
          0.5274283741136507,
          -1.2594196492030272,
          -0.491214492828783,
          -1.3984069642976626,
          -2.4488941051712687,
          0.6371774376560045,
          -1.2528580901560282
         ]
        },
        {
         "histfunc": "count",
         "histnorm": "",
         "marker": {
          "color": "rgba(55, 128, 191, 1.0)",
          "line": {
           "color": "#4D5663",
           "width": 1.3
          }
         },
         "name": "B",
         "nbinsx": 25,
         "opacity": 0.8,
         "orientation": "v",
         "type": "histogram",
         "x": [
          1.971440509710332,
          -0.16847988892318877,
          1.0201516777693376,
          -0.4746460566381103,
          -0.252233811330853,
          -0.812181070653521,
          0.08607180636893513,
          -0.02022449530412015,
          -0.1099275343296199,
          0.38663004425284286,
          -0.526558562979596,
          1.8595393195972616,
          -0.2554254965801771,
          -0.9141127018210553,
          0.06456255996214603,
          0.09207005623359946,
          -0.47783575200149025,
          0.09276314732860896,
          -1.531698896254452,
          -1.9987393236806141,
          -0.6049054502346282,
          0.8385800455756265,
          2.4409277500049287,
          -0.2651686762903576,
          -0.07027781766020814,
          1.4460735333923849,
          0.4062558151378958,
          2.9924417578949596,
          -0.6725291814251461,
          0.058275087784900724,
          -0.7180357045425773,
          -1.4032200530204344,
          -0.3150288706370873,
          0.47758875464697453,
          -0.8269771217614604,
          0.48172496799817244,
          -0.7453485529280233,
          2.2103985684031424,
          -0.6512343240750648,
          -1.0761589643558305,
          -0.3126827200482146,
          -0.7707723938441469,
          0.03761157401678399,
          0.38218995607893624,
          1.6232168368871616,
          -0.891991061325372,
          0.3081052691599786,
          -1.6742745874233398,
          -1.060786505394401,
          -1.224894225568253,
          -1.1418576917418655,
          0.7776014073963039,
          -2.0722908928193076,
          0.6269795454914691,
          -0.07363912387427204,
          1.0337073250918112,
          -0.8724424338268957,
          0.2944326120520341,
          1.1007166889351714,
          -1.0368444257918097,
          0.40581918123186206,
          1.3247223197113267,
          -0.5028529312192868,
          0.12826431985038722,
          -0.41298476969240855,
          -0.5122594907994159,
          -0.3767939408544858,
          -0.5483495771102112,
          0.23937351232956053,
          -0.1237189545660604,
          -1.6086158300274889,
          0.13255921177958058,
          0.6236563150256992,
          -1.7629134825954333,
          0.3965543697462627,
          -0.015246469369710672,
          0.6224378394650877,
          1.273204770270868,
          0.16522803860713273,
          0.21631887975698336,
          0.49296727355124675,
          -0.856555842632183,
          1.285461938030501,
          -1.5108562066320856,
          -0.5654639130801999,
          -0.2988083381094179,
          0.4455217374847133,
          0.47958439154709376,
          0.7371979486246891,
          0.4676197412857697,
          0.37248117726012064,
          -0.06150360692356444,
          0.011862471019332303,
          1.5119522400199887,
          -1.542085684981008,
          0.45531041190984595,
          -0.19489834876868772,
          0.30160750277151505,
          -0.04051459233187058,
          1.8329947771102855
         ]
        }
       ],
       "layout": {
        "barmode": "overlay",
        "legend": {
         "bgcolor": "#F5F6F9",
         "font": {
          "color": "#4D5663"
         }
        },
        "paper_bgcolor": "#F5F6F9",
        "plot_bgcolor": "#F5F6F9",
        "template": {
         "data": {
          "bar": [
           {
            "error_x": {
             "color": "#2a3f5f"
            },
            "error_y": {
             "color": "#2a3f5f"
            },
            "marker": {
             "line": {
              "color": "#E5ECF6",
              "width": 0.5
             }
            },
            "type": "bar"
           }
          ],
          "barpolar": [
           {
            "marker": {
             "line": {
              "color": "#E5ECF6",
              "width": 0.5
             }
            },
            "type": "barpolar"
           }
          ],
          "carpet": [
           {
            "aaxis": {
             "endlinecolor": "#2a3f5f",
             "gridcolor": "white",
             "linecolor": "white",
             "minorgridcolor": "white",
             "startlinecolor": "#2a3f5f"
            },
            "baxis": {
             "endlinecolor": "#2a3f5f",
             "gridcolor": "white",
             "linecolor": "white",
             "minorgridcolor": "white",
             "startlinecolor": "#2a3f5f"
            },
            "type": "carpet"
           }
          ],
          "choropleth": [
           {
            "colorbar": {
             "outlinewidth": 0,
             "ticks": ""
            },
            "type": "choropleth"
           }
          ],
          "contour": [
           {
            "colorbar": {
             "outlinewidth": 0,
             "ticks": ""
            },
            "colorscale": [
             [
              0,
              "#0d0887"
             ],
             [
              0.1111111111111111,
              "#46039f"
             ],
             [
              0.2222222222222222,
              "#7201a8"
             ],
             [
              0.3333333333333333,
              "#9c179e"
             ],
             [
              0.4444444444444444,
              "#bd3786"
             ],
             [
              0.5555555555555556,
              "#d8576b"
             ],
             [
              0.6666666666666666,
              "#ed7953"
             ],
             [
              0.7777777777777778,
              "#fb9f3a"
             ],
             [
              0.8888888888888888,
              "#fdca26"
             ],
             [
              1,
              "#f0f921"
             ]
            ],
            "type": "contour"
           }
          ],
          "contourcarpet": [
           {
            "colorbar": {
             "outlinewidth": 0,
             "ticks": ""
            },
            "type": "contourcarpet"
           }
          ],
          "heatmap": [
           {
            "colorbar": {
             "outlinewidth": 0,
             "ticks": ""
            },
            "colorscale": [
             [
              0,
              "#0d0887"
             ],
             [
              0.1111111111111111,
              "#46039f"
             ],
             [
              0.2222222222222222,
              "#7201a8"
             ],
             [
              0.3333333333333333,
              "#9c179e"
             ],
             [
              0.4444444444444444,
              "#bd3786"
             ],
             [
              0.5555555555555556,
              "#d8576b"
             ],
             [
              0.6666666666666666,
              "#ed7953"
             ],
             [
              0.7777777777777778,
              "#fb9f3a"
             ],
             [
              0.8888888888888888,
              "#fdca26"
             ],
             [
              1,
              "#f0f921"
             ]
            ],
            "type": "heatmap"
           }
          ],
          "heatmapgl": [
           {
            "colorbar": {
             "outlinewidth": 0,
             "ticks": ""
            },
            "colorscale": [
             [
              0,
              "#0d0887"
             ],
             [
              0.1111111111111111,
              "#46039f"
             ],
             [
              0.2222222222222222,
              "#7201a8"
             ],
             [
              0.3333333333333333,
              "#9c179e"
             ],
             [
              0.4444444444444444,
              "#bd3786"
             ],
             [
              0.5555555555555556,
              "#d8576b"
             ],
             [
              0.6666666666666666,
              "#ed7953"
             ],
             [
              0.7777777777777778,
              "#fb9f3a"
             ],
             [
              0.8888888888888888,
              "#fdca26"
             ],
             [
              1,
              "#f0f921"
             ]
            ],
            "type": "heatmapgl"
           }
          ],
          "histogram": [
           {
            "marker": {
             "colorbar": {
              "outlinewidth": 0,
              "ticks": ""
             }
            },
            "type": "histogram"
           }
          ],
          "histogram2d": [
           {
            "colorbar": {
             "outlinewidth": 0,
             "ticks": ""
            },
            "colorscale": [
             [
              0,
              "#0d0887"
             ],
             [
              0.1111111111111111,
              "#46039f"
             ],
             [
              0.2222222222222222,
              "#7201a8"
             ],
             [
              0.3333333333333333,
              "#9c179e"
             ],
             [
              0.4444444444444444,
              "#bd3786"
             ],
             [
              0.5555555555555556,
              "#d8576b"
             ],
             [
              0.6666666666666666,
              "#ed7953"
             ],
             [
              0.7777777777777778,
              "#fb9f3a"
             ],
             [
              0.8888888888888888,
              "#fdca26"
             ],
             [
              1,
              "#f0f921"
             ]
            ],
            "type": "histogram2d"
           }
          ],
          "histogram2dcontour": [
           {
            "colorbar": {
             "outlinewidth": 0,
             "ticks": ""
            },
            "colorscale": [
             [
              0,
              "#0d0887"
             ],
             [
              0.1111111111111111,
              "#46039f"
             ],
             [
              0.2222222222222222,
              "#7201a8"
             ],
             [
              0.3333333333333333,
              "#9c179e"
             ],
             [
              0.4444444444444444,
              "#bd3786"
             ],
             [
              0.5555555555555556,
              "#d8576b"
             ],
             [
              0.6666666666666666,
              "#ed7953"
             ],
             [
              0.7777777777777778,
              "#fb9f3a"
             ],
             [
              0.8888888888888888,
              "#fdca26"
             ],
             [
              1,
              "#f0f921"
             ]
            ],
            "type": "histogram2dcontour"
           }
          ],
          "mesh3d": [
           {
            "colorbar": {
             "outlinewidth": 0,
             "ticks": ""
            },
            "type": "mesh3d"
           }
          ],
          "parcoords": [
           {
            "line": {
             "colorbar": {
              "outlinewidth": 0,
              "ticks": ""
             }
            },
            "type": "parcoords"
           }
          ],
          "pie": [
           {
            "automargin": true,
            "type": "pie"
           }
          ],
          "scatter": [
           {
            "marker": {
             "colorbar": {
              "outlinewidth": 0,
              "ticks": ""
             }
            },
            "type": "scatter"
           }
          ],
          "scatter3d": [
           {
            "line": {
             "colorbar": {
              "outlinewidth": 0,
              "ticks": ""
             }
            },
            "marker": {
             "colorbar": {
              "outlinewidth": 0,
              "ticks": ""
             }
            },
            "type": "scatter3d"
           }
          ],
          "scattercarpet": [
           {
            "marker": {
             "colorbar": {
              "outlinewidth": 0,
              "ticks": ""
             }
            },
            "type": "scattercarpet"
           }
          ],
          "scattergeo": [
           {
            "marker": {
             "colorbar": {
              "outlinewidth": 0,
              "ticks": ""
             }
            },
            "type": "scattergeo"
           }
          ],
          "scattergl": [
           {
            "marker": {
             "colorbar": {
              "outlinewidth": 0,
              "ticks": ""
             }
            },
            "type": "scattergl"
           }
          ],
          "scattermapbox": [
           {
            "marker": {
             "colorbar": {
              "outlinewidth": 0,
              "ticks": ""
             }
            },
            "type": "scattermapbox"
           }
          ],
          "scatterpolar": [
           {
            "marker": {
             "colorbar": {
              "outlinewidth": 0,
              "ticks": ""
             }
            },
            "type": "scatterpolar"
           }
          ],
          "scatterpolargl": [
           {
            "marker": {
             "colorbar": {
              "outlinewidth": 0,
              "ticks": ""
             }
            },
            "type": "scatterpolargl"
           }
          ],
          "scatterternary": [
           {
            "marker": {
             "colorbar": {
              "outlinewidth": 0,
              "ticks": ""
             }
            },
            "type": "scatterternary"
           }
          ],
          "surface": [
           {
            "colorbar": {
             "outlinewidth": 0,
             "ticks": ""
            },
            "colorscale": [
             [
              0,
              "#0d0887"
             ],
             [
              0.1111111111111111,
              "#46039f"
             ],
             [
              0.2222222222222222,
              "#7201a8"
             ],
             [
              0.3333333333333333,
              "#9c179e"
             ],
             [
              0.4444444444444444,
              "#bd3786"
             ],
             [
              0.5555555555555556,
              "#d8576b"
             ],
             [
              0.6666666666666666,
              "#ed7953"
             ],
             [
              0.7777777777777778,
              "#fb9f3a"
             ],
             [
              0.8888888888888888,
              "#fdca26"
             ],
             [
              1,
              "#f0f921"
             ]
            ],
            "type": "surface"
           }
          ],
          "table": [
           {
            "cells": {
             "fill": {
              "color": "#EBF0F8"
             },
             "line": {
              "color": "white"
             }
            },
            "header": {
             "fill": {
              "color": "#C8D4E3"
             },
             "line": {
              "color": "white"
             }
            },
            "type": "table"
           }
          ]
         },
         "layout": {
          "annotationdefaults": {
           "arrowcolor": "#2a3f5f",
           "arrowhead": 0,
           "arrowwidth": 1
          },
          "coloraxis": {
           "colorbar": {
            "outlinewidth": 0,
            "ticks": ""
           }
          },
          "colorscale": {
           "diverging": [
            [
             0,
             "#8e0152"
            ],
            [
             0.1,
             "#c51b7d"
            ],
            [
             0.2,
             "#de77ae"
            ],
            [
             0.3,
             "#f1b6da"
            ],
            [
             0.4,
             "#fde0ef"
            ],
            [
             0.5,
             "#f7f7f7"
            ],
            [
             0.6,
             "#e6f5d0"
            ],
            [
             0.7,
             "#b8e186"
            ],
            [
             0.8,
             "#7fbc41"
            ],
            [
             0.9,
             "#4d9221"
            ],
            [
             1,
             "#276419"
            ]
           ],
           "sequential": [
            [
             0,
             "#0d0887"
            ],
            [
             0.1111111111111111,
             "#46039f"
            ],
            [
             0.2222222222222222,
             "#7201a8"
            ],
            [
             0.3333333333333333,
             "#9c179e"
            ],
            [
             0.4444444444444444,
             "#bd3786"
            ],
            [
             0.5555555555555556,
             "#d8576b"
            ],
            [
             0.6666666666666666,
             "#ed7953"
            ],
            [
             0.7777777777777778,
             "#fb9f3a"
            ],
            [
             0.8888888888888888,
             "#fdca26"
            ],
            [
             1,
             "#f0f921"
            ]
           ],
           "sequentialminus": [
            [
             0,
             "#0d0887"
            ],
            [
             0.1111111111111111,
             "#46039f"
            ],
            [
             0.2222222222222222,
             "#7201a8"
            ],
            [
             0.3333333333333333,
             "#9c179e"
            ],
            [
             0.4444444444444444,
             "#bd3786"
            ],
            [
             0.5555555555555556,
             "#d8576b"
            ],
            [
             0.6666666666666666,
             "#ed7953"
            ],
            [
             0.7777777777777778,
             "#fb9f3a"
            ],
            [
             0.8888888888888888,
             "#fdca26"
            ],
            [
             1,
             "#f0f921"
            ]
           ]
          },
          "colorway": [
           "#636efa",
           "#EF553B",
           "#00cc96",
           "#ab63fa",
           "#FFA15A",
           "#19d3f3",
           "#FF6692",
           "#B6E880",
           "#FF97FF",
           "#FECB52"
          ],
          "font": {
           "color": "#2a3f5f"
          },
          "geo": {
           "bgcolor": "white",
           "lakecolor": "white",
           "landcolor": "#E5ECF6",
           "showlakes": true,
           "showland": true,
           "subunitcolor": "white"
          },
          "hoverlabel": {
           "align": "left"
          },
          "hovermode": "closest",
          "mapbox": {
           "style": "light"
          },
          "paper_bgcolor": "white",
          "plot_bgcolor": "#E5ECF6",
          "polar": {
           "angularaxis": {
            "gridcolor": "white",
            "linecolor": "white",
            "ticks": ""
           },
           "bgcolor": "#E5ECF6",
           "radialaxis": {
            "gridcolor": "white",
            "linecolor": "white",
            "ticks": ""
           }
          },
          "scene": {
           "xaxis": {
            "backgroundcolor": "#E5ECF6",
            "gridcolor": "white",
            "gridwidth": 2,
            "linecolor": "white",
            "showbackground": true,
            "ticks": "",
            "zerolinecolor": "white"
           },
           "yaxis": {
            "backgroundcolor": "#E5ECF6",
            "gridcolor": "white",
            "gridwidth": 2,
            "linecolor": "white",
            "showbackground": true,
            "ticks": "",
            "zerolinecolor": "white"
           },
           "zaxis": {
            "backgroundcolor": "#E5ECF6",
            "gridcolor": "white",
            "gridwidth": 2,
            "linecolor": "white",
            "showbackground": true,
            "ticks": "",
            "zerolinecolor": "white"
           }
          },
          "shapedefaults": {
           "line": {
            "color": "#2a3f5f"
           }
          },
          "ternary": {
           "aaxis": {
            "gridcolor": "white",
            "linecolor": "white",
            "ticks": ""
           },
           "baxis": {
            "gridcolor": "white",
            "linecolor": "white",
            "ticks": ""
           },
           "bgcolor": "#E5ECF6",
           "caxis": {
            "gridcolor": "white",
            "linecolor": "white",
            "ticks": ""
           }
          },
          "title": {
           "x": 0.05
          },
          "xaxis": {
           "automargin": true,
           "gridcolor": "white",
           "linecolor": "white",
           "ticks": "",
           "title": {
            "standoff": 15
           },
           "zerolinecolor": "white",
           "zerolinewidth": 2
          },
          "yaxis": {
           "automargin": true,
           "gridcolor": "white",
           "linecolor": "white",
           "ticks": "",
           "title": {
            "standoff": 15
           },
           "zerolinecolor": "white",
           "zerolinewidth": 2
          }
         }
        },
        "title": {
         "font": {
          "color": "#4D5663"
         }
        },
        "xaxis": {
         "gridcolor": "#E1E5ED",
         "showgrid": true,
         "tickfont": {
          "color": "#4D5663"
         },
         "title": {
          "font": {
           "color": "#4D5663"
          },
          "text": ""
         },
         "zerolinecolor": "#E1E5ED"
        },
        "yaxis": {
         "gridcolor": "#E1E5ED",
         "showgrid": true,
         "tickfont": {
          "color": "#4D5663"
         },
         "title": {
          "font": {
           "color": "#4D5663"
          },
          "text": ""
         },
         "zerolinecolor": "#E1E5ED"
        }
       }
      },
      "text/html": [
       "<div>\n",
       "        \n",
       "        \n",
       "            <div id=\"9aa3679c-4be7-4b5b-aae6-e2f7aafd6d31\" class=\"plotly-graph-div\" style=\"height:525px; width:100%;\"></div>\n",
       "            <script type=\"text/javascript\">\n",
       "                require([\"plotly\"], function(Plotly) {\n",
       "                    window.PLOTLYENV=window.PLOTLYENV || {};\n",
       "                    window.PLOTLYENV.BASE_URL='https://plot.ly';\n",
       "                    \n",
       "                if (document.getElementById(\"9aa3679c-4be7-4b5b-aae6-e2f7aafd6d31\")) {\n",
       "                    Plotly.newPlot(\n",
       "                        '9aa3679c-4be7-4b5b-aae6-e2f7aafd6d31',\n",
       "                        [{\"histfunc\": \"count\", \"histnorm\": \"\", \"marker\": {\"color\": \"rgba(255, 153, 51, 1.0)\", \"line\": {\"color\": \"#4D5663\", \"width\": 1.3}}, \"name\": \"A\", \"nbinsx\": 25, \"opacity\": 0.8, \"orientation\": \"v\", \"type\": \"histogram\", \"x\": [-0.9093054841012843, 0.6040832399960773, -2.410271137195946, 0.16588443929009308, 1.0852191490067407, 0.6250277127932178, -0.9246067333548268, 1.0805265305902243, 1.5725408394539233, 0.5305774112893745, -1.0968365092075085, 0.358422463579597, -0.23415335588614208, 0.15470064036229597, -1.2258341941415993, 0.2593542310596669, 1.5207292232801048, 0.6937829889514853, -1.064285675230406, -0.44560982863137766, -1.0906263710804303, 1.9665199437015592, -0.3168671019465515, 1.0662884587350903, 0.52274830772359, -0.36628016461133656, -0.8474582771956716, 1.1502604717661162, 1.9461342218110398, -0.4650443159355485, -0.8168701770762032, -1.6513676718383128, 0.03763777500553534, -0.8930695726250423, 0.9944707976208484, -1.0317371061968406, -0.08534728128681522, -0.11154374643876049, -0.41021037304330565, -0.6932234768278271, 0.46269386705795046, -1.2691305767830017, 0.3914823573992438, -0.3325552370346851, 0.4505119668619261, 0.26267163704247304, 0.6146339373666935, -0.00019986832009890844, -0.3562942496957231, 1.1106410349742948, -0.4333466685561677, -0.6433360131302692, -0.8874917160851796, -0.8513536562439611, -0.05277980507992831, 0.9196787192380568, -1.8824712139707094, -0.0027461866850745902, -0.02857973666903494, -0.6041682943303771, 0.5017654389406031, -1.9697355871042415, 0.6538225862413563, 0.7165951809469918, 0.05677784382488556, -1.141078681176908, 1.3054036850528037, 0.8351305395606717, -0.5254041188527706, -0.4577834507066193, -0.8005206812905147, 1.6411028852562852, -1.0179121109648015, -1.100307719569913, 0.24578712452507961, -0.8471375107617793, -0.3786013986846745, -0.7832461028994342, -0.24609091475376293, 2.110724741197031, 0.5651851649423003, -1.6974921370855955, -3.052601304677243, -0.9328402706436525, 0.9777294759588954, -1.3736356963160077, -0.2568197552540412, -0.14252924846144352, -0.23946981078682242, -0.058466871907325725, -0.597456559381562, -2.1389872634159057, 1.402282041961766, 0.5274283741136507, -1.2594196492030272, -0.491214492828783, -1.3984069642976626, -2.4488941051712687, 0.6371774376560045, -1.2528580901560282]}, {\"histfunc\": \"count\", \"histnorm\": \"\", \"marker\": {\"color\": \"rgba(55, 128, 191, 1.0)\", \"line\": {\"color\": \"#4D5663\", \"width\": 1.3}}, \"name\": \"B\", \"nbinsx\": 25, \"opacity\": 0.8, \"orientation\": \"v\", \"type\": \"histogram\", \"x\": [1.971440509710332, -0.16847988892318877, 1.0201516777693376, -0.4746460566381103, -0.252233811330853, -0.812181070653521, 0.08607180636893513, -0.02022449530412015, -0.1099275343296199, 0.38663004425284286, -0.526558562979596, 1.8595393195972616, -0.2554254965801771, -0.9141127018210553, 0.06456255996214603, 0.09207005623359946, -0.47783575200149025, 0.09276314732860896, -1.531698896254452, -1.9987393236806141, -0.6049054502346282, 0.8385800455756265, 2.4409277500049287, -0.2651686762903576, -0.07027781766020814, 1.4460735333923849, 0.4062558151378958, 2.9924417578949596, -0.6725291814251461, 0.058275087784900724, -0.7180357045425773, -1.4032200530204344, -0.3150288706370873, 0.47758875464697453, -0.8269771217614604, 0.48172496799817244, -0.7453485529280233, 2.2103985684031424, -0.6512343240750648, -1.0761589643558305, -0.3126827200482146, -0.7707723938441469, 0.03761157401678399, 0.38218995607893624, 1.6232168368871616, -0.891991061325372, 0.3081052691599786, -1.6742745874233398, -1.060786505394401, -1.224894225568253, -1.1418576917418655, 0.7776014073963039, -2.0722908928193076, 0.6269795454914691, -0.07363912387427204, 1.0337073250918112, -0.8724424338268957, 0.2944326120520341, 1.1007166889351714, -1.0368444257918097, 0.40581918123186206, 1.3247223197113267, -0.5028529312192868, 0.12826431985038722, -0.41298476969240855, -0.5122594907994159, -0.3767939408544858, -0.5483495771102112, 0.23937351232956053, -0.1237189545660604, -1.6086158300274889, 0.13255921177958058, 0.6236563150256992, -1.7629134825954333, 0.3965543697462627, -0.015246469369710672, 0.6224378394650877, 1.273204770270868, 0.16522803860713273, 0.21631887975698336, 0.49296727355124675, -0.856555842632183, 1.285461938030501, -1.5108562066320856, -0.5654639130801999, -0.2988083381094179, 0.4455217374847133, 0.47958439154709376, 0.7371979486246891, 0.4676197412857697, 0.37248117726012064, -0.06150360692356444, 0.011862471019332303, 1.5119522400199887, -1.542085684981008, 0.45531041190984595, -0.19489834876868772, 0.30160750277151505, -0.04051459233187058, 1.8329947771102855]}],\n",
       "                        {\"barmode\": \"overlay\", \"legend\": {\"bgcolor\": \"#F5F6F9\", \"font\": {\"color\": \"#4D5663\"}}, \"paper_bgcolor\": \"#F5F6F9\", \"plot_bgcolor\": \"#F5F6F9\", \"template\": {\"data\": {\"bar\": [{\"error_x\": {\"color\": \"#2a3f5f\"}, \"error_y\": {\"color\": \"#2a3f5f\"}, \"marker\": {\"line\": {\"color\": \"#E5ECF6\", \"width\": 0.5}}, \"type\": \"bar\"}], \"barpolar\": [{\"marker\": {\"line\": {\"color\": \"#E5ECF6\", \"width\": 0.5}}, \"type\": \"barpolar\"}], \"carpet\": [{\"aaxis\": {\"endlinecolor\": \"#2a3f5f\", \"gridcolor\": \"white\", \"linecolor\": \"white\", \"minorgridcolor\": \"white\", \"startlinecolor\": \"#2a3f5f\"}, \"baxis\": {\"endlinecolor\": \"#2a3f5f\", \"gridcolor\": \"white\", \"linecolor\": \"white\", \"minorgridcolor\": \"white\", \"startlinecolor\": \"#2a3f5f\"}, \"type\": \"carpet\"}], \"choropleth\": [{\"colorbar\": {\"outlinewidth\": 0, \"ticks\": \"\"}, \"type\": \"choropleth\"}], \"contour\": [{\"colorbar\": {\"outlinewidth\": 0, \"ticks\": \"\"}, \"colorscale\": [[0.0, \"#0d0887\"], [0.1111111111111111, \"#46039f\"], [0.2222222222222222, \"#7201a8\"], [0.3333333333333333, \"#9c179e\"], [0.4444444444444444, \"#bd3786\"], [0.5555555555555556, \"#d8576b\"], [0.6666666666666666, \"#ed7953\"], [0.7777777777777778, \"#fb9f3a\"], [0.8888888888888888, \"#fdca26\"], [1.0, \"#f0f921\"]], \"type\": \"contour\"}], \"contourcarpet\": [{\"colorbar\": {\"outlinewidth\": 0, \"ticks\": \"\"}, \"type\": \"contourcarpet\"}], \"heatmap\": [{\"colorbar\": {\"outlinewidth\": 0, \"ticks\": \"\"}, \"colorscale\": [[0.0, \"#0d0887\"], [0.1111111111111111, \"#46039f\"], [0.2222222222222222, \"#7201a8\"], [0.3333333333333333, \"#9c179e\"], [0.4444444444444444, \"#bd3786\"], [0.5555555555555556, \"#d8576b\"], [0.6666666666666666, \"#ed7953\"], [0.7777777777777778, \"#fb9f3a\"], [0.8888888888888888, \"#fdca26\"], [1.0, \"#f0f921\"]], \"type\": \"heatmap\"}], \"heatmapgl\": [{\"colorbar\": {\"outlinewidth\": 0, \"ticks\": \"\"}, \"colorscale\": [[0.0, \"#0d0887\"], [0.1111111111111111, \"#46039f\"], [0.2222222222222222, \"#7201a8\"], [0.3333333333333333, \"#9c179e\"], [0.4444444444444444, \"#bd3786\"], [0.5555555555555556, \"#d8576b\"], [0.6666666666666666, \"#ed7953\"], [0.7777777777777778, \"#fb9f3a\"], [0.8888888888888888, \"#fdca26\"], [1.0, \"#f0f921\"]], \"type\": \"heatmapgl\"}], \"histogram\": [{\"marker\": {\"colorbar\": {\"outlinewidth\": 0, \"ticks\": \"\"}}, \"type\": \"histogram\"}], \"histogram2d\": [{\"colorbar\": {\"outlinewidth\": 0, \"ticks\": \"\"}, \"colorscale\": [[0.0, \"#0d0887\"], [0.1111111111111111, \"#46039f\"], [0.2222222222222222, \"#7201a8\"], [0.3333333333333333, \"#9c179e\"], [0.4444444444444444, \"#bd3786\"], [0.5555555555555556, \"#d8576b\"], [0.6666666666666666, \"#ed7953\"], [0.7777777777777778, \"#fb9f3a\"], [0.8888888888888888, \"#fdca26\"], [1.0, \"#f0f921\"]], \"type\": \"histogram2d\"}], \"histogram2dcontour\": [{\"colorbar\": {\"outlinewidth\": 0, \"ticks\": \"\"}, \"colorscale\": [[0.0, \"#0d0887\"], [0.1111111111111111, \"#46039f\"], [0.2222222222222222, \"#7201a8\"], [0.3333333333333333, \"#9c179e\"], [0.4444444444444444, \"#bd3786\"], [0.5555555555555556, \"#d8576b\"], [0.6666666666666666, \"#ed7953\"], [0.7777777777777778, \"#fb9f3a\"], [0.8888888888888888, \"#fdca26\"], [1.0, \"#f0f921\"]], \"type\": \"histogram2dcontour\"}], \"mesh3d\": [{\"colorbar\": {\"outlinewidth\": 0, \"ticks\": \"\"}, \"type\": \"mesh3d\"}], \"parcoords\": [{\"line\": {\"colorbar\": {\"outlinewidth\": 0, \"ticks\": \"\"}}, \"type\": \"parcoords\"}], \"pie\": [{\"automargin\": true, \"type\": \"pie\"}], \"scatter\": [{\"marker\": {\"colorbar\": {\"outlinewidth\": 0, \"ticks\": \"\"}}, \"type\": \"scatter\"}], \"scatter3d\": [{\"line\": {\"colorbar\": {\"outlinewidth\": 0, \"ticks\": \"\"}}, \"marker\": {\"colorbar\": {\"outlinewidth\": 0, \"ticks\": \"\"}}, \"type\": \"scatter3d\"}], \"scattercarpet\": [{\"marker\": {\"colorbar\": {\"outlinewidth\": 0, \"ticks\": \"\"}}, \"type\": \"scattercarpet\"}], \"scattergeo\": [{\"marker\": {\"colorbar\": {\"outlinewidth\": 0, \"ticks\": \"\"}}, \"type\": \"scattergeo\"}], \"scattergl\": [{\"marker\": {\"colorbar\": {\"outlinewidth\": 0, \"ticks\": \"\"}}, \"type\": \"scattergl\"}], \"scattermapbox\": [{\"marker\": {\"colorbar\": {\"outlinewidth\": 0, \"ticks\": \"\"}}, \"type\": \"scattermapbox\"}], \"scatterpolar\": [{\"marker\": {\"colorbar\": {\"outlinewidth\": 0, \"ticks\": \"\"}}, \"type\": \"scatterpolar\"}], \"scatterpolargl\": [{\"marker\": {\"colorbar\": {\"outlinewidth\": 0, \"ticks\": \"\"}}, \"type\": \"scatterpolargl\"}], \"scatterternary\": [{\"marker\": {\"colorbar\": {\"outlinewidth\": 0, \"ticks\": \"\"}}, \"type\": \"scatterternary\"}], \"surface\": [{\"colorbar\": {\"outlinewidth\": 0, \"ticks\": \"\"}, \"colorscale\": [[0.0, \"#0d0887\"], [0.1111111111111111, \"#46039f\"], [0.2222222222222222, \"#7201a8\"], [0.3333333333333333, \"#9c179e\"], [0.4444444444444444, \"#bd3786\"], [0.5555555555555556, \"#d8576b\"], [0.6666666666666666, \"#ed7953\"], [0.7777777777777778, \"#fb9f3a\"], [0.8888888888888888, \"#fdca26\"], [1.0, \"#f0f921\"]], \"type\": \"surface\"}], \"table\": [{\"cells\": {\"fill\": {\"color\": \"#EBF0F8\"}, \"line\": {\"color\": \"white\"}}, \"header\": {\"fill\": {\"color\": \"#C8D4E3\"}, \"line\": {\"color\": \"white\"}}, \"type\": \"table\"}]}, \"layout\": {\"annotationdefaults\": {\"arrowcolor\": \"#2a3f5f\", \"arrowhead\": 0, \"arrowwidth\": 1}, \"coloraxis\": {\"colorbar\": {\"outlinewidth\": 0, \"ticks\": \"\"}}, \"colorscale\": {\"diverging\": [[0, \"#8e0152\"], [0.1, \"#c51b7d\"], [0.2, \"#de77ae\"], [0.3, \"#f1b6da\"], [0.4, \"#fde0ef\"], [0.5, \"#f7f7f7\"], [0.6, \"#e6f5d0\"], [0.7, \"#b8e186\"], [0.8, \"#7fbc41\"], [0.9, \"#4d9221\"], [1, \"#276419\"]], \"sequential\": [[0.0, \"#0d0887\"], [0.1111111111111111, \"#46039f\"], [0.2222222222222222, \"#7201a8\"], [0.3333333333333333, \"#9c179e\"], [0.4444444444444444, \"#bd3786\"], [0.5555555555555556, \"#d8576b\"], [0.6666666666666666, \"#ed7953\"], [0.7777777777777778, \"#fb9f3a\"], [0.8888888888888888, \"#fdca26\"], [1.0, \"#f0f921\"]], \"sequentialminus\": [[0.0, \"#0d0887\"], [0.1111111111111111, \"#46039f\"], [0.2222222222222222, \"#7201a8\"], [0.3333333333333333, \"#9c179e\"], [0.4444444444444444, \"#bd3786\"], [0.5555555555555556, \"#d8576b\"], [0.6666666666666666, \"#ed7953\"], [0.7777777777777778, \"#fb9f3a\"], [0.8888888888888888, \"#fdca26\"], [1.0, \"#f0f921\"]]}, \"colorway\": [\"#636efa\", \"#EF553B\", \"#00cc96\", \"#ab63fa\", \"#FFA15A\", \"#19d3f3\", \"#FF6692\", \"#B6E880\", \"#FF97FF\", \"#FECB52\"], \"font\": {\"color\": \"#2a3f5f\"}, \"geo\": {\"bgcolor\": \"white\", \"lakecolor\": \"white\", \"landcolor\": \"#E5ECF6\", \"showlakes\": true, \"showland\": true, \"subunitcolor\": \"white\"}, \"hoverlabel\": {\"align\": \"left\"}, \"hovermode\": \"closest\", \"mapbox\": {\"style\": \"light\"}, \"paper_bgcolor\": \"white\", \"plot_bgcolor\": \"#E5ECF6\", \"polar\": {\"angularaxis\": {\"gridcolor\": \"white\", \"linecolor\": \"white\", \"ticks\": \"\"}, \"bgcolor\": \"#E5ECF6\", \"radialaxis\": {\"gridcolor\": \"white\", \"linecolor\": \"white\", \"ticks\": \"\"}}, \"scene\": {\"xaxis\": {\"backgroundcolor\": \"#E5ECF6\", \"gridcolor\": \"white\", \"gridwidth\": 2, \"linecolor\": \"white\", \"showbackground\": true, \"ticks\": \"\", \"zerolinecolor\": \"white\"}, \"yaxis\": {\"backgroundcolor\": \"#E5ECF6\", \"gridcolor\": \"white\", \"gridwidth\": 2, \"linecolor\": \"white\", \"showbackground\": true, \"ticks\": \"\", \"zerolinecolor\": \"white\"}, \"zaxis\": {\"backgroundcolor\": \"#E5ECF6\", \"gridcolor\": \"white\", \"gridwidth\": 2, \"linecolor\": \"white\", \"showbackground\": true, \"ticks\": \"\", \"zerolinecolor\": \"white\"}}, \"shapedefaults\": {\"line\": {\"color\": \"#2a3f5f\"}}, \"ternary\": {\"aaxis\": {\"gridcolor\": \"white\", \"linecolor\": \"white\", \"ticks\": \"\"}, \"baxis\": {\"gridcolor\": \"white\", \"linecolor\": \"white\", \"ticks\": \"\"}, \"bgcolor\": \"#E5ECF6\", \"caxis\": {\"gridcolor\": \"white\", \"linecolor\": \"white\", \"ticks\": \"\"}}, \"title\": {\"x\": 0.05}, \"xaxis\": {\"automargin\": true, \"gridcolor\": \"white\", \"linecolor\": \"white\", \"ticks\": \"\", \"title\": {\"standoff\": 15}, \"zerolinecolor\": \"white\", \"zerolinewidth\": 2}, \"yaxis\": {\"automargin\": true, \"gridcolor\": \"white\", \"linecolor\": \"white\", \"ticks\": \"\", \"title\": {\"standoff\": 15}, \"zerolinecolor\": \"white\", \"zerolinewidth\": 2}}}, \"title\": {\"font\": {\"color\": \"#4D5663\"}}, \"xaxis\": {\"gridcolor\": \"#E1E5ED\", \"showgrid\": true, \"tickfont\": {\"color\": \"#4D5663\"}, \"title\": {\"font\": {\"color\": \"#4D5663\"}, \"text\": \"\"}, \"zerolinecolor\": \"#E1E5ED\"}, \"yaxis\": {\"gridcolor\": \"#E1E5ED\", \"showgrid\": true, \"tickfont\": {\"color\": \"#4D5663\"}, \"title\": {\"font\": {\"color\": \"#4D5663\"}, \"text\": \"\"}, \"zerolinecolor\": \"#E1E5ED\"}},\n",
       "                        {\"showLink\": true, \"linkText\": \"Export to plot.ly\", \"plotlyServerURL\": \"https://plot.ly\", \"responsive\": true}\n",
       "                    ).then(function(){\n",
       "                            \n",
       "var gd = document.getElementById('9aa3679c-4be7-4b5b-aae6-e2f7aafd6d31');\n",
       "var x = new MutationObserver(function (mutations, observer) {{\n",
       "        var display = window.getComputedStyle(gd).display;\n",
       "        if (!display || display === 'none') {{\n",
       "            console.log([gd, 'removed!']);\n",
       "            Plotly.purge(gd);\n",
       "            observer.disconnect();\n",
       "        }}\n",
       "}});\n",
       "\n",
       "// Listen for the removal of the full notebook cells\n",
       "var notebookContainer = gd.closest('#notebook-container');\n",
       "if (notebookContainer) {{\n",
       "    x.observe(notebookContainer, {childList: true});\n",
       "}}\n",
       "\n",
       "// Listen for the clearing of the current output cell\n",
       "var outputEl = gd.closest('.output');\n",
       "if (outputEl) {{\n",
       "    x.observe(outputEl, {childList: true});\n",
       "}}\n",
       "\n",
       "                        })\n",
       "                };\n",
       "                });\n",
       "            </script>\n",
       "        </div>"
      ]
     },
     "metadata": {},
     "output_type": "display_data"
    }
   ],
   "source": [
    "df[['A', 'B']].iplot(kind='hist',bins=25)"
   ]
  },
  {
   "cell_type": "code",
   "execution_count": 34,
   "metadata": {},
   "outputs": [
    {
     "data": {
      "application/vnd.plotly.v1+json": {
       "config": {
        "linkText": "Export to plot.ly",
        "plotlyServerURL": "https://plot.ly",
        "showLink": true
       },
       "data": [
        {
         "marker": {
          "color": [
           "rgb(255, 153, 51)",
           "rgb(55, 128, 191)",
           "rgb(50, 171, 96)",
           "rgb(128, 0, 128)",
           "rgb(219, 64, 82)",
           "rgb(0, 128, 128)",
           "rgb(255, 255, 51)",
           "rgb(128, 128, 0)",
           "rgb(251, 128, 114)",
           "rgb(128, 177, 211)"
          ],
          "line": {
           "width": 1.3
          },
          "size": [
           74,
           77,
           66,
           62,
           90,
           54,
           57,
           93,
           70,
           68,
           82,
           49,
           45,
           72,
           48,
           53,
           40,
           71,
           80,
           90,
           66,
           71,
           44,
           75,
           69,
           53,
           38,
           36,
           61,
           63,
           59,
           105,
           48,
           69,
           65,
           55,
           81,
           67,
           73,
           65,
           58,
           41,
           42,
           43,
           79,
           80,
           33,
           42,
           50,
           57,
           78,
           71,
           61,
           56,
           82,
           84,
           75,
           72,
           92,
           76,
           63,
           63,
           58,
           87,
           71,
           39,
           62,
           72,
           52,
           66,
           66,
           44,
           38,
           79,
           82,
           112,
           81,
           81,
           47,
           58,
           68,
           41,
           59,
           79,
           43,
           80,
           32,
           27,
           12,
           92,
           83,
           61,
           67,
           65,
           56,
           60,
           80,
           37,
           45,
           89
          ],
          "symbol": "circle"
         },
         "mode": "markers",
         "text": "",
         "type": "scatter",
         "x": [
          -0.9093054841012843,
          0.6040832399960773,
          -2.410271137195946,
          0.16588443929009308,
          1.0852191490067407,
          0.6250277127932178,
          -0.9246067333548268,
          1.0805265305902243,
          1.5725408394539233,
          0.5305774112893745,
          -1.0968365092075085,
          0.358422463579597,
          -0.23415335588614208,
          0.15470064036229597,
          -1.2258341941415993,
          0.2593542310596669,
          1.5207292232801048,
          0.6937829889514853,
          -1.064285675230406,
          -0.44560982863137766,
          -1.0906263710804303,
          1.9665199437015592,
          -0.3168671019465515,
          1.0662884587350903,
          0.52274830772359,
          -0.36628016461133656,
          -0.8474582771956716,
          1.1502604717661162,
          1.9461342218110398,
          -0.4650443159355485,
          -0.8168701770762032,
          -1.6513676718383128,
          0.03763777500553534,
          -0.8930695726250423,
          0.9944707976208484,
          -1.0317371061968406,
          -0.08534728128681522,
          -0.11154374643876049,
          -0.41021037304330565,
          -0.6932234768278271,
          0.46269386705795046,
          -1.2691305767830017,
          0.3914823573992438,
          -0.3325552370346851,
          0.4505119668619261,
          0.26267163704247304,
          0.6146339373666935,
          -0.00019986832009890844,
          -0.3562942496957231,
          1.1106410349742948,
          -0.4333466685561677,
          -0.6433360131302692,
          -0.8874917160851796,
          -0.8513536562439611,
          -0.05277980507992831,
          0.9196787192380568,
          -1.8824712139707094,
          -0.0027461866850745902,
          -0.02857973666903494,
          -0.6041682943303771,
          0.5017654389406031,
          -1.9697355871042415,
          0.6538225862413563,
          0.7165951809469918,
          0.05677784382488556,
          -1.141078681176908,
          1.3054036850528037,
          0.8351305395606717,
          -0.5254041188527706,
          -0.4577834507066193,
          -0.8005206812905147,
          1.6411028852562852,
          -1.0179121109648015,
          -1.100307719569913,
          0.24578712452507961,
          -0.8471375107617793,
          -0.3786013986846745,
          -0.7832461028994342,
          -0.24609091475376293,
          2.110724741197031,
          0.5651851649423003,
          -1.6974921370855955,
          -3.052601304677243,
          -0.9328402706436525,
          0.9777294759588954,
          -1.3736356963160077,
          -0.2568197552540412,
          -0.14252924846144352,
          -0.23946981078682242,
          -0.058466871907325725,
          -0.597456559381562,
          -2.1389872634159057,
          1.402282041961766,
          0.5274283741136507,
          -1.2594196492030272,
          -0.491214492828783,
          -1.3984069642976626,
          -2.4488941051712687,
          0.6371774376560045,
          -1.2528580901560282
         ],
         "y": [
          1.971440509710332,
          -0.16847988892318877,
          1.0201516777693376,
          -0.4746460566381103,
          -0.252233811330853,
          -0.812181070653521,
          0.08607180636893513,
          -0.02022449530412015,
          -0.1099275343296199,
          0.38663004425284286,
          -0.526558562979596,
          1.8595393195972616,
          -0.2554254965801771,
          -0.9141127018210553,
          0.06456255996214603,
          0.09207005623359946,
          -0.47783575200149025,
          0.09276314732860896,
          -1.531698896254452,
          -1.9987393236806141,
          -0.6049054502346282,
          0.8385800455756265,
          2.4409277500049287,
          -0.2651686762903576,
          -0.07027781766020814,
          1.4460735333923849,
          0.4062558151378958,
          2.9924417578949596,
          -0.6725291814251461,
          0.058275087784900724,
          -0.7180357045425773,
          -1.4032200530204344,
          -0.3150288706370873,
          0.47758875464697453,
          -0.8269771217614604,
          0.48172496799817244,
          -0.7453485529280233,
          2.2103985684031424,
          -0.6512343240750648,
          -1.0761589643558305,
          -0.3126827200482146,
          -0.7707723938441469,
          0.03761157401678399,
          0.38218995607893624,
          1.6232168368871616,
          -0.891991061325372,
          0.3081052691599786,
          -1.6742745874233398,
          -1.060786505394401,
          -1.224894225568253,
          -1.1418576917418655,
          0.7776014073963039,
          -2.0722908928193076,
          0.6269795454914691,
          -0.07363912387427204,
          1.0337073250918112,
          -0.8724424338268957,
          0.2944326120520341,
          1.1007166889351714,
          -1.0368444257918097,
          0.40581918123186206,
          1.3247223197113267,
          -0.5028529312192868,
          0.12826431985038722,
          -0.41298476969240855,
          -0.5122594907994159,
          -0.3767939408544858,
          -0.5483495771102112,
          0.23937351232956053,
          -0.1237189545660604,
          -1.6086158300274889,
          0.13255921177958058,
          0.6236563150256992,
          -1.7629134825954333,
          0.3965543697462627,
          -0.015246469369710672,
          0.6224378394650877,
          1.273204770270868,
          0.16522803860713273,
          0.21631887975698336,
          0.49296727355124675,
          -0.856555842632183,
          1.285461938030501,
          -1.5108562066320856,
          -0.5654639130801999,
          -0.2988083381094179,
          0.4455217374847133,
          0.47958439154709376,
          0.7371979486246891,
          0.4676197412857697,
          0.37248117726012064,
          -0.06150360692356444,
          0.011862471019332303,
          1.5119522400199887,
          -1.542085684981008,
          0.45531041190984595,
          -0.19489834876868772,
          0.30160750277151505,
          -0.04051459233187058,
          1.8329947771102855
         ]
        }
       ],
       "layout": {
        "legend": {
         "bgcolor": "#F5F6F9",
         "font": {
          "color": "#4D5663"
         }
        },
        "paper_bgcolor": "#F5F6F9",
        "plot_bgcolor": "#F5F6F9",
        "template": {
         "data": {
          "bar": [
           {
            "error_x": {
             "color": "#2a3f5f"
            },
            "error_y": {
             "color": "#2a3f5f"
            },
            "marker": {
             "line": {
              "color": "#E5ECF6",
              "width": 0.5
             }
            },
            "type": "bar"
           }
          ],
          "barpolar": [
           {
            "marker": {
             "line": {
              "color": "#E5ECF6",
              "width": 0.5
             }
            },
            "type": "barpolar"
           }
          ],
          "carpet": [
           {
            "aaxis": {
             "endlinecolor": "#2a3f5f",
             "gridcolor": "white",
             "linecolor": "white",
             "minorgridcolor": "white",
             "startlinecolor": "#2a3f5f"
            },
            "baxis": {
             "endlinecolor": "#2a3f5f",
             "gridcolor": "white",
             "linecolor": "white",
             "minorgridcolor": "white",
             "startlinecolor": "#2a3f5f"
            },
            "type": "carpet"
           }
          ],
          "choropleth": [
           {
            "colorbar": {
             "outlinewidth": 0,
             "ticks": ""
            },
            "type": "choropleth"
           }
          ],
          "contour": [
           {
            "colorbar": {
             "outlinewidth": 0,
             "ticks": ""
            },
            "colorscale": [
             [
              0,
              "#0d0887"
             ],
             [
              0.1111111111111111,
              "#46039f"
             ],
             [
              0.2222222222222222,
              "#7201a8"
             ],
             [
              0.3333333333333333,
              "#9c179e"
             ],
             [
              0.4444444444444444,
              "#bd3786"
             ],
             [
              0.5555555555555556,
              "#d8576b"
             ],
             [
              0.6666666666666666,
              "#ed7953"
             ],
             [
              0.7777777777777778,
              "#fb9f3a"
             ],
             [
              0.8888888888888888,
              "#fdca26"
             ],
             [
              1,
              "#f0f921"
             ]
            ],
            "type": "contour"
           }
          ],
          "contourcarpet": [
           {
            "colorbar": {
             "outlinewidth": 0,
             "ticks": ""
            },
            "type": "contourcarpet"
           }
          ],
          "heatmap": [
           {
            "colorbar": {
             "outlinewidth": 0,
             "ticks": ""
            },
            "colorscale": [
             [
              0,
              "#0d0887"
             ],
             [
              0.1111111111111111,
              "#46039f"
             ],
             [
              0.2222222222222222,
              "#7201a8"
             ],
             [
              0.3333333333333333,
              "#9c179e"
             ],
             [
              0.4444444444444444,
              "#bd3786"
             ],
             [
              0.5555555555555556,
              "#d8576b"
             ],
             [
              0.6666666666666666,
              "#ed7953"
             ],
             [
              0.7777777777777778,
              "#fb9f3a"
             ],
             [
              0.8888888888888888,
              "#fdca26"
             ],
             [
              1,
              "#f0f921"
             ]
            ],
            "type": "heatmap"
           }
          ],
          "heatmapgl": [
           {
            "colorbar": {
             "outlinewidth": 0,
             "ticks": ""
            },
            "colorscale": [
             [
              0,
              "#0d0887"
             ],
             [
              0.1111111111111111,
              "#46039f"
             ],
             [
              0.2222222222222222,
              "#7201a8"
             ],
             [
              0.3333333333333333,
              "#9c179e"
             ],
             [
              0.4444444444444444,
              "#bd3786"
             ],
             [
              0.5555555555555556,
              "#d8576b"
             ],
             [
              0.6666666666666666,
              "#ed7953"
             ],
             [
              0.7777777777777778,
              "#fb9f3a"
             ],
             [
              0.8888888888888888,
              "#fdca26"
             ],
             [
              1,
              "#f0f921"
             ]
            ],
            "type": "heatmapgl"
           }
          ],
          "histogram": [
           {
            "marker": {
             "colorbar": {
              "outlinewidth": 0,
              "ticks": ""
             }
            },
            "type": "histogram"
           }
          ],
          "histogram2d": [
           {
            "colorbar": {
             "outlinewidth": 0,
             "ticks": ""
            },
            "colorscale": [
             [
              0,
              "#0d0887"
             ],
             [
              0.1111111111111111,
              "#46039f"
             ],
             [
              0.2222222222222222,
              "#7201a8"
             ],
             [
              0.3333333333333333,
              "#9c179e"
             ],
             [
              0.4444444444444444,
              "#bd3786"
             ],
             [
              0.5555555555555556,
              "#d8576b"
             ],
             [
              0.6666666666666666,
              "#ed7953"
             ],
             [
              0.7777777777777778,
              "#fb9f3a"
             ],
             [
              0.8888888888888888,
              "#fdca26"
             ],
             [
              1,
              "#f0f921"
             ]
            ],
            "type": "histogram2d"
           }
          ],
          "histogram2dcontour": [
           {
            "colorbar": {
             "outlinewidth": 0,
             "ticks": ""
            },
            "colorscale": [
             [
              0,
              "#0d0887"
             ],
             [
              0.1111111111111111,
              "#46039f"
             ],
             [
              0.2222222222222222,
              "#7201a8"
             ],
             [
              0.3333333333333333,
              "#9c179e"
             ],
             [
              0.4444444444444444,
              "#bd3786"
             ],
             [
              0.5555555555555556,
              "#d8576b"
             ],
             [
              0.6666666666666666,
              "#ed7953"
             ],
             [
              0.7777777777777778,
              "#fb9f3a"
             ],
             [
              0.8888888888888888,
              "#fdca26"
             ],
             [
              1,
              "#f0f921"
             ]
            ],
            "type": "histogram2dcontour"
           }
          ],
          "mesh3d": [
           {
            "colorbar": {
             "outlinewidth": 0,
             "ticks": ""
            },
            "type": "mesh3d"
           }
          ],
          "parcoords": [
           {
            "line": {
             "colorbar": {
              "outlinewidth": 0,
              "ticks": ""
             }
            },
            "type": "parcoords"
           }
          ],
          "pie": [
           {
            "automargin": true,
            "type": "pie"
           }
          ],
          "scatter": [
           {
            "marker": {
             "colorbar": {
              "outlinewidth": 0,
              "ticks": ""
             }
            },
            "type": "scatter"
           }
          ],
          "scatter3d": [
           {
            "line": {
             "colorbar": {
              "outlinewidth": 0,
              "ticks": ""
             }
            },
            "marker": {
             "colorbar": {
              "outlinewidth": 0,
              "ticks": ""
             }
            },
            "type": "scatter3d"
           }
          ],
          "scattercarpet": [
           {
            "marker": {
             "colorbar": {
              "outlinewidth": 0,
              "ticks": ""
             }
            },
            "type": "scattercarpet"
           }
          ],
          "scattergeo": [
           {
            "marker": {
             "colorbar": {
              "outlinewidth": 0,
              "ticks": ""
             }
            },
            "type": "scattergeo"
           }
          ],
          "scattergl": [
           {
            "marker": {
             "colorbar": {
              "outlinewidth": 0,
              "ticks": ""
             }
            },
            "type": "scattergl"
           }
          ],
          "scattermapbox": [
           {
            "marker": {
             "colorbar": {
              "outlinewidth": 0,
              "ticks": ""
             }
            },
            "type": "scattermapbox"
           }
          ],
          "scatterpolar": [
           {
            "marker": {
             "colorbar": {
              "outlinewidth": 0,
              "ticks": ""
             }
            },
            "type": "scatterpolar"
           }
          ],
          "scatterpolargl": [
           {
            "marker": {
             "colorbar": {
              "outlinewidth": 0,
              "ticks": ""
             }
            },
            "type": "scatterpolargl"
           }
          ],
          "scatterternary": [
           {
            "marker": {
             "colorbar": {
              "outlinewidth": 0,
              "ticks": ""
             }
            },
            "type": "scatterternary"
           }
          ],
          "surface": [
           {
            "colorbar": {
             "outlinewidth": 0,
             "ticks": ""
            },
            "colorscale": [
             [
              0,
              "#0d0887"
             ],
             [
              0.1111111111111111,
              "#46039f"
             ],
             [
              0.2222222222222222,
              "#7201a8"
             ],
             [
              0.3333333333333333,
              "#9c179e"
             ],
             [
              0.4444444444444444,
              "#bd3786"
             ],
             [
              0.5555555555555556,
              "#d8576b"
             ],
             [
              0.6666666666666666,
              "#ed7953"
             ],
             [
              0.7777777777777778,
              "#fb9f3a"
             ],
             [
              0.8888888888888888,
              "#fdca26"
             ],
             [
              1,
              "#f0f921"
             ]
            ],
            "type": "surface"
           }
          ],
          "table": [
           {
            "cells": {
             "fill": {
              "color": "#EBF0F8"
             },
             "line": {
              "color": "white"
             }
            },
            "header": {
             "fill": {
              "color": "#C8D4E3"
             },
             "line": {
              "color": "white"
             }
            },
            "type": "table"
           }
          ]
         },
         "layout": {
          "annotationdefaults": {
           "arrowcolor": "#2a3f5f",
           "arrowhead": 0,
           "arrowwidth": 1
          },
          "coloraxis": {
           "colorbar": {
            "outlinewidth": 0,
            "ticks": ""
           }
          },
          "colorscale": {
           "diverging": [
            [
             0,
             "#8e0152"
            ],
            [
             0.1,
             "#c51b7d"
            ],
            [
             0.2,
             "#de77ae"
            ],
            [
             0.3,
             "#f1b6da"
            ],
            [
             0.4,
             "#fde0ef"
            ],
            [
             0.5,
             "#f7f7f7"
            ],
            [
             0.6,
             "#e6f5d0"
            ],
            [
             0.7,
             "#b8e186"
            ],
            [
             0.8,
             "#7fbc41"
            ],
            [
             0.9,
             "#4d9221"
            ],
            [
             1,
             "#276419"
            ]
           ],
           "sequential": [
            [
             0,
             "#0d0887"
            ],
            [
             0.1111111111111111,
             "#46039f"
            ],
            [
             0.2222222222222222,
             "#7201a8"
            ],
            [
             0.3333333333333333,
             "#9c179e"
            ],
            [
             0.4444444444444444,
             "#bd3786"
            ],
            [
             0.5555555555555556,
             "#d8576b"
            ],
            [
             0.6666666666666666,
             "#ed7953"
            ],
            [
             0.7777777777777778,
             "#fb9f3a"
            ],
            [
             0.8888888888888888,
             "#fdca26"
            ],
            [
             1,
             "#f0f921"
            ]
           ],
           "sequentialminus": [
            [
             0,
             "#0d0887"
            ],
            [
             0.1111111111111111,
             "#46039f"
            ],
            [
             0.2222222222222222,
             "#7201a8"
            ],
            [
             0.3333333333333333,
             "#9c179e"
            ],
            [
             0.4444444444444444,
             "#bd3786"
            ],
            [
             0.5555555555555556,
             "#d8576b"
            ],
            [
             0.6666666666666666,
             "#ed7953"
            ],
            [
             0.7777777777777778,
             "#fb9f3a"
            ],
            [
             0.8888888888888888,
             "#fdca26"
            ],
            [
             1,
             "#f0f921"
            ]
           ]
          },
          "colorway": [
           "#636efa",
           "#EF553B",
           "#00cc96",
           "#ab63fa",
           "#FFA15A",
           "#19d3f3",
           "#FF6692",
           "#B6E880",
           "#FF97FF",
           "#FECB52"
          ],
          "font": {
           "color": "#2a3f5f"
          },
          "geo": {
           "bgcolor": "white",
           "lakecolor": "white",
           "landcolor": "#E5ECF6",
           "showlakes": true,
           "showland": true,
           "subunitcolor": "white"
          },
          "hoverlabel": {
           "align": "left"
          },
          "hovermode": "closest",
          "mapbox": {
           "style": "light"
          },
          "paper_bgcolor": "white",
          "plot_bgcolor": "#E5ECF6",
          "polar": {
           "angularaxis": {
            "gridcolor": "white",
            "linecolor": "white",
            "ticks": ""
           },
           "bgcolor": "#E5ECF6",
           "radialaxis": {
            "gridcolor": "white",
            "linecolor": "white",
            "ticks": ""
           }
          },
          "scene": {
           "xaxis": {
            "backgroundcolor": "#E5ECF6",
            "gridcolor": "white",
            "gridwidth": 2,
            "linecolor": "white",
            "showbackground": true,
            "ticks": "",
            "zerolinecolor": "white"
           },
           "yaxis": {
            "backgroundcolor": "#E5ECF6",
            "gridcolor": "white",
            "gridwidth": 2,
            "linecolor": "white",
            "showbackground": true,
            "ticks": "",
            "zerolinecolor": "white"
           },
           "zaxis": {
            "backgroundcolor": "#E5ECF6",
            "gridcolor": "white",
            "gridwidth": 2,
            "linecolor": "white",
            "showbackground": true,
            "ticks": "",
            "zerolinecolor": "white"
           }
          },
          "shapedefaults": {
           "line": {
            "color": "#2a3f5f"
           }
          },
          "ternary": {
           "aaxis": {
            "gridcolor": "white",
            "linecolor": "white",
            "ticks": ""
           },
           "baxis": {
            "gridcolor": "white",
            "linecolor": "white",
            "ticks": ""
           },
           "bgcolor": "#E5ECF6",
           "caxis": {
            "gridcolor": "white",
            "linecolor": "white",
            "ticks": ""
           }
          },
          "title": {
           "x": 0.05
          },
          "xaxis": {
           "automargin": true,
           "gridcolor": "white",
           "linecolor": "white",
           "ticks": "",
           "title": {
            "standoff": 15
           },
           "zerolinecolor": "white",
           "zerolinewidth": 2
          },
          "yaxis": {
           "automargin": true,
           "gridcolor": "white",
           "linecolor": "white",
           "ticks": "",
           "title": {
            "standoff": 15
           },
           "zerolinecolor": "white",
           "zerolinewidth": 2
          }
         }
        },
        "title": {
         "font": {
          "color": "#4D5663"
         }
        },
        "xaxis": {
         "gridcolor": "#E1E5ED",
         "showgrid": true,
         "tickfont": {
          "color": "#4D5663"
         },
         "title": {
          "font": {
           "color": "#4D5663"
          },
          "text": ""
         },
         "zerolinecolor": "#E1E5ED"
        },
        "yaxis": {
         "gridcolor": "#E1E5ED",
         "showgrid": true,
         "tickfont": {
          "color": "#4D5663"
         },
         "title": {
          "font": {
           "color": "#4D5663"
          },
          "text": ""
         },
         "zerolinecolor": "#E1E5ED"
        }
       }
      },
      "text/html": [
       "<div>\n",
       "        \n",
       "        \n",
       "            <div id=\"e925c092-7b59-49a4-b80f-a95291603155\" class=\"plotly-graph-div\" style=\"height:525px; width:100%;\"></div>\n",
       "            <script type=\"text/javascript\">\n",
       "                require([\"plotly\"], function(Plotly) {\n",
       "                    window.PLOTLYENV=window.PLOTLYENV || {};\n",
       "                    window.PLOTLYENV.BASE_URL='https://plot.ly';\n",
       "                    \n",
       "                if (document.getElementById(\"e925c092-7b59-49a4-b80f-a95291603155\")) {\n",
       "                    Plotly.newPlot(\n",
       "                        'e925c092-7b59-49a4-b80f-a95291603155',\n",
       "                        [{\"marker\": {\"color\": [\"rgb(255, 153, 51)\", \"rgb(55, 128, 191)\", \"rgb(50, 171, 96)\", \"rgb(128, 0, 128)\", \"rgb(219, 64, 82)\", \"rgb(0, 128, 128)\", \"rgb(255, 255, 51)\", \"rgb(128, 128, 0)\", \"rgb(251, 128, 114)\", \"rgb(128, 177, 211)\"], \"line\": {\"width\": 1.3}, \"size\": [74, 77, 66, 62, 90, 54, 57, 93, 70, 68, 82, 49, 45, 72, 48, 53, 40, 71, 80, 90, 66, 71, 44, 75, 69, 53, 38, 36, 61, 63, 59, 105, 48, 69, 65, 55, 81, 67, 73, 65, 58, 41, 42, 43, 79, 80, 33, 42, 50, 57, 78, 71, 61, 56, 82, 84, 75, 72, 92, 76, 63, 63, 58, 87, 71, 39, 62, 72, 52, 66, 66, 44, 38, 79, 82, 112, 81, 81, 47, 58, 68, 41, 59, 79, 43, 80, 32, 27, 12, 92, 83, 61, 67, 65, 56, 60, 80, 37, 45, 89], \"symbol\": \"circle\"}, \"mode\": \"markers\", \"text\": \"\", \"type\": \"scatter\", \"x\": [-0.9093054841012843, 0.6040832399960773, -2.410271137195946, 0.16588443929009308, 1.0852191490067407, 0.6250277127932178, -0.9246067333548268, 1.0805265305902243, 1.5725408394539233, 0.5305774112893745, -1.0968365092075085, 0.358422463579597, -0.23415335588614208, 0.15470064036229597, -1.2258341941415993, 0.2593542310596669, 1.5207292232801048, 0.6937829889514853, -1.064285675230406, -0.44560982863137766, -1.0906263710804303, 1.9665199437015592, -0.3168671019465515, 1.0662884587350903, 0.52274830772359, -0.36628016461133656, -0.8474582771956716, 1.1502604717661162, 1.9461342218110398, -0.4650443159355485, -0.8168701770762032, -1.6513676718383128, 0.03763777500553534, -0.8930695726250423, 0.9944707976208484, -1.0317371061968406, -0.08534728128681522, -0.11154374643876049, -0.41021037304330565, -0.6932234768278271, 0.46269386705795046, -1.2691305767830017, 0.3914823573992438, -0.3325552370346851, 0.4505119668619261, 0.26267163704247304, 0.6146339373666935, -0.00019986832009890844, -0.3562942496957231, 1.1106410349742948, -0.4333466685561677, -0.6433360131302692, -0.8874917160851796, -0.8513536562439611, -0.05277980507992831, 0.9196787192380568, -1.8824712139707094, -0.0027461866850745902, -0.02857973666903494, -0.6041682943303771, 0.5017654389406031, -1.9697355871042415, 0.6538225862413563, 0.7165951809469918, 0.05677784382488556, -1.141078681176908, 1.3054036850528037, 0.8351305395606717, -0.5254041188527706, -0.4577834507066193, -0.8005206812905147, 1.6411028852562852, -1.0179121109648015, -1.100307719569913, 0.24578712452507961, -0.8471375107617793, -0.3786013986846745, -0.7832461028994342, -0.24609091475376293, 2.110724741197031, 0.5651851649423003, -1.6974921370855955, -3.052601304677243, -0.9328402706436525, 0.9777294759588954, -1.3736356963160077, -0.2568197552540412, -0.14252924846144352, -0.23946981078682242, -0.058466871907325725, -0.597456559381562, -2.1389872634159057, 1.402282041961766, 0.5274283741136507, -1.2594196492030272, -0.491214492828783, -1.3984069642976626, -2.4488941051712687, 0.6371774376560045, -1.2528580901560282], \"y\": [1.971440509710332, -0.16847988892318877, 1.0201516777693376, -0.4746460566381103, -0.252233811330853, -0.812181070653521, 0.08607180636893513, -0.02022449530412015, -0.1099275343296199, 0.38663004425284286, -0.526558562979596, 1.8595393195972616, -0.2554254965801771, -0.9141127018210553, 0.06456255996214603, 0.09207005623359946, -0.47783575200149025, 0.09276314732860896, -1.531698896254452, -1.9987393236806141, -0.6049054502346282, 0.8385800455756265, 2.4409277500049287, -0.2651686762903576, -0.07027781766020814, 1.4460735333923849, 0.4062558151378958, 2.9924417578949596, -0.6725291814251461, 0.058275087784900724, -0.7180357045425773, -1.4032200530204344, -0.3150288706370873, 0.47758875464697453, -0.8269771217614604, 0.48172496799817244, -0.7453485529280233, 2.2103985684031424, -0.6512343240750648, -1.0761589643558305, -0.3126827200482146, -0.7707723938441469, 0.03761157401678399, 0.38218995607893624, 1.6232168368871616, -0.891991061325372, 0.3081052691599786, -1.6742745874233398, -1.060786505394401, -1.224894225568253, -1.1418576917418655, 0.7776014073963039, -2.0722908928193076, 0.6269795454914691, -0.07363912387427204, 1.0337073250918112, -0.8724424338268957, 0.2944326120520341, 1.1007166889351714, -1.0368444257918097, 0.40581918123186206, 1.3247223197113267, -0.5028529312192868, 0.12826431985038722, -0.41298476969240855, -0.5122594907994159, -0.3767939408544858, -0.5483495771102112, 0.23937351232956053, -0.1237189545660604, -1.6086158300274889, 0.13255921177958058, 0.6236563150256992, -1.7629134825954333, 0.3965543697462627, -0.015246469369710672, 0.6224378394650877, 1.273204770270868, 0.16522803860713273, 0.21631887975698336, 0.49296727355124675, -0.856555842632183, 1.285461938030501, -1.5108562066320856, -0.5654639130801999, -0.2988083381094179, 0.4455217374847133, 0.47958439154709376, 0.7371979486246891, 0.4676197412857697, 0.37248117726012064, -0.06150360692356444, 0.011862471019332303, 1.5119522400199887, -1.542085684981008, 0.45531041190984595, -0.19489834876868772, 0.30160750277151505, -0.04051459233187058, 1.8329947771102855]}],\n",
       "                        {\"legend\": {\"bgcolor\": \"#F5F6F9\", \"font\": {\"color\": \"#4D5663\"}}, \"paper_bgcolor\": \"#F5F6F9\", \"plot_bgcolor\": \"#F5F6F9\", \"template\": {\"data\": {\"bar\": [{\"error_x\": {\"color\": \"#2a3f5f\"}, \"error_y\": {\"color\": \"#2a3f5f\"}, \"marker\": {\"line\": {\"color\": \"#E5ECF6\", \"width\": 0.5}}, \"type\": \"bar\"}], \"barpolar\": [{\"marker\": {\"line\": {\"color\": \"#E5ECF6\", \"width\": 0.5}}, \"type\": \"barpolar\"}], \"carpet\": [{\"aaxis\": {\"endlinecolor\": \"#2a3f5f\", \"gridcolor\": \"white\", \"linecolor\": \"white\", \"minorgridcolor\": \"white\", \"startlinecolor\": \"#2a3f5f\"}, \"baxis\": {\"endlinecolor\": \"#2a3f5f\", \"gridcolor\": \"white\", \"linecolor\": \"white\", \"minorgridcolor\": \"white\", \"startlinecolor\": \"#2a3f5f\"}, \"type\": \"carpet\"}], \"choropleth\": [{\"colorbar\": {\"outlinewidth\": 0, \"ticks\": \"\"}, \"type\": \"choropleth\"}], \"contour\": [{\"colorbar\": {\"outlinewidth\": 0, \"ticks\": \"\"}, \"colorscale\": [[0.0, \"#0d0887\"], [0.1111111111111111, \"#46039f\"], [0.2222222222222222, \"#7201a8\"], [0.3333333333333333, \"#9c179e\"], [0.4444444444444444, \"#bd3786\"], [0.5555555555555556, \"#d8576b\"], [0.6666666666666666, \"#ed7953\"], [0.7777777777777778, \"#fb9f3a\"], [0.8888888888888888, \"#fdca26\"], [1.0, \"#f0f921\"]], \"type\": \"contour\"}], \"contourcarpet\": [{\"colorbar\": {\"outlinewidth\": 0, \"ticks\": \"\"}, \"type\": \"contourcarpet\"}], \"heatmap\": [{\"colorbar\": {\"outlinewidth\": 0, \"ticks\": \"\"}, \"colorscale\": [[0.0, \"#0d0887\"], [0.1111111111111111, \"#46039f\"], [0.2222222222222222, \"#7201a8\"], [0.3333333333333333, \"#9c179e\"], [0.4444444444444444, \"#bd3786\"], [0.5555555555555556, \"#d8576b\"], [0.6666666666666666, \"#ed7953\"], [0.7777777777777778, \"#fb9f3a\"], [0.8888888888888888, \"#fdca26\"], [1.0, \"#f0f921\"]], \"type\": \"heatmap\"}], \"heatmapgl\": [{\"colorbar\": {\"outlinewidth\": 0, \"ticks\": \"\"}, \"colorscale\": [[0.0, \"#0d0887\"], [0.1111111111111111, \"#46039f\"], [0.2222222222222222, \"#7201a8\"], [0.3333333333333333, \"#9c179e\"], [0.4444444444444444, \"#bd3786\"], [0.5555555555555556, \"#d8576b\"], [0.6666666666666666, \"#ed7953\"], [0.7777777777777778, \"#fb9f3a\"], [0.8888888888888888, \"#fdca26\"], [1.0, \"#f0f921\"]], \"type\": \"heatmapgl\"}], \"histogram\": [{\"marker\": {\"colorbar\": {\"outlinewidth\": 0, \"ticks\": \"\"}}, \"type\": \"histogram\"}], \"histogram2d\": [{\"colorbar\": {\"outlinewidth\": 0, \"ticks\": \"\"}, \"colorscale\": [[0.0, \"#0d0887\"], [0.1111111111111111, \"#46039f\"], [0.2222222222222222, \"#7201a8\"], [0.3333333333333333, \"#9c179e\"], [0.4444444444444444, \"#bd3786\"], [0.5555555555555556, \"#d8576b\"], [0.6666666666666666, \"#ed7953\"], [0.7777777777777778, \"#fb9f3a\"], [0.8888888888888888, \"#fdca26\"], [1.0, \"#f0f921\"]], \"type\": \"histogram2d\"}], \"histogram2dcontour\": [{\"colorbar\": {\"outlinewidth\": 0, \"ticks\": \"\"}, \"colorscale\": [[0.0, \"#0d0887\"], [0.1111111111111111, \"#46039f\"], [0.2222222222222222, \"#7201a8\"], [0.3333333333333333, \"#9c179e\"], [0.4444444444444444, \"#bd3786\"], [0.5555555555555556, \"#d8576b\"], [0.6666666666666666, \"#ed7953\"], [0.7777777777777778, \"#fb9f3a\"], [0.8888888888888888, \"#fdca26\"], [1.0, \"#f0f921\"]], \"type\": \"histogram2dcontour\"}], \"mesh3d\": [{\"colorbar\": {\"outlinewidth\": 0, \"ticks\": \"\"}, \"type\": \"mesh3d\"}], \"parcoords\": [{\"line\": {\"colorbar\": {\"outlinewidth\": 0, \"ticks\": \"\"}}, \"type\": \"parcoords\"}], \"pie\": [{\"automargin\": true, \"type\": \"pie\"}], \"scatter\": [{\"marker\": {\"colorbar\": {\"outlinewidth\": 0, \"ticks\": \"\"}}, \"type\": \"scatter\"}], \"scatter3d\": [{\"line\": {\"colorbar\": {\"outlinewidth\": 0, \"ticks\": \"\"}}, \"marker\": {\"colorbar\": {\"outlinewidth\": 0, \"ticks\": \"\"}}, \"type\": \"scatter3d\"}], \"scattercarpet\": [{\"marker\": {\"colorbar\": {\"outlinewidth\": 0, \"ticks\": \"\"}}, \"type\": \"scattercarpet\"}], \"scattergeo\": [{\"marker\": {\"colorbar\": {\"outlinewidth\": 0, \"ticks\": \"\"}}, \"type\": \"scattergeo\"}], \"scattergl\": [{\"marker\": {\"colorbar\": {\"outlinewidth\": 0, \"ticks\": \"\"}}, \"type\": \"scattergl\"}], \"scattermapbox\": [{\"marker\": {\"colorbar\": {\"outlinewidth\": 0, \"ticks\": \"\"}}, \"type\": \"scattermapbox\"}], \"scatterpolar\": [{\"marker\": {\"colorbar\": {\"outlinewidth\": 0, \"ticks\": \"\"}}, \"type\": \"scatterpolar\"}], \"scatterpolargl\": [{\"marker\": {\"colorbar\": {\"outlinewidth\": 0, \"ticks\": \"\"}}, \"type\": \"scatterpolargl\"}], \"scatterternary\": [{\"marker\": {\"colorbar\": {\"outlinewidth\": 0, \"ticks\": \"\"}}, \"type\": \"scatterternary\"}], \"surface\": [{\"colorbar\": {\"outlinewidth\": 0, \"ticks\": \"\"}, \"colorscale\": [[0.0, \"#0d0887\"], [0.1111111111111111, \"#46039f\"], [0.2222222222222222, \"#7201a8\"], [0.3333333333333333, \"#9c179e\"], [0.4444444444444444, \"#bd3786\"], [0.5555555555555556, \"#d8576b\"], [0.6666666666666666, \"#ed7953\"], [0.7777777777777778, \"#fb9f3a\"], [0.8888888888888888, \"#fdca26\"], [1.0, \"#f0f921\"]], \"type\": \"surface\"}], \"table\": [{\"cells\": {\"fill\": {\"color\": \"#EBF0F8\"}, \"line\": {\"color\": \"white\"}}, \"header\": {\"fill\": {\"color\": \"#C8D4E3\"}, \"line\": {\"color\": \"white\"}}, \"type\": \"table\"}]}, \"layout\": {\"annotationdefaults\": {\"arrowcolor\": \"#2a3f5f\", \"arrowhead\": 0, \"arrowwidth\": 1}, \"coloraxis\": {\"colorbar\": {\"outlinewidth\": 0, \"ticks\": \"\"}}, \"colorscale\": {\"diverging\": [[0, \"#8e0152\"], [0.1, \"#c51b7d\"], [0.2, \"#de77ae\"], [0.3, \"#f1b6da\"], [0.4, \"#fde0ef\"], [0.5, \"#f7f7f7\"], [0.6, \"#e6f5d0\"], [0.7, \"#b8e186\"], [0.8, \"#7fbc41\"], [0.9, \"#4d9221\"], [1, \"#276419\"]], \"sequential\": [[0.0, \"#0d0887\"], [0.1111111111111111, \"#46039f\"], [0.2222222222222222, \"#7201a8\"], [0.3333333333333333, \"#9c179e\"], [0.4444444444444444, \"#bd3786\"], [0.5555555555555556, \"#d8576b\"], [0.6666666666666666, \"#ed7953\"], [0.7777777777777778, \"#fb9f3a\"], [0.8888888888888888, \"#fdca26\"], [1.0, \"#f0f921\"]], \"sequentialminus\": [[0.0, \"#0d0887\"], [0.1111111111111111, \"#46039f\"], [0.2222222222222222, \"#7201a8\"], [0.3333333333333333, \"#9c179e\"], [0.4444444444444444, \"#bd3786\"], [0.5555555555555556, \"#d8576b\"], [0.6666666666666666, \"#ed7953\"], [0.7777777777777778, \"#fb9f3a\"], [0.8888888888888888, \"#fdca26\"], [1.0, \"#f0f921\"]]}, \"colorway\": [\"#636efa\", \"#EF553B\", \"#00cc96\", \"#ab63fa\", \"#FFA15A\", \"#19d3f3\", \"#FF6692\", \"#B6E880\", \"#FF97FF\", \"#FECB52\"], \"font\": {\"color\": \"#2a3f5f\"}, \"geo\": {\"bgcolor\": \"white\", \"lakecolor\": \"white\", \"landcolor\": \"#E5ECF6\", \"showlakes\": true, \"showland\": true, \"subunitcolor\": \"white\"}, \"hoverlabel\": {\"align\": \"left\"}, \"hovermode\": \"closest\", \"mapbox\": {\"style\": \"light\"}, \"paper_bgcolor\": \"white\", \"plot_bgcolor\": \"#E5ECF6\", \"polar\": {\"angularaxis\": {\"gridcolor\": \"white\", \"linecolor\": \"white\", \"ticks\": \"\"}, \"bgcolor\": \"#E5ECF6\", \"radialaxis\": {\"gridcolor\": \"white\", \"linecolor\": \"white\", \"ticks\": \"\"}}, \"scene\": {\"xaxis\": {\"backgroundcolor\": \"#E5ECF6\", \"gridcolor\": \"white\", \"gridwidth\": 2, \"linecolor\": \"white\", \"showbackground\": true, \"ticks\": \"\", \"zerolinecolor\": \"white\"}, \"yaxis\": {\"backgroundcolor\": \"#E5ECF6\", \"gridcolor\": \"white\", \"gridwidth\": 2, \"linecolor\": \"white\", \"showbackground\": true, \"ticks\": \"\", \"zerolinecolor\": \"white\"}, \"zaxis\": {\"backgroundcolor\": \"#E5ECF6\", \"gridcolor\": \"white\", \"gridwidth\": 2, \"linecolor\": \"white\", \"showbackground\": true, \"ticks\": \"\", \"zerolinecolor\": \"white\"}}, \"shapedefaults\": {\"line\": {\"color\": \"#2a3f5f\"}}, \"ternary\": {\"aaxis\": {\"gridcolor\": \"white\", \"linecolor\": \"white\", \"ticks\": \"\"}, \"baxis\": {\"gridcolor\": \"white\", \"linecolor\": \"white\", \"ticks\": \"\"}, \"bgcolor\": \"#E5ECF6\", \"caxis\": {\"gridcolor\": \"white\", \"linecolor\": \"white\", \"ticks\": \"\"}}, \"title\": {\"x\": 0.05}, \"xaxis\": {\"automargin\": true, \"gridcolor\": \"white\", \"linecolor\": \"white\", \"ticks\": \"\", \"title\": {\"standoff\": 15}, \"zerolinecolor\": \"white\", \"zerolinewidth\": 2}, \"yaxis\": {\"automargin\": true, \"gridcolor\": \"white\", \"linecolor\": \"white\", \"ticks\": \"\", \"title\": {\"standoff\": 15}, \"zerolinecolor\": \"white\", \"zerolinewidth\": 2}}}, \"title\": {\"font\": {\"color\": \"#4D5663\"}}, \"xaxis\": {\"gridcolor\": \"#E1E5ED\", \"showgrid\": true, \"tickfont\": {\"color\": \"#4D5663\"}, \"title\": {\"font\": {\"color\": \"#4D5663\"}, \"text\": \"\"}, \"zerolinecolor\": \"#E1E5ED\"}, \"yaxis\": {\"gridcolor\": \"#E1E5ED\", \"showgrid\": true, \"tickfont\": {\"color\": \"#4D5663\"}, \"title\": {\"font\": {\"color\": \"#4D5663\"}, \"text\": \"\"}, \"zerolinecolor\": \"#E1E5ED\"}},\n",
       "                        {\"showLink\": true, \"linkText\": \"Export to plot.ly\", \"plotlyServerURL\": \"https://plot.ly\", \"responsive\": true}\n",
       "                    ).then(function(){\n",
       "                            \n",
       "var gd = document.getElementById('e925c092-7b59-49a4-b80f-a95291603155');\n",
       "var x = new MutationObserver(function (mutations, observer) {{\n",
       "        var display = window.getComputedStyle(gd).display;\n",
       "        if (!display || display === 'none') {{\n",
       "            console.log([gd, 'removed!']);\n",
       "            Plotly.purge(gd);\n",
       "            observer.disconnect();\n",
       "        }}\n",
       "}});\n",
       "\n",
       "// Listen for the removal of the full notebook cells\n",
       "var notebookContainer = gd.closest('#notebook-container');\n",
       "if (notebookContainer) {{\n",
       "    x.observe(notebookContainer, {childList: true});\n",
       "}}\n",
       "\n",
       "// Listen for the clearing of the current output cell\n",
       "var outputEl = gd.closest('.output');\n",
       "if (outputEl) {{\n",
       "    x.observe(outputEl, {childList: true});\n",
       "}}\n",
       "\n",
       "                        })\n",
       "                };\n",
       "                });\n",
       "            </script>\n",
       "        </div>"
      ]
     },
     "metadata": {},
     "output_type": "display_data"
    }
   ],
   "source": [
    "df.iplot(kind='bubble',x='A',y='B',size='C')"
   ]
  },
  {
   "cell_type": "markdown",
   "metadata": {},
   "source": [
    "## scatter_matrix()\n",
    "\n",
    "Similar to sns.pairplot()"
   ]
  },
  {
   "cell_type": "code",
   "execution_count": 35,
   "metadata": {},
   "outputs": [
    {
     "data": {
      "application/vnd.plotly.v1+json": {
       "config": {
        "linkText": "Export to plot.ly",
        "plotlyServerURL": "https://plot.ly",
        "showLink": true
       },
       "data": [
        {
         "histfunc": "count",
         "histnorm": "",
         "marker": {
          "color": "rgba(255, 153, 51, 1.0)",
          "line": {
           "color": "#4D5663",
           "width": 1.3
          }
         },
         "name": "A",
         "nbinsx": 10,
         "opacity": 0.8,
         "orientation": "v",
         "type": "histogram",
         "x": [
          -0.9093054841012843,
          0.6040832399960773,
          -2.410271137195946,
          0.16588443929009308,
          1.0852191490067407,
          0.6250277127932178,
          -0.9246067333548268,
          1.0805265305902243,
          1.5725408394539233,
          0.5305774112893745,
          -1.0968365092075085,
          0.358422463579597,
          -0.23415335588614208,
          0.15470064036229597,
          -1.2258341941415993,
          0.2593542310596669,
          1.5207292232801048,
          0.6937829889514853,
          -1.064285675230406,
          -0.44560982863137766,
          -1.0906263710804303,
          1.9665199437015592,
          -0.3168671019465515,
          1.0662884587350903,
          0.52274830772359,
          -0.36628016461133656,
          -0.8474582771956716,
          1.1502604717661162,
          1.9461342218110398,
          -0.4650443159355485,
          -0.8168701770762032,
          -1.6513676718383128,
          0.03763777500553534,
          -0.8930695726250423,
          0.9944707976208484,
          -1.0317371061968406,
          -0.08534728128681522,
          -0.11154374643876049,
          -0.41021037304330565,
          -0.6932234768278271,
          0.46269386705795046,
          -1.2691305767830017,
          0.3914823573992438,
          -0.3325552370346851,
          0.4505119668619261,
          0.26267163704247304,
          0.6146339373666935,
          -0.00019986832009890844,
          -0.3562942496957231,
          1.1106410349742948,
          -0.4333466685561677,
          -0.6433360131302692,
          -0.8874917160851796,
          -0.8513536562439611,
          -0.05277980507992831,
          0.9196787192380568,
          -1.8824712139707094,
          -0.0027461866850745902,
          -0.02857973666903494,
          -0.6041682943303771,
          0.5017654389406031,
          -1.9697355871042415,
          0.6538225862413563,
          0.7165951809469918,
          0.05677784382488556,
          -1.141078681176908,
          1.3054036850528037,
          0.8351305395606717,
          -0.5254041188527706,
          -0.4577834507066193,
          -0.8005206812905147,
          1.6411028852562852,
          -1.0179121109648015,
          -1.100307719569913,
          0.24578712452507961,
          -0.8471375107617793,
          -0.3786013986846745,
          -0.7832461028994342,
          -0.24609091475376293,
          2.110724741197031,
          0.5651851649423003,
          -1.6974921370855955,
          -3.052601304677243,
          -0.9328402706436525,
          0.9777294759588954,
          -1.3736356963160077,
          -0.2568197552540412,
          -0.14252924846144352,
          -0.23946981078682242,
          -0.058466871907325725,
          -0.597456559381562,
          -2.1389872634159057,
          1.402282041961766,
          0.5274283741136507,
          -1.2594196492030272,
          -0.491214492828783,
          -1.3984069642976626,
          -2.4488941051712687,
          0.6371774376560045,
          -1.2528580901560282
         ],
         "xaxis": "x",
         "yaxis": "y"
        },
        {
         "line": {
          "color": "rgba(128, 128, 128, 1.0)",
          "dash": "solid",
          "shape": "linear",
          "width": 1.3
         },
         "marker": {
          "size": 2,
          "symbol": "circle"
         },
         "mode": "markers",
         "name": "A",
         "text": "",
         "type": "scatter",
         "x": [
          1.971440509710332,
          -0.16847988892318877,
          1.0201516777693376,
          -0.4746460566381103,
          -0.252233811330853,
          -0.812181070653521,
          0.08607180636893513,
          -0.02022449530412015,
          -0.1099275343296199,
          0.38663004425284286,
          -0.526558562979596,
          1.8595393195972616,
          -0.2554254965801771,
          -0.9141127018210553,
          0.06456255996214603,
          0.09207005623359946,
          -0.47783575200149025,
          0.09276314732860896,
          -1.531698896254452,
          -1.9987393236806141,
          -0.6049054502346282,
          0.8385800455756265,
          2.4409277500049287,
          -0.2651686762903576,
          -0.07027781766020814,
          1.4460735333923849,
          0.4062558151378958,
          2.9924417578949596,
          -0.6725291814251461,
          0.058275087784900724,
          -0.7180357045425773,
          -1.4032200530204344,
          -0.3150288706370873,
          0.47758875464697453,
          -0.8269771217614604,
          0.48172496799817244,
          -0.7453485529280233,
          2.2103985684031424,
          -0.6512343240750648,
          -1.0761589643558305,
          -0.3126827200482146,
          -0.7707723938441469,
          0.03761157401678399,
          0.38218995607893624,
          1.6232168368871616,
          -0.891991061325372,
          0.3081052691599786,
          -1.6742745874233398,
          -1.060786505394401,
          -1.224894225568253,
          -1.1418576917418655,
          0.7776014073963039,
          -2.0722908928193076,
          0.6269795454914691,
          -0.07363912387427204,
          1.0337073250918112,
          -0.8724424338268957,
          0.2944326120520341,
          1.1007166889351714,
          -1.0368444257918097,
          0.40581918123186206,
          1.3247223197113267,
          -0.5028529312192868,
          0.12826431985038722,
          -0.41298476969240855,
          -0.5122594907994159,
          -0.3767939408544858,
          -0.5483495771102112,
          0.23937351232956053,
          -0.1237189545660604,
          -1.6086158300274889,
          0.13255921177958058,
          0.6236563150256992,
          -1.7629134825954333,
          0.3965543697462627,
          -0.015246469369710672,
          0.6224378394650877,
          1.273204770270868,
          0.16522803860713273,
          0.21631887975698336,
          0.49296727355124675,
          -0.856555842632183,
          1.285461938030501,
          -1.5108562066320856,
          -0.5654639130801999,
          -0.2988083381094179,
          0.4455217374847133,
          0.47958439154709376,
          0.7371979486246891,
          0.4676197412857697,
          0.37248117726012064,
          -0.06150360692356444,
          0.011862471019332303,
          1.5119522400199887,
          -1.542085684981008,
          0.45531041190984595,
          -0.19489834876868772,
          0.30160750277151505,
          -0.04051459233187058,
          1.8329947771102855
         ],
         "xaxis": "x2",
         "y": [
          -0.9093054841012843,
          0.6040832399960773,
          -2.410271137195946,
          0.16588443929009308,
          1.0852191490067407,
          0.6250277127932178,
          -0.9246067333548268,
          1.0805265305902243,
          1.5725408394539233,
          0.5305774112893745,
          -1.0968365092075085,
          0.358422463579597,
          -0.23415335588614208,
          0.15470064036229597,
          -1.2258341941415993,
          0.2593542310596669,
          1.5207292232801048,
          0.6937829889514853,
          -1.064285675230406,
          -0.44560982863137766,
          -1.0906263710804303,
          1.9665199437015592,
          -0.3168671019465515,
          1.0662884587350903,
          0.52274830772359,
          -0.36628016461133656,
          -0.8474582771956716,
          1.1502604717661162,
          1.9461342218110398,
          -0.4650443159355485,
          -0.8168701770762032,
          -1.6513676718383128,
          0.03763777500553534,
          -0.8930695726250423,
          0.9944707976208484,
          -1.0317371061968406,
          -0.08534728128681522,
          -0.11154374643876049,
          -0.41021037304330565,
          -0.6932234768278271,
          0.46269386705795046,
          -1.2691305767830017,
          0.3914823573992438,
          -0.3325552370346851,
          0.4505119668619261,
          0.26267163704247304,
          0.6146339373666935,
          -0.00019986832009890844,
          -0.3562942496957231,
          1.1106410349742948,
          -0.4333466685561677,
          -0.6433360131302692,
          -0.8874917160851796,
          -0.8513536562439611,
          -0.05277980507992831,
          0.9196787192380568,
          -1.8824712139707094,
          -0.0027461866850745902,
          -0.02857973666903494,
          -0.6041682943303771,
          0.5017654389406031,
          -1.9697355871042415,
          0.6538225862413563,
          0.7165951809469918,
          0.05677784382488556,
          -1.141078681176908,
          1.3054036850528037,
          0.8351305395606717,
          -0.5254041188527706,
          -0.4577834507066193,
          -0.8005206812905147,
          1.6411028852562852,
          -1.0179121109648015,
          -1.100307719569913,
          0.24578712452507961,
          -0.8471375107617793,
          -0.3786013986846745,
          -0.7832461028994342,
          -0.24609091475376293,
          2.110724741197031,
          0.5651851649423003,
          -1.6974921370855955,
          -3.052601304677243,
          -0.9328402706436525,
          0.9777294759588954,
          -1.3736356963160077,
          -0.2568197552540412,
          -0.14252924846144352,
          -0.23946981078682242,
          -0.058466871907325725,
          -0.597456559381562,
          -2.1389872634159057,
          1.402282041961766,
          0.5274283741136507,
          -1.2594196492030272,
          -0.491214492828783,
          -1.3984069642976626,
          -2.4488941051712687,
          0.6371774376560045,
          -1.2528580901560282
         ],
         "yaxis": "y2"
        },
        {
         "line": {
          "color": "rgba(128, 128, 128, 1.0)",
          "dash": "solid",
          "shape": "linear",
          "width": 1.3
         },
         "marker": {
          "size": 2,
          "symbol": "circle"
         },
         "mode": "markers",
         "name": "A",
         "text": "",
         "type": "scatter",
         "x": [
          0.7280667652885545,
          0.8488235899553379,
          0.290987080721703,
          0.07289592702509784,
          1.5712941840611465,
          -0.3503445574341853,
          -0.20906465827915915,
          1.7246981848259362,
          0.47910031798336217,
          0.3859055420108177,
          1.1478919327821941,
          -0.6469019399252434,
          -0.8298435552798016,
          0.6069560798978525,
          -0.6716513170056069,
          -0.44099377084482927,
          -1.1253008953103194,
          0.5181015240074431,
          1.0474795855982406,
          1.5483010108942044,
          0.2766643544476635,
          0.5446276910346245,
          -0.9328439764575173,
          0.7568845978769322,
          0.42254305624882876,
          -0.4378245539651729,
          -1.2086606440341157,
          -1.3156063815688934,
          -0.01846642609983113,
          0.10970827397166491,
          -0.09880585856931799,
          2.3760283971453875,
          -0.716049356152018,
          0.438821511552451,
          0.2338878272126851,
          -0.3154223616652488,
          1.1012203344621132,
          0.349326026393338,
          0.6294033557838192,
          0.24618417293232878,
          -0.1330148585330617,
          -1.0848140949875746,
          -1.0126800068690232,
          -0.9718899662289104,
          0.9544063653537571,
          0.9996722923494628,
          -1.5069089607758692,
          -0.9943443964352677,
          -0.5713285023268356,
          -0.18574285455520928,
          0.9036015588357612,
          0.5294493589722387,
          -0.01474184717698523,
          -0.2599128263966185,
          1.1326800728542001,
          1.260384329503193,
          0.7616637751038151,
          0.5977839325818189,
          1.6513463268850124,
          0.8316537330619864,
          0.11144277773083576,
          0.12112918817911539,
          -0.16953916251036222,
          1.403377118588521,
          0.5276874167214146,
          -1.194826773694459,
          0.08166109182933724,
          0.6202384660207138,
          -0.4970253894088577,
          0.2679870307472513,
          0.2874848816773004,
          -0.9227426553868162,
          -1.2492553769358716,
          0.992746313853953,
          1.1303403711640536,
          2.7161095361645087,
          1.0860151601273755,
          1.096875481725637,
          -0.7496336676945539,
          -0.15863602841746954,
          0.3619174044979912,
          -1.06233723024928,
          -0.10401865778638529,
          0.9666267014317605,
          -0.9648981151836775,
          0.999324014455443,
          -1.551455891751039,
          -1.8417957326728502,
          -2.6510712352965853,
          1.6803324810008309,
          1.1843713170062444,
          0.006932625023387141,
          0.31840781918665645,
          0.2289488826055793,
          -0.24107096166904154,
          -0.027679255150120166,
          1.0397827616934225,
          -1.271033272555595,
          -0.8627298187498355,
          1.4875724471837792
         ],
         "xaxis": "x3",
         "y": [
          -0.9093054841012843,
          0.6040832399960773,
          -2.410271137195946,
          0.16588443929009308,
          1.0852191490067407,
          0.6250277127932178,
          -0.9246067333548268,
          1.0805265305902243,
          1.5725408394539233,
          0.5305774112893745,
          -1.0968365092075085,
          0.358422463579597,
          -0.23415335588614208,
          0.15470064036229597,
          -1.2258341941415993,
          0.2593542310596669,
          1.5207292232801048,
          0.6937829889514853,
          -1.064285675230406,
          -0.44560982863137766,
          -1.0906263710804303,
          1.9665199437015592,
          -0.3168671019465515,
          1.0662884587350903,
          0.52274830772359,
          -0.36628016461133656,
          -0.8474582771956716,
          1.1502604717661162,
          1.9461342218110398,
          -0.4650443159355485,
          -0.8168701770762032,
          -1.6513676718383128,
          0.03763777500553534,
          -0.8930695726250423,
          0.9944707976208484,
          -1.0317371061968406,
          -0.08534728128681522,
          -0.11154374643876049,
          -0.41021037304330565,
          -0.6932234768278271,
          0.46269386705795046,
          -1.2691305767830017,
          0.3914823573992438,
          -0.3325552370346851,
          0.4505119668619261,
          0.26267163704247304,
          0.6146339373666935,
          -0.00019986832009890844,
          -0.3562942496957231,
          1.1106410349742948,
          -0.4333466685561677,
          -0.6433360131302692,
          -0.8874917160851796,
          -0.8513536562439611,
          -0.05277980507992831,
          0.9196787192380568,
          -1.8824712139707094,
          -0.0027461866850745902,
          -0.02857973666903494,
          -0.6041682943303771,
          0.5017654389406031,
          -1.9697355871042415,
          0.6538225862413563,
          0.7165951809469918,
          0.05677784382488556,
          -1.141078681176908,
          1.3054036850528037,
          0.8351305395606717,
          -0.5254041188527706,
          -0.4577834507066193,
          -0.8005206812905147,
          1.6411028852562852,
          -1.0179121109648015,
          -1.100307719569913,
          0.24578712452507961,
          -0.8471375107617793,
          -0.3786013986846745,
          -0.7832461028994342,
          -0.24609091475376293,
          2.110724741197031,
          0.5651851649423003,
          -1.6974921370855955,
          -3.052601304677243,
          -0.9328402706436525,
          0.9777294759588954,
          -1.3736356963160077,
          -0.2568197552540412,
          -0.14252924846144352,
          -0.23946981078682242,
          -0.058466871907325725,
          -0.597456559381562,
          -2.1389872634159057,
          1.402282041961766,
          0.5274283741136507,
          -1.2594196492030272,
          -0.491214492828783,
          -1.3984069642976626,
          -2.4488941051712687,
          0.6371774376560045,
          -1.2528580901560282
         ],
         "yaxis": "y3"
        },
        {
         "line": {
          "color": "rgba(128, 128, 128, 1.0)",
          "dash": "solid",
          "shape": "linear",
          "width": 1.3
         },
         "marker": {
          "size": 2,
          "symbol": "circle"
         },
         "mode": "markers",
         "name": "A",
         "text": "",
         "type": "scatter",
         "x": [
          -0.0597004332272165,
          -0.7270948232657004,
          0.10386741108535118,
          0.8823267315107225,
          1.1239413366995417,
          -0.09000979019462164,
          -0.34064270136513775,
          0.9015586963809795,
          -1.2199166672554982,
          -0.10474960609253045,
          -0.5047368023338258,
          0.9120026789167751,
          0.674039325645774,
          1.0977812334020363,
          0.49075617307552466,
          -0.1825714349285571,
          1.1908785579639265,
          0.9435400510505514,
          -1.1228061375683676,
          -0.4550236033163609,
          0.5103141348300834,
          -0.08371828187615925,
          0.5961862717691772,
          1.4777926677579054,
          1.1662395280911697,
          -0.549894066420653,
          -0.9373220197978973,
          0.26822804305139314,
          1.3441507375524713,
          1.278239178065697,
          0.039557656709048275,
          0.5933236707937817,
          -0.6646795753141186,
          -2.297062643389993,
          -0.534969822905361,
          -1.488671223214322,
          -0.8189963439403524,
          1.7241068058340498,
          -0.7596556222103996,
          -1.9502115782962415,
          0.9831761742342704,
          -0.8345090640057391,
          0.23245482978715487,
          -0.48900878119890073,
          -0.8097729295451747,
          -1.8959697910487932,
          -0.4561478615680612,
          0.4539567661489525,
          0.07085461835479741,
          0.8403631191974654,
          0.9976130864215411,
          0.8285767573404479,
          -0.3449556066740045,
          1.7734608469596895,
          -0.5956584589272034,
          -0.5656892432795249,
          -1.634948108337012,
          -0.9636407636851575,
          1.764519171208656,
          -0.1662788794018256,
          -1.8941894694726702,
          -1.5486643210692401,
          0.13022893710572384,
          1.0301698732465645,
          1.0835499292960724,
          0.9896724958809934,
          -0.3622673939898819,
          -0.3060135868618649,
          -1.1279486634108724,
          -1.0451283293811087,
          1.0098144867890588,
          -1.4443662319195205,
          1.1915349467981744,
          -1.6408370964075916,
          -0.7984635014901174,
          1.1290041958226926,
          -1.0505794139895748,
          -1.435890720587731,
          -1.5483688140960696,
          -1.5841534124611472,
          0.3082967039657568,
          0.19819953977361968,
          -0.5565885705624065,
          1.4520060725936632,
          0.8106534843091644,
          -0.806790992501957,
          -0.5001359388406705,
          -0.9253951481709741,
          0.7573615775820923,
          -0.19743506936780397,
          -1.1159609113830533,
          1.527455572958231,
          0.8126592777281217,
          -0.2823311711029549,
          -1.0244300290041477,
          1.3358593559436946,
          -1.217200545405278,
          -0.2538940489662926,
          -2.180838977190818,
          0.9613927729990254
         ],
         "xaxis": "x4",
         "y": [
          -0.9093054841012843,
          0.6040832399960773,
          -2.410271137195946,
          0.16588443929009308,
          1.0852191490067407,
          0.6250277127932178,
          -0.9246067333548268,
          1.0805265305902243,
          1.5725408394539233,
          0.5305774112893745,
          -1.0968365092075085,
          0.358422463579597,
          -0.23415335588614208,
          0.15470064036229597,
          -1.2258341941415993,
          0.2593542310596669,
          1.5207292232801048,
          0.6937829889514853,
          -1.064285675230406,
          -0.44560982863137766,
          -1.0906263710804303,
          1.9665199437015592,
          -0.3168671019465515,
          1.0662884587350903,
          0.52274830772359,
          -0.36628016461133656,
          -0.8474582771956716,
          1.1502604717661162,
          1.9461342218110398,
          -0.4650443159355485,
          -0.8168701770762032,
          -1.6513676718383128,
          0.03763777500553534,
          -0.8930695726250423,
          0.9944707976208484,
          -1.0317371061968406,
          -0.08534728128681522,
          -0.11154374643876049,
          -0.41021037304330565,
          -0.6932234768278271,
          0.46269386705795046,
          -1.2691305767830017,
          0.3914823573992438,
          -0.3325552370346851,
          0.4505119668619261,
          0.26267163704247304,
          0.6146339373666935,
          -0.00019986832009890844,
          -0.3562942496957231,
          1.1106410349742948,
          -0.4333466685561677,
          -0.6433360131302692,
          -0.8874917160851796,
          -0.8513536562439611,
          -0.05277980507992831,
          0.9196787192380568,
          -1.8824712139707094,
          -0.0027461866850745902,
          -0.02857973666903494,
          -0.6041682943303771,
          0.5017654389406031,
          -1.9697355871042415,
          0.6538225862413563,
          0.7165951809469918,
          0.05677784382488556,
          -1.141078681176908,
          1.3054036850528037,
          0.8351305395606717,
          -0.5254041188527706,
          -0.4577834507066193,
          -0.8005206812905147,
          1.6411028852562852,
          -1.0179121109648015,
          -1.100307719569913,
          0.24578712452507961,
          -0.8471375107617793,
          -0.3786013986846745,
          -0.7832461028994342,
          -0.24609091475376293,
          2.110724741197031,
          0.5651851649423003,
          -1.6974921370855955,
          -3.052601304677243,
          -0.9328402706436525,
          0.9777294759588954,
          -1.3736356963160077,
          -0.2568197552540412,
          -0.14252924846144352,
          -0.23946981078682242,
          -0.058466871907325725,
          -0.597456559381562,
          -2.1389872634159057,
          1.402282041961766,
          0.5274283741136507,
          -1.2594196492030272,
          -0.491214492828783,
          -1.3984069642976626,
          -2.4488941051712687,
          0.6371774376560045,
          -1.2528580901560282
         ],
         "yaxis": "y4"
        },
        {
         "line": {
          "color": "rgba(128, 128, 128, 1.0)",
          "dash": "solid",
          "shape": "linear",
          "width": 1.3
         },
         "marker": {
          "size": 2,
          "symbol": "circle"
         },
         "mode": "markers",
         "name": "B",
         "text": "",
         "type": "scatter",
         "x": [
          -0.9093054841012843,
          0.6040832399960773,
          -2.410271137195946,
          0.16588443929009308,
          1.0852191490067407,
          0.6250277127932178,
          -0.9246067333548268,
          1.0805265305902243,
          1.5725408394539233,
          0.5305774112893745,
          -1.0968365092075085,
          0.358422463579597,
          -0.23415335588614208,
          0.15470064036229597,
          -1.2258341941415993,
          0.2593542310596669,
          1.5207292232801048,
          0.6937829889514853,
          -1.064285675230406,
          -0.44560982863137766,
          -1.0906263710804303,
          1.9665199437015592,
          -0.3168671019465515,
          1.0662884587350903,
          0.52274830772359,
          -0.36628016461133656,
          -0.8474582771956716,
          1.1502604717661162,
          1.9461342218110398,
          -0.4650443159355485,
          -0.8168701770762032,
          -1.6513676718383128,
          0.03763777500553534,
          -0.8930695726250423,
          0.9944707976208484,
          -1.0317371061968406,
          -0.08534728128681522,
          -0.11154374643876049,
          -0.41021037304330565,
          -0.6932234768278271,
          0.46269386705795046,
          -1.2691305767830017,
          0.3914823573992438,
          -0.3325552370346851,
          0.4505119668619261,
          0.26267163704247304,
          0.6146339373666935,
          -0.00019986832009890844,
          -0.3562942496957231,
          1.1106410349742948,
          -0.4333466685561677,
          -0.6433360131302692,
          -0.8874917160851796,
          -0.8513536562439611,
          -0.05277980507992831,
          0.9196787192380568,
          -1.8824712139707094,
          -0.0027461866850745902,
          -0.02857973666903494,
          -0.6041682943303771,
          0.5017654389406031,
          -1.9697355871042415,
          0.6538225862413563,
          0.7165951809469918,
          0.05677784382488556,
          -1.141078681176908,
          1.3054036850528037,
          0.8351305395606717,
          -0.5254041188527706,
          -0.4577834507066193,
          -0.8005206812905147,
          1.6411028852562852,
          -1.0179121109648015,
          -1.100307719569913,
          0.24578712452507961,
          -0.8471375107617793,
          -0.3786013986846745,
          -0.7832461028994342,
          -0.24609091475376293,
          2.110724741197031,
          0.5651851649423003,
          -1.6974921370855955,
          -3.052601304677243,
          -0.9328402706436525,
          0.9777294759588954,
          -1.3736356963160077,
          -0.2568197552540412,
          -0.14252924846144352,
          -0.23946981078682242,
          -0.058466871907325725,
          -0.597456559381562,
          -2.1389872634159057,
          1.402282041961766,
          0.5274283741136507,
          -1.2594196492030272,
          -0.491214492828783,
          -1.3984069642976626,
          -2.4488941051712687,
          0.6371774376560045,
          -1.2528580901560282
         ],
         "xaxis": "x5",
         "y": [
          1.971440509710332,
          -0.16847988892318877,
          1.0201516777693376,
          -0.4746460566381103,
          -0.252233811330853,
          -0.812181070653521,
          0.08607180636893513,
          -0.02022449530412015,
          -0.1099275343296199,
          0.38663004425284286,
          -0.526558562979596,
          1.8595393195972616,
          -0.2554254965801771,
          -0.9141127018210553,
          0.06456255996214603,
          0.09207005623359946,
          -0.47783575200149025,
          0.09276314732860896,
          -1.531698896254452,
          -1.9987393236806141,
          -0.6049054502346282,
          0.8385800455756265,
          2.4409277500049287,
          -0.2651686762903576,
          -0.07027781766020814,
          1.4460735333923849,
          0.4062558151378958,
          2.9924417578949596,
          -0.6725291814251461,
          0.058275087784900724,
          -0.7180357045425773,
          -1.4032200530204344,
          -0.3150288706370873,
          0.47758875464697453,
          -0.8269771217614604,
          0.48172496799817244,
          -0.7453485529280233,
          2.2103985684031424,
          -0.6512343240750648,
          -1.0761589643558305,
          -0.3126827200482146,
          -0.7707723938441469,
          0.03761157401678399,
          0.38218995607893624,
          1.6232168368871616,
          -0.891991061325372,
          0.3081052691599786,
          -1.6742745874233398,
          -1.060786505394401,
          -1.224894225568253,
          -1.1418576917418655,
          0.7776014073963039,
          -2.0722908928193076,
          0.6269795454914691,
          -0.07363912387427204,
          1.0337073250918112,
          -0.8724424338268957,
          0.2944326120520341,
          1.1007166889351714,
          -1.0368444257918097,
          0.40581918123186206,
          1.3247223197113267,
          -0.5028529312192868,
          0.12826431985038722,
          -0.41298476969240855,
          -0.5122594907994159,
          -0.3767939408544858,
          -0.5483495771102112,
          0.23937351232956053,
          -0.1237189545660604,
          -1.6086158300274889,
          0.13255921177958058,
          0.6236563150256992,
          -1.7629134825954333,
          0.3965543697462627,
          -0.015246469369710672,
          0.6224378394650877,
          1.273204770270868,
          0.16522803860713273,
          0.21631887975698336,
          0.49296727355124675,
          -0.856555842632183,
          1.285461938030501,
          -1.5108562066320856,
          -0.5654639130801999,
          -0.2988083381094179,
          0.4455217374847133,
          0.47958439154709376,
          0.7371979486246891,
          0.4676197412857697,
          0.37248117726012064,
          -0.06150360692356444,
          0.011862471019332303,
          1.5119522400199887,
          -1.542085684981008,
          0.45531041190984595,
          -0.19489834876868772,
          0.30160750277151505,
          -0.04051459233187058,
          1.8329947771102855
         ],
         "yaxis": "y5"
        },
        {
         "histfunc": "count",
         "histnorm": "",
         "marker": {
          "color": "rgba(55, 128, 191, 1.0)",
          "line": {
           "color": "#4D5663",
           "width": 1.3
          }
         },
         "name": "B",
         "nbinsx": 10,
         "opacity": 0.8,
         "orientation": "v",
         "type": "histogram",
         "x": [
          1.971440509710332,
          -0.16847988892318877,
          1.0201516777693376,
          -0.4746460566381103,
          -0.252233811330853,
          -0.812181070653521,
          0.08607180636893513,
          -0.02022449530412015,
          -0.1099275343296199,
          0.38663004425284286,
          -0.526558562979596,
          1.8595393195972616,
          -0.2554254965801771,
          -0.9141127018210553,
          0.06456255996214603,
          0.09207005623359946,
          -0.47783575200149025,
          0.09276314732860896,
          -1.531698896254452,
          -1.9987393236806141,
          -0.6049054502346282,
          0.8385800455756265,
          2.4409277500049287,
          -0.2651686762903576,
          -0.07027781766020814,
          1.4460735333923849,
          0.4062558151378958,
          2.9924417578949596,
          -0.6725291814251461,
          0.058275087784900724,
          -0.7180357045425773,
          -1.4032200530204344,
          -0.3150288706370873,
          0.47758875464697453,
          -0.8269771217614604,
          0.48172496799817244,
          -0.7453485529280233,
          2.2103985684031424,
          -0.6512343240750648,
          -1.0761589643558305,
          -0.3126827200482146,
          -0.7707723938441469,
          0.03761157401678399,
          0.38218995607893624,
          1.6232168368871616,
          -0.891991061325372,
          0.3081052691599786,
          -1.6742745874233398,
          -1.060786505394401,
          -1.224894225568253,
          -1.1418576917418655,
          0.7776014073963039,
          -2.0722908928193076,
          0.6269795454914691,
          -0.07363912387427204,
          1.0337073250918112,
          -0.8724424338268957,
          0.2944326120520341,
          1.1007166889351714,
          -1.0368444257918097,
          0.40581918123186206,
          1.3247223197113267,
          -0.5028529312192868,
          0.12826431985038722,
          -0.41298476969240855,
          -0.5122594907994159,
          -0.3767939408544858,
          -0.5483495771102112,
          0.23937351232956053,
          -0.1237189545660604,
          -1.6086158300274889,
          0.13255921177958058,
          0.6236563150256992,
          -1.7629134825954333,
          0.3965543697462627,
          -0.015246469369710672,
          0.6224378394650877,
          1.273204770270868,
          0.16522803860713273,
          0.21631887975698336,
          0.49296727355124675,
          -0.856555842632183,
          1.285461938030501,
          -1.5108562066320856,
          -0.5654639130801999,
          -0.2988083381094179,
          0.4455217374847133,
          0.47958439154709376,
          0.7371979486246891,
          0.4676197412857697,
          0.37248117726012064,
          -0.06150360692356444,
          0.011862471019332303,
          1.5119522400199887,
          -1.542085684981008,
          0.45531041190984595,
          -0.19489834876868772,
          0.30160750277151505,
          -0.04051459233187058,
          1.8329947771102855
         ],
         "xaxis": "x6",
         "yaxis": "y6"
        },
        {
         "line": {
          "color": "rgba(128, 128, 128, 1.0)",
          "dash": "solid",
          "shape": "linear",
          "width": 1.3
         },
         "marker": {
          "size": 2,
          "symbol": "circle"
         },
         "mode": "markers",
         "name": "B",
         "text": "",
         "type": "scatter",
         "x": [
          0.7280667652885545,
          0.8488235899553379,
          0.290987080721703,
          0.07289592702509784,
          1.5712941840611465,
          -0.3503445574341853,
          -0.20906465827915915,
          1.7246981848259362,
          0.47910031798336217,
          0.3859055420108177,
          1.1478919327821941,
          -0.6469019399252434,
          -0.8298435552798016,
          0.6069560798978525,
          -0.6716513170056069,
          -0.44099377084482927,
          -1.1253008953103194,
          0.5181015240074431,
          1.0474795855982406,
          1.5483010108942044,
          0.2766643544476635,
          0.5446276910346245,
          -0.9328439764575173,
          0.7568845978769322,
          0.42254305624882876,
          -0.4378245539651729,
          -1.2086606440341157,
          -1.3156063815688934,
          -0.01846642609983113,
          0.10970827397166491,
          -0.09880585856931799,
          2.3760283971453875,
          -0.716049356152018,
          0.438821511552451,
          0.2338878272126851,
          -0.3154223616652488,
          1.1012203344621132,
          0.349326026393338,
          0.6294033557838192,
          0.24618417293232878,
          -0.1330148585330617,
          -1.0848140949875746,
          -1.0126800068690232,
          -0.9718899662289104,
          0.9544063653537571,
          0.9996722923494628,
          -1.5069089607758692,
          -0.9943443964352677,
          -0.5713285023268356,
          -0.18574285455520928,
          0.9036015588357612,
          0.5294493589722387,
          -0.01474184717698523,
          -0.2599128263966185,
          1.1326800728542001,
          1.260384329503193,
          0.7616637751038151,
          0.5977839325818189,
          1.6513463268850124,
          0.8316537330619864,
          0.11144277773083576,
          0.12112918817911539,
          -0.16953916251036222,
          1.403377118588521,
          0.5276874167214146,
          -1.194826773694459,
          0.08166109182933724,
          0.6202384660207138,
          -0.4970253894088577,
          0.2679870307472513,
          0.2874848816773004,
          -0.9227426553868162,
          -1.2492553769358716,
          0.992746313853953,
          1.1303403711640536,
          2.7161095361645087,
          1.0860151601273755,
          1.096875481725637,
          -0.7496336676945539,
          -0.15863602841746954,
          0.3619174044979912,
          -1.06233723024928,
          -0.10401865778638529,
          0.9666267014317605,
          -0.9648981151836775,
          0.999324014455443,
          -1.551455891751039,
          -1.8417957326728502,
          -2.6510712352965853,
          1.6803324810008309,
          1.1843713170062444,
          0.006932625023387141,
          0.31840781918665645,
          0.2289488826055793,
          -0.24107096166904154,
          -0.027679255150120166,
          1.0397827616934225,
          -1.271033272555595,
          -0.8627298187498355,
          1.4875724471837792
         ],
         "xaxis": "x7",
         "y": [
          1.971440509710332,
          -0.16847988892318877,
          1.0201516777693376,
          -0.4746460566381103,
          -0.252233811330853,
          -0.812181070653521,
          0.08607180636893513,
          -0.02022449530412015,
          -0.1099275343296199,
          0.38663004425284286,
          -0.526558562979596,
          1.8595393195972616,
          -0.2554254965801771,
          -0.9141127018210553,
          0.06456255996214603,
          0.09207005623359946,
          -0.47783575200149025,
          0.09276314732860896,
          -1.531698896254452,
          -1.9987393236806141,
          -0.6049054502346282,
          0.8385800455756265,
          2.4409277500049287,
          -0.2651686762903576,
          -0.07027781766020814,
          1.4460735333923849,
          0.4062558151378958,
          2.9924417578949596,
          -0.6725291814251461,
          0.058275087784900724,
          -0.7180357045425773,
          -1.4032200530204344,
          -0.3150288706370873,
          0.47758875464697453,
          -0.8269771217614604,
          0.48172496799817244,
          -0.7453485529280233,
          2.2103985684031424,
          -0.6512343240750648,
          -1.0761589643558305,
          -0.3126827200482146,
          -0.7707723938441469,
          0.03761157401678399,
          0.38218995607893624,
          1.6232168368871616,
          -0.891991061325372,
          0.3081052691599786,
          -1.6742745874233398,
          -1.060786505394401,
          -1.224894225568253,
          -1.1418576917418655,
          0.7776014073963039,
          -2.0722908928193076,
          0.6269795454914691,
          -0.07363912387427204,
          1.0337073250918112,
          -0.8724424338268957,
          0.2944326120520341,
          1.1007166889351714,
          -1.0368444257918097,
          0.40581918123186206,
          1.3247223197113267,
          -0.5028529312192868,
          0.12826431985038722,
          -0.41298476969240855,
          -0.5122594907994159,
          -0.3767939408544858,
          -0.5483495771102112,
          0.23937351232956053,
          -0.1237189545660604,
          -1.6086158300274889,
          0.13255921177958058,
          0.6236563150256992,
          -1.7629134825954333,
          0.3965543697462627,
          -0.015246469369710672,
          0.6224378394650877,
          1.273204770270868,
          0.16522803860713273,
          0.21631887975698336,
          0.49296727355124675,
          -0.856555842632183,
          1.285461938030501,
          -1.5108562066320856,
          -0.5654639130801999,
          -0.2988083381094179,
          0.4455217374847133,
          0.47958439154709376,
          0.7371979486246891,
          0.4676197412857697,
          0.37248117726012064,
          -0.06150360692356444,
          0.011862471019332303,
          1.5119522400199887,
          -1.542085684981008,
          0.45531041190984595,
          -0.19489834876868772,
          0.30160750277151505,
          -0.04051459233187058,
          1.8329947771102855
         ],
         "yaxis": "y7"
        },
        {
         "line": {
          "color": "rgba(128, 128, 128, 1.0)",
          "dash": "solid",
          "shape": "linear",
          "width": 1.3
         },
         "marker": {
          "size": 2,
          "symbol": "circle"
         },
         "mode": "markers",
         "name": "B",
         "text": "",
         "type": "scatter",
         "x": [
          -0.0597004332272165,
          -0.7270948232657004,
          0.10386741108535118,
          0.8823267315107225,
          1.1239413366995417,
          -0.09000979019462164,
          -0.34064270136513775,
          0.9015586963809795,
          -1.2199166672554982,
          -0.10474960609253045,
          -0.5047368023338258,
          0.9120026789167751,
          0.674039325645774,
          1.0977812334020363,
          0.49075617307552466,
          -0.1825714349285571,
          1.1908785579639265,
          0.9435400510505514,
          -1.1228061375683676,
          -0.4550236033163609,
          0.5103141348300834,
          -0.08371828187615925,
          0.5961862717691772,
          1.4777926677579054,
          1.1662395280911697,
          -0.549894066420653,
          -0.9373220197978973,
          0.26822804305139314,
          1.3441507375524713,
          1.278239178065697,
          0.039557656709048275,
          0.5933236707937817,
          -0.6646795753141186,
          -2.297062643389993,
          -0.534969822905361,
          -1.488671223214322,
          -0.8189963439403524,
          1.7241068058340498,
          -0.7596556222103996,
          -1.9502115782962415,
          0.9831761742342704,
          -0.8345090640057391,
          0.23245482978715487,
          -0.48900878119890073,
          -0.8097729295451747,
          -1.8959697910487932,
          -0.4561478615680612,
          0.4539567661489525,
          0.07085461835479741,
          0.8403631191974654,
          0.9976130864215411,
          0.8285767573404479,
          -0.3449556066740045,
          1.7734608469596895,
          -0.5956584589272034,
          -0.5656892432795249,
          -1.634948108337012,
          -0.9636407636851575,
          1.764519171208656,
          -0.1662788794018256,
          -1.8941894694726702,
          -1.5486643210692401,
          0.13022893710572384,
          1.0301698732465645,
          1.0835499292960724,
          0.9896724958809934,
          -0.3622673939898819,
          -0.3060135868618649,
          -1.1279486634108724,
          -1.0451283293811087,
          1.0098144867890588,
          -1.4443662319195205,
          1.1915349467981744,
          -1.6408370964075916,
          -0.7984635014901174,
          1.1290041958226926,
          -1.0505794139895748,
          -1.435890720587731,
          -1.5483688140960696,
          -1.5841534124611472,
          0.3082967039657568,
          0.19819953977361968,
          -0.5565885705624065,
          1.4520060725936632,
          0.8106534843091644,
          -0.806790992501957,
          -0.5001359388406705,
          -0.9253951481709741,
          0.7573615775820923,
          -0.19743506936780397,
          -1.1159609113830533,
          1.527455572958231,
          0.8126592777281217,
          -0.2823311711029549,
          -1.0244300290041477,
          1.3358593559436946,
          -1.217200545405278,
          -0.2538940489662926,
          -2.180838977190818,
          0.9613927729990254
         ],
         "xaxis": "x8",
         "y": [
          1.971440509710332,
          -0.16847988892318877,
          1.0201516777693376,
          -0.4746460566381103,
          -0.252233811330853,
          -0.812181070653521,
          0.08607180636893513,
          -0.02022449530412015,
          -0.1099275343296199,
          0.38663004425284286,
          -0.526558562979596,
          1.8595393195972616,
          -0.2554254965801771,
          -0.9141127018210553,
          0.06456255996214603,
          0.09207005623359946,
          -0.47783575200149025,
          0.09276314732860896,
          -1.531698896254452,
          -1.9987393236806141,
          -0.6049054502346282,
          0.8385800455756265,
          2.4409277500049287,
          -0.2651686762903576,
          -0.07027781766020814,
          1.4460735333923849,
          0.4062558151378958,
          2.9924417578949596,
          -0.6725291814251461,
          0.058275087784900724,
          -0.7180357045425773,
          -1.4032200530204344,
          -0.3150288706370873,
          0.47758875464697453,
          -0.8269771217614604,
          0.48172496799817244,
          -0.7453485529280233,
          2.2103985684031424,
          -0.6512343240750648,
          -1.0761589643558305,
          -0.3126827200482146,
          -0.7707723938441469,
          0.03761157401678399,
          0.38218995607893624,
          1.6232168368871616,
          -0.891991061325372,
          0.3081052691599786,
          -1.6742745874233398,
          -1.060786505394401,
          -1.224894225568253,
          -1.1418576917418655,
          0.7776014073963039,
          -2.0722908928193076,
          0.6269795454914691,
          -0.07363912387427204,
          1.0337073250918112,
          -0.8724424338268957,
          0.2944326120520341,
          1.1007166889351714,
          -1.0368444257918097,
          0.40581918123186206,
          1.3247223197113267,
          -0.5028529312192868,
          0.12826431985038722,
          -0.41298476969240855,
          -0.5122594907994159,
          -0.3767939408544858,
          -0.5483495771102112,
          0.23937351232956053,
          -0.1237189545660604,
          -1.6086158300274889,
          0.13255921177958058,
          0.6236563150256992,
          -1.7629134825954333,
          0.3965543697462627,
          -0.015246469369710672,
          0.6224378394650877,
          1.273204770270868,
          0.16522803860713273,
          0.21631887975698336,
          0.49296727355124675,
          -0.856555842632183,
          1.285461938030501,
          -1.5108562066320856,
          -0.5654639130801999,
          -0.2988083381094179,
          0.4455217374847133,
          0.47958439154709376,
          0.7371979486246891,
          0.4676197412857697,
          0.37248117726012064,
          -0.06150360692356444,
          0.011862471019332303,
          1.5119522400199887,
          -1.542085684981008,
          0.45531041190984595,
          -0.19489834876868772,
          0.30160750277151505,
          -0.04051459233187058,
          1.8329947771102855
         ],
         "yaxis": "y8"
        },
        {
         "line": {
          "color": "rgba(128, 128, 128, 1.0)",
          "dash": "solid",
          "shape": "linear",
          "width": 1.3
         },
         "marker": {
          "size": 2,
          "symbol": "circle"
         },
         "mode": "markers",
         "name": "C",
         "text": "",
         "type": "scatter",
         "x": [
          -0.9093054841012843,
          0.6040832399960773,
          -2.410271137195946,
          0.16588443929009308,
          1.0852191490067407,
          0.6250277127932178,
          -0.9246067333548268,
          1.0805265305902243,
          1.5725408394539233,
          0.5305774112893745,
          -1.0968365092075085,
          0.358422463579597,
          -0.23415335588614208,
          0.15470064036229597,
          -1.2258341941415993,
          0.2593542310596669,
          1.5207292232801048,
          0.6937829889514853,
          -1.064285675230406,
          -0.44560982863137766,
          -1.0906263710804303,
          1.9665199437015592,
          -0.3168671019465515,
          1.0662884587350903,
          0.52274830772359,
          -0.36628016461133656,
          -0.8474582771956716,
          1.1502604717661162,
          1.9461342218110398,
          -0.4650443159355485,
          -0.8168701770762032,
          -1.6513676718383128,
          0.03763777500553534,
          -0.8930695726250423,
          0.9944707976208484,
          -1.0317371061968406,
          -0.08534728128681522,
          -0.11154374643876049,
          -0.41021037304330565,
          -0.6932234768278271,
          0.46269386705795046,
          -1.2691305767830017,
          0.3914823573992438,
          -0.3325552370346851,
          0.4505119668619261,
          0.26267163704247304,
          0.6146339373666935,
          -0.00019986832009890844,
          -0.3562942496957231,
          1.1106410349742948,
          -0.4333466685561677,
          -0.6433360131302692,
          -0.8874917160851796,
          -0.8513536562439611,
          -0.05277980507992831,
          0.9196787192380568,
          -1.8824712139707094,
          -0.0027461866850745902,
          -0.02857973666903494,
          -0.6041682943303771,
          0.5017654389406031,
          -1.9697355871042415,
          0.6538225862413563,
          0.7165951809469918,
          0.05677784382488556,
          -1.141078681176908,
          1.3054036850528037,
          0.8351305395606717,
          -0.5254041188527706,
          -0.4577834507066193,
          -0.8005206812905147,
          1.6411028852562852,
          -1.0179121109648015,
          -1.100307719569913,
          0.24578712452507961,
          -0.8471375107617793,
          -0.3786013986846745,
          -0.7832461028994342,
          -0.24609091475376293,
          2.110724741197031,
          0.5651851649423003,
          -1.6974921370855955,
          -3.052601304677243,
          -0.9328402706436525,
          0.9777294759588954,
          -1.3736356963160077,
          -0.2568197552540412,
          -0.14252924846144352,
          -0.23946981078682242,
          -0.058466871907325725,
          -0.597456559381562,
          -2.1389872634159057,
          1.402282041961766,
          0.5274283741136507,
          -1.2594196492030272,
          -0.491214492828783,
          -1.3984069642976626,
          -2.4488941051712687,
          0.6371774376560045,
          -1.2528580901560282
         ],
         "xaxis": "x9",
         "y": [
          0.7280667652885545,
          0.8488235899553379,
          0.290987080721703,
          0.07289592702509784,
          1.5712941840611465,
          -0.3503445574341853,
          -0.20906465827915915,
          1.7246981848259362,
          0.47910031798336217,
          0.3859055420108177,
          1.1478919327821941,
          -0.6469019399252434,
          -0.8298435552798016,
          0.6069560798978525,
          -0.6716513170056069,
          -0.44099377084482927,
          -1.1253008953103194,
          0.5181015240074431,
          1.0474795855982406,
          1.5483010108942044,
          0.2766643544476635,
          0.5446276910346245,
          -0.9328439764575173,
          0.7568845978769322,
          0.42254305624882876,
          -0.4378245539651729,
          -1.2086606440341157,
          -1.3156063815688934,
          -0.01846642609983113,
          0.10970827397166491,
          -0.09880585856931799,
          2.3760283971453875,
          -0.716049356152018,
          0.438821511552451,
          0.2338878272126851,
          -0.3154223616652488,
          1.1012203344621132,
          0.349326026393338,
          0.6294033557838192,
          0.24618417293232878,
          -0.1330148585330617,
          -1.0848140949875746,
          -1.0126800068690232,
          -0.9718899662289104,
          0.9544063653537571,
          0.9996722923494628,
          -1.5069089607758692,
          -0.9943443964352677,
          -0.5713285023268356,
          -0.18574285455520928,
          0.9036015588357612,
          0.5294493589722387,
          -0.01474184717698523,
          -0.2599128263966185,
          1.1326800728542001,
          1.260384329503193,
          0.7616637751038151,
          0.5977839325818189,
          1.6513463268850124,
          0.8316537330619864,
          0.11144277773083576,
          0.12112918817911539,
          -0.16953916251036222,
          1.403377118588521,
          0.5276874167214146,
          -1.194826773694459,
          0.08166109182933724,
          0.6202384660207138,
          -0.4970253894088577,
          0.2679870307472513,
          0.2874848816773004,
          -0.9227426553868162,
          -1.2492553769358716,
          0.992746313853953,
          1.1303403711640536,
          2.7161095361645087,
          1.0860151601273755,
          1.096875481725637,
          -0.7496336676945539,
          -0.15863602841746954,
          0.3619174044979912,
          -1.06233723024928,
          -0.10401865778638529,
          0.9666267014317605,
          -0.9648981151836775,
          0.999324014455443,
          -1.551455891751039,
          -1.8417957326728502,
          -2.6510712352965853,
          1.6803324810008309,
          1.1843713170062444,
          0.006932625023387141,
          0.31840781918665645,
          0.2289488826055793,
          -0.24107096166904154,
          -0.027679255150120166,
          1.0397827616934225,
          -1.271033272555595,
          -0.8627298187498355,
          1.4875724471837792
         ],
         "yaxis": "y9"
        },
        {
         "line": {
          "color": "rgba(128, 128, 128, 1.0)",
          "dash": "solid",
          "shape": "linear",
          "width": 1.3
         },
         "marker": {
          "size": 2,
          "symbol": "circle"
         },
         "mode": "markers",
         "name": "C",
         "text": "",
         "type": "scatter",
         "x": [
          1.971440509710332,
          -0.16847988892318877,
          1.0201516777693376,
          -0.4746460566381103,
          -0.252233811330853,
          -0.812181070653521,
          0.08607180636893513,
          -0.02022449530412015,
          -0.1099275343296199,
          0.38663004425284286,
          -0.526558562979596,
          1.8595393195972616,
          -0.2554254965801771,
          -0.9141127018210553,
          0.06456255996214603,
          0.09207005623359946,
          -0.47783575200149025,
          0.09276314732860896,
          -1.531698896254452,
          -1.9987393236806141,
          -0.6049054502346282,
          0.8385800455756265,
          2.4409277500049287,
          -0.2651686762903576,
          -0.07027781766020814,
          1.4460735333923849,
          0.4062558151378958,
          2.9924417578949596,
          -0.6725291814251461,
          0.058275087784900724,
          -0.7180357045425773,
          -1.4032200530204344,
          -0.3150288706370873,
          0.47758875464697453,
          -0.8269771217614604,
          0.48172496799817244,
          -0.7453485529280233,
          2.2103985684031424,
          -0.6512343240750648,
          -1.0761589643558305,
          -0.3126827200482146,
          -0.7707723938441469,
          0.03761157401678399,
          0.38218995607893624,
          1.6232168368871616,
          -0.891991061325372,
          0.3081052691599786,
          -1.6742745874233398,
          -1.060786505394401,
          -1.224894225568253,
          -1.1418576917418655,
          0.7776014073963039,
          -2.0722908928193076,
          0.6269795454914691,
          -0.07363912387427204,
          1.0337073250918112,
          -0.8724424338268957,
          0.2944326120520341,
          1.1007166889351714,
          -1.0368444257918097,
          0.40581918123186206,
          1.3247223197113267,
          -0.5028529312192868,
          0.12826431985038722,
          -0.41298476969240855,
          -0.5122594907994159,
          -0.3767939408544858,
          -0.5483495771102112,
          0.23937351232956053,
          -0.1237189545660604,
          -1.6086158300274889,
          0.13255921177958058,
          0.6236563150256992,
          -1.7629134825954333,
          0.3965543697462627,
          -0.015246469369710672,
          0.6224378394650877,
          1.273204770270868,
          0.16522803860713273,
          0.21631887975698336,
          0.49296727355124675,
          -0.856555842632183,
          1.285461938030501,
          -1.5108562066320856,
          -0.5654639130801999,
          -0.2988083381094179,
          0.4455217374847133,
          0.47958439154709376,
          0.7371979486246891,
          0.4676197412857697,
          0.37248117726012064,
          -0.06150360692356444,
          0.011862471019332303,
          1.5119522400199887,
          -1.542085684981008,
          0.45531041190984595,
          -0.19489834876868772,
          0.30160750277151505,
          -0.04051459233187058,
          1.8329947771102855
         ],
         "xaxis": "x10",
         "y": [
          0.7280667652885545,
          0.8488235899553379,
          0.290987080721703,
          0.07289592702509784,
          1.5712941840611465,
          -0.3503445574341853,
          -0.20906465827915915,
          1.7246981848259362,
          0.47910031798336217,
          0.3859055420108177,
          1.1478919327821941,
          -0.6469019399252434,
          -0.8298435552798016,
          0.6069560798978525,
          -0.6716513170056069,
          -0.44099377084482927,
          -1.1253008953103194,
          0.5181015240074431,
          1.0474795855982406,
          1.5483010108942044,
          0.2766643544476635,
          0.5446276910346245,
          -0.9328439764575173,
          0.7568845978769322,
          0.42254305624882876,
          -0.4378245539651729,
          -1.2086606440341157,
          -1.3156063815688934,
          -0.01846642609983113,
          0.10970827397166491,
          -0.09880585856931799,
          2.3760283971453875,
          -0.716049356152018,
          0.438821511552451,
          0.2338878272126851,
          -0.3154223616652488,
          1.1012203344621132,
          0.349326026393338,
          0.6294033557838192,
          0.24618417293232878,
          -0.1330148585330617,
          -1.0848140949875746,
          -1.0126800068690232,
          -0.9718899662289104,
          0.9544063653537571,
          0.9996722923494628,
          -1.5069089607758692,
          -0.9943443964352677,
          -0.5713285023268356,
          -0.18574285455520928,
          0.9036015588357612,
          0.5294493589722387,
          -0.01474184717698523,
          -0.2599128263966185,
          1.1326800728542001,
          1.260384329503193,
          0.7616637751038151,
          0.5977839325818189,
          1.6513463268850124,
          0.8316537330619864,
          0.11144277773083576,
          0.12112918817911539,
          -0.16953916251036222,
          1.403377118588521,
          0.5276874167214146,
          -1.194826773694459,
          0.08166109182933724,
          0.6202384660207138,
          -0.4970253894088577,
          0.2679870307472513,
          0.2874848816773004,
          -0.9227426553868162,
          -1.2492553769358716,
          0.992746313853953,
          1.1303403711640536,
          2.7161095361645087,
          1.0860151601273755,
          1.096875481725637,
          -0.7496336676945539,
          -0.15863602841746954,
          0.3619174044979912,
          -1.06233723024928,
          -0.10401865778638529,
          0.9666267014317605,
          -0.9648981151836775,
          0.999324014455443,
          -1.551455891751039,
          -1.8417957326728502,
          -2.6510712352965853,
          1.6803324810008309,
          1.1843713170062444,
          0.006932625023387141,
          0.31840781918665645,
          0.2289488826055793,
          -0.24107096166904154,
          -0.027679255150120166,
          1.0397827616934225,
          -1.271033272555595,
          -0.8627298187498355,
          1.4875724471837792
         ],
         "yaxis": "y10"
        },
        {
         "histfunc": "count",
         "histnorm": "",
         "marker": {
          "color": "rgba(50, 171, 96, 1.0)",
          "line": {
           "color": "#4D5663",
           "width": 1.3
          }
         },
         "name": "C",
         "nbinsx": 10,
         "opacity": 0.8,
         "orientation": "v",
         "type": "histogram",
         "x": [
          0.7280667652885545,
          0.8488235899553379,
          0.290987080721703,
          0.07289592702509784,
          1.5712941840611465,
          -0.3503445574341853,
          -0.20906465827915915,
          1.7246981848259362,
          0.47910031798336217,
          0.3859055420108177,
          1.1478919327821941,
          -0.6469019399252434,
          -0.8298435552798016,
          0.6069560798978525,
          -0.6716513170056069,
          -0.44099377084482927,
          -1.1253008953103194,
          0.5181015240074431,
          1.0474795855982406,
          1.5483010108942044,
          0.2766643544476635,
          0.5446276910346245,
          -0.9328439764575173,
          0.7568845978769322,
          0.42254305624882876,
          -0.4378245539651729,
          -1.2086606440341157,
          -1.3156063815688934,
          -0.01846642609983113,
          0.10970827397166491,
          -0.09880585856931799,
          2.3760283971453875,
          -0.716049356152018,
          0.438821511552451,
          0.2338878272126851,
          -0.3154223616652488,
          1.1012203344621132,
          0.349326026393338,
          0.6294033557838192,
          0.24618417293232878,
          -0.1330148585330617,
          -1.0848140949875746,
          -1.0126800068690232,
          -0.9718899662289104,
          0.9544063653537571,
          0.9996722923494628,
          -1.5069089607758692,
          -0.9943443964352677,
          -0.5713285023268356,
          -0.18574285455520928,
          0.9036015588357612,
          0.5294493589722387,
          -0.01474184717698523,
          -0.2599128263966185,
          1.1326800728542001,
          1.260384329503193,
          0.7616637751038151,
          0.5977839325818189,
          1.6513463268850124,
          0.8316537330619864,
          0.11144277773083576,
          0.12112918817911539,
          -0.16953916251036222,
          1.403377118588521,
          0.5276874167214146,
          -1.194826773694459,
          0.08166109182933724,
          0.6202384660207138,
          -0.4970253894088577,
          0.2679870307472513,
          0.2874848816773004,
          -0.9227426553868162,
          -1.2492553769358716,
          0.992746313853953,
          1.1303403711640536,
          2.7161095361645087,
          1.0860151601273755,
          1.096875481725637,
          -0.7496336676945539,
          -0.15863602841746954,
          0.3619174044979912,
          -1.06233723024928,
          -0.10401865778638529,
          0.9666267014317605,
          -0.9648981151836775,
          0.999324014455443,
          -1.551455891751039,
          -1.8417957326728502,
          -2.6510712352965853,
          1.6803324810008309,
          1.1843713170062444,
          0.006932625023387141,
          0.31840781918665645,
          0.2289488826055793,
          -0.24107096166904154,
          -0.027679255150120166,
          1.0397827616934225,
          -1.271033272555595,
          -0.8627298187498355,
          1.4875724471837792
         ],
         "xaxis": "x11",
         "yaxis": "y11"
        },
        {
         "line": {
          "color": "rgba(128, 128, 128, 1.0)",
          "dash": "solid",
          "shape": "linear",
          "width": 1.3
         },
         "marker": {
          "size": 2,
          "symbol": "circle"
         },
         "mode": "markers",
         "name": "C",
         "text": "",
         "type": "scatter",
         "x": [
          -0.0597004332272165,
          -0.7270948232657004,
          0.10386741108535118,
          0.8823267315107225,
          1.1239413366995417,
          -0.09000979019462164,
          -0.34064270136513775,
          0.9015586963809795,
          -1.2199166672554982,
          -0.10474960609253045,
          -0.5047368023338258,
          0.9120026789167751,
          0.674039325645774,
          1.0977812334020363,
          0.49075617307552466,
          -0.1825714349285571,
          1.1908785579639265,
          0.9435400510505514,
          -1.1228061375683676,
          -0.4550236033163609,
          0.5103141348300834,
          -0.08371828187615925,
          0.5961862717691772,
          1.4777926677579054,
          1.1662395280911697,
          -0.549894066420653,
          -0.9373220197978973,
          0.26822804305139314,
          1.3441507375524713,
          1.278239178065697,
          0.039557656709048275,
          0.5933236707937817,
          -0.6646795753141186,
          -2.297062643389993,
          -0.534969822905361,
          -1.488671223214322,
          -0.8189963439403524,
          1.7241068058340498,
          -0.7596556222103996,
          -1.9502115782962415,
          0.9831761742342704,
          -0.8345090640057391,
          0.23245482978715487,
          -0.48900878119890073,
          -0.8097729295451747,
          -1.8959697910487932,
          -0.4561478615680612,
          0.4539567661489525,
          0.07085461835479741,
          0.8403631191974654,
          0.9976130864215411,
          0.8285767573404479,
          -0.3449556066740045,
          1.7734608469596895,
          -0.5956584589272034,
          -0.5656892432795249,
          -1.634948108337012,
          -0.9636407636851575,
          1.764519171208656,
          -0.1662788794018256,
          -1.8941894694726702,
          -1.5486643210692401,
          0.13022893710572384,
          1.0301698732465645,
          1.0835499292960724,
          0.9896724958809934,
          -0.3622673939898819,
          -0.3060135868618649,
          -1.1279486634108724,
          -1.0451283293811087,
          1.0098144867890588,
          -1.4443662319195205,
          1.1915349467981744,
          -1.6408370964075916,
          -0.7984635014901174,
          1.1290041958226926,
          -1.0505794139895748,
          -1.435890720587731,
          -1.5483688140960696,
          -1.5841534124611472,
          0.3082967039657568,
          0.19819953977361968,
          -0.5565885705624065,
          1.4520060725936632,
          0.8106534843091644,
          -0.806790992501957,
          -0.5001359388406705,
          -0.9253951481709741,
          0.7573615775820923,
          -0.19743506936780397,
          -1.1159609113830533,
          1.527455572958231,
          0.8126592777281217,
          -0.2823311711029549,
          -1.0244300290041477,
          1.3358593559436946,
          -1.217200545405278,
          -0.2538940489662926,
          -2.180838977190818,
          0.9613927729990254
         ],
         "xaxis": "x12",
         "y": [
          0.7280667652885545,
          0.8488235899553379,
          0.290987080721703,
          0.07289592702509784,
          1.5712941840611465,
          -0.3503445574341853,
          -0.20906465827915915,
          1.7246981848259362,
          0.47910031798336217,
          0.3859055420108177,
          1.1478919327821941,
          -0.6469019399252434,
          -0.8298435552798016,
          0.6069560798978525,
          -0.6716513170056069,
          -0.44099377084482927,
          -1.1253008953103194,
          0.5181015240074431,
          1.0474795855982406,
          1.5483010108942044,
          0.2766643544476635,
          0.5446276910346245,
          -0.9328439764575173,
          0.7568845978769322,
          0.42254305624882876,
          -0.4378245539651729,
          -1.2086606440341157,
          -1.3156063815688934,
          -0.01846642609983113,
          0.10970827397166491,
          -0.09880585856931799,
          2.3760283971453875,
          -0.716049356152018,
          0.438821511552451,
          0.2338878272126851,
          -0.3154223616652488,
          1.1012203344621132,
          0.349326026393338,
          0.6294033557838192,
          0.24618417293232878,
          -0.1330148585330617,
          -1.0848140949875746,
          -1.0126800068690232,
          -0.9718899662289104,
          0.9544063653537571,
          0.9996722923494628,
          -1.5069089607758692,
          -0.9943443964352677,
          -0.5713285023268356,
          -0.18574285455520928,
          0.9036015588357612,
          0.5294493589722387,
          -0.01474184717698523,
          -0.2599128263966185,
          1.1326800728542001,
          1.260384329503193,
          0.7616637751038151,
          0.5977839325818189,
          1.6513463268850124,
          0.8316537330619864,
          0.11144277773083576,
          0.12112918817911539,
          -0.16953916251036222,
          1.403377118588521,
          0.5276874167214146,
          -1.194826773694459,
          0.08166109182933724,
          0.6202384660207138,
          -0.4970253894088577,
          0.2679870307472513,
          0.2874848816773004,
          -0.9227426553868162,
          -1.2492553769358716,
          0.992746313853953,
          1.1303403711640536,
          2.7161095361645087,
          1.0860151601273755,
          1.096875481725637,
          -0.7496336676945539,
          -0.15863602841746954,
          0.3619174044979912,
          -1.06233723024928,
          -0.10401865778638529,
          0.9666267014317605,
          -0.9648981151836775,
          0.999324014455443,
          -1.551455891751039,
          -1.8417957326728502,
          -2.6510712352965853,
          1.6803324810008309,
          1.1843713170062444,
          0.006932625023387141,
          0.31840781918665645,
          0.2289488826055793,
          -0.24107096166904154,
          -0.027679255150120166,
          1.0397827616934225,
          -1.271033272555595,
          -0.8627298187498355,
          1.4875724471837792
         ],
         "yaxis": "y12"
        },
        {
         "line": {
          "color": "rgba(128, 128, 128, 1.0)",
          "dash": "solid",
          "shape": "linear",
          "width": 1.3
         },
         "marker": {
          "size": 2,
          "symbol": "circle"
         },
         "mode": "markers",
         "name": "D",
         "text": "",
         "type": "scatter",
         "x": [
          -0.9093054841012843,
          0.6040832399960773,
          -2.410271137195946,
          0.16588443929009308,
          1.0852191490067407,
          0.6250277127932178,
          -0.9246067333548268,
          1.0805265305902243,
          1.5725408394539233,
          0.5305774112893745,
          -1.0968365092075085,
          0.358422463579597,
          -0.23415335588614208,
          0.15470064036229597,
          -1.2258341941415993,
          0.2593542310596669,
          1.5207292232801048,
          0.6937829889514853,
          -1.064285675230406,
          -0.44560982863137766,
          -1.0906263710804303,
          1.9665199437015592,
          -0.3168671019465515,
          1.0662884587350903,
          0.52274830772359,
          -0.36628016461133656,
          -0.8474582771956716,
          1.1502604717661162,
          1.9461342218110398,
          -0.4650443159355485,
          -0.8168701770762032,
          -1.6513676718383128,
          0.03763777500553534,
          -0.8930695726250423,
          0.9944707976208484,
          -1.0317371061968406,
          -0.08534728128681522,
          -0.11154374643876049,
          -0.41021037304330565,
          -0.6932234768278271,
          0.46269386705795046,
          -1.2691305767830017,
          0.3914823573992438,
          -0.3325552370346851,
          0.4505119668619261,
          0.26267163704247304,
          0.6146339373666935,
          -0.00019986832009890844,
          -0.3562942496957231,
          1.1106410349742948,
          -0.4333466685561677,
          -0.6433360131302692,
          -0.8874917160851796,
          -0.8513536562439611,
          -0.05277980507992831,
          0.9196787192380568,
          -1.8824712139707094,
          -0.0027461866850745902,
          -0.02857973666903494,
          -0.6041682943303771,
          0.5017654389406031,
          -1.9697355871042415,
          0.6538225862413563,
          0.7165951809469918,
          0.05677784382488556,
          -1.141078681176908,
          1.3054036850528037,
          0.8351305395606717,
          -0.5254041188527706,
          -0.4577834507066193,
          -0.8005206812905147,
          1.6411028852562852,
          -1.0179121109648015,
          -1.100307719569913,
          0.24578712452507961,
          -0.8471375107617793,
          -0.3786013986846745,
          -0.7832461028994342,
          -0.24609091475376293,
          2.110724741197031,
          0.5651851649423003,
          -1.6974921370855955,
          -3.052601304677243,
          -0.9328402706436525,
          0.9777294759588954,
          -1.3736356963160077,
          -0.2568197552540412,
          -0.14252924846144352,
          -0.23946981078682242,
          -0.058466871907325725,
          -0.597456559381562,
          -2.1389872634159057,
          1.402282041961766,
          0.5274283741136507,
          -1.2594196492030272,
          -0.491214492828783,
          -1.3984069642976626,
          -2.4488941051712687,
          0.6371774376560045,
          -1.2528580901560282
         ],
         "xaxis": "x13",
         "y": [
          -0.0597004332272165,
          -0.7270948232657004,
          0.10386741108535118,
          0.8823267315107225,
          1.1239413366995417,
          -0.09000979019462164,
          -0.34064270136513775,
          0.9015586963809795,
          -1.2199166672554982,
          -0.10474960609253045,
          -0.5047368023338258,
          0.9120026789167751,
          0.674039325645774,
          1.0977812334020363,
          0.49075617307552466,
          -0.1825714349285571,
          1.1908785579639265,
          0.9435400510505514,
          -1.1228061375683676,
          -0.4550236033163609,
          0.5103141348300834,
          -0.08371828187615925,
          0.5961862717691772,
          1.4777926677579054,
          1.1662395280911697,
          -0.549894066420653,
          -0.9373220197978973,
          0.26822804305139314,
          1.3441507375524713,
          1.278239178065697,
          0.039557656709048275,
          0.5933236707937817,
          -0.6646795753141186,
          -2.297062643389993,
          -0.534969822905361,
          -1.488671223214322,
          -0.8189963439403524,
          1.7241068058340498,
          -0.7596556222103996,
          -1.9502115782962415,
          0.9831761742342704,
          -0.8345090640057391,
          0.23245482978715487,
          -0.48900878119890073,
          -0.8097729295451747,
          -1.8959697910487932,
          -0.4561478615680612,
          0.4539567661489525,
          0.07085461835479741,
          0.8403631191974654,
          0.9976130864215411,
          0.8285767573404479,
          -0.3449556066740045,
          1.7734608469596895,
          -0.5956584589272034,
          -0.5656892432795249,
          -1.634948108337012,
          -0.9636407636851575,
          1.764519171208656,
          -0.1662788794018256,
          -1.8941894694726702,
          -1.5486643210692401,
          0.13022893710572384,
          1.0301698732465645,
          1.0835499292960724,
          0.9896724958809934,
          -0.3622673939898819,
          -0.3060135868618649,
          -1.1279486634108724,
          -1.0451283293811087,
          1.0098144867890588,
          -1.4443662319195205,
          1.1915349467981744,
          -1.6408370964075916,
          -0.7984635014901174,
          1.1290041958226926,
          -1.0505794139895748,
          -1.435890720587731,
          -1.5483688140960696,
          -1.5841534124611472,
          0.3082967039657568,
          0.19819953977361968,
          -0.5565885705624065,
          1.4520060725936632,
          0.8106534843091644,
          -0.806790992501957,
          -0.5001359388406705,
          -0.9253951481709741,
          0.7573615775820923,
          -0.19743506936780397,
          -1.1159609113830533,
          1.527455572958231,
          0.8126592777281217,
          -0.2823311711029549,
          -1.0244300290041477,
          1.3358593559436946,
          -1.217200545405278,
          -0.2538940489662926,
          -2.180838977190818,
          0.9613927729990254
         ],
         "yaxis": "y13"
        },
        {
         "line": {
          "color": "rgba(128, 128, 128, 1.0)",
          "dash": "solid",
          "shape": "linear",
          "width": 1.3
         },
         "marker": {
          "size": 2,
          "symbol": "circle"
         },
         "mode": "markers",
         "name": "D",
         "text": "",
         "type": "scatter",
         "x": [
          1.971440509710332,
          -0.16847988892318877,
          1.0201516777693376,
          -0.4746460566381103,
          -0.252233811330853,
          -0.812181070653521,
          0.08607180636893513,
          -0.02022449530412015,
          -0.1099275343296199,
          0.38663004425284286,
          -0.526558562979596,
          1.8595393195972616,
          -0.2554254965801771,
          -0.9141127018210553,
          0.06456255996214603,
          0.09207005623359946,
          -0.47783575200149025,
          0.09276314732860896,
          -1.531698896254452,
          -1.9987393236806141,
          -0.6049054502346282,
          0.8385800455756265,
          2.4409277500049287,
          -0.2651686762903576,
          -0.07027781766020814,
          1.4460735333923849,
          0.4062558151378958,
          2.9924417578949596,
          -0.6725291814251461,
          0.058275087784900724,
          -0.7180357045425773,
          -1.4032200530204344,
          -0.3150288706370873,
          0.47758875464697453,
          -0.8269771217614604,
          0.48172496799817244,
          -0.7453485529280233,
          2.2103985684031424,
          -0.6512343240750648,
          -1.0761589643558305,
          -0.3126827200482146,
          -0.7707723938441469,
          0.03761157401678399,
          0.38218995607893624,
          1.6232168368871616,
          -0.891991061325372,
          0.3081052691599786,
          -1.6742745874233398,
          -1.060786505394401,
          -1.224894225568253,
          -1.1418576917418655,
          0.7776014073963039,
          -2.0722908928193076,
          0.6269795454914691,
          -0.07363912387427204,
          1.0337073250918112,
          -0.8724424338268957,
          0.2944326120520341,
          1.1007166889351714,
          -1.0368444257918097,
          0.40581918123186206,
          1.3247223197113267,
          -0.5028529312192868,
          0.12826431985038722,
          -0.41298476969240855,
          -0.5122594907994159,
          -0.3767939408544858,
          -0.5483495771102112,
          0.23937351232956053,
          -0.1237189545660604,
          -1.6086158300274889,
          0.13255921177958058,
          0.6236563150256992,
          -1.7629134825954333,
          0.3965543697462627,
          -0.015246469369710672,
          0.6224378394650877,
          1.273204770270868,
          0.16522803860713273,
          0.21631887975698336,
          0.49296727355124675,
          -0.856555842632183,
          1.285461938030501,
          -1.5108562066320856,
          -0.5654639130801999,
          -0.2988083381094179,
          0.4455217374847133,
          0.47958439154709376,
          0.7371979486246891,
          0.4676197412857697,
          0.37248117726012064,
          -0.06150360692356444,
          0.011862471019332303,
          1.5119522400199887,
          -1.542085684981008,
          0.45531041190984595,
          -0.19489834876868772,
          0.30160750277151505,
          -0.04051459233187058,
          1.8329947771102855
         ],
         "xaxis": "x14",
         "y": [
          -0.0597004332272165,
          -0.7270948232657004,
          0.10386741108535118,
          0.8823267315107225,
          1.1239413366995417,
          -0.09000979019462164,
          -0.34064270136513775,
          0.9015586963809795,
          -1.2199166672554982,
          -0.10474960609253045,
          -0.5047368023338258,
          0.9120026789167751,
          0.674039325645774,
          1.0977812334020363,
          0.49075617307552466,
          -0.1825714349285571,
          1.1908785579639265,
          0.9435400510505514,
          -1.1228061375683676,
          -0.4550236033163609,
          0.5103141348300834,
          -0.08371828187615925,
          0.5961862717691772,
          1.4777926677579054,
          1.1662395280911697,
          -0.549894066420653,
          -0.9373220197978973,
          0.26822804305139314,
          1.3441507375524713,
          1.278239178065697,
          0.039557656709048275,
          0.5933236707937817,
          -0.6646795753141186,
          -2.297062643389993,
          -0.534969822905361,
          -1.488671223214322,
          -0.8189963439403524,
          1.7241068058340498,
          -0.7596556222103996,
          -1.9502115782962415,
          0.9831761742342704,
          -0.8345090640057391,
          0.23245482978715487,
          -0.48900878119890073,
          -0.8097729295451747,
          -1.8959697910487932,
          -0.4561478615680612,
          0.4539567661489525,
          0.07085461835479741,
          0.8403631191974654,
          0.9976130864215411,
          0.8285767573404479,
          -0.3449556066740045,
          1.7734608469596895,
          -0.5956584589272034,
          -0.5656892432795249,
          -1.634948108337012,
          -0.9636407636851575,
          1.764519171208656,
          -0.1662788794018256,
          -1.8941894694726702,
          -1.5486643210692401,
          0.13022893710572384,
          1.0301698732465645,
          1.0835499292960724,
          0.9896724958809934,
          -0.3622673939898819,
          -0.3060135868618649,
          -1.1279486634108724,
          -1.0451283293811087,
          1.0098144867890588,
          -1.4443662319195205,
          1.1915349467981744,
          -1.6408370964075916,
          -0.7984635014901174,
          1.1290041958226926,
          -1.0505794139895748,
          -1.435890720587731,
          -1.5483688140960696,
          -1.5841534124611472,
          0.3082967039657568,
          0.19819953977361968,
          -0.5565885705624065,
          1.4520060725936632,
          0.8106534843091644,
          -0.806790992501957,
          -0.5001359388406705,
          -0.9253951481709741,
          0.7573615775820923,
          -0.19743506936780397,
          -1.1159609113830533,
          1.527455572958231,
          0.8126592777281217,
          -0.2823311711029549,
          -1.0244300290041477,
          1.3358593559436946,
          -1.217200545405278,
          -0.2538940489662926,
          -2.180838977190818,
          0.9613927729990254
         ],
         "yaxis": "y14"
        },
        {
         "line": {
          "color": "rgba(128, 128, 128, 1.0)",
          "dash": "solid",
          "shape": "linear",
          "width": 1.3
         },
         "marker": {
          "size": 2,
          "symbol": "circle"
         },
         "mode": "markers",
         "name": "D",
         "text": "",
         "type": "scatter",
         "x": [
          0.7280667652885545,
          0.8488235899553379,
          0.290987080721703,
          0.07289592702509784,
          1.5712941840611465,
          -0.3503445574341853,
          -0.20906465827915915,
          1.7246981848259362,
          0.47910031798336217,
          0.3859055420108177,
          1.1478919327821941,
          -0.6469019399252434,
          -0.8298435552798016,
          0.6069560798978525,
          -0.6716513170056069,
          -0.44099377084482927,
          -1.1253008953103194,
          0.5181015240074431,
          1.0474795855982406,
          1.5483010108942044,
          0.2766643544476635,
          0.5446276910346245,
          -0.9328439764575173,
          0.7568845978769322,
          0.42254305624882876,
          -0.4378245539651729,
          -1.2086606440341157,
          -1.3156063815688934,
          -0.01846642609983113,
          0.10970827397166491,
          -0.09880585856931799,
          2.3760283971453875,
          -0.716049356152018,
          0.438821511552451,
          0.2338878272126851,
          -0.3154223616652488,
          1.1012203344621132,
          0.349326026393338,
          0.6294033557838192,
          0.24618417293232878,
          -0.1330148585330617,
          -1.0848140949875746,
          -1.0126800068690232,
          -0.9718899662289104,
          0.9544063653537571,
          0.9996722923494628,
          -1.5069089607758692,
          -0.9943443964352677,
          -0.5713285023268356,
          -0.18574285455520928,
          0.9036015588357612,
          0.5294493589722387,
          -0.01474184717698523,
          -0.2599128263966185,
          1.1326800728542001,
          1.260384329503193,
          0.7616637751038151,
          0.5977839325818189,
          1.6513463268850124,
          0.8316537330619864,
          0.11144277773083576,
          0.12112918817911539,
          -0.16953916251036222,
          1.403377118588521,
          0.5276874167214146,
          -1.194826773694459,
          0.08166109182933724,
          0.6202384660207138,
          -0.4970253894088577,
          0.2679870307472513,
          0.2874848816773004,
          -0.9227426553868162,
          -1.2492553769358716,
          0.992746313853953,
          1.1303403711640536,
          2.7161095361645087,
          1.0860151601273755,
          1.096875481725637,
          -0.7496336676945539,
          -0.15863602841746954,
          0.3619174044979912,
          -1.06233723024928,
          -0.10401865778638529,
          0.9666267014317605,
          -0.9648981151836775,
          0.999324014455443,
          -1.551455891751039,
          -1.8417957326728502,
          -2.6510712352965853,
          1.6803324810008309,
          1.1843713170062444,
          0.006932625023387141,
          0.31840781918665645,
          0.2289488826055793,
          -0.24107096166904154,
          -0.027679255150120166,
          1.0397827616934225,
          -1.271033272555595,
          -0.8627298187498355,
          1.4875724471837792
         ],
         "xaxis": "x15",
         "y": [
          -0.0597004332272165,
          -0.7270948232657004,
          0.10386741108535118,
          0.8823267315107225,
          1.1239413366995417,
          -0.09000979019462164,
          -0.34064270136513775,
          0.9015586963809795,
          -1.2199166672554982,
          -0.10474960609253045,
          -0.5047368023338258,
          0.9120026789167751,
          0.674039325645774,
          1.0977812334020363,
          0.49075617307552466,
          -0.1825714349285571,
          1.1908785579639265,
          0.9435400510505514,
          -1.1228061375683676,
          -0.4550236033163609,
          0.5103141348300834,
          -0.08371828187615925,
          0.5961862717691772,
          1.4777926677579054,
          1.1662395280911697,
          -0.549894066420653,
          -0.9373220197978973,
          0.26822804305139314,
          1.3441507375524713,
          1.278239178065697,
          0.039557656709048275,
          0.5933236707937817,
          -0.6646795753141186,
          -2.297062643389993,
          -0.534969822905361,
          -1.488671223214322,
          -0.8189963439403524,
          1.7241068058340498,
          -0.7596556222103996,
          -1.9502115782962415,
          0.9831761742342704,
          -0.8345090640057391,
          0.23245482978715487,
          -0.48900878119890073,
          -0.8097729295451747,
          -1.8959697910487932,
          -0.4561478615680612,
          0.4539567661489525,
          0.07085461835479741,
          0.8403631191974654,
          0.9976130864215411,
          0.8285767573404479,
          -0.3449556066740045,
          1.7734608469596895,
          -0.5956584589272034,
          -0.5656892432795249,
          -1.634948108337012,
          -0.9636407636851575,
          1.764519171208656,
          -0.1662788794018256,
          -1.8941894694726702,
          -1.5486643210692401,
          0.13022893710572384,
          1.0301698732465645,
          1.0835499292960724,
          0.9896724958809934,
          -0.3622673939898819,
          -0.3060135868618649,
          -1.1279486634108724,
          -1.0451283293811087,
          1.0098144867890588,
          -1.4443662319195205,
          1.1915349467981744,
          -1.6408370964075916,
          -0.7984635014901174,
          1.1290041958226926,
          -1.0505794139895748,
          -1.435890720587731,
          -1.5483688140960696,
          -1.5841534124611472,
          0.3082967039657568,
          0.19819953977361968,
          -0.5565885705624065,
          1.4520060725936632,
          0.8106534843091644,
          -0.806790992501957,
          -0.5001359388406705,
          -0.9253951481709741,
          0.7573615775820923,
          -0.19743506936780397,
          -1.1159609113830533,
          1.527455572958231,
          0.8126592777281217,
          -0.2823311711029549,
          -1.0244300290041477,
          1.3358593559436946,
          -1.217200545405278,
          -0.2538940489662926,
          -2.180838977190818,
          0.9613927729990254
         ],
         "yaxis": "y15"
        },
        {
         "histfunc": "count",
         "histnorm": "",
         "marker": {
          "color": "rgba(128, 0, 128, 1.0)",
          "line": {
           "color": "#4D5663",
           "width": 1.3
          }
         },
         "name": "D",
         "nbinsx": 10,
         "opacity": 0.8,
         "orientation": "v",
         "type": "histogram",
         "x": [
          -0.0597004332272165,
          -0.7270948232657004,
          0.10386741108535118,
          0.8823267315107225,
          1.1239413366995417,
          -0.09000979019462164,
          -0.34064270136513775,
          0.9015586963809795,
          -1.2199166672554982,
          -0.10474960609253045,
          -0.5047368023338258,
          0.9120026789167751,
          0.674039325645774,
          1.0977812334020363,
          0.49075617307552466,
          -0.1825714349285571,
          1.1908785579639265,
          0.9435400510505514,
          -1.1228061375683676,
          -0.4550236033163609,
          0.5103141348300834,
          -0.08371828187615925,
          0.5961862717691772,
          1.4777926677579054,
          1.1662395280911697,
          -0.549894066420653,
          -0.9373220197978973,
          0.26822804305139314,
          1.3441507375524713,
          1.278239178065697,
          0.039557656709048275,
          0.5933236707937817,
          -0.6646795753141186,
          -2.297062643389993,
          -0.534969822905361,
          -1.488671223214322,
          -0.8189963439403524,
          1.7241068058340498,
          -0.7596556222103996,
          -1.9502115782962415,
          0.9831761742342704,
          -0.8345090640057391,
          0.23245482978715487,
          -0.48900878119890073,
          -0.8097729295451747,
          -1.8959697910487932,
          -0.4561478615680612,
          0.4539567661489525,
          0.07085461835479741,
          0.8403631191974654,
          0.9976130864215411,
          0.8285767573404479,
          -0.3449556066740045,
          1.7734608469596895,
          -0.5956584589272034,
          -0.5656892432795249,
          -1.634948108337012,
          -0.9636407636851575,
          1.764519171208656,
          -0.1662788794018256,
          -1.8941894694726702,
          -1.5486643210692401,
          0.13022893710572384,
          1.0301698732465645,
          1.0835499292960724,
          0.9896724958809934,
          -0.3622673939898819,
          -0.3060135868618649,
          -1.1279486634108724,
          -1.0451283293811087,
          1.0098144867890588,
          -1.4443662319195205,
          1.1915349467981744,
          -1.6408370964075916,
          -0.7984635014901174,
          1.1290041958226926,
          -1.0505794139895748,
          -1.435890720587731,
          -1.5483688140960696,
          -1.5841534124611472,
          0.3082967039657568,
          0.19819953977361968,
          -0.5565885705624065,
          1.4520060725936632,
          0.8106534843091644,
          -0.806790992501957,
          -0.5001359388406705,
          -0.9253951481709741,
          0.7573615775820923,
          -0.19743506936780397,
          -1.1159609113830533,
          1.527455572958231,
          0.8126592777281217,
          -0.2823311711029549,
          -1.0244300290041477,
          1.3358593559436946,
          -1.217200545405278,
          -0.2538940489662926,
          -2.180838977190818,
          0.9613927729990254
         ],
         "xaxis": "x16",
         "yaxis": "y16"
        }
       ],
       "layout": {
        "bargap": 0.02,
        "legend": {
         "bgcolor": "#F5F6F9",
         "font": {
          "color": "#4D5663"
         }
        },
        "paper_bgcolor": "#F5F6F9",
        "plot_bgcolor": "#F5F6F9",
        "showlegend": false,
        "template": {
         "data": {
          "bar": [
           {
            "error_x": {
             "color": "#2a3f5f"
            },
            "error_y": {
             "color": "#2a3f5f"
            },
            "marker": {
             "line": {
              "color": "#E5ECF6",
              "width": 0.5
             }
            },
            "type": "bar"
           }
          ],
          "barpolar": [
           {
            "marker": {
             "line": {
              "color": "#E5ECF6",
              "width": 0.5
             }
            },
            "type": "barpolar"
           }
          ],
          "carpet": [
           {
            "aaxis": {
             "endlinecolor": "#2a3f5f",
             "gridcolor": "white",
             "linecolor": "white",
             "minorgridcolor": "white",
             "startlinecolor": "#2a3f5f"
            },
            "baxis": {
             "endlinecolor": "#2a3f5f",
             "gridcolor": "white",
             "linecolor": "white",
             "minorgridcolor": "white",
             "startlinecolor": "#2a3f5f"
            },
            "type": "carpet"
           }
          ],
          "choropleth": [
           {
            "colorbar": {
             "outlinewidth": 0,
             "ticks": ""
            },
            "type": "choropleth"
           }
          ],
          "contour": [
           {
            "colorbar": {
             "outlinewidth": 0,
             "ticks": ""
            },
            "colorscale": [
             [
              0,
              "#0d0887"
             ],
             [
              0.1111111111111111,
              "#46039f"
             ],
             [
              0.2222222222222222,
              "#7201a8"
             ],
             [
              0.3333333333333333,
              "#9c179e"
             ],
             [
              0.4444444444444444,
              "#bd3786"
             ],
             [
              0.5555555555555556,
              "#d8576b"
             ],
             [
              0.6666666666666666,
              "#ed7953"
             ],
             [
              0.7777777777777778,
              "#fb9f3a"
             ],
             [
              0.8888888888888888,
              "#fdca26"
             ],
             [
              1,
              "#f0f921"
             ]
            ],
            "type": "contour"
           }
          ],
          "contourcarpet": [
           {
            "colorbar": {
             "outlinewidth": 0,
             "ticks": ""
            },
            "type": "contourcarpet"
           }
          ],
          "heatmap": [
           {
            "colorbar": {
             "outlinewidth": 0,
             "ticks": ""
            },
            "colorscale": [
             [
              0,
              "#0d0887"
             ],
             [
              0.1111111111111111,
              "#46039f"
             ],
             [
              0.2222222222222222,
              "#7201a8"
             ],
             [
              0.3333333333333333,
              "#9c179e"
             ],
             [
              0.4444444444444444,
              "#bd3786"
             ],
             [
              0.5555555555555556,
              "#d8576b"
             ],
             [
              0.6666666666666666,
              "#ed7953"
             ],
             [
              0.7777777777777778,
              "#fb9f3a"
             ],
             [
              0.8888888888888888,
              "#fdca26"
             ],
             [
              1,
              "#f0f921"
             ]
            ],
            "type": "heatmap"
           }
          ],
          "heatmapgl": [
           {
            "colorbar": {
             "outlinewidth": 0,
             "ticks": ""
            },
            "colorscale": [
             [
              0,
              "#0d0887"
             ],
             [
              0.1111111111111111,
              "#46039f"
             ],
             [
              0.2222222222222222,
              "#7201a8"
             ],
             [
              0.3333333333333333,
              "#9c179e"
             ],
             [
              0.4444444444444444,
              "#bd3786"
             ],
             [
              0.5555555555555556,
              "#d8576b"
             ],
             [
              0.6666666666666666,
              "#ed7953"
             ],
             [
              0.7777777777777778,
              "#fb9f3a"
             ],
             [
              0.8888888888888888,
              "#fdca26"
             ],
             [
              1,
              "#f0f921"
             ]
            ],
            "type": "heatmapgl"
           }
          ],
          "histogram": [
           {
            "marker": {
             "colorbar": {
              "outlinewidth": 0,
              "ticks": ""
             }
            },
            "type": "histogram"
           }
          ],
          "histogram2d": [
           {
            "colorbar": {
             "outlinewidth": 0,
             "ticks": ""
            },
            "colorscale": [
             [
              0,
              "#0d0887"
             ],
             [
              0.1111111111111111,
              "#46039f"
             ],
             [
              0.2222222222222222,
              "#7201a8"
             ],
             [
              0.3333333333333333,
              "#9c179e"
             ],
             [
              0.4444444444444444,
              "#bd3786"
             ],
             [
              0.5555555555555556,
              "#d8576b"
             ],
             [
              0.6666666666666666,
              "#ed7953"
             ],
             [
              0.7777777777777778,
              "#fb9f3a"
             ],
             [
              0.8888888888888888,
              "#fdca26"
             ],
             [
              1,
              "#f0f921"
             ]
            ],
            "type": "histogram2d"
           }
          ],
          "histogram2dcontour": [
           {
            "colorbar": {
             "outlinewidth": 0,
             "ticks": ""
            },
            "colorscale": [
             [
              0,
              "#0d0887"
             ],
             [
              0.1111111111111111,
              "#46039f"
             ],
             [
              0.2222222222222222,
              "#7201a8"
             ],
             [
              0.3333333333333333,
              "#9c179e"
             ],
             [
              0.4444444444444444,
              "#bd3786"
             ],
             [
              0.5555555555555556,
              "#d8576b"
             ],
             [
              0.6666666666666666,
              "#ed7953"
             ],
             [
              0.7777777777777778,
              "#fb9f3a"
             ],
             [
              0.8888888888888888,
              "#fdca26"
             ],
             [
              1,
              "#f0f921"
             ]
            ],
            "type": "histogram2dcontour"
           }
          ],
          "mesh3d": [
           {
            "colorbar": {
             "outlinewidth": 0,
             "ticks": ""
            },
            "type": "mesh3d"
           }
          ],
          "parcoords": [
           {
            "line": {
             "colorbar": {
              "outlinewidth": 0,
              "ticks": ""
             }
            },
            "type": "parcoords"
           }
          ],
          "pie": [
           {
            "automargin": true,
            "type": "pie"
           }
          ],
          "scatter": [
           {
            "marker": {
             "colorbar": {
              "outlinewidth": 0,
              "ticks": ""
             }
            },
            "type": "scatter"
           }
          ],
          "scatter3d": [
           {
            "line": {
             "colorbar": {
              "outlinewidth": 0,
              "ticks": ""
             }
            },
            "marker": {
             "colorbar": {
              "outlinewidth": 0,
              "ticks": ""
             }
            },
            "type": "scatter3d"
           }
          ],
          "scattercarpet": [
           {
            "marker": {
             "colorbar": {
              "outlinewidth": 0,
              "ticks": ""
             }
            },
            "type": "scattercarpet"
           }
          ],
          "scattergeo": [
           {
            "marker": {
             "colorbar": {
              "outlinewidth": 0,
              "ticks": ""
             }
            },
            "type": "scattergeo"
           }
          ],
          "scattergl": [
           {
            "marker": {
             "colorbar": {
              "outlinewidth": 0,
              "ticks": ""
             }
            },
            "type": "scattergl"
           }
          ],
          "scattermapbox": [
           {
            "marker": {
             "colorbar": {
              "outlinewidth": 0,
              "ticks": ""
             }
            },
            "type": "scattermapbox"
           }
          ],
          "scatterpolar": [
           {
            "marker": {
             "colorbar": {
              "outlinewidth": 0,
              "ticks": ""
             }
            },
            "type": "scatterpolar"
           }
          ],
          "scatterpolargl": [
           {
            "marker": {
             "colorbar": {
              "outlinewidth": 0,
              "ticks": ""
             }
            },
            "type": "scatterpolargl"
           }
          ],
          "scatterternary": [
           {
            "marker": {
             "colorbar": {
              "outlinewidth": 0,
              "ticks": ""
             }
            },
            "type": "scatterternary"
           }
          ],
          "surface": [
           {
            "colorbar": {
             "outlinewidth": 0,
             "ticks": ""
            },
            "colorscale": [
             [
              0,
              "#0d0887"
             ],
             [
              0.1111111111111111,
              "#46039f"
             ],
             [
              0.2222222222222222,
              "#7201a8"
             ],
             [
              0.3333333333333333,
              "#9c179e"
             ],
             [
              0.4444444444444444,
              "#bd3786"
             ],
             [
              0.5555555555555556,
              "#d8576b"
             ],
             [
              0.6666666666666666,
              "#ed7953"
             ],
             [
              0.7777777777777778,
              "#fb9f3a"
             ],
             [
              0.8888888888888888,
              "#fdca26"
             ],
             [
              1,
              "#f0f921"
             ]
            ],
            "type": "surface"
           }
          ],
          "table": [
           {
            "cells": {
             "fill": {
              "color": "#EBF0F8"
             },
             "line": {
              "color": "white"
             }
            },
            "header": {
             "fill": {
              "color": "#C8D4E3"
             },
             "line": {
              "color": "white"
             }
            },
            "type": "table"
           }
          ]
         },
         "layout": {
          "annotationdefaults": {
           "arrowcolor": "#2a3f5f",
           "arrowhead": 0,
           "arrowwidth": 1
          },
          "coloraxis": {
           "colorbar": {
            "outlinewidth": 0,
            "ticks": ""
           }
          },
          "colorscale": {
           "diverging": [
            [
             0,
             "#8e0152"
            ],
            [
             0.1,
             "#c51b7d"
            ],
            [
             0.2,
             "#de77ae"
            ],
            [
             0.3,
             "#f1b6da"
            ],
            [
             0.4,
             "#fde0ef"
            ],
            [
             0.5,
             "#f7f7f7"
            ],
            [
             0.6,
             "#e6f5d0"
            ],
            [
             0.7,
             "#b8e186"
            ],
            [
             0.8,
             "#7fbc41"
            ],
            [
             0.9,
             "#4d9221"
            ],
            [
             1,
             "#276419"
            ]
           ],
           "sequential": [
            [
             0,
             "#0d0887"
            ],
            [
             0.1111111111111111,
             "#46039f"
            ],
            [
             0.2222222222222222,
             "#7201a8"
            ],
            [
             0.3333333333333333,
             "#9c179e"
            ],
            [
             0.4444444444444444,
             "#bd3786"
            ],
            [
             0.5555555555555556,
             "#d8576b"
            ],
            [
             0.6666666666666666,
             "#ed7953"
            ],
            [
             0.7777777777777778,
             "#fb9f3a"
            ],
            [
             0.8888888888888888,
             "#fdca26"
            ],
            [
             1,
             "#f0f921"
            ]
           ],
           "sequentialminus": [
            [
             0,
             "#0d0887"
            ],
            [
             0.1111111111111111,
             "#46039f"
            ],
            [
             0.2222222222222222,
             "#7201a8"
            ],
            [
             0.3333333333333333,
             "#9c179e"
            ],
            [
             0.4444444444444444,
             "#bd3786"
            ],
            [
             0.5555555555555556,
             "#d8576b"
            ],
            [
             0.6666666666666666,
             "#ed7953"
            ],
            [
             0.7777777777777778,
             "#fb9f3a"
            ],
            [
             0.8888888888888888,
             "#fdca26"
            ],
            [
             1,
             "#f0f921"
            ]
           ]
          },
          "colorway": [
           "#636efa",
           "#EF553B",
           "#00cc96",
           "#ab63fa",
           "#FFA15A",
           "#19d3f3",
           "#FF6692",
           "#B6E880",
           "#FF97FF",
           "#FECB52"
          ],
          "font": {
           "color": "#2a3f5f"
          },
          "geo": {
           "bgcolor": "white",
           "lakecolor": "white",
           "landcolor": "#E5ECF6",
           "showlakes": true,
           "showland": true,
           "subunitcolor": "white"
          },
          "hoverlabel": {
           "align": "left"
          },
          "hovermode": "closest",
          "mapbox": {
           "style": "light"
          },
          "paper_bgcolor": "white",
          "plot_bgcolor": "#E5ECF6",
          "polar": {
           "angularaxis": {
            "gridcolor": "white",
            "linecolor": "white",
            "ticks": ""
           },
           "bgcolor": "#E5ECF6",
           "radialaxis": {
            "gridcolor": "white",
            "linecolor": "white",
            "ticks": ""
           }
          },
          "scene": {
           "xaxis": {
            "backgroundcolor": "#E5ECF6",
            "gridcolor": "white",
            "gridwidth": 2,
            "linecolor": "white",
            "showbackground": true,
            "ticks": "",
            "zerolinecolor": "white"
           },
           "yaxis": {
            "backgroundcolor": "#E5ECF6",
            "gridcolor": "white",
            "gridwidth": 2,
            "linecolor": "white",
            "showbackground": true,
            "ticks": "",
            "zerolinecolor": "white"
           },
           "zaxis": {
            "backgroundcolor": "#E5ECF6",
            "gridcolor": "white",
            "gridwidth": 2,
            "linecolor": "white",
            "showbackground": true,
            "ticks": "",
            "zerolinecolor": "white"
           }
          },
          "shapedefaults": {
           "line": {
            "color": "#2a3f5f"
           }
          },
          "ternary": {
           "aaxis": {
            "gridcolor": "white",
            "linecolor": "white",
            "ticks": ""
           },
           "baxis": {
            "gridcolor": "white",
            "linecolor": "white",
            "ticks": ""
           },
           "bgcolor": "#E5ECF6",
           "caxis": {
            "gridcolor": "white",
            "linecolor": "white",
            "ticks": ""
           }
          },
          "title": {
           "x": 0.05
          },
          "xaxis": {
           "automargin": true,
           "gridcolor": "white",
           "linecolor": "white",
           "ticks": "",
           "title": {
            "standoff": 15
           },
           "zerolinecolor": "white",
           "zerolinewidth": 2
          },
          "yaxis": {
           "automargin": true,
           "gridcolor": "white",
           "linecolor": "white",
           "ticks": "",
           "title": {
            "standoff": 15
           },
           "zerolinecolor": "white",
           "zerolinewidth": 2
          }
         }
        },
        "title": {
         "font": {
          "color": "#4D5663"
         }
        },
        "xaxis": {
         "anchor": "y",
         "domain": [
          0,
          0.2125
         ],
         "gridcolor": "#E1E5ED",
         "showgrid": false,
         "tickfont": {
          "color": "#4D5663"
         },
         "title": {
          "font": {
           "color": "#4D5663"
          },
          "text": ""
         },
         "zerolinecolor": "#E1E5ED"
        },
        "xaxis10": {
         "anchor": "y10",
         "domain": [
          0.2625,
          0.475
         ],
         "gridcolor": "#E1E5ED",
         "showgrid": false,
         "tickfont": {
          "color": "#4D5663"
         },
         "title": {
          "font": {
           "color": "#4D5663"
          },
          "text": ""
         },
         "zerolinecolor": "#E1E5ED"
        },
        "xaxis11": {
         "anchor": "y11",
         "domain": [
          0.525,
          0.7375
         ],
         "gridcolor": "#E1E5ED",
         "showgrid": false,
         "tickfont": {
          "color": "#4D5663"
         },
         "title": {
          "font": {
           "color": "#4D5663"
          },
          "text": ""
         },
         "zerolinecolor": "#E1E5ED"
        },
        "xaxis12": {
         "anchor": "y12",
         "domain": [
          0.7875,
          1
         ],
         "gridcolor": "#E1E5ED",
         "showgrid": false,
         "tickfont": {
          "color": "#4D5663"
         },
         "title": {
          "font": {
           "color": "#4D5663"
          },
          "text": ""
         },
         "zerolinecolor": "#E1E5ED"
        },
        "xaxis13": {
         "anchor": "y13",
         "domain": [
          0,
          0.2125
         ],
         "gridcolor": "#E1E5ED",
         "showgrid": false,
         "tickfont": {
          "color": "#4D5663"
         },
         "title": {
          "font": {
           "color": "#4D5663"
          },
          "text": ""
         },
         "zerolinecolor": "#E1E5ED"
        },
        "xaxis14": {
         "anchor": "y14",
         "domain": [
          0.2625,
          0.475
         ],
         "gridcolor": "#E1E5ED",
         "showgrid": false,
         "tickfont": {
          "color": "#4D5663"
         },
         "title": {
          "font": {
           "color": "#4D5663"
          },
          "text": ""
         },
         "zerolinecolor": "#E1E5ED"
        },
        "xaxis15": {
         "anchor": "y15",
         "domain": [
          0.525,
          0.7375
         ],
         "gridcolor": "#E1E5ED",
         "showgrid": false,
         "tickfont": {
          "color": "#4D5663"
         },
         "title": {
          "font": {
           "color": "#4D5663"
          },
          "text": ""
         },
         "zerolinecolor": "#E1E5ED"
        },
        "xaxis16": {
         "anchor": "y16",
         "domain": [
          0.7875,
          1
         ],
         "gridcolor": "#E1E5ED",
         "showgrid": false,
         "tickfont": {
          "color": "#4D5663"
         },
         "title": {
          "font": {
           "color": "#4D5663"
          },
          "text": ""
         },
         "zerolinecolor": "#E1E5ED"
        },
        "xaxis2": {
         "anchor": "y2",
         "domain": [
          0.2625,
          0.475
         ],
         "gridcolor": "#E1E5ED",
         "showgrid": false,
         "tickfont": {
          "color": "#4D5663"
         },
         "title": {
          "font": {
           "color": "#4D5663"
          },
          "text": ""
         },
         "zerolinecolor": "#E1E5ED"
        },
        "xaxis3": {
         "anchor": "y3",
         "domain": [
          0.525,
          0.7375
         ],
         "gridcolor": "#E1E5ED",
         "showgrid": false,
         "tickfont": {
          "color": "#4D5663"
         },
         "title": {
          "font": {
           "color": "#4D5663"
          },
          "text": ""
         },
         "zerolinecolor": "#E1E5ED"
        },
        "xaxis4": {
         "anchor": "y4",
         "domain": [
          0.7875,
          1
         ],
         "gridcolor": "#E1E5ED",
         "showgrid": false,
         "tickfont": {
          "color": "#4D5663"
         },
         "title": {
          "font": {
           "color": "#4D5663"
          },
          "text": ""
         },
         "zerolinecolor": "#E1E5ED"
        },
        "xaxis5": {
         "anchor": "y5",
         "domain": [
          0,
          0.2125
         ],
         "gridcolor": "#E1E5ED",
         "showgrid": false,
         "tickfont": {
          "color": "#4D5663"
         },
         "title": {
          "font": {
           "color": "#4D5663"
          },
          "text": ""
         },
         "zerolinecolor": "#E1E5ED"
        },
        "xaxis6": {
         "anchor": "y6",
         "domain": [
          0.2625,
          0.475
         ],
         "gridcolor": "#E1E5ED",
         "showgrid": false,
         "tickfont": {
          "color": "#4D5663"
         },
         "title": {
          "font": {
           "color": "#4D5663"
          },
          "text": ""
         },
         "zerolinecolor": "#E1E5ED"
        },
        "xaxis7": {
         "anchor": "y7",
         "domain": [
          0.525,
          0.7375
         ],
         "gridcolor": "#E1E5ED",
         "showgrid": false,
         "tickfont": {
          "color": "#4D5663"
         },
         "title": {
          "font": {
           "color": "#4D5663"
          },
          "text": ""
         },
         "zerolinecolor": "#E1E5ED"
        },
        "xaxis8": {
         "anchor": "y8",
         "domain": [
          0.7875,
          1
         ],
         "gridcolor": "#E1E5ED",
         "showgrid": false,
         "tickfont": {
          "color": "#4D5663"
         },
         "title": {
          "font": {
           "color": "#4D5663"
          },
          "text": ""
         },
         "zerolinecolor": "#E1E5ED"
        },
        "xaxis9": {
         "anchor": "y9",
         "domain": [
          0,
          0.2125
         ],
         "gridcolor": "#E1E5ED",
         "showgrid": false,
         "tickfont": {
          "color": "#4D5663"
         },
         "title": {
          "font": {
           "color": "#4D5663"
          },
          "text": ""
         },
         "zerolinecolor": "#E1E5ED"
        },
        "yaxis": {
         "anchor": "x",
         "domain": [
          0.8025,
          1
         ],
         "gridcolor": "#E1E5ED",
         "showgrid": false,
         "tickfont": {
          "color": "#4D5663"
         },
         "title": {
          "font": {
           "color": "#4D5663"
          },
          "text": ""
         },
         "zerolinecolor": "#E1E5ED"
        },
        "yaxis10": {
         "anchor": "x10",
         "domain": [
          0.2675,
          0.465
         ],
         "gridcolor": "#E1E5ED",
         "showgrid": false,
         "tickfont": {
          "color": "#4D5663"
         },
         "title": {
          "font": {
           "color": "#4D5663"
          },
          "text": ""
         },
         "zerolinecolor": "#E1E5ED"
        },
        "yaxis11": {
         "anchor": "x11",
         "domain": [
          0.2675,
          0.465
         ],
         "gridcolor": "#E1E5ED",
         "showgrid": false,
         "tickfont": {
          "color": "#4D5663"
         },
         "title": {
          "font": {
           "color": "#4D5663"
          },
          "text": ""
         },
         "zerolinecolor": "#E1E5ED"
        },
        "yaxis12": {
         "anchor": "x12",
         "domain": [
          0.2675,
          0.465
         ],
         "gridcolor": "#E1E5ED",
         "showgrid": false,
         "tickfont": {
          "color": "#4D5663"
         },
         "title": {
          "font": {
           "color": "#4D5663"
          },
          "text": ""
         },
         "zerolinecolor": "#E1E5ED"
        },
        "yaxis13": {
         "anchor": "x13",
         "domain": [
          0,
          0.1975
         ],
         "gridcolor": "#E1E5ED",
         "showgrid": false,
         "tickfont": {
          "color": "#4D5663"
         },
         "title": {
          "font": {
           "color": "#4D5663"
          },
          "text": ""
         },
         "zerolinecolor": "#E1E5ED"
        },
        "yaxis14": {
         "anchor": "x14",
         "domain": [
          0,
          0.1975
         ],
         "gridcolor": "#E1E5ED",
         "showgrid": false,
         "tickfont": {
          "color": "#4D5663"
         },
         "title": {
          "font": {
           "color": "#4D5663"
          },
          "text": ""
         },
         "zerolinecolor": "#E1E5ED"
        },
        "yaxis15": {
         "anchor": "x15",
         "domain": [
          0,
          0.1975
         ],
         "gridcolor": "#E1E5ED",
         "showgrid": false,
         "tickfont": {
          "color": "#4D5663"
         },
         "title": {
          "font": {
           "color": "#4D5663"
          },
          "text": ""
         },
         "zerolinecolor": "#E1E5ED"
        },
        "yaxis16": {
         "anchor": "x16",
         "domain": [
          0,
          0.1975
         ],
         "gridcolor": "#E1E5ED",
         "showgrid": false,
         "tickfont": {
          "color": "#4D5663"
         },
         "title": {
          "font": {
           "color": "#4D5663"
          },
          "text": ""
         },
         "zerolinecolor": "#E1E5ED"
        },
        "yaxis2": {
         "anchor": "x2",
         "domain": [
          0.8025,
          1
         ],
         "gridcolor": "#E1E5ED",
         "showgrid": false,
         "tickfont": {
          "color": "#4D5663"
         },
         "title": {
          "font": {
           "color": "#4D5663"
          },
          "text": ""
         },
         "zerolinecolor": "#E1E5ED"
        },
        "yaxis3": {
         "anchor": "x3",
         "domain": [
          0.8025,
          1
         ],
         "gridcolor": "#E1E5ED",
         "showgrid": false,
         "tickfont": {
          "color": "#4D5663"
         },
         "title": {
          "font": {
           "color": "#4D5663"
          },
          "text": ""
         },
         "zerolinecolor": "#E1E5ED"
        },
        "yaxis4": {
         "anchor": "x4",
         "domain": [
          0.8025,
          1
         ],
         "gridcolor": "#E1E5ED",
         "showgrid": false,
         "tickfont": {
          "color": "#4D5663"
         },
         "title": {
          "font": {
           "color": "#4D5663"
          },
          "text": ""
         },
         "zerolinecolor": "#E1E5ED"
        },
        "yaxis5": {
         "anchor": "x5",
         "domain": [
          0.535,
          0.7325
         ],
         "gridcolor": "#E1E5ED",
         "showgrid": false,
         "tickfont": {
          "color": "#4D5663"
         },
         "title": {
          "font": {
           "color": "#4D5663"
          },
          "text": ""
         },
         "zerolinecolor": "#E1E5ED"
        },
        "yaxis6": {
         "anchor": "x6",
         "domain": [
          0.535,
          0.7325
         ],
         "gridcolor": "#E1E5ED",
         "showgrid": false,
         "tickfont": {
          "color": "#4D5663"
         },
         "title": {
          "font": {
           "color": "#4D5663"
          },
          "text": ""
         },
         "zerolinecolor": "#E1E5ED"
        },
        "yaxis7": {
         "anchor": "x7",
         "domain": [
          0.535,
          0.7325
         ],
         "gridcolor": "#E1E5ED",
         "showgrid": false,
         "tickfont": {
          "color": "#4D5663"
         },
         "title": {
          "font": {
           "color": "#4D5663"
          },
          "text": ""
         },
         "zerolinecolor": "#E1E5ED"
        },
        "yaxis8": {
         "anchor": "x8",
         "domain": [
          0.535,
          0.7325
         ],
         "gridcolor": "#E1E5ED",
         "showgrid": false,
         "tickfont": {
          "color": "#4D5663"
         },
         "title": {
          "font": {
           "color": "#4D5663"
          },
          "text": ""
         },
         "zerolinecolor": "#E1E5ED"
        },
        "yaxis9": {
         "anchor": "x9",
         "domain": [
          0.2675,
          0.465
         ],
         "gridcolor": "#E1E5ED",
         "showgrid": false,
         "tickfont": {
          "color": "#4D5663"
         },
         "title": {
          "font": {
           "color": "#4D5663"
          },
          "text": ""
         },
         "zerolinecolor": "#E1E5ED"
        }
       }
      },
      "text/html": [
       "<div>\n",
       "        \n",
       "        \n",
       "            <div id=\"2fab793d-35cc-414f-b691-ed4d6221de5c\" class=\"plotly-graph-div\" style=\"height:525px; width:100%;\"></div>\n",
       "            <script type=\"text/javascript\">\n",
       "                require([\"plotly\"], function(Plotly) {\n",
       "                    window.PLOTLYENV=window.PLOTLYENV || {};\n",
       "                    window.PLOTLYENV.BASE_URL='https://plot.ly';\n",
       "                    \n",
       "                if (document.getElementById(\"2fab793d-35cc-414f-b691-ed4d6221de5c\")) {\n",
       "                    Plotly.newPlot(\n",
       "                        '2fab793d-35cc-414f-b691-ed4d6221de5c',\n",
       "                        [{\"histfunc\": \"count\", \"histnorm\": \"\", \"marker\": {\"color\": \"rgba(255, 153, 51, 1.0)\", \"line\": {\"color\": \"#4D5663\", \"width\": 1.3}}, \"name\": \"A\", \"nbinsx\": 10, \"opacity\": 0.8, \"orientation\": \"v\", \"type\": \"histogram\", \"x\": [-0.9093054841012843, 0.6040832399960773, -2.410271137195946, 0.16588443929009308, 1.0852191490067407, 0.6250277127932178, -0.9246067333548268, 1.0805265305902243, 1.5725408394539233, 0.5305774112893745, -1.0968365092075085, 0.358422463579597, -0.23415335588614208, 0.15470064036229597, -1.2258341941415993, 0.2593542310596669, 1.5207292232801048, 0.6937829889514853, -1.064285675230406, -0.44560982863137766, -1.0906263710804303, 1.9665199437015592, -0.3168671019465515, 1.0662884587350903, 0.52274830772359, -0.36628016461133656, -0.8474582771956716, 1.1502604717661162, 1.9461342218110398, -0.4650443159355485, -0.8168701770762032, -1.6513676718383128, 0.03763777500553534, -0.8930695726250423, 0.9944707976208484, -1.0317371061968406, -0.08534728128681522, -0.11154374643876049, -0.41021037304330565, -0.6932234768278271, 0.46269386705795046, -1.2691305767830017, 0.3914823573992438, -0.3325552370346851, 0.4505119668619261, 0.26267163704247304, 0.6146339373666935, -0.00019986832009890844, -0.3562942496957231, 1.1106410349742948, -0.4333466685561677, -0.6433360131302692, -0.8874917160851796, -0.8513536562439611, -0.05277980507992831, 0.9196787192380568, -1.8824712139707094, -0.0027461866850745902, -0.02857973666903494, -0.6041682943303771, 0.5017654389406031, -1.9697355871042415, 0.6538225862413563, 0.7165951809469918, 0.05677784382488556, -1.141078681176908, 1.3054036850528037, 0.8351305395606717, -0.5254041188527706, -0.4577834507066193, -0.8005206812905147, 1.6411028852562852, -1.0179121109648015, -1.100307719569913, 0.24578712452507961, -0.8471375107617793, -0.3786013986846745, -0.7832461028994342, -0.24609091475376293, 2.110724741197031, 0.5651851649423003, -1.6974921370855955, -3.052601304677243, -0.9328402706436525, 0.9777294759588954, -1.3736356963160077, -0.2568197552540412, -0.14252924846144352, -0.23946981078682242, -0.058466871907325725, -0.597456559381562, -2.1389872634159057, 1.402282041961766, 0.5274283741136507, -1.2594196492030272, -0.491214492828783, -1.3984069642976626, -2.4488941051712687, 0.6371774376560045, -1.2528580901560282], \"xaxis\": \"x\", \"yaxis\": \"y\"}, {\"line\": {\"color\": \"rgba(128, 128, 128, 1.0)\", \"dash\": \"solid\", \"shape\": \"linear\", \"width\": 1.3}, \"marker\": {\"size\": 2, \"symbol\": \"circle\"}, \"mode\": \"markers\", \"name\": \"A\", \"text\": \"\", \"type\": \"scatter\", \"x\": [1.971440509710332, -0.16847988892318877, 1.0201516777693376, -0.4746460566381103, -0.252233811330853, -0.812181070653521, 0.08607180636893513, -0.02022449530412015, -0.1099275343296199, 0.38663004425284286, -0.526558562979596, 1.8595393195972616, -0.2554254965801771, -0.9141127018210553, 0.06456255996214603, 0.09207005623359946, -0.47783575200149025, 0.09276314732860896, -1.531698896254452, -1.9987393236806141, -0.6049054502346282, 0.8385800455756265, 2.4409277500049287, -0.2651686762903576, -0.07027781766020814, 1.4460735333923849, 0.4062558151378958, 2.9924417578949596, -0.6725291814251461, 0.058275087784900724, -0.7180357045425773, -1.4032200530204344, -0.3150288706370873, 0.47758875464697453, -0.8269771217614604, 0.48172496799817244, -0.7453485529280233, 2.2103985684031424, -0.6512343240750648, -1.0761589643558305, -0.3126827200482146, -0.7707723938441469, 0.03761157401678399, 0.38218995607893624, 1.6232168368871616, -0.891991061325372, 0.3081052691599786, -1.6742745874233398, -1.060786505394401, -1.224894225568253, -1.1418576917418655, 0.7776014073963039, -2.0722908928193076, 0.6269795454914691, -0.07363912387427204, 1.0337073250918112, -0.8724424338268957, 0.2944326120520341, 1.1007166889351714, -1.0368444257918097, 0.40581918123186206, 1.3247223197113267, -0.5028529312192868, 0.12826431985038722, -0.41298476969240855, -0.5122594907994159, -0.3767939408544858, -0.5483495771102112, 0.23937351232956053, -0.1237189545660604, -1.6086158300274889, 0.13255921177958058, 0.6236563150256992, -1.7629134825954333, 0.3965543697462627, -0.015246469369710672, 0.6224378394650877, 1.273204770270868, 0.16522803860713273, 0.21631887975698336, 0.49296727355124675, -0.856555842632183, 1.285461938030501, -1.5108562066320856, -0.5654639130801999, -0.2988083381094179, 0.4455217374847133, 0.47958439154709376, 0.7371979486246891, 0.4676197412857697, 0.37248117726012064, -0.06150360692356444, 0.011862471019332303, 1.5119522400199887, -1.542085684981008, 0.45531041190984595, -0.19489834876868772, 0.30160750277151505, -0.04051459233187058, 1.8329947771102855], \"xaxis\": \"x2\", \"y\": [-0.9093054841012843, 0.6040832399960773, -2.410271137195946, 0.16588443929009308, 1.0852191490067407, 0.6250277127932178, -0.9246067333548268, 1.0805265305902243, 1.5725408394539233, 0.5305774112893745, -1.0968365092075085, 0.358422463579597, -0.23415335588614208, 0.15470064036229597, -1.2258341941415993, 0.2593542310596669, 1.5207292232801048, 0.6937829889514853, -1.064285675230406, -0.44560982863137766, -1.0906263710804303, 1.9665199437015592, -0.3168671019465515, 1.0662884587350903, 0.52274830772359, -0.36628016461133656, -0.8474582771956716, 1.1502604717661162, 1.9461342218110398, -0.4650443159355485, -0.8168701770762032, -1.6513676718383128, 0.03763777500553534, -0.8930695726250423, 0.9944707976208484, -1.0317371061968406, -0.08534728128681522, -0.11154374643876049, -0.41021037304330565, -0.6932234768278271, 0.46269386705795046, -1.2691305767830017, 0.3914823573992438, -0.3325552370346851, 0.4505119668619261, 0.26267163704247304, 0.6146339373666935, -0.00019986832009890844, -0.3562942496957231, 1.1106410349742948, -0.4333466685561677, -0.6433360131302692, -0.8874917160851796, -0.8513536562439611, -0.05277980507992831, 0.9196787192380568, -1.8824712139707094, -0.0027461866850745902, -0.02857973666903494, -0.6041682943303771, 0.5017654389406031, -1.9697355871042415, 0.6538225862413563, 0.7165951809469918, 0.05677784382488556, -1.141078681176908, 1.3054036850528037, 0.8351305395606717, -0.5254041188527706, -0.4577834507066193, -0.8005206812905147, 1.6411028852562852, -1.0179121109648015, -1.100307719569913, 0.24578712452507961, -0.8471375107617793, -0.3786013986846745, -0.7832461028994342, -0.24609091475376293, 2.110724741197031, 0.5651851649423003, -1.6974921370855955, -3.052601304677243, -0.9328402706436525, 0.9777294759588954, -1.3736356963160077, -0.2568197552540412, -0.14252924846144352, -0.23946981078682242, -0.058466871907325725, -0.597456559381562, -2.1389872634159057, 1.402282041961766, 0.5274283741136507, -1.2594196492030272, -0.491214492828783, -1.3984069642976626, -2.4488941051712687, 0.6371774376560045, -1.2528580901560282], \"yaxis\": \"y2\"}, {\"line\": {\"color\": \"rgba(128, 128, 128, 1.0)\", \"dash\": \"solid\", \"shape\": \"linear\", \"width\": 1.3}, \"marker\": {\"size\": 2, \"symbol\": \"circle\"}, \"mode\": \"markers\", \"name\": \"A\", \"text\": \"\", \"type\": \"scatter\", \"x\": [0.7280667652885545, 0.8488235899553379, 0.290987080721703, 0.07289592702509784, 1.5712941840611465, -0.3503445574341853, -0.20906465827915915, 1.7246981848259362, 0.47910031798336217, 0.3859055420108177, 1.1478919327821941, -0.6469019399252434, -0.8298435552798016, 0.6069560798978525, -0.6716513170056069, -0.44099377084482927, -1.1253008953103194, 0.5181015240074431, 1.0474795855982406, 1.5483010108942044, 0.2766643544476635, 0.5446276910346245, -0.9328439764575173, 0.7568845978769322, 0.42254305624882876, -0.4378245539651729, -1.2086606440341157, -1.3156063815688934, -0.01846642609983113, 0.10970827397166491, -0.09880585856931799, 2.3760283971453875, -0.716049356152018, 0.438821511552451, 0.2338878272126851, -0.3154223616652488, 1.1012203344621132, 0.349326026393338, 0.6294033557838192, 0.24618417293232878, -0.1330148585330617, -1.0848140949875746, -1.0126800068690232, -0.9718899662289104, 0.9544063653537571, 0.9996722923494628, -1.5069089607758692, -0.9943443964352677, -0.5713285023268356, -0.18574285455520928, 0.9036015588357612, 0.5294493589722387, -0.01474184717698523, -0.2599128263966185, 1.1326800728542001, 1.260384329503193, 0.7616637751038151, 0.5977839325818189, 1.6513463268850124, 0.8316537330619864, 0.11144277773083576, 0.12112918817911539, -0.16953916251036222, 1.403377118588521, 0.5276874167214146, -1.194826773694459, 0.08166109182933724, 0.6202384660207138, -0.4970253894088577, 0.2679870307472513, 0.2874848816773004, -0.9227426553868162, -1.2492553769358716, 0.992746313853953, 1.1303403711640536, 2.7161095361645087, 1.0860151601273755, 1.096875481725637, -0.7496336676945539, -0.15863602841746954, 0.3619174044979912, -1.06233723024928, -0.10401865778638529, 0.9666267014317605, -0.9648981151836775, 0.999324014455443, -1.551455891751039, -1.8417957326728502, -2.6510712352965853, 1.6803324810008309, 1.1843713170062444, 0.006932625023387141, 0.31840781918665645, 0.2289488826055793, -0.24107096166904154, -0.027679255150120166, 1.0397827616934225, -1.271033272555595, -0.8627298187498355, 1.4875724471837792], \"xaxis\": \"x3\", \"y\": [-0.9093054841012843, 0.6040832399960773, -2.410271137195946, 0.16588443929009308, 1.0852191490067407, 0.6250277127932178, -0.9246067333548268, 1.0805265305902243, 1.5725408394539233, 0.5305774112893745, -1.0968365092075085, 0.358422463579597, -0.23415335588614208, 0.15470064036229597, -1.2258341941415993, 0.2593542310596669, 1.5207292232801048, 0.6937829889514853, -1.064285675230406, -0.44560982863137766, -1.0906263710804303, 1.9665199437015592, -0.3168671019465515, 1.0662884587350903, 0.52274830772359, -0.36628016461133656, -0.8474582771956716, 1.1502604717661162, 1.9461342218110398, -0.4650443159355485, -0.8168701770762032, -1.6513676718383128, 0.03763777500553534, -0.8930695726250423, 0.9944707976208484, -1.0317371061968406, -0.08534728128681522, -0.11154374643876049, -0.41021037304330565, -0.6932234768278271, 0.46269386705795046, -1.2691305767830017, 0.3914823573992438, -0.3325552370346851, 0.4505119668619261, 0.26267163704247304, 0.6146339373666935, -0.00019986832009890844, -0.3562942496957231, 1.1106410349742948, -0.4333466685561677, -0.6433360131302692, -0.8874917160851796, -0.8513536562439611, -0.05277980507992831, 0.9196787192380568, -1.8824712139707094, -0.0027461866850745902, -0.02857973666903494, -0.6041682943303771, 0.5017654389406031, -1.9697355871042415, 0.6538225862413563, 0.7165951809469918, 0.05677784382488556, -1.141078681176908, 1.3054036850528037, 0.8351305395606717, -0.5254041188527706, -0.4577834507066193, -0.8005206812905147, 1.6411028852562852, -1.0179121109648015, -1.100307719569913, 0.24578712452507961, -0.8471375107617793, -0.3786013986846745, -0.7832461028994342, -0.24609091475376293, 2.110724741197031, 0.5651851649423003, -1.6974921370855955, -3.052601304677243, -0.9328402706436525, 0.9777294759588954, -1.3736356963160077, -0.2568197552540412, -0.14252924846144352, -0.23946981078682242, -0.058466871907325725, -0.597456559381562, -2.1389872634159057, 1.402282041961766, 0.5274283741136507, -1.2594196492030272, -0.491214492828783, -1.3984069642976626, -2.4488941051712687, 0.6371774376560045, -1.2528580901560282], \"yaxis\": \"y3\"}, {\"line\": {\"color\": \"rgba(128, 128, 128, 1.0)\", \"dash\": \"solid\", \"shape\": \"linear\", \"width\": 1.3}, \"marker\": {\"size\": 2, \"symbol\": \"circle\"}, \"mode\": \"markers\", \"name\": \"A\", \"text\": \"\", \"type\": \"scatter\", \"x\": [-0.0597004332272165, -0.7270948232657004, 0.10386741108535118, 0.8823267315107225, 1.1239413366995417, -0.09000979019462164, -0.34064270136513775, 0.9015586963809795, -1.2199166672554982, -0.10474960609253045, -0.5047368023338258, 0.9120026789167751, 0.674039325645774, 1.0977812334020363, 0.49075617307552466, -0.1825714349285571, 1.1908785579639265, 0.9435400510505514, -1.1228061375683676, -0.4550236033163609, 0.5103141348300834, -0.08371828187615925, 0.5961862717691772, 1.4777926677579054, 1.1662395280911697, -0.549894066420653, -0.9373220197978973, 0.26822804305139314, 1.3441507375524713, 1.278239178065697, 0.039557656709048275, 0.5933236707937817, -0.6646795753141186, -2.297062643389993, -0.534969822905361, -1.488671223214322, -0.8189963439403524, 1.7241068058340498, -0.7596556222103996, -1.9502115782962415, 0.9831761742342704, -0.8345090640057391, 0.23245482978715487, -0.48900878119890073, -0.8097729295451747, -1.8959697910487932, -0.4561478615680612, 0.4539567661489525, 0.07085461835479741, 0.8403631191974654, 0.9976130864215411, 0.8285767573404479, -0.3449556066740045, 1.7734608469596895, -0.5956584589272034, -0.5656892432795249, -1.634948108337012, -0.9636407636851575, 1.764519171208656, -0.1662788794018256, -1.8941894694726702, -1.5486643210692401, 0.13022893710572384, 1.0301698732465645, 1.0835499292960724, 0.9896724958809934, -0.3622673939898819, -0.3060135868618649, -1.1279486634108724, -1.0451283293811087, 1.0098144867890588, -1.4443662319195205, 1.1915349467981744, -1.6408370964075916, -0.7984635014901174, 1.1290041958226926, -1.0505794139895748, -1.435890720587731, -1.5483688140960696, -1.5841534124611472, 0.3082967039657568, 0.19819953977361968, -0.5565885705624065, 1.4520060725936632, 0.8106534843091644, -0.806790992501957, -0.5001359388406705, -0.9253951481709741, 0.7573615775820923, -0.19743506936780397, -1.1159609113830533, 1.527455572958231, 0.8126592777281217, -0.2823311711029549, -1.0244300290041477, 1.3358593559436946, -1.217200545405278, -0.2538940489662926, -2.180838977190818, 0.9613927729990254], \"xaxis\": \"x4\", \"y\": [-0.9093054841012843, 0.6040832399960773, -2.410271137195946, 0.16588443929009308, 1.0852191490067407, 0.6250277127932178, -0.9246067333548268, 1.0805265305902243, 1.5725408394539233, 0.5305774112893745, -1.0968365092075085, 0.358422463579597, -0.23415335588614208, 0.15470064036229597, -1.2258341941415993, 0.2593542310596669, 1.5207292232801048, 0.6937829889514853, -1.064285675230406, -0.44560982863137766, -1.0906263710804303, 1.9665199437015592, -0.3168671019465515, 1.0662884587350903, 0.52274830772359, -0.36628016461133656, -0.8474582771956716, 1.1502604717661162, 1.9461342218110398, -0.4650443159355485, -0.8168701770762032, -1.6513676718383128, 0.03763777500553534, -0.8930695726250423, 0.9944707976208484, -1.0317371061968406, -0.08534728128681522, -0.11154374643876049, -0.41021037304330565, -0.6932234768278271, 0.46269386705795046, -1.2691305767830017, 0.3914823573992438, -0.3325552370346851, 0.4505119668619261, 0.26267163704247304, 0.6146339373666935, -0.00019986832009890844, -0.3562942496957231, 1.1106410349742948, -0.4333466685561677, -0.6433360131302692, -0.8874917160851796, -0.8513536562439611, -0.05277980507992831, 0.9196787192380568, -1.8824712139707094, -0.0027461866850745902, -0.02857973666903494, -0.6041682943303771, 0.5017654389406031, -1.9697355871042415, 0.6538225862413563, 0.7165951809469918, 0.05677784382488556, -1.141078681176908, 1.3054036850528037, 0.8351305395606717, -0.5254041188527706, -0.4577834507066193, -0.8005206812905147, 1.6411028852562852, -1.0179121109648015, -1.100307719569913, 0.24578712452507961, -0.8471375107617793, -0.3786013986846745, -0.7832461028994342, -0.24609091475376293, 2.110724741197031, 0.5651851649423003, -1.6974921370855955, -3.052601304677243, -0.9328402706436525, 0.9777294759588954, -1.3736356963160077, -0.2568197552540412, -0.14252924846144352, -0.23946981078682242, -0.058466871907325725, -0.597456559381562, -2.1389872634159057, 1.402282041961766, 0.5274283741136507, -1.2594196492030272, -0.491214492828783, -1.3984069642976626, -2.4488941051712687, 0.6371774376560045, -1.2528580901560282], \"yaxis\": \"y4\"}, {\"line\": {\"color\": \"rgba(128, 128, 128, 1.0)\", \"dash\": \"solid\", \"shape\": \"linear\", \"width\": 1.3}, \"marker\": {\"size\": 2, \"symbol\": \"circle\"}, \"mode\": \"markers\", \"name\": \"B\", \"text\": \"\", \"type\": \"scatter\", \"x\": [-0.9093054841012843, 0.6040832399960773, -2.410271137195946, 0.16588443929009308, 1.0852191490067407, 0.6250277127932178, -0.9246067333548268, 1.0805265305902243, 1.5725408394539233, 0.5305774112893745, -1.0968365092075085, 0.358422463579597, -0.23415335588614208, 0.15470064036229597, -1.2258341941415993, 0.2593542310596669, 1.5207292232801048, 0.6937829889514853, -1.064285675230406, -0.44560982863137766, -1.0906263710804303, 1.9665199437015592, -0.3168671019465515, 1.0662884587350903, 0.52274830772359, -0.36628016461133656, -0.8474582771956716, 1.1502604717661162, 1.9461342218110398, -0.4650443159355485, -0.8168701770762032, -1.6513676718383128, 0.03763777500553534, -0.8930695726250423, 0.9944707976208484, -1.0317371061968406, -0.08534728128681522, -0.11154374643876049, -0.41021037304330565, -0.6932234768278271, 0.46269386705795046, -1.2691305767830017, 0.3914823573992438, -0.3325552370346851, 0.4505119668619261, 0.26267163704247304, 0.6146339373666935, -0.00019986832009890844, -0.3562942496957231, 1.1106410349742948, -0.4333466685561677, -0.6433360131302692, -0.8874917160851796, -0.8513536562439611, -0.05277980507992831, 0.9196787192380568, -1.8824712139707094, -0.0027461866850745902, -0.02857973666903494, -0.6041682943303771, 0.5017654389406031, -1.9697355871042415, 0.6538225862413563, 0.7165951809469918, 0.05677784382488556, -1.141078681176908, 1.3054036850528037, 0.8351305395606717, -0.5254041188527706, -0.4577834507066193, -0.8005206812905147, 1.6411028852562852, -1.0179121109648015, -1.100307719569913, 0.24578712452507961, -0.8471375107617793, -0.3786013986846745, -0.7832461028994342, -0.24609091475376293, 2.110724741197031, 0.5651851649423003, -1.6974921370855955, -3.052601304677243, -0.9328402706436525, 0.9777294759588954, -1.3736356963160077, -0.2568197552540412, -0.14252924846144352, -0.23946981078682242, -0.058466871907325725, -0.597456559381562, -2.1389872634159057, 1.402282041961766, 0.5274283741136507, -1.2594196492030272, -0.491214492828783, -1.3984069642976626, -2.4488941051712687, 0.6371774376560045, -1.2528580901560282], \"xaxis\": \"x5\", \"y\": [1.971440509710332, -0.16847988892318877, 1.0201516777693376, -0.4746460566381103, -0.252233811330853, -0.812181070653521, 0.08607180636893513, -0.02022449530412015, -0.1099275343296199, 0.38663004425284286, -0.526558562979596, 1.8595393195972616, -0.2554254965801771, -0.9141127018210553, 0.06456255996214603, 0.09207005623359946, -0.47783575200149025, 0.09276314732860896, -1.531698896254452, -1.9987393236806141, -0.6049054502346282, 0.8385800455756265, 2.4409277500049287, -0.2651686762903576, -0.07027781766020814, 1.4460735333923849, 0.4062558151378958, 2.9924417578949596, -0.6725291814251461, 0.058275087784900724, -0.7180357045425773, -1.4032200530204344, -0.3150288706370873, 0.47758875464697453, -0.8269771217614604, 0.48172496799817244, -0.7453485529280233, 2.2103985684031424, -0.6512343240750648, -1.0761589643558305, -0.3126827200482146, -0.7707723938441469, 0.03761157401678399, 0.38218995607893624, 1.6232168368871616, -0.891991061325372, 0.3081052691599786, -1.6742745874233398, -1.060786505394401, -1.224894225568253, -1.1418576917418655, 0.7776014073963039, -2.0722908928193076, 0.6269795454914691, -0.07363912387427204, 1.0337073250918112, -0.8724424338268957, 0.2944326120520341, 1.1007166889351714, -1.0368444257918097, 0.40581918123186206, 1.3247223197113267, -0.5028529312192868, 0.12826431985038722, -0.41298476969240855, -0.5122594907994159, -0.3767939408544858, -0.5483495771102112, 0.23937351232956053, -0.1237189545660604, -1.6086158300274889, 0.13255921177958058, 0.6236563150256992, -1.7629134825954333, 0.3965543697462627, -0.015246469369710672, 0.6224378394650877, 1.273204770270868, 0.16522803860713273, 0.21631887975698336, 0.49296727355124675, -0.856555842632183, 1.285461938030501, -1.5108562066320856, -0.5654639130801999, -0.2988083381094179, 0.4455217374847133, 0.47958439154709376, 0.7371979486246891, 0.4676197412857697, 0.37248117726012064, -0.06150360692356444, 0.011862471019332303, 1.5119522400199887, -1.542085684981008, 0.45531041190984595, -0.19489834876868772, 0.30160750277151505, -0.04051459233187058, 1.8329947771102855], \"yaxis\": \"y5\"}, {\"histfunc\": \"count\", \"histnorm\": \"\", \"marker\": {\"color\": \"rgba(55, 128, 191, 1.0)\", \"line\": {\"color\": \"#4D5663\", \"width\": 1.3}}, \"name\": \"B\", \"nbinsx\": 10, \"opacity\": 0.8, \"orientation\": \"v\", \"type\": \"histogram\", \"x\": [1.971440509710332, -0.16847988892318877, 1.0201516777693376, -0.4746460566381103, -0.252233811330853, -0.812181070653521, 0.08607180636893513, -0.02022449530412015, -0.1099275343296199, 0.38663004425284286, -0.526558562979596, 1.8595393195972616, -0.2554254965801771, -0.9141127018210553, 0.06456255996214603, 0.09207005623359946, -0.47783575200149025, 0.09276314732860896, -1.531698896254452, -1.9987393236806141, -0.6049054502346282, 0.8385800455756265, 2.4409277500049287, -0.2651686762903576, -0.07027781766020814, 1.4460735333923849, 0.4062558151378958, 2.9924417578949596, -0.6725291814251461, 0.058275087784900724, -0.7180357045425773, -1.4032200530204344, -0.3150288706370873, 0.47758875464697453, -0.8269771217614604, 0.48172496799817244, -0.7453485529280233, 2.2103985684031424, -0.6512343240750648, -1.0761589643558305, -0.3126827200482146, -0.7707723938441469, 0.03761157401678399, 0.38218995607893624, 1.6232168368871616, -0.891991061325372, 0.3081052691599786, -1.6742745874233398, -1.060786505394401, -1.224894225568253, -1.1418576917418655, 0.7776014073963039, -2.0722908928193076, 0.6269795454914691, -0.07363912387427204, 1.0337073250918112, -0.8724424338268957, 0.2944326120520341, 1.1007166889351714, -1.0368444257918097, 0.40581918123186206, 1.3247223197113267, -0.5028529312192868, 0.12826431985038722, -0.41298476969240855, -0.5122594907994159, -0.3767939408544858, -0.5483495771102112, 0.23937351232956053, -0.1237189545660604, -1.6086158300274889, 0.13255921177958058, 0.6236563150256992, -1.7629134825954333, 0.3965543697462627, -0.015246469369710672, 0.6224378394650877, 1.273204770270868, 0.16522803860713273, 0.21631887975698336, 0.49296727355124675, -0.856555842632183, 1.285461938030501, -1.5108562066320856, -0.5654639130801999, -0.2988083381094179, 0.4455217374847133, 0.47958439154709376, 0.7371979486246891, 0.4676197412857697, 0.37248117726012064, -0.06150360692356444, 0.011862471019332303, 1.5119522400199887, -1.542085684981008, 0.45531041190984595, -0.19489834876868772, 0.30160750277151505, -0.04051459233187058, 1.8329947771102855], \"xaxis\": \"x6\", \"yaxis\": \"y6\"}, {\"line\": {\"color\": \"rgba(128, 128, 128, 1.0)\", \"dash\": \"solid\", \"shape\": \"linear\", \"width\": 1.3}, \"marker\": {\"size\": 2, \"symbol\": \"circle\"}, \"mode\": \"markers\", \"name\": \"B\", \"text\": \"\", \"type\": \"scatter\", \"x\": [0.7280667652885545, 0.8488235899553379, 0.290987080721703, 0.07289592702509784, 1.5712941840611465, -0.3503445574341853, -0.20906465827915915, 1.7246981848259362, 0.47910031798336217, 0.3859055420108177, 1.1478919327821941, -0.6469019399252434, -0.8298435552798016, 0.6069560798978525, -0.6716513170056069, -0.44099377084482927, -1.1253008953103194, 0.5181015240074431, 1.0474795855982406, 1.5483010108942044, 0.2766643544476635, 0.5446276910346245, -0.9328439764575173, 0.7568845978769322, 0.42254305624882876, -0.4378245539651729, -1.2086606440341157, -1.3156063815688934, -0.01846642609983113, 0.10970827397166491, -0.09880585856931799, 2.3760283971453875, -0.716049356152018, 0.438821511552451, 0.2338878272126851, -0.3154223616652488, 1.1012203344621132, 0.349326026393338, 0.6294033557838192, 0.24618417293232878, -0.1330148585330617, -1.0848140949875746, -1.0126800068690232, -0.9718899662289104, 0.9544063653537571, 0.9996722923494628, -1.5069089607758692, -0.9943443964352677, -0.5713285023268356, -0.18574285455520928, 0.9036015588357612, 0.5294493589722387, -0.01474184717698523, -0.2599128263966185, 1.1326800728542001, 1.260384329503193, 0.7616637751038151, 0.5977839325818189, 1.6513463268850124, 0.8316537330619864, 0.11144277773083576, 0.12112918817911539, -0.16953916251036222, 1.403377118588521, 0.5276874167214146, -1.194826773694459, 0.08166109182933724, 0.6202384660207138, -0.4970253894088577, 0.2679870307472513, 0.2874848816773004, -0.9227426553868162, -1.2492553769358716, 0.992746313853953, 1.1303403711640536, 2.7161095361645087, 1.0860151601273755, 1.096875481725637, -0.7496336676945539, -0.15863602841746954, 0.3619174044979912, -1.06233723024928, -0.10401865778638529, 0.9666267014317605, -0.9648981151836775, 0.999324014455443, -1.551455891751039, -1.8417957326728502, -2.6510712352965853, 1.6803324810008309, 1.1843713170062444, 0.006932625023387141, 0.31840781918665645, 0.2289488826055793, -0.24107096166904154, -0.027679255150120166, 1.0397827616934225, -1.271033272555595, -0.8627298187498355, 1.4875724471837792], \"xaxis\": \"x7\", \"y\": [1.971440509710332, -0.16847988892318877, 1.0201516777693376, -0.4746460566381103, -0.252233811330853, -0.812181070653521, 0.08607180636893513, -0.02022449530412015, -0.1099275343296199, 0.38663004425284286, -0.526558562979596, 1.8595393195972616, -0.2554254965801771, -0.9141127018210553, 0.06456255996214603, 0.09207005623359946, -0.47783575200149025, 0.09276314732860896, -1.531698896254452, -1.9987393236806141, -0.6049054502346282, 0.8385800455756265, 2.4409277500049287, -0.2651686762903576, -0.07027781766020814, 1.4460735333923849, 0.4062558151378958, 2.9924417578949596, -0.6725291814251461, 0.058275087784900724, -0.7180357045425773, -1.4032200530204344, -0.3150288706370873, 0.47758875464697453, -0.8269771217614604, 0.48172496799817244, -0.7453485529280233, 2.2103985684031424, -0.6512343240750648, -1.0761589643558305, -0.3126827200482146, -0.7707723938441469, 0.03761157401678399, 0.38218995607893624, 1.6232168368871616, -0.891991061325372, 0.3081052691599786, -1.6742745874233398, -1.060786505394401, -1.224894225568253, -1.1418576917418655, 0.7776014073963039, -2.0722908928193076, 0.6269795454914691, -0.07363912387427204, 1.0337073250918112, -0.8724424338268957, 0.2944326120520341, 1.1007166889351714, -1.0368444257918097, 0.40581918123186206, 1.3247223197113267, -0.5028529312192868, 0.12826431985038722, -0.41298476969240855, -0.5122594907994159, -0.3767939408544858, -0.5483495771102112, 0.23937351232956053, -0.1237189545660604, -1.6086158300274889, 0.13255921177958058, 0.6236563150256992, -1.7629134825954333, 0.3965543697462627, -0.015246469369710672, 0.6224378394650877, 1.273204770270868, 0.16522803860713273, 0.21631887975698336, 0.49296727355124675, -0.856555842632183, 1.285461938030501, -1.5108562066320856, -0.5654639130801999, -0.2988083381094179, 0.4455217374847133, 0.47958439154709376, 0.7371979486246891, 0.4676197412857697, 0.37248117726012064, -0.06150360692356444, 0.011862471019332303, 1.5119522400199887, -1.542085684981008, 0.45531041190984595, -0.19489834876868772, 0.30160750277151505, -0.04051459233187058, 1.8329947771102855], \"yaxis\": \"y7\"}, {\"line\": {\"color\": \"rgba(128, 128, 128, 1.0)\", \"dash\": \"solid\", \"shape\": \"linear\", \"width\": 1.3}, \"marker\": {\"size\": 2, \"symbol\": \"circle\"}, \"mode\": \"markers\", \"name\": \"B\", \"text\": \"\", \"type\": \"scatter\", \"x\": [-0.0597004332272165, -0.7270948232657004, 0.10386741108535118, 0.8823267315107225, 1.1239413366995417, -0.09000979019462164, -0.34064270136513775, 0.9015586963809795, -1.2199166672554982, -0.10474960609253045, -0.5047368023338258, 0.9120026789167751, 0.674039325645774, 1.0977812334020363, 0.49075617307552466, -0.1825714349285571, 1.1908785579639265, 0.9435400510505514, -1.1228061375683676, -0.4550236033163609, 0.5103141348300834, -0.08371828187615925, 0.5961862717691772, 1.4777926677579054, 1.1662395280911697, -0.549894066420653, -0.9373220197978973, 0.26822804305139314, 1.3441507375524713, 1.278239178065697, 0.039557656709048275, 0.5933236707937817, -0.6646795753141186, -2.297062643389993, -0.534969822905361, -1.488671223214322, -0.8189963439403524, 1.7241068058340498, -0.7596556222103996, -1.9502115782962415, 0.9831761742342704, -0.8345090640057391, 0.23245482978715487, -0.48900878119890073, -0.8097729295451747, -1.8959697910487932, -0.4561478615680612, 0.4539567661489525, 0.07085461835479741, 0.8403631191974654, 0.9976130864215411, 0.8285767573404479, -0.3449556066740045, 1.7734608469596895, -0.5956584589272034, -0.5656892432795249, -1.634948108337012, -0.9636407636851575, 1.764519171208656, -0.1662788794018256, -1.8941894694726702, -1.5486643210692401, 0.13022893710572384, 1.0301698732465645, 1.0835499292960724, 0.9896724958809934, -0.3622673939898819, -0.3060135868618649, -1.1279486634108724, -1.0451283293811087, 1.0098144867890588, -1.4443662319195205, 1.1915349467981744, -1.6408370964075916, -0.7984635014901174, 1.1290041958226926, -1.0505794139895748, -1.435890720587731, -1.5483688140960696, -1.5841534124611472, 0.3082967039657568, 0.19819953977361968, -0.5565885705624065, 1.4520060725936632, 0.8106534843091644, -0.806790992501957, -0.5001359388406705, -0.9253951481709741, 0.7573615775820923, -0.19743506936780397, -1.1159609113830533, 1.527455572958231, 0.8126592777281217, -0.2823311711029549, -1.0244300290041477, 1.3358593559436946, -1.217200545405278, -0.2538940489662926, -2.180838977190818, 0.9613927729990254], \"xaxis\": \"x8\", \"y\": [1.971440509710332, -0.16847988892318877, 1.0201516777693376, -0.4746460566381103, -0.252233811330853, -0.812181070653521, 0.08607180636893513, -0.02022449530412015, -0.1099275343296199, 0.38663004425284286, -0.526558562979596, 1.8595393195972616, -0.2554254965801771, -0.9141127018210553, 0.06456255996214603, 0.09207005623359946, -0.47783575200149025, 0.09276314732860896, -1.531698896254452, -1.9987393236806141, -0.6049054502346282, 0.8385800455756265, 2.4409277500049287, -0.2651686762903576, -0.07027781766020814, 1.4460735333923849, 0.4062558151378958, 2.9924417578949596, -0.6725291814251461, 0.058275087784900724, -0.7180357045425773, -1.4032200530204344, -0.3150288706370873, 0.47758875464697453, -0.8269771217614604, 0.48172496799817244, -0.7453485529280233, 2.2103985684031424, -0.6512343240750648, -1.0761589643558305, -0.3126827200482146, -0.7707723938441469, 0.03761157401678399, 0.38218995607893624, 1.6232168368871616, -0.891991061325372, 0.3081052691599786, -1.6742745874233398, -1.060786505394401, -1.224894225568253, -1.1418576917418655, 0.7776014073963039, -2.0722908928193076, 0.6269795454914691, -0.07363912387427204, 1.0337073250918112, -0.8724424338268957, 0.2944326120520341, 1.1007166889351714, -1.0368444257918097, 0.40581918123186206, 1.3247223197113267, -0.5028529312192868, 0.12826431985038722, -0.41298476969240855, -0.5122594907994159, -0.3767939408544858, -0.5483495771102112, 0.23937351232956053, -0.1237189545660604, -1.6086158300274889, 0.13255921177958058, 0.6236563150256992, -1.7629134825954333, 0.3965543697462627, -0.015246469369710672, 0.6224378394650877, 1.273204770270868, 0.16522803860713273, 0.21631887975698336, 0.49296727355124675, -0.856555842632183, 1.285461938030501, -1.5108562066320856, -0.5654639130801999, -0.2988083381094179, 0.4455217374847133, 0.47958439154709376, 0.7371979486246891, 0.4676197412857697, 0.37248117726012064, -0.06150360692356444, 0.011862471019332303, 1.5119522400199887, -1.542085684981008, 0.45531041190984595, -0.19489834876868772, 0.30160750277151505, -0.04051459233187058, 1.8329947771102855], \"yaxis\": \"y8\"}, {\"line\": {\"color\": \"rgba(128, 128, 128, 1.0)\", \"dash\": \"solid\", \"shape\": \"linear\", \"width\": 1.3}, \"marker\": {\"size\": 2, \"symbol\": \"circle\"}, \"mode\": \"markers\", \"name\": \"C\", \"text\": \"\", \"type\": \"scatter\", \"x\": [-0.9093054841012843, 0.6040832399960773, -2.410271137195946, 0.16588443929009308, 1.0852191490067407, 0.6250277127932178, -0.9246067333548268, 1.0805265305902243, 1.5725408394539233, 0.5305774112893745, -1.0968365092075085, 0.358422463579597, -0.23415335588614208, 0.15470064036229597, -1.2258341941415993, 0.2593542310596669, 1.5207292232801048, 0.6937829889514853, -1.064285675230406, -0.44560982863137766, -1.0906263710804303, 1.9665199437015592, -0.3168671019465515, 1.0662884587350903, 0.52274830772359, -0.36628016461133656, -0.8474582771956716, 1.1502604717661162, 1.9461342218110398, -0.4650443159355485, -0.8168701770762032, -1.6513676718383128, 0.03763777500553534, -0.8930695726250423, 0.9944707976208484, -1.0317371061968406, -0.08534728128681522, -0.11154374643876049, -0.41021037304330565, -0.6932234768278271, 0.46269386705795046, -1.2691305767830017, 0.3914823573992438, -0.3325552370346851, 0.4505119668619261, 0.26267163704247304, 0.6146339373666935, -0.00019986832009890844, -0.3562942496957231, 1.1106410349742948, -0.4333466685561677, -0.6433360131302692, -0.8874917160851796, -0.8513536562439611, -0.05277980507992831, 0.9196787192380568, -1.8824712139707094, -0.0027461866850745902, -0.02857973666903494, -0.6041682943303771, 0.5017654389406031, -1.9697355871042415, 0.6538225862413563, 0.7165951809469918, 0.05677784382488556, -1.141078681176908, 1.3054036850528037, 0.8351305395606717, -0.5254041188527706, -0.4577834507066193, -0.8005206812905147, 1.6411028852562852, -1.0179121109648015, -1.100307719569913, 0.24578712452507961, -0.8471375107617793, -0.3786013986846745, -0.7832461028994342, -0.24609091475376293, 2.110724741197031, 0.5651851649423003, -1.6974921370855955, -3.052601304677243, -0.9328402706436525, 0.9777294759588954, -1.3736356963160077, -0.2568197552540412, -0.14252924846144352, -0.23946981078682242, -0.058466871907325725, -0.597456559381562, -2.1389872634159057, 1.402282041961766, 0.5274283741136507, -1.2594196492030272, -0.491214492828783, -1.3984069642976626, -2.4488941051712687, 0.6371774376560045, -1.2528580901560282], \"xaxis\": \"x9\", \"y\": [0.7280667652885545, 0.8488235899553379, 0.290987080721703, 0.07289592702509784, 1.5712941840611465, -0.3503445574341853, -0.20906465827915915, 1.7246981848259362, 0.47910031798336217, 0.3859055420108177, 1.1478919327821941, -0.6469019399252434, -0.8298435552798016, 0.6069560798978525, -0.6716513170056069, -0.44099377084482927, -1.1253008953103194, 0.5181015240074431, 1.0474795855982406, 1.5483010108942044, 0.2766643544476635, 0.5446276910346245, -0.9328439764575173, 0.7568845978769322, 0.42254305624882876, -0.4378245539651729, -1.2086606440341157, -1.3156063815688934, -0.01846642609983113, 0.10970827397166491, -0.09880585856931799, 2.3760283971453875, -0.716049356152018, 0.438821511552451, 0.2338878272126851, -0.3154223616652488, 1.1012203344621132, 0.349326026393338, 0.6294033557838192, 0.24618417293232878, -0.1330148585330617, -1.0848140949875746, -1.0126800068690232, -0.9718899662289104, 0.9544063653537571, 0.9996722923494628, -1.5069089607758692, -0.9943443964352677, -0.5713285023268356, -0.18574285455520928, 0.9036015588357612, 0.5294493589722387, -0.01474184717698523, -0.2599128263966185, 1.1326800728542001, 1.260384329503193, 0.7616637751038151, 0.5977839325818189, 1.6513463268850124, 0.8316537330619864, 0.11144277773083576, 0.12112918817911539, -0.16953916251036222, 1.403377118588521, 0.5276874167214146, -1.194826773694459, 0.08166109182933724, 0.6202384660207138, -0.4970253894088577, 0.2679870307472513, 0.2874848816773004, -0.9227426553868162, -1.2492553769358716, 0.992746313853953, 1.1303403711640536, 2.7161095361645087, 1.0860151601273755, 1.096875481725637, -0.7496336676945539, -0.15863602841746954, 0.3619174044979912, -1.06233723024928, -0.10401865778638529, 0.9666267014317605, -0.9648981151836775, 0.999324014455443, -1.551455891751039, -1.8417957326728502, -2.6510712352965853, 1.6803324810008309, 1.1843713170062444, 0.006932625023387141, 0.31840781918665645, 0.2289488826055793, -0.24107096166904154, -0.027679255150120166, 1.0397827616934225, -1.271033272555595, -0.8627298187498355, 1.4875724471837792], \"yaxis\": \"y9\"}, {\"line\": {\"color\": \"rgba(128, 128, 128, 1.0)\", \"dash\": \"solid\", \"shape\": \"linear\", \"width\": 1.3}, \"marker\": {\"size\": 2, \"symbol\": \"circle\"}, \"mode\": \"markers\", \"name\": \"C\", \"text\": \"\", \"type\": \"scatter\", \"x\": [1.971440509710332, -0.16847988892318877, 1.0201516777693376, -0.4746460566381103, -0.252233811330853, -0.812181070653521, 0.08607180636893513, -0.02022449530412015, -0.1099275343296199, 0.38663004425284286, -0.526558562979596, 1.8595393195972616, -0.2554254965801771, -0.9141127018210553, 0.06456255996214603, 0.09207005623359946, -0.47783575200149025, 0.09276314732860896, -1.531698896254452, -1.9987393236806141, -0.6049054502346282, 0.8385800455756265, 2.4409277500049287, -0.2651686762903576, -0.07027781766020814, 1.4460735333923849, 0.4062558151378958, 2.9924417578949596, -0.6725291814251461, 0.058275087784900724, -0.7180357045425773, -1.4032200530204344, -0.3150288706370873, 0.47758875464697453, -0.8269771217614604, 0.48172496799817244, -0.7453485529280233, 2.2103985684031424, -0.6512343240750648, -1.0761589643558305, -0.3126827200482146, -0.7707723938441469, 0.03761157401678399, 0.38218995607893624, 1.6232168368871616, -0.891991061325372, 0.3081052691599786, -1.6742745874233398, -1.060786505394401, -1.224894225568253, -1.1418576917418655, 0.7776014073963039, -2.0722908928193076, 0.6269795454914691, -0.07363912387427204, 1.0337073250918112, -0.8724424338268957, 0.2944326120520341, 1.1007166889351714, -1.0368444257918097, 0.40581918123186206, 1.3247223197113267, -0.5028529312192868, 0.12826431985038722, -0.41298476969240855, -0.5122594907994159, -0.3767939408544858, -0.5483495771102112, 0.23937351232956053, -0.1237189545660604, -1.6086158300274889, 0.13255921177958058, 0.6236563150256992, -1.7629134825954333, 0.3965543697462627, -0.015246469369710672, 0.6224378394650877, 1.273204770270868, 0.16522803860713273, 0.21631887975698336, 0.49296727355124675, -0.856555842632183, 1.285461938030501, -1.5108562066320856, -0.5654639130801999, -0.2988083381094179, 0.4455217374847133, 0.47958439154709376, 0.7371979486246891, 0.4676197412857697, 0.37248117726012064, -0.06150360692356444, 0.011862471019332303, 1.5119522400199887, -1.542085684981008, 0.45531041190984595, -0.19489834876868772, 0.30160750277151505, -0.04051459233187058, 1.8329947771102855], \"xaxis\": \"x10\", \"y\": [0.7280667652885545, 0.8488235899553379, 0.290987080721703, 0.07289592702509784, 1.5712941840611465, -0.3503445574341853, -0.20906465827915915, 1.7246981848259362, 0.47910031798336217, 0.3859055420108177, 1.1478919327821941, -0.6469019399252434, -0.8298435552798016, 0.6069560798978525, -0.6716513170056069, -0.44099377084482927, -1.1253008953103194, 0.5181015240074431, 1.0474795855982406, 1.5483010108942044, 0.2766643544476635, 0.5446276910346245, -0.9328439764575173, 0.7568845978769322, 0.42254305624882876, -0.4378245539651729, -1.2086606440341157, -1.3156063815688934, -0.01846642609983113, 0.10970827397166491, -0.09880585856931799, 2.3760283971453875, -0.716049356152018, 0.438821511552451, 0.2338878272126851, -0.3154223616652488, 1.1012203344621132, 0.349326026393338, 0.6294033557838192, 0.24618417293232878, -0.1330148585330617, -1.0848140949875746, -1.0126800068690232, -0.9718899662289104, 0.9544063653537571, 0.9996722923494628, -1.5069089607758692, -0.9943443964352677, -0.5713285023268356, -0.18574285455520928, 0.9036015588357612, 0.5294493589722387, -0.01474184717698523, -0.2599128263966185, 1.1326800728542001, 1.260384329503193, 0.7616637751038151, 0.5977839325818189, 1.6513463268850124, 0.8316537330619864, 0.11144277773083576, 0.12112918817911539, -0.16953916251036222, 1.403377118588521, 0.5276874167214146, -1.194826773694459, 0.08166109182933724, 0.6202384660207138, -0.4970253894088577, 0.2679870307472513, 0.2874848816773004, -0.9227426553868162, -1.2492553769358716, 0.992746313853953, 1.1303403711640536, 2.7161095361645087, 1.0860151601273755, 1.096875481725637, -0.7496336676945539, -0.15863602841746954, 0.3619174044979912, -1.06233723024928, -0.10401865778638529, 0.9666267014317605, -0.9648981151836775, 0.999324014455443, -1.551455891751039, -1.8417957326728502, -2.6510712352965853, 1.6803324810008309, 1.1843713170062444, 0.006932625023387141, 0.31840781918665645, 0.2289488826055793, -0.24107096166904154, -0.027679255150120166, 1.0397827616934225, -1.271033272555595, -0.8627298187498355, 1.4875724471837792], \"yaxis\": \"y10\"}, {\"histfunc\": \"count\", \"histnorm\": \"\", \"marker\": {\"color\": \"rgba(50, 171, 96, 1.0)\", \"line\": {\"color\": \"#4D5663\", \"width\": 1.3}}, \"name\": \"C\", \"nbinsx\": 10, \"opacity\": 0.8, \"orientation\": \"v\", \"type\": \"histogram\", \"x\": [0.7280667652885545, 0.8488235899553379, 0.290987080721703, 0.07289592702509784, 1.5712941840611465, -0.3503445574341853, -0.20906465827915915, 1.7246981848259362, 0.47910031798336217, 0.3859055420108177, 1.1478919327821941, -0.6469019399252434, -0.8298435552798016, 0.6069560798978525, -0.6716513170056069, -0.44099377084482927, -1.1253008953103194, 0.5181015240074431, 1.0474795855982406, 1.5483010108942044, 0.2766643544476635, 0.5446276910346245, -0.9328439764575173, 0.7568845978769322, 0.42254305624882876, -0.4378245539651729, -1.2086606440341157, -1.3156063815688934, -0.01846642609983113, 0.10970827397166491, -0.09880585856931799, 2.3760283971453875, -0.716049356152018, 0.438821511552451, 0.2338878272126851, -0.3154223616652488, 1.1012203344621132, 0.349326026393338, 0.6294033557838192, 0.24618417293232878, -0.1330148585330617, -1.0848140949875746, -1.0126800068690232, -0.9718899662289104, 0.9544063653537571, 0.9996722923494628, -1.5069089607758692, -0.9943443964352677, -0.5713285023268356, -0.18574285455520928, 0.9036015588357612, 0.5294493589722387, -0.01474184717698523, -0.2599128263966185, 1.1326800728542001, 1.260384329503193, 0.7616637751038151, 0.5977839325818189, 1.6513463268850124, 0.8316537330619864, 0.11144277773083576, 0.12112918817911539, -0.16953916251036222, 1.403377118588521, 0.5276874167214146, -1.194826773694459, 0.08166109182933724, 0.6202384660207138, -0.4970253894088577, 0.2679870307472513, 0.2874848816773004, -0.9227426553868162, -1.2492553769358716, 0.992746313853953, 1.1303403711640536, 2.7161095361645087, 1.0860151601273755, 1.096875481725637, -0.7496336676945539, -0.15863602841746954, 0.3619174044979912, -1.06233723024928, -0.10401865778638529, 0.9666267014317605, -0.9648981151836775, 0.999324014455443, -1.551455891751039, -1.8417957326728502, -2.6510712352965853, 1.6803324810008309, 1.1843713170062444, 0.006932625023387141, 0.31840781918665645, 0.2289488826055793, -0.24107096166904154, -0.027679255150120166, 1.0397827616934225, -1.271033272555595, -0.8627298187498355, 1.4875724471837792], \"xaxis\": \"x11\", \"yaxis\": \"y11\"}, {\"line\": {\"color\": \"rgba(128, 128, 128, 1.0)\", \"dash\": \"solid\", \"shape\": \"linear\", \"width\": 1.3}, \"marker\": {\"size\": 2, \"symbol\": \"circle\"}, \"mode\": \"markers\", \"name\": \"C\", \"text\": \"\", \"type\": \"scatter\", \"x\": [-0.0597004332272165, -0.7270948232657004, 0.10386741108535118, 0.8823267315107225, 1.1239413366995417, -0.09000979019462164, -0.34064270136513775, 0.9015586963809795, -1.2199166672554982, -0.10474960609253045, -0.5047368023338258, 0.9120026789167751, 0.674039325645774, 1.0977812334020363, 0.49075617307552466, -0.1825714349285571, 1.1908785579639265, 0.9435400510505514, -1.1228061375683676, -0.4550236033163609, 0.5103141348300834, -0.08371828187615925, 0.5961862717691772, 1.4777926677579054, 1.1662395280911697, -0.549894066420653, -0.9373220197978973, 0.26822804305139314, 1.3441507375524713, 1.278239178065697, 0.039557656709048275, 0.5933236707937817, -0.6646795753141186, -2.297062643389993, -0.534969822905361, -1.488671223214322, -0.8189963439403524, 1.7241068058340498, -0.7596556222103996, -1.9502115782962415, 0.9831761742342704, -0.8345090640057391, 0.23245482978715487, -0.48900878119890073, -0.8097729295451747, -1.8959697910487932, -0.4561478615680612, 0.4539567661489525, 0.07085461835479741, 0.8403631191974654, 0.9976130864215411, 0.8285767573404479, -0.3449556066740045, 1.7734608469596895, -0.5956584589272034, -0.5656892432795249, -1.634948108337012, -0.9636407636851575, 1.764519171208656, -0.1662788794018256, -1.8941894694726702, -1.5486643210692401, 0.13022893710572384, 1.0301698732465645, 1.0835499292960724, 0.9896724958809934, -0.3622673939898819, -0.3060135868618649, -1.1279486634108724, -1.0451283293811087, 1.0098144867890588, -1.4443662319195205, 1.1915349467981744, -1.6408370964075916, -0.7984635014901174, 1.1290041958226926, -1.0505794139895748, -1.435890720587731, -1.5483688140960696, -1.5841534124611472, 0.3082967039657568, 0.19819953977361968, -0.5565885705624065, 1.4520060725936632, 0.8106534843091644, -0.806790992501957, -0.5001359388406705, -0.9253951481709741, 0.7573615775820923, -0.19743506936780397, -1.1159609113830533, 1.527455572958231, 0.8126592777281217, -0.2823311711029549, -1.0244300290041477, 1.3358593559436946, -1.217200545405278, -0.2538940489662926, -2.180838977190818, 0.9613927729990254], \"xaxis\": \"x12\", \"y\": [0.7280667652885545, 0.8488235899553379, 0.290987080721703, 0.07289592702509784, 1.5712941840611465, -0.3503445574341853, -0.20906465827915915, 1.7246981848259362, 0.47910031798336217, 0.3859055420108177, 1.1478919327821941, -0.6469019399252434, -0.8298435552798016, 0.6069560798978525, -0.6716513170056069, -0.44099377084482927, -1.1253008953103194, 0.5181015240074431, 1.0474795855982406, 1.5483010108942044, 0.2766643544476635, 0.5446276910346245, -0.9328439764575173, 0.7568845978769322, 0.42254305624882876, -0.4378245539651729, -1.2086606440341157, -1.3156063815688934, -0.01846642609983113, 0.10970827397166491, -0.09880585856931799, 2.3760283971453875, -0.716049356152018, 0.438821511552451, 0.2338878272126851, -0.3154223616652488, 1.1012203344621132, 0.349326026393338, 0.6294033557838192, 0.24618417293232878, -0.1330148585330617, -1.0848140949875746, -1.0126800068690232, -0.9718899662289104, 0.9544063653537571, 0.9996722923494628, -1.5069089607758692, -0.9943443964352677, -0.5713285023268356, -0.18574285455520928, 0.9036015588357612, 0.5294493589722387, -0.01474184717698523, -0.2599128263966185, 1.1326800728542001, 1.260384329503193, 0.7616637751038151, 0.5977839325818189, 1.6513463268850124, 0.8316537330619864, 0.11144277773083576, 0.12112918817911539, -0.16953916251036222, 1.403377118588521, 0.5276874167214146, -1.194826773694459, 0.08166109182933724, 0.6202384660207138, -0.4970253894088577, 0.2679870307472513, 0.2874848816773004, -0.9227426553868162, -1.2492553769358716, 0.992746313853953, 1.1303403711640536, 2.7161095361645087, 1.0860151601273755, 1.096875481725637, -0.7496336676945539, -0.15863602841746954, 0.3619174044979912, -1.06233723024928, -0.10401865778638529, 0.9666267014317605, -0.9648981151836775, 0.999324014455443, -1.551455891751039, -1.8417957326728502, -2.6510712352965853, 1.6803324810008309, 1.1843713170062444, 0.006932625023387141, 0.31840781918665645, 0.2289488826055793, -0.24107096166904154, -0.027679255150120166, 1.0397827616934225, -1.271033272555595, -0.8627298187498355, 1.4875724471837792], \"yaxis\": \"y12\"}, {\"line\": {\"color\": \"rgba(128, 128, 128, 1.0)\", \"dash\": \"solid\", \"shape\": \"linear\", \"width\": 1.3}, \"marker\": {\"size\": 2, \"symbol\": \"circle\"}, \"mode\": \"markers\", \"name\": \"D\", \"text\": \"\", \"type\": \"scatter\", \"x\": [-0.9093054841012843, 0.6040832399960773, -2.410271137195946, 0.16588443929009308, 1.0852191490067407, 0.6250277127932178, -0.9246067333548268, 1.0805265305902243, 1.5725408394539233, 0.5305774112893745, -1.0968365092075085, 0.358422463579597, -0.23415335588614208, 0.15470064036229597, -1.2258341941415993, 0.2593542310596669, 1.5207292232801048, 0.6937829889514853, -1.064285675230406, -0.44560982863137766, -1.0906263710804303, 1.9665199437015592, -0.3168671019465515, 1.0662884587350903, 0.52274830772359, -0.36628016461133656, -0.8474582771956716, 1.1502604717661162, 1.9461342218110398, -0.4650443159355485, -0.8168701770762032, -1.6513676718383128, 0.03763777500553534, -0.8930695726250423, 0.9944707976208484, -1.0317371061968406, -0.08534728128681522, -0.11154374643876049, -0.41021037304330565, -0.6932234768278271, 0.46269386705795046, -1.2691305767830017, 0.3914823573992438, -0.3325552370346851, 0.4505119668619261, 0.26267163704247304, 0.6146339373666935, -0.00019986832009890844, -0.3562942496957231, 1.1106410349742948, -0.4333466685561677, -0.6433360131302692, -0.8874917160851796, -0.8513536562439611, -0.05277980507992831, 0.9196787192380568, -1.8824712139707094, -0.0027461866850745902, -0.02857973666903494, -0.6041682943303771, 0.5017654389406031, -1.9697355871042415, 0.6538225862413563, 0.7165951809469918, 0.05677784382488556, -1.141078681176908, 1.3054036850528037, 0.8351305395606717, -0.5254041188527706, -0.4577834507066193, -0.8005206812905147, 1.6411028852562852, -1.0179121109648015, -1.100307719569913, 0.24578712452507961, -0.8471375107617793, -0.3786013986846745, -0.7832461028994342, -0.24609091475376293, 2.110724741197031, 0.5651851649423003, -1.6974921370855955, -3.052601304677243, -0.9328402706436525, 0.9777294759588954, -1.3736356963160077, -0.2568197552540412, -0.14252924846144352, -0.23946981078682242, -0.058466871907325725, -0.597456559381562, -2.1389872634159057, 1.402282041961766, 0.5274283741136507, -1.2594196492030272, -0.491214492828783, -1.3984069642976626, -2.4488941051712687, 0.6371774376560045, -1.2528580901560282], \"xaxis\": \"x13\", \"y\": [-0.0597004332272165, -0.7270948232657004, 0.10386741108535118, 0.8823267315107225, 1.1239413366995417, -0.09000979019462164, -0.34064270136513775, 0.9015586963809795, -1.2199166672554982, -0.10474960609253045, -0.5047368023338258, 0.9120026789167751, 0.674039325645774, 1.0977812334020363, 0.49075617307552466, -0.1825714349285571, 1.1908785579639265, 0.9435400510505514, -1.1228061375683676, -0.4550236033163609, 0.5103141348300834, -0.08371828187615925, 0.5961862717691772, 1.4777926677579054, 1.1662395280911697, -0.549894066420653, -0.9373220197978973, 0.26822804305139314, 1.3441507375524713, 1.278239178065697, 0.039557656709048275, 0.5933236707937817, -0.6646795753141186, -2.297062643389993, -0.534969822905361, -1.488671223214322, -0.8189963439403524, 1.7241068058340498, -0.7596556222103996, -1.9502115782962415, 0.9831761742342704, -0.8345090640057391, 0.23245482978715487, -0.48900878119890073, -0.8097729295451747, -1.8959697910487932, -0.4561478615680612, 0.4539567661489525, 0.07085461835479741, 0.8403631191974654, 0.9976130864215411, 0.8285767573404479, -0.3449556066740045, 1.7734608469596895, -0.5956584589272034, -0.5656892432795249, -1.634948108337012, -0.9636407636851575, 1.764519171208656, -0.1662788794018256, -1.8941894694726702, -1.5486643210692401, 0.13022893710572384, 1.0301698732465645, 1.0835499292960724, 0.9896724958809934, -0.3622673939898819, -0.3060135868618649, -1.1279486634108724, -1.0451283293811087, 1.0098144867890588, -1.4443662319195205, 1.1915349467981744, -1.6408370964075916, -0.7984635014901174, 1.1290041958226926, -1.0505794139895748, -1.435890720587731, -1.5483688140960696, -1.5841534124611472, 0.3082967039657568, 0.19819953977361968, -0.5565885705624065, 1.4520060725936632, 0.8106534843091644, -0.806790992501957, -0.5001359388406705, -0.9253951481709741, 0.7573615775820923, -0.19743506936780397, -1.1159609113830533, 1.527455572958231, 0.8126592777281217, -0.2823311711029549, -1.0244300290041477, 1.3358593559436946, -1.217200545405278, -0.2538940489662926, -2.180838977190818, 0.9613927729990254], \"yaxis\": \"y13\"}, {\"line\": {\"color\": \"rgba(128, 128, 128, 1.0)\", \"dash\": \"solid\", \"shape\": \"linear\", \"width\": 1.3}, \"marker\": {\"size\": 2, \"symbol\": \"circle\"}, \"mode\": \"markers\", \"name\": \"D\", \"text\": \"\", \"type\": \"scatter\", \"x\": [1.971440509710332, -0.16847988892318877, 1.0201516777693376, -0.4746460566381103, -0.252233811330853, -0.812181070653521, 0.08607180636893513, -0.02022449530412015, -0.1099275343296199, 0.38663004425284286, -0.526558562979596, 1.8595393195972616, -0.2554254965801771, -0.9141127018210553, 0.06456255996214603, 0.09207005623359946, -0.47783575200149025, 0.09276314732860896, -1.531698896254452, -1.9987393236806141, -0.6049054502346282, 0.8385800455756265, 2.4409277500049287, -0.2651686762903576, -0.07027781766020814, 1.4460735333923849, 0.4062558151378958, 2.9924417578949596, -0.6725291814251461, 0.058275087784900724, -0.7180357045425773, -1.4032200530204344, -0.3150288706370873, 0.47758875464697453, -0.8269771217614604, 0.48172496799817244, -0.7453485529280233, 2.2103985684031424, -0.6512343240750648, -1.0761589643558305, -0.3126827200482146, -0.7707723938441469, 0.03761157401678399, 0.38218995607893624, 1.6232168368871616, -0.891991061325372, 0.3081052691599786, -1.6742745874233398, -1.060786505394401, -1.224894225568253, -1.1418576917418655, 0.7776014073963039, -2.0722908928193076, 0.6269795454914691, -0.07363912387427204, 1.0337073250918112, -0.8724424338268957, 0.2944326120520341, 1.1007166889351714, -1.0368444257918097, 0.40581918123186206, 1.3247223197113267, -0.5028529312192868, 0.12826431985038722, -0.41298476969240855, -0.5122594907994159, -0.3767939408544858, -0.5483495771102112, 0.23937351232956053, -0.1237189545660604, -1.6086158300274889, 0.13255921177958058, 0.6236563150256992, -1.7629134825954333, 0.3965543697462627, -0.015246469369710672, 0.6224378394650877, 1.273204770270868, 0.16522803860713273, 0.21631887975698336, 0.49296727355124675, -0.856555842632183, 1.285461938030501, -1.5108562066320856, -0.5654639130801999, -0.2988083381094179, 0.4455217374847133, 0.47958439154709376, 0.7371979486246891, 0.4676197412857697, 0.37248117726012064, -0.06150360692356444, 0.011862471019332303, 1.5119522400199887, -1.542085684981008, 0.45531041190984595, -0.19489834876868772, 0.30160750277151505, -0.04051459233187058, 1.8329947771102855], \"xaxis\": \"x14\", \"y\": [-0.0597004332272165, -0.7270948232657004, 0.10386741108535118, 0.8823267315107225, 1.1239413366995417, -0.09000979019462164, -0.34064270136513775, 0.9015586963809795, -1.2199166672554982, -0.10474960609253045, -0.5047368023338258, 0.9120026789167751, 0.674039325645774, 1.0977812334020363, 0.49075617307552466, -0.1825714349285571, 1.1908785579639265, 0.9435400510505514, -1.1228061375683676, -0.4550236033163609, 0.5103141348300834, -0.08371828187615925, 0.5961862717691772, 1.4777926677579054, 1.1662395280911697, -0.549894066420653, -0.9373220197978973, 0.26822804305139314, 1.3441507375524713, 1.278239178065697, 0.039557656709048275, 0.5933236707937817, -0.6646795753141186, -2.297062643389993, -0.534969822905361, -1.488671223214322, -0.8189963439403524, 1.7241068058340498, -0.7596556222103996, -1.9502115782962415, 0.9831761742342704, -0.8345090640057391, 0.23245482978715487, -0.48900878119890073, -0.8097729295451747, -1.8959697910487932, -0.4561478615680612, 0.4539567661489525, 0.07085461835479741, 0.8403631191974654, 0.9976130864215411, 0.8285767573404479, -0.3449556066740045, 1.7734608469596895, -0.5956584589272034, -0.5656892432795249, -1.634948108337012, -0.9636407636851575, 1.764519171208656, -0.1662788794018256, -1.8941894694726702, -1.5486643210692401, 0.13022893710572384, 1.0301698732465645, 1.0835499292960724, 0.9896724958809934, -0.3622673939898819, -0.3060135868618649, -1.1279486634108724, -1.0451283293811087, 1.0098144867890588, -1.4443662319195205, 1.1915349467981744, -1.6408370964075916, -0.7984635014901174, 1.1290041958226926, -1.0505794139895748, -1.435890720587731, -1.5483688140960696, -1.5841534124611472, 0.3082967039657568, 0.19819953977361968, -0.5565885705624065, 1.4520060725936632, 0.8106534843091644, -0.806790992501957, -0.5001359388406705, -0.9253951481709741, 0.7573615775820923, -0.19743506936780397, -1.1159609113830533, 1.527455572958231, 0.8126592777281217, -0.2823311711029549, -1.0244300290041477, 1.3358593559436946, -1.217200545405278, -0.2538940489662926, -2.180838977190818, 0.9613927729990254], \"yaxis\": \"y14\"}, {\"line\": {\"color\": \"rgba(128, 128, 128, 1.0)\", \"dash\": \"solid\", \"shape\": \"linear\", \"width\": 1.3}, \"marker\": {\"size\": 2, \"symbol\": \"circle\"}, \"mode\": \"markers\", \"name\": \"D\", \"text\": \"\", \"type\": \"scatter\", \"x\": [0.7280667652885545, 0.8488235899553379, 0.290987080721703, 0.07289592702509784, 1.5712941840611465, -0.3503445574341853, -0.20906465827915915, 1.7246981848259362, 0.47910031798336217, 0.3859055420108177, 1.1478919327821941, -0.6469019399252434, -0.8298435552798016, 0.6069560798978525, -0.6716513170056069, -0.44099377084482927, -1.1253008953103194, 0.5181015240074431, 1.0474795855982406, 1.5483010108942044, 0.2766643544476635, 0.5446276910346245, -0.9328439764575173, 0.7568845978769322, 0.42254305624882876, -0.4378245539651729, -1.2086606440341157, -1.3156063815688934, -0.01846642609983113, 0.10970827397166491, -0.09880585856931799, 2.3760283971453875, -0.716049356152018, 0.438821511552451, 0.2338878272126851, -0.3154223616652488, 1.1012203344621132, 0.349326026393338, 0.6294033557838192, 0.24618417293232878, -0.1330148585330617, -1.0848140949875746, -1.0126800068690232, -0.9718899662289104, 0.9544063653537571, 0.9996722923494628, -1.5069089607758692, -0.9943443964352677, -0.5713285023268356, -0.18574285455520928, 0.9036015588357612, 0.5294493589722387, -0.01474184717698523, -0.2599128263966185, 1.1326800728542001, 1.260384329503193, 0.7616637751038151, 0.5977839325818189, 1.6513463268850124, 0.8316537330619864, 0.11144277773083576, 0.12112918817911539, -0.16953916251036222, 1.403377118588521, 0.5276874167214146, -1.194826773694459, 0.08166109182933724, 0.6202384660207138, -0.4970253894088577, 0.2679870307472513, 0.2874848816773004, -0.9227426553868162, -1.2492553769358716, 0.992746313853953, 1.1303403711640536, 2.7161095361645087, 1.0860151601273755, 1.096875481725637, -0.7496336676945539, -0.15863602841746954, 0.3619174044979912, -1.06233723024928, -0.10401865778638529, 0.9666267014317605, -0.9648981151836775, 0.999324014455443, -1.551455891751039, -1.8417957326728502, -2.6510712352965853, 1.6803324810008309, 1.1843713170062444, 0.006932625023387141, 0.31840781918665645, 0.2289488826055793, -0.24107096166904154, -0.027679255150120166, 1.0397827616934225, -1.271033272555595, -0.8627298187498355, 1.4875724471837792], \"xaxis\": \"x15\", \"y\": [-0.0597004332272165, -0.7270948232657004, 0.10386741108535118, 0.8823267315107225, 1.1239413366995417, -0.09000979019462164, -0.34064270136513775, 0.9015586963809795, -1.2199166672554982, -0.10474960609253045, -0.5047368023338258, 0.9120026789167751, 0.674039325645774, 1.0977812334020363, 0.49075617307552466, -0.1825714349285571, 1.1908785579639265, 0.9435400510505514, -1.1228061375683676, -0.4550236033163609, 0.5103141348300834, -0.08371828187615925, 0.5961862717691772, 1.4777926677579054, 1.1662395280911697, -0.549894066420653, -0.9373220197978973, 0.26822804305139314, 1.3441507375524713, 1.278239178065697, 0.039557656709048275, 0.5933236707937817, -0.6646795753141186, -2.297062643389993, -0.534969822905361, -1.488671223214322, -0.8189963439403524, 1.7241068058340498, -0.7596556222103996, -1.9502115782962415, 0.9831761742342704, -0.8345090640057391, 0.23245482978715487, -0.48900878119890073, -0.8097729295451747, -1.8959697910487932, -0.4561478615680612, 0.4539567661489525, 0.07085461835479741, 0.8403631191974654, 0.9976130864215411, 0.8285767573404479, -0.3449556066740045, 1.7734608469596895, -0.5956584589272034, -0.5656892432795249, -1.634948108337012, -0.9636407636851575, 1.764519171208656, -0.1662788794018256, -1.8941894694726702, -1.5486643210692401, 0.13022893710572384, 1.0301698732465645, 1.0835499292960724, 0.9896724958809934, -0.3622673939898819, -0.3060135868618649, -1.1279486634108724, -1.0451283293811087, 1.0098144867890588, -1.4443662319195205, 1.1915349467981744, -1.6408370964075916, -0.7984635014901174, 1.1290041958226926, -1.0505794139895748, -1.435890720587731, -1.5483688140960696, -1.5841534124611472, 0.3082967039657568, 0.19819953977361968, -0.5565885705624065, 1.4520060725936632, 0.8106534843091644, -0.806790992501957, -0.5001359388406705, -0.9253951481709741, 0.7573615775820923, -0.19743506936780397, -1.1159609113830533, 1.527455572958231, 0.8126592777281217, -0.2823311711029549, -1.0244300290041477, 1.3358593559436946, -1.217200545405278, -0.2538940489662926, -2.180838977190818, 0.9613927729990254], \"yaxis\": \"y15\"}, {\"histfunc\": \"count\", \"histnorm\": \"\", \"marker\": {\"color\": \"rgba(128, 0, 128, 1.0)\", \"line\": {\"color\": \"#4D5663\", \"width\": 1.3}}, \"name\": \"D\", \"nbinsx\": 10, \"opacity\": 0.8, \"orientation\": \"v\", \"type\": \"histogram\", \"x\": [-0.0597004332272165, -0.7270948232657004, 0.10386741108535118, 0.8823267315107225, 1.1239413366995417, -0.09000979019462164, -0.34064270136513775, 0.9015586963809795, -1.2199166672554982, -0.10474960609253045, -0.5047368023338258, 0.9120026789167751, 0.674039325645774, 1.0977812334020363, 0.49075617307552466, -0.1825714349285571, 1.1908785579639265, 0.9435400510505514, -1.1228061375683676, -0.4550236033163609, 0.5103141348300834, -0.08371828187615925, 0.5961862717691772, 1.4777926677579054, 1.1662395280911697, -0.549894066420653, -0.9373220197978973, 0.26822804305139314, 1.3441507375524713, 1.278239178065697, 0.039557656709048275, 0.5933236707937817, -0.6646795753141186, -2.297062643389993, -0.534969822905361, -1.488671223214322, -0.8189963439403524, 1.7241068058340498, -0.7596556222103996, -1.9502115782962415, 0.9831761742342704, -0.8345090640057391, 0.23245482978715487, -0.48900878119890073, -0.8097729295451747, -1.8959697910487932, -0.4561478615680612, 0.4539567661489525, 0.07085461835479741, 0.8403631191974654, 0.9976130864215411, 0.8285767573404479, -0.3449556066740045, 1.7734608469596895, -0.5956584589272034, -0.5656892432795249, -1.634948108337012, -0.9636407636851575, 1.764519171208656, -0.1662788794018256, -1.8941894694726702, -1.5486643210692401, 0.13022893710572384, 1.0301698732465645, 1.0835499292960724, 0.9896724958809934, -0.3622673939898819, -0.3060135868618649, -1.1279486634108724, -1.0451283293811087, 1.0098144867890588, -1.4443662319195205, 1.1915349467981744, -1.6408370964075916, -0.7984635014901174, 1.1290041958226926, -1.0505794139895748, -1.435890720587731, -1.5483688140960696, -1.5841534124611472, 0.3082967039657568, 0.19819953977361968, -0.5565885705624065, 1.4520060725936632, 0.8106534843091644, -0.806790992501957, -0.5001359388406705, -0.9253951481709741, 0.7573615775820923, -0.19743506936780397, -1.1159609113830533, 1.527455572958231, 0.8126592777281217, -0.2823311711029549, -1.0244300290041477, 1.3358593559436946, -1.217200545405278, -0.2538940489662926, -2.180838977190818, 0.9613927729990254], \"xaxis\": \"x16\", \"yaxis\": \"y16\"}],\n",
       "                        {\"bargap\": 0.02, \"legend\": {\"bgcolor\": \"#F5F6F9\", \"font\": {\"color\": \"#4D5663\"}}, \"paper_bgcolor\": \"#F5F6F9\", \"plot_bgcolor\": \"#F5F6F9\", \"showlegend\": false, \"template\": {\"data\": {\"bar\": [{\"error_x\": {\"color\": \"#2a3f5f\"}, \"error_y\": {\"color\": \"#2a3f5f\"}, \"marker\": {\"line\": {\"color\": \"#E5ECF6\", \"width\": 0.5}}, \"type\": \"bar\"}], \"barpolar\": [{\"marker\": {\"line\": {\"color\": \"#E5ECF6\", \"width\": 0.5}}, \"type\": \"barpolar\"}], \"carpet\": [{\"aaxis\": {\"endlinecolor\": \"#2a3f5f\", \"gridcolor\": \"white\", \"linecolor\": \"white\", \"minorgridcolor\": \"white\", \"startlinecolor\": \"#2a3f5f\"}, \"baxis\": {\"endlinecolor\": \"#2a3f5f\", \"gridcolor\": \"white\", \"linecolor\": \"white\", \"minorgridcolor\": \"white\", \"startlinecolor\": \"#2a3f5f\"}, \"type\": \"carpet\"}], \"choropleth\": [{\"colorbar\": {\"outlinewidth\": 0, \"ticks\": \"\"}, \"type\": \"choropleth\"}], \"contour\": [{\"colorbar\": {\"outlinewidth\": 0, \"ticks\": \"\"}, \"colorscale\": [[0.0, \"#0d0887\"], [0.1111111111111111, \"#46039f\"], [0.2222222222222222, \"#7201a8\"], [0.3333333333333333, \"#9c179e\"], [0.4444444444444444, \"#bd3786\"], [0.5555555555555556, \"#d8576b\"], [0.6666666666666666, \"#ed7953\"], [0.7777777777777778, \"#fb9f3a\"], [0.8888888888888888, \"#fdca26\"], [1.0, \"#f0f921\"]], \"type\": \"contour\"}], \"contourcarpet\": [{\"colorbar\": {\"outlinewidth\": 0, \"ticks\": \"\"}, \"type\": \"contourcarpet\"}], \"heatmap\": [{\"colorbar\": {\"outlinewidth\": 0, \"ticks\": \"\"}, \"colorscale\": [[0.0, \"#0d0887\"], [0.1111111111111111, \"#46039f\"], [0.2222222222222222, \"#7201a8\"], [0.3333333333333333, \"#9c179e\"], [0.4444444444444444, \"#bd3786\"], [0.5555555555555556, \"#d8576b\"], [0.6666666666666666, \"#ed7953\"], [0.7777777777777778, \"#fb9f3a\"], [0.8888888888888888, \"#fdca26\"], [1.0, \"#f0f921\"]], \"type\": \"heatmap\"}], \"heatmapgl\": [{\"colorbar\": {\"outlinewidth\": 0, \"ticks\": \"\"}, \"colorscale\": [[0.0, \"#0d0887\"], [0.1111111111111111, \"#46039f\"], [0.2222222222222222, \"#7201a8\"], [0.3333333333333333, \"#9c179e\"], [0.4444444444444444, \"#bd3786\"], [0.5555555555555556, \"#d8576b\"], [0.6666666666666666, \"#ed7953\"], [0.7777777777777778, \"#fb9f3a\"], [0.8888888888888888, \"#fdca26\"], [1.0, \"#f0f921\"]], \"type\": \"heatmapgl\"}], \"histogram\": [{\"marker\": {\"colorbar\": {\"outlinewidth\": 0, \"ticks\": \"\"}}, \"type\": \"histogram\"}], \"histogram2d\": [{\"colorbar\": {\"outlinewidth\": 0, \"ticks\": \"\"}, \"colorscale\": [[0.0, \"#0d0887\"], [0.1111111111111111, \"#46039f\"], [0.2222222222222222, \"#7201a8\"], [0.3333333333333333, \"#9c179e\"], [0.4444444444444444, \"#bd3786\"], [0.5555555555555556, \"#d8576b\"], [0.6666666666666666, \"#ed7953\"], [0.7777777777777778, \"#fb9f3a\"], [0.8888888888888888, \"#fdca26\"], [1.0, \"#f0f921\"]], \"type\": \"histogram2d\"}], \"histogram2dcontour\": [{\"colorbar\": {\"outlinewidth\": 0, \"ticks\": \"\"}, \"colorscale\": [[0.0, \"#0d0887\"], [0.1111111111111111, \"#46039f\"], [0.2222222222222222, \"#7201a8\"], [0.3333333333333333, \"#9c179e\"], [0.4444444444444444, \"#bd3786\"], [0.5555555555555556, \"#d8576b\"], [0.6666666666666666, \"#ed7953\"], [0.7777777777777778, \"#fb9f3a\"], [0.8888888888888888, \"#fdca26\"], [1.0, \"#f0f921\"]], \"type\": \"histogram2dcontour\"}], \"mesh3d\": [{\"colorbar\": {\"outlinewidth\": 0, \"ticks\": \"\"}, \"type\": \"mesh3d\"}], \"parcoords\": [{\"line\": {\"colorbar\": {\"outlinewidth\": 0, \"ticks\": \"\"}}, \"type\": \"parcoords\"}], \"pie\": [{\"automargin\": true, \"type\": \"pie\"}], \"scatter\": [{\"marker\": {\"colorbar\": {\"outlinewidth\": 0, \"ticks\": \"\"}}, \"type\": \"scatter\"}], \"scatter3d\": [{\"line\": {\"colorbar\": {\"outlinewidth\": 0, \"ticks\": \"\"}}, \"marker\": {\"colorbar\": {\"outlinewidth\": 0, \"ticks\": \"\"}}, \"type\": \"scatter3d\"}], \"scattercarpet\": [{\"marker\": {\"colorbar\": {\"outlinewidth\": 0, \"ticks\": \"\"}}, \"type\": \"scattercarpet\"}], \"scattergeo\": [{\"marker\": {\"colorbar\": {\"outlinewidth\": 0, \"ticks\": \"\"}}, \"type\": \"scattergeo\"}], \"scattergl\": [{\"marker\": {\"colorbar\": {\"outlinewidth\": 0, \"ticks\": \"\"}}, \"type\": \"scattergl\"}], \"scattermapbox\": [{\"marker\": {\"colorbar\": {\"outlinewidth\": 0, \"ticks\": \"\"}}, \"type\": \"scattermapbox\"}], \"scatterpolar\": [{\"marker\": {\"colorbar\": {\"outlinewidth\": 0, \"ticks\": \"\"}}, \"type\": \"scatterpolar\"}], \"scatterpolargl\": [{\"marker\": {\"colorbar\": {\"outlinewidth\": 0, \"ticks\": \"\"}}, \"type\": \"scatterpolargl\"}], \"scatterternary\": [{\"marker\": {\"colorbar\": {\"outlinewidth\": 0, \"ticks\": \"\"}}, \"type\": \"scatterternary\"}], \"surface\": [{\"colorbar\": {\"outlinewidth\": 0, \"ticks\": \"\"}, \"colorscale\": [[0.0, \"#0d0887\"], [0.1111111111111111, \"#46039f\"], [0.2222222222222222, \"#7201a8\"], [0.3333333333333333, \"#9c179e\"], [0.4444444444444444, \"#bd3786\"], [0.5555555555555556, \"#d8576b\"], [0.6666666666666666, \"#ed7953\"], [0.7777777777777778, \"#fb9f3a\"], [0.8888888888888888, \"#fdca26\"], [1.0, \"#f0f921\"]], \"type\": \"surface\"}], \"table\": [{\"cells\": {\"fill\": {\"color\": \"#EBF0F8\"}, \"line\": {\"color\": \"white\"}}, \"header\": {\"fill\": {\"color\": \"#C8D4E3\"}, \"line\": {\"color\": \"white\"}}, \"type\": \"table\"}]}, \"layout\": {\"annotationdefaults\": {\"arrowcolor\": \"#2a3f5f\", \"arrowhead\": 0, \"arrowwidth\": 1}, \"coloraxis\": {\"colorbar\": {\"outlinewidth\": 0, \"ticks\": \"\"}}, \"colorscale\": {\"diverging\": [[0, \"#8e0152\"], [0.1, \"#c51b7d\"], [0.2, \"#de77ae\"], [0.3, \"#f1b6da\"], [0.4, \"#fde0ef\"], [0.5, \"#f7f7f7\"], [0.6, \"#e6f5d0\"], [0.7, \"#b8e186\"], [0.8, \"#7fbc41\"], [0.9, \"#4d9221\"], [1, \"#276419\"]], \"sequential\": [[0.0, \"#0d0887\"], [0.1111111111111111, \"#46039f\"], [0.2222222222222222, \"#7201a8\"], [0.3333333333333333, \"#9c179e\"], [0.4444444444444444, \"#bd3786\"], [0.5555555555555556, \"#d8576b\"], [0.6666666666666666, \"#ed7953\"], [0.7777777777777778, \"#fb9f3a\"], [0.8888888888888888, \"#fdca26\"], [1.0, \"#f0f921\"]], \"sequentialminus\": [[0.0, \"#0d0887\"], [0.1111111111111111, \"#46039f\"], [0.2222222222222222, \"#7201a8\"], [0.3333333333333333, \"#9c179e\"], [0.4444444444444444, \"#bd3786\"], [0.5555555555555556, \"#d8576b\"], [0.6666666666666666, \"#ed7953\"], [0.7777777777777778, \"#fb9f3a\"], [0.8888888888888888, \"#fdca26\"], [1.0, \"#f0f921\"]]}, \"colorway\": [\"#636efa\", \"#EF553B\", \"#00cc96\", \"#ab63fa\", \"#FFA15A\", \"#19d3f3\", \"#FF6692\", \"#B6E880\", \"#FF97FF\", \"#FECB52\"], \"font\": {\"color\": \"#2a3f5f\"}, \"geo\": {\"bgcolor\": \"white\", \"lakecolor\": \"white\", \"landcolor\": \"#E5ECF6\", \"showlakes\": true, \"showland\": true, \"subunitcolor\": \"white\"}, \"hoverlabel\": {\"align\": \"left\"}, \"hovermode\": \"closest\", \"mapbox\": {\"style\": \"light\"}, \"paper_bgcolor\": \"white\", \"plot_bgcolor\": \"#E5ECF6\", \"polar\": {\"angularaxis\": {\"gridcolor\": \"white\", \"linecolor\": \"white\", \"ticks\": \"\"}, \"bgcolor\": \"#E5ECF6\", \"radialaxis\": {\"gridcolor\": \"white\", \"linecolor\": \"white\", \"ticks\": \"\"}}, \"scene\": {\"xaxis\": {\"backgroundcolor\": \"#E5ECF6\", \"gridcolor\": \"white\", \"gridwidth\": 2, \"linecolor\": \"white\", \"showbackground\": true, \"ticks\": \"\", \"zerolinecolor\": \"white\"}, \"yaxis\": {\"backgroundcolor\": \"#E5ECF6\", \"gridcolor\": \"white\", \"gridwidth\": 2, \"linecolor\": \"white\", \"showbackground\": true, \"ticks\": \"\", \"zerolinecolor\": \"white\"}, \"zaxis\": {\"backgroundcolor\": \"#E5ECF6\", \"gridcolor\": \"white\", \"gridwidth\": 2, \"linecolor\": \"white\", \"showbackground\": true, \"ticks\": \"\", \"zerolinecolor\": \"white\"}}, \"shapedefaults\": {\"line\": {\"color\": \"#2a3f5f\"}}, \"ternary\": {\"aaxis\": {\"gridcolor\": \"white\", \"linecolor\": \"white\", \"ticks\": \"\"}, \"baxis\": {\"gridcolor\": \"white\", \"linecolor\": \"white\", \"ticks\": \"\"}, \"bgcolor\": \"#E5ECF6\", \"caxis\": {\"gridcolor\": \"white\", \"linecolor\": \"white\", \"ticks\": \"\"}}, \"title\": {\"x\": 0.05}, \"xaxis\": {\"automargin\": true, \"gridcolor\": \"white\", \"linecolor\": \"white\", \"ticks\": \"\", \"title\": {\"standoff\": 15}, \"zerolinecolor\": \"white\", \"zerolinewidth\": 2}, \"yaxis\": {\"automargin\": true, \"gridcolor\": \"white\", \"linecolor\": \"white\", \"ticks\": \"\", \"title\": {\"standoff\": 15}, \"zerolinecolor\": \"white\", \"zerolinewidth\": 2}}}, \"title\": {\"font\": {\"color\": \"#4D5663\"}}, \"xaxis\": {\"anchor\": \"y\", \"domain\": [0.0, 0.2125], \"gridcolor\": \"#E1E5ED\", \"showgrid\": false, \"tickfont\": {\"color\": \"#4D5663\"}, \"title\": {\"font\": {\"color\": \"#4D5663\"}, \"text\": \"\"}, \"zerolinecolor\": \"#E1E5ED\"}, \"xaxis10\": {\"anchor\": \"y10\", \"domain\": [0.2625, 0.475], \"gridcolor\": \"#E1E5ED\", \"showgrid\": false, \"tickfont\": {\"color\": \"#4D5663\"}, \"title\": {\"font\": {\"color\": \"#4D5663\"}, \"text\": \"\"}, \"zerolinecolor\": \"#E1E5ED\"}, \"xaxis11\": {\"anchor\": \"y11\", \"domain\": [0.525, 0.7375], \"gridcolor\": \"#E1E5ED\", \"showgrid\": false, \"tickfont\": {\"color\": \"#4D5663\"}, \"title\": {\"font\": {\"color\": \"#4D5663\"}, \"text\": \"\"}, \"zerolinecolor\": \"#E1E5ED\"}, \"xaxis12\": {\"anchor\": \"y12\", \"domain\": [0.7875, 1.0], \"gridcolor\": \"#E1E5ED\", \"showgrid\": false, \"tickfont\": {\"color\": \"#4D5663\"}, \"title\": {\"font\": {\"color\": \"#4D5663\"}, \"text\": \"\"}, \"zerolinecolor\": \"#E1E5ED\"}, \"xaxis13\": {\"anchor\": \"y13\", \"domain\": [0.0, 0.2125], \"gridcolor\": \"#E1E5ED\", \"showgrid\": false, \"tickfont\": {\"color\": \"#4D5663\"}, \"title\": {\"font\": {\"color\": \"#4D5663\"}, \"text\": \"\"}, \"zerolinecolor\": \"#E1E5ED\"}, \"xaxis14\": {\"anchor\": \"y14\", \"domain\": [0.2625, 0.475], \"gridcolor\": \"#E1E5ED\", \"showgrid\": false, \"tickfont\": {\"color\": \"#4D5663\"}, \"title\": {\"font\": {\"color\": \"#4D5663\"}, \"text\": \"\"}, \"zerolinecolor\": \"#E1E5ED\"}, \"xaxis15\": {\"anchor\": \"y15\", \"domain\": [0.525, 0.7375], \"gridcolor\": \"#E1E5ED\", \"showgrid\": false, \"tickfont\": {\"color\": \"#4D5663\"}, \"title\": {\"font\": {\"color\": \"#4D5663\"}, \"text\": \"\"}, \"zerolinecolor\": \"#E1E5ED\"}, \"xaxis16\": {\"anchor\": \"y16\", \"domain\": [0.7875, 1.0], \"gridcolor\": \"#E1E5ED\", \"showgrid\": false, \"tickfont\": {\"color\": \"#4D5663\"}, \"title\": {\"font\": {\"color\": \"#4D5663\"}, \"text\": \"\"}, \"zerolinecolor\": \"#E1E5ED\"}, \"xaxis2\": {\"anchor\": \"y2\", \"domain\": [0.2625, 0.475], \"gridcolor\": \"#E1E5ED\", \"showgrid\": false, \"tickfont\": {\"color\": \"#4D5663\"}, \"title\": {\"font\": {\"color\": \"#4D5663\"}, \"text\": \"\"}, \"zerolinecolor\": \"#E1E5ED\"}, \"xaxis3\": {\"anchor\": \"y3\", \"domain\": [0.525, 0.7375], \"gridcolor\": \"#E1E5ED\", \"showgrid\": false, \"tickfont\": {\"color\": \"#4D5663\"}, \"title\": {\"font\": {\"color\": \"#4D5663\"}, \"text\": \"\"}, \"zerolinecolor\": \"#E1E5ED\"}, \"xaxis4\": {\"anchor\": \"y4\", \"domain\": [0.7875, 1.0], \"gridcolor\": \"#E1E5ED\", \"showgrid\": false, \"tickfont\": {\"color\": \"#4D5663\"}, \"title\": {\"font\": {\"color\": \"#4D5663\"}, \"text\": \"\"}, \"zerolinecolor\": \"#E1E5ED\"}, \"xaxis5\": {\"anchor\": \"y5\", \"domain\": [0.0, 0.2125], \"gridcolor\": \"#E1E5ED\", \"showgrid\": false, \"tickfont\": {\"color\": \"#4D5663\"}, \"title\": {\"font\": {\"color\": \"#4D5663\"}, \"text\": \"\"}, \"zerolinecolor\": \"#E1E5ED\"}, \"xaxis6\": {\"anchor\": \"y6\", \"domain\": [0.2625, 0.475], \"gridcolor\": \"#E1E5ED\", \"showgrid\": false, \"tickfont\": {\"color\": \"#4D5663\"}, \"title\": {\"font\": {\"color\": \"#4D5663\"}, \"text\": \"\"}, \"zerolinecolor\": \"#E1E5ED\"}, \"xaxis7\": {\"anchor\": \"y7\", \"domain\": [0.525, 0.7375], \"gridcolor\": \"#E1E5ED\", \"showgrid\": false, \"tickfont\": {\"color\": \"#4D5663\"}, \"title\": {\"font\": {\"color\": \"#4D5663\"}, \"text\": \"\"}, \"zerolinecolor\": \"#E1E5ED\"}, \"xaxis8\": {\"anchor\": \"y8\", \"domain\": [0.7875, 1.0], \"gridcolor\": \"#E1E5ED\", \"showgrid\": false, \"tickfont\": {\"color\": \"#4D5663\"}, \"title\": {\"font\": {\"color\": \"#4D5663\"}, \"text\": \"\"}, \"zerolinecolor\": \"#E1E5ED\"}, \"xaxis9\": {\"anchor\": \"y9\", \"domain\": [0.0, 0.2125], \"gridcolor\": \"#E1E5ED\", \"showgrid\": false, \"tickfont\": {\"color\": \"#4D5663\"}, \"title\": {\"font\": {\"color\": \"#4D5663\"}, \"text\": \"\"}, \"zerolinecolor\": \"#E1E5ED\"}, \"yaxis\": {\"anchor\": \"x\", \"domain\": [0.8025, 1.0], \"gridcolor\": \"#E1E5ED\", \"showgrid\": false, \"tickfont\": {\"color\": \"#4D5663\"}, \"title\": {\"font\": {\"color\": \"#4D5663\"}, \"text\": \"\"}, \"zerolinecolor\": \"#E1E5ED\"}, \"yaxis10\": {\"anchor\": \"x10\", \"domain\": [0.2675, 0.465], \"gridcolor\": \"#E1E5ED\", \"showgrid\": false, \"tickfont\": {\"color\": \"#4D5663\"}, \"title\": {\"font\": {\"color\": \"#4D5663\"}, \"text\": \"\"}, \"zerolinecolor\": \"#E1E5ED\"}, \"yaxis11\": {\"anchor\": \"x11\", \"domain\": [0.2675, 0.465], \"gridcolor\": \"#E1E5ED\", \"showgrid\": false, \"tickfont\": {\"color\": \"#4D5663\"}, \"title\": {\"font\": {\"color\": \"#4D5663\"}, \"text\": \"\"}, \"zerolinecolor\": \"#E1E5ED\"}, \"yaxis12\": {\"anchor\": \"x12\", \"domain\": [0.2675, 0.465], \"gridcolor\": \"#E1E5ED\", \"showgrid\": false, \"tickfont\": {\"color\": \"#4D5663\"}, \"title\": {\"font\": {\"color\": \"#4D5663\"}, \"text\": \"\"}, \"zerolinecolor\": \"#E1E5ED\"}, \"yaxis13\": {\"anchor\": \"x13\", \"domain\": [0.0, 0.1975], \"gridcolor\": \"#E1E5ED\", \"showgrid\": false, \"tickfont\": {\"color\": \"#4D5663\"}, \"title\": {\"font\": {\"color\": \"#4D5663\"}, \"text\": \"\"}, \"zerolinecolor\": \"#E1E5ED\"}, \"yaxis14\": {\"anchor\": \"x14\", \"domain\": [0.0, 0.1975], \"gridcolor\": \"#E1E5ED\", \"showgrid\": false, \"tickfont\": {\"color\": \"#4D5663\"}, \"title\": {\"font\": {\"color\": \"#4D5663\"}, \"text\": \"\"}, \"zerolinecolor\": \"#E1E5ED\"}, \"yaxis15\": {\"anchor\": \"x15\", \"domain\": [0.0, 0.1975], \"gridcolor\": \"#E1E5ED\", \"showgrid\": false, \"tickfont\": {\"color\": \"#4D5663\"}, \"title\": {\"font\": {\"color\": \"#4D5663\"}, \"text\": \"\"}, \"zerolinecolor\": \"#E1E5ED\"}, \"yaxis16\": {\"anchor\": \"x16\", \"domain\": [0.0, 0.1975], \"gridcolor\": \"#E1E5ED\", \"showgrid\": false, \"tickfont\": {\"color\": \"#4D5663\"}, \"title\": {\"font\": {\"color\": \"#4D5663\"}, \"text\": \"\"}, \"zerolinecolor\": \"#E1E5ED\"}, \"yaxis2\": {\"anchor\": \"x2\", \"domain\": [0.8025, 1.0], \"gridcolor\": \"#E1E5ED\", \"showgrid\": false, \"tickfont\": {\"color\": \"#4D5663\"}, \"title\": {\"font\": {\"color\": \"#4D5663\"}, \"text\": \"\"}, \"zerolinecolor\": \"#E1E5ED\"}, \"yaxis3\": {\"anchor\": \"x3\", \"domain\": [0.8025, 1.0], \"gridcolor\": \"#E1E5ED\", \"showgrid\": false, \"tickfont\": {\"color\": \"#4D5663\"}, \"title\": {\"font\": {\"color\": \"#4D5663\"}, \"text\": \"\"}, \"zerolinecolor\": \"#E1E5ED\"}, \"yaxis4\": {\"anchor\": \"x4\", \"domain\": [0.8025, 1.0], \"gridcolor\": \"#E1E5ED\", \"showgrid\": false, \"tickfont\": {\"color\": \"#4D5663\"}, \"title\": {\"font\": {\"color\": \"#4D5663\"}, \"text\": \"\"}, \"zerolinecolor\": \"#E1E5ED\"}, \"yaxis5\": {\"anchor\": \"x5\", \"domain\": [0.535, 0.7325], \"gridcolor\": \"#E1E5ED\", \"showgrid\": false, \"tickfont\": {\"color\": \"#4D5663\"}, \"title\": {\"font\": {\"color\": \"#4D5663\"}, \"text\": \"\"}, \"zerolinecolor\": \"#E1E5ED\"}, \"yaxis6\": {\"anchor\": \"x6\", \"domain\": [0.535, 0.7325], \"gridcolor\": \"#E1E5ED\", \"showgrid\": false, \"tickfont\": {\"color\": \"#4D5663\"}, \"title\": {\"font\": {\"color\": \"#4D5663\"}, \"text\": \"\"}, \"zerolinecolor\": \"#E1E5ED\"}, \"yaxis7\": {\"anchor\": \"x7\", \"domain\": [0.535, 0.7325], \"gridcolor\": \"#E1E5ED\", \"showgrid\": false, \"tickfont\": {\"color\": \"#4D5663\"}, \"title\": {\"font\": {\"color\": \"#4D5663\"}, \"text\": \"\"}, \"zerolinecolor\": \"#E1E5ED\"}, \"yaxis8\": {\"anchor\": \"x8\", \"domain\": [0.535, 0.7325], \"gridcolor\": \"#E1E5ED\", \"showgrid\": false, \"tickfont\": {\"color\": \"#4D5663\"}, \"title\": {\"font\": {\"color\": \"#4D5663\"}, \"text\": \"\"}, \"zerolinecolor\": \"#E1E5ED\"}, \"yaxis9\": {\"anchor\": \"x9\", \"domain\": [0.2675, 0.465], \"gridcolor\": \"#E1E5ED\", \"showgrid\": false, \"tickfont\": {\"color\": \"#4D5663\"}, \"title\": {\"font\": {\"color\": \"#4D5663\"}, \"text\": \"\"}, \"zerolinecolor\": \"#E1E5ED\"}},\n",
       "                        {\"showLink\": true, \"linkText\": \"Export to plot.ly\", \"plotlyServerURL\": \"https://plot.ly\", \"responsive\": true}\n",
       "                    ).then(function(){\n",
       "                            \n",
       "var gd = document.getElementById('2fab793d-35cc-414f-b691-ed4d6221de5c');\n",
       "var x = new MutationObserver(function (mutations, observer) {{\n",
       "        var display = window.getComputedStyle(gd).display;\n",
       "        if (!display || display === 'none') {{\n",
       "            console.log([gd, 'removed!']);\n",
       "            Plotly.purge(gd);\n",
       "            observer.disconnect();\n",
       "        }}\n",
       "}});\n",
       "\n",
       "// Listen for the removal of the full notebook cells\n",
       "var notebookContainer = gd.closest('#notebook-container');\n",
       "if (notebookContainer) {{\n",
       "    x.observe(notebookContainer, {childList: true});\n",
       "}}\n",
       "\n",
       "// Listen for the clearing of the current output cell\n",
       "var outputEl = gd.closest('.output');\n",
       "if (outputEl) {{\n",
       "    x.observe(outputEl, {childList: true});\n",
       "}}\n",
       "\n",
       "                        })\n",
       "                };\n",
       "                });\n",
       "            </script>\n",
       "        </div>"
      ]
     },
     "metadata": {},
     "output_type": "display_data"
    }
   ],
   "source": [
    "df.scatter_matrix()"
   ]
  },
  {
   "cell_type": "markdown",
   "metadata": {
    "collapsed": true
   },
   "source": [
    "# Great Job!"
   ]
  }
 ],
 "metadata": {
  "kernelspec": {
   "display_name": "Python 3",
   "language": "python",
   "name": "python3"
  },
  "language_info": {
   "codemirror_mode": {
    "name": "ipython",
    "version": 3
   },
   "file_extension": ".py",
   "mimetype": "text/x-python",
   "name": "python",
   "nbconvert_exporter": "python",
   "pygments_lexer": "ipython3",
   "version": "3.7.6"
  }
 },
 "nbformat": 4,
 "nbformat_minor": 1
}
