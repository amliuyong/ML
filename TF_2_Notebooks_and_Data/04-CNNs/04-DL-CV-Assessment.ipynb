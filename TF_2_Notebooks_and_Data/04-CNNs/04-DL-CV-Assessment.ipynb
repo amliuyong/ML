{
 "cells": [
  {
   "cell_type": "markdown",
   "metadata": {},
   "source": [
    "<strong><center>Copyright by Pierian Data Inc.</center></strong> \n",
    "<strong><center>Created by Jose Marcial Portilla.</center></strong>\n",
    "# Deep Learning for Image Classification Assessment\n",
    "\n",
    "\n",
    "Welcome to your assessment! Follow the instructions in bold below to complete the assessment.\n",
    "\n",
    "If you get stuck, check out the solutions video and notebook. (Make sure to run the solutions notebook before posting a question to the QA forum please, thanks!)\n",
    "\n",
    "------------\n",
    "\n",
    "## The Challenge\n",
    "\n",
    "**Your task is to build an image classifier with Keras and Convolutional Neural Networks for the Fashion MNIST dataset. This data set includes 10 labels of different clothing types with 28 by 28 *grayscale* images. There is a training set of 60,000 images and 10,000 test images.**\n",
    "\n",
    "    Label\tDescription\n",
    "    0\t    T-shirt/top\n",
    "    1\t    Trouser\n",
    "    2\t    Pullover\n",
    "    3\t    Dress\n",
    "    4\t    Coat\n",
    "    5\t    Sandal\n",
    "    6\t    Shirt\n",
    "    7\t    Sneaker\n",
    "    8\t    Bag\n",
    "    9\t    Ankle boot\n",
    "    \n",
    " "
   ]
  },
  {
   "cell_type": "markdown",
   "metadata": {},
   "source": [
    "## The Data\n",
    "\n",
    "**TASK 1: Run the code below to download the dataset using Keras.**"
   ]
  },
  {
   "cell_type": "code",
   "execution_count": 3,
   "metadata": {},
   "outputs": [],
   "source": [
    "from tensorflow.keras.datasets import fashion_mnist\n",
    "\n",
    "(x_train, y_train), (x_test, y_test) = fashion_mnist.load_data()"
   ]
  },
  {
   "cell_type": "markdown",
   "metadata": {},
   "source": [
    "## Visualizing the Data\n",
    "\n",
    "**TASK 2: Use matplotlib to view an image from the data set. It can be any image from the data set.**"
   ]
  },
  {
   "cell_type": "code",
   "execution_count": 4,
   "metadata": {},
   "outputs": [],
   "source": [
    "import os\n",
    "os.environ['KMP_DUPLICATE_LIB_OK']='True'\n",
    "\n",
    "import pandas as pd\n",
    "import numpy as np\n",
    "import seaborn as sns\n",
    "import matplotlib.pyplot as plt\n",
    "from matplotlib.image import imread\n",
    "import tensorflow as tf\n"
   ]
  },
  {
   "cell_type": "code",
   "execution_count": 5,
   "metadata": {},
   "outputs": [
    {
     "data": {
      "text/plain": [
       "<matplotlib.image.AxesImage at 0x1a3e35d4d0>"
      ]
     },
     "execution_count": 5,
     "metadata": {},
     "output_type": "execute_result"
    },
    {
     "data": {
      "image/png": "[encoded data removed]",
      "text/plain": [
       "<Figure size 432x288 with 1 Axes>"
      ]
     },
     "metadata": {
      "needs_background": "light"
     },
     "output_type": "display_data"
    }
   ],
   "source": [
    "plt.imshow(x_train[0])"
   ]
  },
  {
   "cell_type": "code",
   "execution_count": null,
   "metadata": {},
   "outputs": [],
   "source": []
  },
  {
   "cell_type": "code",
   "execution_count": null,
   "metadata": {},
   "outputs": [],
   "source": []
  },
  {
   "cell_type": "markdown",
   "metadata": {},
   "source": [
    "## Preprocessing the Data\n",
    "\n",
    "**TASK 3: Normalize the X train and X test data by dividing by the max value of the image arrays.**"
   ]
  },
  {
   "cell_type": "code",
   "execution_count": 6,
   "metadata": {},
   "outputs": [
    {
     "data": {
      "text/plain": [
       "255"
      ]
     },
     "execution_count": 6,
     "metadata": {},
     "output_type": "execute_result"
    }
   ],
   "source": [
    "np.max(x_train)"
   ]
  },
  {
   "cell_type": "code",
   "execution_count": 7,
   "metadata": {},
   "outputs": [],
   "source": [
    "x_train = x_train/255\n",
    "x_test = x_test/255"
   ]
  },
  {
   "cell_type": "code",
   "execution_count": 8,
   "metadata": {},
   "outputs": [
    {
     "data": {
      "text/plain": [
       "array([[[0.        , 0.        , 0.        , 0.        , 0.        ,\n",
       "         0.        , 0.        , 0.        , 0.        , 0.        ,\n",
       "         0.        , 0.        , 0.        , 0.        , 0.        ,\n",
       "         0.        , 0.        , 0.        , 0.        , 0.        ,\n",
       "         0.        , 0.        , 0.        , 0.        , 0.        ,\n",
       "         0.        , 0.        , 0.        ],\n",
       "        [0.        , 0.        , 0.        , 0.        , 0.        ,\n",
       "         0.        , 0.        , 0.        , 0.        , 0.        ,\n",
       "         0.        , 0.        , 0.        , 0.        , 0.        ,\n",
       "         0.        , 0.        , 0.        , 0.        , 0.        ,\n",
       "         0.        , 0.        , 0.        , 0.        , 0.        ,\n",
       "         0.        , 0.        , 0.        ],\n",
       "        [0.        , 0.        , 0.        , 0.        , 0.        ,\n",
       "         0.        , 0.        , 0.        , 0.        , 0.        ,\n",
       "         0.        , 0.        , 0.        , 0.        , 0.        ,\n",
       "         0.        , 0.        , 0.        , 0.        , 0.        ,\n",
       "         0.        , 0.        , 0.        , 0.        , 0.        ,\n",
       "         0.        , 0.        , 0.        ],\n",
       "        [0.        , 0.        , 0.        , 0.        , 0.        ,\n",
       "         0.        , 0.        , 0.        , 0.        , 0.        ,\n",
       "         0.        , 0.        , 0.00392157, 0.        , 0.        ,\n",
       "         0.05098039, 0.28627451, 0.        , 0.        , 0.00392157,\n",
       "         0.01568627, 0.        , 0.        , 0.        , 0.        ,\n",
       "         0.00392157, 0.00392157, 0.        ],\n",
       "        [0.        , 0.        , 0.        , 0.        , 0.        ,\n",
       "         0.        , 0.        , 0.        , 0.        , 0.        ,\n",
       "         0.        , 0.        , 0.01176471, 0.        , 0.14117647,\n",
       "         0.53333333, 0.49803922, 0.24313725, 0.21176471, 0.        ,\n",
       "         0.        , 0.        , 0.00392157, 0.01176471, 0.01568627,\n",
       "         0.        , 0.        , 0.01176471],\n",
       "        [0.        , 0.        , 0.        , 0.        , 0.        ,\n",
       "         0.        , 0.        , 0.        , 0.        , 0.        ,\n",
       "         0.        , 0.        , 0.02352941, 0.        , 0.4       ,\n",
       "         0.8       , 0.69019608, 0.5254902 , 0.56470588, 0.48235294,\n",
       "         0.09019608, 0.        , 0.        , 0.        , 0.        ,\n",
       "         0.04705882, 0.03921569, 0.        ],\n",
       "        [0.        , 0.        , 0.        , 0.        , 0.        ,\n",
       "         0.        , 0.        , 0.        , 0.        , 0.        ,\n",
       "         0.        , 0.        , 0.        , 0.        , 0.60784314,\n",
       "         0.9254902 , 0.81176471, 0.69803922, 0.41960784, 0.61176471,\n",
       "         0.63137255, 0.42745098, 0.25098039, 0.09019608, 0.30196078,\n",
       "         0.50980392, 0.28235294, 0.05882353],\n",
       "        [0.        , 0.        , 0.        , 0.        , 0.        ,\n",
       "         0.        , 0.        , 0.        , 0.        , 0.        ,\n",
       "         0.        , 0.00392157, 0.        , 0.27058824, 0.81176471,\n",
       "         0.8745098 , 0.85490196, 0.84705882, 0.84705882, 0.63921569,\n",
       "         0.49803922, 0.4745098 , 0.47843137, 0.57254902, 0.55294118,\n",
       "         0.34509804, 0.6745098 , 0.25882353],\n",
       "        [0.        , 0.        , 0.        , 0.        , 0.        ,\n",
       "         0.        , 0.        , 0.        , 0.        , 0.00392157,\n",
       "         0.00392157, 0.00392157, 0.        , 0.78431373, 0.90980392,\n",
       "         0.90980392, 0.91372549, 0.89803922, 0.8745098 , 0.8745098 ,\n",
       "         0.84313725, 0.83529412, 0.64313725, 0.49803922, 0.48235294,\n",
       "         0.76862745, 0.89803922, 0.        ],\n",
       "        [0.        , 0.        , 0.        , 0.        , 0.        ,\n",
       "         0.        , 0.        , 0.        , 0.        , 0.        ,\n",
       "         0.        , 0.        , 0.        , 0.71764706, 0.88235294,\n",
       "         0.84705882, 0.8745098 , 0.89411765, 0.92156863, 0.89019608,\n",
       "         0.87843137, 0.87058824, 0.87843137, 0.86666667, 0.8745098 ,\n",
       "         0.96078431, 0.67843137, 0.        ],\n",
       "        [0.        , 0.        , 0.        , 0.        , 0.        ,\n",
       "         0.        , 0.        , 0.        , 0.        , 0.        ,\n",
       "         0.        , 0.        , 0.        , 0.75686275, 0.89411765,\n",
       "         0.85490196, 0.83529412, 0.77647059, 0.70588235, 0.83137255,\n",
       "         0.82352941, 0.82745098, 0.83529412, 0.8745098 , 0.8627451 ,\n",
       "         0.95294118, 0.79215686, 0.        ],\n",
       "        [0.        , 0.        , 0.        , 0.        , 0.        ,\n",
       "         0.        , 0.        , 0.        , 0.        , 0.00392157,\n",
       "         0.01176471, 0.        , 0.04705882, 0.85882353, 0.8627451 ,\n",
       "         0.83137255, 0.85490196, 0.75294118, 0.6627451 , 0.89019608,\n",
       "         0.81568627, 0.85490196, 0.87843137, 0.83137255, 0.88627451,\n",
       "         0.77254902, 0.81960784, 0.20392157],\n",
       "        [0.        , 0.        , 0.        , 0.        , 0.        ,\n",
       "         0.        , 0.        , 0.        , 0.        , 0.        ,\n",
       "         0.02352941, 0.        , 0.38823529, 0.95686275, 0.87058824,\n",
       "         0.8627451 , 0.85490196, 0.79607843, 0.77647059, 0.86666667,\n",
       "         0.84313725, 0.83529412, 0.87058824, 0.8627451 , 0.96078431,\n",
       "         0.46666667, 0.65490196, 0.21960784],\n",
       "        [0.        , 0.        , 0.        , 0.        , 0.        ,\n",
       "         0.        , 0.        , 0.        , 0.        , 0.01568627,\n",
       "         0.        , 0.        , 0.21568627, 0.9254902 , 0.89411765,\n",
       "         0.90196078, 0.89411765, 0.94117647, 0.90980392, 0.83529412,\n",
       "         0.85490196, 0.8745098 , 0.91764706, 0.85098039, 0.85098039,\n",
       "         0.81960784, 0.36078431, 0.        ],\n",
       "        [0.        , 0.        , 0.00392157, 0.01568627, 0.02352941,\n",
       "         0.02745098, 0.00784314, 0.        , 0.        , 0.        ,\n",
       "         0.        , 0.        , 0.92941176, 0.88627451, 0.85098039,\n",
       "         0.8745098 , 0.87058824, 0.85882353, 0.87058824, 0.86666667,\n",
       "         0.84705882, 0.8745098 , 0.89803922, 0.84313725, 0.85490196,\n",
       "         1.        , 0.30196078, 0.        ],\n",
       "        [0.        , 0.01176471, 0.        , 0.        , 0.        ,\n",
       "         0.        , 0.        , 0.        , 0.        , 0.24313725,\n",
       "         0.56862745, 0.8       , 0.89411765, 0.81176471, 0.83529412,\n",
       "         0.86666667, 0.85490196, 0.81568627, 0.82745098, 0.85490196,\n",
       "         0.87843137, 0.8745098 , 0.85882353, 0.84313725, 0.87843137,\n",
       "         0.95686275, 0.62352941, 0.        ],\n",
       "        [0.        , 0.        , 0.        , 0.        , 0.07058824,\n",
       "         0.17254902, 0.32156863, 0.41960784, 0.74117647, 0.89411765,\n",
       "         0.8627451 , 0.87058824, 0.85098039, 0.88627451, 0.78431373,\n",
       "         0.80392157, 0.82745098, 0.90196078, 0.87843137, 0.91764706,\n",
       "         0.69019608, 0.7372549 , 0.98039216, 0.97254902, 0.91372549,\n",
       "         0.93333333, 0.84313725, 0.        ],\n",
       "        [0.        , 0.22352941, 0.73333333, 0.81568627, 0.87843137,\n",
       "         0.86666667, 0.87843137, 0.81568627, 0.8       , 0.83921569,\n",
       "         0.81568627, 0.81960784, 0.78431373, 0.62352941, 0.96078431,\n",
       "         0.75686275, 0.80784314, 0.8745098 , 1.        , 1.        ,\n",
       "         0.86666667, 0.91764706, 0.86666667, 0.82745098, 0.8627451 ,\n",
       "         0.90980392, 0.96470588, 0.        ],\n",
       "        [0.01176471, 0.79215686, 0.89411765, 0.87843137, 0.86666667,\n",
       "         0.82745098, 0.82745098, 0.83921569, 0.80392157, 0.80392157,\n",
       "         0.80392157, 0.8627451 , 0.94117647, 0.31372549, 0.58823529,\n",
       "         1.        , 0.89803922, 0.86666667, 0.7372549 , 0.60392157,\n",
       "         0.74901961, 0.82352941, 0.8       , 0.81960784, 0.87058824,\n",
       "         0.89411765, 0.88235294, 0.        ],\n",
       "        [0.38431373, 0.91372549, 0.77647059, 0.82352941, 0.87058824,\n",
       "         0.89803922, 0.89803922, 0.91764706, 0.97647059, 0.8627451 ,\n",
       "         0.76078431, 0.84313725, 0.85098039, 0.94509804, 0.25490196,\n",
       "         0.28627451, 0.41568627, 0.45882353, 0.65882353, 0.85882353,\n",
       "         0.86666667, 0.84313725, 0.85098039, 0.8745098 , 0.8745098 ,\n",
       "         0.87843137, 0.89803922, 0.11372549],\n",
       "        [0.29411765, 0.8       , 0.83137255, 0.8       , 0.75686275,\n",
       "         0.80392157, 0.82745098, 0.88235294, 0.84705882, 0.7254902 ,\n",
       "         0.77254902, 0.80784314, 0.77647059, 0.83529412, 0.94117647,\n",
       "         0.76470588, 0.89019608, 0.96078431, 0.9372549 , 0.8745098 ,\n",
       "         0.85490196, 0.83137255, 0.81960784, 0.87058824, 0.8627451 ,\n",
       "         0.86666667, 0.90196078, 0.2627451 ],\n",
       "        [0.18823529, 0.79607843, 0.71764706, 0.76078431, 0.83529412,\n",
       "         0.77254902, 0.7254902 , 0.74509804, 0.76078431, 0.75294118,\n",
       "         0.79215686, 0.83921569, 0.85882353, 0.86666667, 0.8627451 ,\n",
       "         0.9254902 , 0.88235294, 0.84705882, 0.78039216, 0.80784314,\n",
       "         0.72941176, 0.70980392, 0.69411765, 0.6745098 , 0.70980392,\n",
       "         0.80392157, 0.80784314, 0.45098039],\n",
       "        [0.        , 0.47843137, 0.85882353, 0.75686275, 0.70196078,\n",
       "         0.67058824, 0.71764706, 0.76862745, 0.8       , 0.82352941,\n",
       "         0.83529412, 0.81176471, 0.82745098, 0.82352941, 0.78431373,\n",
       "         0.76862745, 0.76078431, 0.74901961, 0.76470588, 0.74901961,\n",
       "         0.77647059, 0.75294118, 0.69019608, 0.61176471, 0.65490196,\n",
       "         0.69411765, 0.82352941, 0.36078431],\n",
       "        [0.        , 0.        , 0.29019608, 0.74117647, 0.83137255,\n",
       "         0.74901961, 0.68627451, 0.6745098 , 0.68627451, 0.70980392,\n",
       "         0.7254902 , 0.7372549 , 0.74117647, 0.7372549 , 0.75686275,\n",
       "         0.77647059, 0.8       , 0.81960784, 0.82352941, 0.82352941,\n",
       "         0.82745098, 0.7372549 , 0.7372549 , 0.76078431, 0.75294118,\n",
       "         0.84705882, 0.66666667, 0.        ],\n",
       "        [0.00784314, 0.        , 0.        , 0.        , 0.25882353,\n",
       "         0.78431373, 0.87058824, 0.92941176, 0.9372549 , 0.94901961,\n",
       "         0.96470588, 0.95294118, 0.95686275, 0.86666667, 0.8627451 ,\n",
       "         0.75686275, 0.74901961, 0.70196078, 0.71372549, 0.71372549,\n",
       "         0.70980392, 0.69019608, 0.65098039, 0.65882353, 0.38823529,\n",
       "         0.22745098, 0.        , 0.        ],\n",
       "        [0.        , 0.        , 0.        , 0.        , 0.        ,\n",
       "         0.        , 0.        , 0.15686275, 0.23921569, 0.17254902,\n",
       "         0.28235294, 0.16078431, 0.1372549 , 0.        , 0.        ,\n",
       "         0.        , 0.        , 0.        , 0.        , 0.        ,\n",
       "         0.        , 0.        , 0.        , 0.        , 0.        ,\n",
       "         0.        , 0.        , 0.        ],\n",
       "        [0.        , 0.        , 0.        , 0.        , 0.        ,\n",
       "         0.        , 0.        , 0.        , 0.        , 0.        ,\n",
       "         0.        , 0.        , 0.        , 0.        , 0.        ,\n",
       "         0.        , 0.        , 0.        , 0.        , 0.        ,\n",
       "         0.        , 0.        , 0.        , 0.        , 0.        ,\n",
       "         0.        , 0.        , 0.        ],\n",
       "        [0.        , 0.        , 0.        , 0.        , 0.        ,\n",
       "         0.        , 0.        , 0.        , 0.        , 0.        ,\n",
       "         0.        , 0.        , 0.        , 0.        , 0.        ,\n",
       "         0.        , 0.        , 0.        , 0.        , 0.        ,\n",
       "         0.        , 0.        , 0.        , 0.        , 0.        ,\n",
       "         0.        , 0.        , 0.        ]]])"
      ]
     },
     "execution_count": 8,
     "metadata": {},
     "output_type": "execute_result"
    }
   ],
   "source": [
    "x_train[0:1]"
   ]
  },
  {
   "cell_type": "markdown",
   "metadata": {},
   "source": [
    "**Task 4: Reshape the X arrays to include a 4 dimension of the single channel. Similar to what we did for the numbers MNIST data set.**"
   ]
  },
  {
   "cell_type": "code",
   "execution_count": 9,
   "metadata": {},
   "outputs": [
    {
     "data": {
      "text/plain": [
       "(60000, 28, 28)"
      ]
     },
     "execution_count": 9,
     "metadata": {},
     "output_type": "execute_result"
    }
   ],
   "source": [
    "x_train.shape"
   ]
  },
  {
   "cell_type": "code",
   "execution_count": 10,
   "metadata": {},
   "outputs": [
    {
     "data": {
      "text/plain": [
       "((60000, 28, 28, 1), (10000, 28, 28, 1))"
      ]
     },
     "execution_count": 10,
     "metadata": {},
     "output_type": "execute_result"
    }
   ],
   "source": [
    "#x_train = np.expand_dims(x_train, -1)\n",
    "#x_test = np.expand_dims(x_test, -1)\n",
    "\n",
    "x_train = x_train.reshape(-1, 28, 28, 1)\n",
    "x_test = x_test.reshape(-1, 28, 28, 1)\n",
    "\n",
    "x_train.shape, x_test.shape"
   ]
  },
  {
   "cell_type": "code",
   "execution_count": null,
   "metadata": {},
   "outputs": [],
   "source": []
  },
  {
   "cell_type": "markdown",
   "metadata": {},
   "source": [
    "**TASK 5: Convert the y_train and y_test values to be one-hot encoded for categorical analysis by Keras.**"
   ]
  },
  {
   "cell_type": "code",
   "execution_count": 11,
   "metadata": {},
   "outputs": [],
   "source": [
    "import tensorflow as tf\n",
    "from tensorflow.keras.utils import to_categorical\n",
    "\n",
    "y_train_cat = to_categorical(y_train)\n",
    "y_test_cat = to_categorical(y_test)"
   ]
  },
  {
   "cell_type": "code",
   "execution_count": 12,
   "metadata": {},
   "outputs": [
    {
     "data": {
      "text/plain": [
       "(array([0., 0., 0., 0., 0., 0., 0., 0., 0., 1.], dtype=float32),\n",
       " array([[0., 0., 0., ..., 0., 0., 1.],\n",
       "        [0., 0., 1., ..., 0., 0., 0.],\n",
       "        [0., 1., 0., ..., 0., 0., 0.],\n",
       "        ...,\n",
       "        [0., 0., 0., ..., 0., 1., 0.],\n",
       "        [0., 1., 0., ..., 0., 0., 0.],\n",
       "        [0., 0., 0., ..., 0., 0., 0.]], dtype=float32))"
      ]
     },
     "execution_count": 12,
     "metadata": {},
     "output_type": "execute_result"
    }
   ],
   "source": [
    "y_train_cat[0], y_test_cat"
   ]
  },
  {
   "cell_type": "code",
   "execution_count": null,
   "metadata": {},
   "outputs": [],
   "source": []
  },
  {
   "cell_type": "code",
   "execution_count": null,
   "metadata": {},
   "outputs": [],
   "source": []
  },
  {
   "cell_type": "markdown",
   "metadata": {},
   "source": [
    "## Building the Model\n",
    "\n",
    "**TASK 5: Use Keras to create a model consisting of at least the following layers (but feel free to experiment):**\n",
    "\n",
    "* 2D Convolutional Layer, filters=32 and kernel_size=(4,4)\n",
    "* Pooling Layer where pool_size = (2,2)\n",
    "\n",
    "* Flatten Layer\n",
    "* Dense Layer (128 Neurons, but feel free to play around with this value), RELU activation\n",
    "\n",
    "* Final Dense Layer of 10 Neurons with a softmax activation\n",
    "\n",
    "**Then compile the model with these parameters: loss='categorical_crossentropy', optimizer='rmsprop', metrics=['accuracy']**"
   ]
  },
  {
   "cell_type": "code",
   "execution_count": 13,
   "metadata": {},
   "outputs": [
    {
     "data": {
      "text/plain": [
       "(28, 28, 1)"
      ]
     },
     "execution_count": 13,
     "metadata": {},
     "output_type": "execute_result"
    }
   ],
   "source": [
    "input_shape = x_train.shape[1:]\n",
    "input_shape"
   ]
  },
  {
   "cell_type": "code",
   "execution_count": 36,
   "metadata": {},
   "outputs": [],
   "source": [
    "\n",
    "from tensorflow.keras.models import Sequential\n",
    "from tensorflow.keras.layers import Dropout, Flatten, Dense, Input\n",
    "from tensorflow.keras.layers import Conv2D, MaxPooling2D\n",
    "\n",
    "\n",
    "model = Sequential()\n",
    "\n",
    "model.add(Input(shape=input_shape))\n",
    "model.add(Conv2D(filters=32, kernel_size=(4,4), activation='relu'))\n",
    "\n",
    "# model.add(Conv2D(filters=32, kernel_size=(4,4), input_shape=x_train.shape[1:], activation='relu'))\n",
    "\n",
    "model.add(MaxPooling2D(pool_size=(2, 2)))\n",
    "\n",
    "model.add(Flatten())\n",
    "\n",
    "model.add(Dense(128, activation='relu'))\n",
    "\n",
    "model.add(Dense(10, activation='softmax'))\n",
    "\n",
    "\n",
    "model.compile(loss='categorical_crossentropy',\n",
    "              optimizer='adam',\n",
    "              metrics=['accuracy'])\n"
   ]
  },
  {
   "cell_type": "code",
   "execution_count": 37,
   "metadata": {},
   "outputs": [
    {
     "name": "stdout",
     "output_type": "stream",
     "text": [
      "Model: \"sequential_1\"\n",
      "_________________________________________________________________\n",
      "Layer (type)                 Output Shape              Param #   \n",
      "=================================================================\n",
      "conv2d_1 (Conv2D)            (None, 25, 25, 32)        544       \n",
      "_________________________________________________________________\n",
      "max_pooling2d_1 (MaxPooling2 (None, 12, 12, 32)        0         \n",
      "_________________________________________________________________\n",
      "flatten_1 (Flatten)          (None, 4608)              0         \n",
      "_________________________________________________________________\n",
      "dense_2 (Dense)              (None, 128)               589952    \n",
      "_________________________________________________________________\n",
      "dense_3 (Dense)              (None, 10)                1290      \n",
      "=================================================================\n",
      "Total params: 591,786\n",
      "Trainable params: 591,786\n",
      "Non-trainable params: 0\n",
      "_________________________________________________________________\n"
     ]
    }
   ],
   "source": [
    "model.summary()"
   ]
  },
  {
   "cell_type": "code",
   "execution_count": null,
   "metadata": {},
   "outputs": [],
   "source": []
  },
  {
   "cell_type": "markdown",
   "metadata": {},
   "source": [
    "### Training the Model\n",
    "**TASK 6: Train/Fit the model to the x_train set. Amount of epochs is up to you.**"
   ]
  },
  {
   "cell_type": "code",
   "execution_count": 39,
   "metadata": {},
   "outputs": [
    {
     "name": "stdout",
     "output_type": "stream",
     "text": [
      "Train on 60000 samples, validate on 10000 samples\n",
      "Epoch 1/10\n",
      "60000/60000 [==============================] - 28s 463us/sample - loss: 0.0669 - accuracy: 0.9754 - val_loss: 0.3364 - val_accuracy: 0.9124\n",
      "Epoch 2/10\n",
      "60000/60000 [==============================] - 27s 458us/sample - loss: 0.0616 - accuracy: 0.9770 - val_loss: 0.3325 - val_accuracy: 0.9123\n",
      "Epoch 3/10\n",
      "60000/60000 [==============================] - 28s 459us/sample - loss: 0.0515 - accuracy: 0.9812 - val_loss: 0.3685 - val_accuracy: 0.9165\n",
      "Epoch 4/10\n",
      "60000/60000 [==============================] - 28s 459us/sample - loss: 0.0440 - accuracy: 0.9839 - val_loss: 0.4172 - val_accuracy: 0.9078\n",
      "Epoch 5/10\n",
      "60000/60000 [==============================] - 28s 462us/sample - loss: 0.0396 - accuracy: 0.9852 - val_loss: 0.4143 - val_accuracy: 0.9118\n",
      "Epoch 6/10\n",
      "60000/60000 [==============================] - 28s 472us/sample - loss: 0.0371 - accuracy: 0.9865 - val_loss: 0.4368 - val_accuracy: 0.9163\n",
      "Epoch 7/10\n",
      "60000/60000 [==============================] - 29s 476us/sample - loss: 0.0309 - accuracy: 0.9889 - val_loss: 0.4774 - val_accuracy: 0.9118\n",
      "Epoch 8/10\n",
      "60000/60000 [==============================] - 30s 502us/sample - loss: 0.0306 - accuracy: 0.9889 - val_loss: 0.4727 - val_accuracy: 0.9119\n",
      "Epoch 9/10\n",
      "60000/60000 [==============================] - 28s 473us/sample - loss: 0.0275 - accuracy: 0.9899 - val_loss: 0.4937 - val_accuracy: 0.9129\n",
      "Epoch 10/10\n",
      "60000/60000 [==============================] - 27s 455us/sample - loss: 0.0230 - accuracy: 0.9923 - val_loss: 0.5257 - val_accuracy: 0.9131\n"
     ]
    },
    {
     "data": {
      "text/plain": [
       "<tensorflow.python.keras.callbacks.History at 0x1a70085e50>"
      ]
     },
     "execution_count": 39,
     "metadata": {},
     "output_type": "execute_result"
    }
   ],
   "source": [
    "model.fit(x_train, y_train_cat, epochs=10, validation_data=(x_test, y_test_cat), batch_size=32)"
   ]
  },
  {
   "cell_type": "markdown",
   "metadata": {},
   "source": [
    "### Evaluating the Model\n",
    "\n",
    "**TASK 7: Show the accuracy,precision,recall,f1-score the model achieved on the x_test data set. Keep in mind, there are quite a few ways to do this, but we recommend following the same procedure we showed in the MNIST lecture.**"
   ]
  },
  {
   "cell_type": "code",
   "execution_count": 43,
   "metadata": {},
   "outputs": [],
   "source": [
    "history = pd.DataFrame(model.history.history)"
   ]
  },
  {
   "cell_type": "code",
   "execution_count": 44,
   "metadata": {},
   "outputs": [],
   "source": [
    "from sklearn.metrics import classification_report, confusion_matrix"
   ]
  },
  {
   "cell_type": "code",
   "execution_count": 47,
   "metadata": {},
   "outputs": [
    {
     "data": {
      "text/plain": [
       "<matplotlib.axes._subplots.AxesSubplot at 0x1a70397b90>"
      ]
     },
     "execution_count": 47,
     "metadata": {},
     "output_type": "execute_result"
    },
    {
     "data": {
      "image/png": "[encoded data removed]",
      "text/plain": [
       "<Figure size 432x288 with 1 Axes>"
      ]
     },
     "metadata": {
      "needs_background": "light"
     },
     "output_type": "display_data"
    }
   ],
   "source": [
    "history[['loss', 'val_loss']].plot()"
   ]
  },
  {
   "cell_type": "code",
   "execution_count": null,
   "metadata": {},
   "outputs": [],
   "source": [
    "model.evaluate(x_test, y_test_cat, verbose=2)"
   ]
  },
  {
   "cell_type": "code",
   "execution_count": null,
   "metadata": {},
   "outputs": [],
   "source": [
    "y_test_hat= model.predict_classes(x_test)"
   ]
  },
  {
   "cell_type": "code",
   "execution_count": null,
   "metadata": {},
   "outputs": [],
   "source": [
    "y_test_hat"
   ]
  },
  {
   "cell_type": "code",
   "execution_count": null,
   "metadata": {},
   "outputs": [],
   "source": [
    "print(classification_report(y_test, y_test_hat))"
   ]
  },
  {
   "cell_type": "code",
   "execution_count": null,
   "metadata": {},
   "outputs": [],
   "source": [
    "print(confusion_matrix(y_test, y_test_hat))"
   ]
  },
  {
   "cell_type": "code",
   "execution_count": null,
   "metadata": {
    "scrolled": true
   },
   "outputs": [],
   "source": [
    "sns.heatmap(confusion_matrix(y_test, y_test_hat), annot=True, cmap='coolwarm')"
   ]
  },
  {
   "cell_type": "markdown",
   "metadata": {},
   "source": [
    "# Great Job!"
   ]
  }
 ],
 "metadata": {
  "kernelspec": {
   "display_name": "Python 3",
   "language": "python",
   "name": "python3"
  },
  "language_info": {
   "codemirror_mode": {
    "name": "ipython",
    "version": 3
   },
   "file_extension": ".py",
   "mimetype": "text/x-python",
   "name": "python",
   "nbconvert_exporter": "python",
   "pygments_lexer": "ipython3",
   "version": "3.7.6"
  }
 },
 "nbformat": 4,
 "nbformat_minor": 2
}
